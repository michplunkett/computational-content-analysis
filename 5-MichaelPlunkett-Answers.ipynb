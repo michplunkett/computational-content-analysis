{
 "cells": [
  {
   "cell_type": "code",
   "execution_count": 36,
   "id": "initial_id",
   "metadata": {
    "ExecuteTime": {
     "end_time": "2024-02-05T23:17:37.613344Z",
     "start_time": "2024-02-05T23:17:37.562848Z"
    },
    "collapsed": true
   },
   "outputs": [],
   "source": [
    "import os\n",
    "\n",
    "import lucem_illud\n",
    "import matplotlib.pyplot as plt\n",
    "import numpy as np\n",
    "import pandas as pd\n",
    "import seaborn\n",
    "import sklearn\n",
    "import sklearn.ensemble\n",
    "import sklearn.naive_bayes\n",
    "import sklearn.neighbors\n",
    "import sklearn.neural_network\n",
    "import sklearn.tree\n",
    "\n",
    "%matplotlib inline"
   ]
  },
  {
   "cell_type": "markdown",
   "id": "5dbb91751449d0ac",
   "metadata": {
    "collapsed": false
   },
   "source": [
    "# Constants, Utility Functions, and Data Importing"
   ]
  },
  {
   "cell_type": "code",
   "execution_count": 138,
   "id": "a85842706707fe63",
   "metadata": {
    "collapsed": false,
    "ExecuteTime": {
     "end_time": "2024-02-06T01:14:29.576394Z",
     "start_time": "2024-02-06T01:14:29.527590Z"
    }
   },
   "outputs": [],
   "source": [
    "# Constants\n",
    "NOISE = 0.2\n",
    "TEST_SPLIT = 0.2\n",
    "NUM_PER_CATEGORY = 750"
   ]
  },
  {
   "cell_type": "code",
   "execution_count": 139,
   "id": "d06bd1e4a8c2b26e",
   "metadata": {
    "collapsed": false,
    "ExecuteTime": {
     "end_time": "2024-02-06T01:14:29.828686Z",
     "start_time": "2024-02-06T01:14:29.795Z"
    }
   },
   "outputs": [],
   "source": [
    "# Utility Functions\n",
    "\n",
    "\n",
    "def plotter(df: pd.DataFrame, category_key: str = \"category\"):\n",
    "    fig, ax = plt.subplots(figsize=(10, 10))\n",
    "    pallet = seaborn.color_palette(\n",
    "        palette=\"rainbow\", n_colors=len(set(df[category_key]))\n",
    "    )\n",
    "    for i, cat in enumerate(set(df[category_key])):\n",
    "        a = np.stack(df[df[category_key] == cat][\"vect\"])\n",
    "        ax.scatter(a[:, 0], a[:, 1], c=pallet[i], label=cat)\n",
    "    ax.legend(loc=\"center right\", title=\"Categories\")\n",
    "    ax.axis(\"off\")\n",
    "    plt.show()\n",
    "    plt.close()\n",
    "\n",
    "\n",
    "def pca_split_stats(\n",
    "    test_df: pd.DataFrame,\n",
    "    train_df: pd.DataFrame,\n",
    "    red_pca_key: str,\n",
    "    category_key: str = \"category\",\n",
    ") -> None:\n",
    "    logistic = sklearn.linear_model.LogisticRegression()\n",
    "    train_df[red_pca_key] = train_df[\"pca\"].apply(lambda x: x[:400])\n",
    "    test_df[red_pca_key] = test_df[\"pca\"].apply(lambda x: x[:400])\n",
    "\n",
    "    logistic.fit(np.stack(train_df[red_pca_key], axis=0), train_df[category_key])\n",
    "\n",
    "    print(\"Training:\")\n",
    "    print(\n",
    "        logistic.score(np.stack(train_df[red_pca_key], axis=0), train_df[category_key])\n",
    "    )\n",
    "    print(\"Testing:\")\n",
    "    print(logistic.score(np.stack(test_df[red_pca_key], axis=0), test_df[category_key]))\n",
    "\n",
    "\n",
    "def classifier_evaluation(train_df: pd.DataFrame, test_df: pd.DataFrame) -> None:\n",
    "    classifiers = [\n",
    "        (sklearn.naive_bayes.GaussianNB(), \"Gaussian\"),\n",
    "        (sklearn.svm.SVC(kernel=\"linear\", probability=True), \"Linear SVC\"),\n",
    "        (\n",
    "            sklearn.svm.SVC(kernel=\"poly\", degree=3, probability=True),\n",
    "            \"Poly SVC\",\n",
    "        ),\n",
    "        (\n",
    "            sklearn.neighbors.KNeighborsClassifier(5, weights=\"distance\"),\n",
    "            \"KNN\",\n",
    "        ),\n",
    "        (sklearn.linear_model.LogisticRegression(), \"Logistic Regression\"),\n",
    "        (sklearn.tree.DecisionTreeClassifier(), \"Decision Tree\"),\n",
    "        (sklearn.ensemble.RandomForestClassifier(), \"Random Forest\"),\n",
    "        (sklearn.neural_network.MLPClassifier(), \"MLP\"),\n",
    "        (sklearn.ensemble.GradientBoostingClassifier(), \"Gradient Boosting\"),\n",
    "    ]\n",
    "\n",
    "    metrics_df = pd.DataFrame(\n",
    "        columns=[\n",
    "            \"Classifier\",\n",
    "            \"True Pos\",\n",
    "            \"False Pos\",\n",
    "            \"True Neg\",\n",
    "            \"False Neg\",\n",
    "        ]\n",
    "    )\n",
    "\n",
    "    for clf, name in classifiers:\n",
    "        clf.fit(np.stack(train_df[\"vect\"], axis=0), train_df[\"category\"])\n",
    "        # lucem_illud.evaluateClassifier(clf, test_df)\n",
    "        predictions = clf.predict(np.stack(test_df[\"vect\"], axis=0))\n",
    "        mat = sklearn.metrics.confusion_matrix(test_df[\"category\"], predictions)\n",
    "        metrics_df = pd.concat(\n",
    "            [\n",
    "                metrics_df,\n",
    "                pd.DataFrame(\n",
    "                    [\n",
    "                        {\n",
    "                            \"Classifier\": name,\n",
    "                            \"True Pos\": mat[0][0],\n",
    "                            \"False Pos\": mat[0][1],\n",
    "                            \"True Neg\": mat[1][0],\n",
    "                            \"False Neg\": mat[1][1],\n",
    "                        }\n",
    "                    ]\n",
    "                ),\n",
    "            ],\n",
    "            ignore_index=True,\n",
    "        )\n",
    "        # lucem_illud.plotConfusionMatrix(clf, test_df)\n",
    "        # lucem_illud.plotMultiROC(clf, test_df)\n",
    "        # lucem_illud.plotregions(clf, train_df)\n",
    "    print(metrics_df)"
   ]
  },
  {
   "cell_type": "code",
   "execution_count": 140,
   "id": "aff1aca6913b63a4",
   "metadata": {
    "collapsed": false,
    "ExecuteTime": {
     "end_time": "2024-02-06T01:14:30.045931Z",
     "start_time": "2024-02-06T01:14:30.008196Z"
    }
   },
   "outputs": [
    {
     "data": {
      "text/plain": "                                            comments disposition  \\\n0  A person was transported to Comer Hospital by ...      Closed   \n1  Catalytic converter taken from a 2015 Toyota p...        Open   \n2  Debit and credit cards taken from wallet in un...        Open   \n3  Boyfriend battered girlfriend in off-campus pr...        Open   \n4  A known suspect entered the off-campus store a...    Referred   \n\n                   incident  \\\n0   Mental Health Transport   \n1  Theft from Motor Vehicle   \n2                     Theft   \n3          Domestic Battery   \n4       Information / Theft   \n\n                                            location  \\\n0  6300 S. University Ave. (S. Woodlawn Ave. Char...   \n1                      1210 E. 57th St. (Public Way)   \n2                     900 E. 57th St. (Knapp Center)   \n3                6040 S. Harper Ave. (Apt. Building)   \n4                          1346 E. 53rd St. (Target)   \n\n                               occurred predicted_incident  \\\n0                       2/1/24 10:10 AM               None   \n1  1/31/24 to 2/1/24 6:00 PM to 7:00 AM               None   \n2             2/1/24 9:50 AM to 4:30 PM               None   \n3                        2/1/24 2:45 PM               None   \n4                      1/31/24 12:15 PM               None   \n\n                    reported reported_date      ucpd_id  \\\n0  2024-02-01T10:10:00-06:00    2024-02-01     24-00114   \n1  2024-02-01T10:18:00-06:00    2024-02-01     24-00115   \n2  2024-02-01T17:54:00-06:00    2024-02-01     24-00116   \n3  2024-02-01T15:45:00-06:00    2024-02-01     24-00117   \n4  2024-01-31T14:16:00-06:00    2024-01-31  2024-004118   \n\n                           validated_address  \\\n0  6300 S UNIVERSITY AVE, CHICAGO, IL, 60637   \n1         1210 E 57TH ST, CHICAGO, IL, 60637   \n2          900 E 57TH ST, CHICAGO, IL, 60637   \n3      6040 S HARPER AVE, CHICAGO, IL, 60637   \n4         1346 E 53RD ST, CHICAGO, IL, 60615   \n\n                      validated_location  \\\n0   41.78045407997166,-87.59732203570559   \n1   41.79150658678615,-87.59602168542061   \n2  41.791423455510476,-87.60366291896175   \n3   41.78472618578524,-87.58821677767634   \n4     41.79955044222366,-87.593062823983   \n\n                                      tokenized_text  \\\n0  [A, person, was, transported, to, Comer, Hospi...   \n1  [Catalytic, converter, taken, from, a, 2015, T...   \n2  [Debit, and, credit, cards, taken, from, walle...   \n3  [Boyfriend, battered, girlfriend, in, off, cam...   \n4  [A, known, suspect, entered, the, off, campus,...   \n\n                                     normalized_text  \n0  [person, transport, comer, hospital, cfd, ems,...  \n1  [catalytic, converter, take, toyota, park, str...  \n2  [debit, credit, card, take, wallet, unattended...  \n3  [boyfriend, batter, girlfriend, campus, privat...  \n4  [know, suspect, enter, campus, store, take, me...  ",
      "text/html": "<div>\n<style scoped>\n    .dataframe tbody tr th:only-of-type {\n        vertical-align: middle;\n    }\n\n    .dataframe tbody tr th {\n        vertical-align: top;\n    }\n\n    .dataframe thead th {\n        text-align: right;\n    }\n</style>\n<table border=\"1\" class=\"dataframe\">\n  <thead>\n    <tr style=\"text-align: right;\">\n      <th></th>\n      <th>comments</th>\n      <th>disposition</th>\n      <th>incident</th>\n      <th>location</th>\n      <th>occurred</th>\n      <th>predicted_incident</th>\n      <th>reported</th>\n      <th>reported_date</th>\n      <th>ucpd_id</th>\n      <th>validated_address</th>\n      <th>validated_location</th>\n      <th>tokenized_text</th>\n      <th>normalized_text</th>\n    </tr>\n  </thead>\n  <tbody>\n    <tr>\n      <th>0</th>\n      <td>A person was transported to Comer Hospital by ...</td>\n      <td>Closed</td>\n      <td>Mental Health Transport</td>\n      <td>6300 S. University Ave. (S. Woodlawn Ave. Char...</td>\n      <td>2/1/24 10:10 AM</td>\n      <td>None</td>\n      <td>2024-02-01T10:10:00-06:00</td>\n      <td>2024-02-01</td>\n      <td>24-00114</td>\n      <td>6300 S UNIVERSITY AVE, CHICAGO, IL, 60637</td>\n      <td>41.78045407997166,-87.59732203570559</td>\n      <td>[A, person, was, transported, to, Comer, Hospi...</td>\n      <td>[person, transport, comer, hospital, cfd, ems,...</td>\n    </tr>\n    <tr>\n      <th>1</th>\n      <td>Catalytic converter taken from a 2015 Toyota p...</td>\n      <td>Open</td>\n      <td>Theft from Motor Vehicle</td>\n      <td>1210 E. 57th St. (Public Way)</td>\n      <td>1/31/24 to 2/1/24 6:00 PM to 7:00 AM</td>\n      <td>None</td>\n      <td>2024-02-01T10:18:00-06:00</td>\n      <td>2024-02-01</td>\n      <td>24-00115</td>\n      <td>1210 E 57TH ST, CHICAGO, IL, 60637</td>\n      <td>41.79150658678615,-87.59602168542061</td>\n      <td>[Catalytic, converter, taken, from, a, 2015, T...</td>\n      <td>[catalytic, converter, take, toyota, park, str...</td>\n    </tr>\n    <tr>\n      <th>2</th>\n      <td>Debit and credit cards taken from wallet in un...</td>\n      <td>Open</td>\n      <td>Theft</td>\n      <td>900 E. 57th St. (Knapp Center)</td>\n      <td>2/1/24 9:50 AM to 4:30 PM</td>\n      <td>None</td>\n      <td>2024-02-01T17:54:00-06:00</td>\n      <td>2024-02-01</td>\n      <td>24-00116</td>\n      <td>900 E 57TH ST, CHICAGO, IL, 60637</td>\n      <td>41.791423455510476,-87.60366291896175</td>\n      <td>[Debit, and, credit, cards, taken, from, walle...</td>\n      <td>[debit, credit, card, take, wallet, unattended...</td>\n    </tr>\n    <tr>\n      <th>3</th>\n      <td>Boyfriend battered girlfriend in off-campus pr...</td>\n      <td>Open</td>\n      <td>Domestic Battery</td>\n      <td>6040 S. Harper Ave. (Apt. Building)</td>\n      <td>2/1/24 2:45 PM</td>\n      <td>None</td>\n      <td>2024-02-01T15:45:00-06:00</td>\n      <td>2024-02-01</td>\n      <td>24-00117</td>\n      <td>6040 S HARPER AVE, CHICAGO, IL, 60637</td>\n      <td>41.78472618578524,-87.58821677767634</td>\n      <td>[Boyfriend, battered, girlfriend, in, off, cam...</td>\n      <td>[boyfriend, batter, girlfriend, campus, privat...</td>\n    </tr>\n    <tr>\n      <th>4</th>\n      <td>A known suspect entered the off-campus store a...</td>\n      <td>Referred</td>\n      <td>Information / Theft</td>\n      <td>1346 E. 53rd St. (Target)</td>\n      <td>1/31/24 12:15 PM</td>\n      <td>None</td>\n      <td>2024-01-31T14:16:00-06:00</td>\n      <td>2024-01-31</td>\n      <td>2024-004118</td>\n      <td>1346 E 53RD ST, CHICAGO, IL, 60615</td>\n      <td>41.79955044222366,-87.593062823983</td>\n      <td>[A, known, suspect, entered, the, off, campus,...</td>\n      <td>[know, suspect, enter, campus, store, take, me...</td>\n    </tr>\n  </tbody>\n</table>\n</div>"
     },
     "execution_count": 140,
     "metadata": {},
     "output_type": "execute_result"
    }
   ],
   "source": [
    "# Data is sourced from a personal project of mine you can find here:\n",
    "# https://ucpd-incident-reporter-7cfdc3369124.herokuapp.com/\n",
    "ucpd_feather_path = \"data/fully_tokenized_ucpd_incidents.feather\"\n",
    "if os.path.isfile(ucpd_feather_path):\n",
    "    ucpd_reports = pd.read_feather(ucpd_feather_path)\n",
    "else:\n",
    "    # WARNING: This step takes about 120 minutes, so don't run it unless you need to.\n",
    "    ucpd_reports = pd.read_csv(\"data/incident_dump.csv\")\n",
    "    ucpd_reports[\"tokenized_text\"] = ucpd_reports[\"comments\"].apply(\n",
    "        lucem_illud.word_tokenize\n",
    "    )\n",
    "    ucpd_reports[\"normalized_text\"] = ucpd_reports[\"tokenized_text\"].apply(\n",
    "        lucem_illud.normalizeTokens\n",
    "    )\n",
    "    ucpd_reports.to_feather(ucpd_feather_path)\n",
    "ucpd_reports.head(5)"
   ]
  },
  {
   "cell_type": "markdown",
   "id": "df8f5bc61d3bc989",
   "metadata": {
    "collapsed": false
   },
   "source": [
    "## <font color=\"red\">*Exercise 1*</font>\n",
    "\n",
    "<font color=\"red\">Perform a content annotation survey of some kind in which at \n",
    "least 3 people evaluate and code each piece of content, using Amazon Mechanical \n",
    "Turk as described in the [MTurk slides on Canvas](https://canvas.uchicago.edu/courses/54694/files/folder/unfiled?preview=10675152), or by hand with friends.  \n",
    "With the resulting data, calculate, visualize and discuss inter-coder agreement or \n",
    "co-variation with appropriate metrics. What does this means for the reliability of \n",
    "human assessments regarding content in your domain?"
   ]
  },
  {
   "cell_type": "code",
   "execution_count": 141,
   "id": "b28c30789992721a",
   "metadata": {
    "collapsed": false,
    "ExecuteTime": {
     "end_time": "2024-02-06T01:14:30.590355Z",
     "start_time": "2024-02-06T01:14:30.526885Z"
    }
   },
   "outputs": [],
   "source": [
    "# Figure out a way to chunk up the data"
   ]
  },
  {
   "cell_type": "markdown",
   "id": "7d4b7bd66b3e1bcf",
   "metadata": {
    "collapsed": false
   },
   "source": [
    "## <font color=\"red\">*Exercise 2*</font>\n",
    "\n",
    "<font color=\"red\">Go back through all the cells above and generate 10 distinct \n",
    "artificial datasets and classify them with all the available methods. Add a cell \n",
    "immediately below and describe which classifier(s) worked best with which \n",
    "artificially constructed data source and why. Then go through all the empirical \n",
    "datasets (i.e., Newsgroups, Senate Small, Senate Large, Email Spam) and classify \n",
    "them with all available methods. Add a second cell immediately below and describe \n",
    "which classifier(s) worked best with which data set and why.\n",
    "\n",
    "<font color=\"red\">***Stretch*** (but also required) Wander through the SKLearn \n",
    "documentation available [here](http://scikit-learn.org/stable/), particularly \n",
    "perusing the classifiers. In cells following, identify and implement a new classifier \n",
    "that we have not yet used (e.g., AdaBoost, CART) on one artificial dataset and one real \n",
    "dataset (used above). Then, in the next cell describe the classifier, detail how it \n",
    "compares with the approaches above, and why it performed better or worse than others."
   ]
  },
  {
   "cell_type": "markdown",
   "id": "2aa34cf05a573b30",
   "metadata": {
    "collapsed": false
   },
   "source": [
    "### Generated Datasets"
   ]
  },
  {
   "cell_type": "code",
   "execution_count": 142,
   "id": "d7e901d600e8261e",
   "metadata": {
    "collapsed": false,
    "ExecuteTime": {
     "end_time": "2024-02-06T01:14:31.778812Z",
     "start_time": "2024-02-06T01:14:31.431595Z"
    }
   },
   "outputs": [
    {
     "name": "stdout",
     "output_type": "stream",
     "text": [
      "            Classifier True Pos False Pos True Neg False Neg\n",
      "0             Gaussian       57        38       59        46\n",
      "1           Linear SVC       49        46       47        58\n",
      "2             Poly SVC       69        26       75        30\n",
      "3                  KNN       52        43       53        52\n",
      "4  Logistic Regression       52        43       55        50\n",
      "5        Decision Tree       53        42       56        49\n",
      "6        Random Forest       50        45       62        43\n",
      "7                  MLP       46        49       54        51\n",
      "8    Gradient Boosting       52        43       53        52\n"
     ]
    }
   ],
   "source": [
    "# Dataset 1\n",
    "classifier_evaluation(\n",
    "    *sklearn.model_selection.train_test_split(\n",
    "        lucem_illud.random(), test_size=TEST_SPLIT\n",
    "    )\n",
    ")"
   ]
  },
  {
   "cell_type": "code",
   "execution_count": 143,
   "id": "223a9e6fb2597e6f",
   "metadata": {
    "collapsed": false,
    "ExecuteTime": {
     "end_time": "2024-02-06T01:14:32.454914Z",
     "start_time": "2024-02-06T01:14:31.882806Z"
    }
   },
   "outputs": [
    {
     "name": "stdout",
     "output_type": "stream",
     "text": [
      "            Classifier True Pos False Pos True Neg False Neg\n",
      "0             Gaussian       90        16        9        85\n",
      "1           Linear SVC       88        18        7        87\n",
      "2             Poly SVC       82        24        6        88\n",
      "3                  KNN       84        22       12        82\n",
      "4  Logistic Regression       91        15        9        85\n",
      "5        Decision Tree       84        22        9        85\n",
      "6        Random Forest       90        16       13        81\n",
      "7                  MLP       92        14        9        85\n",
      "8    Gradient Boosting       87        19       12        82\n"
     ]
    }
   ],
   "source": [
    "# Dataset 2\n",
    "classifier_evaluation(*sklearn.model_selection.train_test_split(\n",
    "    lucem_illud.andSplit(NOISE), test_size=TEST_SPLIT\n",
    "))"
   ]
  },
  {
   "cell_type": "code",
   "execution_count": 152,
   "id": "36d333aa452b2a69",
   "metadata": {
    "collapsed": false,
    "ExecuteTime": {
     "end_time": "2024-02-06T01:15:03.032533Z",
     "start_time": "2024-02-06T01:15:02.308753Z"
    }
   },
   "outputs": [
    {
     "name": "stdout",
     "output_type": "stream",
     "text": [
      "            Classifier True Pos False Pos True Neg False Neg\n",
      "0             Gaussian       42        62       31        65\n",
      "1           Linear SVC       38        66       13        83\n",
      "2             Poly SVC       60        44       13        83\n",
      "3                  KNN       95         9       13        83\n",
      "4  Logistic Regression       43        61       39        57\n",
      "5        Decision Tree       90        14       12        84\n",
      "6        Random Forest       92        12       14        82\n",
      "7                  MLP       98         6       16        80\n",
      "8    Gradient Boosting       95         9       14        82\n"
     ]
    },
    {
     "name": "stderr",
     "output_type": "stream",
     "text": [
      "/Users/michaelp/Documents/GitHub/computational-content-analysis/.venv/lib/python3.11/site-packages/sklearn/neural_network/_multilayer_perceptron.py:691: ConvergenceWarning: Stochastic Optimizer: Maximum iterations (200) reached and the optimization hasn't converged yet.\n",
      "  warnings.warn(\n"
     ]
    }
   ],
   "source": [
    "# Dataset 3\n",
    "classifier_evaluation(*sklearn.model_selection.train_test_split(\n",
    "    lucem_illud.xorSplit(NOISE), test_size=TEST_SPLIT\n",
    "))"
   ]
  },
  {
   "cell_type": "code",
   "execution_count": 153,
   "id": "72421552297bdc81",
   "metadata": {
    "collapsed": false,
    "ExecuteTime": {
     "end_time": "2024-02-06T01:15:06.411107Z",
     "start_time": "2024-02-06T01:15:05.197256Z"
    }
   },
   "outputs": [
    {
     "name": "stdout",
     "output_type": "stream",
     "text": [
      "            Classifier True Pos False Pos True Neg False Neg\n",
      "0             Gaussian       89         6       15        90\n",
      "1           Linear SVC       92         3       79        26\n",
      "2             Poly SVC       95         0       91        14\n",
      "3                  KNN       87         8       15        90\n",
      "4  Logistic Regression       60        35       61        44\n",
      "5        Decision Tree       83        12       17        88\n",
      "6        Random Forest       83        12       12        93\n",
      "7                  MLP       90         5       17        88\n",
      "8    Gradient Boosting       85        10       11        94\n"
     ]
    },
    {
     "name": "stderr",
     "output_type": "stream",
     "text": [
      "/Users/michaelp/Documents/GitHub/computational-content-analysis/.venv/lib/python3.11/site-packages/sklearn/neural_network/_multilayer_perceptron.py:691: ConvergenceWarning: Stochastic Optimizer: Maximum iterations (200) reached and the optimization hasn't converged yet.\n",
      "  warnings.warn(\n"
     ]
    }
   ],
   "source": [
    "# Dataset 4\n",
    "classifier_evaluation(*sklearn.model_selection.train_test_split(\n",
    "    lucem_illud.targetSplit(NOISE), test_size=TEST_SPLIT\n",
    "))"
   ]
  },
  {
   "cell_type": "code",
   "execution_count": 154,
   "id": "fe6ed825c884944a",
   "metadata": {
    "collapsed": false,
    "ExecuteTime": {
     "end_time": "2024-02-06T01:15:08.338328Z",
     "start_time": "2024-02-06T01:15:07.202164Z"
    }
   },
   "outputs": [
    {
     "name": "stderr",
     "output_type": "stream",
     "text": [
      "/Users/michaelp/Documents/GitHub/computational-content-analysis/.venv/lib/python3.11/site-packages/sklearn/neural_network/_multilayer_perceptron.py:691: ConvergenceWarning: Stochastic Optimizer: Maximum iterations (200) reached and the optimization hasn't converged yet.\n",
      "  warnings.warn(\n"
     ]
    },
    {
     "name": "stdout",
     "output_type": "stream",
     "text": [
      "            Classifier True Pos False Pos True Neg False Neg\n",
      "0             Gaussian       91         0        0        90\n",
      "1           Linear SVC       91         0        0        90\n",
      "2             Poly SVC       91         0        0        90\n",
      "3                  KNN       91         0        0        90\n",
      "4  Logistic Regression       91         0        0        90\n",
      "5        Decision Tree       91         0        0        90\n",
      "6        Random Forest       91         0        0        90\n",
      "7                  MLP       91         0        0        90\n",
      "8    Gradient Boosting       91         0        0        90\n"
     ]
    }
   ],
   "source": [
    "# Dataset 5\n",
    "classifier_evaluation(*sklearn.model_selection.train_test_split(\n",
    "    lucem_illud.multiBlobs(NOISE), test_size=TEST_SPLIT\n",
    "))"
   ]
  },
  {
   "cell_type": "code",
   "execution_count": 147,
   "id": "b381b692f6aa645d",
   "metadata": {
    "collapsed": false,
    "ExecuteTime": {
     "end_time": "2024-02-06T01:14:35.988046Z",
     "start_time": "2024-02-06T01:14:35.438683Z"
    }
   },
   "outputs": [
    {
     "name": "stdout",
     "output_type": "stream",
     "text": [
      "            Classifier True Pos False Pos True Neg False Neg\n",
      "0             Gaussian       84        63       81        72\n",
      "1           Linear SVC       71        76       79        74\n",
      "2             Poly SVC      102        45      105        48\n",
      "3                  KNN       76        71       84        69\n",
      "4  Logistic Regression       86        61       87        66\n",
      "5        Decision Tree       72        75       84        69\n",
      "6        Random Forest       70        77       81        72\n",
      "7                  MLP      107        40      103        50\n",
      "8    Gradient Boosting       80        67       88        65\n"
     ]
    }
   ],
   "source": [
    "# Dataset 6\n",
    "classifier_evaluation(*sklearn.model_selection.train_test_split(\n",
    "    lucem_illud.random(NUM_PER_CATEGORY), test_size=TEST_SPLIT\n",
    "))"
   ]
  },
  {
   "cell_type": "code",
   "execution_count": 148,
   "id": "2572b57dc5560aa1",
   "metadata": {
    "collapsed": false,
    "ExecuteTime": {
     "end_time": "2024-02-06T01:14:36.948010Z",
     "start_time": "2024-02-06T01:14:36.005024Z"
    }
   },
   "outputs": [
    {
     "name": "stdout",
     "output_type": "stream",
     "text": [
      "            Classifier True Pos False Pos True Neg False Neg\n",
      "0             Gaussian      139        12        8       141\n",
      "1           Linear SVC      140        11        8       141\n",
      "2             Poly SVC      134        17        5       144\n",
      "3                  KNN      132        19       17       132\n",
      "4  Logistic Regression      139        12        8       141\n",
      "5        Decision Tree      135        16       14       135\n",
      "6        Random Forest      136        15       15       134\n",
      "7                  MLP      140        11        9       140\n",
      "8    Gradient Boosting      138        13       13       136\n"
     ]
    }
   ],
   "source": [
    "# Dataset 7\n",
    "classifier_evaluation(*sklearn.model_selection.train_test_split(\n",
    "    lucem_illud.andSplit(NOISE, NUM_PER_CATEGORY), test_size=TEST_SPLIT\n",
    "))"
   ]
  },
  {
   "cell_type": "code",
   "execution_count": 149,
   "id": "b2fdf1170d3f607f",
   "metadata": {
    "collapsed": false,
    "ExecuteTime": {
     "end_time": "2024-02-06T01:14:38.052748Z",
     "start_time": "2024-02-06T01:14:36.961854Z"
    }
   },
   "outputs": [
    {
     "name": "stdout",
     "output_type": "stream",
     "text": [
      "            Classifier True Pos False Pos True Neg False Neg\n",
      "0             Gaussian       70        77       69        84\n",
      "1           Linear SVC       68        79       29       124\n",
      "2             Poly SVC       88        59       27       126\n",
      "3                  KNN      125        22       15       138\n",
      "4  Logistic Regression       81        66       97        56\n",
      "5        Decision Tree      124        23       17       136\n",
      "6        Random Forest      125        22       14       139\n",
      "7                  MLP      129        18       13       140\n",
      "8    Gradient Boosting      131        16       16       137\n"
     ]
    }
   ],
   "source": [
    "# Dataset 8\n",
    "classifier_evaluation(*sklearn.model_selection.train_test_split(\n",
    "    lucem_illud.xorSplit(NOISE, NUM_PER_CATEGORY), test_size=TEST_SPLIT\n",
    "))"
   ]
  },
  {
   "cell_type": "code",
   "execution_count": 150,
   "id": "cdd9bf4870986c3a",
   "metadata": {
    "collapsed": false,
    "ExecuteTime": {
     "end_time": "2024-02-06T01:14:39.000026Z",
     "start_time": "2024-02-06T01:14:38.037804Z"
    }
   },
   "outputs": [
    {
     "name": "stdout",
     "output_type": "stream",
     "text": [
      "            Classifier True Pos False Pos True Neg False Neg\n",
      "0             Gaussian      147         3       22       128\n",
      "1           Linear SVC      145         5      107        43\n",
      "2             Poly SVC      150         0      130        20\n",
      "3                  KNN      141         9       21       129\n",
      "4  Logistic Regression       71        79       81        69\n",
      "5        Decision Tree      137        13       20       130\n",
      "6        Random Forest      145         5       18       132\n",
      "7                  MLP      146         4       21       129\n",
      "8    Gradient Boosting      146         4       21       129\n"
     ]
    },
    {
     "name": "stderr",
     "output_type": "stream",
     "text": [
      "/Users/michaelp/Documents/GitHub/computational-content-analysis/.venv/lib/python3.11/site-packages/sklearn/neural_network/_multilayer_perceptron.py:691: ConvergenceWarning: Stochastic Optimizer: Maximum iterations (200) reached and the optimization hasn't converged yet.\n",
      "  warnings.warn(\n"
     ]
    }
   ],
   "source": [
    "# Dataset 9\n",
    "classifier_evaluation(*sklearn.model_selection.train_test_split(\n",
    "    lucem_illud.targetSplit(NOISE, NUM_PER_CATEGORY), test_size=TEST_SPLIT\n",
    "))"
   ]
  },
  {
   "cell_type": "code",
   "execution_count": 151,
   "id": "d7e687dbcd83e640",
   "metadata": {
    "collapsed": false,
    "ExecuteTime": {
     "end_time": "2024-02-06T01:14:40.993711Z",
     "start_time": "2024-02-06T01:14:38.995803Z"
    }
   },
   "outputs": [
    {
     "name": "stderr",
     "output_type": "stream",
     "text": [
      "/Users/michaelp/Documents/GitHub/computational-content-analysis/.venv/lib/python3.11/site-packages/sklearn/linear_model/_logistic.py:469: ConvergenceWarning: lbfgs failed to converge (status=1):\n",
      "STOP: TOTAL NO. of ITERATIONS REACHED LIMIT.\n",
      "\n",
      "Increase the number of iterations (max_iter) or scale the data as shown in:\n",
      "    https://scikit-learn.org/stable/modules/preprocessing.html\n",
      "Please also refer to the documentation for alternative solver options:\n",
      "    https://scikit-learn.org/stable/modules/linear_model.html#logistic-regression\n",
      "  n_iter_i = _check_optimize_result(\n"
     ]
    },
    {
     "name": "stdout",
     "output_type": "stream",
     "text": [
      "            Classifier True Pos False Pos True Neg False Neg\n",
      "0             Gaussian      157         0        1       127\n",
      "1           Linear SVC      156         0        1       126\n",
      "2             Poly SVC      157         0        5       124\n",
      "3                  KNN      156         0        1       129\n",
      "4  Logistic Regression      156         0        1       127\n",
      "5        Decision Tree      155         0        1       122\n",
      "6        Random Forest      156         0        1       124\n",
      "7                  MLP      156         0        1       127\n",
      "8    Gradient Boosting      156         1        1       126\n"
     ]
    }
   ],
   "source": [
    "# Dataset 10\n",
    "classifier_evaluation(*sklearn.model_selection.train_test_split(\n",
    "    lucem_illud.multiBlobs(NOISE, NUM_PER_CATEGORY), test_size=TEST_SPLIT\n",
    "))"
   ]
  },
  {
   "cell_type": "code",
   "execution_count": null,
   "id": "5375dcd386f452bb",
   "metadata": {
    "collapsed": false
   },
   "outputs": [],
   "source": []
  },
  {
   "cell_type": "markdown",
   "id": "152c060c87c7a1dd",
   "metadata": {
    "collapsed": false
   },
   "source": [
    "### Empirical Datasets"
   ]
  },
  {
   "cell_type": "code",
   "execution_count": null,
   "id": "6bcb71d4683afa8f",
   "metadata": {
    "collapsed": false
   },
   "outputs": [],
   "source": []
  },
  {
   "cell_type": "markdown",
   "id": "7492cdac200a8ee4",
   "metadata": {
    "collapsed": false
   },
   "source": [
    "## <font color=\"red\">*Exercise 3*</font>\n",
    "\n",
    "<font color=\"red\">In the cells immediately following, perform logistic regression \n",
    "classification using training, testing and un-coded (i.e., data you didn't code by \n",
    "hand but want to use your model on) data from texts and hand-classifications \n",
    "associated with your final project (e.g., these could be crowd-sourced codes \n",
    "gathered through Amazon Mechanical Turk in Exercise 1). Visualize the confusion \n",
    "matrix for training and testing sets. Calculate precision, recall, the F-measure, \n",
    "and AUC, then perform an ROC visualization. How do these classifiers perform? \n",
    "Extrapolate code from these models to all un-coded data."
   ]
  },
  {
   "cell_type": "code",
   "execution_count": 21,
   "id": "6a9118ccc9481a85",
   "metadata": {
    "ExecuteTime": {
     "end_time": "2024-02-05T00:45:10.724994Z",
     "start_time": "2024-02-05T00:45:10.354499Z"
    },
    "collapsed": false
   },
   "outputs": [],
   "source": []
  },
  {
   "cell_type": "markdown",
   "id": "97dc2de83ad6231f",
   "metadata": {
    "collapsed": false
   },
   "source": [
    "## <font color=\"red\">*Exercise 4*</font>\n",
    "\n",
    "<font color=\"red\">In the cells immediately following, perform decision tree and \n",
    "random forest classification (binary, multinomial or continuous) using training, \n",
    "testing and extrapolation (un-coded) data from texts and hand-classifications \n",
    "associated with your final project. As with ***Exercise 2***, these could be \n",
    "crowdsourced codes gathered through Amazon Mechanical Turk last week. Visualize \n",
    "the classification of data points. Calculate relevant metrics (e.g., precision, \n",
    "recall, the F-measure, and AUC). Now build an ensemble classifier by bagging trees \n",
    "into a random forest. Visualize the result. How do these classifiers perform? \n",
    "What does ensemble learning do?"
   ]
  },
  {
   "cell_type": "code",
   "execution_count": 21,
   "id": "be2e65f945decf2c",
   "metadata": {
    "ExecuteTime": {
     "end_time": "2024-02-05T00:45:10.732368Z",
     "start_time": "2024-02-05T00:45:10.356217Z"
    },
    "collapsed": false
   },
   "outputs": [],
   "source": []
  },
  {
   "cell_type": "markdown",
   "id": "7b459f9a4f8cef61",
   "metadata": {
    "collapsed": false
   },
   "source": [
    "## <font color=\"red\">*Exercise 6*</font>\n",
    "\n",
    "<font color=\"red\">In the cells immediately following, perform a neural network \n",
    "classification and calculate relevant metrics (e.g., precision, recall, the \n",
    "F-measure, and AUC). How does this classify relevant to *k*-nearest neighbor, \n",
    "logistic and decision-tree approaches?"
   ]
  },
  {
   "cell_type": "code",
   "execution_count": 21,
   "id": "af75b7d8174467e2",
   "metadata": {
    "ExecuteTime": {
     "end_time": "2024-02-05T00:45:10.732458Z",
     "start_time": "2024-02-05T00:45:10.358328Z"
    },
    "collapsed": false
   },
   "outputs": [],
   "source": []
  },
  {
   "cell_type": "markdown",
   "id": "d2796a48dd01a6f9",
   "metadata": {
    "collapsed": false
   },
   "source": [
    "## <font color=\"red\">*Exercise 7*</font>\n",
    "\n",
    "<font color=\"red\">In the cells immediately following, use the pipeline functions \n",
    "or the word or sentence vector functions (e.g., similarity) to explore the social \n",
    "game underlying the production and meaning of texts associated with your final project. \n",
    "How does BERT help you gain insight regarding your research question that is similar \n",
    "and different from prior methods?"
   ]
  },
  {
   "cell_type": "code",
   "execution_count": 21,
   "id": "98b1f3a988c7ca24",
   "metadata": {
    "ExecuteTime": {
     "end_time": "2024-02-05T00:45:10.732505Z",
     "start_time": "2024-02-05T00:45:10.360204Z"
    },
    "collapsed": false
   },
   "outputs": [],
   "source": []
  },
  {
   "cell_type": "markdown",
   "id": "f83e88d8954fa9eb",
   "metadata": {
    "collapsed": false
   },
   "source": []
  }
 ],
 "metadata": {
  "kernelspec": {
   "display_name": "Python 3",
   "language": "python",
   "name": "python3"
  },
  "language_info": {
   "codemirror_mode": {
    "name": "ipython",
    "version": 2
   },
   "file_extension": ".py",
   "mimetype": "text/x-python",
   "name": "python",
   "nbconvert_exporter": "python",
   "pygments_lexer": "ipython2",
   "version": "2.7.6"
  }
 },
 "nbformat": 4,
 "nbformat_minor": 5
}
