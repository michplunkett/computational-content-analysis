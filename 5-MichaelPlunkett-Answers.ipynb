{
  "cells": [
    {
      "cell_type": "code",
      "execution_count": 1,
      "id": "initial_id",
      "metadata": {
        "ExecuteTime": {
          "end_time": "2024-02-03T23:55:39.914306Z",
          "start_time": "2024-02-03T23:55:30.593861Z"
        },
        "collapsed": true
      },
      "outputs": [
        {
          "name": "stdout",
          "output_type": "stream",
          "text": [
            "Collecting git+https://github.com/UChicago-Computational-Content-Analysis/lucem_illud.git\r\n",
            "  Cloning https://github.com/UChicago-Computational-Content-Analysis/lucem_illud.git to /private/var/folders/67/q6s_d9w52v540n1lkmrr2k740000gn/T/pip-req-build-yadsrl8p\r\n",
            "  Running command git clone --filter=blob:none --quiet https://github.com/UChicago-Computational-Content-Analysis/lucem_illud.git /private/var/folders/67/q6s_d9w52v540n1lkmrr2k740000gn/T/pip-req-build-yadsrl8p\r\n",
            "  Resolved https://github.com/UChicago-Computational-Content-Analysis/lucem_illud.git to commit b17a265d3b8253424e5b38872457f7437909a65d\r\n",
            "  Preparing metadata (setup.py) ... \u001b[?25ldone\r\n",
            "\u001b[?25hRequirement already satisfied: numpy in ./.venv/lib/python3.11/site-packages (from lucem_illud==8.0.1) (1.26.3)\r\n",
            "Requirement already satisfied: requests in ./.venv/lib/python3.11/site-packages (from lucem_illud==8.0.1) (2.31.0)\r\n",
            "Requirement already satisfied: pandas in ./.venv/lib/python3.11/site-packages (from lucem_illud==8.0.1) (2.2.0)\r\n",
            "Requirement already satisfied: python-docx in ./.venv/lib/python3.11/site-packages (from lucem_illud==8.0.1) (1.1.0)\r\n",
            "Requirement already satisfied: pillow in ./.venv/lib/python3.11/site-packages (from lucem_illud==8.0.1) (10.2.0)\r\n",
            "Requirement already satisfied: pdfminer2 in ./.venv/lib/python3.11/site-packages (from lucem_illud==8.0.1) (20151206)\r\n",
            "Requirement already satisfied: GitPython in ./.venv/lib/python3.11/site-packages (from lucem_illud==8.0.1) (3.1.41)\r\n",
            "Requirement already satisfied: wordcloud in ./.venv/lib/python3.11/site-packages (from lucem_illud==8.0.1) (1.9.3)\r\n",
            "Requirement already satisfied: scipy in ./.venv/lib/python3.11/site-packages (from lucem_illud==8.0.1) (1.12.0)\r\n",
            "Requirement already satisfied: seaborn in ./.venv/lib/python3.11/site-packages (from lucem_illud==8.0.1) (0.13.2)\r\n",
            "Requirement already satisfied: scikit-learn in ./.venv/lib/python3.11/site-packages (from lucem_illud==8.0.1) (1.4.0)\r\n",
            "Requirement already satisfied: nltk in ./.venv/lib/python3.11/site-packages (from lucem_illud==8.0.1) (3.8.1)\r\n",
            "Requirement already satisfied: gensim in ./.venv/lib/python3.11/site-packages (from lucem_illud==8.0.1) (4.3.2)\r\n",
            "Requirement already satisfied: matplotlib in ./.venv/lib/python3.11/site-packages (from lucem_illud==8.0.1) (3.8.2)\r\n",
            "Requirement already satisfied: pyanno3 in ./.venv/lib/python3.11/site-packages (from lucem_illud==8.0.1) (2.0.2)\r\n",
            "Requirement already satisfied: beautifulsoup4 in ./.venv/lib/python3.11/site-packages (from lucem_illud==8.0.1) (4.12.3)\r\n",
            "Requirement already satisfied: graphviz in ./.venv/lib/python3.11/site-packages (from lucem_illud==8.0.1) (0.20.1)\r\n",
            "Requirement already satisfied: boto3 in ./.venv/lib/python3.11/site-packages (from lucem_illud==8.0.1) (1.34.30)\r\n",
            "Requirement already satisfied: networkx in ./.venv/lib/python3.11/site-packages (from lucem_illud==8.0.1) (3.2.1)\r\n",
            "Requirement already satisfied: pydub in ./.venv/lib/python3.11/site-packages (from lucem_illud==8.0.1) (0.25.1)\r\n",
            "Requirement already satisfied: speechrecognition in ./.venv/lib/python3.11/site-packages (from lucem_illud==8.0.1) (3.10.1)\r\n",
            "Requirement already satisfied: pysoundfile in ./.venv/lib/python3.11/site-packages (from lucem_illud==8.0.1) (0.9.0.post1)\r\n",
            "Requirement already satisfied: scikit-image in ./.venv/lib/python3.11/site-packages (from lucem_illud==8.0.1) (0.22.0)\r\n",
            "Requirement already satisfied: IPython in ./.venv/lib/python3.11/site-packages (from lucem_illud==8.0.1) (8.20.0)\r\n",
            "Requirement already satisfied: spacy in ./.venv/lib/python3.11/site-packages (from lucem_illud==8.0.1) (3.7.2)\r\n",
            "Requirement already satisfied: soupsieve>1.2 in ./.venv/lib/python3.11/site-packages (from beautifulsoup4->lucem_illud==8.0.1) (2.5)\r\n",
            "Requirement already satisfied: botocore<1.35.0,>=1.34.30 in ./.venv/lib/python3.11/site-packages (from boto3->lucem_illud==8.0.1) (1.34.30)\r\n",
            "Requirement already satisfied: jmespath<2.0.0,>=0.7.1 in ./.venv/lib/python3.11/site-packages (from boto3->lucem_illud==8.0.1) (1.0.1)\r\n",
            "Requirement already satisfied: s3transfer<0.11.0,>=0.10.0 in ./.venv/lib/python3.11/site-packages (from boto3->lucem_illud==8.0.1) (0.10.0)\r\n",
            "Requirement already satisfied: smart-open>=1.8.1 in ./.venv/lib/python3.11/site-packages (from gensim->lucem_illud==8.0.1) (6.4.0)\r\n",
            "Requirement already satisfied: gitdb<5,>=4.0.1 in ./.venv/lib/python3.11/site-packages (from GitPython->lucem_illud==8.0.1) (4.0.11)\r\n",
            "Requirement already satisfied: decorator in ./.venv/lib/python3.11/site-packages (from IPython->lucem_illud==8.0.1) (5.1.1)\r\n",
            "Requirement already satisfied: jedi>=0.16 in ./.venv/lib/python3.11/site-packages (from IPython->lucem_illud==8.0.1) (0.19.1)\r\n",
            "Requirement already satisfied: matplotlib-inline in ./.venv/lib/python3.11/site-packages (from IPython->lucem_illud==8.0.1) (0.1.6)\r\n",
            "Requirement already satisfied: prompt-toolkit<3.1.0,>=3.0.41 in ./.venv/lib/python3.11/site-packages (from IPython->lucem_illud==8.0.1) (3.0.43)\r\n",
            "Requirement already satisfied: pygments>=2.4.0 in ./.venv/lib/python3.11/site-packages (from IPython->lucem_illud==8.0.1) (2.17.2)\r\n",
            "Requirement already satisfied: stack-data in ./.venv/lib/python3.11/site-packages (from IPython->lucem_illud==8.0.1) (0.6.3)\r\n",
            "Requirement already satisfied: traitlets>=5 in ./.venv/lib/python3.11/site-packages (from IPython->lucem_illud==8.0.1) (5.14.1)\r\n",
            "Requirement already satisfied: pexpect>4.3 in ./.venv/lib/python3.11/site-packages (from IPython->lucem_illud==8.0.1) (4.9.0)\r\n",
            "Requirement already satisfied: contourpy>=1.0.1 in ./.venv/lib/python3.11/site-packages (from matplotlib->lucem_illud==8.0.1) (1.2.0)\r\n",
            "Requirement already satisfied: cycler>=0.10 in ./.venv/lib/python3.11/site-packages (from matplotlib->lucem_illud==8.0.1) (0.12.1)\r\n",
            "Requirement already satisfied: fonttools>=4.22.0 in ./.venv/lib/python3.11/site-packages (from matplotlib->lucem_illud==8.0.1) (4.47.2)\r\n",
            "Requirement already satisfied: kiwisolver>=1.3.1 in ./.venv/lib/python3.11/site-packages (from matplotlib->lucem_illud==8.0.1) (1.4.5)\r\n",
            "Requirement already satisfied: packaging>=20.0 in ./.venv/lib/python3.11/site-packages (from matplotlib->lucem_illud==8.0.1) (23.2)\r\n",
            "Requirement already satisfied: pyparsing>=2.3.1 in ./.venv/lib/python3.11/site-packages (from matplotlib->lucem_illud==8.0.1) (3.1.1)\r\n",
            "Requirement already satisfied: python-dateutil>=2.7 in ./.venv/lib/python3.11/site-packages (from matplotlib->lucem_illud==8.0.1) (2.8.2)\r\n",
            "Requirement already satisfied: click in ./.venv/lib/python3.11/site-packages (from nltk->lucem_illud==8.0.1) (8.1.7)\r\n",
            "Requirement already satisfied: joblib in ./.venv/lib/python3.11/site-packages (from nltk->lucem_illud==8.0.1) (1.3.2)\r\n",
            "Requirement already satisfied: regex>=2021.8.3 in ./.venv/lib/python3.11/site-packages (from nltk->lucem_illud==8.0.1) (2023.12.25)\r\n",
            "Requirement already satisfied: tqdm in ./.venv/lib/python3.11/site-packages (from nltk->lucem_illud==8.0.1) (4.66.1)\r\n",
            "Requirement already satisfied: pytz>=2020.1 in ./.venv/lib/python3.11/site-packages (from pandas->lucem_illud==8.0.1) (2023.4)\r\n",
            "Requirement already satisfied: tzdata>=2022.7 in ./.venv/lib/python3.11/site-packages (from pandas->lucem_illud==8.0.1) (2023.4)\r\n",
            "Requirement already satisfied: six in ./.venv/lib/python3.11/site-packages (from pdfminer2->lucem_illud==8.0.1) (1.16.0)\r\n",
            "Requirement already satisfied: traits in ./.venv/lib/python3.11/site-packages (from pyanno3->lucem_illud==8.0.1) (6.4.3)\r\n",
            "Requirement already satisfied: cffi>=0.6 in ./.venv/lib/python3.11/site-packages (from pysoundfile->lucem_illud==8.0.1) (1.16.0)\r\n",
            "Requirement already satisfied: lxml>=3.1.0 in ./.venv/lib/python3.11/site-packages (from python-docx->lucem_illud==8.0.1) (5.1.0)\r\n",
            "Requirement already satisfied: typing-extensions in ./.venv/lib/python3.11/site-packages (from python-docx->lucem_illud==8.0.1) (4.9.0)\r\n",
            "Requirement already satisfied: charset-normalizer<4,>=2 in ./.venv/lib/python3.11/site-packages (from requests->lucem_illud==8.0.1) (3.3.2)\r\n",
            "Requirement already satisfied: idna<4,>=2.5 in ./.venv/lib/python3.11/site-packages (from requests->lucem_illud==8.0.1) (3.6)\r\n",
            "Requirement already satisfied: urllib3<3,>=1.21.1 in ./.venv/lib/python3.11/site-packages (from requests->lucem_illud==8.0.1) (2.0.7)\r\n",
            "Requirement already satisfied: certifi>=2017.4.17 in ./.venv/lib/python3.11/site-packages (from requests->lucem_illud==8.0.1) (2023.11.17)\r\n",
            "Requirement already satisfied: imageio>=2.27 in ./.venv/lib/python3.11/site-packages (from scikit-image->lucem_illud==8.0.1) (2.33.1)\r\n",
            "Requirement already satisfied: tifffile>=2022.8.12 in ./.venv/lib/python3.11/site-packages (from scikit-image->lucem_illud==8.0.1) (2024.1.30)\r\n",
            "Requirement already satisfied: lazy_loader>=0.3 in ./.venv/lib/python3.11/site-packages (from scikit-image->lucem_illud==8.0.1) (0.3)\r\n",
            "Requirement already satisfied: threadpoolctl>=2.0.0 in ./.venv/lib/python3.11/site-packages (from scikit-learn->lucem_illud==8.0.1) (3.2.0)\r\n",
            "Requirement already satisfied: spacy-legacy<3.1.0,>=3.0.11 in ./.venv/lib/python3.11/site-packages (from spacy->lucem_illud==8.0.1) (3.0.12)\r\n",
            "Requirement already satisfied: spacy-loggers<2.0.0,>=1.0.0 in ./.venv/lib/python3.11/site-packages (from spacy->lucem_illud==8.0.1) (1.0.5)\r\n",
            "Requirement already satisfied: murmurhash<1.1.0,>=0.28.0 in ./.venv/lib/python3.11/site-packages (from spacy->lucem_illud==8.0.1) (1.0.10)\r\n",
            "Requirement already satisfied: cymem<2.1.0,>=2.0.2 in ./.venv/lib/python3.11/site-packages (from spacy->lucem_illud==8.0.1) (2.0.8)\r\n",
            "Requirement already satisfied: preshed<3.1.0,>=3.0.2 in ./.venv/lib/python3.11/site-packages (from spacy->lucem_illud==8.0.1) (3.0.9)\r\n",
            "Requirement already satisfied: thinc<8.3.0,>=8.1.8 in ./.venv/lib/python3.11/site-packages (from spacy->lucem_illud==8.0.1) (8.2.2)\r\n",
            "Requirement already satisfied: wasabi<1.2.0,>=0.9.1 in ./.venv/lib/python3.11/site-packages (from spacy->lucem_illud==8.0.1) (1.1.2)\r\n",
            "Requirement already satisfied: srsly<3.0.0,>=2.4.3 in ./.venv/lib/python3.11/site-packages (from spacy->lucem_illud==8.0.1) (2.4.8)\r\n",
            "Requirement already satisfied: catalogue<2.1.0,>=2.0.6 in ./.venv/lib/python3.11/site-packages (from spacy->lucem_illud==8.0.1) (2.0.10)\r\n",
            "Requirement already satisfied: weasel<0.4.0,>=0.1.0 in ./.venv/lib/python3.11/site-packages (from spacy->lucem_illud==8.0.1) (0.3.4)\r\n",
            "Requirement already satisfied: typer<0.10.0,>=0.3.0 in ./.venv/lib/python3.11/site-packages (from spacy->lucem_illud==8.0.1) (0.9.0)\r\n",
            "Requirement already satisfied: pydantic!=1.8,!=1.8.1,<3.0.0,>=1.7.4 in ./.venv/lib/python3.11/site-packages (from spacy->lucem_illud==8.0.1) (2.6.0)\r\n",
            "Requirement already satisfied: jinja2 in ./.venv/lib/python3.11/site-packages (from spacy->lucem_illud==8.0.1) (3.1.3)\r\n",
            "Requirement already satisfied: setuptools in ./.venv/lib/python3.11/site-packages (from spacy->lucem_illud==8.0.1) (69.0.3)\r\n",
            "Requirement already satisfied: langcodes<4.0.0,>=3.2.0 in ./.venv/lib/python3.11/site-packages (from spacy->lucem_illud==8.0.1) (3.3.0)\r\n",
            "Requirement already satisfied: pycparser in ./.venv/lib/python3.11/site-packages (from cffi>=0.6->pysoundfile->lucem_illud==8.0.1) (2.21)\r\n",
            "Requirement already satisfied: smmap<6,>=3.0.1 in ./.venv/lib/python3.11/site-packages (from gitdb<5,>=4.0.1->GitPython->lucem_illud==8.0.1) (5.0.1)\r\n",
            "Requirement already satisfied: parso<0.9.0,>=0.8.3 in ./.venv/lib/python3.11/site-packages (from jedi>=0.16->IPython->lucem_illud==8.0.1) (0.8.3)\r\n",
            "Requirement already satisfied: ptyprocess>=0.5 in ./.venv/lib/python3.11/site-packages (from pexpect>4.3->IPython->lucem_illud==8.0.1) (0.7.0)\r\n",
            "Requirement already satisfied: wcwidth in ./.venv/lib/python3.11/site-packages (from prompt-toolkit<3.1.0,>=3.0.41->IPython->lucem_illud==8.0.1) (0.2.13)\r\n",
            "Requirement already satisfied: annotated-types>=0.4.0 in ./.venv/lib/python3.11/site-packages (from pydantic!=1.8,!=1.8.1,<3.0.0,>=1.7.4->spacy->lucem_illud==8.0.1) (0.6.0)\r\n",
            "Requirement already satisfied: pydantic-core==2.16.1 in ./.venv/lib/python3.11/site-packages (from pydantic!=1.8,!=1.8.1,<3.0.0,>=1.7.4->spacy->lucem_illud==8.0.1) (2.16.1)\r\n",
            "Requirement already satisfied: blis<0.8.0,>=0.7.8 in ./.venv/lib/python3.11/site-packages (from thinc<8.3.0,>=8.1.8->spacy->lucem_illud==8.0.1) (0.7.11)\r\n",
            "Requirement already satisfied: confection<1.0.0,>=0.0.1 in ./.venv/lib/python3.11/site-packages (from thinc<8.3.0,>=8.1.8->spacy->lucem_illud==8.0.1) (0.1.4)\r\n",
            "Requirement already satisfied: cloudpathlib<0.17.0,>=0.7.0 in ./.venv/lib/python3.11/site-packages (from weasel<0.4.0,>=0.1.0->spacy->lucem_illud==8.0.1) (0.16.0)\r\n",
            "Requirement already satisfied: MarkupSafe>=2.0 in ./.venv/lib/python3.11/site-packages (from jinja2->spacy->lucem_illud==8.0.1) (2.1.4)\r\n",
            "Requirement already satisfied: executing>=1.2.0 in ./.venv/lib/python3.11/site-packages (from stack-data->IPython->lucem_illud==8.0.1) (2.0.1)\r\n",
            "Requirement already satisfied: asttokens>=2.1.0 in ./.venv/lib/python3.11/site-packages (from stack-data->IPython->lucem_illud==8.0.1) (2.4.1)\r\n",
            "Requirement already satisfied: pure-eval in ./.venv/lib/python3.11/site-packages (from stack-data->IPython->lucem_illud==8.0.1) (0.2.2)\r\n",
            "\r\n",
            "\u001b[1m[\u001b[0m\u001b[34;49mnotice\u001b[0m\u001b[1;39;49m]\u001b[0m\u001b[39;49m A new release of pip is available: \u001b[0m\u001b[31;49m23.3.2\u001b[0m\u001b[39;49m -> \u001b[0m\u001b[32;49m24.0\u001b[0m\r\n",
            "\u001b[1m[\u001b[0m\u001b[34;49mnotice\u001b[0m\u001b[1;39;49m]\u001b[0m\u001b[39;49m To update, run: \u001b[0m\u001b[32;49mpip install --upgrade pip\u001b[0m\r\n"
          ]
        },
        {
          "ename": "AttributeError",
          "evalue": "module 'numpy' has no attribute 'float'.\n`np.float` was a deprecated alias for the builtin `float`. To avoid this error in existing code, use `float` by itself. Doing this will not modify any behavior and is safe. If you specifically wanted the numpy scalar type, use `np.float64` here.\nThe aliases was originally deprecated in NumPy 1.20; for more details and guidance see the original release note at:\n    https://numpy.org/devdocs/release/1.20.0-notes.html#deprecations",
          "output_type": "error",
          "traceback": [
            "\u001b[0;31m---------------------------------------------------------------------------\u001b[0m",
            "\u001b[0;31mAttributeError\u001b[0m                            Traceback (most recent call last)",
            "Cell \u001b[0;32mIn[1], line 22\u001b[0m\n\u001b[1;32m     19\u001b[0m \u001b[38;5;28;01mimport\u001b[39;00m \u001b[38;5;21;01mseaborn\u001b[39;00m \u001b[38;5;66;03m#Makes plots look nice, also heatmaps\u001b[39;00m\n\u001b[1;32m     20\u001b[0m \u001b[38;5;28;01mimport\u001b[39;00m \u001b[38;5;21;01mscipy\u001b[39;00m \u001b[38;5;28;01mas\u001b[39;00m \u001b[38;5;21;01msp\u001b[39;00m \u001b[38;5;66;03m#for interp\u001b[39;00m\n\u001b[0;32m---> 22\u001b[0m \u001b[38;5;28;01mimport\u001b[39;00m \u001b[38;5;21;01mpyanno\u001b[39;00m \u001b[38;5;66;03m#On python3 make sure to pip install pyanno3\u001b[39;00m\n\u001b[1;32m     24\u001b[0m \u001b[38;5;66;03m#We need to import these this way due to how pyanno is setup\u001b[39;00m\n\u001b[1;32m     25\u001b[0m \u001b[38;5;28;01mfrom\u001b[39;00m \u001b[38;5;21;01mpyanno\u001b[39;00m\u001b[38;5;21;01m.\u001b[39;00m\u001b[38;5;21;01mmeasures\u001b[39;00m \u001b[38;5;28;01mimport\u001b[39;00m pairwise_matrix, agreement, cohens_kappa, cohens_weighted_kappa, fleiss_kappa, krippendorffs_alpha, pearsons_rho, scotts_pi, spearmans_rho\n",
            "File \u001b[0;32m~/Documents/GitHub/computational-content-analysis/.venv/lib/python3.11/site-packages/pyanno/__init__.py:3\u001b[0m\n\u001b[1;32m      1\u001b[0m \u001b[38;5;66;03m# called on package initialization\u001b[39;00m\n\u001b[0;32m----> 3\u001b[0m \u001b[38;5;28;01mfrom\u001b[39;00m \u001b[38;5;21;01m.\u001b[39;00m \u001b[38;5;28;01mimport\u001b[39;00m models\n\u001b[1;32m      4\u001b[0m \u001b[38;5;28;01mfrom\u001b[39;00m \u001b[38;5;21;01m.\u001b[39;00m \u001b[38;5;28;01mimport\u001b[39;00m measures\n\u001b[1;32m      5\u001b[0m \u001b[38;5;28;01mfrom\u001b[39;00m \u001b[38;5;21;01m.\u001b[39;00m \u001b[38;5;28;01mimport\u001b[39;00m annotations\n",
            "File \u001b[0;32m~/Documents/GitHub/computational-content-analysis/.venv/lib/python3.11/site-packages/pyanno/models.py:1\u001b[0m\n\u001b[0;32m----> 1\u001b[0m \u001b[38;5;28;01mfrom\u001b[39;00m \u001b[38;5;21;01mpyanno\u001b[39;00m\u001b[38;5;21;01m.\u001b[39;00m\u001b[38;5;21;01mmodelA\u001b[39;00m \u001b[38;5;28;01mimport\u001b[39;00m ModelA\n\u001b[1;32m      2\u001b[0m \u001b[38;5;28;01mfrom\u001b[39;00m \u001b[38;5;21;01mpyanno\u001b[39;00m\u001b[38;5;21;01m.\u001b[39;00m\u001b[38;5;21;01mmodelB\u001b[39;00m \u001b[38;5;28;01mimport\u001b[39;00m ModelB\n\u001b[1;32m      3\u001b[0m \u001b[38;5;28;01mfrom\u001b[39;00m \u001b[38;5;21;01mpyanno\u001b[39;00m\u001b[38;5;21;01m.\u001b[39;00m\u001b[38;5;21;01mmodelBt\u001b[39;00m \u001b[38;5;28;01mimport\u001b[39;00m ModelBt\n",
            "File \u001b[0;32m~/Documents/GitHub/computational-content-analysis/.venv/lib/python3.11/site-packages/pyanno/modelA.py:44\u001b[0m\n\u001b[1;32m     42\u001b[0m \u001b[38;5;28;01mfrom\u001b[39;00m \u001b[38;5;21;01mtraits\u001b[39;00m\u001b[38;5;21;01m.\u001b[39;00m\u001b[38;5;21;01mtrait_numeric\u001b[39;00m \u001b[38;5;28;01mimport\u001b[39;00m Array\n\u001b[1;32m     43\u001b[0m \u001b[38;5;28;01mfrom\u001b[39;00m \u001b[38;5;21;01mtraits\u001b[39;00m\u001b[38;5;21;01m.\u001b[39;00m\u001b[38;5;21;01mtrait_types\u001b[39;00m \u001b[38;5;28;01mimport\u001b[39;00m Int\n\u001b[0;32m---> 44\u001b[0m \u001b[38;5;28;01mfrom\u001b[39;00m \u001b[38;5;21;01mpyanno\u001b[39;00m\u001b[38;5;21;01m.\u001b[39;00m\u001b[38;5;21;01mabstract_model\u001b[39;00m \u001b[38;5;28;01mimport\u001b[39;00m AbstractModel\n\u001b[1;32m     45\u001b[0m \u001b[38;5;28;01mfrom\u001b[39;00m \u001b[38;5;21;01mpyanno\u001b[39;00m\u001b[38;5;21;01m.\u001b[39;00m\u001b[38;5;21;01msampling\u001b[39;00m \u001b[38;5;28;01mimport\u001b[39;00m optimize_step_size, sample_distribution\n\u001b[1;32m     46\u001b[0m \u001b[38;5;28;01mfrom\u001b[39;00m \u001b[38;5;21;01mpyanno\u001b[39;00m\u001b[38;5;21;01m.\u001b[39;00m\u001b[38;5;21;01mutil\u001b[39;00m \u001b[38;5;28;01mimport\u001b[39;00m (compute_counts, random_categorical,\n\u001b[1;32m     47\u001b[0m                          labels_frequency, MISSING_VALUE, SMALLEST_FLOAT,\n\u001b[1;32m     48\u001b[0m                          ninf_to_num )\n",
            "File \u001b[0;32m~/Documents/GitHub/computational-content-analysis/.venv/lib/python3.11/site-packages/pyanno/abstract_model.py:11\u001b[0m\n\u001b[1;32m      9\u001b[0m \u001b[38;5;28;01mfrom\u001b[39;00m \u001b[38;5;21;01mtraits\u001b[39;00m\u001b[38;5;21;01m.\u001b[39;00m\u001b[38;5;21;01mhas_traits\u001b[39;00m \u001b[38;5;28;01mimport\u001b[39;00m HasTraits\n\u001b[1;32m     10\u001b[0m \u001b[38;5;28;01mfrom\u001b[39;00m \u001b[38;5;21;01mtraits\u001b[39;00m\u001b[38;5;21;01m.\u001b[39;00m\u001b[38;5;21;01mtrait_types\u001b[39;00m \u001b[38;5;28;01mimport\u001b[39;00m Int\n\u001b[0;32m---> 11\u001b[0m \u001b[38;5;28;01mfrom\u001b[39;00m \u001b[38;5;21;01mpyanno\u001b[39;00m\u001b[38;5;21;01m.\u001b[39;00m\u001b[38;5;21;01mutil\u001b[39;00m \u001b[38;5;28;01mimport\u001b[39;00m PyannoValueError, MISSING_VALUE\n\u001b[1;32m     12\u001b[0m \u001b[38;5;28;01mimport\u001b[39;00m \u001b[38;5;21;01mnumpy\u001b[39;00m \u001b[38;5;28;01mas\u001b[39;00m \u001b[38;5;21;01mnp\u001b[39;00m\n\u001b[1;32m     14\u001b[0m \u001b[38;5;28;01mclass\u001b[39;00m \u001b[38;5;21;01mAbstractModel\u001b[39;00m(HasTraits):\n",
            "File \u001b[0;32m~/Documents/GitHub/computational-content-analysis/.venv/lib/python3.11/site-packages/pyanno/util.py:22\u001b[0m\n\u001b[1;32m     18\u001b[0m MISSING_VALUE \u001b[38;5;241m=\u001b[39m \u001b[38;5;241m-\u001b[39m\u001b[38;5;241m1\u001b[39m\n\u001b[1;32m     20\u001b[0m \u001b[38;5;66;03m#: Smallest possible floating point number, somtimes used instead of -np.inf\u001b[39;00m\n\u001b[1;32m     21\u001b[0m \u001b[38;5;66;03m#: to make numberical calculation return a meaningful value\u001b[39;00m\n\u001b[0;32m---> 22\u001b[0m SMALLEST_FLOAT \u001b[38;5;241m=\u001b[39m getlimits\u001b[38;5;241m.\u001b[39mfinfo(\u001b[43mnp\u001b[49m\u001b[38;5;241;43m.\u001b[39;49m\u001b[43mfloat\u001b[49m)\u001b[38;5;241m.\u001b[39mmin\n\u001b[1;32m     25\u001b[0m \u001b[38;5;28;01mclass\u001b[39;00m \u001b[38;5;21;01mPyannoValueError\u001b[39;00m(\u001b[38;5;167;01mValueError\u001b[39;00m):\n\u001b[1;32m     26\u001b[0m \u001b[38;5;250m    \u001b[39m\u001b[38;5;124;03m\"\"\"ValueError subclass raised by pyAnno functions and methods.\u001b[39;00m\n\u001b[1;32m     27\u001b[0m \u001b[38;5;124;03m    \"\"\"\u001b[39;00m\n",
            "File \u001b[0;32m~/Documents/GitHub/computational-content-analysis/.venv/lib/python3.11/site-packages/numpy/__init__.py:324\u001b[0m, in \u001b[0;36m__getattr__\u001b[0;34m(attr)\u001b[0m\n\u001b[1;32m    319\u001b[0m     warnings\u001b[38;5;241m.\u001b[39mwarn(\n\u001b[1;32m    320\u001b[0m         \u001b[38;5;124mf\u001b[39m\u001b[38;5;124m\"\u001b[39m\u001b[38;5;124mIn the future `np.\u001b[39m\u001b[38;5;132;01m{\u001b[39;00mattr\u001b[38;5;132;01m}\u001b[39;00m\u001b[38;5;124m` will be defined as the \u001b[39m\u001b[38;5;124m\"\u001b[39m\n\u001b[1;32m    321\u001b[0m         \u001b[38;5;124m\"\u001b[39m\u001b[38;5;124mcorresponding NumPy scalar.\u001b[39m\u001b[38;5;124m\"\u001b[39m, \u001b[38;5;167;01mFutureWarning\u001b[39;00m, stacklevel\u001b[38;5;241m=\u001b[39m\u001b[38;5;241m2\u001b[39m)\n\u001b[1;32m    323\u001b[0m \u001b[38;5;28;01mif\u001b[39;00m attr \u001b[38;5;129;01min\u001b[39;00m __former_attrs__:\n\u001b[0;32m--> 324\u001b[0m     \u001b[38;5;28;01mraise\u001b[39;00m \u001b[38;5;167;01mAttributeError\u001b[39;00m(__former_attrs__[attr])\n\u001b[1;32m    326\u001b[0m \u001b[38;5;28;01mif\u001b[39;00m attr \u001b[38;5;241m==\u001b[39m \u001b[38;5;124m'\u001b[39m\u001b[38;5;124mtesting\u001b[39m\u001b[38;5;124m'\u001b[39m:\n\u001b[1;32m    327\u001b[0m     \u001b[38;5;28;01mimport\u001b[39;00m \u001b[38;5;21;01mnumpy\u001b[39;00m\u001b[38;5;21;01m.\u001b[39;00m\u001b[38;5;21;01mtesting\u001b[39;00m \u001b[38;5;28;01mas\u001b[39;00m \u001b[38;5;21;01mtesting\u001b[39;00m\n",
            "\u001b[0;31mAttributeError\u001b[0m: module 'numpy' has no attribute 'float'.\n`np.float` was a deprecated alias for the builtin `float`. To avoid this error in existing code, use `float` by itself. Doing this will not modify any behavior and is safe. If you specifically wanted the numpy scalar type, use `np.float64` here.\nThe aliases was originally deprecated in NumPy 1.20; for more details and guidance see the original release note at:\n    https://numpy.org/devdocs/release/1.20.0-notes.html#deprecations"
          ]
        }
      ],
      "source": [
        "# We need to import these this way due to how pyanno is setup\n",
        "\n",
        "\n",
        "# These are from the standard library\n",
        "\n",
        "# This 'magic' command makes the plots work better\n",
        "# in the notebook, don't use it outside of a notebook.\n",
        "# Also you can ignore the warning\n",
        "%matplotlib inline"
      ]
    },
    {
      "cell_type": "markdown",
      "id": "5dbb91751449d0ac",
      "metadata": {
        "collapsed": false
      },
      "source": [
        "# Constants and Utility Functions"
      ]
    },
    {
      "cell_type": "code",
      "execution_count": null,
      "id": "a85842706707fe63",
      "metadata": {
        "collapsed": false
      },
      "outputs": [],
      "source": [
        "# Constants"
      ]
    },
    {
      "cell_type": "code",
      "execution_count": null,
      "id": "d06bd1e4a8c2b26e",
      "metadata": {
        "collapsed": false
      },
      "outputs": [],
      "source": [
        "# Utility Functions"
      ]
    },
    {
      "cell_type": "markdown",
      "id": "df8f5bc61d3bc989",
      "metadata": {
        "collapsed": false
      },
      "source": [
        "## <font color=\"red\">*Exercise 1*</font>\n",
        "\n",
        "<font color=\"red\">Perform a content annotation survey of some kind in which at \n",
        "least 3 people evaluate and code each piece of content, using Amazon Mechanical \n",
        "Turk as described in the [MTurk slides on Canvas](https://canvas.uchicago.edu/courses/54694/files/folder/unfiled?preview=10675152), or by hand with friends.  \n",
        "With the resulting data, calculate, visualize and discuss inter-coder agreement or \n",
        "co-variation with appropriate metrics. What does this means for the reliability of \n",
        "human assessments regarding content in your domain?"
      ]
    },
    {
      "cell_type": "code",
      "execution_count": null,
      "id": "b28c30789992721a",
      "metadata": {
        "collapsed": false
      },
      "outputs": [],
      "source": []
    },
    {
      "cell_type": "markdown",
      "id": "7d4b7bd66b3e1bcf",
      "metadata": {
        "collapsed": false
      },
      "source": [
        "## <font color=\"red\">*Exercise 2*</font>\n",
        "\n",
        "<font color=\"red\">Go back through all the cells above and generate 10 distinct \n",
        "artificial datasets and classify them with all the available methods. Add a cell \n",
        "immediately below and describe which classifier(s) worked best with which \n",
        "artificially constructed data source and why. Then go through all the empirical \n",
        "datasets (i.e., Newsgroups, Senate Small, Senate Large, Email Spam) and classify \n",
        "them with all available methods. Add a second cell immediately below and describe \n",
        "which classifier(s) worked best with which data set and why.\n",
        "\n",
        "<font color=\"red\">***Stretch*** (but also required) Wander through the SKLearn \n",
        "documentation available [here](http://scikit-learn.org/stable/), particularly \n",
        "perusing the classifiers. In cells following, identify and implement a new classifier \n",
        "that we have not yet used (e.g., AdaBoost, CART) on one artificial dataset and one real \n",
        "dataset (used above). Then, in the next cell describe the classifier, detail how it \n",
        "compares with the approaches above, and why it performed better or worse than others."
      ]
    },
    {
      "cell_type": "code",
      "execution_count": null,
      "id": "6c838416f9e1cb55",
      "metadata": {
        "collapsed": false
      },
      "outputs": [],
      "source": []
    },
    {
      "cell_type": "markdown",
      "id": "7492cdac200a8ee4",
      "metadata": {
        "collapsed": false
      },
      "source": [
        "## <font color=\"red\">*Exercise 3*</font>\n",
        "\n",
        "<font color=\"red\">In the cells immediately following, perform logistic regression \n",
        "classification using training, testing and un-coded (i.e., data you didn't code by \n",
        "hand but want to use your model on) data from texts and hand-classifications \n",
        "associated with your final project (e.g., these could be crowd-sourced codes \n",
        "gathered through Amazon Mechanical Turk in Exercise 1). Visualize the confusion \n",
        "matrix for training and testing sets. Calculate precision, recall, the F-measure, \n",
        "and AUC, then perform an ROC visualization. How do these classifiers perform? \n",
        "Extrapolate code from these models to all un-coded data."
      ]
    },
    {
      "cell_type": "code",
      "execution_count": null,
      "id": "6a9118ccc9481a85",
      "metadata": {
        "collapsed": false
      },
      "outputs": [],
      "source": []
    },
    {
      "cell_type": "markdown",
      "id": "97dc2de83ad6231f",
      "metadata": {
        "collapsed": false
      },
      "source": [
        "## <font color=\"red\">*Exercise 4*</font>\n",
        "\n",
        "<font color=\"red\">In the cells immediately following, perform decision tree and \n",
        "random forest classification (binary, multinomial or continuous) using training, \n",
        "testing and extrapolation (un-coded) data from texts and hand-classifications \n",
        "associated with your final project. As with ***Exercise 2***, these could be \n",
        "crowdsourced codes gathered through Amazon Mechanical Turk last week. Visualize \n",
        "the classification of data points. Calculate relevant metrics (e.g., precision, \n",
        "recall, the F-measure, and AUC). Now build an ensemble classifier by bagging trees \n",
        "into a random forest. Visualize the result. How do these classifiers perform? \n",
        "What does ensemble learning do?"
      ]
    },
    {
      "cell_type": "code",
      "execution_count": null,
      "id": "be2e65f945decf2c",
      "metadata": {
        "collapsed": false
      },
      "outputs": [],
      "source": []
    },
    {
      "cell_type": "markdown",
      "id": "7b459f9a4f8cef61",
      "metadata": {
        "collapsed": false
      },
      "source": [
        "## <font color=\"red\">*Exercise 6*</font>\n",
        "\n",
        "<font color=\"red\">In the cells immediately following, perform a neural network \n",
        "classification and calculate relevant metrics (e.g., precision, recall, the \n",
        "F-measure, and AUC). How does this classify relevant to *k*-nearest neighbor, \n",
        "logistic and decision-tree approaches?"
      ]
    },
    {
      "cell_type": "code",
      "execution_count": null,
      "id": "af75b7d8174467e2",
      "metadata": {
        "collapsed": false
      },
      "outputs": [],
      "source": []
    },
    {
      "cell_type": "markdown",
      "id": "d2796a48dd01a6f9",
      "metadata": {
        "collapsed": false
      },
      "source": [
        "## <font color=\"red\">*Exercise 7*</font>\n",
        "\n",
        "<font color=\"red\">In the cells immediately following, use the pipeline functions \n",
        "or the word or sentence vector functions (e.g., similarity) to explore the social \n",
        "game underlying the production and meaning of texts associated with your final project. \n",
        "How does BERT help you gain insight regarding your research question that is similar \n",
        "and different from prior methods?"
      ]
    },
    {
      "cell_type": "code",
      "execution_count": null,
      "id": "98b1f3a988c7ca24",
      "metadata": {
        "collapsed": false
      },
      "outputs": [],
      "source": []
    },
    {
      "cell_type": "markdown",
      "id": "f83e88d8954fa9eb",
      "metadata": {
        "collapsed": false
      },
      "source": []
    }
  ],
  "metadata": {
    "kernelspec": {
      "display_name": "Python 3",
      "language": "python",
      "name": "python3"
    },
    "language_info": {
      "codemirror_mode": {
        "name": "ipython",
        "version": 2
      },
      "file_extension": ".py",
      "mimetype": "text/x-python",
      "name": "python",
      "nbconvert_exporter": "python",
      "pygments_lexer": "ipython2",
      "version": "2.7.6"
    }
  },
  "nbformat": 4,
  "nbformat_minor": 5
}
