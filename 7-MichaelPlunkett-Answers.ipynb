{
  "cells": [
    {
      "cell_type": "code",
      "execution_count": 1,
      "id": "initial_id",
      "metadata": {
        "ExecuteTime": {
          "end_time": "2024-02-13T20:54:55.915121Z",
          "start_time": "2024-02-13T20:54:53.417324Z"
        },
        "collapsed": true
      },
      "outputs": [],
      "source": [
        "import os\n",
        "\n",
        "import lucem_illud\n",
        "import pandas as pd\n",
        "import sklearn"
      ]
    },
    {
      "cell_type": "markdown",
      "id": "32cf3708e73c912",
      "metadata": {
        "collapsed": false
      },
      "source": [
        "# Constants, Utility Functions, and Data Importing"
      ]
    },
    {
      "cell_type": "code",
      "execution_count": 2,
      "id": "efc44eebf221761a",
      "metadata": {
        "ExecuteTime": {
          "end_time": "2024-02-13T20:54:55.920053Z",
          "start_time": "2024-02-13T20:54:55.915329Z"
        },
        "collapsed": false
      },
      "outputs": [],
      "source": [
        "# Constants and Clients\n",
        "pd.set_option(\"display.max_columns\", None)\n",
        "tfidf_vectorizer = sklearn.feature_extraction.text.TfidfVectorizer(\n",
        "    max_df=0.5, max_features=1000, min_df=3, stop_words=\"english\", norm=\"l2\"\n",
        ")"
      ]
    },
    {
      "cell_type": "code",
      "execution_count": 3,
      "id": "383d20e0b628c8be",
      "metadata": {
        "ExecuteTime": {
          "end_time": "2024-02-13T20:54:55.920262Z",
          "start_time": "2024-02-13T20:54:55.916886Z"
        },
        "collapsed": false
      },
      "outputs": [],
      "source": [
        "# Utility Functions\n",
        "def drop_missing(word_list, vocab):\n",
        "    return [w for w in word_list if w in vocab or not w]"
      ]
    },
    {
      "cell_type": "code",
      "execution_count": 4,
      "id": "4d1f586e2faa4043",
      "metadata": {
        "ExecuteTime": {
          "end_time": "2024-02-13T20:54:55.935115Z",
          "start_time": "2024-02-13T20:54:55.920801Z"
        },
        "collapsed": false
      },
      "outputs": [],
      "source": [
        "# Data Importing\n",
        "# Data is sourced from a personal project of mine you can find here:\n",
        "# https://ucpd-incident-reporter-7cfdc3369124.herokuapp.com/\n",
        "ucpd_feather_path = \"data/fully_tokenized_ucpd_incidents.feather\"\n",
        "if os.path.isfile(ucpd_feather_path):\n",
        "    ucpd_reports = pd.read_feather(ucpd_feather_path)\n",
        "else:\n",
        "    # WARNING: This step takes about 120 minutes, so don't run it unless you need to.\n",
        "    ucpd_reports = pd.read_csv(\"data/incident_dump.csv\")\n",
        "    ucpd_reports[\"tokenized_text\"] = ucpd_reports[\"comments\"].apply(\n",
        "        lucem_illud.word_tokenize\n",
        "    )\n",
        "    ucpd_reports[\"normalized_text\"] = ucpd_reports[\"tokenized_text\"].apply(\n",
        "        lucem_illud.normalizeTokens\n",
        "    )\n",
        "    ucpd_tfidf_vectors = tfidf_vectorizer.fit_transform(ucpd_reports[\"comments\"])\n",
        "    ucpd_reports[\"reduced_tokens\"] = ucpd_reports[\"normalized_text\"].apply(\n",
        "        lambda x: drop_missing(x, tfidf_vectorizer.vocabulary_.keys())\n",
        "    )\n",
        "    ucpd_reports.to_feather(ucpd_feather_path)\n",
        "ucpd_reports.head(50)"
      ]
    },
    {
      "cell_type": "markdown",
      "id": "a8a598f88767a547",
      "metadata": {
        "collapsed": false
      },
      "source": [
        "## <font color=\"red\">*Exercise 1*</font>\n",
        "\n",
        "<font color=\"red\">Describe 2 separate predictions relevant to your project and associated texts, which involve predicting text that has not been observed based on patterns that have. Then, in a single, short paragraph, describe a research design through which you could use textual features and the tools of classification and regression to evaluate these predictions."
      ]
    },
    {
      "cell_type": "code",
      "execution_count": 4,
      "id": "5feba27093e48da5",
      "metadata": {
        "ExecuteTime": {
          "end_time": "2024-02-13T20:54:55.935375Z",
          "start_time": "2024-02-13T20:54:55.923724Z"
        },
        "collapsed": false
      },
      "outputs": [],
      "source": []
    },
    {
      "cell_type": "markdown",
      "id": "c592b29cb697aca",
      "metadata": {
        "collapsed": false
      },
      "source": [
        "## <font color=\"red\">*Exercise 2*</font>\n",
        "\n",
        "<font color=\"red\">Propose a simple causal model in your data, or a different causal model in the annotated Internet Arguments Corpus (e.g., a different treatment, a different outcome), and test it using a linear or logistic regression model. If you are using social media data for your final project, we encourage you to classify or annotate a sample of that data (either computationally or with human annotators) and examine the effect of texts on replies to that text (e.g., Reddit posts on Reddit comments, Tweets on Twitter replies, YouTube video transcripts on YouTube comments or ratings). You do not need to make a graph of the causal model, but please make it clear (e.g., \"X affects Y, and C affects both X and Y.\").\n",
        "    \n",
        "<font color=\"red\">Also consider using the [ConvoKit datasets](https://convokit.cornell.edu/documentation/datasets.html)! Anytime there is conversation, there is an opportunity to explore the effects of early parts of the conversation on later parts. We will explore this further in Week 8 on Text Generation and Conversation.\n",
        "    \n",
        "<font color=\"red\">***Stretch*** (not required): Propose a more robust identification strategy using either matching, difference in difference, regression discontinuity, or an instrumental variable. Each of these methods usually gives you a more precise identification of the causal effect than a unconditional regression. Scott Cunningham's [Causal Inference: The Mixtape](https://mixtape.scunning.com/) is a free textbook on these topics, and all have good YouTube video explanations."
      ]
    },
    {
      "cell_type": "code",
      "execution_count": 4,
      "id": "66b724f722d18b2a",
      "metadata": {
        "ExecuteTime": {
          "end_time": "2024-02-13T20:54:55.935455Z",
          "start_time": "2024-02-13T20:54:55.925746Z"
        },
        "collapsed": false
      },
      "outputs": [],
      "source": []
    },
    {
      "cell_type": "markdown",
      "id": "45de25784b9ac5b7",
      "metadata": {
        "collapsed": false
      },
      "source": [
        "## <font color=\"red\">*Exercise 3*</font>\n",
        "\n",
        "<font color=\"red\">Propose a measure you could generate to fill in or improve upon the simple causal model you proposed above and how you would split the data (e.g., a % of your main data, a separate-but-informative dataset). You do not have to produce the measure.\n",
        "    \n",
        "<font color=\"red\">***Stretch*** (not required): Produce the measure and integrate it into your statistical analysis. This could be a great approach for your final project!"
      ]
    },
    {
      "cell_type": "code",
      "execution_count": 4,
      "id": "3cc13324060952a7",
      "metadata": {
        "ExecuteTime": {
          "end_time": "2024-02-13T20:54:55.935517Z",
          "start_time": "2024-02-13T20:54:55.927352Z"
        },
        "collapsed": false
      },
      "outputs": [],
      "source": []
    },
    {
      "cell_type": "markdown",
      "id": "f0197942bf7ee36",
      "metadata": {
        "collapsed": false
      },
      "source": [
        "## <font color=\"red\">*Exercise 4*</font>\n",
        "\n",
        "<font color=\"red\">Propose a mediation model related to the simple causal model you proposed above (ideally on the dataset you're using for your final project). If you have measures for each variable in the model, run the analysis: You can just copy the \"Mediation analysis\" cell above and replace with your variables. If you do not have measures, do not run the analysis, but be clear as to the effect(s) you would like to estimate and the research design you would use to test them."
      ]
    },
    {
      "cell_type": "code",
      "execution_count": 4,
      "id": "346671c93ce01d1e",
      "metadata": {
        "ExecuteTime": {
          "end_time": "2024-02-13T20:54:55.935587Z",
          "start_time": "2024-02-13T20:54:55.929091Z"
        },
        "collapsed": false
      },
      "outputs": [],
      "source": []
    },
    {
      "cell_type": "markdown",
      "id": "8490fb2e34f5050c",
      "metadata": {
        "collapsed": false
      },
      "source": [
        "## <font color=\"red\">*Exercise 5*</font>\n",
        "\n",
        "<font color=\"red\">Pick one other paper on causal inference with text from the [\"Papers about Causal Inference and Language\n",
        "\" GitHub repository](https://github.com/causaltext/causal-text-papers). Write at least three sentences summarizing the paper and its logic of design in your own words.\n",
        "    \n",
        "<font color=\"red\">***Stretch*** (not required): Skim a few more papers. The causal world is your textual oyster!"
      ]
    },
    {
      "cell_type": "code",
      "execution_count": 4,
      "id": "e21a64e2b9bb11d1",
      "metadata": {
        "ExecuteTime": {
          "end_time": "2024-02-13T20:54:55.935645Z",
          "start_time": "2024-02-13T20:54:55.931144Z"
        },
        "collapsed": false
      },
      "outputs": [],
      "source": []
    }
  ],
  "metadata": {
    "kernelspec": {
      "display_name": "Python 3",
      "language": "python",
      "name": "python3"
    },
    "language_info": {
      "codemirror_mode": {
        "name": "ipython",
        "version": 2
      },
      "file_extension": ".py",
      "mimetype": "text/x-python",
      "name": "python",
      "nbconvert_exporter": "python",
      "pygments_lexer": "ipython2",
      "version": "2.7.6"
    }
  },
  "nbformat": 4,
  "nbformat_minor": 5
}
