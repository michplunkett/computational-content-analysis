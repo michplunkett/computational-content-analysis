{
  "cells": [
    {
      "cell_type": "markdown",
      "id": "a8a598f88767a547",
      "metadata": {
        "collapsed": false
      },
      "source": [
        "## <font color=\"red\">*Exercise 1*</font>\n",
        "\n",
        "<font color=\"red\">Describe 2 separate predictions relevant to your project and associated texts, which involve predicting text that has not been observed based on patterns that have. Then, in a single, short paragraph, describe a research design through which you could use textual features and the tools of classification and regression to evaluate these predictions."
      ]
    },
    {
      "cell_type": "code",
      "execution_count": 4,
      "id": "5feba27093e48da5",
      "metadata": {
        "ExecuteTime": {
          "end_time": "2024-02-13T20:54:55.935375Z",
          "start_time": "2024-02-13T20:54:55.923724Z"
        },
        "collapsed": false
      },
      "outputs": [],
      "source": []
    },
    {
      "cell_type": "markdown",
      "id": "c592b29cb697aca",
      "metadata": {
        "collapsed": false
      },
      "source": [
        "## <font color=\"red\">*Exercise 2*</font>\n",
        "\n",
        "<font color=\"red\">Propose a simple causal model in your data, or a different causal model in the annotated Internet Arguments Corpus (e.g., a different treatment, a different outcome), and test it using a linear or logistic regression model. If you are using social media data for your final project, we encourage you to classify or annotate a sample of that data (either computationally or with human annotators) and examine the effect of texts on replies to that text (e.g., Reddit posts on Reddit comments, Tweets on Twitter replies, YouTube video transcripts on YouTube comments or ratings). You do not need to make a graph of the causal model, but please make it clear (e.g., \"X affects Y, and C affects both X and Y.\").\n",
        "    \n",
        "<font color=\"red\">Also consider using the [ConvoKit datasets](https://convokit.cornell.edu/documentation/datasets.html)! Anytime there is conversation, there is an opportunity to explore the effects of early parts of the conversation on later parts. We will explore this further in Week 8 on Text Generation and Conversation.\n",
        "    \n",
        "<font color=\"red\">***Stretch*** (not required): Propose a more robust identification strategy using either matching, difference in difference, regression discontinuity, or an instrumental variable. Each of these methods usually gives you a more precise identification of the causal effect than a unconditional regression. Scott Cunningham's [Causal Inference: The Mixtape](https://mixtape.scunning.com/) is a free textbook on these topics, and all have good YouTube video explanations."
      ]
    },
    {
      "cell_type": "code",
      "execution_count": 4,
      "id": "66b724f722d18b2a",
      "metadata": {
        "ExecuteTime": {
          "end_time": "2024-02-13T20:54:55.935455Z",
          "start_time": "2024-02-13T20:54:55.925746Z"
        },
        "collapsed": false
      },
      "outputs": [],
      "source": []
    },
    {
      "cell_type": "markdown",
      "id": "45de25784b9ac5b7",
      "metadata": {
        "collapsed": false
      },
      "source": [
        "## <font color=\"red\">*Exercise 3*</font>\n",
        "\n",
        "<font color=\"red\">Propose a measure you could generate to fill in or improve upon the simple causal model you proposed above and how you would split the data (e.g., a % of your main data, a separate-but-informative dataset). You do not have to produce the measure.\n",
        "    \n",
        "<font color=\"red\">***Stretch*** (not required): Produce the measure and integrate it into your statistical analysis. This could be a great approach for your final project!"
      ]
    },
    {
      "cell_type": "code",
      "execution_count": 4,
      "id": "3cc13324060952a7",
      "metadata": {
        "ExecuteTime": {
          "end_time": "2024-02-13T20:54:55.935517Z",
          "start_time": "2024-02-13T20:54:55.927352Z"
        },
        "collapsed": false
      },
      "outputs": [],
      "source": []
    },
    {
      "cell_type": "markdown",
      "id": "f0197942bf7ee36",
      "metadata": {
        "collapsed": false
      },
      "source": [
        "## <font color=\"red\">*Exercise 4*</font>\n",
        "\n",
        "<font color=\"red\">Propose a mediation model related to the simple causal model you proposed above (ideally on the dataset you're using for your final project). If you have measures for each variable in the model, run the analysis: You can just copy the \"Mediation analysis\" cell above and replace with your variables. If you do not have measures, do not run the analysis, but be clear as to the effect(s) you would like to estimate and the research design you would use to test them."
      ]
    },
    {
      "cell_type": "code",
      "execution_count": 4,
      "id": "346671c93ce01d1e",
      "metadata": {
        "ExecuteTime": {
          "end_time": "2024-02-13T20:54:55.935587Z",
          "start_time": "2024-02-13T20:54:55.929091Z"
        },
        "collapsed": false
      },
      "outputs": [],
      "source": []
    },
    {
      "cell_type": "markdown",
      "id": "8490fb2e34f5050c",
      "metadata": {
        "collapsed": false
      },
      "source": [
        "## <font color=\"red\">*Exercise 5*</font>\n",
        "\n",
        "<font color=\"red\">Pick one other paper on causal inference with text from the [\"Papers about Causal Inference and Language\n",
        "\" GitHub repository](https://github.com/causaltext/causal-text-papers). Write at least three sentences summarizing the paper and its logic of design in your own words.\n",
        "    \n",
        "<font color=\"red\">***Stretch*** (not required): Skim a few more papers. The causal world is your textual oyster!"
      ]
    },
    {
      "cell_type": "markdown",
      "id": "75350cb3f501605b",
      "metadata": {
        "collapsed": false
      },
      "source": [
        "**Title:** A Survey of Online Hate Speech through the Causal Lens ([Link](https://arxiv.org/pdf/2109.08120.pdf))\n",
        "**Summary:** Using a causal lens, the paper looks into the historical academic basis, reasoning, and \n",
        "complications associated with studying online hate speech. Their particular focus is describing studies \n",
        "grouped into three specific causal fields: digital misbehaviors versus the physical world, harmful content\n",
        "versus the individual, and the effect of interventions on individuals. Lastly, the authors discuss the \n",
        "prevailing difficulties associated with the convergence of causal research methods and natural language \n",
        "processing (confounding bias, linguistic representations, and causal transportability) and provide \n",
        "suggestions for future researchers to successfully navigate the obstacles mentioned above."
      ]
    },
    {
      "cell_type": "code",
      "execution_count": null,
      "id": "228c86a24186c5da",
      "metadata": {
        "collapsed": false
      },
      "outputs": [],
      "source": []
    }
  ],
  "metadata": {
    "kernelspec": {
      "display_name": "Python 3",
      "language": "python",
      "name": "python3"
    },
    "language_info": {
      "codemirror_mode": {
        "name": "ipython",
        "version": 2
      },
      "file_extension": ".py",
      "mimetype": "text/x-python",
      "name": "python",
      "nbconvert_exporter": "python",
      "pygments_lexer": "ipython2",
      "version": "2.7.6"
    }
  },
  "nbformat": 4,
  "nbformat_minor": 5
}
