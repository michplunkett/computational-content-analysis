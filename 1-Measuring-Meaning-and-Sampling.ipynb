{
  "cells": [
    {
      "cell_type": "code",
      "execution_count": 2,
      "metadata": {
        "ExecuteTime": {
          "end_time": "2024-01-09T19:41:19.019775Z",
          "start_time": "2024-01-09T19:41:13.949046Z"
        },
        "collapsed": false
      },
      "outputs": [
        {
          "name": "stdout",
          "output_type": "stream",
          "text": [
            "\u001b[38;5;3m\u26a0 As of spaCy v3.0, shortcuts like 'en' are deprecated. Please use the\r\n",
            "full pipeline package name 'en_core_web_sm' instead.\u001b[0m\r\n",
            "Collecting en-core-web-sm==3.7.1\r\n",
            "  Downloading https://github.com/explosion/spacy-models/releases/download/en_core_web_sm-3.7.1/en_core_web_sm-3.7.1-py3-none-any.whl (12.8 MB)\r\n",
            "\u001b[2K     \u001b[90m\u2501\u2501\u2501\u2501\u2501\u2501\u2501\u2501\u2501\u2501\u2501\u2501\u2501\u2501\u2501\u2501\u2501\u2501\u2501\u2501\u2501\u2501\u2501\u2501\u2501\u2501\u2501\u2501\u2501\u2501\u2501\u2501\u2501\u2501\u2501\u2501\u2501\u2501\u2501\u2501\u001b[0m \u001b[32m12.8/12.8 MB\u001b[0m \u001b[31m9.7 MB/s\u001b[0m eta \u001b[36m0:00:00\u001b[0m00:01\u001b[0m:00:01\u001b[0m\r\n",
            "\u001b[?25hRequirement already satisfied: spacy<3.8.0,>=3.7.2 in ./.venv/lib/python3.11/site-packages (from en-core-web-sm==3.7.1) (3.7.2)\r\n",
            "Requirement already satisfied: spacy-legacy<3.1.0,>=3.0.11 in ./.venv/lib/python3.11/site-packages (from spacy<3.8.0,>=3.7.2->en-core-web-sm==3.7.1) (3.0.12)\r\n",
            "Requirement already satisfied: spacy-loggers<2.0.0,>=1.0.0 in ./.venv/lib/python3.11/site-packages (from spacy<3.8.0,>=3.7.2->en-core-web-sm==3.7.1) (1.0.5)\r\n",
            "Requirement already satisfied: murmurhash<1.1.0,>=0.28.0 in ./.venv/lib/python3.11/site-packages (from spacy<3.8.0,>=3.7.2->en-core-web-sm==3.7.1) (1.0.10)\r\n",
            "Requirement already satisfied: cymem<2.1.0,>=2.0.2 in ./.venv/lib/python3.11/site-packages (from spacy<3.8.0,>=3.7.2->en-core-web-sm==3.7.1) (2.0.8)\r\n",
            "Requirement already satisfied: preshed<3.1.0,>=3.0.2 in ./.venv/lib/python3.11/site-packages (from spacy<3.8.0,>=3.7.2->en-core-web-sm==3.7.1) (3.0.9)\r\n",
            "Requirement already satisfied: thinc<8.3.0,>=8.1.8 in ./.venv/lib/python3.11/site-packages (from spacy<3.8.0,>=3.7.2->en-core-web-sm==3.7.1) (8.2.2)\r\n",
            "Requirement already satisfied: wasabi<1.2.0,>=0.9.1 in ./.venv/lib/python3.11/site-packages (from spacy<3.8.0,>=3.7.2->en-core-web-sm==3.7.1) (1.1.2)\r\n",
            "Requirement already satisfied: srsly<3.0.0,>=2.4.3 in ./.venv/lib/python3.11/site-packages (from spacy<3.8.0,>=3.7.2->en-core-web-sm==3.7.1) (2.4.8)\r\n",
            "Requirement already satisfied: catalogue<2.1.0,>=2.0.6 in ./.venv/lib/python3.11/site-packages (from spacy<3.8.0,>=3.7.2->en-core-web-sm==3.7.1) (2.0.10)\r\n",
            "Requirement already satisfied: weasel<0.4.0,>=0.1.0 in ./.venv/lib/python3.11/site-packages (from spacy<3.8.0,>=3.7.2->en-core-web-sm==3.7.1) (0.3.4)\r\n",
            "Requirement already satisfied: typer<0.10.0,>=0.3.0 in ./.venv/lib/python3.11/site-packages (from spacy<3.8.0,>=3.7.2->en-core-web-sm==3.7.1) (0.9.0)\r\n",
            "Requirement already satisfied: smart-open<7.0.0,>=5.2.1 in ./.venv/lib/python3.11/site-packages (from spacy<3.8.0,>=3.7.2->en-core-web-sm==3.7.1) (6.4.0)\r\n",
            "Requirement already satisfied: tqdm<5.0.0,>=4.38.0 in ./.venv/lib/python3.11/site-packages (from spacy<3.8.0,>=3.7.2->en-core-web-sm==3.7.1) (4.66.1)\r\n",
            "Requirement already satisfied: requests<3.0.0,>=2.13.0 in ./.venv/lib/python3.11/site-packages (from spacy<3.8.0,>=3.7.2->en-core-web-sm==3.7.1) (2.31.0)\r\n",
            "Requirement already satisfied: pydantic!=1.8,!=1.8.1,<3.0.0,>=1.7.4 in ./.venv/lib/python3.11/site-packages (from spacy<3.8.0,>=3.7.2->en-core-web-sm==3.7.1) (2.5.3)\r\n",
            "Requirement already satisfied: jinja2 in ./.venv/lib/python3.11/site-packages (from spacy<3.8.0,>=3.7.2->en-core-web-sm==3.7.1) (3.1.2)\r\n",
            "Requirement already satisfied: setuptools in ./.venv/lib/python3.11/site-packages (from spacy<3.8.0,>=3.7.2->en-core-web-sm==3.7.1) (68.2.2)\r\n",
            "Requirement already satisfied: packaging>=20.0 in ./.venv/lib/python3.11/site-packages (from spacy<3.8.0,>=3.7.2->en-core-web-sm==3.7.1) (23.2)\r\n",
            "Requirement already satisfied: langcodes<4.0.0,>=3.2.0 in ./.venv/lib/python3.11/site-packages (from spacy<3.8.0,>=3.7.2->en-core-web-sm==3.7.1) (3.3.0)\r\n",
            "Requirement already satisfied: numpy>=1.19.0 in ./.venv/lib/python3.11/site-packages (from spacy<3.8.0,>=3.7.2->en-core-web-sm==3.7.1) (1.26.3)\r\n",
            "Requirement already satisfied: annotated-types>=0.4.0 in ./.venv/lib/python3.11/site-packages (from pydantic!=1.8,!=1.8.1,<3.0.0,>=1.7.4->spacy<3.8.0,>=3.7.2->en-core-web-sm==3.7.1) (0.6.0)\r\n",
            "Requirement already satisfied: pydantic-core==2.14.6 in ./.venv/lib/python3.11/site-packages (from pydantic!=1.8,!=1.8.1,<3.0.0,>=1.7.4->spacy<3.8.0,>=3.7.2->en-core-web-sm==3.7.1) (2.14.6)\r\n",
            "Requirement already satisfied: typing-extensions>=4.6.1 in ./.venv/lib/python3.11/site-packages (from pydantic!=1.8,!=1.8.1,<3.0.0,>=1.7.4->spacy<3.8.0,>=3.7.2->en-core-web-sm==3.7.1) (4.9.0)\r\n",
            "Requirement already satisfied: charset-normalizer<4,>=2 in ./.venv/lib/python3.11/site-packages (from requests<3.0.0,>=2.13.0->spacy<3.8.0,>=3.7.2->en-core-web-sm==3.7.1) (3.3.2)\r\n",
            "Requirement already satisfied: idna<4,>=2.5 in ./.venv/lib/python3.11/site-packages (from requests<3.0.0,>=2.13.0->spacy<3.8.0,>=3.7.2->en-core-web-sm==3.7.1) (3.6)\r\n",
            "Requirement already satisfied: urllib3<3,>=1.21.1 in ./.venv/lib/python3.11/site-packages (from requests<3.0.0,>=2.13.0->spacy<3.8.0,>=3.7.2->en-core-web-sm==3.7.1) (2.0.7)\r\n",
            "Requirement already satisfied: certifi>=2017.4.17 in ./.venv/lib/python3.11/site-packages (from requests<3.0.0,>=2.13.0->spacy<3.8.0,>=3.7.2->en-core-web-sm==3.7.1) (2023.11.17)\r\n",
            "Requirement already satisfied: blis<0.8.0,>=0.7.8 in ./.venv/lib/python3.11/site-packages (from thinc<8.3.0,>=8.1.8->spacy<3.8.0,>=3.7.2->en-core-web-sm==3.7.1) (0.7.11)\r\n",
            "Requirement already satisfied: confection<1.0.0,>=0.0.1 in ./.venv/lib/python3.11/site-packages (from thinc<8.3.0,>=8.1.8->spacy<3.8.0,>=3.7.2->en-core-web-sm==3.7.1) (0.1.4)\r\n",
            "Requirement already satisfied: click<9.0.0,>=7.1.1 in ./.venv/lib/python3.11/site-packages (from typer<0.10.0,>=0.3.0->spacy<3.8.0,>=3.7.2->en-core-web-sm==3.7.1) (8.1.7)\r\n",
            "Requirement already satisfied: cloudpathlib<0.17.0,>=0.7.0 in ./.venv/lib/python3.11/site-packages (from weasel<0.4.0,>=0.1.0->spacy<3.8.0,>=3.7.2->en-core-web-sm==3.7.1) (0.16.0)\r\n",
            "Requirement already satisfied: MarkupSafe>=2.0 in ./.venv/lib/python3.11/site-packages (from jinja2->spacy<3.8.0,>=3.7.2->en-core-web-sm==3.7.1) (2.1.3)\r\n",
            "\r\n",
            "\u001b[1m[\u001b[0m\u001b[34;49mnotice\u001b[0m\u001b[1;39;49m]\u001b[0m\u001b[39;49m A new release of pip is available: \u001b[0m\u001b[31;49m23.3.1\u001b[0m\u001b[39;49m -> \u001b[0m\u001b[32;49m23.3.2\u001b[0m\r\n",
            "\u001b[1m[\u001b[0m\u001b[34;49mnotice\u001b[0m\u001b[1;39;49m]\u001b[0m\u001b[39;49m To update, run: \u001b[0m\u001b[32;49mpip install --upgrade pip\u001b[0m\r\n",
            "\u001b[38;5;2m\u2714 Download and installation successful\u001b[0m\r\n",
            "You can now load the package via spacy.load('en_core_web_sm')\r\n"
          ]
        }
      ],
      "source": [
        "import io\n",
        "import json\n",
        "import os\n",
        "import os.path\n",
        "import re\n",
        "import urllib.parse\n",
        "\n",
        "import bs4\n",
        "import docx\n",
        "import pandas\n",
        "import pdfminer.converter\n",
        "import pdfminer.layout\n",
        "import pdfminer.pdfinterp\n",
        "import pdfminer.pdfpage\n",
        "import requests\n",
        "\n",
        "!python -m spacy download en"
      ]
    },
    {
      "cell_type": "markdown",
      "metadata": {
        "collapsed": false
      },
      "source": [
        "# Week 1 - Measuring Meaning & Sampling\n",
        "This week, we begin by \"begging, borrowing and stealing\" text from several\n",
        "contexts of human communication (e.g., PDFs, HTML, Word) and preparing it for\n",
        "machines to \"read\" and analyze so that we can begin to build our sample. \n",
        "This notebook outlines scraping text from the web, PDF and Word documents. \n",
        "Then we detail \"spidering\" or walking through hyperlinks to build samples \n",
        "of online content, and using APIs, Application Programming Interfaces, \n",
        "provided by webservices to access their content. Along the way, we will \n",
        "use regular expressions, outlined in the reading, to remove unwanted \n",
        "formatting and ornamentation. Next, we discuss various text encodings, \n",
        "filtering and data structures in which text can be placed for analysis. \n",
        "Finally, we ask you to begin building a corpus for preliminary analysis \n",
        "and articulate what your sample represents in context of your final project. "
      ]
    },
    {
      "cell_type": "markdown",
      "metadata": {},
      "source": [
        "We made a python package just for this course: lucem_illud. If you haven't \n",
        "installed this package, you should run the following code first. You don't \n",
        "need to install the package later; all you need to do is just to import the \n",
        "package with: `import lucem_illud`. For your final projects, you may find it \n",
        "useful to [read the lucem_illud source code](https://github.com/UChicago-Computational-Content-Analysis/lucem_illud/tree/main/lucem_illud) \n",
        "and modify your code for your own interests."
      ]
    },
    {
      "cell_type": "markdown",
      "metadata": {},
      "source": [
        "If you're not familiar with jupyter notebook, you may wonder what the \n",
        "exclamation mark(!) at the beginning of the command does (or even what \n",
        "pip means). The exclamation mark enables us to execute Terminal commands \n",
        "in the notebook cells (e.g., run `!ls` to display files in the current \n",
        "folder).\n",
        "\n",
        "There is also a special download required by the `lucem_illud` module \n",
        "in the module `spacy`. You will see this 'en' module later, but you \n",
        "should probably run the following 2 lines of code, so you can import \n",
        "`lucem_illud`."
      ]
    },
    {
      "cell_type": "markdown",
      "metadata": {
        "collapsed": false
      },
      "source": [
        "We will also be working on the following files/urls"
      ]
    },
    {
      "cell_type": "code",
      "execution_count": 3,
      "metadata": {
        "ExecuteTime": {
          "end_time": "2024-01-09T19:43:37.977698Z",
          "start_time": "2024-01-09T19:43:37.972026Z"
        },
        "collapsed": false
      },
      "outputs": [],
      "source": [
        "wikipedia_base_url = \"https://en.wikipedia.org\"\n",
        "wikipedia_content_analysis = \"https://en.wikipedia.org/wiki/Content_analysis\"\n",
        "content_analysis_save = \"wikipedia_content_analysis.html\"\n",
        "example_text_file = \"sometextfile.txt\"\n",
        "information_extraction_pdf = \"https://github.com/Computational-Content-Analysis-2018/Data-Files/raw/master/1-intro/Content%20Analysis%2018.pdf\"\n",
        "example_docx = \"https://github.com/Computational-Content-Analysis-2018/Data-Files/raw/master/1-intro/macs6000_connecting_to_midway.docx\"\n",
        "example_docx_save = \"example.docx\""
      ]
    },
    {
      "cell_type": "markdown",
      "metadata": {
        "collapsed": false
      },
      "source": [
        "# Scraping\n",
        "\n",
        "Before we can start analyzing content we need to obtain it. Sometimes it will be\n",
        "provided to us from a pre-curated text archive, but sometimes we will need to\n",
        "download it. As a starting example we will attempt to download the wikipedia\n",
        "page on content analysis. The page is located at [https://en.wikipedia.org/wiki/\n",
        "Content_analysis](https://en.wikipedia.org/wiki/Content_analysis) so lets start\n",
        "with that.\n",
        "\n",
        "We can do this by making an HTTP GET request to that url, a GET request is\n",
        "simply a request to the server to provide the contents given by some url. The\n",
        "other request we will be using in this class is called a POST request and\n",
        "requests the server to take some content we provide. While the Python standard\n",
        "library does have the ability do make GET requests we will be using the\n",
        "[_requests_](http://docs.python-requests.org/en/master/) package as it is _'the\n",
        "only Non-GMO HTTP library for Python'_...also it provides a nicer interface."
      ]
    },
    {
      "cell_type": "code",
      "execution_count": 4,
      "metadata": {
        "ExecuteTime": {
          "end_time": "2024-01-09T19:43:41.831733Z",
          "start_time": "2024-01-09T19:43:41.678927Z"
        },
        "collapsed": false
      },
      "outputs": [
        {
          "data": {
            "text/plain": "<Response [200]>"
          },
          "execution_count": 4,
          "metadata": {},
          "output_type": "execute_result"
        }
      ],
      "source": [
        "requests.get(wikipedia_content_analysis)"
      ]
    },
    {
      "cell_type": "markdown",
      "metadata": {
        "collapsed": false
      },
      "source": [
        "`'Response [200]'` means the server responded with what we asked for. If you get\n",
        "another number (e.g. 404) it likely means there was some kind of error, these\n",
        "codes are called HTTP response codes and a list of them can be found\n",
        "[here](https://en.wikipedia.org/wiki/List_of_HTTP_status_codes). The response\n",
        "object contains all the data the server sent including the website's contents\n",
        "and the HTTP header. We are interested in the contents which we can access with\n",
        "the `.text` attribute."
      ]
    },
    {
      "cell_type": "code",
      "execution_count": 5,
      "metadata": {
        "ExecuteTime": {
          "end_time": "2024-01-09T19:43:45.507498Z",
          "start_time": "2024-01-09T19:43:45.385556Z"
        },
        "collapsed": false
      },
      "outputs": [
        {
          "name": "stdout",
          "output_type": "stream",
          "text": [
            "<!DOCTYPE html>\n",
            "<html class=\"client-nojs vector-feature-language-in-header-enabled vector-feature-language-in-main-page-header-disabled vector-feature-sticky-header-disabled vector-feature-page-tools-pinned-disabled vector-feature-toc-pinned-clientpref-1 vector-feature-main-menu-pinned-disabled vector-feature-limited-width-clientpref-1 vector-feature-limited-width-content-enabled vector-feature-zebra-design-enabled vector-feature-custom-font-size-clientpref-0 vector-feature-client-preferences-disabled vector-feature-client-prefs-pinned-disabled vector-toc-available\" lang=\"en\" dir=\"ltr\">\n",
            "<head>\n",
            "<meta charset=\"UTF-8\">\n",
            "<title>Content analysis - Wikipedia</title>\n",
            "<script>(function(){var className=\"client-js vector-feature-language-in-header-enabled vector-feature-language-in-main-page-header-disabled vector-feature-sticky-header-disabled vector-feature-page-tools-pinned-disabled vector-feature-toc-pinned-clientpref-1 vector-feature-main-menu-pinned-disabled vector-feature-limited-width-cli\n"
          ]
        }
      ],
      "source": [
        "wiki_content_request = requests.get(wikipedia_content_analysis)\n",
        "print(wiki_content_request.text[:1000])"
      ]
    },
    {
      "cell_type": "markdown",
      "metadata": {
        "collapsed": false
      },
      "source": [
        "This is not what we were looking for, because it is the start of the HTML that\n",
        "makes up the website. This is HTML and is meant to be read by computers. Luckily\n",
        "we have a computer to parse it for us. To do the parsing we will use [_Beautiful\n",
        "Soup_](https://www.crummy.com/software/BeautifulSoup/) which is a better parser\n",
        "than the one in the standard library."
      ]
    },
    {
      "cell_type": "markdown",
      "metadata": {
        "collapsed": false
      },
      "source": [
        "But before we proceed to Beautiful Soup, a digression about Python syntax, \n",
        "especially about objects and functions.\n",
        "For those who are not familiar with the syntax of python (or, if you're \n",
        "familiar with R programming), you might wonder what requests.get or \n",
        "wikiContentRequest.text mean. To understand this, you need to first understand \n",
        "what objects are. You may have heard that Python is an object-oriented \n",
        "programming language (unlike the procedure oriented programming language, an \n",
        "example of which is R). Object is a set of variables (or, data) and functions \n",
        "into which you pass your data. So, in object-oriented programming languages, \n",
        "like python, variables and functions are bundled into objects.\n",
        "\n",
        "For example, let's look at wikiContentRequest. We use dir() function, which \n",
        "returns the list of attributes and functions of objects."
      ]
    },
    {
      "cell_type": "code",
      "execution_count": 6,
      "metadata": {
        "ExecuteTime": {
          "end_time": "2024-01-09T19:43:50.092966Z",
          "start_time": "2024-01-09T19:43:50.077321Z"
        },
        "collapsed": false
      },
      "outputs": [
        {
          "data": {
            "text/plain": "['__attrs__',\n '__bool__',\n '__class__',\n '__delattr__',\n '__dict__',\n '__dir__',\n '__doc__',\n '__enter__',\n '__eq__',\n '__exit__',\n '__format__',\n '__ge__',\n '__getattribute__',\n '__getstate__',\n '__gt__',\n '__hash__',\n '__init__',\n '__init_subclass__',\n '__iter__',\n '__le__',\n '__lt__',\n '__module__',\n '__ne__',\n '__new__',\n '__nonzero__',\n '__reduce__',\n '__reduce_ex__',\n '__repr__',\n '__setattr__',\n '__setstate__',\n '__sizeof__',\n '__str__',\n '__subclasshook__',\n '__weakref__',\n '_content',\n '_content_consumed',\n '_next',\n 'apparent_encoding',\n 'close',\n 'connection',\n 'content',\n 'cookies',\n 'elapsed',\n 'encoding',\n 'headers',\n 'history',\n 'is_permanent_redirect',\n 'is_redirect',\n 'iter_content',\n 'iter_lines',\n 'json',\n 'links',\n 'next',\n 'ok',\n 'raise_for_status',\n 'raw',\n 'reason',\n 'request',\n 'status_code',\n 'text',\n 'url']"
          },
          "execution_count": 6,
          "metadata": {},
          "output_type": "execute_result"
        }
      ],
      "source": [
        "dir(wiki_content_request)"
      ]
    },
    {
      "cell_type": "markdown",
      "metadata": {
        "collapsed": false
      },
      "source": [
        "There's 'text' here. We used 'wikiContentRequest.text' to access 'text.' In \n",
        "other words, we use .(dot notation) to access functions from objects. \n",
        "wikiContentRequest has a set of functions, as shown above, and we used \n",
        "'wikiContentRequest.text' to access one of them. By the way, dot notations \n",
        "do not necessarily refer to functions--it refers to anything that the entity \n",
        "contains. "
      ]
    },
    {
      "cell_type": "markdown",
      "metadata": {
        "collapsed": false
      },
      "source": [
        "Moving on to the next step: BeautifulSoup, a Python library which extracts data \n",
        "from HTML and XML, and transforms HTML files into Python objects."
      ]
    },
    {
      "cell_type": "code",
      "execution_count": 7,
      "metadata": {
        "ExecuteTime": {
          "end_time": "2024-01-09T19:43:54.096032Z",
          "start_time": "2024-01-09T19:43:54.061619Z"
        },
        "collapsed": false
      },
      "outputs": [
        {
          "name": "stdout",
          "output_type": "stream",
          "text": [
            "\n",
            "\n",
            "\n",
            "\n",
            "Content analysis - Wikipedia\n",
            "\n",
            "\n",
            "\n",
            "\n",
            "\n",
            "\n",
            "\n",
            "\n",
            "\n",
            "\n",
            "\n",
            "\n",
            "\n",
            "\n",
            "\n",
            "\n",
            "\n",
            "\n",
            "\n",
            "\n",
            "\n",
            "\n",
            "\n",
            "\n",
            "\n",
            "\n",
            "\n",
            "\n",
            "\n",
            "\n",
            "\n",
            "\n",
            "\n",
            "\n",
            "\n",
            "\n",
            "Jump to content\n",
            "\n",
            "\n",
            "\n",
            "\n",
            "\n",
            "\n",
            "\n",
            "Main menu\n",
            "\n",
            "\n",
            "\n",
            "\n",
            "\n",
            "Main menu\n",
            "move to sidebar\n",
            "hide\n",
            "\n",
            "\n",
            "\n",
            "\t\tNavigation\n",
            "\t\n",
            "\n",
            "\n",
            "Main pageContentsCurrent eventsRandom arti\n"
          ]
        }
      ],
      "source": [
        "wiki_content_soup = bs4.BeautifulSoup(wiki_content_request.text, \"html.parser\")\n",
        "print(wiki_content_soup.text[:200])"
      ]
    },
    {
      "cell_type": "markdown",
      "metadata": {
        "collapsed": false
      },
      "source": [
        "This is better but there's still random whitespace, and we have more than just\n",
        "the text of the article. This is because what we requested is the whole webpage,\n",
        "not just the text for the article.\n",
        "\n",
        "We want to extract only the text we care about, and in order to do this we will\n",
        "need to inspect the html. One way to do this is simply to go to the website with\n",
        "a browser and use its inspection or view source tool. If javascript or other\n",
        "dynamic loading occurs on the page, however, it is likely that what Python\n",
        "receives is not what you will see, so we will need to inspect what Python\n",
        "receives. To do this we can save the html `requests` obtained."
      ]
    },
    {
      "cell_type": "code",
      "execution_count": 8,
      "metadata": {
        "ExecuteTime": {
          "end_time": "2024-01-08T23:09:02.066843Z",
          "start_time": "2024-01-08T23:09:02.046143Z"
        },
        "collapsed": false
      },
      "outputs": [],
      "source": [
        "with open(content_analysis_save, mode=\"w\", encoding=\"utf-8\") as f:\n",
        "    f.write(wiki_content_request.text)"
      ]
    },
    {
      "cell_type": "markdown",
      "metadata": {
        "collapsed": false
      },
      "source": [
        "open() is a function which literally opens and returns the file. This function \n",
        "has multiple modes, and, here, we used mode as 'w', which means: open a file \n",
        "for writing. And then, we use 'write' function to write on the empty file \n",
        "(content_analysis_save) that we created using \n",
        "open(content_analysis_save, mode='w', encoding='utf-8').} What did we write \n",
        "on this file? The text we got from wikiContentRequest.text"
      ]
    },
    {
      "cell_type": "markdown",
      "metadata": {
        "collapsed": false
      },
      "source": [
        "Now let's open the file (`wikipedia_content_analysis.html`) we just created with\n",
        "a web browser. It should look sort of like the original but without the images\n",
        "and formatting.\n",
        "\n",
        "As there is very little standardization on structuring webpages, figuring out\n",
        "how best to extract what you want is an art. Looking at this page it looks like\n",
        "all the main textual content is inside `<p>`(paragraph) tags within the `<body>`\n",
        "tag. "
      ]
    },
    {
      "cell_type": "code",
      "execution_count": 8,
      "metadata": {
        "ExecuteTime": {
          "end_time": "2024-01-09T19:44:07.917378Z",
          "start_time": "2024-01-09T19:44:07.903192Z"
        },
        "collapsed": false
      },
      "outputs": [
        {
          "name": "stdout",
          "output_type": "stream",
          "text": [
            "Content analysis is the study of documents and communication artifacts, which might be texts of various formats, pictures, audio or video. Social scientists use content analysis to examine patterns in communication in a replicable and systematic manner.[1] One of the key advantages of using content analysis to analyse social phenomena is their non-invasive nature, in contrast to simulating social experiences or collecting survey answers.\n",
            "\n",
            "Practices and philosophies of content analysis vary between academic disciplines. They all involve systematic reading or observation of texts or artifacts which are assigned labels (sometimes called codes) to indicate the presence of interesting, meaningful pieces of content.[2][3] By systematically labeling the content of a set of texts, researchers can analyse patterns of content quantitatively using statistical methods, or use qualitative methods to analyse meanings of content within texts.\n",
            "\n",
            "Computers are increasingly used in content analysis to automate the labeling (or coding) of documents. Simple computational techniques can provide descriptive data such as word frequencies and document lengths. Machine learning classifiers can greatly increase the number of texts that can be labeled, but the scientific utility of doing so is a matter of debate. Further, numerous computer-aided text analysis (CATA) computer programs are available that analyze text for pre-determined linguistic, semantic, and psychological characteristics.[4]\n"
          ]
        }
      ],
      "source": [
        "content_p_tags = wiki_content_soup.body.findAll(\"p\")\n",
        "for p_tag in content_p_tags[:3]:\n",
        "    print(p_tag.text)"
      ]
    },
    {
      "cell_type": "markdown",
      "metadata": {
        "collapsed": false
      },
      "source": [
        "Another excursion for those who are not familiar with programming: for loop. \n",
        "For loop is used to iterate over a sequence. \"content_p_tags\" contains multiple\n",
        "paragraphs, each of which starts and ends with `<p>`. What the \"for pTag in \n",
        "content_p_tags[:3]\" does here is: find each paragraph in contentPTags, which, \n",
        "here, we limited to the first three using content_p_tags[:3], and then print \n",
        "each paragraph. So, we have three paragraphs. By the way, you can insert \n",
        "`<p>` in Jupyter notebook!"
      ]
    },
    {
      "cell_type": "markdown",
      "metadata": {
        "collapsed": false
      },
      "source": [
        "We now have all the text from the page, split up by paragraph. If we wanted to\n",
        "get the section headers or references as well it would require a bit more work,\n",
        "but is doable.\n",
        "\n",
        "There is one more thing we might want to do before sending this text to be\n",
        "processed, remove the references indicators (`[2]`, `[3]`, etc). To do this we\n",
        "can use a short regular expression (regex)."
      ]
    },
    {
      "cell_type": "code",
      "execution_count": 9,
      "metadata": {
        "ExecuteTime": {
          "end_time": "2024-01-09T19:44:13.396975Z",
          "start_time": "2024-01-09T19:44:13.390193Z"
        },
        "collapsed": false
      },
      "outputs": [
        {
          "name": "stdout",
          "output_type": "stream",
          "text": [
            "                                       paragraph-text\n",
            "0   Content analysis is the study of documents and...\n",
            "1   Practices and philosophies of content analysis...\n",
            "2   Computers are increasingly used in content ana...\n",
            "3   Content analysis is best understood as a broad...\n",
            "4   The simplest and most objective form of conten...\n",
            "5   A further step in analysis is the distinction ...\n",
            "6   Quantitative content analysis highlights frequ...\n",
            "7   Siegfried Kracauer provides a critique of quan...\n",
            "8   The data collection instrument used in content...\n",
            "9   According to current standards of good scienti...\n",
            "10  Furthermore, the Database of Variables for Con...\n",
            "11  With the rise of common computing facilities l...\n",
            "12  By having contents of communication available ...\n",
            "13  Computer-assisted analysis can help with large...\n",
            "14  Robert Weber notes: \"To make valid inferences ...\n",
            "15  According to today's reporting standards, quan...\n",
            "16  There are five types of texts in content analy...\n",
            "17  Content analysis is research using the categor...\n",
            "18  Over the years, content analysis has been appl...\n",
            "19  In recent times, particularly with the advent ...\n",
            "20  Quantitative content analysis has enjoyed a re...\n",
            "21  Content analysis can also be described as stud...\n",
            "22  Manifest content is readily understandable at ...\n",
            "23  Holsti groups fifteen uses of content analysis...\n",
            "24  He also places these uses into the context of ...\n",
            "25  The following table shows fifteen uses of cont...\n",
            "26  As a counterpoint, there are limits to the sco...\n",
            "27  The process of the initial coding scheme or ap...\n",
            "28  With either approach above, immersing oneself ...\n"
          ]
        }
      ],
      "source": [
        "content_paragraphs = []\n",
        "for pTag in content_p_tags:\n",
        "    # strings starting with r are raw so their \\'s are not modifier characters\n",
        "    # If we didn't start with r the string would be: '\\\\[\\\\d+\\\\]'\n",
        "    content_paragraphs.append(re.sub(r\"\\[\\d+\\]\", \"\", pTag.text))\n",
        "\n",
        "# convert to a DataFrame\n",
        "content_paragraphs_df = pandas.DataFrame({\"paragraph-text\": content_paragraphs})\n",
        "print(content_paragraphs_df)"
      ]
    },
    {
      "cell_type": "markdown",
      "metadata": {
        "collapsed": false
      },
      "source": [
        "Since we learned how to do for loop, you might get what we did here: using \n",
        "content_paragraphs = [], we made an empty list; and then, for each paragraph \n",
        "in content_p_tags, we substituted every [\\d+\\] with '', i.e., removed every \n",
        "[\\d+\\], and then appended each paragraph (now without [\\d+\\]) to the empty \n",
        "list. As we can see, we have a dataframe, each row of which is each \n",
        "paragraph of contentPTags, without reference indicators. \n",
        "\n",
        "By the way, what does [\\d+\\] mean? If you are not familiar with regex, it \n",
        "is a way of specifying searches in text.\n",
        "A regex engine takes in the search pattern, in the above case `'\\[\\d+\\]'` and\n",
        "some string, the paragraph texts. Then it reads the input string one character\n",
        "at a time checking if it matches the search. Here the regex `'\\d'` matches\n",
        "number characters (while `'\\['` and `'\\]'` capture the braces on either side)."
      ]
    },
    {
      "cell_type": "markdown",
      "metadata": {
        "collapsed": false
      },
      "source": [
        "Now we have a `DataFrame` containing all relevant text from the page ready to \n",
        "be processed."
      ]
    },
    {
      "cell_type": "code",
      "execution_count": 10,
      "metadata": {
        "ExecuteTime": {
          "end_time": "2024-01-09T19:44:17.712972Z",
          "start_time": "2024-01-09T19:44:17.703511Z"
        },
        "collapsed": false
      },
      "outputs": [
        {
          "data": {
            "text/plain": "<re.Match object; span=(36, 37), match='2'>"
          },
          "execution_count": 10,
          "metadata": {},
          "output_type": "execute_result"
        }
      ],
      "source": [
        "find_number = r\"\\d\"\n",
        "regexResults = re.search(\n",
        "    find_number, \"not a number, not a number, numbers 2134567890, not a number\"\n",
        ")\n",
        "regexResults"
      ]
    },
    {
      "cell_type": "markdown",
      "metadata": {
        "collapsed": false
      },
      "source": [
        "In Python the regex package (`re`) usually returns `Match` objects (you can have\n",
        "multiple pattern hits in a single `Match`), to get the string that matched our\n",
        "pattern we can use the `.group()` method, and as we want the first one we will\n",
        "ask for the 0'th group."
      ]
    },
    {
      "cell_type": "code",
      "execution_count": 11,
      "metadata": {
        "ExecuteTime": {
          "end_time": "2024-01-09T19:44:21.883006Z",
          "start_time": "2024-01-09T19:44:21.878052Z"
        },
        "collapsed": false
      },
      "outputs": [
        {
          "name": "stdout",
          "output_type": "stream",
          "text": [
            "2\n"
          ]
        }
      ],
      "source": [
        "print(regexResults.group(0))"
      ]
    },
    {
      "cell_type": "markdown",
      "metadata": {
        "collapsed": false
      },
      "source": [
        "That gives us the first number, if we wanted the whole block of numbers we \n",
        "could add a wildcard `'+'` which requests 1 or more instances of the preceding\n",
        "character."
      ]
    },
    {
      "cell_type": "code",
      "execution_count": 12,
      "metadata": {
        "ExecuteTime": {
          "end_time": "2024-01-09T19:44:24.091153Z",
          "start_time": "2024-01-09T19:44:24.076755Z"
        },
        "collapsed": false
      },
      "outputs": [
        {
          "name": "stdout",
          "output_type": "stream",
          "text": [
            "2134567890\n"
          ]
        }
      ],
      "source": [
        "find_numbers = r\"\\d+\"\n",
        "regexResults = re.search(\n",
        "    find_numbers, \"not a number, not a number, numbers 2134567890, not a number\"\n",
        ")\n",
        "print(regexResults.group(0))"
      ]
    },
    {
      "cell_type": "markdown",
      "metadata": {
        "collapsed": false
      },
      "source": [
        "Now we have the whole block of numbers, there are a huge number of special\n",
        "characters in regex, for the full description of Python's implementation look at\n",
        "the [re docs](https://docs.python.org/3/library/re.html) there is also a short\n",
        "[tutorial](https://docs.python.org/3/howto/regex.html#regex-howto)."
      ]
    },
    {
      "cell_type": "markdown",
      "metadata": {
        "collapsed": false
      },
      "source": [
        "# <font color=\"red\">Exercise 1</font>\n",
        "<font color=\"red\">Construct cells immediately below this that describe and \n",
        "download web content relating to your anticipated final project. Use beautiful\n",
        "soup and at least five regular expressions to extract relevant, nontrivial \n",
        "*chunks* of that content (e.g., cleaned sentences, paragraphs, etc.) to a \n",
        "pandas `Dataframe`.</font>"
      ]
    },
    {
      "cell_type": "markdown",
      "metadata": {
        "collapsed": false
      },
      "source": [
        "# Spidering\n",
        "\n",
        "What if we want to get a bunch of different pages from wikipedia. We would\n",
        "need to get the url for each of the pages we want. Typically, we want pages that\n",
        "are linked to by other pages, and so we will need to parse pages and identify the\n",
        "links. Right now we will be retrieving all links in the body of the content\n",
        "analysis page.\n",
        "\n",
        "To do this we will need to find all the `<a>` (anchor) tags with `href`s\n",
        "(hyperlink references) inside of `<p>` tags. `href` can have many\n",
        "[different](http://stackoverflow.com/questions/4855168/what-is-href-and-why-is-it-used) [forms](https://en.wikipedia.org/wiki/Hyperlink#Hyperlinks_in_HTML) so dealing with them can be tricky, but generally, you will want to extract\n",
        "absolute or relative links. An absolute link is one you can follow without\n",
        "modification, while a relative link requires a base url that you will then\n",
        "append. Wikipedia uses relative urls for its internal links: below is an example\n",
        "for dealing with them."
      ]
    },
    {
      "cell_type": "code",
      "execution_count": 13,
      "metadata": {
        "ExecuteTime": {
          "end_time": "2024-01-09T19:44:30.298471Z",
          "start_time": "2024-01-09T19:44:30.292163Z"
        },
        "collapsed": false
      },
      "outputs": [
        {
          "name": "stdout",
          "output_type": "stream",
          "text": [
            "[('https://en.wikipedia.org/wiki/Document', 0, 'documents'), ('https://en.wikipedia.org/wiki/Text_(literary_theory)', 1, 'texts'), ('https://en.wikipedia.org/wiki/Coding_(social_sciences)', 1, 'assigned labels (sometimes called codes)'), ('https://en.wikipedia.org/wiki/Semantics', 1, 'meaningful'), ('https://en.wikipedia.org/wiki/Text_(literary_theory)', 1, 'texts'), ('https://en.wikipedia.org/wiki/Quantitative_research', 1, 'quantitatively'), ('https://en.wikipedia.org/wiki/Statistics', 1, 'statistical methods'), ('https://en.wikipedia.org/wiki/Qualitative_research', 1, 'qualitative'), ('https://en.wikipedia.org/wiki/Text_(literary_theory)', 1, 'texts'), ('https://en.wikipedia.org/wiki/Machine_learning', 2, 'Machine learning')]\n"
          ]
        }
      ],
      "source": [
        "other_page_urls = []\n",
        "# We also want to know where the links come from, so we also will get:\n",
        "# the paragraph number AND the word the link is in\n",
        "for paragraphNum, pTag in enumerate(content_p_tags):\n",
        "    # we only want hrefs that link to wiki pages\n",
        "    tag_links = pTag.findAll(\"a\", href=re.compile(\"/wiki/\"), class_=False)\n",
        "    for aTag in tag_links:\n",
        "        # We need to extract the url from the <a> tag\n",
        "        rel_url = aTag.get(\"href\")\n",
        "        link_text = aTag.text\n",
        "        # wikipedia_base_url is the base we can use the urllib joining function to merge them\n",
        "        # Giving a nice structured tuple like this means we can use tuple expansion later\n",
        "        other_page_urls.append(\n",
        "            (\n",
        "                urllib.parse.urljoin(wikipedia_base_url, rel_url),\n",
        "                paragraphNum,\n",
        "                link_text,\n",
        "            )\n",
        "        )\n",
        "print(other_page_urls[:10])"
      ]
    },
    {
      "cell_type": "code",
      "execution_count": 14,
      "metadata": {
        "ExecuteTime": {
          "end_time": "2024-01-09T19:44:33.749898Z",
          "start_time": "2024-01-09T19:44:33.745345Z"
        },
        "collapsed": false
      },
      "outputs": [
        {
          "name": "stdout",
          "output_type": "stream",
          "text": [
            "[<p><b>Content analysis</b> is the study of <a href=\"/wiki/Document\" title=\"Document\">documents</a> and communication artifacts, which might be texts of various formats, pictures, audio or video. Social scientists use content analysis to examine patterns in communication in a replicable and systematic manner.<sup class=\"reference\" id=\"cite_ref-1\"><a href=\"#cite_note-1\">[1]</a></sup> One of the key advantages of using content analysis to analyse social phenomena is their non-invasive nature, in contrast to simulating social experiences or collecting survey answers.\n",
            "</p>, <p>Practices and philosophies of content analysis vary between academic disciplines. They all involve systematic reading or observation of <a href=\"/wiki/Text_(literary_theory)\" title=\"Text (literary theory)\">texts</a> or artifacts which are <a href=\"/wiki/Coding_(social_sciences)\" title=\"Coding (social sciences)\">assigned labels (sometimes called codes)</a> to indicate the presence of interesting, <a href=\"/wiki/Semantics\" title=\"Semantics\">meaningful</a> pieces of content.<sup class=\"reference\" id=\"cite_ref-2\"><a href=\"#cite_note-2\">[2]</a></sup><sup class=\"reference\" id=\"cite_ref-Tipaldo_2014_42_3-0\"><a href=\"#cite_note-Tipaldo_2014_42-3\">[3]</a></sup> By systematically labeling the content of a set of <a href=\"/wiki/Text_(literary_theory)\" title=\"Text (literary theory)\">texts</a>, researchers can analyse patterns of content <a href=\"/wiki/Quantitative_research\" title=\"Quantitative research\">quantitatively</a> using <a href=\"/wiki/Statistics\" title=\"Statistics\">statistical methods</a>, or use <a href=\"/wiki/Qualitative_research\" title=\"Qualitative research\">qualitative</a> methods to analyse meanings of content within <a href=\"/wiki/Text_(literary_theory)\" title=\"Text (literary theory)\">texts</a>.\n",
            "</p>, <p>Computers are increasingly used in content analysis to automate the labeling (or coding) of documents. Simple computational techniques can provide descriptive data such as word frequencies and document lengths. <a href=\"/wiki/Machine_learning\" title=\"Machine learning\">Machine learning</a> classifiers can greatly increase the number of texts that can be labeled, but the scientific utility of doing so is a matter of debate. Further, numerous computer-aided text analysis (CATA) computer programs are available that analyze text for pre-determined linguistic, semantic, and psychological characteristics.<sup class=\"reference\" id=\"cite_ref-Neuendorf2016_4-0\"><a href=\"#cite_note-Neuendorf2016-4\">[4]</a></sup>\n",
            "</p>, <p>Content analysis is best understood as a broad family of techniques. Effective researchers choose techniques that best help them answer their substantive questions. That said, according to <a href=\"/wiki/Klaus_Krippendorff\" title=\"Klaus Krippendorff\">Klaus Krippendorff</a>, six questions must be addressed in every content analysis:<sup class=\"reference\" id=\"cite_ref-Krippendorff2004_5-0\"><a href=\"#cite_note-Krippendorff2004-5\">[5]</a></sup>\n",
            "</p>, <p>The simplest and most objective form of content analysis considers unambiguous characteristics of the text such as <a class=\"mw-redirect\" href=\"/wiki/Word_frequencies\" title=\"Word frequencies\">word frequencies</a>, the page area taken by a newspaper column, or the duration of a <a href=\"/wiki/Radio\" title=\"Radio\">radio</a> or <a href=\"/wiki/Television\" title=\"Television\">television</a> program. Analysis of simple word frequencies is limited because the meaning of a word depends on surrounding text.  <a href=\"/wiki/Key_Word_in_Context\" title=\"Key Word in Context\">Key Word In Context</a> (KWIC) routines address this by placing words in their textual context. This helps resolve ambiguities such as those introduced by <a href=\"/wiki/Synonym\" title=\"Synonym\">synonyms</a> and <a href=\"/wiki/Homonym\" title=\"Homonym\">homonyms</a>.\n",
            "</p>, <p>A further step in analysis is the distinction between dictionary-based (quantitative) approaches and qualitative approaches. Dictionary-based approaches set up a list of categories derived from the frequency list of words and control the distribution of words and their respective categories over the texts. While methods in quantitative content analysis in this way transform observations of found categories into quantitative statistical data, the qualitative content analysis focuses more on the intentionality and its implications. There are strong parallels between qualitative content analysis and <a href=\"/wiki/Thematic_analysis\" title=\"Thematic analysis\">thematic analysis</a>.<sup class=\"reference\" id=\"cite_ref-6\"><a href=\"#cite_note-6\">[6]</a></sup>\n",
            "</p>, <p>Quantitative content analysis highlights frequency counts and statistical analysis of these coded frequencies.<sup class=\"reference\" id=\"cite_ref-:03_7-0\"><a href=\"#cite_note-:03-7\">[7]</a></sup> Additionally, quantitative content analysis begins with a framed hypothesis with coding decided on before the analysis begins. These coding categories are strictly relevant to the researcher's hypothesis. Quantitative analysis also takes a deductive approach.<sup class=\"reference\" id=\"cite_ref-:12_8-0\"><a href=\"#cite_note-:12-8\">[8]</a></sup> Examples of content-analytical variables and constructs can be found, for example, in the open-access database <a class=\"external text\" href=\"https://www.hope.uzh.ch/doca\" rel=\"nofollow\">DOCA</a>. This database compiles, systematizes, and evaluates relevant content-analytical variables of communication and political science research areas and topics.\n",
            "</p>, <p><a href=\"/wiki/Siegfried_Kracauer\" title=\"Siegfried Kracauer\">Siegfried Kracauer</a> provides a critique of quantitative analysis, asserting that it oversimplifies complex communications in order to be more reliable. On the other hand, qualitative analysis deals with the intricacies of latent interpretations, whereas quantitative has a focus on manifest meanings. He also acknowledges an \"overlap\" of qualitative and quantitative content analysis.<sup class=\"reference\" id=\"cite_ref-:03_7-1\"><a href=\"#cite_note-:03-7\">[7]</a></sup> Patterns are looked at more closely in qualitative analysis, and based on the latent meanings that the researcher may find, the course of the research could be changed. It is inductive and begins with open research questions, as opposed to a hypothesis.<sup class=\"reference\" id=\"cite_ref-:12_8-1\"><a href=\"#cite_note-:12-8\">[8]</a></sup>\n",
            "</p>, <p>The data collection instrument used in content analysis is the codebook or coding scheme. In qualitative content analysis the codebook is constructed and improved <i>during</i> coding, while in quantitative content analysis the codebook needs to be developed and pretested for reliability and validity <i>before</i> coding.<sup class=\"reference\" id=\"cite_ref-Neuendorf2016_4-1\"><a href=\"#cite_note-Neuendorf2016-4\">[4]</a></sup> The codebook includes detailed instructions for human coders plus clear definitions of the respective concepts or variables to be coded plus the assigned values.\n",
            "</p>, <p>According to current standards of good scientific practice, each content analysis study should provide their codebook in the appendix or as supplementary material so that <a href=\"/wiki/Reproducibility\" title=\"Reproducibility\">reproducibility</a> of the study is ensured. On the <a class=\"external text\" href=\"https://osf.io\" rel=\"nofollow\">Open Science Framework</a> (OSF) server of the <a href=\"/wiki/Center_for_Open_Science\" title=\"Center for Open Science\">Center for Open Science</a> a lot of codebooks of content analysis studies are freely available via search for \"codebook\".\n",
            "</p>, <p>Furthermore, the <i>Database of Variables for Content Analysis</i> (DOCA) provides an open access archive of pretested variables and established codebooks for content analyses.<sup class=\"reference\" id=\"cite_ref-9\"><a href=\"#cite_note-9\">[9]</a></sup> Measures from the archive can be adopted in future studies to ensure the use of high-quality and comparable instruments. DOCA covers, among others, measures for the content analysis of fictional media and entertainment (e.g., measures for sexualization in video games<sup class=\"reference\" id=\"cite_ref-10\"><a href=\"#cite_note-10\">[10]</a></sup>), of user-generated media content (e.g., measures for online hate speech<sup class=\"reference\" id=\"cite_ref-11\"><a href=\"#cite_note-11\">[11]</a></sup>), and of news media and journalism (e.g., measures for stock photo use in press reporting on child sexual abuse,<sup class=\"reference\" id=\"cite_ref-12\"><a href=\"#cite_note-12\">[12]</a></sup> and measures of personalization in election campaign coverage<sup class=\"reference\" id=\"cite_ref-13\"><a href=\"#cite_note-13\">[13]</a></sup>).\n",
            "</p>, <p>With the rise of common computing facilities like PCs, computer-based methods of analysis are growing in popularity.<sup class=\"reference\" id=\"cite_ref-14\"><a href=\"#cite_note-14\">[14]</a></sup><sup class=\"reference\" id=\"cite_ref-15\"><a href=\"#cite_note-15\">[15]</a></sup><sup class=\"reference\" id=\"cite_ref-16\"><a href=\"#cite_note-16\">[16]</a></sup> Answers to open ended questions, newspaper articles, political party manifestos, medical records or systematic observations in experiments can all be subject to systematic analysis of textual data.\n",
            "</p>, <p>By having contents of communication available in form of machine readable texts, the input is analyzed for frequencies and coded into categories for building up inferences.\n",
            "</p>, <p>Computer-assisted analysis can help with large, electronic data sets by cutting out time and eliminating the need for multiple human coders to establish inter-coder reliability. However, human coders can still be employed for content analysis, as they are often more able to pick out nuanced and latent meanings in text. A study  found that human coders were able to evaluate a broader range and make inferences based on latent meanings.<sup class=\"reference\" id=\"cite_ref-17\"><a href=\"#cite_note-17\">[17]</a></sup>\n",
            "</p>, <p>Robert Weber notes: \"To make valid inferences from the text, it is important that the classification procedure be reliable in the sense of being consistent: Different people should code the same text in the same way\".<sup class=\"reference\" id=\"cite_ref-18\"><a href=\"#cite_note-18\">[18]</a></sup> The validity, inter-coder reliability and intra-coder reliability are subject to intense methodological research efforts over long years.<sup class=\"reference\" id=\"cite_ref-Krippendorff2004_5-1\"><a href=\"#cite_note-Krippendorff2004-5\">[5]</a></sup>\n",
            "Neuendorf suggests that when human coders are used in content analysis at least two independent coders should be used. <a href=\"/wiki/Reliability_(statistics)\" title=\"Reliability (statistics)\">Reliability</a> of human coding is often measured using a statistical measure of <i>inter-coder reliability</i> or \"the amount of agreement or correspondence among two or more coders\".<sup class=\"reference\" id=\"cite_ref-Neuendorf2016_4-2\"><a href=\"#cite_note-Neuendorf2016-4\">[4]</a></sup> Lacy and Riffe identify the measurement of inter-coder reliability as a strength of quantitative content analysis, arguing that, if content analysts do not measure inter-coder reliability, their data are no more reliable than the subjective impressions of a single reader.<sup class=\"reference\" id=\"cite_ref-19\"><a href=\"#cite_note-19\">[19]</a></sup>\n",
            "</p>, <p>According to today's reporting standards, quantitative content analyses should be published with complete codebooks and for all variables or measures in the codebook the appropriate inter-coder or <a href=\"/wiki/Inter-rater_reliability\" title=\"Inter-rater reliability\">inter-rater reliability</a> coefficients should be reported based on empirical pre-tests.<sup class=\"reference\" id=\"cite_ref-Neuendorf2016_4-3\"><a href=\"#cite_note-Neuendorf2016-4\">[4]</a></sup><sup class=\"reference\" id=\"cite_ref-:1_20-0\"><a href=\"#cite_note-:1-20\">[20]</a></sup><sup class=\"reference\" id=\"cite_ref-21\"><a href=\"#cite_note-21\">[21]</a></sup> Furthermore, the <a href=\"/wiki/Validity_(statistics)\" title=\"Validity (statistics)\">validity</a> of all variables or measures in the codebook must be ensured. This can be achieved through the use of established measures that have proven their validity in earlier studies. Also, the <a href=\"/wiki/Validity_(statistics)#Content_validity\" title=\"Validity (statistics)\">content validity</a> of the measures can be checked by experts from the field who scrutinize and then approve or correct coding instructions, definitions and examples in the codebook.\n",
            "</p>, <p>There are five types of texts in content analysis:\n",
            "</p>, <p>Content analysis is research using the categorization and classification of speech, written text, interviews, images, or other forms of communication.  In its beginnings, using the first newspapers at the end of the 19th century, analysis was done manually by measuring the number of columns given a subject. The approach can also be traced back to a university student studying patterns in Shakespeare's literature in 1893.<sup class=\"reference\" id=\"cite_ref-22\"><a href=\"#cite_note-22\">[22]</a></sup>\n",
            "</p>, <p>Over the years, content analysis has been applied to a variety of scopes. <a href=\"/wiki/Hermeneutics\" title=\"Hermeneutics\">Hermeneutics</a> and <a href=\"/wiki/Philology\" title=\"Philology\">philology</a> have long used content analysis to interpret sacred and profane texts and, in many cases, to attribute texts' <a class=\"mw-redirect\" href=\"/wiki/Authorship\" title=\"Authorship\">authorship</a> and <a href=\"/wiki/Authentication\" title=\"Authentication\">authenticity</a>.<sup class=\"reference\" id=\"cite_ref-Tipaldo_2014_42_3-1\"><a href=\"#cite_note-Tipaldo_2014_42-3\">[3]</a></sup><sup class=\"reference\" id=\"cite_ref-Krippendorff2004_5-2\"><a href=\"#cite_note-Krippendorff2004-5\">[5]</a></sup>\n",
            "</p>, <p>In recent times, particularly with the advent of <a href=\"/wiki/Mass_communication\" title=\"Mass communication\">mass communication</a>, content analysis has known an increasing use to deeply analyze and understand media content and media logic. \n",
            "The political scientist <a href=\"/wiki/Harold_Lasswell\" title=\"Harold Lasswell\">Harold Lasswell</a> formulated the core questions of content analysis in its early-mid 20th-century mainstream version: \"Who says what, to whom, why, to what extent and with what effect?\".<sup class=\"reference\" id=\"cite_ref-23\"><a href=\"#cite_note-23\">[23]</a></sup> The strong emphasis for a quantitative approach started up by Lasswell was finally carried out by another \"father\" of content analysis, <a href=\"/wiki/Bernard_Berelson\" title=\"Bernard Berelson\">Bernard Berelson</a>, who proposed a definition of content analysis which, from this point of view, is emblematic: \"a research technique for the objective, systematic and quantitative description of the manifest content of communication\".<sup class=\"reference\" id=\"cite_ref-Berelson1952_24-0\"><a href=\"#cite_note-Berelson1952-24\">[24]</a></sup>\n",
            "</p>, <p>Quantitative content analysis has enjoyed a renewed popularity in recent years thanks to technological advances and fruitful application in of mass communication and personal communication research. Content analysis of textual <a href=\"/wiki/Big_data\" title=\"Big data\">big data</a> produced by <a href=\"/wiki/New_media\" title=\"New media\">new media</a>, particularly <a href=\"/wiki/Social_media\" title=\"Social media\">social media</a> and <a class=\"mw-redirect\" href=\"/wiki/Mobile_devices\" title=\"Mobile devices\">mobile devices</a> has become popular. These approaches take a simplified view of language that ignores the complexity of <a href=\"/wiki/Semiosis\" title=\"Semiosis\">semiosis</a>, the process by which meaning is formed out of language. Quantitative content analysts have been criticized for limiting the scope of content analysis to simple counting, and for applying the measurement methodologies of the natural sciences without reflecting critically on their appropriateness to social science.<sup class=\"reference\" id=\"cite_ref-:0_25-0\"><a href=\"#cite_note-:0-25\">[25]</a></sup> Conversely, qualitative content analysts have been criticized for being insufficiently systematic and too impressionistic.<sup class=\"reference\" id=\"cite_ref-:0_25-1\"><a href=\"#cite_note-:0-25\">[25]</a></sup> Krippendorff argues that quantitative and qualitative approaches to content analysis tend to overlap, and that there can be no generalisable conclusion as to which approach is superior.<sup class=\"reference\" id=\"cite_ref-:0_25-2\"><a href=\"#cite_note-:0-25\">[25]</a></sup>\n",
            "</p>, <p>Content analysis can also be described as studying <a href=\"/wiki/Trace_evidence\" title=\"Trace evidence\">traces</a>, which are documents from past times, and artifacts, which are non-linguistic documents. Texts are understood to be produced by communication processes in a broad sense of that phrase\u2014often gaining mean through <a href=\"/wiki/Abductive_reasoning\" title=\"Abductive reasoning\">abduction</a>.<sup class=\"reference\" id=\"cite_ref-Tipaldo_2014_42_3-2\"><a href=\"#cite_note-Tipaldo_2014_42-3\">[3]</a></sup><sup class=\"reference\" id=\"cite_ref-26\"><a href=\"#cite_note-26\">[26]</a></sup>\n",
            "</p>, <p>Manifest content is readily understandable at its face value. Its meaning is direct. Latent content is not as overt, and requires interpretation to uncover the meaning or implication.<sup class=\"reference\" id=\"cite_ref-27\"><a href=\"#cite_note-27\">[27]</a></sup>\n",
            "</p>, <p>Holsti groups fifteen uses of content analysis into three basic <a class=\"mw-redirect\" href=\"/wiki/Categorisation\" title=\"Categorisation\">categories</a>:<sup class=\"reference\" id=\"cite_ref-Holsti1969_28-0\"><a href=\"#cite_note-Holsti1969-28\">[28]</a></sup>\n",
            "</p>, <p>He also places these uses into the context of the basic communication <a href=\"/wiki/Paradigm\" title=\"Paradigm\">paradigm</a>.\n",
            "</p>, <p>The following table shows fifteen uses of content analysis in terms of their general purpose, element of the communication paradigm to which they apply, and the general question they are intended to answer.\n",
            "</p>, <p>As a counterpoint, there are limits to the scope of use for the procedures that characterize content analysis. In particular, if access to the goal of analysis can be obtained by direct means without material interference, then direct measurement techniques yield better data.<sup class=\"reference\" id=\"cite_ref-30\"><a href=\"#cite_note-30\">[30]</a></sup> Thus, while content analysis attempts to quantifiably describe <i>communications</i> whose features are primarily categorical\u2014\u2014limited usually to a nominal or ordinal scale\u2014\u2014via selected conceptual units (the <i>unitization</i>) which are assigned values (the <i>categorization</i>) for <i>enumeration</i> while monitoring <i>intercoder reliability</i>, if instead the target quantity manifestly is already directly measurable\u2014\u2014typically on an interval or ratio scale\u2014\u2014especially a continuous physical quantity, then such targets usually are not listed among those needing the \"subjective\" selections and formulations of content analysis.<sup class=\"reference\" id=\"cite_ref-31\"><a href=\"#cite_note-31\">[31]</a></sup><sup class=\"reference\" id=\"cite_ref-32\"><a href=\"#cite_note-32\">[32]</a></sup><sup class=\"reference\" id=\"cite_ref-33\"><a href=\"#cite_note-33\">[33]</a></sup><sup class=\"reference\" id=\"cite_ref-34\"><a href=\"#cite_note-34\">[34]</a></sup><sup class=\"reference\" id=\"cite_ref-35\"><a href=\"#cite_note-35\">[35]</a></sup><sup class=\"reference\" id=\"cite_ref-36\"><a href=\"#cite_note-36\">[36]</a></sup><sup class=\"reference\" id=\"cite_ref-:1_20-1\"><a href=\"#cite_note-:1-20\">[20]</a></sup><sup class=\"reference\" id=\"cite_ref-37\"><a href=\"#cite_note-37\">[37]</a></sup> For example (from mixed research and clinical application), as medical images <i>communicate</i> diagnostic features to physicians, <a href=\"/wiki/Neuroimaging\" title=\"Neuroimaging\">neuroimaging</a>'s <a href=\"/wiki/Stroke\" title=\"Stroke\">stroke</a> (infarct) volume scale called ASPECTS is <i>unitized</i> as 10 qualitatively delineated (unequal) brain regions in the <a href=\"/wiki/Middle_cerebral_artery\" title=\"Middle cerebral artery\">middle cerebral artery</a> territory, which it <i>categorizes</i> as being at least partly versus not at all infarcted in order to <i>enumerate</i> the latter, with published series often assessing <i>intercoder reliability</i> by <a href=\"/wiki/Cohen%27s_kappa\" title=\"Cohen's kappa\">Cohen's kappa</a>. The foregoing <i>italicized operations</i> impose the uncredited <i>form</i> of content analysis onto an estimation of infarct extent, which instead is easily enough and more accurately measured as a volume directly on the images.<sup class=\"reference\" id=\"cite_ref-38\"><a href=\"#cite_note-38\">[38]</a></sup><sup class=\"reference\" id=\"cite_ref-39\"><a href=\"#cite_note-39\">[39]</a></sup> (\"Accuracy ... is the highest form of reliability.\"<sup class=\"reference\" id=\"cite_ref-40\"><a href=\"#cite_note-40\">[40]</a></sup>) The concomitant clinical assessment, however, by the <a href=\"/wiki/National_Institutes_of_Health_Stroke_Scale\" title=\"National Institutes of Health Stroke Scale\">National Institutes of Health Stroke Scale</a> (NIHSS) or the <a href=\"/wiki/Modified_Rankin_Scale\" title=\"Modified Rankin Scale\">modified Rankin Scale</a> (mRS), retains the necessary form of content analysis. Recognizing potential limits of content analysis across the contents of language and images alike, <a href=\"/wiki/Klaus_Krippendorff\" title=\"Klaus Krippendorff\">Klaus Krippendorff</a> affirms that \"comprehen[sion] ... may ... not conform at all to the process of classification and/or counting by which most content analyses proceed,\"<sup class=\"reference\" id=\"cite_ref-41\"><a href=\"#cite_note-41\">[41]</a></sup> suggesting that content analysis might materially distort a message.\n",
            "</p>, <p>The process of the initial coding scheme or approach to coding is contingent on the particular content analysis approach selected. Through a directed content analysis, the scholars draft a preliminary coding scheme from pre-existing theory or assumptions. While with the conventional content analysis approach, the initial coding scheme developed from the data.\n",
            "</p>, <p>With either approach above, immersing oneself into the data to obtain an overall picture is recommendable for researchers to conduct. Furthermore, identifying a consistent and clear unit of coding is vital, and researchers' choices range from a single word to several paragraphs, from texts to iconic symbols. Last, constructing the relationships between codes by sorting out them within specific categories or themes.<sup class=\"reference\" id=\"cite_ref-42\"><a href=\"#cite_note-42\">[42]</a></sup>\n",
            "</p>]\n"
          ]
        }
      ],
      "source": [
        "print(content_p_tags)"
      ]
    },
    {
      "cell_type": "markdown",
      "metadata": {
        "collapsed": false
      },
      "source": [
        "Another excursion: Why do we use enumerate() here? enumerate() takes a \n",
        "collection, enumerates, and returns an enumerate object with both the numbers \n",
        "and the collection. For example, content_p_tags (the collection we used here) is \n",
        "compromised of paragraphs. We want the paragraph number of each paragraph. And \n",
        "this is what enumerate() does: it returns the paragraph number and the paragraph. "
      ]
    },
    {
      "cell_type": "markdown",
      "metadata": {
        "collapsed": false
      },
      "source": [
        "We will be adding these new texts to our DataFrame `content_paragraphs_df` so we\n",
        "will need to add 2 more columns to keep track of paragraph numbers and sources."
      ]
    },
    {
      "cell_type": "code",
      "execution_count": 15,
      "metadata": {
        "ExecuteTime": {
          "end_time": "2024-01-09T19:44:37.986187Z",
          "start_time": "2024-01-09T19:44:37.965973Z"
        },
        "collapsed": false
      },
      "outputs": [
        {
          "data": {
            "text/html": "<div>\n<style scoped>\n    .dataframe tbody tr th:only-of-type {\n        vertical-align: middle;\n    }\n\n    .dataframe tbody tr th {\n        vertical-align: top;\n    }\n\n    .dataframe thead th {\n        text-align: right;\n    }\n</style>\n<table border=\"1\" class=\"dataframe\">\n  <thead>\n    <tr style=\"text-align: right;\">\n      <th></th>\n      <th>paragraph-text</th>\n      <th>source</th>\n      <th>paragraph-number</th>\n    </tr>\n  </thead>\n  <tbody>\n    <tr>\n      <th>0</th>\n      <td>Content analysis is the study of documents and...</td>\n      <td>https://en.wikipedia.org/wiki/Content_analysis</td>\n      <td>0</td>\n    </tr>\n    <tr>\n      <th>1</th>\n      <td>Practices and philosophies of content analysis...</td>\n      <td>https://en.wikipedia.org/wiki/Content_analysis</td>\n      <td>1</td>\n    </tr>\n    <tr>\n      <th>2</th>\n      <td>Computers are increasingly used in content ana...</td>\n      <td>https://en.wikipedia.org/wiki/Content_analysis</td>\n      <td>2</td>\n    </tr>\n    <tr>\n      <th>3</th>\n      <td>Content analysis is best understood as a broad...</td>\n      <td>https://en.wikipedia.org/wiki/Content_analysis</td>\n      <td>3</td>\n    </tr>\n    <tr>\n      <th>4</th>\n      <td>The simplest and most objective form of conten...</td>\n      <td>https://en.wikipedia.org/wiki/Content_analysis</td>\n      <td>4</td>\n    </tr>\n    <tr>\n      <th>5</th>\n      <td>A further step in analysis is the distinction ...</td>\n      <td>https://en.wikipedia.org/wiki/Content_analysis</td>\n      <td>5</td>\n    </tr>\n    <tr>\n      <th>6</th>\n      <td>Quantitative content analysis highlights frequ...</td>\n      <td>https://en.wikipedia.org/wiki/Content_analysis</td>\n      <td>6</td>\n    </tr>\n    <tr>\n      <th>7</th>\n      <td>Siegfried Kracauer provides a critique of quan...</td>\n      <td>https://en.wikipedia.org/wiki/Content_analysis</td>\n      <td>7</td>\n    </tr>\n    <tr>\n      <th>8</th>\n      <td>The data collection instrument used in content...</td>\n      <td>https://en.wikipedia.org/wiki/Content_analysis</td>\n      <td>8</td>\n    </tr>\n    <tr>\n      <th>9</th>\n      <td>According to current standards of good scienti...</td>\n      <td>https://en.wikipedia.org/wiki/Content_analysis</td>\n      <td>9</td>\n    </tr>\n    <tr>\n      <th>10</th>\n      <td>Furthermore, the Database of Variables for Con...</td>\n      <td>https://en.wikipedia.org/wiki/Content_analysis</td>\n      <td>10</td>\n    </tr>\n    <tr>\n      <th>11</th>\n      <td>With the rise of common computing facilities l...</td>\n      <td>https://en.wikipedia.org/wiki/Content_analysis</td>\n      <td>11</td>\n    </tr>\n    <tr>\n      <th>12</th>\n      <td>By having contents of communication available ...</td>\n      <td>https://en.wikipedia.org/wiki/Content_analysis</td>\n      <td>12</td>\n    </tr>\n    <tr>\n      <th>13</th>\n      <td>Computer-assisted analysis can help with large...</td>\n      <td>https://en.wikipedia.org/wiki/Content_analysis</td>\n      <td>13</td>\n    </tr>\n    <tr>\n      <th>14</th>\n      <td>Robert Weber notes: \"To make valid inferences ...</td>\n      <td>https://en.wikipedia.org/wiki/Content_analysis</td>\n      <td>14</td>\n    </tr>\n    <tr>\n      <th>15</th>\n      <td>According to today's reporting standards, quan...</td>\n      <td>https://en.wikipedia.org/wiki/Content_analysis</td>\n      <td>15</td>\n    </tr>\n    <tr>\n      <th>16</th>\n      <td>There are five types of texts in content analy...</td>\n      <td>https://en.wikipedia.org/wiki/Content_analysis</td>\n      <td>16</td>\n    </tr>\n    <tr>\n      <th>17</th>\n      <td>Content analysis is research using the categor...</td>\n      <td>https://en.wikipedia.org/wiki/Content_analysis</td>\n      <td>17</td>\n    </tr>\n    <tr>\n      <th>18</th>\n      <td>Over the years, content analysis has been appl...</td>\n      <td>https://en.wikipedia.org/wiki/Content_analysis</td>\n      <td>18</td>\n    </tr>\n    <tr>\n      <th>19</th>\n      <td>In recent times, particularly with the advent ...</td>\n      <td>https://en.wikipedia.org/wiki/Content_analysis</td>\n      <td>19</td>\n    </tr>\n    <tr>\n      <th>20</th>\n      <td>Quantitative content analysis has enjoyed a re...</td>\n      <td>https://en.wikipedia.org/wiki/Content_analysis</td>\n      <td>20</td>\n    </tr>\n    <tr>\n      <th>21</th>\n      <td>Content analysis can also be described as stud...</td>\n      <td>https://en.wikipedia.org/wiki/Content_analysis</td>\n      <td>21</td>\n    </tr>\n    <tr>\n      <th>22</th>\n      <td>Manifest content is readily understandable at ...</td>\n      <td>https://en.wikipedia.org/wiki/Content_analysis</td>\n      <td>22</td>\n    </tr>\n    <tr>\n      <th>23</th>\n      <td>Holsti groups fifteen uses of content analysis...</td>\n      <td>https://en.wikipedia.org/wiki/Content_analysis</td>\n      <td>23</td>\n    </tr>\n    <tr>\n      <th>24</th>\n      <td>He also places these uses into the context of ...</td>\n      <td>https://en.wikipedia.org/wiki/Content_analysis</td>\n      <td>24</td>\n    </tr>\n    <tr>\n      <th>25</th>\n      <td>The following table shows fifteen uses of cont...</td>\n      <td>https://en.wikipedia.org/wiki/Content_analysis</td>\n      <td>25</td>\n    </tr>\n    <tr>\n      <th>26</th>\n      <td>As a counterpoint, there are limits to the sco...</td>\n      <td>https://en.wikipedia.org/wiki/Content_analysis</td>\n      <td>26</td>\n    </tr>\n    <tr>\n      <th>27</th>\n      <td>The process of the initial coding scheme or ap...</td>\n      <td>https://en.wikipedia.org/wiki/Content_analysis</td>\n      <td>27</td>\n    </tr>\n    <tr>\n      <th>28</th>\n      <td>With either approach above, immersing oneself ...</td>\n      <td>https://en.wikipedia.org/wiki/Content_analysis</td>\n      <td>28</td>\n    </tr>\n  </tbody>\n</table>\n</div>",
            "text/plain": "                                       paragraph-text  \\\n0   Content analysis is the study of documents and...   \n1   Practices and philosophies of content analysis...   \n2   Computers are increasingly used in content ana...   \n3   Content analysis is best understood as a broad...   \n4   The simplest and most objective form of conten...   \n5   A further step in analysis is the distinction ...   \n6   Quantitative content analysis highlights frequ...   \n7   Siegfried Kracauer provides a critique of quan...   \n8   The data collection instrument used in content...   \n9   According to current standards of good scienti...   \n10  Furthermore, the Database of Variables for Con...   \n11  With the rise of common computing facilities l...   \n12  By having contents of communication available ...   \n13  Computer-assisted analysis can help with large...   \n14  Robert Weber notes: \"To make valid inferences ...   \n15  According to today's reporting standards, quan...   \n16  There are five types of texts in content analy...   \n17  Content analysis is research using the categor...   \n18  Over the years, content analysis has been appl...   \n19  In recent times, particularly with the advent ...   \n20  Quantitative content analysis has enjoyed a re...   \n21  Content analysis can also be described as stud...   \n22  Manifest content is readily understandable at ...   \n23  Holsti groups fifteen uses of content analysis...   \n24  He also places these uses into the context of ...   \n25  The following table shows fifteen uses of cont...   \n26  As a counterpoint, there are limits to the sco...   \n27  The process of the initial coding scheme or ap...   \n28  With either approach above, immersing oneself ...   \n\n                                            source  paragraph-number  \n0   https://en.wikipedia.org/wiki/Content_analysis                 0  \n1   https://en.wikipedia.org/wiki/Content_analysis                 1  \n2   https://en.wikipedia.org/wiki/Content_analysis                 2  \n3   https://en.wikipedia.org/wiki/Content_analysis                 3  \n4   https://en.wikipedia.org/wiki/Content_analysis                 4  \n5   https://en.wikipedia.org/wiki/Content_analysis                 5  \n6   https://en.wikipedia.org/wiki/Content_analysis                 6  \n7   https://en.wikipedia.org/wiki/Content_analysis                 7  \n8   https://en.wikipedia.org/wiki/Content_analysis                 8  \n9   https://en.wikipedia.org/wiki/Content_analysis                 9  \n10  https://en.wikipedia.org/wiki/Content_analysis                10  \n11  https://en.wikipedia.org/wiki/Content_analysis                11  \n12  https://en.wikipedia.org/wiki/Content_analysis                12  \n13  https://en.wikipedia.org/wiki/Content_analysis                13  \n14  https://en.wikipedia.org/wiki/Content_analysis                14  \n15  https://en.wikipedia.org/wiki/Content_analysis                15  \n16  https://en.wikipedia.org/wiki/Content_analysis                16  \n17  https://en.wikipedia.org/wiki/Content_analysis                17  \n18  https://en.wikipedia.org/wiki/Content_analysis                18  \n19  https://en.wikipedia.org/wiki/Content_analysis                19  \n20  https://en.wikipedia.org/wiki/Content_analysis                20  \n21  https://en.wikipedia.org/wiki/Content_analysis                21  \n22  https://en.wikipedia.org/wiki/Content_analysis                22  \n23  https://en.wikipedia.org/wiki/Content_analysis                23  \n24  https://en.wikipedia.org/wiki/Content_analysis                24  \n25  https://en.wikipedia.org/wiki/Content_analysis                25  \n26  https://en.wikipedia.org/wiki/Content_analysis                26  \n27  https://en.wikipedia.org/wiki/Content_analysis                27  \n28  https://en.wikipedia.org/wiki/Content_analysis                28  "
          },
          "execution_count": 15,
          "metadata": {},
          "output_type": "execute_result"
        }
      ],
      "source": [
        "content_paragraphs_df[\"source\"] = [wikipedia_content_analysis] * len(\n",
        "    content_paragraphs_df[\"paragraph-text\"]\n",
        ")\n",
        "content_paragraphs_df[\"paragraph-number\"] = range(\n",
        "    len(content_paragraphs_df[\"paragraph-text\"])\n",
        ")\n",
        "\n",
        "content_paragraphs_df"
      ]
    },
    {
      "cell_type": "markdown",
      "metadata": {
        "collapsed": false
      },
      "source": [
        "Then we can add two more columns to our `Dataframe` and define a function to\n",
        "parse each linked page and add its text to our DataFrame."
      ]
    },
    {
      "cell_type": "code",
      "execution_count": 31,
      "metadata": {
        "ExecuteTime": {
          "end_time": "2024-01-09T20:03:14.692789Z",
          "start_time": "2024-01-09T20:03:14.668403Z"
        },
        "collapsed": false
      },
      "outputs": [],
      "source": [
        "content_paragraphs_df[\"source-paragraph-number\"] = [None] * len(\n",
        "    content_paragraphs_df[\"paragraph-text\"]\n",
        ")\n",
        "content_paragraphs_df[\"source-paragraph-text\"] = [None] * len(\n",
        "    content_paragraphs_df[\"paragraph-text\"]\n",
        ")\n",
        "\n",
        "\n",
        "def get_text_from_wiki_page(target_url, source_par_num, source_text):\n",
        "    # Make a dict to store data before adding it to the DataFrame\n",
        "    parsDict = {\n",
        "        \"source\": [],\n",
        "        \"paragraph-number\": [],\n",
        "        \"paragraph-text\": [],\n",
        "        \"source-paragraph-number\": [],\n",
        "        \"source-paragraph-text\": [],\n",
        "    }\n",
        "    # Now we get the page\n",
        "    response = requests.get(target_url)\n",
        "    soup = bs4.BeautifulSoup(response.text, \"html.parser\")\n",
        "    # enumerating gives use the paragraph number\n",
        "    for par_num, paragraph_tag in enumerate(soup.body.findAll(\"p\")):\n",
        "        # same regex as before\n",
        "        parsDict[\"paragraph-text\"].append(re.sub(r\"\\[\\d+\\]\", \"\", paragraph_tag.text))\n",
        "        parsDict[\"paragraph-number\"].append(par_num)\n",
        "        parsDict[\"source\"].append(target_url)\n",
        "        parsDict[\"source-paragraph-number\"].append(source_par_num)\n",
        "        parsDict[\"source-paragraph-text\"].append(source_text)\n",
        "    return pandas.DataFrame(parsDict)"
      ]
    },
    {
      "cell_type": "markdown",
      "metadata": {
        "collapsed": false
      },
      "source": [
        "And run it on our list of link tags"
      ]
    },
    {
      "cell_type": "code",
      "execution_count": 30,
      "metadata": {
        "ExecuteTime": {
          "end_time": "2024-01-09T20:03:02.549566Z",
          "start_time": "2024-01-09T20:03:02.158665Z"
        },
        "collapsed": false
      },
      "outputs": [
        {
          "name": "stdout",
          "output_type": "stream",
          "text": [
            "                                    source  paragraph-number  \\\n",
            "0   https://en.wikipedia.org/wiki/Document                 0   \n",
            "1   https://en.wikipedia.org/wiki/Document                 1   \n",
            "2   https://en.wikipedia.org/wiki/Document                 2   \n",
            "3   https://en.wikipedia.org/wiki/Document                 3   \n",
            "4   https://en.wikipedia.org/wiki/Document                 4   \n",
            "5   https://en.wikipedia.org/wiki/Document                 5   \n",
            "6   https://en.wikipedia.org/wiki/Document                 6   \n",
            "7   https://en.wikipedia.org/wiki/Document                 7   \n",
            "8   https://en.wikipedia.org/wiki/Document                 8   \n",
            "9   https://en.wikipedia.org/wiki/Document                 9   \n",
            "10  https://en.wikipedia.org/wiki/Document                10   \n",
            "11  https://en.wikipedia.org/wiki/Document                11   \n",
            "12  https://en.wikipedia.org/wiki/Document                12   \n",
            "13  https://en.wikipedia.org/wiki/Document                13   \n",
            "\n",
            "                                       paragraph-text  \\\n",
            "0                                                  \\n   \n",
            "1   A document is a written, drawn, presented, or ...   \n",
            "2   The concept of \"document\" has been defined by ...   \n",
            "3   An often-cited article concludes that \"the evo...   \n",
            "4   \"Document\" is defined in library and informati...   \n",
            "5   A document can be structured, like tabular doc...   \n",
            "6      Documents are used in numerous fields, e.g.:\\n   \n",
            "7   Such standard documents can be drafted based o...   \n",
            "8   The page layout of a document is how informati...   \n",
            "9   Traditionally, the medium of a document was pa...   \n",
            "10  Historically, documents were inscribed with in...   \n",
            "11  Contemporary electronic means of memorializing...   \n",
            "12  Digital documents usually require a specific f...   \n",
            "13  Documents in all forms frequently serve as mat...   \n",
            "\n",
            "    source-paragraph-number source-paragraph-text  \n",
            "0                         0             documents  \n",
            "1                         0             documents  \n",
            "2                         0             documents  \n",
            "3                         0             documents  \n",
            "4                         0             documents  \n",
            "5                         0             documents  \n",
            "6                         0             documents  \n",
            "7                         0             documents  \n",
            "8                         0             documents  \n",
            "9                         0             documents  \n",
            "10                        0             documents  \n",
            "11                        0             documents  \n",
            "12                        0             documents  \n",
            "13                        0             documents  \n",
            "                                              source  paragraph-number  \\\n",
            "0  https://en.wikipedia.org/wiki/Text_(literary_t...                 0   \n",
            "1  https://en.wikipedia.org/wiki/Text_(literary_t...                 1   \n",
            "2  https://en.wikipedia.org/wiki/Text_(literary_t...                 2   \n",
            "3  https://en.wikipedia.org/wiki/Text_(literary_t...                 3   \n",
            "4  https://en.wikipedia.org/wiki/Text_(literary_t...                 4   \n",
            "5  https://en.wikipedia.org/wiki/Text_(literary_t...                 5   \n",
            "6  https://en.wikipedia.org/wiki/Text_(literary_t...                 6   \n",
            "\n",
            "                                      paragraph-text  source-paragraph-number  \\\n",
            "0  In literary theory, a text is any object that ...                        1   \n",
            "1  Within the field of literary criticism, \"text\"...                        1   \n",
            "2  Since the history of writing predates the conc...                        1   \n",
            "3  The word text has its origins in Quintilian's ...                        1   \n",
            "4  Relying on literary theory, the notion of text...                        1   \n",
            "5                                                                           1   \n",
            "6  This literature-related article is a stub. You...                        1   \n",
            "\n",
            "  source-paragraph-text  \n",
            "0                 texts  \n",
            "1                 texts  \n",
            "2                 texts  \n",
            "3                 texts  \n",
            "4                 texts  \n",
            "5                 texts  \n",
            "6                 texts  \n",
            "                                               source  paragraph-number  \\\n",
            "0   https://en.wikipedia.org/wiki/Coding_(social_s...                 0   \n",
            "1   https://en.wikipedia.org/wiki/Coding_(social_s...                 1   \n",
            "2   https://en.wikipedia.org/wiki/Coding_(social_s...                 2   \n",
            "3   https://en.wikipedia.org/wiki/Coding_(social_s...                 3   \n",
            "4   https://en.wikipedia.org/wiki/Coding_(social_s...                 4   \n",
            "5   https://en.wikipedia.org/wiki/Coding_(social_s...                 5   \n",
            "6   https://en.wikipedia.org/wiki/Coding_(social_s...                 6   \n",
            "7   https://en.wikipedia.org/wiki/Coding_(social_s...                 7   \n",
            "8   https://en.wikipedia.org/wiki/Coding_(social_s...                 8   \n",
            "9   https://en.wikipedia.org/wiki/Coding_(social_s...                 9   \n",
            "10  https://en.wikipedia.org/wiki/Coding_(social_s...                10   \n",
            "11  https://en.wikipedia.org/wiki/Coding_(social_s...                11   \n",
            "12  https://en.wikipedia.org/wiki/Coding_(social_s...                12   \n",
            "\n",
            "                                       paragraph-text  \\\n",
            "0   In the social sciences, coding is an analytica...   \n",
            "1   One purpose of coding is to transform the data...   \n",
            "2   Some studies will employ multiple coders worki...   \n",
            "3   One code should apply to only one category and...   \n",
            "4   For quantitative analysis, data is coded usual...   \n",
            "5   Questionnaire data can be pre-coded (process o...   \n",
            "6   In social sciences, spreadsheets such as Excel...   \n",
            "7   For disciplines in which a qualitative format ...   \n",
            "8   Much of qualitative coding can be attributed t...   \n",
            "9   Coding is considered a process of discovery an...   \n",
            "10  The process can be done manually, which can be...   \n",
            "11  After assembling codes it is time to organize ...   \n",
            "12  Creating memos during the coding process is in...   \n",
            "\n",
            "    source-paragraph-number                     source-paragraph-text  \n",
            "0                         1  assigned labels (sometimes called codes)  \n",
            "1                         1  assigned labels (sometimes called codes)  \n",
            "2                         1  assigned labels (sometimes called codes)  \n",
            "3                         1  assigned labels (sometimes called codes)  \n",
            "4                         1  assigned labels (sometimes called codes)  \n",
            "5                         1  assigned labels (sometimes called codes)  \n",
            "6                         1  assigned labels (sometimes called codes)  \n",
            "7                         1  assigned labels (sometimes called codes)  \n",
            "8                         1  assigned labels (sometimes called codes)  \n",
            "9                         1  assigned labels (sometimes called codes)  \n",
            "10                        1  assigned labels (sometimes called codes)  \n",
            "11                        1  assigned labels (sometimes called codes)  \n",
            "12                        1  assigned labels (sometimes called codes)  \n"
          ]
        },
        {
          "data": {
            "text/html": "<div>\n<style scoped>\n    .dataframe tbody tr th:only-of-type {\n        vertical-align: middle;\n    }\n\n    .dataframe tbody tr th {\n        vertical-align: top;\n    }\n\n    .dataframe thead th {\n        text-align: right;\n    }\n</style>\n<table border=\"1\" class=\"dataframe\">\n  <thead>\n    <tr style=\"text-align: right;\">\n      <th></th>\n      <th>paragraph-text</th>\n      <th>source</th>\n      <th>paragraph-number</th>\n      <th>source-paragraph-number</th>\n      <th>source-paragraph-text</th>\n    </tr>\n  </thead>\n  <tbody>\n    <tr>\n      <th>0</th>\n      <td>Content analysis is the study of documents and...</td>\n      <td>https://en.wikipedia.org/wiki/Content_analysis</td>\n      <td>0</td>\n      <td>None</td>\n      <td>None</td>\n    </tr>\n    <tr>\n      <th>1</th>\n      <td>Practices and philosophies of content analysis...</td>\n      <td>https://en.wikipedia.org/wiki/Content_analysis</td>\n      <td>1</td>\n      <td>None</td>\n      <td>None</td>\n    </tr>\n    <tr>\n      <th>2</th>\n      <td>Computers are increasingly used in content ana...</td>\n      <td>https://en.wikipedia.org/wiki/Content_analysis</td>\n      <td>2</td>\n      <td>None</td>\n      <td>None</td>\n    </tr>\n    <tr>\n      <th>3</th>\n      <td>Content analysis is best understood as a broad...</td>\n      <td>https://en.wikipedia.org/wiki/Content_analysis</td>\n      <td>3</td>\n      <td>None</td>\n      <td>None</td>\n    </tr>\n    <tr>\n      <th>4</th>\n      <td>The simplest and most objective form of conten...</td>\n      <td>https://en.wikipedia.org/wiki/Content_analysis</td>\n      <td>4</td>\n      <td>None</td>\n      <td>None</td>\n    </tr>\n    <tr>\n      <th>...</th>\n      <td>...</td>\n      <td>...</td>\n      <td>...</td>\n      <td>...</td>\n      <td>...</td>\n    </tr>\n    <tr>\n      <th>8</th>\n      <td>Much of qualitative coding can be attributed t...</td>\n      <td>https://en.wikipedia.org/wiki/Coding_(social_s...</td>\n      <td>8</td>\n      <td>1</td>\n      <td>assigned labels (sometimes called codes)</td>\n    </tr>\n    <tr>\n      <th>9</th>\n      <td>Coding is considered a process of discovery an...</td>\n      <td>https://en.wikipedia.org/wiki/Coding_(social_s...</td>\n      <td>9</td>\n      <td>1</td>\n      <td>assigned labels (sometimes called codes)</td>\n    </tr>\n    <tr>\n      <th>10</th>\n      <td>The process can be done manually, which can be...</td>\n      <td>https://en.wikipedia.org/wiki/Coding_(social_s...</td>\n      <td>10</td>\n      <td>1</td>\n      <td>assigned labels (sometimes called codes)</td>\n    </tr>\n    <tr>\n      <th>11</th>\n      <td>After assembling codes it is time to organize ...</td>\n      <td>https://en.wikipedia.org/wiki/Coding_(social_s...</td>\n      <td>11</td>\n      <td>1</td>\n      <td>assigned labels (sometimes called codes)</td>\n    </tr>\n    <tr>\n      <th>12</th>\n      <td>Creating memos during the coding process is in...</td>\n      <td>https://en.wikipedia.org/wiki/Coding_(social_s...</td>\n      <td>12</td>\n      <td>1</td>\n      <td>assigned labels (sometimes called codes)</td>\n    </tr>\n  </tbody>\n</table>\n<p>369 rows \u00d7 5 columns</p>\n</div>",
            "text/plain": "                                       paragraph-text  \\\n0   Content analysis is the study of documents and...   \n1   Practices and philosophies of content analysis...   \n2   Computers are increasingly used in content ana...   \n3   Content analysis is best understood as a broad...   \n4   The simplest and most objective form of conten...   \n..                                                ...   \n8   Much of qualitative coding can be attributed t...   \n9   Coding is considered a process of discovery an...   \n10  The process can be done manually, which can be...   \n11  After assembling codes it is time to organize ...   \n12  Creating memos during the coding process is in...   \n\n                                               source  paragraph-number  \\\n0      https://en.wikipedia.org/wiki/Content_analysis                 0   \n1      https://en.wikipedia.org/wiki/Content_analysis                 1   \n2      https://en.wikipedia.org/wiki/Content_analysis                 2   \n3      https://en.wikipedia.org/wiki/Content_analysis                 3   \n4      https://en.wikipedia.org/wiki/Content_analysis                 4   \n..                                                ...               ...   \n8   https://en.wikipedia.org/wiki/Coding_(social_s...                 8   \n9   https://en.wikipedia.org/wiki/Coding_(social_s...                 9   \n10  https://en.wikipedia.org/wiki/Coding_(social_s...                10   \n11  https://en.wikipedia.org/wiki/Coding_(social_s...                11   \n12  https://en.wikipedia.org/wiki/Coding_(social_s...                12   \n\n   source-paragraph-number                     source-paragraph-text  \n0                     None                                      None  \n1                     None                                      None  \n2                     None                                      None  \n3                     None                                      None  \n4                     None                                      None  \n..                     ...                                       ...  \n8                        1  assigned labels (sometimes called codes)  \n9                        1  assigned labels (sometimes called codes)  \n10                       1  assigned labels (sometimes called codes)  \n11                       1  assigned labels (sometimes called codes)  \n12                       1  assigned labels (sometimes called codes)  \n\n[369 rows x 5 columns]"
          },
          "execution_count": 30,
          "metadata": {},
          "output_type": "execute_result"
        }
      ],
      "source": [
        "for url_tuple in other_page_urls[:3]:\n",
        "    # ignore_index means the indices will not be reset after each append\n",
        "    wiki_text = get_text_from_wiki_page(*url_tuple)\n",
        "    print(wiki_text)\n",
        "    content_paragraphs_df = pandas.concat(\n",
        "        [content_paragraphs_df, wiki_text], ignore_index=True\n",
        "    )\n",
        "content_paragraphs_df"
      ]
    },
    {
      "cell_type": "markdown",
      "metadata": {
        "collapsed": false
      },
      "source": [
        "# <font color=\"red\">Exercise 2</font>\n",
        "<font color=\"red\">Construct cells immediately below this that spider web \n",
        "content from another site with content relating to your anticipated final \n",
        "project. Specifically, identify urls on a core page, then follow and extract \n",
        "content from them into a pandas `Dataframe`. In addition, demonstrate a \n",
        "*recursive* spider, which follows more than one level of links (i.e., follows \n",
        "links from a site, then follows links on followed sites to new sites, etc.),\n",
        "making sure to define a reasonable endpoint so that you do not wander the \n",
        "web forever :-).</font>\n",
        "\n"
      ]
    },
    {
      "cell_type": "markdown",
      "metadata": {
        "collapsed": false
      },
      "source": [
        "## API (Tumblr)\n",
        "\n",
        "Generally website owners do not like you scraping their sites. If done badly,\n",
        "scarping can act like a DOS attack so you should be careful how often you make\n",
        "calls to a site. Some sites want automated tools to access their data, so they\n",
        "create [application programming interface\n",
        "(APIs)](https://en.wikipedia.org/wiki/Application_programming_interface). An API\n",
        "specifies a procedure for an application (or script) to access their data. Often\n",
        "this is though a [representational state transfer\n",
        "(REST)](https://en.wikipedia.org/wiki/Representational_state_transfer) web\n",
        "service, which just means if you make correctly formatted HTTP requests they\n",
        "will return nicely formatted data.\n",
        "\n",
        "A nice example for us to study is [Tumblr](https://www.tumblr.com), they have a\n",
        "[simple RESTful API](https://www.tumblr.com/docs/en/api/v1) that allows you to\n",
        "read posts without any complicated html parsing.\n",
        "\n",
        "We can get the first 20 posts from a blog by making an http GET request to\n",
        "`'http://{blog}.tumblr.com/api/read/json'`, were `{blog}` is the name of the\n",
        "target blog. Lets try and get the posts from [http://lolcats-lol-\n",
        "cat.tumblr.com/](http://lolcats-lol-cat.tumblr.com/) (Note the blog says at the\n",
        "top 'One hour one pic lolcats', but the canonical name that Tumblr uses is in\n",
        "the URL 'lolcats-lol-cat')."
      ]
    },
    {
      "cell_type": "code",
      "execution_count": null,
      "metadata": {
        "collapsed": false
      },
      "outputs": [],
      "source": [
        "tumblrAPItarget = \"http://{}.tumblr.com/api/read/json\"\n",
        "\n",
        "r = requests.get(tumblrAPItarget.format(\"lolcats-lol-cat\"))\n",
        "\n",
        "print(r.text[:1000])"
      ]
    },
    {
      "cell_type": "markdown",
      "metadata": {
        "collapsed": false
      },
      "source": [
        "This might not look very good on first inspection, but it has far fewer angle\n",
        "braces than html, which makes it easier to parse. What we have is\n",
        "[JSON](https://en.wikipedia.org/wiki/JSON) a 'human readable' text based data\n",
        "transmission format based on javascript. Luckily, we can readily convert it to a\n",
        "python `dict`."
      ]
    },
    {
      "cell_type": "code",
      "execution_count": null,
      "metadata": {
        "collapsed": false
      },
      "outputs": [],
      "source": [
        "# We need to load only the stuff between the curly braces\n",
        "d = json.loads(r.text[len(\"var tumblr_api_read = \") : -2])\n",
        "print(d.keys())\n",
        "print(len(d[\"posts\"]))"
      ]
    },
    {
      "cell_type": "markdown",
      "metadata": {
        "collapsed": false
      },
      "source": [
        "If we read the [API specification](https://www.tumblr.com/docs/en/api/v1), we\n",
        "will see there are a lot of things we can get if we add things to our GET\n",
        "request. First we can retrieve posts by their id number. Let's first get post\n",
        "`146020177084`."
      ]
    },
    {
      "cell_type": "code",
      "execution_count": null,
      "metadata": {
        "collapsed": false
      },
      "outputs": [],
      "source": [
        "r = requests.get(tumblrAPItarget.format(\"lolcats-lol-cat\"), params={\"id\": 146020177084})\n",
        "d = json.loads(r.text[len(\"var tumblr_api_read = \") : -2])\n",
        "d[\"posts\"][0].keys()\n",
        "d[\"posts\"][0][\"photo-url-1280\"]\n",
        "\n",
        "with open(\"lolcat.gif\", \"wb\") as f:\n",
        "    gifRequest = requests.get(d[\"posts\"][0][\"photo-url-1280\"], stream=True)\n",
        "    f.write(gifRequest.content)"
      ]
    },
    {
      "cell_type": "markdown",
      "metadata": {
        "collapsed": false
      },
      "source": [
        "<img src='lolcat.gif'>\n",
        "\n",
        "Such beauty; such vigor (If you can't see it you have to refresh the page). Now\n",
        "we could retrieve the text from all posts as well\n",
        "as related metadata, like the post date, caption or tags. We could also get\n",
        "links to all the images."
      ]
    },
    {
      "cell_type": "code",
      "execution_count": null,
      "metadata": {
        "collapsed": false
      },
      "outputs": [],
      "source": [
        "# Putting a max in case the blog has millions of images\n",
        "# The given max will be rounded up to the nearest multiple of 50\n",
        "\n",
        "\n",
        "def tumblrImageScrape(blog_name, maxImages=200):\n",
        "    # Restating this here so the function isn't dependent on any external variables\n",
        "    tumblrAPItarget = \"http://{}.tumblr.com/api/read/json\"\n",
        "\n",
        "    # There are a bunch of possible locations for the photo url\n",
        "    possiblePhotoSuffixes = [1280, 500, 400, 250, 100]\n",
        "\n",
        "    # These are the pieces of information we will be gathering,\n",
        "    # at the end we will convert this to a DataFrame.\n",
        "    # There are a few other datums we could gather like the captions\n",
        "    # you can read the Tumblr documentation to learn how to get them\n",
        "    # https://www.tumblr.com/docs/en/api/v1\n",
        "    postsData = {\n",
        "        \"id\": [],\n",
        "        \"photo-url\": [],\n",
        "        \"date\": [],\n",
        "        \"tags\": [],\n",
        "        \"photo-type\": [],\n",
        "    }\n",
        "\n",
        "    # Tumblr limits us to a max of 50 posts per request\n",
        "    for requestNum in range(maxImages // 50):\n",
        "        requestParams = {\"start\": requestNum * 50, \"num\": 50, \"type\": \"photo\"}\n",
        "        r = requests.get(tumblrAPItarget.format(blog_name), params=requestParams)\n",
        "        requestDict = json.loads(r.text[len(\"var tumblr_api_read = \") : -2])\n",
        "        for postDict in requestDict[\"posts\"]:\n",
        "            # We are dealing with uncleaned data, we can't trust it.\n",
        "            # Specifically, not all posts are guaranteed to have the fields we want\n",
        "            try:\n",
        "                postsData[\"id\"].append(postDict[\"id\"])\n",
        "                postsData[\"date\"].append(postDict[\"date\"])\n",
        "                postsData[\"tags\"].append(postDict[\"tags\"])\n",
        "            except KeyError as e:\n",
        "                raise KeyError(\n",
        "                    \"Post {} from {} is missing: {}\".format(\n",
        "                        postDict[\"id\"], blog_name, e\n",
        "                    )\n",
        "                )\n",
        "\n",
        "            foundSuffix = False\n",
        "            for suffix in possiblePhotoSuffixes:\n",
        "                try:\n",
        "                    photoURL = postDict[\"photo-url-{}\".format(suffix)]\n",
        "                    postsData[\"photo-url\"].append(photoURL)\n",
        "                    postsData[\"photo-type\"].append(photoURL.split(\".\")[-1])\n",
        "                    foundSuffix = True\n",
        "                    break\n",
        "                except KeyError:\n",
        "                    pass\n",
        "            if not foundSuffix:\n",
        "                # Make sure your error messages are useful\n",
        "                # You will be one of the users\n",
        "                raise KeyError(\n",
        "                    \"Post {} from {} is missing a photo url\".format(\n",
        "                        postDict[\"id\"], blog_name\n",
        "                    )\n",
        "                )\n",
        "\n",
        "    return pandas.DataFrame(postsData)\n",
        "\n",
        "\n",
        "tumblrImageScrape(\"lolcats-lol-cat\", 50)"
      ]
    },
    {
      "cell_type": "markdown",
      "metadata": {
        "collapsed": false
      },
      "source": [
        "Now we have the urls of a bunch of images and can run OCR on them to gather\n",
        "compelling meme narratives, accompanied by cats.\n",
        "\n",
        "# Files\n",
        "\n",
        "What if the text we want isn't on a webpage? There are a many other sources of\n",
        "text available, typically organized into *files*.\n",
        "\n",
        "## Raw text (and encoding)\n",
        "\n",
        "The most basic form of storing text is as a _raw text_ document. Source code\n",
        "(`.py`, `.r`, etc) is usually raw text as are text files (`.txt`) and those with\n",
        "many other extension (e.g., .csv, .dat, etc.). Opening an unknown file with a\n",
        "text editor is often a great way of learning what the file is.\n",
        "\n",
        "We can create a text file in python with the `open()` function"
      ]
    },
    {
      "cell_type": "code",
      "execution_count": null,
      "metadata": {
        "collapsed": false
      },
      "outputs": [],
      "source": [
        "# example_text_file = 'sometextfile.txt'\n",
        "# stringToWrite = 'A line\\nAnother line\\nA line with a few unusual symbols \\u2421 \\u241B \\u20A0 \\u20A1 \\u20A2 \\u20A3 \\u0D60\\n'\n",
        "stringToWrite = (\n",
        "    \"A line\\nAnother line\\nA line with a few unusual symbols \u2421 \u241b \u20a0 \u20a1 \u20a2 \u20a3 \u0d60\\n\"\n",
        ")\n",
        "\n",
        "with open(example_text_file, mode=\"w\", encoding=\"utf-8\") as f:\n",
        "    f.write(stringToWrite)"
      ]
    },
    {
      "cell_type": "markdown",
      "metadata": {
        "collapsed": false
      },
      "source": [
        "Notice the `encoding='utf-8'` argument, which specifies how we map the bits from\n",
        "the file to the glyphs (and whitespace characters like tab (`'\\t'`) or newline\n",
        "(`'\\n'`)) on the screen. When dealing only with latin letters, arabic numerals\n",
        "and the other symbols on America keyboards you usually do not have to worry\n",
        "about encodings as the ones used today are backwards compatible with\n",
        "[ASCII](https://en.wikipedia.org/wiki/ASCII), which gives the binary\n",
        "representation of 128 characters.\n",
        "\n",
        "Some of you, however, will want to use other characters (e.g., Chinese\n",
        "characters). To solve this there is\n",
        "[Unicode](https://en.wikipedia.org/wiki/Unicode) which assigns numbers to\n",
        "symbols, e.g., 041 is `'A'` and 03A3 is `'\u03a3'` (numbers starting with 0 are\n",
        "hexadecimal). Often non/beyond-ASCII characters are called Unicode characters.\n",
        "Unicode contains 1,114,112 characters, about 10\\% of which have been assigned.\n",
        "Unfortunately there are many ways used to map combinations of bits to Unicode\n",
        "symbols. The ones you are likely to encounter are called by Python _utf-8_,\n",
        "_utf-16_ and _latin-1_. _utf-8_ is the standard for Linux and Mac OS while both\n",
        "_utf-16_ and _latin-1_ are used by windows. If you use the wrong encoding,\n",
        "characters can appear wrong, sometimes change in number or Python could raise an\n",
        "exception. Lets see what happens when we open the file we just created with\n",
        "different encodings."
      ]
    },
    {
      "cell_type": "code",
      "execution_count": null,
      "metadata": {
        "collapsed": false
      },
      "outputs": [],
      "source": [
        "with open(example_text_file, encoding=\"utf-8\") as f:\n",
        "    print(\"This is with the correct encoding:\")\n",
        "    print(f.read())\n",
        "\n",
        "with open(example_text_file, encoding=\"latin-1\") as f:\n",
        "    print(\"This is with the wrong encoding:\")\n",
        "    print(f.read())"
      ]
    },
    {
      "cell_type": "markdown",
      "metadata": {
        "collapsed": false
      },
      "source": [
        "Notice that with _latin-1_ the unicode characters are mixed up and there are too\n",
        "many of them. You need to keep in mind encoding when obtaining text files.\n",
        "Determining the encoding can sometime involve substantial work."
      ]
    },
    {
      "cell_type": "markdown",
      "metadata": {
        "collapsed": false
      },
      "source": [
        "We can also load many text files at once. Lets start by looking at the Shakespeare files in the `data` directory "
      ]
    },
    {
      "cell_type": "code",
      "execution_count": null,
      "metadata": {
        "collapsed": false
      },
      "outputs": [],
      "source": [
        "with open(\"./data/Shakespeare/midsummer_nights_dream.txt\") as f:\n",
        "    midsummer = f.read()\n",
        "print(midsummer[-700:])"
      ]
    },
    {
      "cell_type": "markdown",
      "metadata": {
        "collapsed": false
      },
      "source": [
        "By the way, depending on your working directory, you might get errors such as: [Errno 2] No such file or directory: '../data/Shakespeare/midsummer_nights_dream.txt.' Don't panic, it's nothing, just check your working directory. \n",
        "\n",
        "Then to load all the files in `./data/Shakespeare` we can use a for loop with `scandir`:"
      ]
    },
    {
      "cell_type": "code",
      "execution_count": null,
      "metadata": {
        "collapsed": false
      },
      "outputs": [],
      "source": [
        "targetDir = \"./data/Shakespeare\"  # Change this to your own directory of texts\n",
        "shakespearText = []\n",
        "shakespearFileName = []\n",
        "\n",
        "for file in (\n",
        "    file\n",
        "    for file in os.scandir(targetDir)\n",
        "    if file.is_file() and not file.name.startswith(\".\")\n",
        "):\n",
        "    with open(file.path, encoding=\"utf-8\") as f:\n",
        "        shakespearText.append(f.read())\n",
        "    shakespearFileName.append(file.name)"
      ]
    },
    {
      "cell_type": "markdown",
      "metadata": {
        "collapsed": false
      },
      "source": [
        "Then we can put them all in pandas DataFrame"
      ]
    },
    {
      "cell_type": "code",
      "execution_count": null,
      "metadata": {
        "collapsed": false
      },
      "outputs": [],
      "source": [
        "shakespear_df = pandas.DataFrame({\"text\": shakespearText}, index=shakespearFileName)\n",
        "shakespear_df"
      ]
    },
    {
      "cell_type": "markdown",
      "metadata": {
        "collapsed": false
      },
      "source": [
        "Getting your text in a format like this is the first step of most analysis"
      ]
    },
    {
      "cell_type": "markdown",
      "metadata": {
        "collapsed": false
      },
      "source": [
        "## PDF\n",
        "\n",
        "Another common way text will be stored is in a PDF file. First we will download\n",
        "a pdf in Python. To do that lets grab a chapter from\n",
        "_Speech and Language Processing_, chapter 21 is on Information Extraction which\n",
        "seems apt. It is stored as a pdf at [https://web.stanford.edu/~jurafsky/slp3/21.\n",
        "pdf](https://web.stanford.edu/~jurafsky/slp3/21.pdf) although we are downloading\n",
        "from a copy just in case Jurafsky changes their website."
      ]
    },
    {
      "cell_type": "code",
      "execution_count": null,
      "metadata": {
        "collapsed": false
      },
      "outputs": [],
      "source": [
        "# information_extraction_pdf = 'https://github.com/KnowledgeLab/content_analysis/raw/data/21.pdf'\n",
        "\n",
        "infoExtractionRequest = requests.get(information_extraction_pdf, stream=True)\n",
        "print(infoExtractionRequest.text[:1000])"
      ]
    },
    {
      "cell_type": "markdown",
      "metadata": {
        "collapsed": false
      },
      "source": [
        "It says `'pdf'`, so thats a good sign. The rest though looks like we are having\n",
        "issues with an encoding. The random characters are not caused by our encoding\n",
        "being wrong, however. They are cause by there not being an encoding for those\n",
        "parts at all. PDFs are nominally binary files, meaning there are sections of\n",
        "binary that are specific to pdf and nothing else so you need something that\n",
        "knows about pdf to read them. To do that we will be using\n",
        "[`PyPDF2`](https://github.com/mstamy2/PyPDF2), a PDF processing library for\n",
        "Python 3.\n",
        "\n",
        "\n",
        "Because PDFs are a very complicated file format pdfminer requires a large amount\n",
        "of boilerplate code to extract text, we have written a function that takes in an\n",
        "open PDF file and returns the text so you don't have to."
      ]
    },
    {
      "cell_type": "code",
      "execution_count": null,
      "metadata": {
        "collapsed": false
      },
      "outputs": [],
      "source": [
        "def readPDF(pdfFile):\n",
        "    # Based on code from http://stackoverflow.com/a/20905381/4955164\n",
        "    # Using utf-8, if there are a bunch of random symbols try changing this\n",
        "    codec = \"utf-8\"\n",
        "    rsrcmgr = pdfminer.pdfinterp.PDFResourceManager()\n",
        "    retstr = io.StringIO()\n",
        "    layoutParams = pdfminer.layout.LAParams()\n",
        "    device = pdfminer.converter.TextConverter(\n",
        "        rsrcmgr, retstr, laparams=layoutParams, codec=codec\n",
        "    )\n",
        "    # We need a device and an interpreter\n",
        "    interpreter = pdfminer.pdfinterp.PDFPageInterpreter(rsrcmgr, device)\n",
        "    password = \"\"\n",
        "    maxpages = 0\n",
        "    caching = True\n",
        "    pagenos = set()\n",
        "    for page in pdfminer.pdfpage.PDFPage.get_pages(\n",
        "        pdfFile,\n",
        "        pagenos,\n",
        "        maxpages=maxpages,\n",
        "        password=password,\n",
        "        caching=caching,\n",
        "        check_extractable=True,\n",
        "    ):\n",
        "        interpreter.process_page(page)\n",
        "    device.close()\n",
        "    returnedString = retstr.getvalue()\n",
        "    retstr.close()\n",
        "    return returnedString"
      ]
    },
    {
      "cell_type": "markdown",
      "metadata": {
        "collapsed": false
      },
      "source": [
        "First we need to take the response object and convert it into a 'file like'\n",
        "object so that pdfminer can read it. To do this we will use `io`'s `BytesIO`."
      ]
    },
    {
      "cell_type": "code",
      "execution_count": null,
      "metadata": {
        "collapsed": false
      },
      "outputs": [],
      "source": [
        "infoExtractionBytes = io.BytesIO(infoExtractionRequest.content)"
      ]
    },
    {
      "cell_type": "markdown",
      "metadata": {
        "collapsed": false
      },
      "source": [
        "Now we can give it to pdfminer."
      ]
    },
    {
      "cell_type": "code",
      "execution_count": null,
      "metadata": {
        "collapsed": false
      },
      "outputs": [],
      "source": [
        "print(readPDF(infoExtractionBytes)[:550])"
      ]
    },
    {
      "cell_type": "markdown",
      "metadata": {
        "collapsed": false
      },
      "source": [
        "From here we can either look at the full text or fiddle with our PDF reader and\n",
        "get more information about individual blocks of text.\n",
        "\n",
        "## Word Docs\n",
        "\n",
        "The other type of document you are likely to encounter is the `.docx`, these are\n",
        "actually a version of [XML](https://en.wikipedia.org/wiki/Office_Open_XML), just\n",
        "like HTML, and like HTML we will use a specialized parser.\n",
        "\n",
        "For this class we will use [`python-docx`](https://python-\n",
        "docx.readthedocs.io/en/latest/) which provides a nice simple interface for\n",
        "reading `.docx` files"
      ]
    },
    {
      "cell_type": "code",
      "execution_count": null,
      "metadata": {
        "collapsed": false
      },
      "outputs": [],
      "source": [
        "# example_docx = 'https://github.com/KnowledgeLab/content_analysis/raw/data/example_doc.docx'\n",
        "\n",
        "r = requests.get(example_docx, stream=True)\n",
        "d = docx.Document(io.BytesIO(r.content))\n",
        "for paragraph in d.paragraphs[:7]:\n",
        "    print(paragraph.text)"
      ]
    },
    {
      "cell_type": "markdown",
      "metadata": {
        "collapsed": false
      },
      "source": [
        "This procedure uses the `io.BytesIO` class again, since `docx.Document` expects\n",
        "a file. Another way to do it is to save the document to a file and then read it\n",
        "like any other file. If we do this we can either delete the file afterwords, or\n",
        "save it and avoid downloading the following time.\n",
        "\n",
        "This function is useful as a part of many different tasks so it and others like it will be added to the helper package `lucem_illud` so we can use it later without having to retype it."
      ]
    },
    {
      "cell_type": "code",
      "execution_count": null,
      "metadata": {
        "collapsed": false
      },
      "outputs": [],
      "source": [
        "def downloadIfNeeded(targetURL, outputFile, **openkwargs):\n",
        "    if not os.path.isfile(outputFile):\n",
        "        outputDir = os.path.dirname(outputFile)\n",
        "        # This function is a more general os.mkdir()\n",
        "        if len(outputDir) > 0:\n",
        "            os.makedirs(outputDir, exist_ok=True)\n",
        "        r = requests.get(targetURL, stream=True)\n",
        "        # Using a closure like this is generally better than having to\n",
        "        # remember to close the file. There are ways to make this function\n",
        "        # work as a closure too\n",
        "        with open(outputFile, \"wb\") as f:\n",
        "            f.write(r.content)\n",
        "    return open(outputFile, **openkwargs)"
      ]
    },
    {
      "cell_type": "markdown",
      "metadata": {
        "collapsed": false
      },
      "source": [
        "This function will download, save and open `outputFile` as `outputFile` or just\n",
        "open it if `outputFile` exists. By default `open()` will open the file as read\n",
        "only text with the local encoding, which may cause issues if its not a text\n",
        "file."
      ]
    },
    {
      "cell_type": "code",
      "execution_count": null,
      "metadata": {
        "collapsed": false
      },
      "outputs": [],
      "source": [
        "try:\n",
        "    d = docx.Document(downloadIfNeeded(example_docx, example_docx_save))\n",
        "except Exception as e:\n",
        "    print(e)"
      ]
    },
    {
      "cell_type": "markdown",
      "metadata": {
        "collapsed": false
      },
      "source": [
        "We need to tell `open()` to read in binary mode (`'rb'`), this is why we added\n",
        "`**openkwargs`, this allows us to pass any keyword arguments (kwargs) from\n",
        "`downloadIfNeeded` to `open()`."
      ]
    },
    {
      "cell_type": "code",
      "execution_count": null,
      "metadata": {
        "collapsed": false
      },
      "outputs": [],
      "source": [
        "d = docx.Document(downloadIfNeeded(example_docx, example_docx_save, mode=\"rb\"))\n",
        "for paragraph in d.paragraphs[:7]:\n",
        "    print(paragraph.text)"
      ]
    },
    {
      "cell_type": "markdown",
      "metadata": {},
      "source": [
        "Now we can read the file with `docx.Document` and not have to wait for it to be\n",
        "downloaded every time."
      ]
    },
    {
      "cell_type": "markdown",
      "metadata": {},
      "source": [
        "# <font color=\"red\">Exercise 3</font>\n",
        "<font color=\"red\">Construct cells immediately below this that extract and organize textual content from text, PDF or Word into a pandas dataframe.</font>\n"
      ]
    },
    {
      "cell_type": "markdown",
      "metadata": {},
      "source": [
        "# <font color=\"red\">Exercise 4</font>\n",
        "\n",
        "<font color=\"red\">In the two cells immediately following, describe a possible project (e.g., it might end up being your final project, but need not be if you are still searching): **WHAT** you will analyze--the texts you will select and the social game, world and actors you intend to learn about through your analysis (<100 words); **WHY** you will analyze these texts to learn about that context--justify the rationale behind your proposed sample design for this project, based on the readings. What is the social game, social work, or social actors about whom you are seeking to make inferences? What are the virtues of your proposed sample with respect to your research questions? What are its limitations? What are alternatives? What would be a reasonable path to \"scale up\" your sample for further analysis (i.e., high-profile publication)? (<150 words)? [**Note**: your individual or collective project will change over the course of the quarter as new data and/or analysis opportunities arise or if old ones fade away.] "
      ]
    },
    {
      "cell_type": "markdown",
      "metadata": {},
      "source": [
        "## ***What?*** \n",
        "<100 words"
      ]
    },
    {
      "cell_type": "markdown",
      "metadata": {},
      "source": [
        "## ***Why?***\n",
        "<150 words"
      ]
    },
    {
      "cell_type": "markdown",
      "metadata": {},
      "source": [
        "### Sources:\n",
        "\n",
        "Other popular sources for internet data:\n",
        "\n",
        "[reddit](https://www.reddit.com/) - https://praw.readthedocs.io/en/v2.1.21/\n",
        "\n",
        "[twitter](https://twitter.com/) - https://pypi.org/project/python-twitter/\n",
        "\n",
        "[project gutenburg](https://www.gutenberg.org/) - https://github.com/ageitgey/Gutenberg \n",
        "\n"
      ]
    }
  ],
  "metadata": {
    "kernelspec": {
      "display_name": "Python 3 (ipykernel)",
      "language": "python",
      "name": "python3"
    },
    "language_info": {
      "codemirror_mode": {
        "name": "ipython",
        "version": 3
      },
      "file_extension": ".py",
      "mimetype": "text/x-python",
      "name": "python",
      "nbconvert_exporter": "python",
      "pygments_lexer": "ipython3",
      "version": "3.9.7"
    }
  },
  "nbformat": 4,
  "nbformat_minor": 2
}
