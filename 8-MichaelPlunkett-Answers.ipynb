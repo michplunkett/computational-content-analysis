{
 "cells": [
  {
   "cell_type": "code",
   "execution_count": null,
   "id": "initial_id",
   "metadata": {
    "collapsed": true
   },
   "outputs": [],
   "source": [
    "import os\n",
    "from langchain.llms import OpenAI"
   ]
  },
  {
   "cell_type": "markdown",
   "source": [
    "**Note:** Worked with Chanteria Milner on this assignment.\n",
    "<img src=\"misc/syllabus_segment.png\" style=\"width:400px\">"
   ],
   "metadata": {
    "collapsed": false
   },
   "id": "baca9619066ac3df"
  },
  {
   "cell_type": "markdown",
   "source": [
    "# Constants, Utility Functions, and Data Importing"
   ],
   "metadata": {
    "collapsed": false
   },
   "id": "6cc1aa3b4deec182"
  },
  {
   "cell_type": "code",
   "execution_count": null,
   "outputs": [],
   "source": [
    "# Constants and clients\n",
    "GPT_MODEL = \"gpt-3.5-turbo\"\n",
    "MAX_CHAR_LEN = 5000000\n",
    "OPENAI_API_KEY = os.environ.get(\"OPENAI_API_KEY\")\n",
    "\n",
    "openai_client = OpenAI(api_key=OPENAI_API_KEY)"
   ],
   "metadata": {
    "collapsed": false
   },
   "id": "20ef1a145a95feae"
  },
  {
   "cell_type": "code",
   "execution_count": null,
   "outputs": [],
   "source": [
    "# Utility functions"
   ],
   "metadata": {
    "collapsed": false
   },
   "id": "2cbc9341a70ed576"
  },
  {
   "cell_type": "code",
   "execution_count": null,
   "outputs": [],
   "source": [
    "# Data importing"
   ],
   "metadata": {
    "collapsed": false
   },
   "id": "ea9f4f4a6704a9d6"
  },
  {
   "cell_type": "markdown",
   "source": [
    "## <font color=\"red\">*Exercise 1*</font>\n",
    "\n",
    "<font color=\"red\">Construct cells immediately below this that use ConvoKit to analyze a Corpus other \n",
    "than 'subreddit-Cornell', including at least one function you find in the package \n",
    "not used above. You can also generate a ConvoKit Corpus from your own dataset based \n",
    "on [their Corpus from .txt files tutorial](https://github.com/CornellNLP/Cornell-Conversational-Analysis-Toolkit/blob/master/examples/converting_movie_corpus.ipynb) or [their Corpus from pandas tutorial](https://github.com/CornellNLP/Cornell-Conversational-Analysis-Toolkit/blob/master/examples/corpus_from_pandas.ipynb), but that may \n",
    "be time-consuming for a weekly assignment."
   ],
   "metadata": {
    "collapsed": false
   },
   "id": "d64bc92c9f05ea22"
  },
  {
   "cell_type": "code",
   "execution_count": null,
   "outputs": [],
   "source": [],
   "metadata": {
    "collapsed": false,
    "ExecuteTime": {
     "end_time": "2024-02-25T22:11:17.590522Z",
     "start_time": "2024-02-25T22:11:17.585897Z"
    }
   },
   "id": "db52d201f66fc01b"
  },
  {
   "cell_type": "markdown",
   "source": [
    "## <font color=\"red\">*Exercise 2*</font>\n",
    "\n",
    "<font color=\"red\">Construct cells immediately below this that perform a similar social \n",
    "similarity or influence analysis on a dataset relevant to your final project (__or \n",
    "one from ConvoKit__). Create relationships between actors in a network based on your \n",
    "dataset (e.g., person to person or document to document), and perform analyses that \n",
    "interrogate the structure of their interactions, similarity, and/or influence on \n",
    "one another. (For example, if relevant to your final project, you could explore \n",
    "different soap operas, counting how many times a character may have used the word \n",
    "love in conversation with another character, and identify if characters in love \n",
    "speak like each other. Or do opposites attract?) What does that analysis and its \n",
    "output reveal about the relative influence of each actor on others? What does it \n",
    "reveal about the social game being played?\n",
    "\n",
    "<font color=\"red\">Stretch 1:\n",
    "Render the social network with weights (e.g., based on the number of scenes in \n",
    "which actors appear together), then calculate the most central actors in the \n",
    "`show.Realtime` output can be viewed in shell.\n",
    "\n",
    "<font color=\"red\">Stretch 2:\n",
    "Implement more complex measures of similarity based on the papers you have read."
   ],
   "metadata": {
    "collapsed": false
   },
   "id": "908dc21f632ad37e"
  },
  {
   "cell_type": "code",
   "execution_count": null,
   "outputs": [],
   "source": [],
   "metadata": {
    "collapsed": false,
    "ExecuteTime": {
     "end_time": "2024-02-25T22:11:17.590825Z",
     "start_time": "2024-02-25T22:11:17.589715Z"
    }
   },
   "id": "1c0d9307c9a390ff"
  },
  {
   "cell_type": "markdown",
   "source": [
    "## <font color=\"red\">*Exercise 3*</font>\n",
    "\n",
    "<font color=\"red\">Review the documentation for tools and agents from LangChain. Use at \n",
    "least two tools with appropriate agents discovered during your review to construct a \n",
    "chain addressing questions pertinent to your final project. If your project dataset \n",
    "is unsuitable for this task, select an alternative small-sized dataset for \n",
    "implementation."
   ],
   "metadata": {
    "collapsed": false
   },
   "id": "670ab4047643c5a7"
  },
  {
   "cell_type": "code",
   "execution_count": null,
   "outputs": [],
   "source": [],
   "metadata": {
    "collapsed": false,
    "ExecuteTime": {
     "end_time": "2024-02-25T22:11:17.751124Z",
     "start_time": "2024-02-25T22:11:17.732118Z"
    }
   },
   "id": "79f2959169df6d40"
  },
  {
   "cell_type": "markdown",
   "source": [
    "## <font color=\"red\">*Exercise 4*</font>\n",
    "\n",
    "<font color=\"red\">Use LangChain(you're welcome to not use it) to set up conversations with LLM \n",
    "agents for questions related to your final project (if relevant), or think of a \n",
    "scenario that a simulated conversation could be useful to answer a research question \n",
    "and find a dataset to implement it. What does it reveal about the social game involved \n",
    "with your dataset?\n",
    "\n",
    "<font color=\"red\"> Stretch: Use the idea of memory retrieval(or other methods) to design better \n",
    "templates for the LLM conversation."
   ],
   "metadata": {
    "collapsed": false
   },
   "id": "ff78f725cfb57da5"
  },
  {
   "cell_type": "code",
   "execution_count": null,
   "outputs": [],
   "source": [],
   "metadata": {
    "collapsed": false
   },
   "id": "79893be96979326"
  }
 ],
 "metadata": {
  "kernelspec": {
   "display_name": "Python 3",
   "language": "python",
   "name": "python3"
  },
  "language_info": {
   "codemirror_mode": {
    "name": "ipython",
    "version": 2
   },
   "file_extension": ".py",
   "mimetype": "text/x-python",
   "name": "python",
   "nbconvert_exporter": "python",
   "pygments_lexer": "ipython2",
   "version": "2.7.6"
  }
 },
 "nbformat": 4,
 "nbformat_minor": 5
}
