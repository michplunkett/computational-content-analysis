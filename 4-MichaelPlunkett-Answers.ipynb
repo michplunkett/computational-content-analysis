{
  "cells": [
    {
      "cell_type": "code",
      "execution_count": null,
      "id": "initial_id",
      "metadata": {
        "collapsed": true
      },
      "outputs": [],
      "source": [
        "%matplotlib inline"
      ]
    },
    {
      "cell_type": "markdown",
      "id": "ad51258b5de373",
      "metadata": {
        "collapsed": false
      },
      "source": [
        "### Utility Functions"
      ]
    },
    {
      "cell_type": "code",
      "execution_count": null,
      "id": "9197e14fd95bf6d1",
      "metadata": {
        "collapsed": false
      },
      "outputs": [],
      "source": []
    },
    {
      "cell_type": "markdown",
      "id": "f51d38fae139ca9f",
      "metadata": {
        "collapsed": false
      },
      "source": [
        "## <font color=\"red\">*Pitch Your Project*</font>\n",
        "\n",
        "<font color=\"red\">In the three cells immediately following, describe **WHAT** you are planning to analyze for your final project (i.e., texts, contexts and the social game, world and actors you intend to learn about through your analysis) (<200 words), **WHY** you are going to do it (i.e., why would theory and/or the average person benefit from knowing the results of your investigation) (<200 words), and **HOW** you plan to investigate it (i.e., what are the approaches and operations you plan to perform, in sequence, to yield this insight) (<400 words).\n",
        "\n",
        "# ***What?***\n",
        "<200 words\n",
        "\n",
        "## ***Why?***\n",
        "<200 words\n",
        "\n",
        "## ***How?***\n",
        "<400 words\n",
        "\n",
        "## <font color=\"red\">*Pitch Your Sample*</font>\n",
        "\n",
        "<font color=\"red\">In the cell immediately following, describe the rationale behind your proposed sample design for your final project. What is the social game, social work, or social actors you about whom you are seeking to make inferences? What are its virtues with respect to your research questions? What are its limitations? What are alternatives? What would be a reasonable path to \"scale up\" your sample for further analysis (i.e., high-profile publication) beyond this class? (<300 words).\n",
        "\n",
        "## ***Which (words)?***\n",
        "<300 words"
      ]
    },
    {
      "cell_type": "markdown",
      "id": "4566da9698fc4f8d",
      "metadata": {
        "collapsed": false
      },
      "source": [
        "## <font color=\"red\">*Exercise 1*</font>\n",
        "\n",
        "<font color=\"red\">Construct cells immediately below this that embed documents \n",
        "related to your final project using at least two different specification of \n",
        "`word2vec` and/or `fasttext`, and visualize them each with two separate \n",
        "visualization layout specifications (e.g., TSNE, PCA). Then interrogate \n",
        "critical word vectors within your corpus in terms of the most similar words, \n",
        "analogies, and other additions and subtractions that reveal the structure of \n",
        "similarity and difference within your semantic space. What does this pattern \n",
        "reveal about the semantic organization of words in your corpora? Which \n",
        "estimation and visualization specification generate the most insight and \n",
        "appear the most robustly supported and why?\n",
        "\n",
        "<font color=\"red\">***Stretch***: Explore different vector calculations \n",
        "beyond addition and subtraction, such as multiplication, division or some \n",
        "other function. What does this exploration reveal about the semantic \n",
        "structure of your corpus?"
      ]
    },
    {
      "cell_type": "code",
      "execution_count": null,
      "id": "93678727b66d6836",
      "metadata": {
        "collapsed": false
      },
      "outputs": [],
      "source": []
    },
    {
      "cell_type": "markdown",
      "id": "482b042438fb3b50",
      "metadata": {
        "collapsed": false
      },
      "source": [
        "## <font color=\"red\">*Exercise 2*</font>\n",
        "\n",
        "<font color=\"red\">Construct cells immediately below this that embed \n",
        "documents related to your final project using `doc2vec`, and explore \n",
        "the relationship between different documents and the word vectors you \n",
        "analyzed in the last exercise. Consider the most similar words to \n",
        "critical documents, analogies (doc _x_ + word _y_), and other additions \n",
        "and subtractions that reveal the structure of similarity and difference \n",
        "within your semantic space. What does this pattern reveal about the \n",
        "documentary organization of your semantic space?"
      ]
    },
    {
      "cell_type": "code",
      "execution_count": null,
      "id": "aec87aff1fdb9227",
      "metadata": {
        "collapsed": false
      },
      "outputs": [],
      "source": []
    },
    {
      "cell_type": "markdown",
      "id": "a435785ab3cdea0c",
      "metadata": {
        "collapsed": false
      },
      "source": [
        "## <font color=\"red\">*Exercise 3*</font>\n",
        "\n",
        "<font color=\"red\">Construct cells immediately below this that embed \n",
        "documents related to your final project, then generate meaningful \n",
        "semantic dimensions based on your theoretical understanding of the \n",
        "semantic space (i.e., by subtracting semantically opposite word vectors) \n",
        "and project another set of word vectors onto those dimensions. Interpret \n",
        "the meaning of these projections for your analysis. Which of the dimensions \n",
        "you analyze explain the most variation in the projection of your words and why?\n",
        "\n",
        "<font color=\"red\">***Stretch***: Average together multiple antonym pairs to \n",
        "create robust semantic dimensions. How do word projections on these robust \n",
        "dimensions differ from single-pair dimensions?"
      ]
    },
    {
      "cell_type": "code",
      "execution_count": null,
      "id": "20ea25e14c576b54",
      "metadata": {
        "collapsed": false
      },
      "outputs": [],
      "source": []
    },
    {
      "cell_type": "markdown",
      "id": "65cf97e6479b6d02",
      "metadata": {
        "collapsed": false
      },
      "source": [
        "## <font color=\"red\">*Exercise 4*</font>\n",
        "\n",
        "<font color=\"red\">Construct cells immediately below this that align \n",
        "word embeddings over time or across domains/corpora. Interrogate the \n",
        "spaces that result and ask which words changed most and least over the \n",
        "entire period or between contexts/corpora. What does this reveal about \n",
        "the social game underlying your space?"
      ]
    },
    {
      "cell_type": "code",
      "execution_count": null,
      "id": "a294e503edbfe9a9",
      "metadata": {
        "collapsed": false
      },
      "outputs": [],
      "source": []
    }
  ],
  "metadata": {
    "kernelspec": {
      "display_name": "Python 3",
      "language": "python",
      "name": "python3"
    },
    "language_info": {
      "codemirror_mode": {
        "name": "ipython",
        "version": 2
      },
      "file_extension": ".py",
      "mimetype": "text/x-python",
      "name": "python",
      "nbconvert_exporter": "python",
      "pygments_lexer": "ipython2",
      "version": "2.7.6"
    }
  },
  "nbformat": 4,
  "nbformat_minor": 5
}
