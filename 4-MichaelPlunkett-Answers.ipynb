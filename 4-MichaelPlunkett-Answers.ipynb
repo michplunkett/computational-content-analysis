{
  "cells": [
    {
      "cell_type": "code",
      "execution_count": 118,
      "id": "initial_id",
      "metadata": {
        "ExecuteTime": {
          "end_time": "2024-01-31T21:14:05.797662Z",
          "start_time": "2024-01-31T21:14:05.756900Z"
        },
        "collapsed": true
      },
      "outputs": [],
      "source": [
        "import copy\n",
        "import math\n",
        "import os\n",
        "import pickle\n",
        "import sys\n",
        "\n",
        "import gensim\n",
        "import lucem_illud\n",
        "import matplotlib.pyplot as plt\n",
        "import numpy as np\n",
        "import pandas as pd\n",
        "import sklearn.manifold\n",
        "from ksvd import ApproximateKSVD\n",
        "from tqdm import tqdm\n",
        "\n",
        "%matplotlib inline\n",
        "tqdm.pandas()"
      ]
    },
    {
      "cell_type": "markdown",
      "id": "ad51258b5de373",
      "metadata": {
        "collapsed": false
      },
      "source": [
        "### Constants and Utility Functions"
      ]
    },
    {
      "cell_type": "code",
      "execution_count": 75,
      "id": "9197e14fd95bf6d1",
      "metadata": {
        "ExecuteTime": {
          "end_time": "2024-01-31T05:35:02.420031Z",
          "start_time": "2024-01-31T05:35:02.356212Z"
        },
        "collapsed": false
      },
      "outputs": [],
      "source": [
        "# Constants\n",
        "MAX_CHAR_LEN = 5000000"
      ]
    },
    {
      "cell_type": "code",
      "execution_count": 123,
      "id": "47422efb6505bc3c",
      "metadata": {
        "ExecuteTime": {
          "end_time": "2024-01-31T22:20:45.761539Z",
          "start_time": "2024-01-31T22:20:45.731328Z"
        },
        "collapsed": false
      },
      "outputs": [],
      "source": [
        "# Utility Functions\n",
        "\n",
        "\n",
        "def coloring(series: pd.Series):\n",
        "    x = series.values\n",
        "    y = x - x.min()\n",
        "    z = y / y.max()\n",
        "    colors = list(plt.cm.rainbow(z))\n",
        "    return colors\n",
        "\n",
        "\n",
        "def plot_dimension(axis, df: pd.DataFrame, dim):\n",
        "    axis.set_frame_on(False)\n",
        "    axis.set_title(dim, fontsize=20)\n",
        "    colors = coloring(df[dim])\n",
        "    for idx, df_word in enumerate(df.index):\n",
        "        axis.annotate(\n",
        "            df_word, (0, df[dim][idx]), color=colors[idx], alpha=0.6, fontsize=12\n",
        "        )\n",
        "    MaxY = df[dim].max()\n",
        "    MinY = df[dim].min()\n",
        "    plt.ylim(MinY, MaxY)\n",
        "    plt.yticks(())\n",
        "    plt.xticks(())\n",
        "\n",
        "\n",
        "def calc_syn0norm(mdl):\n",
        "    \"\"\"since syn0norm is now deprecated\"\"\"\n",
        "    return (mdl.wv.syn0 / np.sqrt((mdl.wv.syn0**2).sum(-1))[..., np.newaxis]).astype(\n",
        "        np.float32\n",
        "    )\n",
        "\n",
        "\n",
        "def smart_procrustes_align_gensim(base_embed, other_embed, words=None):\n",
        "    \"\"\"Procrustes align two gensim word2vec models (to allow for comparison between same word across models).\n",
        "    Code ported from HistWords <https://github.com/williamleif/histwords> by William Hamilton <wleif@stanford.edu>.\n",
        "    (With help from William. Thank you!)\n",
        "    First, intersect the vocabularies (see `intersection_align_gensim` documentation).\n",
        "    Then do the alignment on the other_embed model.\n",
        "    Replace the other_embed model's syn0 and syn0norm numpy matrices with the aligned version.\n",
        "    Return other_embed.\n",
        "    If `words` is set, intersect the two models' vocabulary with the vocabulary in words (see `intersection_align_gensim` documentation).\n",
        "    \"\"\"\n",
        "    base_embed = copy.copy(base_embed)\n",
        "    other_embed = copy.copy(other_embed)\n",
        "    # make sure vocabulary and indices are aligned\n",
        "    in_base_embed, in_other_embed = intersection_align_gensim(\n",
        "        base_embed, other_embed, words=words\n",
        "    )\n",
        "\n",
        "    # get the embedding matrices\n",
        "    # base_vecs = calc_syn0norm(in_base_embed)\n",
        "    # other_vecs = calc_syn0norm(in_other_embed)\n",
        "    base_vecs = [\n",
        "        in_base_embed.wv.get_vector(w, norm=True)\n",
        "        for w in set(in_base_embed.wv.index_to_key)\n",
        "    ]\n",
        "    other_vecs = [\n",
        "        in_other_embed.wv.get_vector(w, norm=True)\n",
        "        for w in set(in_other_embed.wv.index_to_key)\n",
        "    ]\n",
        "\n",
        "    # just a matrix dot product with numpy\n",
        "    m = np.array(other_vecs).T.dot(np.array(base_vecs))\n",
        "    # SVD method from numpy\n",
        "    u, _, v = np.linalg.svd(m)\n",
        "    # another matrix operation\n",
        "    ortho = u.dot(v)\n",
        "    # Replace original array with modified one\n",
        "    # i.e. multiplying the embedding matrix (syn0norm)by \"ortho\"\n",
        "    other_embed.wv.vectors = (np.array(other_vecs)).dot(ortho)\n",
        "    return other_embed\n",
        "\n",
        "\n",
        "def intersection_align_gensim(m1, m2, words=None):\n",
        "    \"\"\"\n",
        "    Intersect two gensim word2vec models, m1 and m2.\n",
        "    Only the shared vocabulary between them is kept.\n",
        "    If 'words' is set (as list or set), then the vocabulary is intersected with this list as well.\n",
        "    Indices are re-organized from 0..N in order of descending frequency (=sum of counts from both m1 and m2).\n",
        "    These indices correspond to the new syn0 and syn0norm objects in both gensim models:\n",
        "        -- so that Row 0 of m1.syn0 will be for the same word as Row 0 of m2.syn0\n",
        "        -- you can find the index of any word on the .index2word list: model.index2word.index(word) => 2\n",
        "    The .vocab dictionary is also updated for each model, preserving the count but updating the index.\n",
        "    \"\"\"\n",
        "\n",
        "    # Get the vocab for each model\n",
        "    vocab_m1 = set(m1.wv.index_to_key)\n",
        "    vocab_m2 = set(m2.wv.index_to_key)\n",
        "\n",
        "    # Find the common vocabulary\n",
        "    common_vocab = vocab_m1 & vocab_m2\n",
        "    if words:\n",
        "        common_vocab &= set(words)\n",
        "\n",
        "    # If no alignment necessary because vocab is identical...\n",
        "    if not vocab_m1 - common_vocab and not vocab_m2 - common_vocab:\n",
        "        return m1, m2\n",
        "\n",
        "    # Otherwise sort by frequency (summed for both)\n",
        "    common_vocab = list(common_vocab)\n",
        "    common_vocab.sort(\n",
        "        key=lambda w: m1.wv.get_vecattr(w, \"count\") + m2.wv.get_vecattr(w, \"count\"),\n",
        "        reverse=True,\n",
        "    )\n",
        "\n",
        "    # Then for each model...\n",
        "    for m in [m1, m2]:\n",
        "        # Replace old syn0norm array with new one (with common vocab)\n",
        "        new_arr = [m.wv.get_vector(w, norm=True) for w in common_vocab]\n",
        "\n",
        "        # Replace old vocab dictionary with new one (with common vocab)\n",
        "        # and old index2word with new one\n",
        "        m.index2word = common_vocab\n",
        "        # old_vocab = m.wv.index_to_key\n",
        "        new_vocab = []\n",
        "        k2i = {}\n",
        "        for new_index, word in enumerate(common_vocab):\n",
        "            new_vocab.append(word)\n",
        "            k2i[word] = new_index\n",
        "        m.wv.index_to_key = new_vocab\n",
        "        m.wv.key_to_index = k2i\n",
        "        m.wv.vectors = np.array(new_arr)\n",
        "\n",
        "    return m1, m2\n",
        "\n",
        "\n",
        "def raw_models(df, category, text_column_name=\"normalized_sentences\"):\n",
        "    embeddings_raw = {}\n",
        "    cats = sorted(set(df[category]))\n",
        "    for cat in cats:\n",
        "        # This can take a while\n",
        "        print(\"Embedding {}\".format(cat), end=\"\\r\")\n",
        "        subsetDF = df[df[category] == cat]\n",
        "        # You might want to change the W2V parameters\n",
        "        embeddings_raw[cat] = gensim.models.word2vec.Word2Vec(\n",
        "            subsetDF[text_column_name].sum()\n",
        "        )\n",
        "    return embeddings_raw\n",
        "\n",
        "\n",
        "def compare_models(\n",
        "    df,\n",
        "    category,\n",
        "    text_column_name=\"normalized_sentences\",\n",
        "    embeddings_raw=None,\n",
        "):\n",
        "    \"\"\"If you are using time as your category sorting is important\"\"\"\n",
        "    if embeddings_raw is None:\n",
        "        embeddings_raw = {}\n",
        "    if len(embeddings_raw) == 0:\n",
        "        embeddings_raw = raw_models(df, category, text_column_name)\n",
        "    cats = sorted(set(df[category]))\n",
        "    # These are much quicker\n",
        "    embeddings_aligned = {}\n",
        "    for cat_outer in cats:\n",
        "        embeddings_aligned[cat_outer] = [embeddings_raw[cat_outer]]\n",
        "        for cat_inner in cats:\n",
        "            embeddings_aligned[cat_outer].append(\n",
        "                smart_procrustes_align_gensim(\n",
        "                    embeddings_aligned[cat_outer][-1], embeddings_raw[cat_inner]\n",
        "                )\n",
        "            )\n",
        "    return embeddings_raw, embeddings_aligned\n",
        "\n",
        "\n",
        "def get_divergence_df(emb_word, embeddings_dict):\n",
        "    cats = sorted(set(embeddings_dict.keys()))\n",
        "    dists = {}\n",
        "    print(emb_word)\n",
        "    for cat in cats:\n",
        "        dists[cat] = []\n",
        "        for embed in embeddings_dict[cat][1:]:\n",
        "            dists[cat].append(\n",
        "                np.abs(\n",
        "                    1\n",
        "                    - sklearn.metrics.pairwise.cosine_similarity(\n",
        "                        np.expand_dims(embeddings_dict[cat][0].wv[emb_word], axis=0),\n",
        "                        np.expand_dims(embed.wv[emb_word], axis=0),\n",
        "                    )[0, 0]\n",
        "                )\n",
        "            )\n",
        "    return pd.DataFrame(dists, index=cats)\n",
        "\n",
        "\n",
        "def do_aksvd(\n",
        "    w2v_model,\n",
        "    n_comp,\n",
        "    n_non_zeros,\n",
        "    save=False,\n",
        "    save_location=\"data/content/aksvd_models/\",\n",
        "):\n",
        "    # https://github.com/nel215/ksvd #takes about 2 min on Alina's laptop for 30 atoms\n",
        "    aksvd_t = ApproximateKSVD(\n",
        "        n_components=n_comp, transform_n_nonzero_coefs=n_non_zeros\n",
        "    )  # also may adjust n iter which is default at 10, and tolerance for error which is default at  tol=1e-6 #n_components is number of discourse atoms, since vocab size is smallish, keep this fewer. transform_n is the number of atoms (components) that a word can be a linear combo of\n",
        "    dictionary_t = aksvd_t.fit(\n",
        "        w2v_model.wv.vectors\n",
        "    ).components_  # Dictionary is the matrix of discourse atoms.\n",
        "    alpha_t = aksvd_t.transform(\n",
        "        w2v_model.wv.vectors\n",
        "    )  # get the alphas, which are the \"weights\" of each word on a discourse atoms\n",
        "\n",
        "    if save:\n",
        "        outfile = open(\n",
        "            str(save_location)\n",
        "            + \"200d_\"\n",
        "            + str(n_comp)\n",
        "            + \"comp\"\n",
        "            + str(n_non_zeros)\n",
        "            + \"nonzeros_aksvd_nvdrsdf20\",\n",
        "            \"wb\",\n",
        "        )\n",
        "        pickle.dump(aksvd_t, outfile)\n",
        "        outfile.close()\n",
        "\n",
        "        outfile = open(\n",
        "            str(save_location)\n",
        "            + \"200d_\"\n",
        "            + str(n_comp)\n",
        "            + \"comp\"\n",
        "            + str(n_non_zeros)\n",
        "            + \"nonzeros_dictionary_nvdrsdf20\",\n",
        "            \"wb\",\n",
        "        )\n",
        "        pickle.dump(dictionary_t, outfile)\n",
        "        outfile.close()\n",
        "\n",
        "        outfile = open(\n",
        "            str(save_location)\n",
        "            + \"200d_\"\n",
        "            + str(n_comp)\n",
        "            + \"comp\"\n",
        "            + str(n_non_zeros)\n",
        "            + \"nonzeros_alpha_nvdrsdf20\",\n",
        "            \"wb\",\n",
        "        )\n",
        "        pickle.dump(alpha_t, outfile)\n",
        "        outfile.close()\n",
        "    return dictionary_t, alpha_t\n",
        "\n",
        "\n",
        "def reconstruct_quality(w2v_model, dictionary_mat, alpha_mat):\n",
        "    # reconstruct word vectors and add back in mean(?). but note that reconstructed norm is still around 0-1, not 1, is that an issue?\n",
        "    # e1 = norm(w2vmodel.wv.vectors - reconstructed) #total reconstruction error, larger means MORE error. norm as specified here takes frobenius norm of error matrix.\n",
        "    # reconstruct the word vectors\n",
        "    reconstructed = alpha_mat.dot(dictionary_mat)\n",
        "\n",
        "    # https://dziganto.github.io/data%20science/linear%20regression/machine%20learning/python/Linear-Regression-101-Metrics/\n",
        "    # total VARIANCE in the data: sum of squares\n",
        "    squares3 = w2v_model.wv.vectors - np.mean(w2v_model.wv.vectors, axis=1).reshape(\n",
        "        -1, 1\n",
        "    )\n",
        "    # sst3= np.sum([i.dot(i) for i in squares3] ) #same as below\n",
        "\n",
        "    sst3 = np.sum(np.square(squares3))\n",
        "\n",
        "    # https://dziganto.github.io/data%20science/linear%20regression/machine%20learning/python/Linear-Regression-101-Metrics/\n",
        "    # total sum of squared ERRORS/residuals\n",
        "    e3 = [\n",
        "        reconstructed[idx] - w2v_model.wv.vectors[idx]\n",
        "        for idx in range(0, len(w2v_model.wv.vectors))\n",
        "    ]\n",
        "\n",
        "    # sse3= np.sum([i.dot(i) for i in e3] ) #same as below\n",
        "    sse3 = np.sum(np.square(e3))\n",
        "\n",
        "    # https://stats.stackexchange.com/questions/184603/in-pca-what-is-the-connection-between-explained-variance-and-squared-error\n",
        "    # R^2: 1- (SSE / SST )\n",
        "    r2 = 1 - (sse3 / sst3)\n",
        "\n",
        "    # compute root mean square error\n",
        "    root_mean_square_error = math.sqrt(np.mean(np.square(e3)))\n",
        "\n",
        "    return sse3, root_mean_square_error, r2\n",
        "\n",
        "\n",
        "def topic_diversity(w2v_model, dictionary_mat, top_n=25):\n",
        "    # list of list, each inner list includes top N words in that topic\n",
        "    top_words = []\n",
        "\n",
        "    # set to number of total topics\n",
        "    for i_dict in range(0, len(dictionary_mat)):\n",
        "        # set for top N words\n",
        "        top_words.extend(\n",
        "            [\n",
        "                idx[0]\n",
        "                for idx in w2v_model.wv.similar_by_vector(\n",
        "                    dictionary_mat[i_dict], topn=top_n\n",
        "                )\n",
        "            ]\n",
        "        )\n",
        "\n",
        "    uniquewords = set(top_words)\n",
        "    diversity = len(uniquewords) / len(top_words)\n",
        "    return diversity"
      ]
    },
    {
      "cell_type": "markdown",
      "id": "f51d38fae139ca9f",
      "metadata": {
        "collapsed": false
      },
      "source": [
        "# <font color=\"red\">*Pitch Your Project*</font>\n",
        "<font color=\"red\">In the three cells immediately following, describe **WHAT** you are \n",
        "planning to analyze for your final project (i.e., texts, contexts and the social game, \n",
        "world and actors you intend to learn about through your analysis) (<200 words), **WHY** \n",
        "you are going to do it (i.e., why would theory and/or the average person benefit from \n",
        "knowing the results of your investigation) (<200 words), and **HOW** you plan to investigate \n",
        "it (i.e., what are the approaches and operations you plan to perform, in sequence, to yield \n",
        "this insight) (<400 words).\n",
        "\n",
        "## ***What? (<200 words)***\n",
        "For our project, Chanteria Milner and I will analyze congressional and Supreme Court \n",
        "abortion-related legislation. Particularly for the congressional legislation, we will explore \n",
        "all legislation from 1973 until 2024. We sourced this legislation from the congress.gov \n",
        "legislation search, where we filtered for any legislation within this period that could \n",
        "have become bills and included the following keywords in the bill text or summary: \n",
        "'abortion,' 'reproduction,' or 'reproductive health care.' For the SCOTUS abortion \n",
        "legislation, we targeted SCOTUS decisions outlined on supreme.justia.com, which provides a \n",
        "list of abortion-relevant SCOTUS decisions from 1965-2022. Through this analysis, we \n",
        "plan to uncover the ways that the legislative abortion discourse has changed over time and \n",
        "the prominent congressional bills that have occurred throughout subsequent pieces of legislation. \n",
        "We will supplement this analysis with legislation in its political history by taking \n",
        "note of the political affiliations of congress members, SCOTUS justices, and the presidency.\n",
        "\n",
        "Chanteria Milner: [Link](https://github.com/chanteriam)\n",
        "Michael Plunkett: [Link](https://github.com/michplunkett)\\\n",
        "Congressional source: [Link](https://www.congress.gov/advanced-search/legislation?congressGroup%5B%5D=0&congresses%5B%5D=118&congresses%5B%5D=117&congresses%5B%5D=116&congresses%5B%5D=115&congresses%5B%5D=114&congresses%5B%5D=113&congresses%5B%5D=112&congresses%5B%5D=111&congresses%5B%5D=110&congresses%5B%5D=109&congresses%5B%5D=108&congresses%5B%5D=107&congresses%5B%5D=106&congresses%5B%5D=105&congresses%5B%5D=104&congresses%5B%5D=103&congresses%5B%5D=102&congresses%5B%5D=101&congresses%5B%5D=100&congresses%5B%5D=99&congresses%5B%5D=98&congresses%5B%5D=97&congresses%5B%5D=96&congresses%5B%5D=95&congresses%5B%5D=94&congresses%5B%5D=93&legislationNumbers=&restrictionType=field&restrictionFields%5B%5D=allBillTitles&restrictionFields%5B%5D=summary&summaryField=billSummary&enterTerms=%22reproductive+health+care%22%2C+%22reproduction%22%2C+%22abortion%22&legislationTypes%5B%5D=hr&legislationTypes%5B%5D=hjres&legislationTypes%5B%5D=s&legislationTypes%5B%5D=sjres&public=true&private=true&chamber=all&actionTerms=&legislativeActionWordVariants=true&dateOfActionOperator=equal&dateOfActionStartDate=&dateOfActionEndDate=&dateOfActionIsOptions=yesterday&dateOfActionToggle=multi&legislativeAction=Any&sponsorState=One&member=&sponsorTypes%5B%5D=sponsor&sponsorTypeBool=OR&dateOfSponsorshipOperator=equal&dateOfSponsorshipStartDate=&dateOfSponsorshipEndDate=&dateOfSponsorshipIsOptions=yesterday&committeeActivity%5B%5D=0&committeeActivity%5B%5D=3&committeeActivity%5B%5D=11&committeeActivity%5B%5D=12&committeeActivity%5B%5D=4&committeeActivity%5B%5D=2&committeeActivity%5B%5D=5&committeeActivity%5B%5D=9&satellite=null&search=&submitted=Submitted)\n",
        "SCOTUS source: [Link](https://supreme.justia.com/cases-by-topic/abortion-reproductive-rights/)\n",
        "\n",
        "## ***Why? (<200 words)***\n",
        "This analysis, in general, will give us an understanding of how abortion discourse has\n",
        "changed over time, and specifically, what arguments were used in the passing of the \n",
        "1973 Roe v. Wade decision--and with it, the assertion of the constitutional right to \n",
        "abortion and its eventual reversal in the 2022 Dobbs v. Jackson decision. \n",
        "From this, we will be able to uncover what political mechanisms were at play that \n",
        "enabled this regression in legislation, and how such significant cases went on to influence \n",
        "congressional legislation that followed. The average person will, in general, be able \n",
        "to understand how sensitive practices are discussed in the political sphere and what \n",
        "aspects in particular are targeted for protection or not. Moreover, this analysis \n",
        "will allow individuals who want to write reproductive healthcare legislation to \n",
        "understand what arguments are more likely to work over others within certain \n",
        "political contexts.\n",
        "\n",
        "## ***How? (<400 words)***\n",
        "As stated, our project aims to analyze the evolution of abortion discourse in U.S. \n",
        "legislation, particularly between the landmark Roe v. Wade (1973) and Dobbs v. Jackson \n",
        "(2022) decisions, which established and then rescinded abortion as a constitutional \n",
        "right, respectively. We have assembled a dataset of congressional legislation from \n",
        "1973 to 2024, alongside a dataset of opinions from 13 pivotal Supreme Court cases. \n",
        "The legislative measures generally either attempt to protect the right to abortion \n",
        "or seek to ban it.\n",
        "\n",
        "Firstly, we will apply a clustering method to categorize the congressional legislation \n",
        "into three groups: pro-abortion, anti-abortion, and unrelated (noise). We will review \n",
        "and discard the unrelated legislation. Subsequently, we will employ structural topic \n",
        "modeling on the two relevant clusters to explore the evolution of arguments for and \n",
        "against abortion over time. Due to the absence of specific dates on the legislation, \n",
        "we will use the congressional session number as a temporal reference.\n",
        "\n",
        "Furthermore, we will perform a qualitative and quantitative analysis to compare \n",
        "convergent and divergent themes between the two models. This will be followed by \n",
        "a comprehensive structural topic modeling of the clustered data.\n",
        "\n",
        "Regarding the Supreme Court cases, we plan to use them as benchmarks to categorize \n",
        "legislative sessions. For example, if a case on abortion was adjudicated in 2010 \n",
        "and another in 2015, we would assess the semantic, tonal, and lexical similarities \n",
        "among all congressional legislation enacted between those years. Our hypothesis \n",
        "posits that the substance of Supreme Court opinions significantly influences \n",
        "abortion-related legislation from the time of their issuance until a subsequent \n",
        "opinion emerges. We will also determine which opinions, aside from Roe and Dobbs, \n",
        "exert the most influence on legislative documents.\n",
        "\n",
        "In a broader analysis, we aim to identify terms that are predominantly used in \n",
        "Supreme Court opinions and legislative texts, discounting procedural terminology \n",
        "prior to the analysis. This will highlight the distinct legal and authoritative \n",
        "contexts within which these discussions occur. Legislators typically seek to \n",
        "persuade their peers, while justices are more inclined to articulate informative \n",
        "opinions. We anticipate that these differing objectives will be reflected in the \n",
        "language used.\n",
        "\n",
        "Overall, this analysis is expected to yield insights into the thematic development \n",
        "of abortion legislation and its interplay with Supreme Court rulings.\n",
        "\n",
        "## <font color=\"red\">*Pitch Your Sample*</font>\n",
        "<font color=\"red\">In the cell immediately following, describe the rationale behind \n",
        "your proposed sample design for your final project. What is the social game, social \n",
        "work, or social actors you about whom you are seeking to make inferences? What are \n",
        "its virtues with respect to your research questions? What are its limitations? What \n",
        "are alternatives? What would be a reasonable path to \"scale up\" your sample for \n",
        "further analysis (i.e., high-profile publication) beyond this class?.\n",
        "\n",
        "## ***Which words? (<300 words)***\n",
        "Starting in the early 1970s with the adoption of the Hyde Amendment, the amendment \n",
        "that prevented federal funding of abortions through Medicaid, anti-abortion advocates \n",
        "have attempted to reverse the Roe decision through a multitude of avenues. These efforts \n",
        "eventually culminated in the Dobbs v. Jackson decision in 2022. The elevation of the Dobbs \n",
        "v. Jackson case was not something that happened by random chance but instead was the result \n",
        "of decades of concerted efforts by anti-abortion advocates, think tanks, and political \n",
        "action committees. In our project, we intend to see how the social game of these groups \n",
        "probing for judicial vulnerabilities changed over time and the language that made up \n",
        "those attempts. The actors in this study are primarily the congressional legislators \n",
        "and supreme court justices, whom we will study via their decisions and proposed pieces \n",
        "of legislation, respectively. This analysis will give us a direct look into the \n",
        "terminology used to overturn Roe in its successful and unsuccessful cases.\n",
        "\n",
        "Our analysis in this project will undoubtedly give us some valuable insights, but it \n",
        "will not allow us to create the entire picture. The sources we are using only capture \n",
        "the result of the efforts made by anti-abortion advocates, etc. A more complete design \n",
        "of this analysis would take documents from conservative think tanks like the Heritage \n",
        "Foundation, Family Research Council, Moral Majority, etc. Taking in documents from \n",
        "these organizations and other similarly minded ones would give us insight into the \n",
        "documents upstream from the legislative and decision documents we're currently \n",
        "assessing. To scale this project up for a high-profile journal, we could get \n",
        "documents from those organizations listed and look for similarities between them \n",
        "and the documents we're currently examining to see the complete evolution of the \n",
        "language from its initial planning to attempts at federal implementation."
      ]
    },
    {
      "cell_type": "markdown",
      "id": "4566da9698fc4f8d",
      "metadata": {
        "collapsed": false
      },
      "source": [
        "## <font color=\"red\">*Exercise 1*</font>\n",
        "\n",
        "<font color=\"red\">Construct cells immediately below this that embed documents \n",
        "related to your final project using at least two different specification of \n",
        "`word2vec` and/or `fasttext`, and visualize them each with two separate \n",
        "visualization layout specifications (e.g., TSNE, PCA). Then interrogate \n",
        "critical word vectors within your corpus in terms of the most similar words, \n",
        "analogies, and other additions and subtractions that reveal the structure of \n",
        "similarity and difference within your semantic space. What does this pattern \n",
        "reveal about the semantic organization of words in your corpora? Which \n",
        "estimation and visualization specification generate the most insight and \n",
        "appear the most robustly supported and why?\n",
        "\n",
        "<font color=\"red\">***Stretch***: Explore different vector calculations \n",
        "beyond addition and subtraction, such as multiplication, division or some \n",
        "other function. What does this exploration reveal about the semantic \n",
        "structure of your corpus?"
      ]
    },
    {
      "cell_type": "code",
      "execution_count": 104,
      "id": "93678727b66d6836",
      "metadata": {
        "ExecuteTime": {
          "end_time": "2024-01-31T20:37:19.885249Z",
          "start_time": "2024-01-31T20:37:19.566357Z"
        },
        "collapsed": false
      },
      "outputs": [
        {
          "data": {
            "text/html": "<div>\n<style scoped>\n    .dataframe tbody tr th:only-of-type {\n        vertical-align: middle;\n    }\n\n    .dataframe tbody tr th {\n        vertical-align: top;\n    }\n\n    .dataframe thead th {\n        text-align: right;\n    }\n</style>\n<table border=\"1\" class=\"dataframe\">\n  <thead>\n    <tr style=\"text-align: right;\">\n      <th></th>\n      <th>legislation number</th>\n      <th>url</th>\n      <th>congress</th>\n      <th>title</th>\n      <th>date proposed</th>\n      <th>amends amendment</th>\n      <th>latest summary</th>\n      <th>congress_num</th>\n      <th>bill_type</th>\n      <th>bill_num</th>\n      <th>api_url</th>\n      <th>text_url</th>\n      <th>raw_text</th>\n      <th>cleaned_text</th>\n      <th>cleaned_summary</th>\n      <th>kmeans_predictions</th>\n      <th>fcluster_predictions</th>\n      <th>tokenized_text</th>\n      <th>normalized_tokens</th>\n      <th>reduced_tokens</th>\n    </tr>\n  </thead>\n  <tbody>\n    <tr>\n      <th>0</th>\n      <td>H.R. 2907</td>\n      <td>https://www.congress.gov/bill/118th-congress/h...</td>\n      <td>118th Congress (2023-2024)</td>\n      <td>Let Doctors Provide Reproductive Health Care Act</td>\n      <td>NaN</td>\n      <td>NaN</td>\n      <td>&lt;p&gt;&lt;strong&gt;Let Doctors Provide Reproductive H...</td>\n      <td>118</td>\n      <td>hr</td>\n      <td>2907</td>\n      <td>https://api.congress.gov/v3/bill/118/hr/2907/t...</td>\n      <td>https://www.congress.gov/118/bills/hr2907/BILL...</td>\n      <td>\\n[Congressional Bills 118th Congress]\\n[From ...</td>\n      <td>Congressional Bills 118th Congress From the U....</td>\n      <td>Let Doctors Provide Reproductive Health Care A...</td>\n      <td>29</td>\n      <td>2</td>\n      <td>[time, enforcement, or, protective, considerat...</td>\n      <td>[publishing, time, enforcement, protective, co...</td>\n      <td>[enforcement, consideration, specific, affecte...</td>\n    </tr>\n    <tr>\n      <th>1</th>\n      <td>S. 1297</td>\n      <td>https://www.congress.gov/bill/118th-congress/s...</td>\n      <td>118th Congress (2023-2024)</td>\n      <td>Let Doctors Provide Reproductive Health Care Act</td>\n      <td>NaN</td>\n      <td>NaN</td>\n      <td>&lt;p&gt;&lt;strong&gt;Let Doctors Provide Reproductive H...</td>\n      <td>118</td>\n      <td>s</td>\n      <td>1297</td>\n      <td>https://api.congress.gov/v3/bill/118/s/1297/te...</td>\n      <td>https://www.congress.gov/118/bills/s1297/BILLS...</td>\n      <td>\\n[Congressional Bills 118th Congress]\\n[From ...</td>\n      <td>Congressional Bills 118th Congress From the U....</td>\n      <td>Let Doctors Provide Reproductive Health Care A...</td>\n      <td>29</td>\n      <td>2</td>\n      <td>[Murphy, time, Hirono, enforcement, Welch, or,...</td>\n      <td>[publishing, time, van, enforcement, mrs, prot...</td>\n      <td>[enforcement, specific, affected, defined, sin...</td>\n    </tr>\n    <tr>\n      <th>2</th>\n      <td>H.R. 4901</td>\n      <td>https://www.congress.gov/bill/118th-congress/h...</td>\n      <td>118th Congress (2023-2024)</td>\n      <td>Reproductive Health Care Accessibility Act</td>\n      <td>NaN</td>\n      <td>NaN</td>\n      <td>&lt;p&gt;&lt;strong&gt;Reproductive Health Care Accessibi...</td>\n      <td>118</td>\n      <td>hr</td>\n      <td>4901</td>\n      <td>https://api.congress.gov/v3/bill/118/hr/4901/t...</td>\n      <td>https://www.congress.gov/118/bills/hr4901/BILL...</td>\n      <td>\\n[Congressional Bills 118th Congress]\\n[From ...</td>\n      <td>Congressional Bills 118th Congress From the U....</td>\n      <td>Reproductive Health Care Accessibility Act Thi...</td>\n      <td>7</td>\n      <td>2</td>\n      <td>[experience, g, Community, throughout, partici...</td>\n      <td>[publishing, experience, g, participating, tim...</td>\n      <td>[participating, tribes, centers, consideration...</td>\n    </tr>\n    <tr>\n      <th>3</th>\n      <td>S. 2544</td>\n      <td>https://www.congress.gov/bill/118th-congress/s...</td>\n      <td>118th Congress (2023-2024)</td>\n      <td>Reproductive Health Care Accessibility Act</td>\n      <td>NaN</td>\n      <td>NaN</td>\n      <td>&lt;p&gt;&lt;strong&gt;Reproductive Health Care Accessibi...</td>\n      <td>118</td>\n      <td>s</td>\n      <td>2544</td>\n      <td>https://api.congress.gov/v3/bill/118/s/2544/te...</td>\n      <td>https://www.congress.gov/118/bills/s2544/BILLS...</td>\n      <td>\\n[Congressional Bills 118th Congress]\\n[From ...</td>\n      <td>Congressional Bills 118th Congress From the U....</td>\n      <td>Reproductive Health Care Accessibility Act Thi...</td>\n      <td>7</td>\n      <td>2</td>\n      <td>[experience, 2544, g, Community, throughout, p...</td>\n      <td>[publishing, experience, g, participating, tim...</td>\n      <td>[participating, tribes, centers, consideration...</td>\n    </tr>\n    <tr>\n      <th>4</th>\n      <td>H.R. 4147</td>\n      <td>https://www.congress.gov/bill/118th-congress/h...</td>\n      <td>118th Congress (2023-2024)</td>\n      <td>Reproductive Health Care Training Act of 2023</td>\n      <td>NaN</td>\n      <td>NaN</td>\n      <td>None</td>\n      <td>118</td>\n      <td>hr</td>\n      <td>4147</td>\n      <td>https://api.congress.gov/v3/bill/118/hr/4147/t...</td>\n      <td>https://www.congress.gov/118/bills/hr4147/BILL...</td>\n      <td>\\n[Congressional Bills 118th Congress]\\n[From ...</td>\n      <td>Congressional Bills 118th Congress From the U....</td>\n      <td>None</td>\n      <td>0</td>\n      <td>2</td>\n      <td>[g, identification, minority, time, centers, o...</td>\n      <td>[improve, act, public, pensions, cited, publis...</td>\n      <td>[improve, establish, number, identification, p...</td>\n    </tr>\n  </tbody>\n</table>\n</div>",
            "text/plain": "  legislation number                                                url  \\\n0          H.R. 2907  https://www.congress.gov/bill/118th-congress/h...   \n1            S. 1297  https://www.congress.gov/bill/118th-congress/s...   \n2          H.R. 4901  https://www.congress.gov/bill/118th-congress/h...   \n3            S. 2544  https://www.congress.gov/bill/118th-congress/s...   \n4          H.R. 4147  https://www.congress.gov/bill/118th-congress/h...   \n\n                     congress  \\\n0  118th Congress (2023-2024)   \n1  118th Congress (2023-2024)   \n2  118th Congress (2023-2024)   \n3  118th Congress (2023-2024)   \n4  118th Congress (2023-2024)   \n\n                                              title  date proposed  \\\n0  Let Doctors Provide Reproductive Health Care Act            NaN   \n1  Let Doctors Provide Reproductive Health Care Act            NaN   \n2        Reproductive Health Care Accessibility Act            NaN   \n3        Reproductive Health Care Accessibility Act            NaN   \n4     Reproductive Health Care Training Act of 2023            NaN   \n\n   amends amendment                                     latest summary  \\\n0               NaN   <p><strong>Let Doctors Provide Reproductive H...   \n1               NaN   <p><strong>Let Doctors Provide Reproductive H...   \n2               NaN   <p><strong>Reproductive Health Care Accessibi...   \n3               NaN   <p><strong>Reproductive Health Care Accessibi...   \n4               NaN                                               None   \n\n   congress_num bill_type  bill_num  \\\n0           118        hr      2907   \n1           118         s      1297   \n2           118        hr      4901   \n3           118         s      2544   \n4           118        hr      4147   \n\n                                             api_url  \\\n0  https://api.congress.gov/v3/bill/118/hr/2907/t...   \n1  https://api.congress.gov/v3/bill/118/s/1297/te...   \n2  https://api.congress.gov/v3/bill/118/hr/4901/t...   \n3  https://api.congress.gov/v3/bill/118/s/2544/te...   \n4  https://api.congress.gov/v3/bill/118/hr/4147/t...   \n\n                                            text_url  \\\n0  https://www.congress.gov/118/bills/hr2907/BILL...   \n1  https://www.congress.gov/118/bills/s1297/BILLS...   \n2  https://www.congress.gov/118/bills/hr4901/BILL...   \n3  https://www.congress.gov/118/bills/s2544/BILLS...   \n4  https://www.congress.gov/118/bills/hr4147/BILL...   \n\n                                            raw_text  \\\n0  \\n[Congressional Bills 118th Congress]\\n[From ...   \n1  \\n[Congressional Bills 118th Congress]\\n[From ...   \n2  \\n[Congressional Bills 118th Congress]\\n[From ...   \n3  \\n[Congressional Bills 118th Congress]\\n[From ...   \n4  \\n[Congressional Bills 118th Congress]\\n[From ...   \n\n                                        cleaned_text  \\\n0  Congressional Bills 118th Congress From the U....   \n1  Congressional Bills 118th Congress From the U....   \n2  Congressional Bills 118th Congress From the U....   \n3  Congressional Bills 118th Congress From the U....   \n4  Congressional Bills 118th Congress From the U....   \n\n                                     cleaned_summary  kmeans_predictions  \\\n0  Let Doctors Provide Reproductive Health Care A...                  29   \n1  Let Doctors Provide Reproductive Health Care A...                  29   \n2  Reproductive Health Care Accessibility Act Thi...                   7   \n3  Reproductive Health Care Accessibility Act Thi...                   7   \n4                                               None                   0   \n\n   fcluster_predictions                                     tokenized_text  \\\n0                     2  [time, enforcement, or, protective, considerat...   \n1                     2  [Murphy, time, Hirono, enforcement, Welch, or,...   \n2                     2  [experience, g, Community, throughout, partici...   \n3                     2  [experience, 2544, g, Community, throughout, p...   \n4                     2  [g, identification, minority, time, centers, o...   \n\n                                   normalized_tokens  \\\n0  [publishing, time, enforcement, protective, co...   \n1  [publishing, time, van, enforcement, mrs, prot...   \n2  [publishing, experience, g, participating, tim...   \n3  [publishing, experience, g, participating, tim...   \n4  [improve, act, public, pensions, cited, publis...   \n\n                                      reduced_tokens  \n0  [enforcement, consideration, specific, affecte...  \n1  [enforcement, specific, affected, defined, sin...  \n2  [participating, tribes, centers, consideration...  \n3  [participating, tribes, centers, consideration...  \n4  [improve, establish, number, identification, p...  "
          },
          "execution_count": 104,
          "metadata": {},
          "output_type": "execute_result"
        }
      ],
      "source": [
        "# Load the congressional legislation\n",
        "congressional_leg_df = pd.read_feather(\"data/tokenized_congress_legislation.feather\")\n",
        "congressional_leg_df.head()"
      ]
    },
    {
      "cell_type": "code",
      "execution_count": 105,
      "id": "155bde5fb39bd815",
      "metadata": {
        "ExecuteTime": {
          "end_time": "2024-01-31T20:37:21.825266Z",
          "start_time": "2024-01-31T20:37:20.649503Z"
        },
        "collapsed": false
      },
      "outputs": [],
      "source": [
        "# Since the tokenization process takes so much computational power/time, I put it\n",
        "# in a feather file to avoid the time when re-running this analysis.\n",
        "legislation_feather_path = \"data/fully_tokenized_congress_legislation.feather\"\n",
        "if os.path.isfile(legislation_feather_path):\n",
        "    congressional_leg_df = pd.read_feather(legislation_feather_path)\n",
        "else:\n",
        "    # WARNING: This step takes about 120 minutes, so don't run it unless you need to.\n",
        "    congressional_leg_df[\"tokenized_sentences\"] = congressional_leg_df[\n",
        "        \"cleaned_text\"\n",
        "    ].progress_apply(\n",
        "        lambda x: [\n",
        "            lucem_illud.word_tokenize(s, MAX_LEN=MAX_CHAR_LEN)\n",
        "            for s in lucem_illud.sent_tokenize(x)\n",
        "        ]\n",
        "    )\n",
        "    congressional_leg_df[\"normalized_sentences\"] = congressional_leg_df[\n",
        "        \"tokenized_sentences\"\n",
        "    ].apply(\n",
        "        lambda x: [\n",
        "            lucem_illud.normalizeTokens(s, lemma=False, MAX_LEN=MAX_CHAR_LEN) for s in x\n",
        "        ]\n",
        "    )\n",
        "    congressional_leg_df.to_feather(legislation_feather_path)"
      ]
    },
    {
      "cell_type": "code",
      "execution_count": 106,
      "id": "3f9967b112522c4a",
      "metadata": {
        "ExecuteTime": {
          "end_time": "2024-01-31T20:37:23.058990Z",
          "start_time": "2024-01-31T20:37:22.981703Z"
        },
        "collapsed": false
      },
      "outputs": [],
      "source": [
        "# Load saved Word2Vec if it exists\n",
        "word2vec_file_path = \"data/congressional_leg_w2v\"\n",
        "if os.path.isfile(word2vec_file_path):\n",
        "    congressional_leg_w2v = gensim.models.word2vec.Word2Vec.load(word2vec_file_path)\n",
        "else:\n",
        "    congressional_leg_w2v = gensim.models.word2vec.Word2Vec(\n",
        "        congressional_leg_df[\"normalized_sentences\"].sum(), sg=0\n",
        "    )\n",
        "    congressional_leg_w2v.save(word2vec_file_path)"
      ]
    },
    {
      "cell_type": "code",
      "execution_count": 107,
      "id": "4203da894f0b734e",
      "metadata": {
        "ExecuteTime": {
          "end_time": "2024-01-31T20:37:24.545877Z",
          "start_time": "2024-01-31T20:37:24.459790Z"
        },
        "collapsed": false
      },
      "outputs": [
        {
          "data": {
            "text/plain": "[('abortions', 0.7506675720214844),\n ('induced', 0.5621079802513123),\n ('sterilization', 0.5290029048919678),\n ('counsels', 0.4976457953453064),\n ('unemancipated', 0.4902770221233368),\n ('obstetric', 0.48109883069992065),\n ('audible', 0.4639524221420288),\n ('heartbeat', 0.4593304991722107),\n ('mifepristone', 0.4592679738998413),\n ('mother', 0.4591161906719208)]"
          },
          "execution_count": 107,
          "metadata": {},
          "output_type": "execute_result"
        }
      ],
      "source": [
        "# Going to look at words commonly associated with abortion\n",
        "congressional_leg_w2v.wv.most_similar([\"abortion\"])"
      ]
    },
    {
      "cell_type": "markdown",
      "id": "f27a143ed8fadd15",
      "metadata": {
        "collapsed": false
      },
      "source": [
        "A common assertion in anti-abortion circles is that if you go through an abortion\n",
        "you are potentially sterilizing yourself or dropping the likelihood of your ability\n",
        "to conceive in the future, which makes the 'sterilization' similarity notable. The\n",
        "other most interesting similarity is 'unemancipated', which references an individual\n",
        "who is still under parental control. A large amount of abortion-related legislation\n",
        "focused on whether it was required for the parent to be informed if their child\n",
        "sought an abortion, so this contextually tracks well."
      ]
    },
    {
      "cell_type": "code",
      "execution_count": 108,
      "id": "2ca5277a93d95c0c",
      "metadata": {
        "ExecuteTime": {
          "end_time": "2024-01-31T20:37:27.816421Z",
          "start_time": "2024-01-31T20:37:27.784841Z"
        },
        "collapsed": false
      },
      "outputs": [
        {
          "data": {
            "text/plain": "array([[ 7.01243401e-01, -1.98045814e+00,  1.69280827e+00,\n         8.64630699e-01,  1.28717864e+00, -5.05317926e-01,\n         1.13872695e+00, -2.17121810e-01, -1.38199258e+00,\n         1.16776371e+00,  2.82135320e+00,  4.74404097e-01,\n        -3.11058462e-01, -1.73494726e-01,  1.05794823e+00,\n         1.39646626e+00,  1.01622498e+00, -1.30117428e+00,\n        -2.61231840e-01,  9.96614575e-01, -6.59144282e-01,\n        -4.11819428e-01,  7.32142508e-01, -1.99674547e-01,\n         3.31748748e+00, -2.29842734e+00, -4.37350893e+00,\n        -1.30481589e+00, -2.22346663e+00, -1.30300462e+00,\n         6.20443821e-01,  1.42162040e-01,  1.34954011e+00,\n         2.79951620e+00,  3.97904456e-01,  1.75277984e+00,\n         1.36425173e+00, -1.13644588e+00, -8.94096136e-01,\n         6.47117555e-01, -1.69223821e+00,  6.92348063e-01,\n        -1.36289850e-01,  2.51146340e+00, -6.26908243e-01,\n        -1.36617064e+00, -1.78015813e-01,  4.45258665e+00,\n        -8.76562536e-01,  1.37046635e+00, -9.68483627e-01,\n        -1.28367022e-01, -1.17414975e+00, -2.67169738e+00,\n         2.44937563e+00, -5.66096604e-01,  1.31380129e+00,\n         8.07944834e-01,  1.57604206e+00,  8.57437551e-01,\n        -3.43514293e-01,  4.29231375e-01,  7.15427399e-01,\n        -1.05031168e+00,  3.26623011e+00, -9.87557054e-01,\n        -2.62868953e+00, -1.83627105e+00, -1.63741076e+00,\n        -1.79153338e-01,  1.66532207e+00, -1.79982531e+00,\n         1.31664062e+00, -5.68169355e-01,  4.58994478e-01,\n         1.06678176e+00, -9.58909512e-01,  5.08492291e-01,\n         5.04759133e-01, -8.69120538e-01,  2.12514353e+00,\n        -2.57876086e+00,  2.79625416e+00, -1.03817329e-01,\n         3.82141471e-01,  8.68744910e-01,  1.42493892e+00,\n         8.92543271e-02, -2.75696301e+00, -1.71114993e+00,\n        -9.73263681e-01, -1.53950644e+00,  4.04611021e-01,\n         7.82261230e-03,  5.12718745e-02, -1.12362432e+00,\n        -1.51622677e+00, -1.54935849e+00,  7.39841238e-02,\n        -2.13006926e+00],\n       [-3.90298516e-01, -1.13759077e+00,  1.29928625e+00,\n         1.79178917e+00,  1.74077046e+00, -1.43625808e+00,\n        -3.58172208e-01, -1.36971807e+00, -1.38027370e+00,\n         1.23903275e+00,  2.26970649e+00, -9.08545732e-01,\n         5.00732334e-04, -6.07339799e-01,  1.28473127e+00,\n         1.23290741e+00,  1.84935105e+00, -9.88469601e-01,\n        -2.37165833e+00, -1.16251707e+00,  2.68751240e+00,\n        -8.72669935e-01,  3.38161826e+00,  7.98854232e-01,\n         3.09392476e+00, -8.61149967e-01, -1.35832870e+00,\n         6.48038387e-01,  1.50233614e+00,  1.27399123e+00,\n         3.51408458e+00, -9.69024003e-01, -1.77727744e-01,\n        -5.18241465e-01,  2.49439383e+00,  4.52932167e+00,\n        -1.20252776e+00,  1.29665089e+00,  1.90618110e+00,\n        -1.50087222e-01, -1.79264641e+00, -2.91167736e-01,\n        -3.79303396e-01,  3.28705072e+00, -3.98260379e+00,\n         3.38703036e-01,  4.72282082e-01,  2.91729546e+00,\n        -1.54783618e+00, -1.05835891e+00,  1.59003592e+00,\n        -7.55405664e-01, -3.30269337e+00,  9.12817895e-01,\n         3.63482642e+00,  1.05289936e+00,  1.86580345e-01,\n        -1.10352051e+00, -4.92797077e-01, -7.42223322e-01,\n        -7.47081876e-01, -9.16525424e-01,  1.29470551e+00,\n         1.68463409e+00, -7.18481004e-01,  1.00827765e+00,\n         2.04550594e-01,  5.42990088e-01, -1.17096746e+00,\n        -8.37679148e-01, -2.90614963e-01,  2.04374045e-02,\n        -9.74108696e-01,  6.70238137e-01, -2.35709891e-01,\n         6.51444137e-01, -2.20746398e+00,  1.59615040e-01,\n         8.96122396e-01,  1.98791921e+00,  4.37858552e-01,\n        -6.76603436e-01,  1.89972734e+00, -6.82523131e-01,\n         5.28669477e-01,  1.34397995e+00,  7.07694888e-01,\n        -2.08519506e+00,  6.69757128e-01,  6.60285473e-01,\n         1.90938747e+00,  1.32533586e+00,  1.17909598e+00,\n        -8.92237425e-01,  1.78881156e+00,  9.04262841e-01,\n        -2.20315933e+00,  1.89656854e+00,  1.41965187e+00,\n        -6.03218555e-01],\n       [ 1.02718067e+00, -2.32443500e+00, -1.62435925e+00,\n         1.51509929e+00, -6.96620047e-01, -2.08879399e+00,\n         8.51854801e-01, -1.98902500e+00, -1.03666210e+00,\n         2.76132441e+00,  1.49683869e+00,  4.95598465e-01,\n        -6.74721822e-02,  1.61255991e+00,  1.95916164e+00,\n        -9.27820683e-01, -1.62373435e+00, -1.21129477e+00,\n        -1.41624856e+00,  6.31554425e-01,  1.25570571e+00,\n        -2.77043867e+00,  2.59984589e+00,  3.14171255e-01,\n         3.60460329e+00,  6.69677317e-01, -1.88731813e+00,\n         1.43399507e-01,  1.28174055e+00, -9.93133307e-01,\n         3.26519966e+00, -1.60413957e+00,  8.94537866e-01,\n         4.72916476e-02,  2.86625814e+00,  1.20593357e+00,\n         6.58663273e-01,  1.15121472e+00,  5.37819088e-01,\n         7.66873419e-01,  1.84459135e-01,  5.03775179e-01,\n        -3.26709859e-02,  3.94252157e+00, -1.69775319e+00,\n         2.20014945e-01,  1.72442603e+00,  1.33685040e+00,\n        -6.22500539e-01, -1.03460565e-01,  1.41603422e+00,\n         2.20175892e-01, -2.42749643e+00, -1.75819135e+00,\n         1.84063780e+00, -4.13331807e-01,  1.12988341e+00,\n        -9.98038709e-01, -1.41163278e+00, -5.89482486e-01,\n        -2.57891321e+00, -2.61788774e+00,  1.43124509e+00,\n         1.00474942e+00, -1.98490012e+00,  2.31142783e+00,\n         1.36336172e+00, -6.57056987e-01, -1.96006155e+00,\n        -7.35186815e-01,  3.06824350e+00,  1.29739022e+00,\n        -2.70792581e-02,  9.59118485e-01, -5.24872243e-01,\n         1.42986345e+00, -4.17214066e-01,  2.21999717e+00,\n         2.65046644e+00,  1.94492102e+00, -7.62026846e-01,\n        -1.40650606e+00, -5.62898219e-01, -3.35369682e+00,\n        -9.12001252e-01,  1.43077803e+00, -2.99514711e-01,\n         8.84914994e-01,  1.93478858e+00,  1.01101041e+00,\n         1.42435420e+00,  4.39834833e-01,  5.33273995e-01,\n        -5.39695144e-01,  1.18220818e+00,  7.73761272e-01,\n        -1.80148840e-01,  2.81132317e+00,  1.01295912e+00,\n        -3.20726562e+00],\n       [ 8.96292210e-01, -1.98113775e+00, -2.93769717e-01,\n         2.95593709e-01,  2.45470956e-01, -1.50102472e+00,\n         1.12420654e+00, -3.77783418e+00, -1.16728187e+00,\n         1.60608959e+00,  1.15338576e+00, -1.95956707e-01,\n         1.21280444e+00, -1.66392028e+00,  1.33879948e+00,\n        -7.06631184e-01, -7.15056434e-02, -3.85120451e-01,\n        -2.77688533e-01,  3.55454862e-01, -8.22593689e-01,\n        -5.08660853e-01,  1.48056281e+00,  1.34892190e+00,\n         2.85984278e-01, -4.11509871e-01, -3.26661929e-03,\n         5.08114517e-01,  1.08350229e+00, -1.31734169e+00,\n         5.12662470e-01, -4.68132734e-01,  1.25031042e+00,\n         2.07822251e+00,  7.47752726e-01, -6.18638039e-01,\n         8.91229272e-01, -7.40252137e-02,  6.32110834e-01,\n        -2.06811219e-01,  1.10956132e-01, -1.25151443e+00,\n         1.63084030e+00,  3.24253464e+00, -2.95208514e-01,\n        -2.40320492e+00,  2.20386577e+00,  2.38145590e+00,\n        -1.93633282e+00, -9.36923921e-01, -4.77206916e-01,\n         4.95957255e-01,  2.40444946e+00, -6.95988238e-01,\n         7.33587861e-01, -5.32653391e-01,  7.91606963e-01,\n         1.60233247e+00,  1.48719299e+00,  2.74261117e-01,\n         8.45206916e-01, -9.17051494e-01,  9.96262908e-01,\n         3.34987193e-02,  1.27666283e+00, -1.54514027e+00,\n        -1.47850141e-01, -1.19392085e+00, -2.08230123e-01,\n        -6.92143559e-01,  3.78526688e+00, -1.20881450e+00,\n         1.99192882e+00,  1.14405680e+00, -2.21484280e+00,\n         1.59873343e+00, -1.10024714e+00,  2.41867447e+00,\n         7.27224767e-01, -1.14697576e+00,  1.04897332e+00,\n        -1.40969694e+00,  2.19958210e+00, -1.00730228e+00,\n         4.02168542e-01, -3.92208755e-01, -9.33575511e-01,\n        -1.50034800e-01, -4.54878181e-01,  1.47497451e+00,\n        -9.41097319e-01, -7.08902404e-02,  1.83570850e+00,\n        -6.75136924e-01,  2.87623584e-01, -6.28470480e-01,\n         1.55059591e-01,  6.52472734e-01,  3.79853785e-01,\n        -2.20463920e+00],\n       [ 2.07637012e-01, -4.86802578e-01, -2.10188508e-01,\n        -2.97262948e-02, -3.84185374e-01,  1.20138025e+00,\n         1.16497266e+00, -3.79723024e+00,  2.00766206e-01,\n         2.15931201e+00, -1.38457072e+00, -2.59644806e-01,\n         3.14289451e-01, -1.44276428e+00,  1.17687678e+00,\n        -1.01135468e+00, -1.36773705e+00, -6.53202012e-02,\n         9.35969830e-01,  7.98200369e-01, -4.83029395e-01,\n        -7.72163033e-01,  1.09622061e+00,  3.47075462e+00,\n        -5.76244831e-01,  5.91830373e-01,  1.39125884e+00,\n         8.69179428e-01,  2.14346004e+00, -4.04262066e+00,\n         1.28722489e+00, -2.07284316e-01,  8.37562084e-02,\n         2.28391266e+00,  1.20598423e+00, -1.48223996e+00,\n        -1.67119041e-01,  2.21867800e+00,  1.09433353e-01,\n        -7.90780365e-01, -6.87261522e-01, -8.48429024e-01,\n         2.31999189e-01,  4.30694723e+00, -1.49376857e+00,\n        -3.21528196e+00,  2.14970255e+00,  3.92911643e-01,\n         3.59859616e-01, -1.04460049e+00, -1.21358824e+00,\n         2.24770355e+00,  2.35177946e+00,  7.27376044e-01,\n         8.96280587e-01, -9.15858209e-01, -2.69031018e-01,\n         1.77274954e+00,  2.39062846e-01, -1.60848558e+00,\n         4.16143060e-01, -1.73497319e+00,  5.85985899e-01,\n        -4.48222935e-01, -1.18921131e-01, -7.66874075e-01,\n        -2.39773011e+00, -2.06336212e+00,  5.69986999e-01,\n        -4.18845862e-01,  3.62200761e+00, -6.84157908e-01,\n         2.42091632e+00,  7.22177327e-01, -3.46330380e+00,\n         5.61492503e-01, -1.14100492e+00,  1.72864616e+00,\n         1.58555472e+00, -1.73182499e+00,  8.50432515e-01,\n        -2.64491081e+00,  1.65570700e+00, -1.21364021e+00,\n        -1.95660019e+00,  3.43925565e-01, -1.99078619e+00,\n        -7.63068020e-01, -1.15295637e+00,  2.51397610e+00,\n         9.67608511e-01, -1.64379990e+00,  1.93672121e+00,\n         8.24877799e-01,  1.28759909e+00,  8.99146974e-01,\n        -9.20039475e-01,  2.30339265e+00,  1.14303887e+00,\n        -2.84719157e+00]], dtype=float32)"
          },
          "execution_count": 108,
          "metadata": {},
          "output_type": "execute_result"
        }
      ],
      "source": [
        "# Selecting the top 50 words from the congressional_leg_w2v dataset\n",
        "# and getting their respective vectors for further analysis.\n",
        "num_words = 50\n",
        "target_words = congressional_leg_w2v.wv.index_to_key[:num_words]\n",
        "words_sub_matrix = []\n",
        "for word in target_words:\n",
        "    words_sub_matrix.append(congressional_leg_w2v.wv[word])\n",
        "words_sub_matrix = np.array(words_sub_matrix)\n",
        "words_sub_matrix[:5]"
      ]
    },
    {
      "cell_type": "code",
      "execution_count": 109,
      "id": "d17f98740eb89442",
      "metadata": {
        "ExecuteTime": {
          "end_time": "2024-01-31T20:37:29.016079Z",
          "start_time": "2024-01-31T20:37:28.635874Z"
        },
        "collapsed": false
      },
      "outputs": [],
      "source": [
        "def plot_words(word_decompositions, t_words: [str] = target_words) -> None:\n",
        "    fig = plt.figure(figsize=(10, 6))\n",
        "    ax = fig.add_subplot(111)\n",
        "    ax.set_frame_on(False)\n",
        "    plt.scatter(\n",
        "        word_decompositions[:, 0], word_decompositions[:, 1], alpha=0\n",
        "    )  # Making the points invisible\n",
        "    for i, t_word in enumerate(t_words):\n",
        "        ax.annotate(\n",
        "            t_word,\n",
        "            (word_decompositions[:, 0][i], word_decompositions[:, 1][i]),\n",
        "            size=20 * (num_words - i) / num_words,\n",
        "        )\n",
        "    plt.xticks(())\n",
        "    plt.yticks(())\n",
        "    plt.show()\n",
        "\n",
        "\n",
        "# Do word analysis using reduced-PCA and T-SNE\n",
        "pca_words = sklearn.decomposition.PCA(n_components=num_words).fit(words_sub_matrix)\n",
        "reduced_pca_words = pca_words.transform(words_sub_matrix)\n",
        "# T-SNE is theoretically better, but you should experiment\n",
        "tsne_words = sklearn.manifold.TSNE(n_components=2).fit_transform(reduced_pca_words)"
      ]
    },
    {
      "cell_type": "code",
      "execution_count": 110,
      "id": "c97955c0eff72ba0",
      "metadata": {
        "ExecuteTime": {
          "end_time": "2024-01-31T20:37:31.146758Z",
          "start_time": "2024-01-31T20:37:31.055286Z"
        },
        "collapsed": false
      },
      "outputs": [
        {
          "data": {
            "image/png": "[encoded data removed]",
            "text/plain": "<Figure size 1000x600 with 1 Axes>"
          },
          "metadata": {},
          "output_type": "display_data"
        }
      ],
      "source": [
        "# Create a word cloud of the reduced PCA analysis\n",
        "plot_words(reduced_pca_words)"
      ]
    },
    {
      "cell_type": "markdown",
      "id": "64e7147fb0fa282b",
      "metadata": {
        "collapsed": false
      },
      "source": [
        "The biggest words in the PCA analysis appear to be provided states, available, \n",
        "section (c is also there, so I assume it should be c-section), funds, states \n",
        "(could be centered around states rights or United States), services, etc. \n",
        "This tracks with the assumption that legislation would focus on the availability \n",
        "of services, fiscal policy, and states' rights. "
      ]
    },
    {
      "cell_type": "code",
      "execution_count": 111,
      "id": "855d179e0e4f4336",
      "metadata": {
        "ExecuteTime": {
          "end_time": "2024-01-31T20:37:37.824087Z",
          "start_time": "2024-01-31T20:37:37.724413Z"
        },
        "collapsed": false
      },
      "outputs": [
        {
          "data": {
            "image/png": "[encoded data removed]",
            "text/plain": "<Figure size 1000x600 with 1 Axes>"
          },
          "metadata": {},
          "output_type": "display_data"
        }
      ],
      "source": [
        "# Create a word cloud of the T-SNE analysis\n",
        "plot_words(tsne_words)"
      ]
    },
    {
      "cell_type": "markdown",
      "id": "68bebf39db4694ee",
      "metadata": {
        "collapsed": false
      },
      "source": [
        "Similar to the reduced PCA analysis, the T-SNE analysis notes the focus on section (presumably \n",
        "'c-section'), funds, states (presumably states rights), funds, expenses, etc. Aside from health\n",
        "related terms like health, c-section, service, etc. the legislation is more focused on fiscal\n",
        "policy than anything else. This tracks with our presumption that instead of going for the moving on\n",
        "the medical aspects of the procedure, anti-abortion legislators would focus on the monetary aspects\n",
        "of the procedure."
      ]
    },
    {
      "cell_type": "markdown",
      "id": "7054b92deeece572",
      "metadata": {
        "collapsed": false
      },
      "source": [
        "Between the PCA and T-SNE analysis, I found them to be equally useful. Perhaps it is the size\n",
        "of our corpora, the general redundancy of the legislation, or something I am unaware of, but\n",
        "they both appear to give very similar descriptions of the data. Going forward, and presuming\n",
        "that running both of them does not take a prohibitively long amount of time, I think it'd\n",
        "be worth to include both of them in our analysis. Since T-SNE is more well regarded, it\n",
        "appears that we could just use that analysis without missing any particular insights."
      ]
    },
    {
      "cell_type": "markdown",
      "id": "482b042438fb3b50",
      "metadata": {
        "collapsed": false
      },
      "source": [
        "## <font color=\"red\">*Exercise 2*</font>\n",
        "\n",
        "<font color=\"red\">Construct cells immediately below this that embed \n",
        "documents related to your final project using `doc2vec`, and explore \n",
        "the relationship between different documents and the word vectors you \n",
        "analyzed in the last exercise. Consider the most similar words to \n",
        "critical documents, analogies (doc _x_ + word _y_), and other additions \n",
        "and subtractions that reveal the structure of similarity and difference \n",
        "within your semantic space. What does this pattern reveal about the \n",
        "documentary organization of your semantic space?"
      ]
    },
    {
      "cell_type": "code",
      "execution_count": 113,
      "id": "aec87aff1fdb9227",
      "metadata": {
        "ExecuteTime": {
          "end_time": "2024-01-31T21:03:20.877204Z",
          "start_time": "2024-01-31T21:03:20.725848Z"
        },
        "collapsed": false
      },
      "outputs": [],
      "source": [
        "keywords = [\"abortion\", \"states\", \"rights\", \"available\", \"health\", \"services\", \"funds\"]\n",
        "tagged_docs = []\n",
        "for index, row in congressional_leg_df.iterrows():\n",
        "    # Simple keyword assignment\n",
        "    doc_keywords = [s for s in keywords if s in row[\"normalized_tokens\"]]\n",
        "    doc_keywords.append(row[\"congress_num\"])\n",
        "    doc_keywords.append(\n",
        "        row[\"legislation number\"]\n",
        "    )  # This lets us extract individual documents since legislation numbers are unique\n",
        "    tagged_docs.append(\n",
        "        gensim.models.doc2vec.TaggedDocument(\n",
        "            words=row[\"normalized_tokens\"], tags=doc_keywords\n",
        "        )\n",
        "    )\n",
        "congressional_leg_df[\"tagged_text\"] = tagged_docs"
      ]
    },
    {
      "cell_type": "code",
      "execution_count": 114,
      "id": "8362285ca836c5a7",
      "metadata": {
        "ExecuteTime": {
          "end_time": "2024-01-31T21:03:28.847530Z",
          "start_time": "2024-01-31T21:03:21.635114Z"
        },
        "collapsed": false
      },
      "outputs": [],
      "source": [
        "congressional_leg_d2v = gensim.models.doc2vec.Doc2Vec(\n",
        "    congressional_leg_df[\"tagged_text\"], vector_size=100\n",
        ")"
      ]
    },
    {
      "cell_type": "code",
      "execution_count": 115,
      "id": "3b252175ff2732ee",
      "metadata": {
        "ExecuteTime": {
          "end_time": "2024-01-31T21:03:28.848104Z",
          "start_time": "2024-01-31T21:03:28.842487Z"
        },
        "collapsed": false
      },
      "outputs": [
        {
          "data": {
            "text/plain": "array([ 2.6939118e+00,  1.0310442e+00,  5.8529711e-01,  1.4277972e-02,\n       -4.3097669e-01,  5.0970894e-01,  5.5001086e-01, -1.6260200e+00,\n       -1.1740832e+00,  7.1546155e-01, -8.2254303e-01,  9.0300220e-01,\n        1.1566765e+00, -1.7325462e+00,  1.7798129e+00,  1.2488015e+00,\n        1.4071999e+00,  8.4083885e-01,  1.8717341e+00,  2.8974316e+00,\n       -3.9603509e-04, -4.2482981e-01,  1.8862791e+00, -3.1181686e+00,\n       -7.5706196e-01, -1.3063067e+00, -1.9799112e+00,  1.2392203e+00,\n        1.4680663e+00, -7.1746278e-01, -2.4634804e-01,  1.1320511e+00,\n       -2.0300779e-01,  1.6917111e+00,  9.5142506e-02,  2.3713512e+00,\n       -1.1784496e+00, -1.4572825e+00, -5.8161515e-01,  3.0495629e+00,\n        2.7467899e+00,  2.0800088e-01, -7.4202228e-01,  2.0085216e+00,\n       -4.2863703e-01, -2.0505040e+00, -3.8729721e-01,  1.7581733e+00,\n        1.2839417e+00,  9.9488574e-01, -7.3133193e-02,  3.9765251e-01,\n        9.0995741e-01, -2.9175386e-02,  1.0926410e+00,  2.0954881e+00,\n        1.6453851e+00, -1.4020020e+00,  1.8390753e+00,  2.1612310e+00,\n        4.7551075e-01,  3.0599072e+00, -2.8735170e+00, -1.8735106e+00,\n        2.1252217e+00, -4.6149755e-01,  5.4263449e-01,  4.5325652e-01,\n       -1.2753998e+00,  1.2775755e+00, -5.9886289e-01,  3.3733156e+00,\n        8.4407914e-01, -1.0492504e+00, -2.4680285e+00,  2.2948349e+00,\n        1.4311161e+00, -5.1734042e-01, -1.0322249e+00,  3.4440976e-01,\n        8.3801877e-01, -1.1416856e+00,  4.3034998e-01, -3.2403663e-01,\n        1.0216725e+00,  7.7482724e-01,  4.5339193e-02,  2.7492182e+00,\n       -2.6778741e+00,  7.1042162e-01, -1.1947740e+00,  1.1113416e+00,\n        9.3259744e-02, -6.1421752e-01,  9.1757405e-01, -1.2078832e+00,\n        1.4130154e+00, -1.0461553e+00,  1.7540376e-01,  1.3578031e+00],\n      dtype=float32)"
          },
          "execution_count": 115,
          "metadata": {},
          "output_type": "execute_result"
        }
      ],
      "source": [
        "# Show vector of particular congressional number\n",
        "congressional_leg_d2v.docvecs[118]"
      ]
    },
    {
      "cell_type": "code",
      "execution_count": 126,
      "id": "a042327df9f6972d",
      "metadata": {
        "ExecuteTime": {
          "end_time": "2024-01-31T22:28:12.413132Z",
          "start_time": "2024-01-31T22:28:12.371372Z"
        },
        "collapsed": false
      },
      "outputs": [
        {
          "data": {
            "text/plain": "array([ 0.8119109 , -0.86409426,  3.024997  ,  3.3547115 , -2.578871  ,\n       -2.2203019 , -3.621487  ,  4.5265803 ,  0.36873168,  4.8143783 ,\n        1.0191393 ,  0.26345292, -0.66109645,  5.481903  ,  0.14804035,\n       -3.9504533 ,  2.8158054 ,  1.0687375 , -0.5104688 , -2.2406383 ,\n       -1.292223  , -3.5527573 , -0.8812841 ,  1.6997033 , -0.32387668,\n        3.0509913 , -0.04880558,  2.753014  , -3.8073554 ,  0.03717171,\n        3.5358865 , -1.1483593 ,  1.181691  , -1.8401644 , -1.7853892 ,\n        0.3522931 ,  0.2626663 , -1.3566505 , -3.209782  ,  3.40803   ,\n       -3.9765332 ,  0.13401721, -1.6297843 , -0.22736306, -5.2550797 ,\n       -4.3878026 , -1.7254099 ,  0.5496494 , -1.0937343 ,  1.947593  ,\n       -2.3862712 , -0.16820341,  4.4391265 ,  2.489758  ,  4.0762515 ,\n        2.6142545 ,  0.55503404, -2.4201238 ,  1.3242967 ,  2.0799966 ,\n        1.131604  , -2.2377133 , -1.8930237 , -1.3237315 ,  4.1219287 ,\n        7.3753333 , -1.2535812 ,  3.255643  , -0.6222969 , -2.8734558 ,\n       -0.83929396,  1.6849205 , -2.3872898 , -3.1226118 ,  0.26024625,\n       -3.2716417 ,  0.95036787, -0.91985667,  1.702504  , -0.44484097,\n       -2.977881  , -1.9098941 ,  6.3749595 ,  2.7170331 , -1.2156165 ,\n        5.468781  ,  2.4480023 ,  0.6032611 , -2.9474778 , -1.412144  ,\n        0.7002354 ,  2.4340239 ,  2.4551122 , -0.21562384,  5.817638  ,\n        0.40651146, -2.9670334 ,  1.6752105 , -0.5006329 ,  0.86076707],\n      dtype=float32)"
          },
          "execution_count": 126,
          "metadata": {},
          "output_type": "execute_result"
        }
      ],
      "source": [
        "# Show vectors for the word abortion in various documents.\n",
        "congressional_leg_d2v[\"abortion\"]"
      ]
    },
    {
      "cell_type": "code",
      "execution_count": 127,
      "id": "dacb3fc37c9cf026",
      "metadata": {
        "ExecuteTime": {
          "end_time": "2024-01-31T22:28:13.211619Z",
          "start_time": "2024-01-31T22:28:13.129377Z"
        },
        "collapsed": false
      },
      "outputs": [
        {
          "data": {
            "text/plain": "[('H.R. 5077', 0.7167655229568481),\n ('H.R. 532', 0.7133356332778931),\n ('S. 1983', 0.7060726881027222),\n ('H.R. 8190', 0.6919890642166138),\n ('S. 204', 0.6885319948196411),\n ('H.R. 636', 0.6866556406021118),\n ('S. 2745', 0.6841065883636475),\n ('H.R. 6465', 0.6839309930801392),\n ('S. 1179', 0.678902268409729),\n ('H.R. 5052', 0.674217700958252)]"
          },
          "execution_count": 127,
          "metadata": {},
          "output_type": "execute_result"
        }
      ],
      "source": [
        "abortion_similar = congressional_leg_d2v.docvecs.most_similar(\n",
        "    [congressional_leg_d2v[\"abortion\"]], topn=sys.maxsize\n",
        ")\n",
        "list(abortion_similar[:10])"
      ]
    },
    {
      "cell_type": "markdown",
      "id": "f0190fd39fb2144a",
      "metadata": {
        "collapsed": false
      },
      "source": [
        "The most similar function tells us the documents most closely related\n",
        "to the word abortion, based on our vectors. I could use the output of\n",
        "the above function call to look at legislation documents that most directly\n",
        "address abortion."
      ]
    },
    {
      "cell_type": "code",
      "execution_count": 122,
      "id": "846ce782b14d3552",
      "metadata": {
        "ExecuteTime": {
          "end_time": "2024-01-31T21:54:11.371191Z",
          "start_time": "2024-01-31T21:54:11.330041Z"
        },
        "collapsed": false
      },
      "outputs": [
        {
          "data": {
            "text/plain": "[('H.R. 138', -0.6427289247512817),\n ('H.R. 4409', -0.6457587480545044),\n ('S. 2024', -0.6508080959320068),\n ('S. 83', -0.6684544086456299),\n ('S. 2878', -0.6742329597473145),\n ('S. 1794', -0.6769730448722839),\n ('S. 3649', -0.6920254230499268),\n ('H.R. 524', -0.698449432849884),\n ('H.R. 8034', -0.7196418046951294),\n ('S. 2497', -0.736350953578949)]"
          },
          "execution_count": 122,
          "metadata": {},
          "output_type": "execute_result"
        }
      ],
      "source": [
        "list(abortion_similar[-10:])"
      ]
    },
    {
      "cell_type": "markdown",
      "id": "796897e70d70742e",
      "metadata": {
        "collapsed": false
      },
      "source": [
        "This reversed list of that same query gives us a look into documents\n",
        "that could match one of two criteria: they indirectly legislate abortion,\n",
        "or they incorrectly came up via the legislative search. Presuming it is\n",
        "the former, the documents are worth investigating on the basis that\n",
        "we have a corpus that tells us how you can legislate abortion without\n",
        "directly mentioning it."
      ]
    },
    {
      "cell_type": "code",
      "execution_count": null,
      "id": "7315fbbbd905f6f1",
      "metadata": {
        "collapsed": false
      },
      "outputs": [],
      "source": [
        "# Do 2-3 more words"
      ]
    },
    {
      "cell_type": "markdown",
      "id": "a435785ab3cdea0c",
      "metadata": {
        "collapsed": false
      },
      "source": [
        "## <font color=\"red\">*Exercise 3*</font>\n",
        "\n",
        "<font color=\"red\">Construct cells immediately below this that embed \n",
        "documents related to your final project, then generate meaningful \n",
        "semantic dimensions based on your theoretical understanding of the \n",
        "semantic space (i.e., by subtracting semantically opposite word vectors) \n",
        "and project another set of word vectors onto those dimensions. Interpret \n",
        "the meaning of these projections for your analysis. Which of the dimensions \n",
        "you analyze explain the most variation in the projection of your words and why?\n",
        "\n",
        "<font color=\"red\">***Stretch***: Average together multiple antonym pairs to \n",
        "create robust semantic dimensions. How do word projections on these robust \n",
        "dimensions differ from single-pair dimensions?"
      ]
    },
    {
      "cell_type": "code",
      "execution_count": 83,
      "id": "20ea25e14c576b54",
      "metadata": {
        "ExecuteTime": {
          "end_time": "2024-01-31T05:55:40.728294Z",
          "start_time": "2024-01-31T05:55:40.648966Z"
        },
        "collapsed": false
      },
      "outputs": [
        {
          "data": {
            "text/html": "<div>\n<style scoped>\n    .dataframe tbody tr th:only-of-type {\n        vertical-align: middle;\n    }\n\n    .dataframe tbody tr th {\n        vertical-align: top;\n    }\n\n    .dataframe thead th {\n        text-align: right;\n    }\n</style>\n<table border=\"1\" class=\"dataframe\">\n  <thead>\n    <tr style=\"text-align: right;\">\n      <th></th>\n      <th>legislation number</th>\n      <th>url</th>\n      <th>congress</th>\n      <th>title</th>\n      <th>date proposed</th>\n      <th>amends amendment</th>\n      <th>latest summary</th>\n      <th>congress_num</th>\n      <th>bill_type</th>\n      <th>bill_num</th>\n      <th>...</th>\n      <th>cleaned_text</th>\n      <th>cleaned_summary</th>\n      <th>kmeans_predictions</th>\n      <th>fcluster_predictions</th>\n      <th>tokenized_text</th>\n      <th>normalized_tokens</th>\n      <th>reduced_tokens</th>\n      <th>tokenized_sentences</th>\n      <th>normalized_sentences</th>\n      <th>tagged_text</th>\n    </tr>\n  </thead>\n  <tbody>\n    <tr>\n      <th>0</th>\n      <td>H.R. 2907</td>\n      <td>https://www.congress.gov/bill/118th-congress/h...</td>\n      <td>118th Congress (2023-2024)</td>\n      <td>Let Doctors Provide Reproductive Health Care Act</td>\n      <td>NaN</td>\n      <td>NaN</td>\n      <td>&lt;p&gt;&lt;strong&gt;Let Doctors Provide Reproductive H...</td>\n      <td>118</td>\n      <td>hr</td>\n      <td>2907</td>\n      <td>...</td>\n      <td>Congressional Bills 118th Congress From the U....</td>\n      <td>Let Doctors Provide Reproductive Health Care A...</td>\n      <td>29</td>\n      <td>2</td>\n      <td>[time, enforcement, or, protective, considerat...</td>\n      <td>[publishing, time, enforcement, protective, co...</td>\n      <td>[enforcement, consideration, specific, affecte...</td>\n      <td>[[Congressional, Bills, 118th, Congress, From,...</td>\n      <td>[[congressional, bills, congress, u.s, governm...</td>\n      <td>([publishing, time, enforcement, protective, c...</td>\n    </tr>\n    <tr>\n      <th>1</th>\n      <td>S. 1297</td>\n      <td>https://www.congress.gov/bill/118th-congress/s...</td>\n      <td>118th Congress (2023-2024)</td>\n      <td>Let Doctors Provide Reproductive Health Care Act</td>\n      <td>NaN</td>\n      <td>NaN</td>\n      <td>&lt;p&gt;&lt;strong&gt;Let Doctors Provide Reproductive H...</td>\n      <td>118</td>\n      <td>s</td>\n      <td>1297</td>\n      <td>...</td>\n      <td>Congressional Bills 118th Congress From the U....</td>\n      <td>Let Doctors Provide Reproductive Health Care A...</td>\n      <td>29</td>\n      <td>2</td>\n      <td>[Murphy, time, Hirono, enforcement, Welch, or,...</td>\n      <td>[publishing, time, van, enforcement, mrs, prot...</td>\n      <td>[enforcement, specific, affected, defined, sin...</td>\n      <td>[[Congressional, Bills, 118th, Congress, From,...</td>\n      <td>[[congressional, bills, congress, u.s, governm...</td>\n      <td>([publishing, time, van, enforcement, mrs, pro...</td>\n    </tr>\n    <tr>\n      <th>2</th>\n      <td>H.R. 4901</td>\n      <td>https://www.congress.gov/bill/118th-congress/h...</td>\n      <td>118th Congress (2023-2024)</td>\n      <td>Reproductive Health Care Accessibility Act</td>\n      <td>NaN</td>\n      <td>NaN</td>\n      <td>&lt;p&gt;&lt;strong&gt;Reproductive Health Care Accessibi...</td>\n      <td>118</td>\n      <td>hr</td>\n      <td>4901</td>\n      <td>...</td>\n      <td>Congressional Bills 118th Congress From the U....</td>\n      <td>Reproductive Health Care Accessibility Act Thi...</td>\n      <td>7</td>\n      <td>2</td>\n      <td>[experience, g, Community, throughout, partici...</td>\n      <td>[publishing, experience, g, participating, tim...</td>\n      <td>[participating, tribes, centers, consideration...</td>\n      <td>[[Congressional, Bills, 118th, Congress, From,...</td>\n      <td>[[congressional, bills, congress, u.s, governm...</td>\n      <td>([publishing, experience, g, participating, ti...</td>\n    </tr>\n    <tr>\n      <th>3</th>\n      <td>S. 2544</td>\n      <td>https://www.congress.gov/bill/118th-congress/s...</td>\n      <td>118th Congress (2023-2024)</td>\n      <td>Reproductive Health Care Accessibility Act</td>\n      <td>NaN</td>\n      <td>NaN</td>\n      <td>&lt;p&gt;&lt;strong&gt;Reproductive Health Care Accessibi...</td>\n      <td>118</td>\n      <td>s</td>\n      <td>2544</td>\n      <td>...</td>\n      <td>Congressional Bills 118th Congress From the U....</td>\n      <td>Reproductive Health Care Accessibility Act Thi...</td>\n      <td>7</td>\n      <td>2</td>\n      <td>[experience, 2544, g, Community, throughout, p...</td>\n      <td>[publishing, experience, g, participating, tim...</td>\n      <td>[participating, tribes, centers, consideration...</td>\n      <td>[[Congressional, Bills, 118th, Congress, From,...</td>\n      <td>[[congressional, bills, congress, u.s, governm...</td>\n      <td>([publishing, experience, g, participating, ti...</td>\n    </tr>\n    <tr>\n      <th>4</th>\n      <td>H.R. 4147</td>\n      <td>https://www.congress.gov/bill/118th-congress/h...</td>\n      <td>118th Congress (2023-2024)</td>\n      <td>Reproductive Health Care Training Act of 2023</td>\n      <td>NaN</td>\n      <td>NaN</td>\n      <td>None</td>\n      <td>118</td>\n      <td>hr</td>\n      <td>4147</td>\n      <td>...</td>\n      <td>Congressional Bills 118th Congress From the U....</td>\n      <td>None</td>\n      <td>0</td>\n      <td>2</td>\n      <td>[g, identification, minority, time, centers, o...</td>\n      <td>[improve, act, public, pensions, cited, publis...</td>\n      <td>[improve, establish, number, identification, p...</td>\n      <td>[[Congressional, Bills, 118th, Congress, From,...</td>\n      <td>[[congressional, bills, congress, u.s, governm...</td>\n      <td>([improve, act, public, pensions, cited, publi...</td>\n    </tr>\n  </tbody>\n</table>\n<p>5 rows \u00d7 23 columns</p>\n</div>",
            "text/plain": "  legislation number                                                url  \\\n0          H.R. 2907  https://www.congress.gov/bill/118th-congress/h...   \n1            S. 1297  https://www.congress.gov/bill/118th-congress/s...   \n2          H.R. 4901  https://www.congress.gov/bill/118th-congress/h...   \n3            S. 2544  https://www.congress.gov/bill/118th-congress/s...   \n4          H.R. 4147  https://www.congress.gov/bill/118th-congress/h...   \n\n                     congress  \\\n0  118th Congress (2023-2024)   \n1  118th Congress (2023-2024)   \n2  118th Congress (2023-2024)   \n3  118th Congress (2023-2024)   \n4  118th Congress (2023-2024)   \n\n                                              title  date proposed  \\\n0  Let Doctors Provide Reproductive Health Care Act            NaN   \n1  Let Doctors Provide Reproductive Health Care Act            NaN   \n2        Reproductive Health Care Accessibility Act            NaN   \n3        Reproductive Health Care Accessibility Act            NaN   \n4     Reproductive Health Care Training Act of 2023            NaN   \n\n   amends amendment                                     latest summary  \\\n0               NaN   <p><strong>Let Doctors Provide Reproductive H...   \n1               NaN   <p><strong>Let Doctors Provide Reproductive H...   \n2               NaN   <p><strong>Reproductive Health Care Accessibi...   \n3               NaN   <p><strong>Reproductive Health Care Accessibi...   \n4               NaN                                               None   \n\n   congress_num bill_type  bill_num  ...  \\\n0           118        hr      2907  ...   \n1           118         s      1297  ...   \n2           118        hr      4901  ...   \n3           118         s      2544  ...   \n4           118        hr      4147  ...   \n\n                                        cleaned_text  \\\n0  Congressional Bills 118th Congress From the U....   \n1  Congressional Bills 118th Congress From the U....   \n2  Congressional Bills 118th Congress From the U....   \n3  Congressional Bills 118th Congress From the U....   \n4  Congressional Bills 118th Congress From the U....   \n\n                                     cleaned_summary kmeans_predictions  \\\n0  Let Doctors Provide Reproductive Health Care A...                 29   \n1  Let Doctors Provide Reproductive Health Care A...                 29   \n2  Reproductive Health Care Accessibility Act Thi...                  7   \n3  Reproductive Health Care Accessibility Act Thi...                  7   \n4                                               None                  0   \n\n  fcluster_predictions                                     tokenized_text  \\\n0                    2  [time, enforcement, or, protective, considerat...   \n1                    2  [Murphy, time, Hirono, enforcement, Welch, or,...   \n2                    2  [experience, g, Community, throughout, partici...   \n3                    2  [experience, 2544, g, Community, throughout, p...   \n4                    2  [g, identification, minority, time, centers, o...   \n\n                                   normalized_tokens  \\\n0  [publishing, time, enforcement, protective, co...   \n1  [publishing, time, van, enforcement, mrs, prot...   \n2  [publishing, experience, g, participating, tim...   \n3  [publishing, experience, g, participating, tim...   \n4  [improve, act, public, pensions, cited, publis...   \n\n                                      reduced_tokens  \\\n0  [enforcement, consideration, specific, affecte...   \n1  [enforcement, specific, affected, defined, sin...   \n2  [participating, tribes, centers, consideration...   \n3  [participating, tribes, centers, consideration...   \n4  [improve, establish, number, identification, p...   \n\n                                 tokenized_sentences  \\\n0  [[Congressional, Bills, 118th, Congress, From,...   \n1  [[Congressional, Bills, 118th, Congress, From,...   \n2  [[Congressional, Bills, 118th, Congress, From,...   \n3  [[Congressional, Bills, 118th, Congress, From,...   \n4  [[Congressional, Bills, 118th, Congress, From,...   \n\n                                normalized_sentences  \\\n0  [[congressional, bills, congress, u.s, governm...   \n1  [[congressional, bills, congress, u.s, governm...   \n2  [[congressional, bills, congress, u.s, governm...   \n3  [[congressional, bills, congress, u.s, governm...   \n4  [[congressional, bills, congress, u.s, governm...   \n\n                                         tagged_text  \n0  ([publishing, time, enforcement, protective, c...  \n1  ([publishing, time, van, enforcement, mrs, pro...  \n2  ([publishing, experience, g, participating, ti...  \n3  ([publishing, experience, g, participating, ti...  \n4  ([improve, act, public, pensions, cited, publi...  \n\n[5 rows x 23 columns]"
          },
          "execution_count": 83,
          "metadata": {},
          "output_type": "execute_result"
        }
      ],
      "source": [
        "congressional_leg_df.head()"
      ]
    },
    {
      "cell_type": "markdown",
      "id": "65cf97e6479b6d02",
      "metadata": {
        "collapsed": false
      },
      "source": [
        "## <font color=\"red\">*Exercise 4*</font>\n",
        "\n",
        "<font color=\"red\">Construct cells immediately below this that align \n",
        "word embeddings over time or across domains/corpora. Interrogate the \n",
        "spaces that result and ask which words changed most and least over the \n",
        "entire period or between contexts/corpora. What does this reveal about \n",
        "the social game underlying your space?"
      ]
    },
    {
      "cell_type": "code",
      "execution_count": 128,
      "id": "8a289474fb20f5a6",
      "metadata": {
        "ExecuteTime": {
          "end_time": "2024-02-01T01:37:12.443934Z",
          "start_time": "2024-02-01T01:37:12.367312Z"
        },
        "collapsed": false
      },
      "outputs": [
        {
          "name": "stdout",
          "output_type": "stream",
          "text": [
            "Embedding 101\r"
          ]
        },
        {
          "ename": "TypeError",
          "evalue": "operands could not be broadcast together with shapes (94,) (11,) ",
          "output_type": "error",
          "traceback": [
            "\u001b[0;31m---------------------------------------------------------------------------\u001b[0m",
            "\u001b[0;31mValueError\u001b[0m                                Traceback (most recent call last)",
            "File \u001b[0;32m~/Documents/GitHub/computational-content-analysis/.venv/lib/python3.11/site-packages/pandas/core/nanops.py:85\u001b[0m, in \u001b[0;36mdisallow.__call__.<locals>._f\u001b[0;34m(*args, **kwargs)\u001b[0m\n\u001b[1;32m     84\u001b[0m \u001b[38;5;28;01mtry\u001b[39;00m:\n\u001b[0;32m---> 85\u001b[0m     \u001b[38;5;28;01mreturn\u001b[39;00m \u001b[43mf\u001b[49m\u001b[43m(\u001b[49m\u001b[38;5;241;43m*\u001b[39;49m\u001b[43margs\u001b[49m\u001b[43m,\u001b[49m\u001b[43m \u001b[49m\u001b[38;5;241;43m*\u001b[39;49m\u001b[38;5;241;43m*\u001b[39;49m\u001b[43mkwargs\u001b[49m\u001b[43m)\u001b[49m\n\u001b[1;32m     86\u001b[0m \u001b[38;5;28;01mexcept\u001b[39;00m \u001b[38;5;167;01mValueError\u001b[39;00m \u001b[38;5;28;01mas\u001b[39;00m e:\n\u001b[1;32m     87\u001b[0m     \u001b[38;5;66;03m# we want to transform an object array\u001b[39;00m\n\u001b[1;32m     88\u001b[0m     \u001b[38;5;66;03m# ValueError message to the more typical TypeError\u001b[39;00m\n\u001b[1;32m     89\u001b[0m     \u001b[38;5;66;03m# e.g. this is normally a disallowed function on\u001b[39;00m\n\u001b[1;32m     90\u001b[0m     \u001b[38;5;66;03m# object arrays that contain strings\u001b[39;00m\n",
            "File \u001b[0;32m~/Documents/GitHub/computational-content-analysis/.venv/lib/python3.11/site-packages/pandas/core/nanops.py:404\u001b[0m, in \u001b[0;36m_datetimelike_compat.<locals>.new_func\u001b[0;34m(values, axis, skipna, mask, **kwargs)\u001b[0m\n\u001b[1;32m    402\u001b[0m     mask \u001b[38;5;241m=\u001b[39m isna(values)\n\u001b[0;32m--> 404\u001b[0m result \u001b[38;5;241m=\u001b[39m \u001b[43mfunc\u001b[49m\u001b[43m(\u001b[49m\u001b[43mvalues\u001b[49m\u001b[43m,\u001b[49m\u001b[43m \u001b[49m\u001b[43maxis\u001b[49m\u001b[38;5;241;43m=\u001b[39;49m\u001b[43maxis\u001b[49m\u001b[43m,\u001b[49m\u001b[43m \u001b[49m\u001b[43mskipna\u001b[49m\u001b[38;5;241;43m=\u001b[39;49m\u001b[43mskipna\u001b[49m\u001b[43m,\u001b[49m\u001b[43m \u001b[49m\u001b[43mmask\u001b[49m\u001b[38;5;241;43m=\u001b[39;49m\u001b[43mmask\u001b[49m\u001b[43m,\u001b[49m\u001b[43m \u001b[49m\u001b[38;5;241;43m*\u001b[39;49m\u001b[38;5;241;43m*\u001b[39;49m\u001b[43mkwargs\u001b[49m\u001b[43m)\u001b[49m\n\u001b[1;32m    406\u001b[0m \u001b[38;5;28;01mif\u001b[39;00m datetimelike:\n",
            "File \u001b[0;32m~/Documents/GitHub/computational-content-analysis/.venv/lib/python3.11/site-packages/pandas/core/nanops.py:477\u001b[0m, in \u001b[0;36mmaybe_operate_rowwise.<locals>.newfunc\u001b[0;34m(values, axis, **kwargs)\u001b[0m\n\u001b[1;32m    475\u001b[0m     \u001b[38;5;28;01mreturn\u001b[39;00m np\u001b[38;5;241m.\u001b[39marray(results)\n\u001b[0;32m--> 477\u001b[0m \u001b[38;5;28;01mreturn\u001b[39;00m \u001b[43mfunc\u001b[49m\u001b[43m(\u001b[49m\u001b[43mvalues\u001b[49m\u001b[43m,\u001b[49m\u001b[43m \u001b[49m\u001b[43maxis\u001b[49m\u001b[38;5;241;43m=\u001b[39;49m\u001b[43maxis\u001b[49m\u001b[43m,\u001b[49m\u001b[43m \u001b[49m\u001b[38;5;241;43m*\u001b[39;49m\u001b[38;5;241;43m*\u001b[39;49m\u001b[43mkwargs\u001b[49m\u001b[43m)\u001b[49m\n",
            "File \u001b[0;32m~/Documents/GitHub/computational-content-analysis/.venv/lib/python3.11/site-packages/pandas/core/nanops.py:646\u001b[0m, in \u001b[0;36mnansum\u001b[0;34m(values, axis, skipna, min_count, mask)\u001b[0m\n\u001b[1;32m    644\u001b[0m     dtype_sum \u001b[38;5;241m=\u001b[39m np\u001b[38;5;241m.\u001b[39mdtype(np\u001b[38;5;241m.\u001b[39mfloat64)\n\u001b[0;32m--> 646\u001b[0m the_sum \u001b[38;5;241m=\u001b[39m \u001b[43mvalues\u001b[49m\u001b[38;5;241;43m.\u001b[39;49m\u001b[43msum\u001b[49m\u001b[43m(\u001b[49m\u001b[43maxis\u001b[49m\u001b[43m,\u001b[49m\u001b[43m \u001b[49m\u001b[43mdtype\u001b[49m\u001b[38;5;241;43m=\u001b[39;49m\u001b[43mdtype_sum\u001b[49m\u001b[43m)\u001b[49m\n\u001b[1;32m    647\u001b[0m the_sum \u001b[38;5;241m=\u001b[39m _maybe_null_out(the_sum, axis, mask, values\u001b[38;5;241m.\u001b[39mshape, min_count\u001b[38;5;241m=\u001b[39mmin_count)\n",
            "File \u001b[0;32m~/Documents/GitHub/computational-content-analysis/.venv/lib/python3.11/site-packages/numpy/core/_methods.py:49\u001b[0m, in \u001b[0;36m_sum\u001b[0;34m(a, axis, dtype, out, keepdims, initial, where)\u001b[0m\n\u001b[1;32m     47\u001b[0m \u001b[38;5;28;01mdef\u001b[39;00m \u001b[38;5;21m_sum\u001b[39m(a, axis\u001b[38;5;241m=\u001b[39m\u001b[38;5;28;01mNone\u001b[39;00m, dtype\u001b[38;5;241m=\u001b[39m\u001b[38;5;28;01mNone\u001b[39;00m, out\u001b[38;5;241m=\u001b[39m\u001b[38;5;28;01mNone\u001b[39;00m, keepdims\u001b[38;5;241m=\u001b[39m\u001b[38;5;28;01mFalse\u001b[39;00m,\n\u001b[1;32m     48\u001b[0m          initial\u001b[38;5;241m=\u001b[39m_NoValue, where\u001b[38;5;241m=\u001b[39m\u001b[38;5;28;01mTrue\u001b[39;00m):\n\u001b[0;32m---> 49\u001b[0m     \u001b[38;5;28;01mreturn\u001b[39;00m umr_sum(a, axis, dtype, out, keepdims, initial, where)\n",
            "\u001b[0;31mValueError\u001b[0m: operands could not be broadcast together with shapes (94,) (11,) ",
            "\nThe above exception was the direct cause of the following exception:\n",
            "\u001b[0;31mTypeError\u001b[0m                                 Traceback (most recent call last)",
            "Cell \u001b[0;32mIn[128], line 1\u001b[0m\n\u001b[0;32m----> 1\u001b[0m raw_embeddings, compared_embeddings \u001b[38;5;241m=\u001b[39m \u001b[43mcompare_models\u001b[49m\u001b[43m(\u001b[49m\n\u001b[1;32m      2\u001b[0m \u001b[43m    \u001b[49m\u001b[43mcongressional_leg_df\u001b[49m\u001b[43m,\u001b[49m\u001b[43m \u001b[49m\u001b[43mcategory\u001b[49m\u001b[38;5;241;43m=\u001b[39;49m\u001b[38;5;124;43m\"\u001b[39;49m\u001b[38;5;124;43mcongress_num\u001b[39;49m\u001b[38;5;124;43m\"\u001b[39;49m\n\u001b[1;32m      3\u001b[0m \u001b[43m)\u001b[49m\n\u001b[1;32m      4\u001b[0m raw_embeddings\u001b[38;5;241m.\u001b[39mkeys()\n",
            "Cell \u001b[0;32mIn[123], line 152\u001b[0m, in \u001b[0;36mcompare_models\u001b[0;34m(df, category, text_column_name, embeddings_raw)\u001b[0m\n\u001b[1;32m    150\u001b[0m     embeddings_raw \u001b[38;5;241m=\u001b[39m {}\n\u001b[1;32m    151\u001b[0m \u001b[38;5;28;01mif\u001b[39;00m \u001b[38;5;28mlen\u001b[39m(embeddings_raw) \u001b[38;5;241m==\u001b[39m \u001b[38;5;241m0\u001b[39m:\n\u001b[0;32m--> 152\u001b[0m     embeddings_raw \u001b[38;5;241m=\u001b[39m \u001b[43mraw_models\u001b[49m\u001b[43m(\u001b[49m\u001b[43mdf\u001b[49m\u001b[43m,\u001b[49m\u001b[43m \u001b[49m\u001b[43mcategory\u001b[49m\u001b[43m,\u001b[49m\u001b[43m \u001b[49m\u001b[43mtext_column_name\u001b[49m\u001b[43m)\u001b[49m\n\u001b[1;32m    153\u001b[0m cats \u001b[38;5;241m=\u001b[39m \u001b[38;5;28msorted\u001b[39m(\u001b[38;5;28mset\u001b[39m(df[category]))\n\u001b[1;32m    154\u001b[0m \u001b[38;5;66;03m# These are much quicker\u001b[39;00m\n",
            "Cell \u001b[0;32mIn[123], line 137\u001b[0m, in \u001b[0;36mraw_models\u001b[0;34m(df, category, text_column_name)\u001b[0m\n\u001b[1;32m    134\u001b[0m     subsetDF \u001b[38;5;241m=\u001b[39m df[df[category] \u001b[38;5;241m==\u001b[39m cat]\n\u001b[1;32m    135\u001b[0m     \u001b[38;5;66;03m# You might want to change the W2V parameters\u001b[39;00m\n\u001b[1;32m    136\u001b[0m     embeddings_raw[cat] \u001b[38;5;241m=\u001b[39m gensim\u001b[38;5;241m.\u001b[39mmodels\u001b[38;5;241m.\u001b[39mword2vec\u001b[38;5;241m.\u001b[39mWord2Vec(\n\u001b[0;32m--> 137\u001b[0m         \u001b[43msubsetDF\u001b[49m\u001b[43m[\u001b[49m\u001b[43mtext_column_name\u001b[49m\u001b[43m]\u001b[49m\u001b[38;5;241;43m.\u001b[39;49m\u001b[43msum\u001b[49m\u001b[43m(\u001b[49m\u001b[43m)\u001b[49m\n\u001b[1;32m    138\u001b[0m     )\n\u001b[1;32m    139\u001b[0m \u001b[38;5;28;01mreturn\u001b[39;00m embeddings_raw\n",
            "File \u001b[0;32m~/Documents/GitHub/computational-content-analysis/.venv/lib/python3.11/site-packages/pandas/core/series.py:6508\u001b[0m, in \u001b[0;36mSeries.sum\u001b[0;34m(self, axis, skipna, numeric_only, min_count, **kwargs)\u001b[0m\n\u001b[1;32m   6499\u001b[0m \u001b[38;5;129m@doc\u001b[39m(make_doc(\u001b[38;5;124m\"\u001b[39m\u001b[38;5;124msum\u001b[39m\u001b[38;5;124m\"\u001b[39m, ndim\u001b[38;5;241m=\u001b[39m\u001b[38;5;241m1\u001b[39m))\n\u001b[1;32m   6500\u001b[0m \u001b[38;5;28;01mdef\u001b[39;00m \u001b[38;5;21msum\u001b[39m(\n\u001b[1;32m   6501\u001b[0m     \u001b[38;5;28mself\u001b[39m,\n\u001b[0;32m   (...)\u001b[0m\n\u001b[1;32m   6506\u001b[0m     \u001b[38;5;241m*\u001b[39m\u001b[38;5;241m*\u001b[39mkwargs,\n\u001b[1;32m   6507\u001b[0m ):\n\u001b[0;32m-> 6508\u001b[0m     \u001b[38;5;28;01mreturn\u001b[39;00m \u001b[43mNDFrame\u001b[49m\u001b[38;5;241;43m.\u001b[39;49m\u001b[43msum\u001b[49m\u001b[43m(\u001b[49m\u001b[38;5;28;43mself\u001b[39;49m\u001b[43m,\u001b[49m\u001b[43m \u001b[49m\u001b[43maxis\u001b[49m\u001b[43m,\u001b[49m\u001b[43m \u001b[49m\u001b[43mskipna\u001b[49m\u001b[43m,\u001b[49m\u001b[43m \u001b[49m\u001b[43mnumeric_only\u001b[49m\u001b[43m,\u001b[49m\u001b[43m \u001b[49m\u001b[43mmin_count\u001b[49m\u001b[43m,\u001b[49m\u001b[43m \u001b[49m\u001b[38;5;241;43m*\u001b[39;49m\u001b[38;5;241;43m*\u001b[39;49m\u001b[43mkwargs\u001b[49m\u001b[43m)\u001b[49m\n",
            "File \u001b[0;32m~/Documents/GitHub/computational-content-analysis/.venv/lib/python3.11/site-packages/pandas/core/generic.py:12499\u001b[0m, in \u001b[0;36mNDFrame.sum\u001b[0;34m(self, axis, skipna, numeric_only, min_count, **kwargs)\u001b[0m\n\u001b[1;32m  12491\u001b[0m \u001b[38;5;28;01mdef\u001b[39;00m \u001b[38;5;21msum\u001b[39m(\n\u001b[1;32m  12492\u001b[0m     \u001b[38;5;28mself\u001b[39m,\n\u001b[1;32m  12493\u001b[0m     axis: Axis \u001b[38;5;241m|\u001b[39m \u001b[38;5;28;01mNone\u001b[39;00m \u001b[38;5;241m=\u001b[39m \u001b[38;5;241m0\u001b[39m,\n\u001b[0;32m   (...)\u001b[0m\n\u001b[1;32m  12497\u001b[0m     \u001b[38;5;241m*\u001b[39m\u001b[38;5;241m*\u001b[39mkwargs,\n\u001b[1;32m  12498\u001b[0m ):\n\u001b[0;32m> 12499\u001b[0m     \u001b[38;5;28;01mreturn\u001b[39;00m \u001b[38;5;28;43mself\u001b[39;49m\u001b[38;5;241;43m.\u001b[39;49m\u001b[43m_min_count_stat_function\u001b[49m\u001b[43m(\u001b[49m\n\u001b[1;32m  12500\u001b[0m \u001b[43m        \u001b[49m\u001b[38;5;124;43m\"\u001b[39;49m\u001b[38;5;124;43msum\u001b[39;49m\u001b[38;5;124;43m\"\u001b[39;49m\u001b[43m,\u001b[49m\u001b[43m \u001b[49m\u001b[43mnanops\u001b[49m\u001b[38;5;241;43m.\u001b[39;49m\u001b[43mnansum\u001b[49m\u001b[43m,\u001b[49m\u001b[43m \u001b[49m\u001b[43maxis\u001b[49m\u001b[43m,\u001b[49m\u001b[43m \u001b[49m\u001b[43mskipna\u001b[49m\u001b[43m,\u001b[49m\u001b[43m \u001b[49m\u001b[43mnumeric_only\u001b[49m\u001b[43m,\u001b[49m\u001b[43m \u001b[49m\u001b[43mmin_count\u001b[49m\u001b[43m,\u001b[49m\u001b[43m \u001b[49m\u001b[38;5;241;43m*\u001b[39;49m\u001b[38;5;241;43m*\u001b[39;49m\u001b[43mkwargs\u001b[49m\n\u001b[1;32m  12501\u001b[0m \u001b[43m    \u001b[49m\u001b[43m)\u001b[49m\n",
            "File \u001b[0;32m~/Documents/GitHub/computational-content-analysis/.venv/lib/python3.11/site-packages/pandas/core/generic.py:12482\u001b[0m, in \u001b[0;36mNDFrame._min_count_stat_function\u001b[0;34m(self, name, func, axis, skipna, numeric_only, min_count, **kwargs)\u001b[0m\n\u001b[1;32m  12479\u001b[0m \u001b[38;5;28;01melif\u001b[39;00m axis \u001b[38;5;129;01mis\u001b[39;00m lib\u001b[38;5;241m.\u001b[39mno_default:\n\u001b[1;32m  12480\u001b[0m     axis \u001b[38;5;241m=\u001b[39m \u001b[38;5;241m0\u001b[39m\n\u001b[0;32m> 12482\u001b[0m \u001b[38;5;28;01mreturn\u001b[39;00m \u001b[38;5;28;43mself\u001b[39;49m\u001b[38;5;241;43m.\u001b[39;49m\u001b[43m_reduce\u001b[49m\u001b[43m(\u001b[49m\n\u001b[1;32m  12483\u001b[0m \u001b[43m    \u001b[49m\u001b[43mfunc\u001b[49m\u001b[43m,\u001b[49m\n\u001b[1;32m  12484\u001b[0m \u001b[43m    \u001b[49m\u001b[43mname\u001b[49m\u001b[38;5;241;43m=\u001b[39;49m\u001b[43mname\u001b[49m\u001b[43m,\u001b[49m\n\u001b[1;32m  12485\u001b[0m \u001b[43m    \u001b[49m\u001b[43maxis\u001b[49m\u001b[38;5;241;43m=\u001b[39;49m\u001b[43maxis\u001b[49m\u001b[43m,\u001b[49m\n\u001b[1;32m  12486\u001b[0m \u001b[43m    \u001b[49m\u001b[43mskipna\u001b[49m\u001b[38;5;241;43m=\u001b[39;49m\u001b[43mskipna\u001b[49m\u001b[43m,\u001b[49m\n\u001b[1;32m  12487\u001b[0m \u001b[43m    \u001b[49m\u001b[43mnumeric_only\u001b[49m\u001b[38;5;241;43m=\u001b[39;49m\u001b[43mnumeric_only\u001b[49m\u001b[43m,\u001b[49m\n\u001b[1;32m  12488\u001b[0m \u001b[43m    \u001b[49m\u001b[43mmin_count\u001b[49m\u001b[38;5;241;43m=\u001b[39;49m\u001b[43mmin_count\u001b[49m\u001b[43m,\u001b[49m\n\u001b[1;32m  12489\u001b[0m \u001b[43m\u001b[49m\u001b[43m)\u001b[49m\n",
            "File \u001b[0;32m~/Documents/GitHub/computational-content-analysis/.venv/lib/python3.11/site-packages/pandas/core/series.py:6437\u001b[0m, in \u001b[0;36mSeries._reduce\u001b[0;34m(self, op, name, axis, skipna, numeric_only, filter_type, **kwds)\u001b[0m\n\u001b[1;32m   6432\u001b[0m     \u001b[38;5;66;03m# GH#47500 - change to TypeError to match other methods\u001b[39;00m\n\u001b[1;32m   6433\u001b[0m     \u001b[38;5;28;01mraise\u001b[39;00m \u001b[38;5;167;01mTypeError\u001b[39;00m(\n\u001b[1;32m   6434\u001b[0m         \u001b[38;5;124mf\u001b[39m\u001b[38;5;124m\"\u001b[39m\u001b[38;5;124mSeries.\u001b[39m\u001b[38;5;132;01m{\u001b[39;00mname\u001b[38;5;132;01m}\u001b[39;00m\u001b[38;5;124m does not allow \u001b[39m\u001b[38;5;132;01m{\u001b[39;00mkwd_name\u001b[38;5;132;01m}\u001b[39;00m\u001b[38;5;124m=\u001b[39m\u001b[38;5;132;01m{\u001b[39;00mnumeric_only\u001b[38;5;132;01m}\u001b[39;00m\u001b[38;5;124m \u001b[39m\u001b[38;5;124m\"\u001b[39m\n\u001b[1;32m   6435\u001b[0m         \u001b[38;5;124m\"\u001b[39m\u001b[38;5;124mwith non-numeric dtypes.\u001b[39m\u001b[38;5;124m\"\u001b[39m\n\u001b[1;32m   6436\u001b[0m     )\n\u001b[0;32m-> 6437\u001b[0m \u001b[38;5;28;01mreturn\u001b[39;00m \u001b[43mop\u001b[49m\u001b[43m(\u001b[49m\u001b[43mdelegate\u001b[49m\u001b[43m,\u001b[49m\u001b[43m \u001b[49m\u001b[43mskipna\u001b[49m\u001b[38;5;241;43m=\u001b[39;49m\u001b[43mskipna\u001b[49m\u001b[43m,\u001b[49m\u001b[43m \u001b[49m\u001b[38;5;241;43m*\u001b[39;49m\u001b[38;5;241;43m*\u001b[39;49m\u001b[43mkwds\u001b[49m\u001b[43m)\u001b[49m\n",
            "File \u001b[0;32m~/Documents/GitHub/computational-content-analysis/.venv/lib/python3.11/site-packages/pandas/core/nanops.py:92\u001b[0m, in \u001b[0;36mdisallow.__call__.<locals>._f\u001b[0;34m(*args, **kwargs)\u001b[0m\n\u001b[1;32m     86\u001b[0m \u001b[38;5;28;01mexcept\u001b[39;00m \u001b[38;5;167;01mValueError\u001b[39;00m \u001b[38;5;28;01mas\u001b[39;00m e:\n\u001b[1;32m     87\u001b[0m     \u001b[38;5;66;03m# we want to transform an object array\u001b[39;00m\n\u001b[1;32m     88\u001b[0m     \u001b[38;5;66;03m# ValueError message to the more typical TypeError\u001b[39;00m\n\u001b[1;32m     89\u001b[0m     \u001b[38;5;66;03m# e.g. this is normally a disallowed function on\u001b[39;00m\n\u001b[1;32m     90\u001b[0m     \u001b[38;5;66;03m# object arrays that contain strings\u001b[39;00m\n\u001b[1;32m     91\u001b[0m     \u001b[38;5;28;01mif\u001b[39;00m is_object_dtype(args[\u001b[38;5;241m0\u001b[39m]):\n\u001b[0;32m---> 92\u001b[0m         \u001b[38;5;28;01mraise\u001b[39;00m \u001b[38;5;167;01mTypeError\u001b[39;00m(e) \u001b[38;5;28;01mfrom\u001b[39;00m \u001b[38;5;21;01me\u001b[39;00m\n\u001b[1;32m     93\u001b[0m     \u001b[38;5;28;01mraise\u001b[39;00m\n",
            "\u001b[0;31mTypeError\u001b[0m: operands could not be broadcast together with shapes (94,) (11,) "
          ]
        }
      ],
      "source": [
        "raw_embeddings, compared_embeddings = compare_models(\n",
        "    congressional_leg_df, category=\"congress_num\"\n",
        ")\n",
        "raw_embeddings.keys()"
      ]
    },
    {
      "cell_type": "code",
      "execution_count": null,
      "id": "ae4a75d90d02d239",
      "metadata": {
        "collapsed": false
      },
      "outputs": [],
      "source": []
    }
  ],
  "metadata": {
    "kernelspec": {
      "display_name": "Python 3",
      "language": "python",
      "name": "python3"
    },
    "language_info": {
      "codemirror_mode": {
        "name": "ipython",
        "version": 2
      },
      "file_extension": ".py",
      "mimetype": "text/x-python",
      "name": "python",
      "nbconvert_exporter": "python",
      "pygments_lexer": "ipython2",
      "version": "2.7.6"
    }
  },
  "nbformat": 4,
  "nbformat_minor": 5
}
