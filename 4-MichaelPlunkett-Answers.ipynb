{
  "cells": [
    {
      "cell_type": "code",
      "execution_count": 57,
      "id": "initial_id",
      "metadata": {
        "ExecuteTime": {
          "end_time": "2024-01-31T04:48:59.918812Z",
          "start_time": "2024-01-31T04:48:59.871780Z"
        },
        "collapsed": true
      },
      "outputs": [],
      "source": [
        "import copy\n",
        "import math\n",
        "import os\n",
        "import pickle\n",
        "\n",
        "import gensim\n",
        "import lucem_illud\n",
        "import matplotlib.pyplot as plt\n",
        "import numpy as np\n",
        "import pandas as pd\n",
        "import sklearn.manifold\n",
        "from ksvd import ApproximateKSVD\n",
        "from tqdm import tqdm\n",
        "\n",
        "%matplotlib inline\n",
        "tqdm.pandas()"
      ]
    },
    {
      "cell_type": "markdown",
      "id": "ad51258b5de373",
      "metadata": {
        "collapsed": false
      },
      "source": [
        "### Constants and Utility Functions"
      ]
    },
    {
      "cell_type": "code",
      "execution_count": 75,
      "id": "9197e14fd95bf6d1",
      "metadata": {
        "ExecuteTime": {
          "end_time": "2024-01-31T05:35:02.420031Z",
          "start_time": "2024-01-31T05:35:02.356212Z"
        },
        "collapsed": false
      },
      "outputs": [],
      "source": [
        "# Constants\n",
        "MAX_CHAR_LEN = 5000000"
      ]
    },
    {
      "cell_type": "code",
      "execution_count": 92,
      "id": "47422efb6505bc3c",
      "metadata": {
        "ExecuteTime": {
          "end_time": "2024-01-31T06:11:16.812279Z",
          "start_time": "2024-01-31T06:11:16.759255Z"
        },
        "collapsed": false
      },
      "outputs": [],
      "source": [
        "# Utility Functions\n",
        "\n",
        "\n",
        "def coloring(series: pd.Series):\n",
        "    x = series.values\n",
        "    y = x - x.min()\n",
        "    z = y / y.max()\n",
        "    colors = list(plt.cm.rainbow(z))\n",
        "    return colors\n",
        "\n",
        "\n",
        "def plot_dimension(axis, df: pd.DataFrame, dim):\n",
        "    axis.set_frame_on(False)\n",
        "    axis.set_title(dim, fontsize=20)\n",
        "    colors = coloring(df[dim])\n",
        "    for idx, df_word in enumerate(df.index):\n",
        "        axis.annotate(\n",
        "            df_word, (0, df[dim][i]), color=colors[idx], alpha=0.6, fontsize=12\n",
        "        )\n",
        "    MaxY = df[dim].max()\n",
        "    MinY = df[dim].min()\n",
        "    plt.ylim(MinY, MaxY)\n",
        "    plt.yticks(())\n",
        "    plt.xticks(())\n",
        "\n",
        "\n",
        "def calc_syn0norm(mdl):\n",
        "    \"\"\"since syn0norm is now deprecated\"\"\"\n",
        "    return (mdl.wv.syn0 / np.sqrt((mdl.wv.syn0**2).sum(-1))[..., np.newaxis]).astype(\n",
        "        np.float32\n",
        "    )\n",
        "\n",
        "\n",
        "def smart_procrustes_align_gensim(base_embed, other_embed, words=None):\n",
        "    \"\"\"Procrustes align two gensim word2vec models (to allow for comparison between same word across models).\n",
        "    Code ported from HistWords <https://github.com/williamleif/histwords> by William Hamilton <wleif@stanford.edu>.\n",
        "    (With help from William. Thank you!)\n",
        "    First, intersect the vocabularies (see `intersection_align_gensim` documentation).\n",
        "    Then do the alignment on the other_embed model.\n",
        "    Replace the other_embed model's syn0 and syn0norm numpy matrices with the aligned version.\n",
        "    Return other_embed.\n",
        "    If `words` is set, intersect the two models' vocabulary with the vocabulary in words (see `intersection_align_gensim` documentation).\n",
        "    \"\"\"\n",
        "    base_embed = copy.copy(base_embed)\n",
        "    other_embed = copy.copy(other_embed)\n",
        "    # make sure vocabulary and indices are aligned\n",
        "    in_base_embed, in_other_embed = intersection_align_gensim(\n",
        "        base_embed, other_embed, words=words\n",
        "    )\n",
        "\n",
        "    # get the embedding matrices\n",
        "    # base_vecs = calc_syn0norm(in_base_embed)\n",
        "    # other_vecs = calc_syn0norm(in_other_embed)\n",
        "    base_vecs = [\n",
        "        in_base_embed.wv.get_vector(w, norm=True)\n",
        "        for w in set(in_base_embed.wv.index_to_key)\n",
        "    ]\n",
        "    other_vecs = [\n",
        "        in_other_embed.wv.get_vector(w, norm=True)\n",
        "        for w in set(in_other_embed.wv.index_to_key)\n",
        "    ]\n",
        "\n",
        "    # just a matrix dot product with numpy\n",
        "    m = np.array(other_vecs).T.dot(np.array(base_vecs))\n",
        "    # SVD method from numpy\n",
        "    u, _, v = np.linalg.svd(m)\n",
        "    # another matrix operation\n",
        "    ortho = u.dot(v)\n",
        "    # Replace original array with modified one\n",
        "    # i.e. multiplying the embedding matrix (syn0norm)by \"ortho\"\n",
        "    other_embed.wv.vectors = (np.array(other_vecs)).dot(ortho)\n",
        "    return other_embed\n",
        "\n",
        "\n",
        "def intersection_align_gensim(m1, m2, words=None):\n",
        "    \"\"\"\n",
        "    Intersect two gensim word2vec models, m1 and m2.\n",
        "    Only the shared vocabulary between them is kept.\n",
        "    If 'words' is set (as list or set), then the vocabulary is intersected with this list as well.\n",
        "    Indices are re-organized from 0..N in order of descending frequency (=sum of counts from both m1 and m2).\n",
        "    These indices correspond to the new syn0 and syn0norm objects in both gensim models:\n",
        "        -- so that Row 0 of m1.syn0 will be for the same word as Row 0 of m2.syn0\n",
        "        -- you can find the index of any word on the .index2word list: model.index2word.index(word) => 2\n",
        "    The .vocab dictionary is also updated for each model, preserving the count but updating the index.\n",
        "    \"\"\"\n",
        "\n",
        "    # Get the vocab for each model\n",
        "    vocab_m1 = set(m1.wv.index_to_key)\n",
        "    vocab_m2 = set(m2.wv.index_to_key)\n",
        "\n",
        "    # Find the common vocabulary\n",
        "    common_vocab = vocab_m1 & vocab_m2\n",
        "    if words:\n",
        "        common_vocab &= set(words)\n",
        "\n",
        "    # If no alignment necessary because vocab is identical...\n",
        "    if not vocab_m1 - common_vocab and not vocab_m2 - common_vocab:\n",
        "        return m1, m2\n",
        "\n",
        "    # Otherwise sort by frequency (summed for both)\n",
        "    common_vocab = list(common_vocab)\n",
        "    common_vocab.sort(\n",
        "        key=lambda w: m1.wv.get_vecattr(w, \"count\") + m2.wv.get_vecattr(w, \"count\"),\n",
        "        reverse=True,\n",
        "    )\n",
        "\n",
        "    # Then for each model...\n",
        "    for m in [m1, m2]:\n",
        "        # Replace old syn0norm array with new one (with common vocab)\n",
        "        new_arr = [m.wv.get_vector(w, norm=True) for w in common_vocab]\n",
        "\n",
        "        # Replace old vocab dictionary with new one (with common vocab)\n",
        "        # and old index2word with new one\n",
        "        m.index2word = common_vocab\n",
        "        # old_vocab = m.wv.index_to_key\n",
        "        new_vocab = []\n",
        "        k2i = {}\n",
        "        for new_index, word in enumerate(common_vocab):\n",
        "            new_vocab.append(word)\n",
        "            k2i[word] = new_index\n",
        "        m.wv.index_to_key = new_vocab\n",
        "        m.wv.key_to_index = k2i\n",
        "        m.wv.vectors = np.array(new_arr)\n",
        "\n",
        "    return m1, m2\n",
        "\n",
        "\n",
        "def raw_models(df, category, text_column_name=\"normalized_sentences\"):\n",
        "    embeddings_raw = {}\n",
        "    cats = sorted(set(df[category]))\n",
        "    for cat in cats:\n",
        "        # This can take a while\n",
        "        print(\"Embedding {}\".format(cat), end=\"\\r\")\n",
        "        subsetDF = df[df[category] == cat]\n",
        "        # You might want to change the W2V parameters\n",
        "        embeddings_raw[cat] = gensim.models.word2vec.Word2Vec(\n",
        "            subsetDF[text_column_name].sum()\n",
        "        )\n",
        "    return embeddings_raw\n",
        "\n",
        "\n",
        "def compare_models(\n",
        "    df,\n",
        "    category,\n",
        "    text_column_name=\"normalized_sentences\",\n",
        "    embeddings_raw=None,\n",
        "):\n",
        "    \"\"\"If you are using time as your category sorting is important\"\"\"\n",
        "    if embeddings_raw is None:\n",
        "        embeddings_raw = {}\n",
        "    if len(embeddings_raw) == 0:\n",
        "        embeddings_raw = raw_models(df, category, text_column_name)\n",
        "    cats = sorted(set(df[category]))\n",
        "    # These are much quicker\n",
        "    embeddings_aligned = {}\n",
        "    for cat_outer in cats:\n",
        "        embeddings_aligned[cat_outer] = [embeddings_raw[cat_outer]]\n",
        "        for cat_inner in cats:\n",
        "            embeddings_aligned[cat_outer].append(\n",
        "                smart_procrustes_align_gensim(\n",
        "                    embeddings_aligned[cat_outer][-1], embeddings_raw[cat_inner]\n",
        "                )\n",
        "            )\n",
        "    return embeddings_raw, embeddings_aligned\n",
        "\n",
        "\n",
        "def get_divergence_df(emb_word, embeddings_dict):\n",
        "    cats = sorted(set(embeddings_dict.keys()))\n",
        "    dists = {}\n",
        "    print(emb_word)\n",
        "    for cat in cats:\n",
        "        dists[cat] = []\n",
        "        for embed in embeddings_dict[cat][1:]:\n",
        "            dists[cat].append(\n",
        "                np.abs(\n",
        "                    1\n",
        "                    - sklearn.metrics.pairwise.cosine_similarity(\n",
        "                        np.expand_dims(embeddings_dict[cat][0].wv[emb_word], axis=0),\n",
        "                        np.expand_dims(embed.wv[emb_word], axis=0),\n",
        "                    )[0, 0]\n",
        "                )\n",
        "            )\n",
        "    return pd.DataFrame(dists, index=cats)\n",
        "\n",
        "\n",
        "def do_aksvd(\n",
        "    w2v_model,\n",
        "    n_comp,\n",
        "    n_non_zeros,\n",
        "    save=False,\n",
        "    save_location=\"data/content/aksvd_models/\",\n",
        "):\n",
        "    # https://github.com/nel215/ksvd #takes about 2 min on Alina's laptop for 30 atoms\n",
        "    aksvd_t = ApproximateKSVD(\n",
        "        n_components=n_comp, transform_n_nonzero_coefs=n_non_zeros\n",
        "    )  # also may adjust n iter which is default at 10, and tolerance for error which is default at  tol=1e-6 #n_components is number of discourse atoms, since vocab size is smallish, keep this fewer. transform_n is the number of atoms (components) that a word can be a linear combo of\n",
        "    dictionary_t = aksvd_t.fit(\n",
        "        w2v_model.wv.vectors\n",
        "    ).components_  # Dictionary is the matrix of discourse atoms.\n",
        "    alpha_t = aksvd_t.transform(\n",
        "        w2v_model.wv.vectors\n",
        "    )  # get the alphas, which are the \"weights\" of each word on a discourse atoms\n",
        "\n",
        "    if save:\n",
        "        outfile = open(\n",
        "            str(save_location)\n",
        "            + \"200d_\"\n",
        "            + str(n_comp)\n",
        "            + \"comp\"\n",
        "            + str(n_non_zeros)\n",
        "            + \"nonzeros_aksvd_nvdrsdf20\",\n",
        "            \"wb\",\n",
        "        )\n",
        "        pickle.dump(aksvd_t, outfile)\n",
        "        outfile.close()\n",
        "\n",
        "        outfile = open(\n",
        "            str(save_location)\n",
        "            + \"200d_\"\n",
        "            + str(n_comp)\n",
        "            + \"comp\"\n",
        "            + str(n_non_zeros)\n",
        "            + \"nonzeros_dictionary_nvdrsdf20\",\n",
        "            \"wb\",\n",
        "        )\n",
        "        pickle.dump(dictionary_t, outfile)\n",
        "        outfile.close()\n",
        "\n",
        "        outfile = open(\n",
        "            str(save_location)\n",
        "            + \"200d_\"\n",
        "            + str(n_comp)\n",
        "            + \"comp\"\n",
        "            + str(n_non_zeros)\n",
        "            + \"nonzeros_alpha_nvdrsdf20\",\n",
        "            \"wb\",\n",
        "        )\n",
        "        pickle.dump(alpha_t, outfile)\n",
        "        outfile.close()\n",
        "    return dictionary_t, alpha_t\n",
        "\n",
        "\n",
        "def reconstruct_quality(w2v_model, dictionary_mat, alpha_mat):\n",
        "    # reconstruct word vectors and add back in mean(?). but note that reconstructed norm is still around 0-1, not 1, is that an issue?\n",
        "    # e1 = norm(w2vmodel.wv.vectors - reconstructed) #total reconstruction error, larger means MORE error. norm as specified here takes frobenius norm of error matrix.\n",
        "    # reconstruct the word vectors\n",
        "    reconstructed = alpha_mat.dot(dictionary_mat)\n",
        "\n",
        "    # https://dziganto.github.io/data%20science/linear%20regression/machine%20learning/python/Linear-Regression-101-Metrics/\n",
        "    # total VARIANCE in the data: sum of squares\n",
        "    squares3 = w2v_model.wv.vectors - np.mean(w2v_model.wv.vectors, axis=1).reshape(\n",
        "        -1, 1\n",
        "    )\n",
        "    # sst3= np.sum([i.dot(i) for i in squares3] ) #same as below\n",
        "\n",
        "    sst3 = np.sum(np.square(squares3))\n",
        "\n",
        "    # https://dziganto.github.io/data%20science/linear%20regression/machine%20learning/python/Linear-Regression-101-Metrics/\n",
        "    # total sum of squared ERRORS/residuals\n",
        "    e3 = [\n",
        "        reconstructed[idx] - w2v_model.wv.vectors[idx]\n",
        "        for idx in range(0, len(w2v_model.wv.vectors))\n",
        "    ]\n",
        "\n",
        "    # sse3= np.sum([i.dot(i) for i in e3] ) #same as below\n",
        "    sse3 = np.sum(np.square(e3))\n",
        "\n",
        "    # https://stats.stackexchange.com/questions/184603/in-pca-what-is-the-connection-between-explained-variance-and-squared-error\n",
        "    # R^2: 1- (SSE / SST )\n",
        "    r2 = 1 - (sse3 / sst3)\n",
        "\n",
        "    # compute root mean square error\n",
        "    root_mean_square_error = math.sqrt(np.mean(np.square(e3)))\n",
        "\n",
        "    return sse3, root_mean_square_error, r2\n",
        "\n",
        "\n",
        "def topic_diversity(w2v_model, dictionary_mat, top_n=25):\n",
        "    # list of list, each inner list includes top N words in that topic\n",
        "    top_words = []\n",
        "\n",
        "    # set to number of total topics\n",
        "    for i_dict in range(0, len(dictionary_mat)):\n",
        "        # set for top N words\n",
        "        top_words.extend(\n",
        "            [\n",
        "                idx[0]\n",
        "                for idx in w2v_model.wv.similar_by_vector(\n",
        "                    dictionary_mat[i_dict], topn=top_n\n",
        "                )\n",
        "            ]\n",
        "        )\n",
        "\n",
        "    uniquewords = set(top_words)\n",
        "    diversity = len(uniquewords) / len(top_words)\n",
        "    return diversity"
      ]
    },
    {
      "cell_type": "markdown",
      "id": "f51d38fae139ca9f",
      "metadata": {
        "collapsed": false
      },
      "source": [
        "# <font color=\"red\">*Pitch Your Project*</font>\n",
        "<font color=\"red\">In the three cells immediately following, describe **WHAT** you are \n",
        "planning to analyze for your final project (i.e., texts, contexts and the social game, \n",
        "world and actors you intend to learn about through your analysis) (<200 words), **WHY** \n",
        "you are going to do it (i.e., why would theory and/or the average person benefit from \n",
        "knowing the results of your investigation) (<200 words), and **HOW** you plan to investigate \n",
        "it (i.e., what are the approaches and operations you plan to perform, in sequence, to yield \n",
        "this insight) (<400 words).\n",
        "\n",
        "## ***What? (<200 words)***\n",
        "For our project, Chanteria Milner and I will analyze congressional and Supreme Court \n",
        "abortion-related legislation. Particularly for the congressional legislation, we will explore \n",
        "all legislation from 1973 until 2024. We sourced this legislation from the congress.gov \n",
        "legislation search, where we filtered for any legislation within this period that could \n",
        "have become bills and included the following keywords in the bill text or summary: \n",
        "'abortion,' 'reproduction,' or 'reproductive health care.' For the SCOTUS abortion \n",
        "legislation, we targeted SCOTUS decisions outlined on supreme.justia.com, which provides a \n",
        "list of abortion-relevant SCOTUS decisions from 1965-2022. Through this analysis, we \n",
        "plan to uncover the ways that the legislative abortion discourse has changed over time and \n",
        "the prominent congressional bills that have occurred throughout subsequent pieces of legislation. \n",
        "We will supplement this analysis with legislation in its political history by taking \n",
        "note of the political affiliations of congress members, SCOTUS justices, and the presidency.\n",
        "\n",
        "Chanteria Milner: [Link](https://github.com/chanteriam)\n",
        "Michael Plunkett: [Link](https://github.com/michplunkett)\\\n",
        "Congressional source: [Link](https://www.congress.gov/advanced-search/legislation?congressGroup%5B%5D=0&congresses%5B%5D=118&congresses%5B%5D=117&congresses%5B%5D=116&congresses%5B%5D=115&congresses%5B%5D=114&congresses%5B%5D=113&congresses%5B%5D=112&congresses%5B%5D=111&congresses%5B%5D=110&congresses%5B%5D=109&congresses%5B%5D=108&congresses%5B%5D=107&congresses%5B%5D=106&congresses%5B%5D=105&congresses%5B%5D=104&congresses%5B%5D=103&congresses%5B%5D=102&congresses%5B%5D=101&congresses%5B%5D=100&congresses%5B%5D=99&congresses%5B%5D=98&congresses%5B%5D=97&congresses%5B%5D=96&congresses%5B%5D=95&congresses%5B%5D=94&congresses%5B%5D=93&legislationNumbers=&restrictionType=field&restrictionFields%5B%5D=allBillTitles&restrictionFields%5B%5D=summary&summaryField=billSummary&enterTerms=%22reproductive+health+care%22%2C+%22reproduction%22%2C+%22abortion%22&legislationTypes%5B%5D=hr&legislationTypes%5B%5D=hjres&legislationTypes%5B%5D=s&legislationTypes%5B%5D=sjres&public=true&private=true&chamber=all&actionTerms=&legislativeActionWordVariants=true&dateOfActionOperator=equal&dateOfActionStartDate=&dateOfActionEndDate=&dateOfActionIsOptions=yesterday&dateOfActionToggle=multi&legislativeAction=Any&sponsorState=One&member=&sponsorTypes%5B%5D=sponsor&sponsorTypeBool=OR&dateOfSponsorshipOperator=equal&dateOfSponsorshipStartDate=&dateOfSponsorshipEndDate=&dateOfSponsorshipIsOptions=yesterday&committeeActivity%5B%5D=0&committeeActivity%5B%5D=3&committeeActivity%5B%5D=11&committeeActivity%5B%5D=12&committeeActivity%5B%5D=4&committeeActivity%5B%5D=2&committeeActivity%5B%5D=5&committeeActivity%5B%5D=9&satellite=null&search=&submitted=Submitted)\n",
        "SCOTUS source: [Link](https://supreme.justia.com/cases-by-topic/abortion-reproductive-rights/)\n",
        "\n",
        "## ***Why? (<200 words)***\n",
        "This analysis, in general, will give us an understanding of how abortion discourse has\n",
        "changed over time, and specifically, what arguments were used in the passing of the \n",
        "1973 Roe v. Wade decision--and with it, the assertion of the constitutional right to \n",
        "abortion and its eventual reversal in the 2022 Dobbs v. Jackson decision. \n",
        "From this, we will be able to uncover what political mechanisms were at play that \n",
        "enabled this regression in legislation, and how such significant cases went on to influence \n",
        "congressional legislation that followed. The average person will, in general, be able \n",
        "to understand how sensitive practices are discussed in the political sphere and what \n",
        "aspects in particular are targeted for protection or not. Moreover, this analysis \n",
        "will allow individuals who want to write reproductive healthcare legislation to \n",
        "understand what arguments are more likely to work over others within certain \n",
        "political contexts.\n",
        "\n",
        "## ***How? (<400 words)***\n",
        "\n",
        "\n",
        "## <font color=\"red\">*Pitch Your Sample*</font>\n",
        "<font color=\"red\">In the cell immediately following, describe the rationale behind \n",
        "your proposed sample design for your final project. What is the social game, social \n",
        "work, or social actors you about whom you are seeking to make inferences? What are \n",
        "its virtues with respect to your research questions? What are its limitations? What \n",
        "are alternatives? What would be a reasonable path to \"scale up\" your sample for \n",
        "further analysis (i.e., high-profile publication) beyond this class?.\n",
        "\n",
        "## ***Which words? (<300 words)***\n",
        "Starting in the early 1970s with the adoption of the Hyde Amendment, the amendment \n",
        "that prevented federal funding of abortions through Medicaid, anti-abortion advocates \n",
        "have attempted to reverse the Roe decision through a multitude of avenues. These efforts \n",
        "eventually culminated in the Dobbs v. Jackson decision in 2022. The elevation of the Dobbs \n",
        "v. Jackson case was not something that happened by random chance but instead was the result \n",
        "of decades of concerted efforts by anti-abortion advocates, think tanks, and political \n",
        "action committees. In our project, we intend to see how the social game of these groups \n",
        "probing for judicial vulnerabilities changed over time and the language that made up \n",
        "those attempts. The actors in this study are primarily the congressional legislators \n",
        "and supreme court justices, whom we will study via their decisions and proposed pieces \n",
        "of legislation, respectively. This analysis will give us a direct look into the \n",
        "terminology used to overturn Roe in its successful and unsuccessful cases.\n",
        "\n",
        "Our analysis in this project will undoubtedly give us some valuable insights, but it \n",
        "will not allow us to create the entire picture. The sources we are using only capture \n",
        "the result of the efforts made by anti-abortion advocates, etc. A more complete design \n",
        "of this analysis would take documents from conservative think tanks like the Heritage \n",
        "Foundation, Family Research Council, Moral Majority, etc. Taking in documents from \n",
        "these organizations and other similarly minded ones would give us insight into the \n",
        "documents upstream from the legislative and decision documents we're currently \n",
        "assessing. To scale this project up for a high-profile journal, we could get \n",
        "documents from those organizations listed and look for similarities between them \n",
        "and the documents we're currently examining to see the complete evolution of the \n",
        "language from its initial planning to attempts at federal implementation."
      ]
    },
    {
      "cell_type": "markdown",
      "id": "4566da9698fc4f8d",
      "metadata": {
        "collapsed": false
      },
      "source": [
        "## <font color=\"red\">*Exercise 1*</font>\n",
        "\n",
        "<font color=\"red\">Construct cells immediately below this that embed documents \n",
        "related to your final project using at least two different specification of \n",
        "`word2vec` and/or `fasttext`, and visualize them each with two separate \n",
        "visualization layout specifications (e.g., TSNE, PCA). Then interrogate \n",
        "critical word vectors within your corpus in terms of the most similar words, \n",
        "analogies, and other additions and subtractions that reveal the structure of \n",
        "similarity and difference within your semantic space. What does this pattern \n",
        "reveal about the semantic organization of words in your corpora? Which \n",
        "estimation and visualization specification generate the most insight and \n",
        "appear the most robustly supported and why?\n",
        "\n",
        "<font color=\"red\">***Stretch***: Explore different vector calculations \n",
        "beyond addition and subtraction, such as multiplication, division or some \n",
        "other function. What does this exploration reveal about the semantic \n",
        "structure of your corpus?"
      ]
    },
    {
      "cell_type": "code",
      "execution_count": 61,
      "id": "93678727b66d6836",
      "metadata": {
        "ExecuteTime": {
          "end_time": "2024-01-31T05:29:26.520624Z",
          "start_time": "2024-01-31T05:29:26.169269Z"
        },
        "collapsed": false
      },
      "outputs": [
        {
          "data": {
            "text/html": "<div>\n<style scoped>\n    .dataframe tbody tr th:only-of-type {\n        vertical-align: middle;\n    }\n\n    .dataframe tbody tr th {\n        vertical-align: top;\n    }\n\n    .dataframe thead th {\n        text-align: right;\n    }\n</style>\n<table border=\"1\" class=\"dataframe\">\n  <thead>\n    <tr style=\"text-align: right;\">\n      <th></th>\n      <th>legislation number</th>\n      <th>url</th>\n      <th>congress</th>\n      <th>title</th>\n      <th>date proposed</th>\n      <th>amends amendment</th>\n      <th>latest summary</th>\n      <th>congress_num</th>\n      <th>bill_type</th>\n      <th>bill_num</th>\n      <th>api_url</th>\n      <th>text_url</th>\n      <th>raw_text</th>\n      <th>cleaned_text</th>\n      <th>cleaned_summary</th>\n      <th>kmeans_predictions</th>\n      <th>fcluster_predictions</th>\n      <th>tokenized_text</th>\n      <th>normalized_tokens</th>\n      <th>reduced_tokens</th>\n    </tr>\n  </thead>\n  <tbody>\n    <tr>\n      <th>0</th>\n      <td>H.R. 2907</td>\n      <td>https://www.congress.gov/bill/118th-congress/h...</td>\n      <td>118th Congress (2023-2024)</td>\n      <td>Let Doctors Provide Reproductive Health Care Act</td>\n      <td>NaN</td>\n      <td>NaN</td>\n      <td>&lt;p&gt;&lt;strong&gt;Let Doctors Provide Reproductive H...</td>\n      <td>118</td>\n      <td>hr</td>\n      <td>2907</td>\n      <td>https://api.congress.gov/v3/bill/118/hr/2907/t...</td>\n      <td>https://www.congress.gov/118/bills/hr2907/BILL...</td>\n      <td>\\n[Congressional Bills 118th Congress]\\n[From ...</td>\n      <td>Congressional Bills 118th Congress From the U....</td>\n      <td>Let Doctors Provide Reproductive Health Care A...</td>\n      <td>29</td>\n      <td>2</td>\n      <td>[time, enforcement, or, protective, considerat...</td>\n      <td>[publishing, time, enforcement, protective, co...</td>\n      <td>[enforcement, consideration, specific, affecte...</td>\n    </tr>\n    <tr>\n      <th>1</th>\n      <td>S. 1297</td>\n      <td>https://www.congress.gov/bill/118th-congress/s...</td>\n      <td>118th Congress (2023-2024)</td>\n      <td>Let Doctors Provide Reproductive Health Care Act</td>\n      <td>NaN</td>\n      <td>NaN</td>\n      <td>&lt;p&gt;&lt;strong&gt;Let Doctors Provide Reproductive H...</td>\n      <td>118</td>\n      <td>s</td>\n      <td>1297</td>\n      <td>https://api.congress.gov/v3/bill/118/s/1297/te...</td>\n      <td>https://www.congress.gov/118/bills/s1297/BILLS...</td>\n      <td>\\n[Congressional Bills 118th Congress]\\n[From ...</td>\n      <td>Congressional Bills 118th Congress From the U....</td>\n      <td>Let Doctors Provide Reproductive Health Care A...</td>\n      <td>29</td>\n      <td>2</td>\n      <td>[Murphy, time, Hirono, enforcement, Welch, or,...</td>\n      <td>[publishing, time, van, enforcement, mrs, prot...</td>\n      <td>[enforcement, specific, affected, defined, sin...</td>\n    </tr>\n    <tr>\n      <th>2</th>\n      <td>H.R. 4901</td>\n      <td>https://www.congress.gov/bill/118th-congress/h...</td>\n      <td>118th Congress (2023-2024)</td>\n      <td>Reproductive Health Care Accessibility Act</td>\n      <td>NaN</td>\n      <td>NaN</td>\n      <td>&lt;p&gt;&lt;strong&gt;Reproductive Health Care Accessibi...</td>\n      <td>118</td>\n      <td>hr</td>\n      <td>4901</td>\n      <td>https://api.congress.gov/v3/bill/118/hr/4901/t...</td>\n      <td>https://www.congress.gov/118/bills/hr4901/BILL...</td>\n      <td>\\n[Congressional Bills 118th Congress]\\n[From ...</td>\n      <td>Congressional Bills 118th Congress From the U....</td>\n      <td>Reproductive Health Care Accessibility Act Thi...</td>\n      <td>7</td>\n      <td>2</td>\n      <td>[experience, g, Community, throughout, partici...</td>\n      <td>[publishing, experience, g, participating, tim...</td>\n      <td>[participating, tribes, centers, consideration...</td>\n    </tr>\n    <tr>\n      <th>3</th>\n      <td>S. 2544</td>\n      <td>https://www.congress.gov/bill/118th-congress/s...</td>\n      <td>118th Congress (2023-2024)</td>\n      <td>Reproductive Health Care Accessibility Act</td>\n      <td>NaN</td>\n      <td>NaN</td>\n      <td>&lt;p&gt;&lt;strong&gt;Reproductive Health Care Accessibi...</td>\n      <td>118</td>\n      <td>s</td>\n      <td>2544</td>\n      <td>https://api.congress.gov/v3/bill/118/s/2544/te...</td>\n      <td>https://www.congress.gov/118/bills/s2544/BILLS...</td>\n      <td>\\n[Congressional Bills 118th Congress]\\n[From ...</td>\n      <td>Congressional Bills 118th Congress From the U....</td>\n      <td>Reproductive Health Care Accessibility Act Thi...</td>\n      <td>7</td>\n      <td>2</td>\n      <td>[experience, 2544, g, Community, throughout, p...</td>\n      <td>[publishing, experience, g, participating, tim...</td>\n      <td>[participating, tribes, centers, consideration...</td>\n    </tr>\n    <tr>\n      <th>4</th>\n      <td>H.R. 4147</td>\n      <td>https://www.congress.gov/bill/118th-congress/h...</td>\n      <td>118th Congress (2023-2024)</td>\n      <td>Reproductive Health Care Training Act of 2023</td>\n      <td>NaN</td>\n      <td>NaN</td>\n      <td>None</td>\n      <td>118</td>\n      <td>hr</td>\n      <td>4147</td>\n      <td>https://api.congress.gov/v3/bill/118/hr/4147/t...</td>\n      <td>https://www.congress.gov/118/bills/hr4147/BILL...</td>\n      <td>\\n[Congressional Bills 118th Congress]\\n[From ...</td>\n      <td>Congressional Bills 118th Congress From the U....</td>\n      <td>None</td>\n      <td>0</td>\n      <td>2</td>\n      <td>[g, identification, minority, time, centers, o...</td>\n      <td>[improve, act, public, pensions, cited, publis...</td>\n      <td>[improve, establish, number, identification, p...</td>\n    </tr>\n  </tbody>\n</table>\n</div>",
            "text/plain": "  legislation number                                                url  \\\n0          H.R. 2907  https://www.congress.gov/bill/118th-congress/h...   \n1            S. 1297  https://www.congress.gov/bill/118th-congress/s...   \n2          H.R. 4901  https://www.congress.gov/bill/118th-congress/h...   \n3            S. 2544  https://www.congress.gov/bill/118th-congress/s...   \n4          H.R. 4147  https://www.congress.gov/bill/118th-congress/h...   \n\n                     congress  \\\n0  118th Congress (2023-2024)   \n1  118th Congress (2023-2024)   \n2  118th Congress (2023-2024)   \n3  118th Congress (2023-2024)   \n4  118th Congress (2023-2024)   \n\n                                              title  date proposed  \\\n0  Let Doctors Provide Reproductive Health Care Act            NaN   \n1  Let Doctors Provide Reproductive Health Care Act            NaN   \n2        Reproductive Health Care Accessibility Act            NaN   \n3        Reproductive Health Care Accessibility Act            NaN   \n4     Reproductive Health Care Training Act of 2023            NaN   \n\n   amends amendment                                     latest summary  \\\n0               NaN   <p><strong>Let Doctors Provide Reproductive H...   \n1               NaN   <p><strong>Let Doctors Provide Reproductive H...   \n2               NaN   <p><strong>Reproductive Health Care Accessibi...   \n3               NaN   <p><strong>Reproductive Health Care Accessibi...   \n4               NaN                                               None   \n\n   congress_num bill_type  bill_num  \\\n0           118        hr      2907   \n1           118         s      1297   \n2           118        hr      4901   \n3           118         s      2544   \n4           118        hr      4147   \n\n                                             api_url  \\\n0  https://api.congress.gov/v3/bill/118/hr/2907/t...   \n1  https://api.congress.gov/v3/bill/118/s/1297/te...   \n2  https://api.congress.gov/v3/bill/118/hr/4901/t...   \n3  https://api.congress.gov/v3/bill/118/s/2544/te...   \n4  https://api.congress.gov/v3/bill/118/hr/4147/t...   \n\n                                            text_url  \\\n0  https://www.congress.gov/118/bills/hr2907/BILL...   \n1  https://www.congress.gov/118/bills/s1297/BILLS...   \n2  https://www.congress.gov/118/bills/hr4901/BILL...   \n3  https://www.congress.gov/118/bills/s2544/BILLS...   \n4  https://www.congress.gov/118/bills/hr4147/BILL...   \n\n                                            raw_text  \\\n0  \\n[Congressional Bills 118th Congress]\\n[From ...   \n1  \\n[Congressional Bills 118th Congress]\\n[From ...   \n2  \\n[Congressional Bills 118th Congress]\\n[From ...   \n3  \\n[Congressional Bills 118th Congress]\\n[From ...   \n4  \\n[Congressional Bills 118th Congress]\\n[From ...   \n\n                                        cleaned_text  \\\n0  Congressional Bills 118th Congress From the U....   \n1  Congressional Bills 118th Congress From the U....   \n2  Congressional Bills 118th Congress From the U....   \n3  Congressional Bills 118th Congress From the U....   \n4  Congressional Bills 118th Congress From the U....   \n\n                                     cleaned_summary  kmeans_predictions  \\\n0  Let Doctors Provide Reproductive Health Care A...                  29   \n1  Let Doctors Provide Reproductive Health Care A...                  29   \n2  Reproductive Health Care Accessibility Act Thi...                   7   \n3  Reproductive Health Care Accessibility Act Thi...                   7   \n4                                               None                   0   \n\n   fcluster_predictions                                     tokenized_text  \\\n0                     2  [time, enforcement, or, protective, considerat...   \n1                     2  [Murphy, time, Hirono, enforcement, Welch, or,...   \n2                     2  [experience, g, Community, throughout, partici...   \n3                     2  [experience, 2544, g, Community, throughout, p...   \n4                     2  [g, identification, minority, time, centers, o...   \n\n                                   normalized_tokens  \\\n0  [publishing, time, enforcement, protective, co...   \n1  [publishing, time, van, enforcement, mrs, prot...   \n2  [publishing, experience, g, participating, tim...   \n3  [publishing, experience, g, participating, tim...   \n4  [improve, act, public, pensions, cited, publis...   \n\n                                      reduced_tokens  \n0  [enforcement, consideration, specific, affecte...  \n1  [enforcement, specific, affected, defined, sin...  \n2  [participating, tribes, centers, consideration...  \n3  [participating, tribes, centers, consideration...  \n4  [improve, establish, number, identification, p...  "
          },
          "execution_count": 61,
          "metadata": {},
          "output_type": "execute_result"
        }
      ],
      "source": [
        "# Load the congressional legislation\n",
        "congressional_leg_df = pd.read_feather(\"data/tokenized_congress_legislation.feather\")\n",
        "congressional_leg_df.head()"
      ]
    },
    {
      "cell_type": "code",
      "execution_count": 64,
      "id": "155bde5fb39bd815",
      "metadata": {
        "ExecuteTime": {
          "end_time": "2024-01-31T05:29:36.044336Z",
          "start_time": "2024-01-31T05:29:34.401292Z"
        },
        "collapsed": false
      },
      "outputs": [],
      "source": [
        "# Since the tokenization process takes so much computational power/time, I put it\n",
        "# in a feather file to avoid the time when re-running this analysis.\n",
        "legislation_feather_path = \"data/fully_tokenized_congress_legislation.feather\"\n",
        "if os.path.isfile(legislation_feather_path):\n",
        "    congressional_leg_df = pd.read_feather(legislation_feather_path)\n",
        "else:\n",
        "    # WARNING: This step takes about 120 minutes, so don't run it unless you need to.\n",
        "    congressional_leg_df[\"tokenized_sentences\"] = congressional_leg_df[\n",
        "        \"cleaned_text\"\n",
        "    ].progress_apply(\n",
        "        lambda x: [\n",
        "            lucem_illud.word_tokenize(s, MAX_LEN=MAX_CHAR_LEN)\n",
        "            for s in lucem_illud.sent_tokenize(x)\n",
        "        ]\n",
        "    )\n",
        "    congressional_leg_df[\"normalized_sentences\"] = congressional_leg_df[\n",
        "        \"tokenized_sentences\"\n",
        "    ].apply(\n",
        "        lambda x: [\n",
        "            lucem_illud.normalizeTokens(s, lemma=False, MAX_LEN=MAX_CHAR_LEN) for s in x\n",
        "        ]\n",
        "    )\n",
        "    congressional_leg_df.to_feather(legislation_feather_path)"
      ]
    },
    {
      "cell_type": "code",
      "execution_count": 65,
      "id": "3f9967b112522c4a",
      "metadata": {
        "ExecuteTime": {
          "end_time": "2024-01-31T05:29:36.683347Z",
          "start_time": "2024-01-31T05:29:36.598498Z"
        },
        "collapsed": false
      },
      "outputs": [],
      "source": [
        "# Load saved Word2Vec if it exists\n",
        "word2vec_file_path = \"data/congressional_leg_w2v\"\n",
        "if os.path.isfile(word2vec_file_path):\n",
        "    congressional_leg_w2v = gensim.models.word2vec.Word2Vec.load(word2vec_file_path)\n",
        "else:\n",
        "    congressional_leg_w2v = gensim.models.word2vec.Word2Vec(\n",
        "        congressional_leg_df[\"normalized_sentences\"].sum(), sg=0\n",
        "    )\n",
        "    congressional_leg_w2v.save(word2vec_file_path)"
      ]
    },
    {
      "cell_type": "code",
      "execution_count": 66,
      "id": "4203da894f0b734e",
      "metadata": {
        "ExecuteTime": {
          "end_time": "2024-01-31T05:29:37.355663Z",
          "start_time": "2024-01-31T05:29:37.291757Z"
        },
        "collapsed": false
      },
      "outputs": [
        {
          "data": {
            "text/plain": "[('gynecological', 0.5437756180763245),\n ('patients', 0.5378872752189636),\n ('obstetrician', 0.5100891590118408),\n ('obstetrical', 0.5008599162101746),\n ('patient', 0.49554017186164856),\n ('care', 0.48337480425834656),\n ('pediatric', 0.47294947504997253),\n ('osteoporosis', 0.47060659527778625),\n ('prenatal', 0.467769980430603),\n ('postpartum', 0.45360267162323)]"
          },
          "execution_count": 66,
          "metadata": {},
          "output_type": "execute_result"
        }
      ],
      "source": [
        "# Going to look at words commonly associated with abortion\n",
        "congressional_leg_w2v.wv.most_similar([\"abortion\", \"healthcare\", \"health\"])"
      ]
    },
    {
      "cell_type": "code",
      "execution_count": 67,
      "id": "2ca5277a93d95c0c",
      "metadata": {
        "ExecuteTime": {
          "end_time": "2024-01-31T05:29:38.082784Z",
          "start_time": "2024-01-31T05:29:38.037769Z"
        },
        "collapsed": false
      },
      "outputs": [
        {
          "data": {
            "text/plain": "array([[ 7.01243401e-01, -1.98045814e+00,  1.69280827e+00,\n         8.64630699e-01,  1.28717864e+00, -5.05317926e-01,\n         1.13872695e+00, -2.17121810e-01, -1.38199258e+00,\n         1.16776371e+00,  2.82135320e+00,  4.74404097e-01,\n        -3.11058462e-01, -1.73494726e-01,  1.05794823e+00,\n         1.39646626e+00,  1.01622498e+00, -1.30117428e+00,\n        -2.61231840e-01,  9.96614575e-01, -6.59144282e-01,\n        -4.11819428e-01,  7.32142508e-01, -1.99674547e-01,\n         3.31748748e+00, -2.29842734e+00, -4.37350893e+00,\n        -1.30481589e+00, -2.22346663e+00, -1.30300462e+00,\n         6.20443821e-01,  1.42162040e-01,  1.34954011e+00,\n         2.79951620e+00,  3.97904456e-01,  1.75277984e+00,\n         1.36425173e+00, -1.13644588e+00, -8.94096136e-01,\n         6.47117555e-01, -1.69223821e+00,  6.92348063e-01,\n        -1.36289850e-01,  2.51146340e+00, -6.26908243e-01,\n        -1.36617064e+00, -1.78015813e-01,  4.45258665e+00,\n        -8.76562536e-01,  1.37046635e+00, -9.68483627e-01,\n        -1.28367022e-01, -1.17414975e+00, -2.67169738e+00,\n         2.44937563e+00, -5.66096604e-01,  1.31380129e+00,\n         8.07944834e-01,  1.57604206e+00,  8.57437551e-01,\n        -3.43514293e-01,  4.29231375e-01,  7.15427399e-01,\n        -1.05031168e+00,  3.26623011e+00, -9.87557054e-01,\n        -2.62868953e+00, -1.83627105e+00, -1.63741076e+00,\n        -1.79153338e-01,  1.66532207e+00, -1.79982531e+00,\n         1.31664062e+00, -5.68169355e-01,  4.58994478e-01,\n         1.06678176e+00, -9.58909512e-01,  5.08492291e-01,\n         5.04759133e-01, -8.69120538e-01,  2.12514353e+00,\n        -2.57876086e+00,  2.79625416e+00, -1.03817329e-01,\n         3.82141471e-01,  8.68744910e-01,  1.42493892e+00,\n         8.92543271e-02, -2.75696301e+00, -1.71114993e+00,\n        -9.73263681e-01, -1.53950644e+00,  4.04611021e-01,\n         7.82261230e-03,  5.12718745e-02, -1.12362432e+00,\n        -1.51622677e+00, -1.54935849e+00,  7.39841238e-02,\n        -2.13006926e+00],\n       [-3.90298516e-01, -1.13759077e+00,  1.29928625e+00,\n         1.79178917e+00,  1.74077046e+00, -1.43625808e+00,\n        -3.58172208e-01, -1.36971807e+00, -1.38027370e+00,\n         1.23903275e+00,  2.26970649e+00, -9.08545732e-01,\n         5.00732334e-04, -6.07339799e-01,  1.28473127e+00,\n         1.23290741e+00,  1.84935105e+00, -9.88469601e-01,\n        -2.37165833e+00, -1.16251707e+00,  2.68751240e+00,\n        -8.72669935e-01,  3.38161826e+00,  7.98854232e-01,\n         3.09392476e+00, -8.61149967e-01, -1.35832870e+00,\n         6.48038387e-01,  1.50233614e+00,  1.27399123e+00,\n         3.51408458e+00, -9.69024003e-01, -1.77727744e-01,\n        -5.18241465e-01,  2.49439383e+00,  4.52932167e+00,\n        -1.20252776e+00,  1.29665089e+00,  1.90618110e+00,\n        -1.50087222e-01, -1.79264641e+00, -2.91167736e-01,\n        -3.79303396e-01,  3.28705072e+00, -3.98260379e+00,\n         3.38703036e-01,  4.72282082e-01,  2.91729546e+00,\n        -1.54783618e+00, -1.05835891e+00,  1.59003592e+00,\n        -7.55405664e-01, -3.30269337e+00,  9.12817895e-01,\n         3.63482642e+00,  1.05289936e+00,  1.86580345e-01,\n        -1.10352051e+00, -4.92797077e-01, -7.42223322e-01,\n        -7.47081876e-01, -9.16525424e-01,  1.29470551e+00,\n         1.68463409e+00, -7.18481004e-01,  1.00827765e+00,\n         2.04550594e-01,  5.42990088e-01, -1.17096746e+00,\n        -8.37679148e-01, -2.90614963e-01,  2.04374045e-02,\n        -9.74108696e-01,  6.70238137e-01, -2.35709891e-01,\n         6.51444137e-01, -2.20746398e+00,  1.59615040e-01,\n         8.96122396e-01,  1.98791921e+00,  4.37858552e-01,\n        -6.76603436e-01,  1.89972734e+00, -6.82523131e-01,\n         5.28669477e-01,  1.34397995e+00,  7.07694888e-01,\n        -2.08519506e+00,  6.69757128e-01,  6.60285473e-01,\n         1.90938747e+00,  1.32533586e+00,  1.17909598e+00,\n        -8.92237425e-01,  1.78881156e+00,  9.04262841e-01,\n        -2.20315933e+00,  1.89656854e+00,  1.41965187e+00,\n        -6.03218555e-01],\n       [ 1.02718067e+00, -2.32443500e+00, -1.62435925e+00,\n         1.51509929e+00, -6.96620047e-01, -2.08879399e+00,\n         8.51854801e-01, -1.98902500e+00, -1.03666210e+00,\n         2.76132441e+00,  1.49683869e+00,  4.95598465e-01,\n        -6.74721822e-02,  1.61255991e+00,  1.95916164e+00,\n        -9.27820683e-01, -1.62373435e+00, -1.21129477e+00,\n        -1.41624856e+00,  6.31554425e-01,  1.25570571e+00,\n        -2.77043867e+00,  2.59984589e+00,  3.14171255e-01,\n         3.60460329e+00,  6.69677317e-01, -1.88731813e+00,\n         1.43399507e-01,  1.28174055e+00, -9.93133307e-01,\n         3.26519966e+00, -1.60413957e+00,  8.94537866e-01,\n         4.72916476e-02,  2.86625814e+00,  1.20593357e+00,\n         6.58663273e-01,  1.15121472e+00,  5.37819088e-01,\n         7.66873419e-01,  1.84459135e-01,  5.03775179e-01,\n        -3.26709859e-02,  3.94252157e+00, -1.69775319e+00,\n         2.20014945e-01,  1.72442603e+00,  1.33685040e+00,\n        -6.22500539e-01, -1.03460565e-01,  1.41603422e+00,\n         2.20175892e-01, -2.42749643e+00, -1.75819135e+00,\n         1.84063780e+00, -4.13331807e-01,  1.12988341e+00,\n        -9.98038709e-01, -1.41163278e+00, -5.89482486e-01,\n        -2.57891321e+00, -2.61788774e+00,  1.43124509e+00,\n         1.00474942e+00, -1.98490012e+00,  2.31142783e+00,\n         1.36336172e+00, -6.57056987e-01, -1.96006155e+00,\n        -7.35186815e-01,  3.06824350e+00,  1.29739022e+00,\n        -2.70792581e-02,  9.59118485e-01, -5.24872243e-01,\n         1.42986345e+00, -4.17214066e-01,  2.21999717e+00,\n         2.65046644e+00,  1.94492102e+00, -7.62026846e-01,\n        -1.40650606e+00, -5.62898219e-01, -3.35369682e+00,\n        -9.12001252e-01,  1.43077803e+00, -2.99514711e-01,\n         8.84914994e-01,  1.93478858e+00,  1.01101041e+00,\n         1.42435420e+00,  4.39834833e-01,  5.33273995e-01,\n        -5.39695144e-01,  1.18220818e+00,  7.73761272e-01,\n        -1.80148840e-01,  2.81132317e+00,  1.01295912e+00,\n        -3.20726562e+00],\n       [ 8.96292210e-01, -1.98113775e+00, -2.93769717e-01,\n         2.95593709e-01,  2.45470956e-01, -1.50102472e+00,\n         1.12420654e+00, -3.77783418e+00, -1.16728187e+00,\n         1.60608959e+00,  1.15338576e+00, -1.95956707e-01,\n         1.21280444e+00, -1.66392028e+00,  1.33879948e+00,\n        -7.06631184e-01, -7.15056434e-02, -3.85120451e-01,\n        -2.77688533e-01,  3.55454862e-01, -8.22593689e-01,\n        -5.08660853e-01,  1.48056281e+00,  1.34892190e+00,\n         2.85984278e-01, -4.11509871e-01, -3.26661929e-03,\n         5.08114517e-01,  1.08350229e+00, -1.31734169e+00,\n         5.12662470e-01, -4.68132734e-01,  1.25031042e+00,\n         2.07822251e+00,  7.47752726e-01, -6.18638039e-01,\n         8.91229272e-01, -7.40252137e-02,  6.32110834e-01,\n        -2.06811219e-01,  1.10956132e-01, -1.25151443e+00,\n         1.63084030e+00,  3.24253464e+00, -2.95208514e-01,\n        -2.40320492e+00,  2.20386577e+00,  2.38145590e+00,\n        -1.93633282e+00, -9.36923921e-01, -4.77206916e-01,\n         4.95957255e-01,  2.40444946e+00, -6.95988238e-01,\n         7.33587861e-01, -5.32653391e-01,  7.91606963e-01,\n         1.60233247e+00,  1.48719299e+00,  2.74261117e-01,\n         8.45206916e-01, -9.17051494e-01,  9.96262908e-01,\n         3.34987193e-02,  1.27666283e+00, -1.54514027e+00,\n        -1.47850141e-01, -1.19392085e+00, -2.08230123e-01,\n        -6.92143559e-01,  3.78526688e+00, -1.20881450e+00,\n         1.99192882e+00,  1.14405680e+00, -2.21484280e+00,\n         1.59873343e+00, -1.10024714e+00,  2.41867447e+00,\n         7.27224767e-01, -1.14697576e+00,  1.04897332e+00,\n        -1.40969694e+00,  2.19958210e+00, -1.00730228e+00,\n         4.02168542e-01, -3.92208755e-01, -9.33575511e-01,\n        -1.50034800e-01, -4.54878181e-01,  1.47497451e+00,\n        -9.41097319e-01, -7.08902404e-02,  1.83570850e+00,\n        -6.75136924e-01,  2.87623584e-01, -6.28470480e-01,\n         1.55059591e-01,  6.52472734e-01,  3.79853785e-01,\n        -2.20463920e+00],\n       [ 2.07637012e-01, -4.86802578e-01, -2.10188508e-01,\n        -2.97262948e-02, -3.84185374e-01,  1.20138025e+00,\n         1.16497266e+00, -3.79723024e+00,  2.00766206e-01,\n         2.15931201e+00, -1.38457072e+00, -2.59644806e-01,\n         3.14289451e-01, -1.44276428e+00,  1.17687678e+00,\n        -1.01135468e+00, -1.36773705e+00, -6.53202012e-02,\n         9.35969830e-01,  7.98200369e-01, -4.83029395e-01,\n        -7.72163033e-01,  1.09622061e+00,  3.47075462e+00,\n        -5.76244831e-01,  5.91830373e-01,  1.39125884e+00,\n         8.69179428e-01,  2.14346004e+00, -4.04262066e+00,\n         1.28722489e+00, -2.07284316e-01,  8.37562084e-02,\n         2.28391266e+00,  1.20598423e+00, -1.48223996e+00,\n        -1.67119041e-01,  2.21867800e+00,  1.09433353e-01,\n        -7.90780365e-01, -6.87261522e-01, -8.48429024e-01,\n         2.31999189e-01,  4.30694723e+00, -1.49376857e+00,\n        -3.21528196e+00,  2.14970255e+00,  3.92911643e-01,\n         3.59859616e-01, -1.04460049e+00, -1.21358824e+00,\n         2.24770355e+00,  2.35177946e+00,  7.27376044e-01,\n         8.96280587e-01, -9.15858209e-01, -2.69031018e-01,\n         1.77274954e+00,  2.39062846e-01, -1.60848558e+00,\n         4.16143060e-01, -1.73497319e+00,  5.85985899e-01,\n        -4.48222935e-01, -1.18921131e-01, -7.66874075e-01,\n        -2.39773011e+00, -2.06336212e+00,  5.69986999e-01,\n        -4.18845862e-01,  3.62200761e+00, -6.84157908e-01,\n         2.42091632e+00,  7.22177327e-01, -3.46330380e+00,\n         5.61492503e-01, -1.14100492e+00,  1.72864616e+00,\n         1.58555472e+00, -1.73182499e+00,  8.50432515e-01,\n        -2.64491081e+00,  1.65570700e+00, -1.21364021e+00,\n        -1.95660019e+00,  3.43925565e-01, -1.99078619e+00,\n        -7.63068020e-01, -1.15295637e+00,  2.51397610e+00,\n         9.67608511e-01, -1.64379990e+00,  1.93672121e+00,\n         8.24877799e-01,  1.28759909e+00,  8.99146974e-01,\n        -9.20039475e-01,  2.30339265e+00,  1.14303887e+00,\n        -2.84719157e+00],\n       [ 3.18035817e+00, -4.56405461e-01, -3.95685315e-01,\n        -8.81541986e-04, -4.14579839e-01,  3.36888641e-01,\n         7.63369322e-01, -1.99007487e+00, -2.66289926e+00,\n        -2.72675335e-01, -1.74843740e+00, -9.85447466e-01,\n         1.80918109e+00, -2.22212300e-01,  1.39626789e+00,\n        -1.00410509e+00, -1.75704122e+00,  7.02475607e-02,\n         2.73229927e-01, -2.47062659e+00, -1.24497342e+00,\n        -2.36123848e+00, -9.11787271e-01, -9.47098672e-01,\n        -1.37714148e+00,  4.13723499e-01,  2.37829614e+00,\n         5.01850903e-01,  1.78526855e+00, -1.37781119e+00,\n        -1.80556640e-01, -2.78778732e-01,  1.64977694e+00,\n        -8.79109502e-02,  7.01581001e-01, -1.67977750e-01,\n         2.36335778e+00,  1.23229754e+00,  2.81307101e-01,\n         1.03367686e+00,  5.80912113e-01, -9.88709211e-01,\n        -1.21524036e+00,  9.82577205e-01,  2.12398458e+00,\n         4.89621818e-01,  1.22824728e+00, -1.79719436e+00,\n         1.15601301e+00,  1.66603839e+00, -2.86215305e+00,\n        -4.57006246e-01,  1.07603538e+00,  2.54760504e+00,\n        -7.33139575e-01,  1.08726811e+00, -2.38512945e+00,\n        -4.60506529e-01, -2.70930982e+00,  3.66799521e+00,\n        -1.45565772e+00, -8.54090989e-01, -2.29068518e+00,\n        -2.04806060e-01, -7.64778674e-01,  1.69427216e+00,\n        -2.49526191e+00,  2.86824673e-01, -1.88347900e+00,\n         1.08948159e+00,  5.50673246e-01,  8.66276145e-01,\n         1.82536530e+00,  1.36154568e+00,  5.65881014e-01,\n        -1.34526086e+00,  1.00566375e+00,  1.97399712e+00,\n        -1.06810129e+00,  9.08106565e-01, -5.22153258e-01,\n         1.25063610e+00, -2.87028146e+00, -1.13751376e+00,\n        -1.25641310e+00, -1.51641774e+00, -1.24465835e+00,\n         2.36451387e+00,  1.43915248e+00,  3.35970664e+00,\n        -8.77351761e-01, -5.77637196e-01,  2.38624200e-01,\n        -2.85912037e-01,  1.81867790e+00, -3.29559952e-01,\n        -2.72143841e-01,  5.88972747e-01, -1.69570327e-01,\n        -1.10863340e+00],\n       [ 8.04021537e-01, -2.85303903e+00,  3.23212051e+00,\n         2.06000865e-01,  1.10400152e+00, -1.83635637e-01,\n         1.27402163e+00, -3.32011700e+00,  6.92498982e-01,\n         1.89351606e+00,  2.07594895e+00, -3.25175238e+00,\n        -2.38645434e+00, -4.37047899e-01,  3.18317699e+00,\n        -4.83416140e-01,  1.16926096e-01, -2.81101727e+00,\n         5.59047937e-01,  1.88933146e+00, -2.01789522e+00,\n        -2.29627514e+00,  3.76779270e+00,  3.00501370e+00,\n         2.24620533e+00,  3.25834095e-01, -1.97994089e+00,\n        -3.44033837e+00,  2.63520408e+00, -1.01071107e+00,\n         2.16261244e+00, -8.54236305e-01, -8.25009763e-01,\n         4.22185373e+00, -8.02896678e-01,  3.73591691e-01,\n        -4.53933209e-01, -1.61420333e+00,  7.43725359e-01,\n        -8.30017328e-01, -4.24403727e-01, -2.00688386e+00,\n         2.22502422e+00,  5.51039457e-01, -3.10695720e+00,\n        -6.01076305e-01,  1.91656768e+00, -6.44389510e-01,\n        -1.35006869e+00,  1.11577332e+00, -7.16657843e-03,\n        -2.28075981e+00,  2.56507349e+00, -2.66837955e+00,\n         1.67651162e-01, -2.51069188e+00, -1.96263373e-01,\n        -1.51598722e-01, -3.00811434e+00, -3.65234208e+00,\n         2.59939647e+00, -5.30243516e-01,  2.48691559e+00,\n        -1.43167770e+00,  7.08823979e-01, -2.82750559e+00,\n         3.56628239e-01, -2.70201421e+00,  8.73731434e-01,\n        -3.25555515e+00,  2.78524709e+00, -1.20403039e+00,\n         2.42735386e+00,  5.05617917e-01,  2.29006007e-01,\n        -5.79077154e-02, -1.59235334e+00,  1.51221037e+00,\n        -3.38635445e-01,  2.30695486e+00,  2.10087681e+00,\n        -4.79524326e+00,  2.80744481e+00, -3.99733484e-01,\n        -2.27895260e+00,  1.03299928e+00, -2.50359148e-01,\n        -5.74435353e-01, -1.30369258e+00, -1.55013931e+00,\n        -1.56053400e+00, -9.68233287e-01,  1.30554084e-02,\n         7.29617298e-01,  1.33700407e+00, -8.44242632e-01,\n         1.02169478e+00,  1.01036227e+00,  2.20134449e+00,\n        -1.50716054e+00],\n       [ 1.72922194e-01, -1.95116532e+00,  3.68896365e-01,\n         1.16021144e+00,  1.00394082e+00,  9.71079588e-01,\n        -1.99281052e-02, -1.89018786e+00, -5.70211709e-01,\n        -1.23710287e+00,  1.74600661e+00, -7.69132674e-01,\n        -3.73023540e-01, -1.48416698e+00,  1.10831785e+00,\n         1.81050882e-01,  1.61155701e-01,  5.06201804e-01,\n        -8.32629502e-01, -1.30243874e+00,  6.15393221e-01,\n         1.09930687e-01, -1.03311442e-01, -3.08585376e-01,\n         1.47202492e+00, -7.06653535e-01, -2.90792131e+00,\n         6.75450563e-01, -1.06533408e+00,  5.00007980e-02,\n        -1.03815859e-02, -3.49833161e-01,  4.83251929e-01,\n        -8.04139614e-01, -6.65740132e-01,  1.91854799e+00,\n         2.69670755e-01,  5.15303314e-01,  7.11894631e-01,\n        -1.91701412e+00, -5.87773383e-01, -4.75545794e-01,\n        -1.11036372e+00,  1.56216908e+00,  9.79478061e-01,\n        -4.91805911e-01, -3.86594892e-01,  1.14420164e+00,\n        -2.25864911e+00,  1.94160551e-01,  2.67059535e-01,\n        -2.91348010e-01, -1.56090999e+00,  5.75172067e-01,\n         1.12222409e+00, -1.04267764e+00, -8.90440762e-01,\n         4.54810590e-01,  1.18945885e+00,  1.57131732e+00,\n        -6.94391578e-02, -6.33924901e-01,  4.63343978e-01,\n         7.61814773e-01, -3.24583769e-01,  4.18934315e-01,\n        -1.10935226e-01,  3.40644389e-01, -1.81211913e+00,\n         2.12209255e-01,  3.72593204e-04,  1.70010671e-01,\n         3.97648811e-02,  1.76600802e+00,  2.14446616e+00,\n        -5.77660322e-01, -6.85285389e-01, -2.98236847e-01,\n         6.33651555e-01, -3.52208689e-02,  1.15216780e+00,\n         7.03026131e-02, -2.41332769e-01,  2.26780963e+00,\n         1.13995361e+00,  1.56324685e-01,  2.79938251e-01,\n        -1.05784583e+00, -1.74682164e+00, -7.43615508e-01,\n        -1.38344038e+00, -5.02753437e-01,  2.56627464e+00,\n         1.22162625e-01,  1.87900290e-01, -5.51360607e-01,\n         4.42152113e-01, -8.23589802e-01, -7.36380637e-01,\n         6.63196683e-01],\n       [-1.98221874e+00, -8.91085863e-01,  2.57017881e-01,\n         3.53289306e-01,  1.83833218e+00, -2.57719851e+00,\n         3.42555737e+00,  1.34911805e-01, -1.35876799e+00,\n         1.04439072e-02,  1.38219798e+00, -1.40699828e+00,\n         9.89350557e-01,  1.62316155e+00,  1.23870146e+00,\n        -5.49963355e-01, -3.20764303e+00, -1.88954759e+00,\n        -7.39293754e-01, -4.92778778e+00, -2.83039153e-01,\n         3.59464025e+00, -5.12483060e-01, -2.08189917e+00,\n         3.17859006e+00,  1.91494799e+00, -4.07228529e-01,\n         6.57964230e-01, -8.09347510e-01, -2.74771750e-01,\n         3.85391712e-01,  1.29837072e+00,  8.03807318e-01,\n         2.91216969e+00,  8.43497813e-01,  1.89295304e+00,\n        -3.60197902e+00, -3.16745758e-01, -9.39908206e-01,\n        -6.36620283e-01, -8.14597011e-02, -1.46376610e+00,\n        -2.68709391e-01, -7.28125513e-01, -1.08146332e-01,\n         2.81841252e-02,  3.32328230e-01,  1.21773517e+00,\n        -2.97905517e+00,  1.53425360e+00, -2.75503063e+00,\n        -8.38588297e-01, -1.01644957e+00, -1.04742253e+00,\n        -6.27574980e-01, -9.92592871e-01, -1.08630645e+00,\n         2.81643271e+00,  1.47894931e+00, -2.11418438e+00,\n        -3.34695339e+00, -3.91571343e-01,  2.02571416e+00,\n         1.25501966e+00, -1.45993817e+00,  1.58086240e+00,\n        -1.00620776e-01,  2.95274305e+00,  8.36811423e-01,\n         4.12694484e-01, -1.02420497e+00, -2.01009798e+00,\n         2.32655144e+00,  3.33631098e-01, -3.66061974e+00,\n        -2.61967808e-01, -4.61984605e-01, -2.40583479e-01,\n        -3.92132497e+00,  8.89847696e-01,  1.68022323e+00,\n        -1.64972138e+00, -6.14533544e-01,  1.69078887e-01,\n         1.80781472e+00,  1.30313432e+00, -9.04767692e-01,\n        -1.05739832e+00,  1.19359910e+00,  1.71547914e+00,\n        -2.08392954e+00,  4.23829973e-01, -1.59898210e+00,\n        -2.06387138e+00,  2.30400229e+00,  2.17922235e+00,\n        -1.73050952e+00,  3.45525765e+00, -5.88215113e-01,\n        -1.98934770e+00],\n       [-2.84884214e+00, -2.37279153e+00,  4.94741574e-02,\n         1.05894424e-01, -3.95787088e-03,  3.74147892e-01,\n        -2.88644123e+00, -1.55576003e+00, -1.20211506e+00,\n        -9.17143166e-01, -2.59376496e-01,  2.00584841e+00,\n         2.57769339e-02, -2.49171901e+00, -1.44542050e+00,\n        -1.83305705e+00,  4.16353256e-01, -2.95603824e+00,\n         1.98350143e+00, -8.24172720e-02,  1.52387011e+00,\n        -9.85315502e-01,  2.07567000e+00,  1.70541871e+00,\n         1.48151886e+00,  4.47514862e-01, -4.63496304e+00,\n         1.51239049e+00, -2.36943550e-02,  1.35789311e+00,\n         3.56832057e-01, -4.11403716e-01,  2.31768027e-01,\n         1.84436440e+00, -2.43258524e+00, -3.05706620e-01,\n         1.26265430e+00, -1.35102212e+00,  2.00390768e+00,\n         1.06997061e+00, -6.40645623e-01,  3.78520203e+00,\n        -1.08907056e+00,  1.51185787e+00,  1.10012388e+00,\n        -1.01396155e+00, -3.02456236e+00,  3.26734138e+00,\n        -1.10043132e+00,  6.79793477e-01, -2.49086213e+00,\n        -5.31697050e-02,  2.08856964e+00, -2.49836326e+00,\n         1.55173838e+00,  8.62737596e-01,  2.19175309e-01,\n         4.01311070e-01,  1.00867522e+00, -1.41810739e+00,\n         4.54570472e-01,  2.96732187e+00,  3.86046481e+00,\n         7.12264003e-03, -1.33036482e+00, -3.61082852e-01,\n        -3.22610974e+00, -6.13442779e-01,  1.74386191e+00,\n        -2.14439631e+00,  3.25438112e-01, -2.46065187e+00,\n         8.16135585e-01, -9.41207647e-01, -1.71242142e+00,\n         1.06295848e+00, -2.37720537e+00, -2.68830562e+00,\n         3.45294428e+00,  2.35641509e-01,  7.79282868e-01,\n        -3.68661022e+00, -4.53448236e-01,  2.42949033e+00,\n         2.38784885e+00,  2.16857505e+00,  1.55534148e+00,\n         1.06222761e+00, -1.32225239e+00, -4.95190114e-01,\n        -3.94635653e+00,  1.36067832e+00,  2.52683306e+00,\n         1.25859737e+00,  1.39519826e-01,  5.57039201e-01,\n        -3.00268292e+00, -2.06551766e+00,  2.52960110e+00,\n        -4.35245216e-01]], dtype=float32)"
          },
          "execution_count": 67,
          "metadata": {},
          "output_type": "execute_result"
        }
      ],
      "source": [
        "# Selecting the top 50 words from the congressional_leg_w2v dataset\n",
        "# and getting their respective vectors for further analysis.\n",
        "num_words = 50\n",
        "target_words = congressional_leg_w2v.wv.index_to_key[:num_words]\n",
        "words_sub_matrix = []\n",
        "for word in target_words:\n",
        "    words_sub_matrix.append(congressional_leg_w2v.wv[word])\n",
        "words_sub_matrix = np.array(words_sub_matrix)\n",
        "words_sub_matrix[:10]"
      ]
    },
    {
      "cell_type": "code",
      "execution_count": 68,
      "id": "ad3f8f86a08d7c0b",
      "metadata": {
        "ExecuteTime": {
          "end_time": "2024-01-31T05:29:39.386290Z",
          "start_time": "2024-01-31T05:29:38.936990Z"
        },
        "collapsed": false
      },
      "outputs": [],
      "source": [
        "pca_words = sklearn.decomposition.PCA(n_components=num_words).fit(words_sub_matrix)\n",
        "reduced_pca_data = pca_words.transform(words_sub_matrix)\n",
        "# T-SNE is theoretically better, but you should experiment\n",
        "tsne_words = sklearn.manifold.TSNE(n_components=2).fit_transform(reduced_pca_data)"
      ]
    },
    {
      "cell_type": "code",
      "execution_count": 69,
      "id": "855d179e0e4f4336",
      "metadata": {
        "ExecuteTime": {
          "end_time": "2024-01-31T05:29:40.081206Z",
          "start_time": "2024-01-31T05:29:39.976307Z"
        },
        "collapsed": false
      },
      "outputs": [
        {
          "data": {
            "image/png": "[encoded data removed]",
            "text/plain": "<Figure size 1000x600 with 1 Axes>"
          },
          "metadata": {},
          "output_type": "display_data"
        }
      ],
      "source": [
        "fig = plt.figure(figsize=(10, 6))\n",
        "ax = fig.add_subplot(111)\n",
        "ax.set_frame_on(False)\n",
        "plt.scatter(tsne_words[:, 0], tsne_words[:, 1], alpha=0)  # Making the points invisible\n",
        "for i, word in enumerate(target_words):\n",
        "    ax.annotate(\n",
        "        word,\n",
        "        (tsne_words[:, 0][i], tsne_words[:, 1][i]),\n",
        "        size=20 * (num_words - i) / num_words,\n",
        "    )\n",
        "plt.xticks(())\n",
        "plt.yticks(())\n",
        "plt.show()"
      ]
    },
    {
      "cell_type": "code",
      "execution_count": 70,
      "id": "5d6dd7142a96b853",
      "metadata": {
        "ExecuteTime": {
          "end_time": "2024-01-31T05:29:41.587539Z",
          "start_time": "2024-01-31T05:29:41.548333Z"
        },
        "collapsed": false
      },
      "outputs": [],
      "source": [
        "# Do a visualization for PCA, interrogate critical words, look for analogies, what does pattern reveal about corpora, which visual generates the most insight and appears the most robust?"
      ]
    },
    {
      "cell_type": "markdown",
      "id": "482b042438fb3b50",
      "metadata": {
        "collapsed": false
      },
      "source": [
        "## <font color=\"red\">*Exercise 2*</font>\n",
        "\n",
        "<font color=\"red\">Construct cells immediately below this that embed \n",
        "documents related to your final project using `doc2vec`, and explore \n",
        "the relationship between different documents and the word vectors you \n",
        "analyzed in the last exercise. Consider the most similar words to \n",
        "critical documents, analogies (doc _x_ + word _y_), and other additions \n",
        "and subtractions that reveal the structure of similarity and difference \n",
        "within your semantic space. What does this pattern reveal about the \n",
        "documentary organization of your semantic space?"
      ]
    },
    {
      "cell_type": "code",
      "execution_count": 71,
      "id": "aec87aff1fdb9227",
      "metadata": {
        "ExecuteTime": {
          "end_time": "2024-01-31T05:29:43.004431Z",
          "start_time": "2024-01-31T05:29:42.712496Z"
        },
        "collapsed": false
      },
      "outputs": [],
      "source": [
        "keywords = [\"abortion\", \"states\", \"rights\", \"available\", \"health\", \"services\", \"funds\"]\n",
        "tagged_docs = []\n",
        "for index, row in congressional_leg_df.iterrows():\n",
        "    # Simple keyword assignment\n",
        "    doc_keywords = [s for s in keywords if s in row[\"normalized_tokens\"]]\n",
        "    doc_keywords.append(row[\"congress_num\"])\n",
        "    doc_keywords.append(\n",
        "        row[\"legislation number\"]\n",
        "    )  # This lets us extract individual documents since legislation numbers are unique\n",
        "    tagged_docs.append(\n",
        "        gensim.models.doc2vec.TaggedDocument(\n",
        "            words=row[\"normalized_tokens\"], tags=doc_keywords\n",
        "        )\n",
        "    )\n",
        "congressional_leg_df[\"tagged_text\"] = tagged_docs"
      ]
    },
    {
      "cell_type": "code",
      "execution_count": 72,
      "id": "8362285ca836c5a7",
      "metadata": {
        "ExecuteTime": {
          "end_time": "2024-01-31T05:30:28.897749Z",
          "start_time": "2024-01-31T05:30:23.601728Z"
        },
        "collapsed": false
      },
      "outputs": [],
      "source": [
        "congressional_leg_d2v = gensim.models.doc2vec.Doc2Vec(\n",
        "    congressional_leg_df[\"tagged_text\"], vector_size=100\n",
        ")"
      ]
    },
    {
      "cell_type": "code",
      "execution_count": 73,
      "id": "3b252175ff2732ee",
      "metadata": {
        "ExecuteTime": {
          "end_time": "2024-01-31T05:31:23.145088Z",
          "start_time": "2024-01-31T05:31:23.098811Z"
        },
        "collapsed": false
      },
      "outputs": [
        {
          "data": {
            "text/plain": "array([ 1.024166  , -0.20583169, -1.4429594 ,  0.17146665,  0.7409893 ,\n        1.0770271 ,  0.38801998, -0.08329246, -0.38688505,  0.6865208 ,\n        1.8001508 ,  2.144751  ,  2.1954787 ,  1.8553803 ,  1.1894319 ,\n       -0.10032054,  3.470067  , -1.4163939 ,  2.7721245 ,  0.17979217,\n       -0.00738192, -0.34115425,  2.1106076 , -0.10589121,  1.9208392 ,\n       -1.3350208 , -0.03806369,  0.99004227,  0.5167876 , -0.61323005,\n        0.16415814,  0.92918867, -2.1281903 ,  0.2835767 ,  1.3110406 ,\n       -0.08013124,  2.2212362 , -1.2833102 , -0.61170065, -0.8839472 ,\n        2.8279686 ,  1.2331473 ,  1.2649807 ,  0.27686176, -1.3227336 ,\n       -1.9213228 ,  1.112054  ,  1.2224151 ,  0.29744366,  1.5467097 ,\n        1.4528776 , -0.61406404, -0.24571183, -0.64343673,  0.10095578,\n        1.25745   ,  0.29641256, -2.487554  ,  0.45052788,  0.7156666 ,\n        0.45203048,  2.0905156 , -1.8694459 , -2.4689262 ,  1.0946468 ,\n       -1.8325102 , -1.5583192 , -0.08075324, -0.37497017, -1.4138783 ,\n       -1.161281  ,  2.347928  , -0.34904706, -1.0667514 , -2.641718  ,\n        2.3416536 ,  0.1255802 , -1.023474  ,  2.8218367 , -1.413823  ,\n        1.0824618 , -1.3624706 ,  2.358052  , -0.04578103,  0.3222023 ,\n       -0.5470485 ,  1.8885304 ,  1.8698575 , -1.8344052 , -0.05753694,\n       -0.29285038,  1.0654193 , -1.1268232 ,  0.14163333, -0.52322435,\n       -1.4217758 ,  0.87597114, -0.858375  , -0.38647684,  1.9887253 ],\n      dtype=float32)"
          },
          "execution_count": 73,
          "metadata": {},
          "output_type": "execute_result"
        }
      ],
      "source": [
        "# Show vector of particular congressional number\n",
        "congressional_leg_d2v.docvecs[118]"
      ]
    },
    {
      "cell_type": "code",
      "execution_count": 74,
      "id": "a042327df9f6972d",
      "metadata": {
        "ExecuteTime": {
          "end_time": "2024-01-31T05:32:00.046601Z",
          "start_time": "2024-01-31T05:32:00.020677Z"
        },
        "collapsed": false
      },
      "outputs": [
        {
          "data": {
            "text/plain": "array([ 0.7541484 ,  0.03733107,  3.0242984 ,  2.1505616 , -1.7725741 ,\n       -2.2004962 , -3.5582895 ,  4.6740766 ,  0.25281116,  3.9081843 ,\n        0.97212315,  0.34221327, -0.5010911 ,  4.6811786 ,  0.51785827,\n       -3.5600624 ,  1.7469729 ,  0.37162808, -0.7532401 , -2.4794652 ,\n       -1.6117945 , -2.6961017 , -0.7729406 ,  1.8959113 , -1.0447681 ,\n        4.050584  , -0.94539   ,  2.8589103 , -4.408532  ,  2.239914  ,\n        5.2471504 , -1.5874683 ,  1.2941787 , -1.3632458 , -1.2138807 ,\n        0.14050528, -1.2585714 , -0.7485317 , -3.3779256 ,  4.919164  ,\n       -6.0509677 , -0.32846466, -1.4856358 , -0.04758714, -6.694056  ,\n       -6.6925883 , -1.1177745 ,  0.35954565,  0.7809311 ,  2.2587774 ,\n       -3.643349  ,  2.0675697 ,  4.338753  ,  2.9292023 ,  3.351528  ,\n        2.8669536 ,  0.83603776, -1.082412  ,  1.4627208 ,  1.9026424 ,\n        0.48204404, -2.1873329 , -1.4005419 , -1.3464125 ,  3.8452568 ,\n        7.0730505 , -0.89328015,  2.9116836 ,  0.2529459 , -2.8128505 ,\n       -1.5542885 ,  0.87780565, -0.7299522 , -3.7186818 ,  1.1469444 ,\n       -0.3639105 , -0.24795298, -1.4634854 ,  1.944645  , -2.253894  ,\n       -0.32936275, -0.50411654,  2.531864  ,  1.4742786 , -0.80092007,\n        4.805246  ,  0.6886818 , -1.3192669 , -3.5073054 , -1.8578995 ,\n        0.47815034,  2.4087968 ,  0.8132331 , -0.2862528 ,  6.278002  ,\n        0.13841881, -2.6953623 ,  0.5877603 ,  0.19943726,  1.2137172 ],\n      dtype=float32)"
          },
          "execution_count": 74,
          "metadata": {},
          "output_type": "execute_result"
        }
      ],
      "source": [
        "# Show vector for a particular word\n",
        "congressional_leg_d2v[\"abortion\"]"
      ]
    },
    {
      "cell_type": "markdown",
      "id": "a435785ab3cdea0c",
      "metadata": {
        "collapsed": false
      },
      "source": [
        "## <font color=\"red\">*Exercise 3*</font>\n",
        "\n",
        "<font color=\"red\">Construct cells immediately below this that embed \n",
        "documents related to your final project, then generate meaningful \n",
        "semantic dimensions based on your theoretical understanding of the \n",
        "semantic space (i.e., by subtracting semantically opposite word vectors) \n",
        "and project another set of word vectors onto those dimensions. Interpret \n",
        "the meaning of these projections for your analysis. Which of the dimensions \n",
        "you analyze explain the most variation in the projection of your words and why?\n",
        "\n",
        "<font color=\"red\">***Stretch***: Average together multiple antonym pairs to \n",
        "create robust semantic dimensions. How do word projections on these robust \n",
        "dimensions differ from single-pair dimensions?"
      ]
    },
    {
      "cell_type": "code",
      "execution_count": 83,
      "id": "20ea25e14c576b54",
      "metadata": {
        "ExecuteTime": {
          "end_time": "2024-01-31T05:55:40.728294Z",
          "start_time": "2024-01-31T05:55:40.648966Z"
        },
        "collapsed": false
      },
      "outputs": [
        {
          "data": {
            "text/html": "<div>\n<style scoped>\n    .dataframe tbody tr th:only-of-type {\n        vertical-align: middle;\n    }\n\n    .dataframe tbody tr th {\n        vertical-align: top;\n    }\n\n    .dataframe thead th {\n        text-align: right;\n    }\n</style>\n<table border=\"1\" class=\"dataframe\">\n  <thead>\n    <tr style=\"text-align: right;\">\n      <th></th>\n      <th>legislation number</th>\n      <th>url</th>\n      <th>congress</th>\n      <th>title</th>\n      <th>date proposed</th>\n      <th>amends amendment</th>\n      <th>latest summary</th>\n      <th>congress_num</th>\n      <th>bill_type</th>\n      <th>bill_num</th>\n      <th>...</th>\n      <th>cleaned_text</th>\n      <th>cleaned_summary</th>\n      <th>kmeans_predictions</th>\n      <th>fcluster_predictions</th>\n      <th>tokenized_text</th>\n      <th>normalized_tokens</th>\n      <th>reduced_tokens</th>\n      <th>tokenized_sentences</th>\n      <th>normalized_sentences</th>\n      <th>tagged_text</th>\n    </tr>\n  </thead>\n  <tbody>\n    <tr>\n      <th>0</th>\n      <td>H.R. 2907</td>\n      <td>https://www.congress.gov/bill/118th-congress/h...</td>\n      <td>118th Congress (2023-2024)</td>\n      <td>Let Doctors Provide Reproductive Health Care Act</td>\n      <td>NaN</td>\n      <td>NaN</td>\n      <td>&lt;p&gt;&lt;strong&gt;Let Doctors Provide Reproductive H...</td>\n      <td>118</td>\n      <td>hr</td>\n      <td>2907</td>\n      <td>...</td>\n      <td>Congressional Bills 118th Congress From the U....</td>\n      <td>Let Doctors Provide Reproductive Health Care A...</td>\n      <td>29</td>\n      <td>2</td>\n      <td>[time, enforcement, or, protective, considerat...</td>\n      <td>[publishing, time, enforcement, protective, co...</td>\n      <td>[enforcement, consideration, specific, affecte...</td>\n      <td>[[Congressional, Bills, 118th, Congress, From,...</td>\n      <td>[[congressional, bills, congress, u.s, governm...</td>\n      <td>([publishing, time, enforcement, protective, c...</td>\n    </tr>\n    <tr>\n      <th>1</th>\n      <td>S. 1297</td>\n      <td>https://www.congress.gov/bill/118th-congress/s...</td>\n      <td>118th Congress (2023-2024)</td>\n      <td>Let Doctors Provide Reproductive Health Care Act</td>\n      <td>NaN</td>\n      <td>NaN</td>\n      <td>&lt;p&gt;&lt;strong&gt;Let Doctors Provide Reproductive H...</td>\n      <td>118</td>\n      <td>s</td>\n      <td>1297</td>\n      <td>...</td>\n      <td>Congressional Bills 118th Congress From the U....</td>\n      <td>Let Doctors Provide Reproductive Health Care A...</td>\n      <td>29</td>\n      <td>2</td>\n      <td>[Murphy, time, Hirono, enforcement, Welch, or,...</td>\n      <td>[publishing, time, van, enforcement, mrs, prot...</td>\n      <td>[enforcement, specific, affected, defined, sin...</td>\n      <td>[[Congressional, Bills, 118th, Congress, From,...</td>\n      <td>[[congressional, bills, congress, u.s, governm...</td>\n      <td>([publishing, time, van, enforcement, mrs, pro...</td>\n    </tr>\n    <tr>\n      <th>2</th>\n      <td>H.R. 4901</td>\n      <td>https://www.congress.gov/bill/118th-congress/h...</td>\n      <td>118th Congress (2023-2024)</td>\n      <td>Reproductive Health Care Accessibility Act</td>\n      <td>NaN</td>\n      <td>NaN</td>\n      <td>&lt;p&gt;&lt;strong&gt;Reproductive Health Care Accessibi...</td>\n      <td>118</td>\n      <td>hr</td>\n      <td>4901</td>\n      <td>...</td>\n      <td>Congressional Bills 118th Congress From the U....</td>\n      <td>Reproductive Health Care Accessibility Act Thi...</td>\n      <td>7</td>\n      <td>2</td>\n      <td>[experience, g, Community, throughout, partici...</td>\n      <td>[publishing, experience, g, participating, tim...</td>\n      <td>[participating, tribes, centers, consideration...</td>\n      <td>[[Congressional, Bills, 118th, Congress, From,...</td>\n      <td>[[congressional, bills, congress, u.s, governm...</td>\n      <td>([publishing, experience, g, participating, ti...</td>\n    </tr>\n    <tr>\n      <th>3</th>\n      <td>S. 2544</td>\n      <td>https://www.congress.gov/bill/118th-congress/s...</td>\n      <td>118th Congress (2023-2024)</td>\n      <td>Reproductive Health Care Accessibility Act</td>\n      <td>NaN</td>\n      <td>NaN</td>\n      <td>&lt;p&gt;&lt;strong&gt;Reproductive Health Care Accessibi...</td>\n      <td>118</td>\n      <td>s</td>\n      <td>2544</td>\n      <td>...</td>\n      <td>Congressional Bills 118th Congress From the U....</td>\n      <td>Reproductive Health Care Accessibility Act Thi...</td>\n      <td>7</td>\n      <td>2</td>\n      <td>[experience, 2544, g, Community, throughout, p...</td>\n      <td>[publishing, experience, g, participating, tim...</td>\n      <td>[participating, tribes, centers, consideration...</td>\n      <td>[[Congressional, Bills, 118th, Congress, From,...</td>\n      <td>[[congressional, bills, congress, u.s, governm...</td>\n      <td>([publishing, experience, g, participating, ti...</td>\n    </tr>\n    <tr>\n      <th>4</th>\n      <td>H.R. 4147</td>\n      <td>https://www.congress.gov/bill/118th-congress/h...</td>\n      <td>118th Congress (2023-2024)</td>\n      <td>Reproductive Health Care Training Act of 2023</td>\n      <td>NaN</td>\n      <td>NaN</td>\n      <td>None</td>\n      <td>118</td>\n      <td>hr</td>\n      <td>4147</td>\n      <td>...</td>\n      <td>Congressional Bills 118th Congress From the U....</td>\n      <td>None</td>\n      <td>0</td>\n      <td>2</td>\n      <td>[g, identification, minority, time, centers, o...</td>\n      <td>[improve, act, public, pensions, cited, publis...</td>\n      <td>[improve, establish, number, identification, p...</td>\n      <td>[[Congressional, Bills, 118th, Congress, From,...</td>\n      <td>[[congressional, bills, congress, u.s, governm...</td>\n      <td>([improve, act, public, pensions, cited, publi...</td>\n    </tr>\n  </tbody>\n</table>\n<p>5 rows \u00d7 23 columns</p>\n</div>",
            "text/plain": "  legislation number                                                url  \\\n0          H.R. 2907  https://www.congress.gov/bill/118th-congress/h...   \n1            S. 1297  https://www.congress.gov/bill/118th-congress/s...   \n2          H.R. 4901  https://www.congress.gov/bill/118th-congress/h...   \n3            S. 2544  https://www.congress.gov/bill/118th-congress/s...   \n4          H.R. 4147  https://www.congress.gov/bill/118th-congress/h...   \n\n                     congress  \\\n0  118th Congress (2023-2024)   \n1  118th Congress (2023-2024)   \n2  118th Congress (2023-2024)   \n3  118th Congress (2023-2024)   \n4  118th Congress (2023-2024)   \n\n                                              title  date proposed  \\\n0  Let Doctors Provide Reproductive Health Care Act            NaN   \n1  Let Doctors Provide Reproductive Health Care Act            NaN   \n2        Reproductive Health Care Accessibility Act            NaN   \n3        Reproductive Health Care Accessibility Act            NaN   \n4     Reproductive Health Care Training Act of 2023            NaN   \n\n   amends amendment                                     latest summary  \\\n0               NaN   <p><strong>Let Doctors Provide Reproductive H...   \n1               NaN   <p><strong>Let Doctors Provide Reproductive H...   \n2               NaN   <p><strong>Reproductive Health Care Accessibi...   \n3               NaN   <p><strong>Reproductive Health Care Accessibi...   \n4               NaN                                               None   \n\n   congress_num bill_type  bill_num  ...  \\\n0           118        hr      2907  ...   \n1           118         s      1297  ...   \n2           118        hr      4901  ...   \n3           118         s      2544  ...   \n4           118        hr      4147  ...   \n\n                                        cleaned_text  \\\n0  Congressional Bills 118th Congress From the U....   \n1  Congressional Bills 118th Congress From the U....   \n2  Congressional Bills 118th Congress From the U....   \n3  Congressional Bills 118th Congress From the U....   \n4  Congressional Bills 118th Congress From the U....   \n\n                                     cleaned_summary kmeans_predictions  \\\n0  Let Doctors Provide Reproductive Health Care A...                 29   \n1  Let Doctors Provide Reproductive Health Care A...                 29   \n2  Reproductive Health Care Accessibility Act Thi...                  7   \n3  Reproductive Health Care Accessibility Act Thi...                  7   \n4                                               None                  0   \n\n  fcluster_predictions                                     tokenized_text  \\\n0                    2  [time, enforcement, or, protective, considerat...   \n1                    2  [Murphy, time, Hirono, enforcement, Welch, or,...   \n2                    2  [experience, g, Community, throughout, partici...   \n3                    2  [experience, 2544, g, Community, throughout, p...   \n4                    2  [g, identification, minority, time, centers, o...   \n\n                                   normalized_tokens  \\\n0  [publishing, time, enforcement, protective, co...   \n1  [publishing, time, van, enforcement, mrs, prot...   \n2  [publishing, experience, g, participating, tim...   \n3  [publishing, experience, g, participating, tim...   \n4  [improve, act, public, pensions, cited, publis...   \n\n                                      reduced_tokens  \\\n0  [enforcement, consideration, specific, affecte...   \n1  [enforcement, specific, affected, defined, sin...   \n2  [participating, tribes, centers, consideration...   \n3  [participating, tribes, centers, consideration...   \n4  [improve, establish, number, identification, p...   \n\n                                 tokenized_sentences  \\\n0  [[Congressional, Bills, 118th, Congress, From,...   \n1  [[Congressional, Bills, 118th, Congress, From,...   \n2  [[Congressional, Bills, 118th, Congress, From,...   \n3  [[Congressional, Bills, 118th, Congress, From,...   \n4  [[Congressional, Bills, 118th, Congress, From,...   \n\n                                normalized_sentences  \\\n0  [[congressional, bills, congress, u.s, governm...   \n1  [[congressional, bills, congress, u.s, governm...   \n2  [[congressional, bills, congress, u.s, governm...   \n3  [[congressional, bills, congress, u.s, governm...   \n4  [[congressional, bills, congress, u.s, governm...   \n\n                                         tagged_text  \n0  ([publishing, time, enforcement, protective, c...  \n1  ([publishing, time, van, enforcement, mrs, pro...  \n2  ([publishing, experience, g, participating, ti...  \n3  ([publishing, experience, g, participating, ti...  \n4  ([improve, act, public, pensions, cited, publi...  \n\n[5 rows x 23 columns]"
          },
          "execution_count": 83,
          "metadata": {},
          "output_type": "execute_result"
        }
      ],
      "source": [
        "congressional_leg_df.head()"
      ]
    },
    {
      "cell_type": "code",
      "execution_count": null,
      "id": "11290dfff293005b",
      "metadata": {
        "ExecuteTime": {
          "start_time": "2024-01-31T05:58:13.536571Z"
        },
        "collapsed": false,
        "is_executing": true
      },
      "outputs": [
        {
          "name": "stderr",
          "output_type": "stream",
          "text": [
            "Exception in thread Thread-68 (_worker_loop):\n",
            "Traceback (most recent call last):\n",
            "  File \"/opt/homebrew/Cellar/python@3.11/3.11.5/Frameworks/Python.framework/Versions/3.11/lib/python3.11/threading.py\", line 1038, in _bootstrap_inner\n",
            "    self.run()\n",
            "  File \"/Users/michaelp/Documents/GitHub/computational-content-analysis/.venv/lib/python3.11/site-packages/ipykernel/ipkernel.py\", line 761, in run_closure\n",
            "    _threading_Thread_run(self)\n",
            "  File \"/opt/homebrew/Cellar/python@3.11/3.11.5/Frameworks/Python.framework/Versions/3.11/lib/python3.11/threading.py\", line 975, in run\n",
            "    self._target(*self._args, **self._kwargs)\n",
            "  File \"/Users/michaelp/Documents/GitHub/computational-content-analysis/.venv/lib/python3.11/site-packages/gensim/models/word2vec.py\", line 1166, in _worker_loop\n",
            "    tally, raw_tally = self._do_train_job(data_iterable, alpha, thread_private_mem)\n",
            "                       ^^^^^^^^^^^^^^^^^^^^^^^^^^^^^^^^^^^^^^^^^^^^^^^^^^^^^^^^^^^^\n",
            "  File \"/Users/michaelp/Documents/GitHub/computational-content-analysis/.venv/lib/python3.11/site-packages/gensim/models/word2vec.py\", line 957, in _do_train_job\n",
            "    tally += train_batch_cbow(self, sentences, alpha, work, neu1, self.compute_loss)\n",
            "             ^^^^^^^^^^^^^^^^^^^^^^^^^^^^^^^^^^^^^^^^^^^^^^^^^^^^^^^^^^^^^^^^^^^^^^^\n",
            "  File \"gensim/models/word2vec_inner.pyx\", line 638, in gensim.models.word2vec_inner.train_batch_cbow\n",
            "ValueError: The truth value of an array with more than one element is ambiguous. Use a.any() or a.all()\n"
          ]
        },
        {
          "name": "stdout",
          "output_type": "stream",
          "text": [
            "Embedding H.J.Res. 102\r"
          ]
        }
      ],
      "source": [
        "raw_embeddings, compared_embeddings = compare_models(\n",
        "    congressional_leg_df, category=\"legislation number\"\n",
        ")"
      ]
    },
    {
      "cell_type": "code",
      "execution_count": 90,
      "id": "bcd575ea4a317c25",
      "metadata": {
        "ExecuteTime": {
          "end_time": "2024-01-31T06:01:18.391074Z",
          "start_time": "2024-01-31T06:01:18.340744Z"
        },
        "collapsed": false
      },
      "outputs": [
        {
          "ename": "NameError",
          "evalue": "name 'raw_embeddings' is not defined",
          "output_type": "error",
          "traceback": [
            "\u001b[0;31m---------------------------------------------------------------------------\u001b[0m",
            "\u001b[0;31mNameError\u001b[0m                                 Traceback (most recent call last)",
            "Cell \u001b[0;32mIn[90], line 1\u001b[0m\n\u001b[0;32m----> 1\u001b[0m \u001b[43mraw_embeddings\u001b[49m\u001b[38;5;241m.\u001b[39mkeys()\n",
            "\u001b[0;31mNameError\u001b[0m: name 'raw_embeddings' is not defined"
          ]
        }
      ],
      "source": [
        "raw_embeddings.keys()"
      ]
    },
    {
      "cell_type": "markdown",
      "id": "65cf97e6479b6d02",
      "metadata": {
        "collapsed": false
      },
      "source": [
        "## <font color=\"red\">*Exercise 4*</font>\n",
        "\n",
        "<font color=\"red\">Construct cells immediately below this that align \n",
        "word embeddings over time or across domains/corpora. Interrogate the \n",
        "spaces that result and ask which words changed most and least over the \n",
        "entire period or between contexts/corpora. What does this reveal about \n",
        "the social game underlying your space?"
      ]
    },
    {
      "cell_type": "code",
      "execution_count": null,
      "id": "8a289474fb20f5a6",
      "metadata": {
        "collapsed": false
      },
      "outputs": [],
      "source": []
    }
  ],
  "metadata": {
    "kernelspec": {
      "display_name": "Python 3",
      "language": "python",
      "name": "python3"
    },
    "language_info": {
      "codemirror_mode": {
        "name": "ipython",
        "version": 2
      },
      "file_extension": ".py",
      "mimetype": "text/x-python",
      "name": "python",
      "nbconvert_exporter": "python",
      "pygments_lexer": "ipython2",
      "version": "2.7.6"
    }
  },
  "nbformat": 4,
  "nbformat_minor": 5
}
