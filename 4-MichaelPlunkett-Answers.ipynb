{
  "cells": [
    {
      "cell_type": "code",
      "execution_count": 20,
      "id": "initial_id",
      "metadata": {
        "ExecuteTime": {
          "end_time": "2024-01-30T22:23:37.046264Z",
          "start_time": "2024-01-30T22:23:36.777613Z"
        },
        "collapsed": true
      },
      "outputs": [],
      "source": [
        "import os\n",
        "\n",
        "import gensim\n",
        "import lucem_illud\n",
        "import pandas as pd\n",
        "from tqdm import tqdm\n",
        "\n",
        "%matplotlib inline\n",
        "tqdm.pandas()"
      ]
    },
    {
      "cell_type": "markdown",
      "id": "ad51258b5de373",
      "metadata": {
        "collapsed": false
      },
      "source": [
        "### Constants and Utility Functions"
      ]
    },
    {
      "cell_type": "code",
      "execution_count": 21,
      "id": "9197e14fd95bf6d1",
      "metadata": {
        "ExecuteTime": {
          "end_time": "2024-01-30T22:23:37.049324Z",
          "start_time": "2024-01-30T22:23:37.046956Z"
        },
        "collapsed": false
      },
      "outputs": [],
      "source": [
        "# Constants\n",
        "MAX_CHAR_LEN = 5000000"
      ]
    },
    {
      "cell_type": "markdown",
      "id": "f51d38fae139ca9f",
      "metadata": {
        "collapsed": false
      },
      "source": [
        "# <font color=\"red\">*Pitch Your Project*</font>\n",
        "<font color=\"red\">In the three cells immediately following, describe **WHAT** you are \n",
        "planning to analyze for your final project (i.e., texts, contexts and the social game, \n",
        "world and actors you intend to learn about through your analysis) (<200 words), **WHY** \n",
        "you are going to do it (i.e., why would theory and/or the average person benefit from \n",
        "knowing the results of your investigation) (<200 words), and **HOW** you plan to investigate \n",
        "it (i.e., what are the approaches and operations you plan to perform, in sequence, to yield \n",
        "this insight) (<400 words).\n",
        "\n",
        "## ***What? (<200 words)***\n",
        "For our project, Chanteria Milner and I will analyze congressional and Supreme Court \n",
        "abortion-related legislation. Particularly for the congressional legislation, we will explore \n",
        "all legislation from 1973 until 2024. We sourced this legislation from the congress.gov \n",
        "legislation search, where we filtered for any legislation within this period that could \n",
        "have become bills and included the following keywords in the bill text or summary: \n",
        "'abortion,' 'reproduction,' or 'reproductive health care.' For the SCOTUS abortion \n",
        "legislation, we targeted SCOTUS decisions outlined on supreme.justia.com, which provides a \n",
        "list of abortion-relevant SCOTUS decisions from 1965-2022. Through this analysis, we \n",
        "plan to uncover the ways that the legislative abortion discourse has changed over time and \n",
        "the prominent congressional bills that have occurred throughout subsequent pieces of legislation. \n",
        "We will supplement this analysis with legislation in its political history by taking \n",
        "note of the political affiliations of congress members, SCOTUS justices, and the presidency.\n",
        "\n",
        "Chanteria Milner: [Link](https://github.com/chanteriam)\n",
        "Michael Plunkett: [Link](https://github.com/michplunkett)\\\n",
        "Congressional source: [Link](https://www.congress.gov/advanced-search/legislation?congressGroup%5B%5D=0&congresses%5B%5D=118&congresses%5B%5D=117&congresses%5B%5D=116&congresses%5B%5D=115&congresses%5B%5D=114&congresses%5B%5D=113&congresses%5B%5D=112&congresses%5B%5D=111&congresses%5B%5D=110&congresses%5B%5D=109&congresses%5B%5D=108&congresses%5B%5D=107&congresses%5B%5D=106&congresses%5B%5D=105&congresses%5B%5D=104&congresses%5B%5D=103&congresses%5B%5D=102&congresses%5B%5D=101&congresses%5B%5D=100&congresses%5B%5D=99&congresses%5B%5D=98&congresses%5B%5D=97&congresses%5B%5D=96&congresses%5B%5D=95&congresses%5B%5D=94&congresses%5B%5D=93&legislationNumbers=&restrictionType=field&restrictionFields%5B%5D=allBillTitles&restrictionFields%5B%5D=summary&summaryField=billSummary&enterTerms=%22reproductive+health+care%22%2C+%22reproduction%22%2C+%22abortion%22&legislationTypes%5B%5D=hr&legislationTypes%5B%5D=hjres&legislationTypes%5B%5D=s&legislationTypes%5B%5D=sjres&public=true&private=true&chamber=all&actionTerms=&legislativeActionWordVariants=true&dateOfActionOperator=equal&dateOfActionStartDate=&dateOfActionEndDate=&dateOfActionIsOptions=yesterday&dateOfActionToggle=multi&legislativeAction=Any&sponsorState=One&member=&sponsorTypes%5B%5D=sponsor&sponsorTypeBool=OR&dateOfSponsorshipOperator=equal&dateOfSponsorshipStartDate=&dateOfSponsorshipEndDate=&dateOfSponsorshipIsOptions=yesterday&committeeActivity%5B%5D=0&committeeActivity%5B%5D=3&committeeActivity%5B%5D=11&committeeActivity%5B%5D=12&committeeActivity%5B%5D=4&committeeActivity%5B%5D=2&committeeActivity%5B%5D=5&committeeActivity%5B%5D=9&satellite=null&search=&submitted=Submitted)\n",
        "SCOTUS source: [Link](https://supreme.justia.com/cases-by-topic/abortion-reproductive-rights/)\n",
        "\n",
        "## ***Why? (<200 words)***\n",
        "This analysis, in general, will give us an understanding of how abortion discourse has\n",
        "changed over time, and specifically, what arguments were used in the passing of the \n",
        "1973 Roe v. Wade decision--and with it, the assertion of the constitutional right to \n",
        "abortion and its eventual reversal in the 2022 Dobbs v. Jackson decision. \n",
        "From this, we will be able to uncover what political mechanisms were at play that \n",
        "enabled this regression in legislation, and how such significant cases went on to influence \n",
        "congressional legislation that followed. The average person will, in general, be able \n",
        "to understand how sensitive practices are discussed in the political sphere and what \n",
        "aspects in particular are targeted for protection or not. Moreover, this analysis \n",
        "will allow individuals who want to write reproductive healthcare legislation to \n",
        "understand what arguments are more likely to work over others within certain \n",
        "political contexts.\n",
        "\n",
        "## ***How? (<400 words)***\n",
        "\n",
        "\n",
        "## <font color=\"red\">*Pitch Your Sample*</font>\n",
        "<font color=\"red\">In the cell immediately following, describe the rationale behind \n",
        "your proposed sample design for your final project. What is the social game, social \n",
        "work, or social actors you about whom you are seeking to make inferences? What are \n",
        "its virtues with respect to your research questions? What are its limitations? What \n",
        "are alternatives? What would be a reasonable path to \"scale up\" your sample for \n",
        "further analysis (i.e., high-profile publication) beyond this class?.\n",
        "\n",
        "## ***Which words? (<300 words)***\n",
        "Starting in the early 1970s with the adoption of the Hyde Amendment, the amendment \n",
        "that prevented federal funding of abortions through Medicaid, anti-abortion advocates \n",
        "have attempted to reverse the Roe decision through a multitude of avenues. These efforts \n",
        "eventually culminated in the Dobbs v. Jackson decision in 2022. The elevation of the Dobbs \n",
        "v. Jackson case was not something that happened by random chance but instead was the result \n",
        "of decades of concerted efforts by anti-abortion advocates, think tanks, and political \n",
        "action committees. In our project, we intend to see how the social game of these groups \n",
        "probing for judicial vulnerabilities changed over time and the language that made up \n",
        "those attempts. The actors in this study are primarily the congressional legislators \n",
        "and supreme court justices, whom we will study via their decisions and proposed pieces \n",
        "of legislation, respectively. This analysis will give us a direct look into the \n",
        "terminology used to overturn Roe in its successful and unsuccessful cases.\n",
        "\n",
        "Our analysis in this project will undoubtedly give us some valuable insights, but it \n",
        "will not allow us to create the entire picture. The sources we are using only capture \n",
        "the result of the efforts made by anti-abortion advocates, etc. A more complete design \n",
        "of this analysis would take documents from conservative think tanks like the Heritage \n",
        "Foundation, Family Research Council, Moral Majority, etc. Taking in documents from \n",
        "these organizations and other similarly minded ones would give us insight into the \n",
        "documents upstream from the legislative and decision documents we're currently \n",
        "assessing. To scale this project up for a high-profile journal, we could get \n",
        "documents from those organizations listed and look for similarities between them \n",
        "and the documents we're currently examining to see the complete evolution of the \n",
        "language from its initial planning to attempts at federal implementation."
      ]
    },
    {
      "cell_type": "markdown",
      "id": "4566da9698fc4f8d",
      "metadata": {
        "collapsed": false
      },
      "source": [
        "## <font color=\"red\">*Exercise 1*</font>\n",
        "\n",
        "<font color=\"red\">Construct cells immediately below this that embed documents \n",
        "related to your final project using at least two different specification of \n",
        "`word2vec` and/or `fasttext`, and visualize them each with two separate \n",
        "visualization layout specifications (e.g., TSNE, PCA). Then interrogate \n",
        "critical word vectors within your corpus in terms of the most similar words, \n",
        "analogies, and other additions and subtractions that reveal the structure of \n",
        "similarity and difference within your semantic space. What does this pattern \n",
        "reveal about the semantic organization of words in your corpora? Which \n",
        "estimation and visualization specification generate the most insight and \n",
        "appear the most robustly supported and why?\n",
        "\n",
        "<font color=\"red\">***Stretch***: Explore different vector calculations \n",
        "beyond addition and subtraction, such as multiplication, division or some \n",
        "other function. What does this exploration reveal about the semantic \n",
        "structure of your corpus?"
      ]
    },
    {
      "cell_type": "code",
      "execution_count": 38,
      "id": "93678727b66d6836",
      "metadata": {
        "ExecuteTime": {
          "end_time": "2024-01-30T22:38:33.923103Z",
          "start_time": "2024-01-30T22:38:33.683070Z"
        },
        "collapsed": false
      },
      "outputs": [
        {
          "data": {
            "text/html": "<div>\n<style scoped>\n    .dataframe tbody tr th:only-of-type {\n        vertical-align: middle;\n    }\n\n    .dataframe tbody tr th {\n        vertical-align: top;\n    }\n\n    .dataframe thead th {\n        text-align: right;\n    }\n</style>\n<table border=\"1\" class=\"dataframe\">\n  <thead>\n    <tr style=\"text-align: right;\">\n      <th></th>\n      <th>legislation number</th>\n      <th>url</th>\n      <th>congress</th>\n      <th>title</th>\n      <th>date proposed</th>\n      <th>amends amendment</th>\n      <th>latest summary</th>\n      <th>congress_num</th>\n      <th>bill_type</th>\n      <th>bill_num</th>\n      <th>api_url</th>\n      <th>text_url</th>\n      <th>raw_text</th>\n      <th>cleaned_text</th>\n      <th>cleaned_summary</th>\n      <th>kmeans_predictions</th>\n      <th>fcluster_predictions</th>\n      <th>tokenized_text</th>\n      <th>normalized_tokens</th>\n      <th>reduced_tokens</th>\n    </tr>\n  </thead>\n  <tbody>\n    <tr>\n      <th>0</th>\n      <td>H.R. 2907</td>\n      <td>https://www.congress.gov/bill/118th-congress/h...</td>\n      <td>118th Congress (2023-2024)</td>\n      <td>Let Doctors Provide Reproductive Health Care Act</td>\n      <td>NaN</td>\n      <td>NaN</td>\n      <td>&lt;p&gt;&lt;strong&gt;Let Doctors Provide Reproductive H...</td>\n      <td>118</td>\n      <td>hr</td>\n      <td>2907</td>\n      <td>https://api.congress.gov/v3/bill/118/hr/2907/t...</td>\n      <td>https://www.congress.gov/118/bills/hr2907/BILL...</td>\n      <td>\\n[Congressional Bills 118th Congress]\\n[From ...</td>\n      <td>Congressional Bills 118th Congress From the U....</td>\n      <td>Let Doctors Provide Reproductive Health Care A...</td>\n      <td>29</td>\n      <td>2</td>\n      <td>[time, enforcement, or, protective, considerat...</td>\n      <td>[publishing, time, enforcement, protective, co...</td>\n      <td>[enforcement, consideration, specific, affecte...</td>\n    </tr>\n    <tr>\n      <th>1</th>\n      <td>S. 1297</td>\n      <td>https://www.congress.gov/bill/118th-congress/s...</td>\n      <td>118th Congress (2023-2024)</td>\n      <td>Let Doctors Provide Reproductive Health Care Act</td>\n      <td>NaN</td>\n      <td>NaN</td>\n      <td>&lt;p&gt;&lt;strong&gt;Let Doctors Provide Reproductive H...</td>\n      <td>118</td>\n      <td>s</td>\n      <td>1297</td>\n      <td>https://api.congress.gov/v3/bill/118/s/1297/te...</td>\n      <td>https://www.congress.gov/118/bills/s1297/BILLS...</td>\n      <td>\\n[Congressional Bills 118th Congress]\\n[From ...</td>\n      <td>Congressional Bills 118th Congress From the U....</td>\n      <td>Let Doctors Provide Reproductive Health Care A...</td>\n      <td>29</td>\n      <td>2</td>\n      <td>[Murphy, time, Hirono, enforcement, Welch, or,...</td>\n      <td>[publishing, time, van, enforcement, mrs, prot...</td>\n      <td>[enforcement, specific, affected, defined, sin...</td>\n    </tr>\n    <tr>\n      <th>2</th>\n      <td>H.R. 4901</td>\n      <td>https://www.congress.gov/bill/118th-congress/h...</td>\n      <td>118th Congress (2023-2024)</td>\n      <td>Reproductive Health Care Accessibility Act</td>\n      <td>NaN</td>\n      <td>NaN</td>\n      <td>&lt;p&gt;&lt;strong&gt;Reproductive Health Care Accessibi...</td>\n      <td>118</td>\n      <td>hr</td>\n      <td>4901</td>\n      <td>https://api.congress.gov/v3/bill/118/hr/4901/t...</td>\n      <td>https://www.congress.gov/118/bills/hr4901/BILL...</td>\n      <td>\\n[Congressional Bills 118th Congress]\\n[From ...</td>\n      <td>Congressional Bills 118th Congress From the U....</td>\n      <td>Reproductive Health Care Accessibility Act Thi...</td>\n      <td>7</td>\n      <td>2</td>\n      <td>[experience, g, Community, throughout, partici...</td>\n      <td>[publishing, experience, g, participating, tim...</td>\n      <td>[participating, tribes, centers, consideration...</td>\n    </tr>\n    <tr>\n      <th>3</th>\n      <td>S. 2544</td>\n      <td>https://www.congress.gov/bill/118th-congress/s...</td>\n      <td>118th Congress (2023-2024)</td>\n      <td>Reproductive Health Care Accessibility Act</td>\n      <td>NaN</td>\n      <td>NaN</td>\n      <td>&lt;p&gt;&lt;strong&gt;Reproductive Health Care Accessibi...</td>\n      <td>118</td>\n      <td>s</td>\n      <td>2544</td>\n      <td>https://api.congress.gov/v3/bill/118/s/2544/te...</td>\n      <td>https://www.congress.gov/118/bills/s2544/BILLS...</td>\n      <td>\\n[Congressional Bills 118th Congress]\\n[From ...</td>\n      <td>Congressional Bills 118th Congress From the U....</td>\n      <td>Reproductive Health Care Accessibility Act Thi...</td>\n      <td>7</td>\n      <td>2</td>\n      <td>[experience, 2544, g, Community, throughout, p...</td>\n      <td>[publishing, experience, g, participating, tim...</td>\n      <td>[participating, tribes, centers, consideration...</td>\n    </tr>\n    <tr>\n      <th>4</th>\n      <td>H.R. 4147</td>\n      <td>https://www.congress.gov/bill/118th-congress/h...</td>\n      <td>118th Congress (2023-2024)</td>\n      <td>Reproductive Health Care Training Act of 2023</td>\n      <td>NaN</td>\n      <td>NaN</td>\n      <td>None</td>\n      <td>118</td>\n      <td>hr</td>\n      <td>4147</td>\n      <td>https://api.congress.gov/v3/bill/118/hr/4147/t...</td>\n      <td>https://www.congress.gov/118/bills/hr4147/BILL...</td>\n      <td>\\n[Congressional Bills 118th Congress]\\n[From ...</td>\n      <td>Congressional Bills 118th Congress From the U....</td>\n      <td>None</td>\n      <td>0</td>\n      <td>2</td>\n      <td>[g, identification, minority, time, centers, o...</td>\n      <td>[improve, act, public, pensions, cited, publis...</td>\n      <td>[improve, establish, number, identification, p...</td>\n    </tr>\n  </tbody>\n</table>\n</div>",
            "text/plain": "  legislation number                                                url  \\\n0          H.R. 2907  https://www.congress.gov/bill/118th-congress/h...   \n1            S. 1297  https://www.congress.gov/bill/118th-congress/s...   \n2          H.R. 4901  https://www.congress.gov/bill/118th-congress/h...   \n3            S. 2544  https://www.congress.gov/bill/118th-congress/s...   \n4          H.R. 4147  https://www.congress.gov/bill/118th-congress/h...   \n\n                     congress  \\\n0  118th Congress (2023-2024)   \n1  118th Congress (2023-2024)   \n2  118th Congress (2023-2024)   \n3  118th Congress (2023-2024)   \n4  118th Congress (2023-2024)   \n\n                                              title  date proposed  \\\n0  Let Doctors Provide Reproductive Health Care Act            NaN   \n1  Let Doctors Provide Reproductive Health Care Act            NaN   \n2        Reproductive Health Care Accessibility Act            NaN   \n3        Reproductive Health Care Accessibility Act            NaN   \n4     Reproductive Health Care Training Act of 2023            NaN   \n\n   amends amendment                                     latest summary  \\\n0               NaN   <p><strong>Let Doctors Provide Reproductive H...   \n1               NaN   <p><strong>Let Doctors Provide Reproductive H...   \n2               NaN   <p><strong>Reproductive Health Care Accessibi...   \n3               NaN   <p><strong>Reproductive Health Care Accessibi...   \n4               NaN                                               None   \n\n   congress_num bill_type  bill_num  \\\n0           118        hr      2907   \n1           118         s      1297   \n2           118        hr      4901   \n3           118         s      2544   \n4           118        hr      4147   \n\n                                             api_url  \\\n0  https://api.congress.gov/v3/bill/118/hr/2907/t...   \n1  https://api.congress.gov/v3/bill/118/s/1297/te...   \n2  https://api.congress.gov/v3/bill/118/hr/4901/t...   \n3  https://api.congress.gov/v3/bill/118/s/2544/te...   \n4  https://api.congress.gov/v3/bill/118/hr/4147/t...   \n\n                                            text_url  \\\n0  https://www.congress.gov/118/bills/hr2907/BILL...   \n1  https://www.congress.gov/118/bills/s1297/BILLS...   \n2  https://www.congress.gov/118/bills/hr4901/BILL...   \n3  https://www.congress.gov/118/bills/s2544/BILLS...   \n4  https://www.congress.gov/118/bills/hr4147/BILL...   \n\n                                            raw_text  \\\n0  \\n[Congressional Bills 118th Congress]\\n[From ...   \n1  \\n[Congressional Bills 118th Congress]\\n[From ...   \n2  \\n[Congressional Bills 118th Congress]\\n[From ...   \n3  \\n[Congressional Bills 118th Congress]\\n[From ...   \n4  \\n[Congressional Bills 118th Congress]\\n[From ...   \n\n                                        cleaned_text  \\\n0  Congressional Bills 118th Congress From the U....   \n1  Congressional Bills 118th Congress From the U....   \n2  Congressional Bills 118th Congress From the U....   \n3  Congressional Bills 118th Congress From the U....   \n4  Congressional Bills 118th Congress From the U....   \n\n                                     cleaned_summary  kmeans_predictions  \\\n0  Let Doctors Provide Reproductive Health Care A...                  29   \n1  Let Doctors Provide Reproductive Health Care A...                  29   \n2  Reproductive Health Care Accessibility Act Thi...                   7   \n3  Reproductive Health Care Accessibility Act Thi...                   7   \n4                                               None                   0   \n\n   fcluster_predictions                                     tokenized_text  \\\n0                     2  [time, enforcement, or, protective, considerat...   \n1                     2  [Murphy, time, Hirono, enforcement, Welch, or,...   \n2                     2  [experience, g, Community, throughout, partici...   \n3                     2  [experience, 2544, g, Community, throughout, p...   \n4                     2  [g, identification, minority, time, centers, o...   \n\n                                   normalized_tokens  \\\n0  [publishing, time, enforcement, protective, co...   \n1  [publishing, time, van, enforcement, mrs, prot...   \n2  [publishing, experience, g, participating, tim...   \n3  [publishing, experience, g, participating, tim...   \n4  [improve, act, public, pensions, cited, publis...   \n\n                                      reduced_tokens  \n0  [enforcement, consideration, specific, affecte...  \n1  [enforcement, specific, affected, defined, sin...  \n2  [participating, tribes, centers, consideration...  \n3  [participating, tribes, centers, consideration...  \n4  [improve, establish, number, identification, p...  "
          },
          "execution_count": 38,
          "metadata": {},
          "output_type": "execute_result"
        }
      ],
      "source": [
        "# Load the congressional legislation\n",
        "congressional_leg_df = pd.read_feather(\"data/tokenized_congress_legislation.feather\")\n",
        "congressional_leg_df.head()"
      ]
    },
    {
      "cell_type": "code",
      "execution_count": 40,
      "id": "155bde5fb39bd815",
      "metadata": {
        "ExecuteTime": {
          "end_time": "2024-01-31T00:56:24.297620Z",
          "start_time": "2024-01-30T23:03:28.334378Z"
        },
        "collapsed": false
      },
      "outputs": [
        {
          "name": "stderr",
          "output_type": "stream",
          "text": [
            "  0%|          | 0/1243 [00:00<?, ?it/s]/Users/michaelp/Documents/GitHub/computational-content-analysis/.venv/lib/python3.11/site-packages/spacy/pipeline/lemmatizer.py:211: UserWarning: [W108] The rule-based lemmatizer did not find POS annotation for one or more tokens. Check that your pipeline includes components that assign token.pos, typically 'tagger'+'attribute_ruler' or 'morphologizer'.\n",
            "  warnings.warn(Warnings.W108)\n",
            "100%|\u2588\u2588\u2588\u2588\u2588\u2588\u2588\u2588\u2588\u2588| 1243/1243 [1:24:49<00:00,  4.09s/it]  \n"
          ]
        },
        {
          "data": {
            "text/plain": "(1243, 22)"
          },
          "execution_count": 40,
          "metadata": {},
          "output_type": "execute_result"
        }
      ],
      "source": [
        "# Since the tokenization process takes so much computational power/time, I put it\n",
        "# in a feather file to avoid the time when re-running this analysis.\n",
        "legislation_feather_path = \"data/fully_tokenized_congress_legislation.feather\"\n",
        "if os.path.isfile(legislation_feather_path):\n",
        "    congressional_leg_df = pd.read_feather(legislation_feather_path)\n",
        "else:\n",
        "    # WARNING: This step takes about 120 minutes, so don't run it unless you need to.\n",
        "    congressional_leg_df[\"tokenized_sentences\"] = congressional_leg_df[\n",
        "        \"cleaned_text\"\n",
        "    ].progress_apply(\n",
        "        lambda x: [\n",
        "            lucem_illud.word_tokenize(s, MAX_LEN=MAX_CHAR_LEN)\n",
        "            for s in lucem_illud.sent_tokenize(x)\n",
        "        ]\n",
        "    )\n",
        "    congressional_leg_df[\"normalized_sentences\"] = congressional_leg_df[\n",
        "        \"tokenized_sentences\"\n",
        "    ].apply(\n",
        "        lambda x: [\n",
        "            lucem_illud.normalizeTokens(s, lemma=False, MAX_LEN=MAX_CHAR_LEN) for s in x\n",
        "        ]\n",
        "    )\n",
        "    congressional_leg_df.to_feather(legislation_feather_path)\n",
        "\n",
        "congressional_leg_df.shape"
      ]
    },
    {
      "cell_type": "code",
      "execution_count": 41,
      "id": "3f9967b112522c4a",
      "metadata": {
        "ExecuteTime": {
          "end_time": "2024-01-31T00:57:47.995875Z",
          "start_time": "2024-01-31T00:57:29.424276Z"
        },
        "collapsed": false
      },
      "outputs": [],
      "source": [
        "# Load saved Word2Vec if it exists\n",
        "word2vec_file_path = \"data/congressional_leg_w2v\"\n",
        "if os.path.isfile(word2vec_file_path):\n",
        "    congressional_leg_w2v = gensim.models.word2vec.Word2Vec.load(word2vec_file_path)\n",
        "else:\n",
        "    congressional_leg_w2v = gensim.models.word2vec.Word2Vec(\n",
        "        congressional_leg_df[\"normalized_sentences\"].sum(), sg=0\n",
        "    )\n",
        "    congressional_leg_w2v.save(word2vec_file_path)"
      ]
    },
    {
      "cell_type": "code",
      "execution_count": 42,
      "id": "4203da894f0b734e",
      "metadata": {
        "ExecuteTime": {
          "end_time": "2024-01-31T00:58:03.037370Z",
          "start_time": "2024-01-31T00:58:02.951235Z"
        },
        "collapsed": false
      },
      "outputs": [
        {
          "data": {
            "text/plain": "[('gynecological', 0.5437756180763245),\n ('patients', 0.5378872752189636),\n ('obstetrician', 0.5100891590118408),\n ('obstetrical', 0.5008599162101746),\n ('patient', 0.49554017186164856),\n ('care', 0.48337480425834656),\n ('pediatric', 0.47294947504997253),\n ('osteoporosis', 0.47060659527778625),\n ('prenatal', 0.467769980430603),\n ('postpartum', 0.45360267162323)]"
          },
          "execution_count": 42,
          "metadata": {},
          "output_type": "execute_result"
        }
      ],
      "source": [
        "# Going to look at words commonly associated with abortion\n",
        "congressional_leg_w2v.wv.most_similar([\"abortion\", \"healthcare\", \"health\"])"
      ]
    },
    {
      "cell_type": "markdown",
      "id": "482b042438fb3b50",
      "metadata": {
        "collapsed": false
      },
      "source": [
        "## <font color=\"red\">*Exercise 2*</font>\n",
        "\n",
        "<font color=\"red\">Construct cells immediately below this that embed \n",
        "documents related to your final project using `doc2vec`, and explore \n",
        "the relationship between different documents and the word vectors you \n",
        "analyzed in the last exercise. Consider the most similar words to \n",
        "critical documents, analogies (doc _x_ + word _y_), and other additions \n",
        "and subtractions that reveal the structure of similarity and difference \n",
        "within your semantic space. What does this pattern reveal about the \n",
        "documentary organization of your semantic space?"
      ]
    },
    {
      "cell_type": "code",
      "execution_count": null,
      "id": "aec87aff1fdb9227",
      "metadata": {
        "ExecuteTime": {
          "start_time": "2024-01-30T22:23:40.096276Z"
        },
        "collapsed": false
      },
      "outputs": [],
      "source": []
    },
    {
      "cell_type": "markdown",
      "id": "a435785ab3cdea0c",
      "metadata": {
        "collapsed": false
      },
      "source": [
        "## <font color=\"red\">*Exercise 3*</font>\n",
        "\n",
        "<font color=\"red\">Construct cells immediately below this that embed \n",
        "documents related to your final project, then generate meaningful \n",
        "semantic dimensions based on your theoretical understanding of the \n",
        "semantic space (i.e., by subtracting semantically opposite word vectors) \n",
        "and project another set of word vectors onto those dimensions. Interpret \n",
        "the meaning of these projections for your analysis. Which of the dimensions \n",
        "you analyze explain the most variation in the projection of your words and why?\n",
        "\n",
        "<font color=\"red\">***Stretch***: Average together multiple antonym pairs to \n",
        "create robust semantic dimensions. How do word projections on these robust \n",
        "dimensions differ from single-pair dimensions?"
      ]
    },
    {
      "cell_type": "code",
      "execution_count": null,
      "id": "20ea25e14c576b54",
      "metadata": {
        "ExecuteTime": {
          "end_time": "2024-01-30T22:23:40.097193Z",
          "start_time": "2024-01-30T22:23:40.096998Z"
        },
        "collapsed": false
      },
      "outputs": [],
      "source": []
    },
    {
      "cell_type": "markdown",
      "id": "65cf97e6479b6d02",
      "metadata": {
        "collapsed": false
      },
      "source": [
        "## <font color=\"red\">*Exercise 4*</font>\n",
        "\n",
        "<font color=\"red\">Construct cells immediately below this that align \n",
        "word embeddings over time or across domains/corpora. Interrogate the \n",
        "spaces that result and ask which words changed most and least over the \n",
        "entire period or between contexts/corpora. What does this reveal about \n",
        "the social game underlying your space?"
      ]
    },
    {
      "cell_type": "code",
      "execution_count": null,
      "id": "a294e503edbfe9a9",
      "metadata": {
        "ExecuteTime": {
          "start_time": "2024-01-30T22:23:40.097639Z"
        },
        "collapsed": false
      },
      "outputs": [],
      "source": []
    }
  ],
  "metadata": {
    "kernelspec": {
      "display_name": "Python 3",
      "language": "python",
      "name": "python3"
    },
    "language_info": {
      "codemirror_mode": {
        "name": "ipython",
        "version": 2
      },
      "file_extension": ".py",
      "mimetype": "text/x-python",
      "name": "python",
      "nbconvert_exporter": "python",
      "pygments_lexer": "ipython2",
      "version": "2.7.6"
    }
  },
  "nbformat": 4,
  "nbformat_minor": 5
}
