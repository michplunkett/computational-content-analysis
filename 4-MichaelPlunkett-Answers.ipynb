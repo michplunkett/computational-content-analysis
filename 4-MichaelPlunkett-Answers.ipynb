{
  "cells": [
    {
      "cell_type": "code",
      "execution_count": null,
      "id": "initial_id",
      "metadata": {
        "collapsed": true
      },
      "outputs": [],
      "source": [
        "%matplotlib inline"
      ]
    },
    {
      "cell_type": "markdown",
      "id": "ad51258b5de373",
      "metadata": {
        "collapsed": false
      },
      "source": [
        "### Utility Functions"
      ]
    },
    {
      "cell_type": "code",
      "execution_count": null,
      "id": "9197e14fd95bf6d1",
      "metadata": {
        "collapsed": false
      },
      "outputs": [],
      "source": []
    },
    {
      "cell_type": "markdown",
      "id": "f51d38fae139ca9f",
      "metadata": {
        "collapsed": false
      },
      "source": [
        "## <font color=\"red\">*Pitch Your Project*</font>\n",
        "\n",
        "<font color=\"red\">In the three cells immediately following, describe **WHAT** you are \n",
        "planning to analyze for your final project (i.e., texts, contexts and the social game, \n",
        "world and actors you intend to learn about through your analysis) (<200 words), **WHY** \n",
        "you are going to do it (i.e., why would theory and/or the average person benefit from \n",
        "knowing the results of your investigation) (<200 words), and **HOW** you plan to investigate \n",
        "it (i.e., what are the approaches and operations you plan to perform, in sequence, to yield \n",
        "this insight) (<400 words).\n",
        "\n",
        "# ***What? (<200 words)***\n",
        "For our project, Chanteria Milner and I will analyze congressional and Supreme Court \n",
        "abortion-related legislation. Particularly for the congressional legislation, we will explore \n",
        "all legislation from 1973 until 2024. We sourced this legislation from the congress.gov \n",
        "legislation search, where we filtered for any legislation within this period that could \n",
        "have become bills and included the following keywords in the bill text or summary: \n",
        "'abortion,' 'reproduction,' or 'reproductive health care.' For the SCOTUS abortion \n",
        "legislation, we targeted SCOTUS decisions outlined on supreme.justia.com, which provides a \n",
        "list of abortion-relevant SCOTUS decisions from 1965-2022. Through this analysis, we \n",
        "plan to uncover the ways that the legislative abortion discourse has changed over time and \n",
        "the prominent congressional bills that have occurred throughout subsequent pieces of legislation. \n",
        "We will supplement this analysis with legislation in its political history by taking \n",
        "note of the political affiliations of congress members, SCOTUS justices, and the presidency.\n",
        "\n",
        "Chanteria Milner: [Link](https://github.com/chanteriam)\n",
        "Michael Plunkett: [Link](https://github.com/michplunkett)\\\n",
        "Congressional source: [Link](https://www.congress.gov/advanced-search/legislation?congressGroup%5B%5D=0&congresses%5B%5D=118&congresses%5B%5D=117&congresses%5B%5D=116&congresses%5B%5D=115&congresses%5B%5D=114&congresses%5B%5D=113&congresses%5B%5D=112&congresses%5B%5D=111&congresses%5B%5D=110&congresses%5B%5D=109&congresses%5B%5D=108&congresses%5B%5D=107&congresses%5B%5D=106&congresses%5B%5D=105&congresses%5B%5D=104&congresses%5B%5D=103&congresses%5B%5D=102&congresses%5B%5D=101&congresses%5B%5D=100&congresses%5B%5D=99&congresses%5B%5D=98&congresses%5B%5D=97&congresses%5B%5D=96&congresses%5B%5D=95&congresses%5B%5D=94&congresses%5B%5D=93&legislationNumbers=&restrictionType=field&restrictionFields%5B%5D=allBillTitles&restrictionFields%5B%5D=summary&summaryField=billSummary&enterTerms=%22reproductive+health+care%22%2C+%22reproduction%22%2C+%22abortion%22&legislationTypes%5B%5D=hr&legislationTypes%5B%5D=hjres&legislationTypes%5B%5D=s&legislationTypes%5B%5D=sjres&public=true&private=true&chamber=all&actionTerms=&legislativeActionWordVariants=true&dateOfActionOperator=equal&dateOfActionStartDate=&dateOfActionEndDate=&dateOfActionIsOptions=yesterday&dateOfActionToggle=multi&legislativeAction=Any&sponsorState=One&member=&sponsorTypes%5B%5D=sponsor&sponsorTypeBool=OR&dateOfSponsorshipOperator=equal&dateOfSponsorshipStartDate=&dateOfSponsorshipEndDate=&dateOfSponsorshipIsOptions=yesterday&committeeActivity%5B%5D=0&committeeActivity%5B%5D=3&committeeActivity%5B%5D=11&committeeActivity%5B%5D=12&committeeActivity%5B%5D=4&committeeActivity%5B%5D=2&committeeActivity%5B%5D=5&committeeActivity%5B%5D=9&satellite=null&search=&submitted=Submitted)\n",
        "SCOTUS source: [Link](https://supreme.justia.com/cases-by-topic/abortion-reproductive-rights/)\n",
        "\n",
        "## ***Why? (<200 words)***\n",
        "This analysis, in general, will give us an understanding of how abortion discourse has\n",
        "changed over time, and specifically, what arguments were used in the passing of the \n",
        "1973 Roe v. Wade decision--and with it, assertion of the constitutional right to \n",
        "abortion and its eventual reversal in the 2022 Dobbs v. Jackson decision. \n",
        "From this, we will be able to uncover what political mechanisms were at play that \n",
        "enabled this regression in legislation, and how such significant cases went on to influence \n",
        "congressional legislation that followed. The average person will, in general, be able \n",
        "to understand how sensitive practices are discussed in the political sphere and what \n",
        "aspects in particular are targeted for protection or not. Moreover, this analysis \n",
        "will allow individuals who want to write reproductive healthcare legislation to \n",
        "understand what arguments are more likely to work over others within certain \n",
        "political contexts.\n",
        "\n",
        "## ***How? (<400 words)***\n",
        "\n",
        "## <font color=\"red\">*Pitch Your Sample*</font>\n",
        "\n",
        "<font color=\"red\">In the cell immediately following, describe the rationale behind \n",
        "your proposed sample design for your final project. What is the social game, social \n",
        "work, or social actors you about whom you are seeking to make inferences? What are \n",
        "its virtues with respect to your research questions? What are its limitations? What \n",
        "are alternatives? What would be a reasonable path to \"scale up\" your sample for \n",
        "further analysis (i.e., high-profile publication) beyond this class? (<300 words).\n",
        "\n",
        "## ***Which words? (<300 words)***\n",
        "\n"
      ]
    },
    {
      "cell_type": "markdown",
      "id": "4566da9698fc4f8d",
      "metadata": {
        "collapsed": false
      },
      "source": [
        "## <font color=\"red\">*Exercise 1*</font>\n",
        "\n",
        "<font color=\"red\">Construct cells immediately below this that embed documents \n",
        "related to your final project using at least two different specification of \n",
        "`word2vec` and/or `fasttext`, and visualize them each with two separate \n",
        "visualization layout specifications (e.g., TSNE, PCA). Then interrogate \n",
        "critical word vectors within your corpus in terms of the most similar words, \n",
        "analogies, and other additions and subtractions that reveal the structure of \n",
        "similarity and difference within your semantic space. What does this pattern \n",
        "reveal about the semantic organization of words in your corpora? Which \n",
        "estimation and visualization specification generate the most insight and \n",
        "appear the most robustly supported and why?\n",
        "\n",
        "<font color=\"red\">***Stretch***: Explore different vector calculations \n",
        "beyond addition and subtraction, such as multiplication, division or some \n",
        "other function. What does this exploration reveal about the semantic \n",
        "structure of your corpus?"
      ]
    },
    {
      "cell_type": "code",
      "execution_count": null,
      "id": "93678727b66d6836",
      "metadata": {
        "collapsed": false
      },
      "outputs": [],
      "source": [
        "# Load the"
      ]
    },
    {
      "cell_type": "markdown",
      "id": "482b042438fb3b50",
      "metadata": {
        "collapsed": false
      },
      "source": [
        "## <font color=\"red\">*Exercise 2*</font>\n",
        "\n",
        "<font color=\"red\">Construct cells immediately below this that embed \n",
        "documents related to your final project using `doc2vec`, and explore \n",
        "the relationship between different documents and the word vectors you \n",
        "analyzed in the last exercise. Consider the most similar words to \n",
        "critical documents, analogies (doc _x_ + word _y_), and other additions \n",
        "and subtractions that reveal the structure of similarity and difference \n",
        "within your semantic space. What does this pattern reveal about the \n",
        "documentary organization of your semantic space?"
      ]
    },
    {
      "cell_type": "code",
      "execution_count": null,
      "id": "aec87aff1fdb9227",
      "metadata": {
        "collapsed": false
      },
      "outputs": [],
      "source": []
    },
    {
      "cell_type": "markdown",
      "id": "a435785ab3cdea0c",
      "metadata": {
        "collapsed": false
      },
      "source": [
        "## <font color=\"red\">*Exercise 3*</font>\n",
        "\n",
        "<font color=\"red\">Construct cells immediately below this that embed \n",
        "documents related to your final project, then generate meaningful \n",
        "semantic dimensions based on your theoretical understanding of the \n",
        "semantic space (i.e., by subtracting semantically opposite word vectors) \n",
        "and project another set of word vectors onto those dimensions. Interpret \n",
        "the meaning of these projections for your analysis. Which of the dimensions \n",
        "you analyze explain the most variation in the projection of your words and why?\n",
        "\n",
        "<font color=\"red\">***Stretch***: Average together multiple antonym pairs to \n",
        "create robust semantic dimensions. How do word projections on these robust \n",
        "dimensions differ from single-pair dimensions?"
      ]
    },
    {
      "cell_type": "code",
      "execution_count": null,
      "id": "20ea25e14c576b54",
      "metadata": {
        "collapsed": false
      },
      "outputs": [],
      "source": []
    },
    {
      "cell_type": "markdown",
      "id": "65cf97e6479b6d02",
      "metadata": {
        "collapsed": false
      },
      "source": [
        "## <font color=\"red\">*Exercise 4*</font>\n",
        "\n",
        "<font color=\"red\">Construct cells immediately below this that align \n",
        "word embeddings over time or across domains/corpora. Interrogate the \n",
        "spaces that result and ask which words changed most and least over the \n",
        "entire period or between contexts/corpora. What does this reveal about \n",
        "the social game underlying your space?"
      ]
    },
    {
      "cell_type": "code",
      "execution_count": null,
      "id": "a294e503edbfe9a9",
      "metadata": {
        "collapsed": false
      },
      "outputs": [],
      "source": []
    }
  ],
  "metadata": {
    "kernelspec": {
      "display_name": "Python 3",
      "language": "python",
      "name": "python3"
    },
    "language_info": {
      "codemirror_mode": {
        "name": "ipython",
        "version": 2
      },
      "file_extension": ".py",
      "mimetype": "text/x-python",
      "name": "python",
      "nbconvert_exporter": "python",
      "pygments_lexer": "ipython2",
      "version": "2.7.6"
    }
  },
  "nbformat": 4,
  "nbformat_minor": 5
}
