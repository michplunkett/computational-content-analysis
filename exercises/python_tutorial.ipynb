{
 "cells": [
  {
   "cell_type": "markdown",
   "metadata": {
    "id": "zrYbtVsTcTfP"
   },
   "source": [
    "## An (attempt at an) Introduction to Computational Social Science with Python\n",
    "\n",
    "- by Bhargav Srinivasa Desikan\n",
    "\n",
    "This tutorial was first conducted at PyCon India 2020 ([CFP](https://in.pycon.org/cfp/2020/proposals/python-for-computational-social-science-with-text-networks-and-clever-data-games~dyPPE/)).\n",
    "\n",
    "Computational Social Science is a broad, diverse field, and no tutorial, let alone Jupyter notebook, can claim to give a true introduction to the field: what we will attempt to do in this notebook is understand the _kinds_ of approaches one might be able to take when dealing with a variety of computational social science questions.\n",
    "\n",
    "What is Computational Social Science? It includes the academic sub-disciplines concerned with computational approaches (such as data scraping, data cleaning, machine learning, natural language processing and others) to various social science disciplines. Social science disciplines include Economics, Sociology, Psychology, Political Science, Anthropology, Cultural Studies (and sometimes History & Science-Technology-Society Studies). Examples of computational approaches to social science questions could be characterising tie forming in friendship groups, analysing tweets to identify sentiment towards political groups, modelling economies and their reactions to changes in policy, or identifying how words in a language change meaning over time.\n",
    "\n",
    "While the idea of computational social science is based in academia and research, we see usages of these ideas by big tech companies all the time: for example, when we see a friend or page suggestion on a social media website, or a movie recommendation on Netflix. In research, academic and experimental rigor is valued more than a business oriented approach, but the core ideas often remain the same.\n",
    "\n",
    "The computational paradigm has taken off due to a congruence of hardware (GPUs, TPUs), software (larger communities of open source software, increasingly sophisticated sophisticated software and environments), and large amounts of available social data. Social data can range from curated datasets we can find on kaggle or the UCI repository, or data we mine from reddit or twitter. Important aspects of Computational Social Science include choosing a right research question, studying the theoretical underpinnings associated with the questions, and setting up an experiment or mining data which might be able to appropriately address the question. Given that this is a tough expercise, and requires extensive academic coursework, I will be skipping the academic rigor, to instead explore the kinds of approaches and methods one might encounter in Computational Social Science research.\n",
    "\n",
    "How will this tutorial be useful to you? It will include basic examples of code with small datasets to illustrate a variety of methods often used in CSS research. This includes (and is not limited to) text analysis via Natural Language Processing and Computational Linguistics, network and graph oriented methods, and building classifiers and regression models trained on a variety of social data.\n",
    "\n",
    "Since it is difficult to represent all of these methods, I will only focus on a few, with a focus on NLP and CL, as these are the methods I have most experience in. We will then move on to network based methods, and finally move on to a combination of both text and networks. The tutorial will assume basic python knowledge but not much else: do not worry if some of the methods or ideas don't make sense yet. A lot of the words and ideas I have used in this tutorial have ample resources available if you wish to understand them, and you are also welcome to e-mail / tweet at me any questions you have and I will do my best to answer them. If you find yourself reproducing parts of this tutorial for your own work or tutorials, please do cite / shout-out / reference this original tutorial and page, thank you!"
   ]
  },
  {
   "cell_type": "markdown",
   "metadata": {
    "id": "33Nlv9eWcTfU"
   },
   "source": [
    "### Where do you find data? What is the correct dataset?\n",
    "\n",
    "This is an always challenging question. Really, it depends on the question you want to answer: there are a lot of considerations one must take when deciding if a dataset is the right one to answer your social science question. Since this tutorial would like to introduce a wide variety of methods, the dataset we choose has to be one which is ammenable to a variety of approaches: to that end, I have decided to use the script for the Indo-British film, _Bend it like Beckham_. Why this film? It's simply the last movie I watched, I enjoyed it watching it as a kid back in the early 2000s, and the movie also kicks _ass_. For those who may not have seen it, it was the story of how an Indian-British Punjabi girl, Jesminder (Jess) and her coming of age story of becoming a professional footballer. I have to apologize - SPOILERS! During the various methods we will be applying throughout the notebook, you might learn things about the movie you might have wanted to keep a surprise if you haven't seen it.\n",
    "\n",
    "I found the script of the movie through a simple google search, at https://www.swcs.com.au/bend.htm. Like you so far, I have no clue what to expect of the results of the analysis - we are going to try and use the data in its avaible form to create objects of analysis for us. Let is start by setting up some basic imports and reading the data, and thinking of useful representations.\n",
    "\n",
    "### Imports and Data\n",
    "\n",
    "Arguably the most important part of Computational Social Science is cleaning and organising the data. The following cells will have you follow me as I work to set up the best representations to analyse the dataset."
   ]
  },
  {
   "cell_type": "code",
   "execution_count": 1,
   "metadata": {
    "executionInfo": {
     "elapsed": 28847,
     "status": "ok",
     "timestamp": 1705075928119,
     "user": {
      "displayName": "Likun Cao",
      "userId": "01917344510473464948"
     },
     "user_tz": 360
    },
    "id": "_ShvTfj3cTfV"
   },
   "outputs": [],
   "source": [
    "import numpy as np\n",
    "import spacy\n",
    "import gensim\n",
    "import pandas as pd\n",
    "from google.colab import drive"
   ]
  },
  {
   "cell_type": "code",
   "execution_count": 2,
   "metadata": {
    "colab": {
     "base_uri": "https://localhost:8080/"
    },
    "executionInfo": {
     "elapsed": 17822,
     "status": "ok",
     "timestamp": 1705076472288,
     "user": {
      "displayName": "Likun Cao",
      "userId": "01917344510473464948"
     },
     "user_tz": 360
    },
    "id": "tsdFWBiIecda",
    "outputId": "26ffc0ef-8346-4ff9-b58f-30bb282d3973"
   },
   "outputs": [
    {
     "name": "stdout",
     "output_type": "stream",
     "text": [
      "Mounted at /content/drive\n"
     ]
    }
   ],
   "source": [
    "drive.mount(\"/content/drive\")"
   ]
  },
  {
   "cell_type": "code",
   "execution_count": 3,
   "metadata": {
    "executionInfo": {
     "elapsed": 233,
     "status": "ok",
     "timestamp": 1705076473532,
     "user": {
      "displayName": "Likun Cao",
      "userId": "01917344510473464948"
     },
     "user_tz": 360
    },
    "id": "D1AC_vk8cTfX"
   },
   "outputs": [],
   "source": [
    "txt = []"
   ]
  },
  {
   "cell_type": "code",
   "execution_count": 5,
   "metadata": {
    "executionInfo": {
     "elapsed": 553,
     "status": "ok",
     "timestamp": 1705076498714,
     "user": {
      "displayName": "Likun Cao",
      "userId": "01917344510473464948"
     },
     "user_tz": 360
    },
    "id": "n8r8-ZrscTfZ"
   },
   "outputs": [],
   "source": [
    "txtfile = open(\n",
    "    \"/content/drive/MyDrive/TA_file_2024_CCA/bend_it_like_beckham.txt\"\n",
    ")"
   ]
  },
  {
   "cell_type": "code",
   "execution_count": 6,
   "metadata": {
    "executionInfo": {
     "elapsed": 847,
     "status": "ok",
     "timestamp": 1705076502791,
     "user": {
      "displayName": "Likun Cao",
      "userId": "01917344510473464948"
     },
     "user_tz": 360
    },
    "id": "KTFqhSgicTfa"
   },
   "outputs": [],
   "source": [
    "for line in txtfile.readlines():\n",
    "    txt.append(line)"
   ]
  },
  {
   "cell_type": "code",
   "execution_count": 7,
   "metadata": {
    "colab": {
     "base_uri": "https://localhost:8080/"
    },
    "executionInfo": {
     "elapsed": 249,
     "status": "ok",
     "timestamp": 1705076504500,
     "user": {
      "displayName": "Likun Cao",
      "userId": "01917344510473464948"
     },
     "user_tz": 360
    },
    "id": "AGKvCO25cTfb",
    "outputId": "7cac2472-a3d1-4040-e1b1-64cc012789d7"
   },
   "outputs": [
    {
     "data": {
      "text/plain": [
       "[\"John: David Beckham gets the ball yet again for Manchester United. He's really taking responsibility every time they have possession. This is really a reflection of the way he's been playing and captaining England. He seems to have matured so much as a player He's dominating proceedings here but, hoping perhaps to get a bit more support as he gathers the ball on this right-hand touchline time after time. And the Old Trafford crowd warming now to the way Beckham is taking over, but the big questionmark here against Manchester United is, where is the goal going to come from to break down Anderlecht? Will it be Scholes? Could it possibly be Ryan Giggs? Would it possibly be Beckham himself who breaks through? Because Anderlecht are playing a very controlled game. This is Radzinski, testing the United defence, and Sylvestre here at left back possibly with a chance to break forward on the other flank. And there's the ball that Beckham really wants. Oh that looked like a body check there, but he shrugged off the defender. Still Beckham, plenty in the middle, It's a decent cross, and there is Bhamra. It's a fine header, and she's scored! Oh it's a goal by Jess Bhamra! A superb header here, beating the defender, and planting the ball beyond the goalkeeper's left hand. Jess Bhamra makes a name for herself at Old Trafford! And have we discovered a new star here, Gary Lineker?\\n\",\n",
       " \"Gary: That's right John. Could Jess Bhamra be the answer to England's prayers? Al?\\n\",\n",
       " '\\n',\n",
       " \"Alan: Oh, there's no denying the talent, Quick thinking, comfortable on the ball, vision and awareness - absolutely magnificent. Tell you what, I wish she was playing for Scotland!\\n\",\n",
       " '\\n',\n",
       " \"Gary: John, do you think England have found the player to relive their ' World Cup glory?\\n\",\n",
       " '\\n',\n",
       " \"John: Definitely Gary, I think we've definitely found the missing piece of the jigsaw and the best thing is, she's not even reached her peak yet.\\n\",\n",
       " '\\n',\n",
       " \"Gary: Ok thanks John. We're joined in the studio now by Jessie's mother, Mrs Bhamra. - Mrs Bhamra, you must be very proud of your daughter.\\n\",\n",
       " '\\n',\n",
       " \"Jess's Mother: - Not at all! She shouldn't be running around with all these men showing her bare legs to 70,000 people! She's bringing shame on the family. And you three shouldn't encourage her! Jesminder, you get back home now!\\n\",\n",
       " '\\n',\n",
       " \"Jess's Mother at the door: Jessminder, are you listening to me? Have you gone mad? Football, shootball! Your sister's getting engaged, and you're sitting here watching this skinhead boy!\\n\",\n",
       " '\\n',\n",
       " \"Jess: Mum, it's Beckham's corner!\\n\",\n",
       " '\\n',\n",
       " \"Jess's Mother: Come downstairs. Your sister's going crazy.\\n\",\n",
       " '\\n',\n",
       " \"Pinky: Mum, I haven't got all day, I've got to go! Mum, where are my keys? I can't find them anywhere.\\n\",\n",
       " '\\n',\n",
       " \"Jess: I'm sick of this wedding and it hasn't even started!\\n\",\n",
       " '\\n',\n",
       " \"Pinky: Can you hurry up. I'm telling you Mum, that girl is a first-class b****!\\n\",\n",
       " '\\n',\n",
       " \"Jess's Mother: - Pinky, you've got so many others!\\n\",\n",
       " '\\n',\n",
       " 'Pinky: - Yeah But now I need to get another one! - Will you get a flaming move on!\\n',\n",
       " '\\n',\n",
       " \"Jess: - What the hell's going on?\\n\",\n",
       " '\\n',\n",
       " \"Pinky: Get this yeah. Teet's bloody sister has gone and said she's wearing baby pink now. Stupid cow! I had matching accessories and everything!\\n\",\n",
       " '\\n',\n",
       " 'Jess: Mum, do I have to go shopping again?\\n',\n",
       " '\\n',\n",
       " \"Jess's Mother: My mother chose all my 21 dowry suits herself. I never once complained. You girls are too spoilt! Now don't forget my dhania. Four bunches for a pound. And more carrots. I'm making achar.\\n\",\n",
       " '\\n',\n",
       " \"Jess & Pinkie: Oh, Mum, don't do pickle as well!\\n\",\n",
       " '\\n',\n",
       " \"Jess's Mother: Am I asking you two to make it?!\\n\",\n",
       " '\\n',\n",
       " \"At Shop - Pinkie's friend: Hi, Pinks! Are you all right? What are doing here man? You haven't left everything to the last minute, have you?\\n\",\n",
       " '\\n',\n",
       " 'Pinkie: Yeah. One more day of freedom! - Where did you get your contacts?\\n',\n",
       " '\\n',\n",
       " \"Pinkie's friend: - Like 'em? Just thought they went with my hair innit.\\n\",\n",
       " '\\n',\n",
       " \"Pinkie: My fiance don't like dyed hair. Still can't stand chatting here all day. I got to go to Ealing for my facial. Laters!\\n\",\n",
       " '\\n',\n",
       " \"Pinkie's friends: Bye, Pinks. Laters.\\n\",\n",
       " '\\n',\n",
       " \"Pinkie: Stupid b****! Why did she get blue contacts? Now I can't wear mine can I?\\n\",\n",
       " '\\n',\n",
       " \"In another shop Jules: You're mad, I wouldn't be seen dead in that!\\n\",\n",
       " '\\n',\n",
       " \"Jules's' Mum: They're all the rage, poppet! You blow 'em up, just like a lilo. Look, this little pump comes free with it. Pop it in there in the valve, pump pump pump away, up it goes, then slip it back in there... ..and boom! Cleavage! They're perfect while you're still growing 'cause they lift you right there.\\n\",\n",
       " '\\n',\n",
       " \"Jules: - Mum! God, you're so embarrassing!\\n\",\n",
       " '\\n',\n",
       " \"Jules's Mum: - They make more of what you've got sweetheart. All the girls have bought one for their daughters. Well there's the Fleur, that's pretty, and the gel bra, that's a clever one - no pumping, it's already in there. Oh no sweetheart, not the sports bras! They're so plain! They don't enhance.\\n\",\n",
       " '\\n',\n",
       " \"Jules: - Well, no one's going to see them.\\n\",\n",
       " '\\n',\n",
       " \"Jules's Mum: - No, but it's not how they look, it's how they make you feel.\\n\",\n",
       " '\\n',\n",
       " 'Walking - Pinkie: I really like that lace lycra one.\\n',\n",
       " \"Uh-oh, there's your mate. Let's make this quick yeah and I hope your mate's mum wears a cardi over her three stomachs tomorrow!\\n\",\n",
       " '\\n',\n",
       " \"Jess: - Shut up! She's old.\\n\",\n",
       " '\\n',\n",
       " 'Pinkie: - So?\\n',\n",
       " '\\n',\n",
       " 'Tony: All right, Jess? Hiya, Pinky.\\n',\n",
       " '\\n',\n",
       " 'Pinkie and Jess: Sat sri akal Massi ji (Greetings Aunt)\\n',\n",
       " '\\n',\n",
       " \"Tony's Mum: May you have a long life, my daughters! - Every thing getting ready for tomorrow?\\n\",\n",
       " '\\n',\n",
       " \"Pinkie: - Yes, Massi ji. Mum's making samosas.\\n\",\n",
       " '\\n',\n",
       " \"Tony's Mum: May God keep you and your husband in endless happiness! And pray for me that I get a lovely daughter-in-law like you for my Tony.\\n\",\n",
       " '\\n',\n",
       " 'Pinkie: Aw, thank you, Massi ji! OK, bye!\\n',\n",
       " '\\n',\n",
       " 'Tony: - How was biology?\\n',\n",
       " '\\n',\n",
       " 'Jess: - Did you do the genetics one?\\n',\n",
       " '\\n',\n",
       " 'Tony: - Yeah the daughter was a carrier and then when she got married, she passed on the defective gene to her son.\\n',\n",
       " '\\n',\n",
       " \"Jess: - Yeah I got that, too. - I Hope I get my 2 A's and a B for uni.\\n\",\n",
       " '\\n',\n",
       " 'Pinkie: - Come on Jess!\\n',\n",
       " '\\n',\n",
       " 'Tony: - Going to the park later?\\n',\n",
       " '\\n',\n",
       " \"Jess: - Yeah I'll try.\\n\",\n",
       " '\\n',\n",
       " 'Pinkie and Jess: Sat sri akal Massi ji\\n',\n",
       " '\\n',\n",
       " 'After they leave - Tony: Mum!\\n',\n",
       " '\\n',\n",
       " 'Pinkie - walking: I found it! Come on, Jess!\\n',\n",
       " '\\n',\n",
       " 'Later at the Park - Soccer fellows: There you go! Over here!\\n',\n",
       " 'Rubbish! Come on, boys!\\n',\n",
       " \"You're such an idiot, man!\\n\",\n",
       " 'Tony: - Jess! Fancy a quick game?\\n',\n",
       " '\\n',\n",
       " \"Jess: - I can't. My mum's waiting, - my dad's on earlies at Heathrow.\\n\",\n",
       " '\\n',\n",
       " 'Tony: - Come on, we really need you! Come on! Come on!\\n',\n",
       " '\\n',\n",
       " 'Soccer fellows: Who does she think she is?\\n',\n",
       " 'Beckham or what?\\n',\n",
       " 'Can we chest it like him?\\n',\n",
       " '- You know, give it some bounce!\\n',\n",
       " '- Go on! Chest it!\\n',\n",
       " '- Did that hurt, pretty boy?\\n',\n",
       " '\\n',\n",
       " \"Back home in bedroom - Jess: I nearly scored from 25 yards today. Bent it and everything. I could have carried on playing all night. It's not fair that boys never have to come home and help. If I get an arranged marriage, would I get someone who'd let me play football whenever I wanted?\\n\",\n",
       " '\\n',\n",
       " \"Jess's Dad: Who were you talking to?\\n\",\n",
       " '\\n',\n",
       " 'Jess: No one, Dad.\\n',\n",
       " '\\n',\n",
       " \"Dad: OK, Biji along with her grandson are coming and staying in here for the wedding. Why don't you put a nice picture of beautiful sceneries - instead of this bald man?\\n\",\n",
       " '\\n',\n",
       " 'Jess: - Dad!\\n',\n",
       " '\\n',\n",
       " \"Jess's Dad: I'm going to change. Come and help me out, OK?\\n\",\n",
       " '\\n',\n",
       " 'Man at engagement party: - ..a beautiful Rolls Royce, you know?\\n',\n",
       " \"- I'll get one for your wedding, too, if you like.\\n\",\n",
       " \"Lady at engagement party: - It will be your turn soon, eh? Do you want a clean-shaven boy like your sister or a proper Sikh with a full beard and a turban? It's only our men that have a big engine and full M.O.T., eh?\\n\",\n",
       " '\\n',\n",
       " \"Mobile phones ring - Teet answers his: Nah, man, the alternator's gone on the Merc! Just do the carburettor on the Nissan. I told you not to bother me! It's my engagement, man!\\n\",\n",
       " '\\n',\n",
       " \"Jess's Dad: Switch it off.\\n\",\n",
       " '\\n',\n",
       " 'Later at Soccer field - Girls watching boys: - He is so tick, man!\\n',\n",
       " '- Innit, innit? I know!\\n',\n",
       " \"He's taking his shirt off!\\n\",\n",
       " 'A body like that should come with an X certificate warning!\\n',\n",
       " 'And a lifetime guarantee!\\n',\n",
       " '- Yeah, man! Call Jess!\\n',\n",
       " '- Oy, Jess!\\n',\n",
       " \"- Jess man, who's your friend with the gorgeous bod?\\n\",\n",
       " '- The one with the six-pack.\\n',\n",
       " '- If he looks at me, I really will faint!\\n',\n",
       " 'Jess: - What? Taz?\\n',\n",
       " '\\n',\n",
       " 'Girls: - Taz. His name?\\n',\n",
       " '- Look at that kick!\\n',\n",
       " 'He is so fly!\\n',\n",
       " 'That is fine. That is so fine!\\n',\n",
       " 'Soccer Boy to Tony: - Get your girlfriend, man!\\n',\n",
       " '\\n',\n",
       " 'Tony: - Jess!\\n',\n",
       " '\\n',\n",
       " \"Girls: Go on, Jess. Lover boy's calling you!\\n\",\n",
       " '\\n',\n",
       " \"Jess: Oh shut up. You know he's just my mate. We're not all slags like you lot!\\n\",\n",
       " '\\n',\n",
       " \"Girl 1: Ohhhhhhh. b****! Just 'cause she's still a V, man, she thinks she's better than us, innit!\\n\",\n",
       " '\\n',\n",
       " \"Girl 2: Yes, but at least she hasn't got off with half of Hounslow like you two!\\n\",\n",
       " \"Hey. Who's that gori watching her?\\n\",\n",
       " '\\n',\n",
       " \"Tony: Come on, Jess! All the way. It's all yours!\\n\",\n",
       " '\\n',\n",
       " 'After game - Jules: Hi. That was brilliant! Do you play for any side?\\n',\n",
       " '\\n',\n",
       " 'Soccer Boys: Yeah, like whose?\\n',\n",
       " 'Southall United Sari Squad?\\n',\n",
       " '\\n',\n",
       " \"Jules: I play for Hounslow Harriers Girls side. It's closed season at the moment, but we've got a summer tournament coming up. You should come along. Have a trial.\\n\",\n",
       " '\\n',\n",
       " \"Jess: - A trial? Think I'm good enough?\\n\",\n",
       " '\\n',\n",
       " \"Jules: - Yeah. Watched you a couple of times. You've gotten really good. It's up to our coach, but we could do with some new blood.\\n\",\n",
       " '\\n',\n",
       " \"Tony: - That's brilliant!\\n\",\n",
       " '\\n',\n",
       " 'Soccer Boys: - Do you swap shirts at the end of matches?\\n',\n",
       " 'And get in a big bath together?\\n',\n",
       " \"Where's the soap?\\n\",\n",
       " \"Yeah, it does, doesn't it lads?\\n\",\n",
       " \"Let's play football.\\n\",\n",
       " \"Jules: - I'm Jules.\\n\",\n",
       " '\\n',\n",
       " 'Jess: - Jess.\\n',\n",
       " '\\n',\n",
       " 'Later - Soccer Girl: Yes!\\n',\n",
       " '\\n',\n",
       " \"Coach: I want two groups of three in each group. Let's move! - How do you know she's serious. I haven't got time to piss around Jules.\\n\",\n",
       " '\\n',\n",
       " \"Jules: - She's got balls, Joe. - At least watch her.\\n\",\n",
       " '\\n',\n",
       " 'Jess: - Hi.\\n',\n",
       " '\\n',\n",
       " 'Coach: - Where do you normally play?\\n',\n",
       " '\\n',\n",
       " 'Jess: - In the park.\\n',\n",
       " '\\n',\n",
       " 'Coach: I mean what position?\\n',\n",
       " '\\n',\n",
       " 'Jess: Sorry! I usually play all over, but up front on the right is best.\\n',\n",
       " '\\n',\n",
       " 'Coach: - Get your boots on.\\n',\n",
       " '\\n',\n",
       " \"Jess: - I haven't got any.\\n\",\n",
       " '\\n',\n",
       " 'Coach: Right, join in. Start warming up.\\n',\n",
       " '\\n',\n",
       " 'Jess: - Where shall I put this?\\n',\n",
       " '\\n',\n",
       " 'Jules: - Put it over here.\\n',\n",
       " '\\n',\n",
       " 'Coach: Jesus!\\n',\n",
       " '\\n',\n",
       " 'Pass it to Jules!\\n',\n",
       " '\\n',\n",
       " 'Brilliant!\\n',\n",
       " '\\n',\n",
       " '- How did it feel out there?\\n',\n",
       " '\\n',\n",
       " 'Jess: - Really great!\\n',\n",
       " '\\n',\n",
       " \"Coach: I've never seen an Indian girl into football.\\n\",\n",
       " '\\n',\n",
       " \"Jess: - I didn't even know they had a girls' team here.\\n\",\n",
       " '\\n',\n",
       " \"Coach: - It's her fault. I used to play for the men's club, and she used to hang around here whining that there was no team for her to play on.\\n\",\n",
       " '\\n',\n",
       " \"Jules: I wasn't whining! Nah, there was nothing here for us girls. There was junior boys stuff, but when he busted his knee, he set up a girls' side, and he's been on my case ever since!\\n\",\n",
       " '\\n',\n",
       " \"Coach: See, they made me start at the bottom. You can't get much lower than her!\\n\",\n",
       " '\\n',\n",
       " \"Jules: You're so full of it! Nah, we get just as many trophies as the men's side do. So, does she pass?\\n\",\n",
       " '\\n',\n",
       " 'Coach: - Are your folks up for it?\\n',\n",
       " '\\n',\n",
       " \"Jess: - Yeah, they're cool.\\n\",\n",
       " '\\n',\n",
       " \"Coach: Suppose you'd better come back, then. I've got to go and open the bar. Some real work!\\n\",\n",
       " '\\n',\n",
       " 'Jules: - He likes you.\\n',\n",
       " '\\n',\n",
       " 'Jess: - You think so?\\n',\n",
       " '\\n',\n",
       " \"Jules: He asked you back, didn't he? - How long have you been playing?\\n\",\n",
       " '\\n',\n",
       " 'Jess: - For ages, but just in the park. - Nothing as serious as this.\\n',\n",
       " '\\n',\n",
       " \"Jules: - This, serious? It'll do for now. - I want to play professionally.\\n\",\n",
       " '\\n',\n",
       " 'Jess: - Wow! Can you do that? I mean, as a job, like.\\n',\n",
       " '\\n',\n",
       " \"Jules: Sure. Not really here, but you can in America. They've got a pro league with new stadiums and everything.\\n\",\n",
       " '\\n',\n",
       " 'Jess: Really?\\n',\n",
       " '\\n',\n",
       " \"Later on bed Jess: I can't believe it! It's a proper pitch with lights, corner flags, changing rooms... The coach likes me. He really knows his stuff. Must be gutted he can't play with his injury. Jules is so lucky! Her mum and dad must really support her to let her go all the way to America to play. I don't even know how to tell my mum and dad about Hounslow Harriers.\\n\",\n",
       " '\\n',\n",
       " \"Outside at Jules's house - Jules kicks ball in to pots:\\n\",\n",
       " '\\n',\n",
       " \"Jules's Dad: - Oops!\\n\",\n",
       " '\\n',\n",
       " \"Jules's Mum: - Oh, will you both pack it in! Look at the state of my fuchsias! Alan, when are you gonna realise you have a daughter with breasts, not a son?\\n\",\n",
       " '\\n',\n",
       " 'Jules: Mum.\\n',\n",
       " '\\n',\n",
       " \"Jules's Dad: - Paula, please!\\n\",\n",
       " '\\n',\n",
       " \"Jules's mum: - No boy's gonna want to go out with a girl - who's got bigger muscles than him!\\n\",\n",
       " '\\n',\n",
       " \"Jules's Dad: - Why don't you just leave her alone.\\n\",\n",
       " '\\n',\n",
       " \"Jules: - I'm not gonna give it up!\\n\",\n",
       " '\\n',\n",
       " \"Jules's mum: - I'm just saying. I saw that Kevin last night in the High Street with a blonde girl and it didn't look like they were talking about Match of the bleedin' Day either!\\n\",\n",
       " '\\n',\n",
       " 'Jules: Kevin can shag whoever he bloody wants!\\n',\n",
       " '\\n',\n",
       " \"Jules's mum: Honey, all I'm saying is there is a reason why Sporty Spice is the only one of them without a fella. - Sweetheart...\\n\",\n",
       " '\\n',\n",
       " \"Jules's Dad: - See what you've done. Why don't you just get off her flamin' back? If she's more interested in playing football right now than chasing boys, well quite frankly I'm over the moon about that.\\n\",\n",
       " '\\n',\n",
       " \"Later at the field Coach: They're a bit tatty, but they'll do the job.\\n\",\n",
       " '\\n',\n",
       " 'Jess: Thanks\\n',\n",
       " '\\n',\n",
       " \"Coach: And here's a kit. Don't be afraid to get it dirty.\\n\",\n",
       " '\\n',\n",
       " \"Jess: - Can't I not wear my tracksuit bottoms?\\n\",\n",
       " '\\n',\n",
       " 'Walking away Coach: - No.\\n',\n",
       " '\\n',\n",
       " 'Jess: Shit!\\n',\n",
       " '\\n',\n",
       " \"In Change room Jules: Jess, get changed over here. - You've met our captain, Mel.\\n\",\n",
       " '\\n',\n",
       " 'Jess: - Yeah, nice to meet you.\\n',\n",
       " '\\n',\n",
       " \"Mel: You're up for a proper match? Chiswick next. Best defensive record in the division. - They're due for a good stuffing.\\n\",\n",
       " '\\n',\n",
       " 'Jules: - Absolutely!\\n',\n",
       " '\\n',\n",
       " 'Mel: We need some pace up front. Jules could do with some decent service! Welcome to the Harriers.\\n',\n",
       " '\\n',\n",
       " 'Outside Coach: Jules, take over the warm-up.\\n',\n",
       " '\\n',\n",
       " 'Jules: Come on, girls, keep going! Heads up!\\n',\n",
       " '\\n',\n",
       " \"Coach: Jess, what's going on?\\n\",\n",
       " '\\n',\n",
       " \"Jess: Looks awful. - I can't wear shorts ever.\\n\",\n",
       " '\\n',\n",
       " \"Coach: - Jesus! That's a stunner! I thought I had a bad one on my knee but yours is gorgeous. Look, don't worry about it. No one's gonna care once you're out there. - What happened?\\n\",\n",
       " '\\n',\n",
       " \"Jess: - You don't want to know.\\n\",\n",
       " '\\n',\n",
       " \"Coach: Look... Two operations later and it's still useless. Yours affect your game?\\n\",\n",
       " '\\n',\n",
       " 'Jess: Nah, it looks awful. I was eight. My mum was working overtime at Heathrow and I was trying to cook beans on toast. When I jumped up to the grill to get the toast, my trousers caught alight, so my sister put me in the bath, poured cold water over me and pulled them off but half my skin came off, too.\\n',\n",
       " '\\n',\n",
       " 'Coach: Sorry.\\n',\n",
       " '\\n',\n",
       " 'Jess: I know. Put me off beans on toast for life.\\n',\n",
       " '\\n',\n",
       " \"Coach: Come on. Mine stopped me from playing outright, yours doesn't. - No more dawdling.\\n\",\n",
       " '\\n',\n",
       " 'Jess: - Sorry about your knee.\\n',\n",
       " '\\n',\n",
       " \"Coach: Yeah, yeah. I'm a right sob story, aren't I? Come on! I want to see some sweat on you!\\n\",\n",
       " '\\n',\n",
       " \"Song Playing: Well, she's all you'd ever want She's the kind they'd like to flaunt and take to dinner And she always knows her place She's got style, she's got grace She's a winner She's a lady! Oh, whoa, whoa, whoa She's a lady I'm talking about my little lady Oh, whoa, whoa, she's a lady! Lady! Well, she's a lady!\\n\",\n",
       " '\\n',\n",
       " 'Later Jess: - Hey, Tony!\\n',\n",
       " '\\n',\n",
       " 'Soccer boy: - Are you here for fantasy football?\\n',\n",
       " '\\n',\n",
       " 'Tony: - You look like a pro!\\n',\n",
       " '\\n',\n",
       " \"Jess: - It's brilliant. They're a top team - and the coach is ace.\\n\",\n",
       " '\\n',\n",
       " 'Tony: - Excellent!\\n',\n",
       " '\\n',\n",
       " \"Soccer boy: - What's that down your leg?\\n\",\n",
       " '\\n',\n",
       " \"Jess: - Haven't you seen a burn before?\\n\",\n",
       " '\\n',\n",
       " \"Soccer boy: - That's disgusting, man!\\n\",\n",
       " '\\n',\n",
       " 'Tony: - Back off, you w***er!\\n',\n",
       " '\\n',\n",
       " \"Jess: No, it's fine. At least I can still skin you alive!\\n\",\n",
       " \"Oh. The skill. The skill. The skill. That's not fair.\\n\",\n",
       " '\\n',\n",
       " \"Taz picks Jess up - Jess's Mum arrives:\\n\",\n",
       " '\\n',\n",
       " \"Later at home Jess's Mum: Chi Chi Chi. He was touching you all over! Put his hands on your bare legs! You're not a young girl any more! And showing the world your scar!\\n\",\n",
       " '\\n',\n",
       " \"Jess's Dad: Jessie, now that your sister has got engaged, it's different. - You know how people talk.\\n\",\n",
       " '\\n',\n",
       " \"Jess: - She's the one getting married, not me!\\n\",\n",
       " '\\n',\n",
       " \"Jess's Mum: I was married at your age! You don't even want to learn to cook dhal!\\n\",\n",
       " '\\n',\n",
       " \"Jess: - I'm not playing with boys any more.\\n\",\n",
       " '\\n',\n",
       " \"Jess's Mum: - Good! End of matter!\\n\",\n",
       " '\\n',\n",
       " \"Jess: I'm joining a girls' team, they want me to play in proper matches. The coach said I could go far.\\n\",\n",
       " '\\n',\n",
       " \"Jess's Mum: Go far? Go far to where? Jessie. We let you play all you wanted when you were young, huh? - You've played enough.\\n\",\n",
       " '\\n',\n",
       " \"Jess: - That's not fair! He selected me!\\n\",\n",
       " '\\n',\n",
       " \"Jess's Mum: He?! She said it was girls!\\n\",\n",
       " '\\n',\n",
       " 'Jess: - The coach, Joe.\\n',\n",
       " '\\n',\n",
       " \"Jess's Mum: - See how she lies? I don't want you running around half naked in front of men, huh? Look how dark you've become, playing in the sun!\\n\",\n",
       " '\\n',\n",
       " \"Jess: - But Mum, I'm really good!\\n\",\n",
       " '\\n',\n",
       " \"Jess's Mum: - What family will want a daughter-in-law who can run around kicking football all day but can't make round chapattis? Now exams are over, I want you to learn full Punjabi dinner, meat and vegetarian!\\n\",\n",
       " '\\n',\n",
       " 'Jess: - But, Dad!\\n',\n",
       " '\\n',\n",
       " \"Jess's Mum: - No! This is where you spoil her! No. This is how it started with your niece, the way that girl would answer back and then running off to become a model wearing small, small skirts!\\n\",\n",
       " '\\n',\n",
       " \"Jess: - She's a fashion designer!\\n\",\n",
       " '\\n',\n",
       " \"Jess's Mum: - She's divorced! that's what she is. Cast off after three years of being married to a white boy with blue hair! Her poor mother. She hasn't been able to set foot in that temple since. I don't want the shame on my family. That's it! No more football!\\n\",\n",
       " '\\n',\n",
       " \"Jess's Dad: Jessie, your mother is right. It's not nice. You must start behaving like a proper woman. OK?\\n\",\n",
       " '\\n',\n",
       " \"Later Jess: Out of order. Anything I want is just not Indian enough for 'em! I mean I never bunked off school to go at day like Binky or Bubbly. I don't wear make-up or tight clothes like them. - They just don't see all those things!\\n\",\n",
       " '\\n',\n",
       " 'Tony: - Parents never see the good things.\\n',\n",
       " '\\n',\n",
       " 'Jess: Anyone can cook aloo gobi, - but who can bend a ball like Beckham?\\n',\n",
       " '\\n',\n",
       " \"Tony: - Why don't you just play and not tell them, hm? Pinky's been sneaking off for years to see Teets. Now they're getting married nobody cares. What your parents don't know won't hurt.\\n\",\n",
       " '\\n',\n",
       " \"Jess: Why should I have to lie? It's not like I'm sleeping around with anyone!\\n\",\n",
       " '\\n',\n",
       " \"Jules: Jess! Hello! I thought I'd find you out here playing.\\n\",\n",
       " '\\n',\n",
       " 'Jess: This is Tony. Tony, this is Jules from the team.\\n',\n",
       " '\\n',\n",
       " 'Tony: Jess is well made up with your team.\\n',\n",
       " '\\n',\n",
       " \"Jules: We've got high hopes for her, especially me.\\n\",\n",
       " '\\n',\n",
       " \"Jess: My mum doesn't want me to play any more.\\n\",\n",
       " '\\n',\n",
       " \"Jules: That's bollocks! My mum's never wanted me to play. You just can't take no for an answer.\\n\",\n",
       " '\\n',\n",
       " \"Jess: Yeah, but my sister's getting married so Mum and Dad are totally stressed out. Anyway, I won't be able to get out of the house for training and matches.\\n\",\n",
       " '\\n',\n",
       " \"Jules: Come on, Jess. You can't leave me alone out there. Joe's got an American scout coming over. Anyway, don't worry about your mum. Just say you got a summer job. I could put in a good word for you at HMV with me. So... ..now we've got that sorted, you can show me what your fella can do or what!\\n\",\n",
       " '\\n',\n",
       " \"Jess: - Oh no, he's not my boyfriend!\\n\",\n",
       " '\\n',\n",
       " \"Tony: - I'm not her boyfriend!\\n\",\n",
       " '\\n',\n",
       " 'Jules: Jess, come on! You playing?\\n',\n",
       " '\\n',\n",
       " \"Next day Jess's Mum: Jessie! Breakfast!\\n\",\n",
       " '\\n',\n",
       " \"Jessie: Nah, I'm in a hurry!\\n\",\n",
       " '\\n',\n",
       " \"Jess's Mum: You can't go to work on an empty stomach.\\n\",\n",
       " '\\n',\n",
       " 'Pinkie: Where are my keys?\\n',\n",
       " '\\n',\n",
       " \"Jess's Mum: - Jessie!\\n\",\n",
       " '\\n',\n",
       " \"Jess: - No, I'm late, Mum. Bye!\\n\",\n",
       " '\\n',\n",
       " \"Song Playing: Hush now, child And don't you cry Your folks might understand you By and by Just move on up Towards your destination Though you may find From time to time Complications Bite your lip And take a trip Though there may be wet roads ahead And you cannot slip Just move on up For peace you will find Into the steeple of beautiful people Where there's only one kind So hush now, child And don't you cry Your folks might understand you By and by Move on up And keep on wishing Remember your dream is your only scheme So keep on pushing Just move on up Move on up!\\n\",\n",
       " '\\n',\n",
       " 'Pinkie: Get off me, man!\\n',\n",
       " '\\n',\n",
       " 'Teets: No one can see us.\\n',\n",
       " '\\n',\n",
       " \"Pinkie: Yeah? Mum! No, no, nothing, I'm just at work, innit? Yeah, I know Poli's coming round to do the suits. So Jess can get the tube, innit? Yeah, all right, I'll pick her up. I've got to go, Mum, someone's coming. Bye.\\n\",\n",
       " '\\n',\n",
       " \"Jess: Nah, my mum and dad ain't got a clue.\\n\",\n",
       " '\\n',\n",
       " \"Soccer Team Girl: - So, you mean they've no idea you've been playing all this time?\\n\",\n",
       " '\\n',\n",
       " 'Jess: - Nope.\\n',\n",
       " '\\n',\n",
       " 'Soccer Team Girl: - Where do they think you are?\\n',\n",
       " '\\n',\n",
       " \"Jess: - At work. They think I've got a job at HMV.\\n\",\n",
       " '\\n',\n",
       " \"Soccer Team Girl: - Blimey. That's not on.\\n\",\n",
       " '\\n',\n",
       " \"Jess: - Indian girls aren't supposed to play football!\\n\",\n",
       " '\\n',\n",
       " \"Soccer Team Girl: That's a bit backward innit?\\n\",\n",
       " '\\n',\n",
       " \"Jules: Yeah, but it ain't just an Indian thing is it. I mean, how many people come out and support us?\\n\",\n",
       " '\\n',\n",
       " 'Soccer Team Girl: So, are you like promised to someone then?\\n',\n",
       " '\\n',\n",
       " \"Jess: Nah. No way. My sister's getting married soon. It's a love match.\\n\",\n",
       " '\\n',\n",
       " \"Soccer Team Girl: - What's that mean?\\n\",\n",
       " '\\n',\n",
       " \"Jess: - It's not arranged.\\n\",\n",
       " '\\n',\n",
       " 'Soccer Team Girl: - So, you can choose, does that mean you can marry a white boy?\\n',\n",
       " '\\n',\n",
       " 'Jess: - White, no, black, definitely not, a Muslim, eh-eh!\\n',\n",
       " '\\n',\n",
       " \"Jules: - Guess you'll be marrying an Indian, then!\\n\",\n",
       " '\\n',\n",
       " 'Jess: - Probably.\\n',\n",
       " '\\n',\n",
       " 'Soccer Team Girl: - So how do any of you Indian girls put up with it?\\n',\n",
       " '\\n',\n",
       " \"Jess: - It's just culture. That's all. Better than sleeping around with boys you aren't going to end up marrying? What's the point in that?\\n\",\n",
       " '\\n',\n",
       " \"Soccer Team Girl: - That's the best bit!\\n\",\n",
       " '\\n',\n",
       " 'Soccer Team Girl: - Yeah, you should know!\\n',\n",
       " '\\n',\n",
       " 'Soccer Team Girl: Are you ready to go? See you slags later!\\n',\n",
       " '\\n',\n",
       " \"At Home Jess: It's only me. Mum, I'm really starving. I had to work through my lunch hour today.\\n\",\n",
       " '\\n',\n",
       " \"Jess's Mum: Where's Pinky? She was supposed to pick you up so you wouldn't be late for Poli. Pinky, why didn't you pick your sister up from work, huh?\\n\",\n",
       " '\\n',\n",
       " \"Pinky: I went but the manager said I'd just missed her.\\n\",\n",
       " '\\n',\n",
       " \"Jess's Mum: OK, ok, Poli's on her way. I'll make you girls some tea.\\n\",\n",
       " '\\n',\n",
       " 'Pinky: - Alright who is he, then?\\n',\n",
       " '\\n',\n",
       " 'Jess: - Who?\\n',\n",
       " '\\n',\n",
       " \"Pinky: You must think I've got shit for brains or something, lying about a job and all that!\\n\",\n",
       " '\\n',\n",
       " \"Jess: You can't say anything to Mum and Dad. I kept Teet a secret for you.\\n\",\n",
       " '\\n',\n",
       " \"Pinky: - He's not a Muslim, is he?\\n\",\n",
       " '\\n',\n",
       " \"Jess: - Ssh! Look, I've been playing football for a women's team.\\n\",\n",
       " '\\n',\n",
       " \"Pinky: Huh? It's worse than I thought!\\n\",\n",
       " '\\n',\n",
       " \"Jess: - It's a proper tournament. They're real matches!\\n\",\n",
       " '\\n',\n",
       " \"Pinky: - What is wrong with you, Jess? If you're going to go to all this bother lying, at least do it for something good! Don't you want a boyfriend like everyone else? You're quite pretty you know. Do something with your hair, put a bit of make-up on, you'd look all right.\\n\",\n",
       " '\\n',\n",
       " \"Jess's Mum: Leave her alone. I never wore make-up until after I was married. Jessie's a good girl now. She helped me wash the net curtains and she made lovely aloo gobi last week.\\n\",\n",
       " '\\n',\n",
       " 'Poli: Waist 25 ...under bust 28 ... - Bust...\\n',\n",
       " '\\n',\n",
       " \"Jess's Mum: - Eh, that's too tight and rude!\\n\",\n",
       " '\\n',\n",
       " \"Pinky: No, Mum, I want my choli more fitted. That's the style, innit?\\n\",\n",
       " '\\n',\n",
       " 'Poli: - Make it 34 and a half.\\n',\n",
       " '\\n',\n",
       " 'Pinky: - No, tighter!\\n',\n",
       " '\\n',\n",
       " 'Poli: - OK, 34!\\n',\n",
       " '\\n',\n",
       " \"Jess's Mum: - How are you going to breathe?\\n\",\n",
       " '- Jess.\\n',\n",
       " '\\n',\n",
       " 'Jess: Mum, why do I have to wear a sari? It will just fall down!\\n',\n",
       " '\\n',\n",
       " \"Jess's Mum: Your first sari is when you become a woman. Sari blouse and petticoat.\\n\",\n",
       " '\\n',\n",
       " 'Poli: - So...bust...31 ...\\n',\n",
       " '\\n',\n",
       " \"Jess: - No, that's too tight. I want it looser.\\n\",\n",
       " '\\n',\n",
       " \"Jess's Mum: Dressed in a sack, who's going to notice you, huh?\\n\",\n",
       " '\\n',\n",
       " \"Poli: Don't worry. In one of our designs, even these mosquito bites will look like juicy juicy mangoes! Under the bust, 27 . The waist, 27 .\\n\",\n",
       " '\\n',\n",
       " 'Jess: Mum, I need to buy different shoes to go with the sari and the suits.\\n',\n",
       " '\\n',\n",
       " 'Pinky: - Come again?\\n',\n",
       " '\\n',\n",
       " \"Jess's Mum: - She's coming into line now!\\n\",\n",
       " '\\n',\n",
       " 'Jess: I can pay for one pair from my wages. Can you give me some money for the other?\\n',\n",
       " '\\n',\n",
       " \"Jess's Mum: You need one black and one white to go with everything.\\n\",\n",
       " '\\n',\n",
       " \"Song Playing: I know I make mistakes I will have to live and learn Sometimes you play with fire And sometimes you get burned I have my dream to live Following that star It doesn 't matter how long it takes It doesn 't matter how far No time for make-believing And it's too late to turn back now Yeah, yeah, yeah I've been dreaming about it I can 't live without it I've got to find my own way I'm not changing my mind now Or looking behind now This is my Independence Day My Independence Day!\\n\",\n",
       " '\\n',\n",
       " \"Jess's Dad: - Can you change the channel, please?\\n\",\n",
       " '\\n',\n",
       " \"Jess's Mum: - It's nearly the end.\\n\",\n",
       " '\\n',\n",
       " \"Pinky: Mum, she's back!\\n\",\n",
       " '\\n',\n",
       " \"Jess's Mum: Jesminda, you've been gone all day for two pairs of shoes! Come here!\\n\",\n",
       " '\\n',\n",
       " \"Jess: It's not that late Mum. I was looking at other things too, like handbags.\\n\",\n",
       " '\\n',\n",
       " \"Pinky: - Let's see 'em!\\n\",\n",
       " '\\n',\n",
       " \"Jess: - Not yet. I'll put them on with the suits.\\n\",\n",
       " '\\n',\n",
       " \"Pinky: - Come on let me see 'em!\\n\",\n",
       " '\\n',\n",
       " 'Jess: Wait.\\n',\n",
       " '\\n',\n",
       " \"Jess's Mum: - You been smoking?\\n\",\n",
       " '\\n',\n",
       " 'Jess: - No!\\n',\n",
       " '\\n',\n",
       " \"Jess's Mum: - Chi Chi Chi Cigarette.\\n\",\n",
       " '\\n',\n",
       " \"Jess: I've never smoked. I had to go to the loo so I went into a pub with my friend. I had a coke. You can smell my breath!\\n\",\n",
       " '\\n',\n",
       " \"Jess's Dad: She might be right.\\n\",\n",
       " '\\n',\n",
       " \"Jess's Mum: These don't even have a heel! How will they fall nicely with your sari?\\n\",\n",
       " '\\n',\n",
       " \"Jess: I'll take them back. Give them back.\\n\",\n",
       " '\\n',\n",
       " \"Jess's Mum: Football shoes!\\n\",\n",
       " '\\n',\n",
       " \"Later at Soccer Training Jules: But you can't give 'em back.\\n\",\n",
       " '\\n',\n",
       " \"Jess: - I've got to get some proper shoes for the wedding now.\\n\",\n",
       " '\\n',\n",
       " \"Jules: - Oh, don't worry about it, come over to my house. I'll sort you out.\\n\",\n",
       " '\\n',\n",
       " 'Coach: Come on, girls! Wake up!\\n',\n",
       " '\\n',\n",
       " \"Jess: God! My mum had a fit when she saw the boots! And I smelt like a bleedin' ashtray! I had to clean all the big saucepans.\\n\",\n",
       " '\\n',\n",
       " 'Coach: Yak, yak! Jess! - Is everything all right?\\n',\n",
       " '\\n',\n",
       " 'Jess: - Yes, coach.\\n',\n",
       " '\\n',\n",
       " 'Coach: Training not getting in the way of your cozy little conversation?\\n',\n",
       " '\\n',\n",
       " 'Jess: - No, coach.\\n',\n",
       " '\\n',\n",
       " 'Coach: - Good. Then I want five more laps round the pitch! - Elbows to knees as you go!\\n',\n",
       " '\\n',\n",
       " 'Jules: - Joe, that is totally out of order!\\n',\n",
       " '\\n',\n",
       " \"Coach: Hey! I don't remember telling the rest of you to stop! Come on. Move it! You're doing very well. Just keep it up for another two minutes. Good, Mackie! Good, Sally! Excellent! Excellent! Jess! You can stop now! I said stop! You'll do yourself an injury!\\n\",\n",
       " '\\n',\n",
       " \"Jess: - No, I'm OK. I've just got one more lap.\\n\",\n",
       " '\\n',\n",
       " \"Coach: - I said stop! Come, let's have a look at you.\\n\",\n",
       " '\\n',\n",
       " \"Jess: - It's nothing!\\n\",\n",
       " '\\n',\n",
       " \"Coach: - Sit down. Let me decide if it's nothing. Why didn't you tell me you'd twisted it?\\n\",\n",
       " '\\n',\n",
       " \"Jess: I didn't want you to think I'm not as strong as the others.\\n\",\n",
       " '\\n',\n",
       " \"Coach: That's stupid, Jess. Look, my dad was my coach. And scouts kept telling him that I was too slight to play, so he kept pushing me. That's how I screwed my knee.\\n\",\n",
       " '\\n',\n",
       " 'Jess: Your dad made you?\\n',\n",
       " '\\n',\n",
       " \"Coach: I wanted to show him I wasn't soft, so I tried to play injured. - He was a bit of a bastard anyway.\\n\",\n",
       " '\\n',\n",
       " \"Jess: - You shouldn't say that about your dad.\\n\",\n",
       " '\\n',\n",
       " \"Coach: You don't know my dad. All right. Come on. Good. Now put your weight on me. There you are.\\n\",\n",
       " '\\n',\n",
       " \"Later at Jules's house getting shoes Jess: Oh, my God!\\n\",\n",
       " '\\n',\n",
       " \"Jules: Just give 'em back after the wedding. My mum loves those. She stuck the bows on herself.\\n\",\n",
       " '\\n',\n",
       " \"Jess: - Thanks. You sure she won't miss 'em?\\n\",\n",
       " '\\n',\n",
       " \"Jules: - Nah. Listen... I hope Joe wasn't too hard on you. Some of the girls think he's too strict.\\n\",\n",
       " '\\n',\n",
       " 'Jess: Oh no, he was really nice, just really professional.\\n',\n",
       " '\\n',\n",
       " \"Jules: I love that picture. It was just after we beat Millwall last year. You got to see this. It's wicked!\\n\",\n",
       " '\\n',\n",
       " 'T V Commentator: W.U.S.A. soccer!\\n',\n",
       " '\\n',\n",
       " 'Jess: -Wow!\\n',\n",
       " '\\n',\n",
       " \"Jules: W.U.S.A. Incredible. We don't have anything like that over here.\\n\",\n",
       " '\\n',\n",
       " 'T V Commentator: On the attack. Goal! Mia Hamm, world footballer of the year! Milbrett makes a run. She shoots! Goal! Tiffany Milbrett scores again! Lily strikes... Save! Brandi Chastain! Saved! Smith beats the keeper! Goal for Kelly Smith, the England international!\\n',\n",
       " '\\n',\n",
       " 'Jules: Anyway. When are you going to tell your parents about your game?\\n',\n",
       " '\\n',\n",
       " \"Jess: - Oh, I don't know.\\n\",\n",
       " '\\n',\n",
       " \"Jules: - You can't keep lying. You're too good.\\n\",\n",
       " '\\n',\n",
       " \"Jules's Mum: - Cooey!\\n\",\n",
       " '\\n',\n",
       " 'Jules: - Quick, hide the shoes!\\n',\n",
       " '\\n',\n",
       " \"Jules's Mum: - Sweetheart!\\n\",\n",
       " '\\n',\n",
       " \"Jules: - I'm up here, Mum.\\n\",\n",
       " '\\n',\n",
       " \"Jules's Mum: Oh, it's hot out there! Oh! Got company! - Hello, love.\\n\",\n",
       " '\\n',\n",
       " 'Jules: - Yeah, uh Mum, this is Jess.\\n',\n",
       " '\\n',\n",
       " \"Jules's Mum: Jess? Is that Indian?\\n\",\n",
       " '\\n',\n",
       " \"Jess: It's really Jesminder, but only my mum calls me that.\\n\",\n",
       " '\\n',\n",
       " \"Jules's Mum: Oh, that's nice. Jesmin-dah. Lovely! Now. Well, Jesmin-dah, I bet your room at home doesn't look like this eh! - With all these great big butch women on the wall!\\n\",\n",
       " '\\n',\n",
       " \"Jules: - Thank you, Mum, I'm not old like you!\\n\",\n",
       " '\\n',\n",
       " \"Jules's Mum: Jess, I hope you can teach my daughter a bit about your culture, including respect for elders and the like, eh? Cheeky madam! Well, Jess... You're a lucky girl aren't you? I expect your parents are fixing you up with a handsome young doctor soon aren't they? - Pretty girl like you...\\n\",\n",
       " '\\n',\n",
       " 'Jules: - Mum! Stop embarrassing yourself!\\n',\n",
       " '\\n',\n",
       " \"Jules's Mum: What? Just being friendly! You don't mind, do you, Jess love? Course not. Now, are you a friend from school or work?\\n\",\n",
       " '\\n',\n",
       " \"Jules: She's a footballer. She's on the team with me.\\n\",\n",
       " '\\n',\n",
       " 'Later hugging each other, shaking, laughing at bus stop Jules: \"Jesmin-dah\"! Did you see her face, though?!\\n',\n",
       " '\\n',\n",
       " 'Jess: - Juliet!\\n',\n",
       " '\\n',\n",
       " 'Jules: - Jesmin-dah! What WAS that?\\n',\n",
       " 'Jess: - Ohh!\\n',\n",
       " '\\n',\n",
       " 'Jules: - Are you all right?\\n',\n",
       " '\\n',\n",
       " 'Jess (still with twisted knee):\\n',\n",
       " '- Jesus! Oh!\\n',\n",
       " 'Jules... You know Joe, do you like him?\\n',\n",
       " '\\n',\n",
       " \"Jules: Nah, he'd get sacked if he was caught shagging one of his players.\\n\",\n",
       " '\\n',\n",
       " 'Jess: Really?\\n',\n",
       " '\\n',\n",
       " \"Jules: I just wish I could find a bloke just like him though, you know, that wasn't off limits. Everyone I know's a prat. They think girls can't play as well as them, except Joe, of course.\\n\",\n",
       " '\\n',\n",
       " 'Jess: Yeah, I hope I marry an Indian boy like him, too. - What?\\n',\n",
       " 'Shut up!\\n',\n",
       " '\\n',\n",
       " \"Later Teet's Dad: Look, we're not trying to cause trouble. We just felt it our duty to tell you.\\n\",\n",
       " '\\n',\n",
       " \"Jess's Dad: You know how hard it is for our children here. Sometimes they misjudge and start behaving like the kids here.\\n\",\n",
       " '\\n',\n",
       " \"Teet's Mum: All I know is that children are a map of their parents.\\n\",\n",
       " '\\n',\n",
       " \"Teet's parents leave. Pinky: - Stupid flippin' cow!\\n\",\n",
       " '\\n',\n",
       " \"Jess's Mum: - Ruined your sister's life!\\n\",\n",
       " '\\n',\n",
       " \"Pinky: - Happy now? - My whole wedding's been called off 'cause of you!\\n\",\n",
       " '\\n',\n",
       " 'Jess: - Me? Why?\\n',\n",
       " '\\n',\n",
       " \"Jess's Mum: - They saw you being filthy with an English boy!\\n\",\n",
       " '\\n',\n",
       " \"Jess: - They're lying. I wasn't with any English boy!\\n\",\n",
       " '\\n',\n",
       " 'Pinky: - They saw you today at a bus stop kissing him!\\n',\n",
       " \"Stupid b****. Why couldn't you do it in secret like everyone else?\\n\",\n",
       " '\\n',\n",
       " \"Jess: Kissing? Me? A boy?! - You're mad. You're all bloody mad!\\n\",\n",
       " '\\n',\n",
       " \"Jess's Dad: - Jesminder, don't use those swearing words!\\n\",\n",
       " '\\n',\n",
       " \"Jess: I was at the 120 bus stop today but with Juliet. My friend. She's a girl, and we weren't kissing or anything for God's sake!\\n\",\n",
       " '\\n',\n",
       " \"Jess's Dad: - Swear by Babaji.\\n\",\n",
       " '\\n',\n",
       " \"Jess: - I swear on Babaji's name.\\n\",\n",
       " '\\n',\n",
       " \"Jess's Mum: Sometimes these English girls have such short hair... You just can't tell. They must have made a mistake. His parents are just making an excuse. We were never good enough for them.\\n\",\n",
       " '\\n',\n",
       " \"Pinky: No Mum, It's all her fault. I bet she was with some dykey girl from her football team! She's still been playing you know!\\n\",\n",
       " '\\n',\n",
       " 'Jess: Pinky.\\n',\n",
       " '\\n',\n",
       " \"Pinky: She ain't got no job or nothing! She's been lying!\\n\",\n",
       " '\\n',\n",
       " \"Jess's Mum: Oh God, why did you give me two deceiving daughters? - What did I do wrong in my past life?\\n\",\n",
       " '\\n',\n",
       " \"Pinky: - But she's the one that's ruined my life!\\n\",\n",
       " '\\n',\n",
       " \"Jess's Mum: Don't think I didn't know that you were sneaking out with that good-for-nothing Teetu as well!\\n\",\n",
       " '\\n',\n",
       " 'Later with Teet in car Pinky: - Well, just talk to them, innit?\\n',\n",
       " '\\n',\n",
       " \"Teet: - I'll come and talk to your parents.\\n\",\n",
       " '\\n',\n",
       " \"Later Soccer Coach: Jules, come here to me. - Where's your mate?\\n\",\n",
       " '\\n',\n",
       " \"Jules: - I don't know.\\n\",\n",
       " '\\n',\n",
       " \"Coach: This is the second training session in a row she's missed. It's not like her. Did she say she was unhappy with anything?\\n\",\n",
       " '\\n',\n",
       " \"Jules: Her parents didn't know she was on the team. Maybe they found out.\\n\",\n",
       " '\\n',\n",
       " 'Coach: What? She told me her folks were up for it.\\n',\n",
       " '\\n',\n",
       " \"Jules: I've been telling her to tell them but she won't listen to me.\\n\",\n",
       " '\\n',\n",
       " \"Later at Jess's house Pinky: I'll get it! - Yeah?\\n\",\n",
       " '\\n',\n",
       " 'Coach: - Hello.\\n',\n",
       " '\\n',\n",
       " \"Coach having tea with them: Thanks, Jess. I'm sorry to barge in on you like this, Mr and Mrs Bhamra but I wanted to talk to you in person. I only found out today that you didn't know Jess was playing for us.\\n\",\n",
       " '\\n',\n",
       " \"Jess's Mum: No, we didn't.\\n\",\n",
       " '\\n',\n",
       " \"Coach: I apologise. If I'd known, I would have encouraged Jess to tell you because I believe she's got tremendous potential.\\n\",\n",
       " '\\n',\n",
       " \"Jess's Dad: I think we know better our daughter's potential. Jess has no time for games. - She'll be starting university soon.\\n\",\n",
       " '\\n',\n",
       " 'Jess: - But playing for the team is an honour!\\n',\n",
       " '\\n',\n",
       " \"Jess's Mum: What bigger honour is there - than respecting your elders?\\n\",\n",
       " '\\n',\n",
       " \"Jess's Dad: - Young man, when I was a teenager in Nairobi, I was the best fast bowler in our school. Our team even won the East African Cup. But when I came to this country, nothing. I was not allowed to play in any of the teams, and the bloody goras in their clubhouses made fun of my turban and sent me off packing!\\n\",\n",
       " '\\n',\n",
       " \"Coach: I'm sorry, Mr Bhamra... -..but now it's...\\n\",\n",
       " '\\n',\n",
       " \"Jess's Dad: - Now what? None of our boys are in any of the football leagues. You think they will let our girls? I don't want you to build up Jesminder's hopes. She will only end up disappointed like me.\\n\",\n",
       " '\\n',\n",
       " \"Jess: But Dad, it's all changing now. Look at Nasser Hussein He's captain of the England cricket team - and he's Asian.\\n\",\n",
       " '\\n',\n",
       " \"Jess's Mum: - Hussein's a Muslim name. Their families are different.\\n\",\n",
       " '\\n',\n",
       " 'Jess: Mum!\\n',\n",
       " '\\n',\n",
       " \"Later outside Coach: We've been invited to play in Germany this Saturday. - It's a shame you'll miss it.\\n\",\n",
       " '\\n',\n",
       " 'Jess: - Wow! Germany!\\n',\n",
       " '\\n',\n",
       " \"Coach: I can see what you're up against, but your parents don't always know what's best for you Jess.\\n\",\n",
       " '\\n',\n",
       " \"Later at Bus Mel: They're all here.\\n\",\n",
       " '\\n',\n",
       " \"Coach: They're all in, yeah? Shit!\\n\",\n",
       " '\\n',\n",
       " 'Pinky: - You know the score, yeah?\\n',\n",
       " '\\n',\n",
       " 'Jess: - Yeah, call them twice a day.\\n',\n",
       " '\\n',\n",
       " \"Pinky: Trust me man, I'm an expert. You take care alright. Laters.\\n\",\n",
       " '\\n',\n",
       " \"Jess: My sister's covering for me. - We're supposed to be staying at my cousin's at Croydon.\\n\",\n",
       " '\\n',\n",
       " \"Coach: - I didn't hear that!\\n\",\n",
       " '\\n',\n",
       " 'Song Playing: Atomic - Blondie Uh-huh, make me tonight Tonight Make it right Uh-huh, make me tonight Tonight Tonight Oh, oh-hoh, make it magnificent...\\n',\n",
       " '\\n',\n",
       " 'At the Game - Girls: - Jess!\\n',\n",
       " '- Cross it, Jess!\\n',\n",
       " 'Coach: - Good luck.\\n',\n",
       " 'Jules: - Go on, Jess, you can do this!\\n',\n",
       " '\\n',\n",
       " \"After the game at the hotel Jess: Yeah Mum, I'm fine, Pinky's fine. We're all cooking ah.\\n\",\n",
       " '\\n',\n",
       " 'Jules: - Pasta!\\n',\n",
       " '\\n',\n",
       " \"Jess: -..pasta! I'd better go... Pinky's burning it! Yeah Ok, say hi to Dad, yeah? OK. Bye, Mum.\\n\",\n",
       " '\\n',\n",
       " \"Jess's Mum: Good. They sound happy. Pinky will meet someone new and Jessie will forget all about this football nonsense.\\n\",\n",
       " '\\n',\n",
       " \"Jess's Dad: The dinner's ready? But let me wash up first.\\n\",\n",
       " '\\n',\n",
       " \"Seeing photo in newspaper Jess's Dad: Call her back in Croydon. I want to speak to them. - I said I want to speak to them!\\n\",\n",
       " '\\n',\n",
       " \"Jess's Mum: - OK, baba.\\n\",\n",
       " '\\n',\n",
       " \"Back in Germany Jess: Oh, I didn't bring anything for a club. I didn't know they wanted to take us clubbing. I bet it's to gloat!\\n\",\n",
       " '\\n',\n",
       " 'Jules: Mel? We need some help.\\n',\n",
       " '\\n',\n",
       " 'Soccer girls: Jess!\\n',\n",
       " 'Oh, wow! You look good!\\n',\n",
       " 'Mel: - Does she look good?\\n',\n",
       " \"Soccer girl: - Yeah! You've done a good job Mel!\\n\",\n",
       " \"Coach: Let's get a taxi.\\n\",\n",
       " 'At the Club Jules: Hello, darling!\\n',\n",
       " '\\n',\n",
       " \"Coach: - How's Jules?\\n\",\n",
       " '\\n',\n",
       " \"Jules: - I'm fine. How are you? - Are you gonna dance with me, then?\\n\",\n",
       " '\\n',\n",
       " 'Coach: - No.\\n',\n",
       " '\\n',\n",
       " \"Jules: Come on! You gonna dance with me! Oh, you're such a wuss!\\n\",\n",
       " '\\n',\n",
       " \"Jess: I'm sorry I missed that penalty, coach.\\n\",\n",
       " '\\n',\n",
       " \"Coach: It's OK. Losing to the Jerries on penalties comes natural to you English! You're part of a tradition now.\\n\",\n",
       " '\\n',\n",
       " \"Jules: Enough about football. Come on. You're dancing with me!\\n\",\n",
       " '\\n',\n",
       " 'Coach: - No!\\n',\n",
       " '\\n',\n",
       " 'Jess: - Go on!\\n',\n",
       " '\\n',\n",
       " \"Jules: I'm not taking no for an answer!\\n\",\n",
       " '\\n',\n",
       " \"Song Playing: I turn to you Like a flower leaning towards the sun I turn to you 'Cause you're the only one Who can turn me around When I'm upside down Down, down I turn to you I turn to you When my insides are racked with anxiety You have the touch that will quiet me You lift my spirit You melt the ice The ice, the ice When I need inspiration when I need advice I turn to you Like a flower leaning towards the sun I turn to you 'Cause you're the only one Who can turn me around...\\n\",\n",
       " '\\n',\n",
       " 'on Patio Coach: Jess! Whoa! Steady on there, young one! Are you all right? Are you sure?\\n',\n",
       " '\\n',\n",
       " \"Jess: Gosh! I only had a couple of wines! Oh, my head! - It's too smoky in there.\\n\",\n",
       " '\\n',\n",
       " 'Coach: - Yeah.\\n',\n",
       " '\\n',\n",
       " 'Song Playing: I wish I Could right now Wish that I could show you how...\\n',\n",
       " '\\n',\n",
       " \"Jess: That was so brilliant the way you came to my house. You were brave enough to face my mum! Your dad can't be as mad as her!\\n\",\n",
       " '\\n',\n",
       " \"Coach: Your mam's a barrel of laughs compared to me dad! I don't need to feel close to my family, Jess. I don't need you to feel sorry for me.\\n\",\n",
       " '\\n',\n",
       " 'Jess leans towards Coach - he responds as Jules comes out: You b****!\\n',\n",
       " '\\n',\n",
       " 'Coach whispers to himself: Shit - Jules.\\n',\n",
       " '\\n',\n",
       " 'Back Home Jess: Jules!\\n',\n",
       " '\\n',\n",
       " 'Mel: You right, Jess?\\n',\n",
       " 'Is that your mum and dad?\\n',\n",
       " 'Punjabi Song Playing:\\n',\n",
       " 'Jaania... Jaania...\\n',\n",
       " '(Translation My life... My life...)\\n',\n",
       " '\\n',\n",
       " \"Back in Jess's house Jess's Mum: What haven't we done for these girls, huh? We bought a car for Pinky. Jessie wanted computer, music centre, TV, video, huh?\\n\",\n",
       " '\\n',\n",
       " \"In Pinky's room Song Playing in the background:\\n\",\n",
       " 'Jaania... Haania... Jaania Haania Tu Vi Sikh Ke De Dukh Sukh Polna\\n',\n",
       " 'Tere Bin, Tere Bin Nahi Lagda Dil Mera Dholna\\n',\n",
       " '(Translation My life, my love...you too learn how to give happiness and sorrow\\n',\n",
       " 'Without you, my heart is not at peace without you my love)\\n',\n",
       " '\\n',\n",
       " 'Jess: Pinks... How do you know Teets is the one?\\n',\n",
       " '\\n',\n",
       " \"Pinky: I just know. When you're in love with someone, you'd do anything for that person.\\n\",\n",
       " '\\n',\n",
       " 'Jess: Pinks, do you think Mum and Dad would still speak to me if I ever brought home a gora?\\n',\n",
       " '\\n',\n",
       " 'Background song stops abruptly - Pinky: - Who?!\\n',\n",
       " '\\n',\n",
       " \"Jess: - No one. I'm just saying.\\n\",\n",
       " '\\n',\n",
       " \"Pinky: It's that coach bloke innit! I knew something was up when he turned up here!\\n\",\n",
       " '\\n',\n",
       " \"Jess: - No, nothing's happened.\\n\",\n",
       " '\\n',\n",
       " \"Pinky: - Well, you make sure it doesn't, all right? Look Jess, you can marry anyone you want. It's fine at first when you're in love and all that but do you really want to be the one that everyone stares at every family do because you married the English bloke?\\n\",\n",
       " '\\n',\n",
       " \"Jess: He's Irish.\\n\",\n",
       " '\\n',\n",
       " \"Pinky: Yeah well, they all look the bloody same to them, innit? Anyway, why go to so much grief when there's so many good-looking Indian boys to marry? It's not like before you know. Now they wear good clothes, got flashy jobs even know how to cook and wash up. How about Tony? He's been mad on you for ages!\\n\",\n",
       " '\\n',\n",
       " 'Later at club Coach: Jess?\\n',\n",
       " '\\n',\n",
       " 'Jess: Hi.\\n',\n",
       " '\\n',\n",
       " 'Coach: Hi.\\n',\n",
       " '\\n',\n",
       " 'Jess: Was that the club chairman?\\n',\n",
       " '\\n',\n",
       " \"Coach: Yeah. They told me they're considering me as assistant coach for the men's side next year.\\n\",\n",
       " '\\n',\n",
       " \"Jess: That's great! Congratulations.\\n\",\n",
       " '\\n',\n",
       " \"Coach: Probably won't get it. Better not to count on anything.\\n\",\n",
       " '\\n',\n",
       " 'Jess: Well, you deserve it. - Look, I really wanted to say...\\n',\n",
       " '\\n',\n",
       " \"Coach: - I've already forgotten about it.\\n\",\n",
       " '\\n',\n",
       " 'Jess: Yeah, good. Me, too.\\n',\n",
       " '\\n',\n",
       " \"Coach: Your mum and dad didn't look too pleased yesterday. I suppose you've come to tell me you're off the team for good?\\n\",\n",
       " '\\n',\n",
       " \"Jess: It's not fair. I feel like I'm either going to let the team down or really piss them off, and I don't want to upset anyone.\\n\",\n",
       " '\\n',\n",
       " 'Coach: Why are they so frightened to let you play?\\n',\n",
       " '\\n',\n",
       " 'Jess: They want to protect me.\\n',\n",
       " '\\n',\n",
       " 'Coach: From what?\\n',\n",
       " '\\n',\n",
       " 'Jess: This is taking me away from everything they know.\\n',\n",
       " '\\n',\n",
       " \"Coach: Whose life are you living, Jess? If you try pleasing 'em for ever, you're gonna end up blaming 'em.\\n\",\n",
       " '\\n',\n",
       " \"Jess: What, like you? - I'm sorry.\\n\",\n",
       " '\\n',\n",
       " \"Coach: - No, you're right. I stopped talking to my dad because we had nothing to talk about. Spent a year getting pissed trying to forget about the game, but I couldn't.\\n\",\n",
       " '\\n',\n",
       " \"Jess: But I can't just stop talking to them, like you.\\n\",\n",
       " '\\n',\n",
       " \"Coach: I don't talk to my dad because I know what he'd say. He'd piss himself if he found out I was coaching girls!\\n\",\n",
       " '\\n',\n",
       " \"Jess: Well how do you know that? How do you know that he wouldn't be proud that you didn't just give up? You should be proud of what you've given all of us.\\n\",\n",
       " '\\n',\n",
       " 'Coach: Then why are you giving up?\\n',\n",
       " '\\n',\n",
       " \"Later Jules's Mum: - Jesmin-dah, isn't it?\\n\",\n",
       " '\\n',\n",
       " 'Jess: - Jesminder.\\n',\n",
       " '\\n',\n",
       " \"Jules's Mum: Jesminder. Oh, yeah, I'm sorry. You know I cooked a lovely curry the other day! Oh, you still not up? Guess who's come to see you. It's your Indian friend, from football. Jules has been ever so down since you lost in Germany. Maybe you can cheer her up a bit, eh. Do you two want some tea? I've just made some cheese straws with real Gruyere.\\n\",\n",
       " '\\n',\n",
       " \"Jules: No, it's alright mum, Jess won't be staying long.\\n\",\n",
       " '\\n',\n",
       " \"Jules's Mum: Oh. Well...umm ..just give us a shout downstairs if there's anything you two fancy, all right?\\n\",\n",
       " '\\n',\n",
       " 'Jess: Look, Jules I feel really bad about what happened.\\n',\n",
       " '\\n',\n",
       " 'Jules: Yeah, well, you should.\\n',\n",
       " '\\n',\n",
       " \"Jess: I'm sorry. I don't want you to be in a strop with me.\\n\",\n",
       " '\\n',\n",
       " \"Jules: I'm not in a strop!\\n\",\n",
       " '\\n',\n",
       " \"Jess: Look, it was a mistake. I didn't know what I was doing!\\n\",\n",
       " '\\n',\n",
       " \"Jules: I can't believe you kissed him!\\n\",\n",
       " '\\n',\n",
       " ...]"
      ]
     },
     "execution_count": 7,
     "metadata": {},
     "output_type": "execute_result"
    }
   ],
   "source": [
    "txt"
   ]
  },
  {
   "cell_type": "markdown",
   "metadata": {
    "id": "tJdVnq5AcTfe"
   },
   "source": [
    "There: we now have each line from the movie (as well as it has been transcribed, at least: we do not know anything about the quality of the document) saved in a list."
   ]
  },
  {
   "cell_type": "code",
   "execution_count": 8,
   "metadata": {
    "colab": {
     "base_uri": "https://localhost:8080/"
    },
    "executionInfo": {
     "elapsed": 329,
     "status": "ok",
     "timestamp": 1705076508104,
     "user": {
      "displayName": "Likun Cao",
      "userId": "01917344510473464948"
     },
     "user_tz": 360
    },
    "id": "bSuiFflucTfe",
    "outputId": "b7f3a799-99ef-4cb9-c631-3edf42a60742"
   },
   "outputs": [
    {
     "data": {
      "text/plain": [
       "1619"
      ]
     },
     "execution_count": 8,
     "metadata": {},
     "output_type": "execute_result"
    }
   ],
   "source": [
    "len(txt)"
   ]
  },
  {
   "cell_type": "code",
   "execution_count": 9,
   "metadata": {
    "colab": {
     "base_uri": "https://localhost:8080/",
     "height": 144
    },
    "executionInfo": {
     "elapsed": 259,
     "status": "ok",
     "timestamp": 1705076521271,
     "user": {
      "displayName": "Likun Cao",
      "userId": "01917344510473464948"
     },
     "user_tz": 360
    },
    "id": "EgWqgSZxcTff",
    "outputId": "73977e13-5765-4c3b-92be-fa69d8423aeb"
   },
   "outputs": [
    {
     "data": {
      "application/vnd.google.colaboratory.intrinsic+json": {
       "type": "string"
      },
      "text/plain": [
       "\"John: David Beckham gets the ball yet again for Manchester United. He's really taking responsibility every time they have possession. This is really a reflection of the way he's been playing and captaining England. He seems to have matured so much as a player He's dominating proceedings here but, hoping perhaps to get a bit more support as he gathers the ball on this right-hand touchline time after time. And the Old Trafford crowd warming now to the way Beckham is taking over, but the big questionmark here against Manchester United is, where is the goal going to come from to break down Anderlecht? Will it be Scholes? Could it possibly be Ryan Giggs? Would it possibly be Beckham himself who breaks through? Because Anderlecht are playing a very controlled game. This is Radzinski, testing the United defence, and Sylvestre here at left back possibly with a chance to break forward on the other flank. And there's the ball that Beckham really wants. Oh that looked like a body check there, but he shrugged off the defender. Still Beckham, plenty in the middle, It's a decent cross, and there is Bhamra. It's a fine header, and she's scored! Oh it's a goal by Jess Bhamra! A superb header here, beating the defender, and planting the ball beyond the goalkeeper's left hand. Jess Bhamra makes a name for herself at Old Trafford! And have we discovered a new star here, Gary Lineker?\\n\""
      ]
     },
     "execution_count": 9,
     "metadata": {},
     "output_type": "execute_result"
    }
   ],
   "source": [
    "txt[0]"
   ]
  },
  {
   "cell_type": "code",
   "execution_count": 10,
   "metadata": {
    "colab": {
     "base_uri": "https://localhost:8080/",
     "height": 36
    },
    "executionInfo": {
     "elapsed": 232,
     "status": "ok",
     "timestamp": 1705076531792,
     "user": {
      "displayName": "Likun Cao",
      "userId": "01917344510473464948"
     },
     "user_tz": 360
    },
    "id": "wO63p20XcTfg",
    "outputId": "5b3664f8-7f92-48d6-ff08-30ca9acbf4bb"
   },
   "outputs": [
    {
     "data": {
      "application/vnd.google.colaboratory.intrinsic+json": {
       "type": "string"
      },
      "text/plain": [
       "\"Pinky: Can you hurry up. I'm telling you Mum, that girl is a first-class b****!\\n\""
      ]
     },
     "execution_count": 10,
     "metadata": {},
     "output_type": "execute_result"
    }
   ],
   "source": [
    "txt[23]"
   ]
  },
  {
   "cell_type": "code",
   "execution_count": 11,
   "metadata": {
    "colab": {
     "base_uri": "https://localhost:8080/",
     "height": 36
    },
    "executionInfo": {
     "elapsed": 234,
     "status": "ok",
     "timestamp": 1705076533693,
     "user": {
      "displayName": "Likun Cao",
      "userId": "01917344510473464948"
     },
     "user_tz": 360
    },
    "id": "GD9d5K5AcTfh",
    "outputId": "5e3c7fe0-b9ee-418a-a3f2-7a067674c9c2"
   },
   "outputs": [
    {
     "data": {
      "application/vnd.google.colaboratory.intrinsic+json": {
       "type": "string"
      },
      "text/plain": [
       "\"Jess's Mother: - Pinky, you've got so many others!\\n\""
      ]
     },
     "execution_count": 11,
     "metadata": {},
     "output_type": "execute_result"
    }
   ],
   "source": [
    "txt[25]"
   ]
  },
  {
   "cell_type": "markdown",
   "metadata": {
    "id": "Ojg_9yjPcTfh"
   },
   "source": [
    "Ok, so looking at these output examples starts to give us some hints. The first word of each text is usually the character's name, followed by a colon, and then the text. This gives us some ideas on how to parse this dataset. Let us probe what else is there in this dataset. Sentences without a colon might be associated with a song and commentary, so for now we will add it in our extras list."
   ]
  },
  {
   "cell_type": "code",
   "execution_count": 12,
   "metadata": {
    "executionInfo": {
     "elapsed": 266,
     "status": "ok",
     "timestamp": 1705076535691,
     "user": {
      "displayName": "Likun Cao",
      "userId": "01917344510473464948"
     },
     "user_tz": 360
    },
    "id": "8tr_qRudcTfh"
   },
   "outputs": [],
   "source": [
    "extras, texts = [], []"
   ]
  },
  {
   "cell_type": "code",
   "execution_count": 13,
   "metadata": {
    "executionInfo": {
     "elapsed": 10,
     "status": "ok",
     "timestamp": 1705076536770,
     "user": {
      "displayName": "Likun Cao",
      "userId": "01917344510473464948"
     },
     "user_tz": 360
    },
    "id": "IMRZfckScTfi"
   },
   "outputs": [],
   "source": [
    "character_counts = {}"
   ]
  },
  {
   "cell_type": "code",
   "execution_count": 14,
   "metadata": {
    "colab": {
     "base_uri": "https://localhost:8080/"
    },
    "executionInfo": {
     "elapsed": 271,
     "status": "ok",
     "timestamp": 1705076556647,
     "user": {
      "displayName": "Likun Cao",
      "userId": "01917344510473464948"
     },
     "user_tz": 360
    },
    "id": "UfTCPlMPcTfi",
    "outputId": "a25ec979-1365-4576-90dd-4c6f39d77e45"
   },
   "outputs": [
    {
     "name": "stderr",
     "output_type": "stream",
     "text": [
      "<>:5: SyntaxWarning: \"is not\" with a literal. Did you mean \"!=\"?\n",
      "<>:15: SyntaxWarning: \"is not\" with a literal. Did you mean \"!=\"?\n",
      "<>:5: SyntaxWarning: \"is not\" with a literal. Did you mean \"!=\"?\n",
      "<>:15: SyntaxWarning: \"is not\" with a literal. Did you mean \"!=\"?\n",
      "<ipython-input-14-1468148db7e7>:5: SyntaxWarning: \"is not\" with a literal. Did you mean \"!=\"?\n",
      "  if line is not \"\\n\":\n",
      "<ipython-input-14-1468148db7e7>:15: SyntaxWarning: \"is not\" with a literal. Did you mean \"!=\"?\n",
      "  if text is not \"\\n\":\n"
     ]
    }
   ],
   "source": [
    "for line in txt:\n",
    "    try:\n",
    "        character, text = line.split(\":\")\n",
    "    except ValueError:\n",
    "        if line is not \"\\n\":\n",
    "            extras.append(line)\n",
    "        continue\n",
    "\n",
    "    if character in character_counts:\n",
    "        character_counts[character] += 1\n",
    "\n",
    "    if character not in character_counts:\n",
    "        character_counts[character] = 1\n",
    "\n",
    "    if text is not \"\\n\":\n",
    "        texts.append(text)"
   ]
  },
  {
   "cell_type": "code",
   "execution_count": 15,
   "metadata": {
    "colab": {
     "base_uri": "https://localhost:8080/"
    },
    "executionInfo": {
     "elapsed": 361,
     "status": "ok",
     "timestamp": 1705076569612,
     "user": {
      "displayName": "Likun Cao",
      "userId": "01917344510473464948"
     },
     "user_tz": 360
    },
    "id": "lxkdhwrdcTfi",
    "outputId": "7bf0ad3c-a1d0-41cf-a3ac-084d35144000"
   },
   "outputs": [
    {
     "data": {
      "text/plain": [
       "[\"Uh-oh, there's your mate. Let's make this quick yeah and I hope your mate's mum wears a cardi over her three stomachs tomorrow!\\n\",\n",
       " 'Rubbish! Come on, boys!\\n',\n",
       " \"You're such an idiot, man!\\n\",\n",
       " 'Beckham or what?\\n',\n",
       " 'Can we chest it like him?\\n',\n",
       " '- You know, give it some bounce!\\n',\n",
       " '- Go on! Chest it!\\n',\n",
       " '- Did that hurt, pretty boy?\\n',\n",
       " \"- I'll get one for your wedding, too, if you like.\\n\",\n",
       " '- Innit, innit? I know!\\n',\n",
       " \"He's taking his shirt off!\\n\",\n",
       " 'A body like that should come with an X certificate warning!\\n',\n",
       " 'And a lifetime guarantee!\\n',\n",
       " '- Yeah, man! Call Jess!\\n',\n",
       " '- Oy, Jess!\\n',\n",
       " \"- Jess man, who's your friend with the gorgeous bod?\\n\",\n",
       " '- The one with the six-pack.\\n',\n",
       " '- If he looks at me, I really will faint!\\n',\n",
       " '- Look at that kick!\\n',\n",
       " 'He is so fly!\\n',\n",
       " 'That is fine. That is so fine!\\n',\n",
       " \"Hey. Who's that gori watching her?\\n\",\n",
       " 'Southall United Sari Squad?\\n',\n",
       " 'And get in a big bath together?\\n',\n",
       " \"Where's the soap?\\n\",\n",
       " \"Yeah, it does, doesn't it lads?\\n\",\n",
       " \"Let's play football.\\n\",\n",
       " 'Pass it to Jules!\\n',\n",
       " 'Brilliant!\\n',\n",
       " '- How did it feel out there?\\n',\n",
       " \"Oh. The skill. The skill. The skill. That's not fair.\\n\",\n",
       " '- Jess.\\n',\n",
       " '- Jesus! Oh!\\n',\n",
       " 'Jules... You know Joe, do you like him?\\n',\n",
       " 'Shut up!\\n',\n",
       " \"Stupid b****. Why couldn't you do it in secret like everyone else?\\n\",\n",
       " '- Cross it, Jess!\\n',\n",
       " 'Oh, wow! You look good!\\n',\n",
       " 'Is that your mum and dad?\\n',\n",
       " 'Jaania... Jaania...\\n',\n",
       " '(Translation My life... My life...)\\n',\n",
       " 'Jaania... Haania... Jaania Haania Tu Vi Sikh Ke De Dukh Sukh Polna\\n',\n",
       " 'Tere Bin, Tere Bin Nahi Lagda Dil Mera Dholna\\n',\n",
       " '(Translation My life, my love...you too learn how to give happiness and sorrow\\n',\n",
       " 'Without you, my heart is not at peace without you my love)\\n',\n",
       " 'Check out the boobs on the captain!\\n',\n",
       " 'Jeez, man, they must get in the way!\\n',\n",
       " \"She's lucky she ain't knocked herself out running up and down the pitch with them!\\n\",\n",
       " 'Come on! Move it!\\n',\n",
       " 'Down one-nil. Come on!\\n',\n",
       " 'Over here! Over here! Come on!\\n',\n",
       " 'Go on, Jess!\\n',\n",
       " 'Jules! Over! Jules!\\n',\n",
       " 'Come on, Harriers!\\n',\n",
       " 'Go on! Go on!\\n',\n",
       " \"You haven't seen any of it, have ya?\\n\",\n",
       " \"It's out of order!\\n\",\n",
       " 'Oh, man! Unlucky, Tony, mate!\\n',\n",
       " '(then in phone) No, that was not for you.\\n',\n",
       " '..Jess....A-level results...\\n',\n",
       " 'Eyes down! Look sad!\\n',\n",
       " \"Don't smile! Indian brides never smile.\\n\",\n",
       " \"You'll ruin the bloody video!\\n\",\n",
       " '- She looks like a jar of bloody Ragu, innit?\\n',\n",
       " 'One-all!\\n',\n",
       " 'Il nome suo nessun sapra\\n',\n",
       " 'E noi dovrem ahime, morir, morir\\n',\n",
       " 'Dilegua, o notte!\\n',\n",
       " 'Tramontate, stelle!\\n',\n",
       " 'Tramontate, stelle!\\n',\n",
       " \"All'alba vincero! Vincero! Vincero! Vincero!\\n\",\n",
       " \"You're doing it wrong. Round that way.\\n\",\n",
       " 'Tuck it in. Tuck it in.\\n',\n",
       " \"You've got your shorts on.\\n\",\n",
       " 'Where does that bit go?\\n',\n",
       " 'Lift your leg up.\\n',\n",
       " 'Hmm?\\n',\n",
       " 'Get your lesbian feet out of my shoes!\\n',\n",
       " '- Why was she talking about kissing?\\n',\n",
       " \"It's so hard when young girls have such short hair.\\n\",\n",
       " \"Why did she take Jesminder's shoes?\\n\",\n",
       " 'Jess slowly shakes her head\\n',\n",
       " 'They kiss\\n']"
      ]
     },
     "execution_count": 15,
     "metadata": {},
     "output_type": "execute_result"
    }
   ],
   "source": [
    "extras"
   ]
  },
  {
   "cell_type": "markdown",
   "metadata": {
    "id": "Vly1_TShcTfi"
   },
   "source": [
    "A quick look at the list confirms our hypothesis. Lets now see what characters we find:"
   ]
  },
  {
   "cell_type": "code",
   "execution_count": 16,
   "metadata": {
    "colab": {
     "base_uri": "https://localhost:8080/"
    },
    "executionInfo": {
     "elapsed": 250,
     "status": "ok",
     "timestamp": 1705076581941,
     "user": {
      "displayName": "Likun Cao",
      "userId": "01917344510473464948"
     },
     "user_tz": 360
    },
    "id": "idh_z6gocTfi",
    "outputId": "fec816f6-9854-4cab-f003-01d952690bf1"
   },
   "outputs": [
    {
     "data": {
      "text/plain": [
       "{'John': 2,\n",
       " 'Gary': 3,\n",
       " 'Alan': 1,\n",
       " \"Jess's Mother\": 5,\n",
       " \"Jess's Mother at the door\": 1,\n",
       " 'Jess': 191,\n",
       " 'Pinky': 37,\n",
       " 'Jess & Pinkie': 1,\n",
       " \"At Shop - Pinkie's friend\": 1,\n",
       " 'Pinkie': 10,\n",
       " \"Pinkie's friend\": 1,\n",
       " \"Pinkie's friends\": 1,\n",
       " 'In another shop Jules': 1,\n",
       " \"Jules's' Mum\": 1,\n",
       " 'Jules': 89,\n",
       " \"Jules's Mum\": 29,\n",
       " 'Walking - Pinkie': 1,\n",
       " 'Tony': 35,\n",
       " 'Pinkie and Jess': 2,\n",
       " \"Tony's Mum\": 2,\n",
       " 'After they leave - Tony': 1,\n",
       " 'Pinkie - walking': 1,\n",
       " 'Later at the Park - Soccer fellows': 1,\n",
       " 'Soccer fellows': 1,\n",
       " 'Back home in bedroom - Jess': 1,\n",
       " \"Jess's Dad\": 38,\n",
       " 'Dad': 1,\n",
       " 'Man at engagement party': 1,\n",
       " 'Lady at engagement party': 1,\n",
       " 'Mobile phones ring - Teet answers his': 1,\n",
       " 'Later at Soccer field - Girls watching boys': 1,\n",
       " 'Girls': 2,\n",
       " 'Soccer Boy to Tony': 1,\n",
       " 'Girl 1': 1,\n",
       " 'Girl 2': 1,\n",
       " 'After game - Jules': 1,\n",
       " 'Soccer Boys': 2,\n",
       " 'Later - Soccer Girl': 1,\n",
       " 'Coach': 80,\n",
       " 'Later on bed Jess': 1,\n",
       " \"Outside at Jules's house - Jules kicks ball in to pots\": 1,\n",
       " \"Jules's Dad\": 17,\n",
       " \"Jules's mum\": 3,\n",
       " 'Later at the field Coach': 1,\n",
       " 'Walking away Coach': 1,\n",
       " 'In Change room Jules': 1,\n",
       " 'Mel': 7,\n",
       " 'Outside Coach': 1,\n",
       " 'Song Playing': 15,\n",
       " 'Later Jess': 3,\n",
       " 'Soccer boy': 3,\n",
       " \"Taz picks Jess up - Jess's Mum arrives\": 1,\n",
       " \"Later at home Jess's Mum\": 1,\n",
       " \"Jess's Mum\": 52,\n",
       " \"Next day Jess's Mum\": 1,\n",
       " 'Jessie': 1,\n",
       " 'Teets': 1,\n",
       " 'Soccer Team Girl': 11,\n",
       " 'At Home Jess': 1,\n",
       " 'Poli': 5,\n",
       " 'Later at Soccer Training Jules': 1,\n",
       " \"Later at Jules's house getting shoes Jess\": 1,\n",
       " 'T V Commentator': 2,\n",
       " 'Later hugging each other, shaking, laughing at bus stop Jules': 1,\n",
       " 'Jess (still with twisted knee)': 1,\n",
       " \"Later Teet's Dad\": 1,\n",
       " \"Teet's Mum\": 3,\n",
       " \"Teet's parents leave. Pinky\": 1,\n",
       " 'Later with Teet in car Pinky': 1,\n",
       " 'Teet': 1,\n",
       " 'Later Soccer Coach': 1,\n",
       " \"Later at Jess's house Pinky\": 1,\n",
       " 'Coach having tea with them': 1,\n",
       " 'Later outside Coach': 1,\n",
       " 'Later at Bus Mel': 1,\n",
       " 'At the Game - Girls': 1,\n",
       " 'After the game at the hotel Jess': 1,\n",
       " \"Seeing photo in newspaper Jess's Dad\": 1,\n",
       " 'Back in Germany Jess': 1,\n",
       " 'Soccer girls': 1,\n",
       " 'Soccer girl': 1,\n",
       " 'At the Club Jules': 2,\n",
       " 'on Patio Coach': 1,\n",
       " 'Jess leans towards Coach - he responds as Jules comes out': 1,\n",
       " 'Coach whispers to himself': 1,\n",
       " 'Back Home Jess': 1,\n",
       " 'Punjabi Song Playing': 1,\n",
       " \"Back in Jess's house Jess's Mum\": 1,\n",
       " \"In Pinky's room Song Playing in the background\": 1,\n",
       " 'Background song stops abruptly - Pinky': 1,\n",
       " 'Later at club Coach': 1,\n",
       " \"Later Jules's Mum\": 2,\n",
       " \"Coming in Jules's Dad\": 1,\n",
       " \"At Jess's house Pinky\": 1,\n",
       " 'Soccer boy spectators': 1,\n",
       " 'Other Player': 1,\n",
       " 'Referee': 2,\n",
       " 'Girl Players': 1,\n",
       " 'Male Spectators': 1,\n",
       " 'In the Changing Room Coach': 1,\n",
       " 'Team': 3,\n",
       " 'Outside Changing Room Jess': 1,\n",
       " \"Back at Jess's House Jess's Mum\": 1,\n",
       " \"Teet's Dad\": 1,\n",
       " \"Later Jess's Mum\": 1,\n",
       " \"Later at Jess's house Jules\": 1,\n",
       " \"At Jules 's house Jules's Dad\": 1,\n",
       " \"Jules's Mum and Dad together\": 1,\n",
       " \"At Jess's house Jess's Mum praying\": 1,\n",
       " \"Jess opens envelope. Hands form to her Dad. Jess's Dad\": 1,\n",
       " 'At Club Jules': 1,\n",
       " \"Coach (training Mel to take Jess's place)\": 1,\n",
       " \"Inside Jess's house a Reception. Outside Jess's house Jess's Dad\": 1,\n",
       " \"Outside Jules's house Jules's Dad\": 1,\n",
       " \"Outside Jess's House Photographer\": 1,\n",
       " 'Wedding guest girls': 1,\n",
       " 'At the game Jess': 1,\n",
       " 'Opposite Team Girl Player': 1,\n",
       " 'Coach sending Jess on': 1,\n",
       " 'Spectator Boy shouts': 1,\n",
       " \"Back at Jess's house Jess's Mum\": 1,\n",
       " 'Back at Game Coach': 1,\n",
       " 'As Jess takes the penalty - Song Playing - Nessun dorma': 1,\n",
       " '(Translation \"None shall sleep\"': 1,\n",
       " 'After Game Soccer Team Girls': 1,\n",
       " 'Jules and Jess': 1,\n",
       " \"In the Crowd Jules's Mum\": 1,\n",
       " 'The two girls squeal, kiss and hug. Then in the Family Car Jules': 1,\n",
       " \"At Jules's house Jules's Mum\": 1,\n",
       " 'Wedding Guest': 4,\n",
       " 'Other Wedding Guest': 2,\n",
       " \"In Pinky's wedding car Pinky\": 1,\n",
       " 'Back in House Jess': 1,\n",
       " 'At the Field Jess': 1,\n",
       " 'Joe': 14,\n",
       " 'Later at the airport Jules': 1,\n",
       " \"Accepting tissue from Jess's Mum, Jules's Mum\": 1,\n",
       " \"Later Jules's Mum and Dad opening parcel Jules's Dad\": 1}"
      ]
     },
     "execution_count": 16,
     "metadata": {},
     "output_type": "execute_result"
    }
   ],
   "source": [
    "character_counts"
   ]
  },
  {
   "cell_type": "code",
   "execution_count": 17,
   "metadata": {
    "colab": {
     "base_uri": "https://localhost:8080/"
    },
    "executionInfo": {
     "elapsed": 242,
     "status": "ok",
     "timestamp": 1705076610143,
     "user": {
      "displayName": "Likun Cao",
      "userId": "01917344510473464948"
     },
     "user_tz": 360
    },
    "id": "BleCbdtNcTfi",
    "outputId": "720d0fd2-0d15-460f-ad53-07fe8b28ba68"
   },
   "outputs": [
    {
     "data": {
      "text/plain": [
       "15"
      ]
     },
     "execution_count": 17,
     "metadata": {},
     "output_type": "execute_result"
    }
   ],
   "source": [
    "character_counts[\"Song Playing\"]"
   ]
  },
  {
   "cell_type": "markdown",
   "metadata": {
    "id": "ep76bAcacTfj"
   },
   "source": [
    "This is an important list: it tells us how many lines each of the chatacters had, at least the way it was transcribed. Can we somehow use this information to find key characters, and to also find transitions in scenes?\n",
    "\n",
    "A little bonus: we that 15 songs have been played in the movie!"
   ]
  },
  {
   "cell_type": "code",
   "execution_count": 18,
   "metadata": {
    "executionInfo": {
     "elapsed": 290,
     "status": "ok",
     "timestamp": 1705076616100,
     "user": {
      "displayName": "Likun Cao",
      "userId": "01917344510473464948"
     },
     "user_tz": 360
    },
    "id": "-YAsr-7ZcTfj"
   },
   "outputs": [],
   "source": [
    "locations_transitions = []\n",
    "key_characters = []"
   ]
  },
  {
   "cell_type": "code",
   "execution_count": 19,
   "metadata": {
    "executionInfo": {
     "elapsed": 10,
     "status": "ok",
     "timestamp": 1705076617627,
     "user": {
      "displayName": "Likun Cao",
      "userId": "01917344510473464948"
     },
     "user_tz": 360
    },
    "id": "ALi_Vvf-cTfj"
   },
   "outputs": [],
   "source": [
    "for character in character_counts:\n",
    "    if character_counts[character] > 25:\n",
    "        key_characters.append(character)\n",
    "    location_transition_keywords = [\n",
    "        \"at \",\n",
    "        \"then\",\n",
    "        \"later\",\n",
    "        \"in \",\n",
    "        \"outside\",\n",
    "        \"back\",\n",
    "        \"inside\",\n",
    "        \"on \",\n",
    "        \"after\",\n",
    "        \"walking\",\n",
    "        \"next\",\n",
    "    ]\n",
    "    for word in location_transition_keywords:\n",
    "        if (\n",
    "            word in character.lower()\n",
    "            and character.lower() != \"tony\"\n",
    "            and character.lower() != \"pinky\"\n",
    "        ):\n",
    "            locations_transitions.append(character)\n",
    "            continue"
   ]
  },
  {
   "cell_type": "code",
   "execution_count": 20,
   "metadata": {
    "colab": {
     "base_uri": "https://localhost:8080/"
    },
    "executionInfo": {
     "elapsed": 18,
     "status": "ok",
     "timestamp": 1705076619546,
     "user": {
      "displayName": "Likun Cao",
      "userId": "01917344510473464948"
     },
     "user_tz": 360
    },
    "id": "eMFEgFpCcTfj",
    "outputId": "ac43af6f-1cbf-4a33-c48b-c79f56d7f683"
   },
   "outputs": [
    {
     "data": {
      "text/plain": [
       "[\"Jess's Mother at the door\",\n",
       " \"At Shop - Pinkie's friend\",\n",
       " 'In another shop Jules',\n",
       " 'Walking - Pinkie',\n",
       " 'After they leave - Tony',\n",
       " 'Pinkie - walking',\n",
       " 'Later at the Park - Soccer fellows',\n",
       " 'Later at the Park - Soccer fellows',\n",
       " 'Back home in bedroom - Jess',\n",
       " 'Back home in bedroom - Jess',\n",
       " 'Man at engagement party',\n",
       " 'Lady at engagement party',\n",
       " 'Later at Soccer field - Girls watching boys',\n",
       " 'Later at Soccer field - Girls watching boys',\n",
       " 'After game - Jules',\n",
       " 'Later - Soccer Girl',\n",
       " 'Later on bed Jess',\n",
       " 'Later on bed Jess',\n",
       " \"Outside at Jules's house - Jules kicks ball in to pots\",\n",
       " \"Outside at Jules's house - Jules kicks ball in to pots\",\n",
       " \"Outside at Jules's house - Jules kicks ball in to pots\",\n",
       " 'Later at the field Coach',\n",
       " 'Later at the field Coach',\n",
       " 'Walking away Coach',\n",
       " 'In Change room Jules',\n",
       " 'Outside Coach',\n",
       " 'Later Jess',\n",
       " \"Later at home Jess's Mum\",\n",
       " \"Later at home Jess's Mum\",\n",
       " \"Next day Jess's Mum\",\n",
       " 'At Home Jess',\n",
       " 'Later at Soccer Training Jules',\n",
       " 'Later at Soccer Training Jules',\n",
       " \"Later at Jules's house getting shoes Jess\",\n",
       " \"Later at Jules's house getting shoes Jess\",\n",
       " 'Later hugging each other, shaking, laughing at bus stop Jules',\n",
       " 'Later hugging each other, shaking, laughing at bus stop Jules',\n",
       " \"Later Teet's Dad\",\n",
       " 'Later with Teet in car Pinky',\n",
       " 'Later with Teet in car Pinky',\n",
       " 'Later Soccer Coach',\n",
       " \"Later at Jess's house Pinky\",\n",
       " \"Later at Jess's house Pinky\",\n",
       " 'Later outside Coach',\n",
       " 'Later outside Coach',\n",
       " 'Later at Bus Mel',\n",
       " 'Later at Bus Mel',\n",
       " 'At the Game - Girls',\n",
       " 'After the game at the hotel Jess',\n",
       " 'After the game at the hotel Jess',\n",
       " \"Seeing photo in newspaper Jess's Dad\",\n",
       " 'Back in Germany Jess',\n",
       " 'Back in Germany Jess',\n",
       " 'At the Club Jules',\n",
       " 'on Patio Coach',\n",
       " 'Back Home Jess',\n",
       " \"Back in Jess's house Jess's Mum\",\n",
       " \"Back in Jess's house Jess's Mum\",\n",
       " \"In Pinky's room Song Playing in the background\",\n",
       " \"In Pinky's room Song Playing in the background\",\n",
       " 'Background song stops abruptly - Pinky',\n",
       " 'Later at club Coach',\n",
       " 'Later at club Coach',\n",
       " \"Later Jules's Mum\",\n",
       " \"Coming in Jules's Dad\",\n",
       " \"At Jess's house Pinky\",\n",
       " 'In the Changing Room Coach',\n",
       " 'Outside Changing Room Jess',\n",
       " \"Back at Jess's House Jess's Mum\",\n",
       " \"Back at Jess's House Jess's Mum\",\n",
       " \"Later Jess's Mum\",\n",
       " \"Later at Jess's house Jules\",\n",
       " \"Later at Jess's house Jules\",\n",
       " \"At Jules 's house Jules's Dad\",\n",
       " \"At Jess's house Jess's Mum praying\",\n",
       " 'At Club Jules',\n",
       " \"Inside Jess's house a Reception. Outside Jess's house Jess's Dad\",\n",
       " \"Inside Jess's house a Reception. Outside Jess's house Jess's Dad\",\n",
       " \"Outside Jules's house Jules's Dad\",\n",
       " \"Outside Jess's House Photographer\",\n",
       " 'At the game Jess',\n",
       " \"Back at Jess's house Jess's Mum\",\n",
       " \"Back at Jess's house Jess's Mum\",\n",
       " 'Back at Game Coach',\n",
       " 'Back at Game Coach',\n",
       " '(Translation \"None shall sleep\"',\n",
       " 'After Game Soccer Team Girls',\n",
       " \"In the Crowd Jules's Mum\",\n",
       " 'The two girls squeal, kiss and hug. Then in the Family Car Jules',\n",
       " 'The two girls squeal, kiss and hug. Then in the Family Car Jules',\n",
       " \"At Jules's house Jules's Mum\",\n",
       " \"In Pinky's wedding car Pinky\",\n",
       " 'Back in House Jess',\n",
       " 'Back in House Jess',\n",
       " 'At the Field Jess',\n",
       " 'Later at the airport Jules',\n",
       " 'Later at the airport Jules',\n",
       " \"Later Jules's Mum and Dad opening parcel Jules's Dad\"]"
      ]
     },
     "execution_count": 20,
     "metadata": {},
     "output_type": "execute_result"
    }
   ],
   "source": [
    "locations_transitions"
   ]
  },
  {
   "cell_type": "markdown",
   "metadata": {
    "id": "TB4JzTWvcTfj"
   },
   "source": [
    "These aren't perfect, and we might have missed some of them, but they will be very useful in creating co-occurence counts: i.e, two characters share screen time.\n",
    "\n",
    "NOTE: use regex to match the locations and transitions!"
   ]
  },
  {
   "cell_type": "code",
   "execution_count": 21,
   "metadata": {
    "colab": {
     "base_uri": "https://localhost:8080/"
    },
    "executionInfo": {
     "elapsed": 14,
     "status": "ok",
     "timestamp": 1705076622469,
     "user": {
      "displayName": "Likun Cao",
      "userId": "01917344510473464948"
     },
     "user_tz": 360
    },
    "id": "hpdjKV-pcTfk",
    "outputId": "f7e30e47-a173-4e59-ac8f-28971fd85000"
   },
   "outputs": [
    {
     "data": {
      "text/plain": [
       "['Jess',\n",
       " 'Pinky',\n",
       " 'Jules',\n",
       " \"Jules's Mum\",\n",
       " 'Tony',\n",
       " \"Jess's Dad\",\n",
       " 'Coach',\n",
       " \"Jess's Mum\"]"
      ]
     },
     "execution_count": 21,
     "metadata": {},
     "output_type": "execute_result"
    }
   ],
   "source": [
    "key_characters"
   ]
  },
  {
   "cell_type": "markdown",
   "metadata": {
    "id": "QMpCHCLXcTfk"
   },
   "source": [
    "That makes sense, having seen the movie. Now let us make some datasets for us which will be useful for analysis!"
   ]
  },
  {
   "cell_type": "code",
   "execution_count": 22,
   "metadata": {
    "executionInfo": {
     "elapsed": 11,
     "status": "ok",
     "timestamp": 1705076624730,
     "user": {
      "displayName": "Likun Cao",
      "userId": "01917344510473464948"
     },
     "user_tz": 360
    },
    "id": "ozG9e6KAcTfk"
   },
   "outputs": [],
   "source": [
    "key_character_texts = {}"
   ]
  },
  {
   "cell_type": "code",
   "execution_count": 23,
   "metadata": {
    "executionInfo": {
     "elapsed": 301,
     "status": "ok",
     "timestamp": 1705076626406,
     "user": {
      "displayName": "Likun Cao",
      "userId": "01917344510473464948"
     },
     "user_tz": 360
    },
    "id": "iVJoSi6AcTfl"
   },
   "outputs": [],
   "source": [
    "for line in txt:\n",
    "    try:\n",
    "        character, text = line.split(\":\")\n",
    "    except ValueError:\n",
    "        continue\n",
    "    if character in key_characters:\n",
    "        if character not in key_character_texts:\n",
    "            key_character_texts[character] = []\n",
    "        if character in key_character_texts:\n",
    "            key_character_texts[character].append(text.replace(\"\\n\", \"\"))"
   ]
  },
  {
   "cell_type": "code",
   "execution_count": 24,
   "metadata": {
    "colab": {
     "base_uri": "https://localhost:8080/"
    },
    "executionInfo": {
     "elapsed": 229,
     "status": "ok",
     "timestamp": 1705076629843,
     "user": {
      "displayName": "Likun Cao",
      "userId": "01917344510473464948"
     },
     "user_tz": 360
    },
    "id": "Az3geYgTcTfl",
    "outputId": "b2e494e2-b4c2-40cb-9b23-04b217290e87"
   },
   "outputs": [
    {
     "name": "stdout",
     "output_type": "stream",
     "text": [
      "Jess 191\n",
      "Pinky 37\n",
      "Jules 89\n",
      "Jules's Mum 29\n",
      "Tony 35\n",
      "Jess's Dad 38\n",
      "Coach 80\n",
      "Jess's Mum 52\n"
     ]
    }
   ],
   "source": [
    "for character in key_character_texts:\n",
    "    print(character, len(key_character_texts[character]))"
   ]
  },
  {
   "cell_type": "code",
   "execution_count": 25,
   "metadata": {
    "colab": {
     "base_uri": "https://localhost:8080/"
    },
    "executionInfo": {
     "elapsed": 17,
     "status": "ok",
     "timestamp": 1705076632282,
     "user": {
      "displayName": "Likun Cao",
      "userId": "01917344510473464948"
     },
     "user_tz": 360
    },
    "id": "iKUQT7MwcTfl",
    "outputId": "6c74cce1-7893-47c1-9d6a-2f660e023425"
   },
   "outputs": [
    {
     "data": {
      "text/plain": [
       "[\" Mum, it's Beckham's corner!\",\n",
       " \" I'm sick of this wedding and it hasn't even started!\",\n",
       " \" - What the hell's going on?\",\n",
       " ' Mum, do I have to go shopping again?',\n",
       " \" - Shut up! She's old.\",\n",
       " ' - Did you do the genetics one?',\n",
       " \" - Yeah I got that, too. - I Hope I get my 2 A's and a B for uni.\",\n",
       " \" - Yeah I'll try.\",\n",
       " \" - I can't. My mum's waiting, - my dad's on earlies at Heathrow.\",\n",
       " ' No one, Dad.',\n",
       " ' - Dad!',\n",
       " ' - What? Taz?',\n",
       " \" Oh shut up. You know he's just my mate. We're not all slags like you lot!\",\n",
       " \" - A trial? Think I'm good enough?\",\n",
       " ' - Jess.',\n",
       " ' - Hi.',\n",
       " ' - In the park.',\n",
       " ' Sorry! I usually play all over, but up front on the right is best.',\n",
       " \" - I haven't got any.\",\n",
       " ' - Where shall I put this?',\n",
       " ' - Really great!',\n",
       " \" - I didn't even know they had a girls' team here.\",\n",
       " \" - Yeah, they're cool.\",\n",
       " ' - You think so?',\n",
       " ' - For ages, but just in the park. - Nothing as serious as this.',\n",
       " ' - Wow! Can you do that? I mean, as a job, like.',\n",
       " ' Really?',\n",
       " ' Thanks',\n",
       " \" - Can't I not wear my tracksuit bottoms?\",\n",
       " ' Shit!',\n",
       " ' - Yeah, nice to meet you.',\n",
       " \" Looks awful. - I can't wear shorts ever.\",\n",
       " \" - You don't want to know.\",\n",
       " ' Nah, it looks awful. I was eight. My mum was working overtime at Heathrow and I was trying to cook beans on toast. When I jumped up to the grill to get the toast, my trousers caught alight, so my sister put me in the bath, poured cold water over me and pulled them off but half my skin came off, too.',\n",
       " ' I know. Put me off beans on toast for life.',\n",
       " ' - Sorry about your knee.',\n",
       " \" - It's brilliant. They're a top team - and the coach is ace.\",\n",
       " \" - Haven't you seen a burn before?\",\n",
       " \" No, it's fine. At least I can still skin you alive!\",\n",
       " \" - She's the one getting married, not me!\",\n",
       " \" - I'm not playing with boys any more.\",\n",
       " \" I'm joining a girls' team, they want me to play in proper matches. The coach said I could go far.\",\n",
       " \" - That's not fair! He selected me!\",\n",
       " ' - The coach, Joe.',\n",
       " \" - But Mum, I'm really good!\",\n",
       " ' - But, Dad!',\n",
       " \" - She's a fashion designer!\",\n",
       " ' Anyone can cook aloo gobi, - but who can bend a ball like Beckham?',\n",
       " \" Why should I have to lie? It's not like I'm sleeping around with anyone!\",\n",
       " ' This is Tony. Tony, this is Jules from the team.',\n",
       " \" My mum doesn't want me to play any more.\",\n",
       " \" Yeah, but my sister's getting married so Mum and Dad are totally stressed out. Anyway, I won't be able to get out of the house for training and matches.\",\n",
       " \" - Oh no, he's not my boyfriend!\",\n",
       " \" - No, I'm late, Mum. Bye!\",\n",
       " \" Nah, my mum and dad ain't got a clue.\",\n",
       " ' - Nope.',\n",
       " \" - At work. They think I've got a job at HMV.\",\n",
       " \" - Indian girls aren't supposed to play football!\",\n",
       " \" Nah. No way. My sister's getting married soon. It's a love match.\",\n",
       " \" - It's not arranged.\",\n",
       " ' - White, no, black, definitely not, a Muslim, eh-eh!',\n",
       " ' - Probably.',\n",
       " \" - It's just culture. That's all. Better than sleeping around with boys you aren't going to end up marrying? What's the point in that?\",\n",
       " ' - Who?',\n",
       " \" You can't say anything to Mum and Dad. I kept Teet a secret for you.\",\n",
       " \" - Ssh! Look, I've been playing football for a women's team.\",\n",
       " \" - It's a proper tournament. They're real matches!\",\n",
       " ' Mum, why do I have to wear a sari? It will just fall down!',\n",
       " \" - No, that's too tight. I want it looser.\",\n",
       " ' Mum, I need to buy different shoes to go with the sari and the suits.',\n",
       " ' I can pay for one pair from my wages. Can you give me some money for the other?',\n",
       " \" It's not that late Mum. I was looking at other things too, like handbags.\",\n",
       " \" - Not yet. I'll put them on with the suits.\",\n",
       " ' Wait.',\n",
       " ' - No!',\n",
       " \" I've never smoked. I had to go to the loo so I went into a pub with my friend. I had a coke. You can smell my breath!\",\n",
       " \" I'll take them back. Give them back.\",\n",
       " \" - I've got to get some proper shoes for the wedding now.\",\n",
       " \" God! My mum had a fit when she saw the boots! And I smelt like a bleedin' ashtray! I had to clean all the big saucepans.\",\n",
       " ' - Yes, coach.',\n",
       " ' - No, coach.',\n",
       " \" - No, I'm OK. I've just got one more lap.\",\n",
       " \" - It's nothing!\",\n",
       " \" I didn't want you to think I'm not as strong as the others.\",\n",
       " ' Your dad made you?',\n",
       " \" - You shouldn't say that about your dad.\",\n",
       " \" - Thanks. You sure she won't miss 'em?\",\n",
       " ' Oh no, he was really nice, just really professional.',\n",
       " ' -Wow!',\n",
       " \" - Oh, I don't know.\",\n",
       " \" It's really Jesminder, but only my mum calls me that.\",\n",
       " ' - Juliet!',\n",
       " ' - Ohh!',\n",
       " ' Really?',\n",
       " ' Yeah, I hope I marry an Indian boy like him, too. - What?',\n",
       " ' - Me? Why?',\n",
       " \" - They're lying. I wasn't with any English boy!\",\n",
       " \" Kissing? Me? A boy?! - You're mad. You're all bloody mad!\",\n",
       " \" I was at the 120 bus stop today but with Juliet. My friend. She's a girl, and we weren't kissing or anything for God's sake!\",\n",
       " \" - I swear on Babaji's name.\",\n",
       " ' Pinky.',\n",
       " ' - But playing for the team is an honour!',\n",
       " \" But Dad, it's all changing now. Look at Nasser Hussein He's captain of the England cricket team - and he's Asian.\",\n",
       " ' Mum!',\n",
       " ' - Wow! Germany!',\n",
       " ' - Yeah, call them twice a day.',\n",
       " \" My sister's covering for me. - We're supposed to be staying at my cousin's at Croydon.\",\n",
       " \" -..pasta! I'd better go... Pinky's burning it! Yeah Ok, say hi to Dad, yeah? OK. Bye, Mum.\",\n",
       " \" I'm sorry I missed that penalty, coach.\",\n",
       " ' - Go on!',\n",
       " \" Gosh! I only had a couple of wines! Oh, my head! - It's too smoky in there.\",\n",
       " \" That was so brilliant the way you came to my house. You were brave enough to face my mum! Your dad can't be as mad as her!\",\n",
       " ' Pinks... How do you know Teets is the one?',\n",
       " ' Pinks, do you think Mum and Dad would still speak to me if I ever brought home a gora?',\n",
       " \" - No one. I'm just saying.\",\n",
       " \" - No, nothing's happened.\",\n",
       " \" He's Irish.\",\n",
       " ' Hi.',\n",
       " ' Was that the club chairman?',\n",
       " \" That's great! Congratulations.\",\n",
       " ' Well, you deserve it. - Look, I really wanted to say...',\n",
       " ' Yeah, good. Me, too.',\n",
       " \" It's not fair. I feel like I'm either going to let the team down or really piss them off, and I don't want to upset anyone.\",\n",
       " ' They want to protect me.',\n",
       " ' This is taking me away from everything they know.',\n",
       " \" What, like you? - I'm sorry.\",\n",
       " \" But I can't just stop talking to them, like you.\",\n",
       " \" Well how do you know that? How do you know that he wouldn't be proud that you didn't just give up? You should be proud of what you've given all of us.\",\n",
       " ' - Jesminder.',\n",
       " ' Look, Jules I feel really bad about what happened.',\n",
       " \" I'm sorry. I don't want you to be in a strop with me.\",\n",
       " \" Look, it was a mistake. I didn't know what I was doing!\",\n",
       " \" I didn't!\",\n",
       " \" But you told me you didn't like him, now you're acting as though you're in love with him!\",\n",
       " \" So that's it?\",\n",
       " ' Goodbye, Mrs Paxton.',\n",
       " ' - Well good, maybe we can go out, then, yeah?',\n",
       " ' - I think I need an Indian boyfriend.',\n",
       " ' Sorry. You know my coach, yeah?',\n",
       " ' I nearly kissed him in Germany.',\n",
       " ' Well, Jules likes him, too, and now she hates me.',\n",
       " \" - Well, Beckham's the best.\",\n",
       " ' - Of course you do. No one can cross a ball or bend it like Beckham.',\n",
       " \" What, you mean...? But you're Indian!\",\n",
       " \" God, what's your mum gonna say?! My sister thinks you're mad about me!\",\n",
       " ' What would all those tossers say if they knew?',\n",
       " \" 'Course not. It's OK, Tony. I mean, it's OK with me.\",\n",
       " ' I owe you big time!',\n",
       " ' - Bring me back some langar.',\n",
       " ' Over here, Jules!',\n",
       " ' - What you playing at?',\n",
       " ' Sod you.',\n",
       " \" - But it wasn't my fault! - You didn't have to shout at me!\",\n",
       " \" That's not all! She called me a Paki, but I guess you wouldn't understand what that feels like, would you?\",\n",
       " \" What's happening?\",\n",
       " ' But, Dad, the 25th...',\n",
       " ' He did?',\n",
       " \" I'm really in the shit. Dad hasn't talked to me since. He'll never let me go back to join the team.\",\n",
       " \" I can't. It's the same day as my sister's wedding.\",\n",
       " \" - You don't understand.\",\n",
       " \" - Don't rub it in, right! You came here because you need me if that bloody scout shows up.\",\n",
       " ' Hurry up, Mum!',\n",
       " ' What did he say, Dad?',\n",
       " \" Wait! I'm sorry about the final.\",\n",
       " \" I got my results. I'm starting university soon. I won't have time to train and stuff.\",\n",
       " \" - She told me about the scout coming. - Sorry I'm letting her down.\",\n",
       " ' - Me?! Why are you doing this to me, Joe? Every time I talk myself out of it, you come around and make it sound so easy.',\n",
       " \" No, don't be silly! I'm not promised to anyone.\",\n",
       " ' Joe...',\n",
       " ' Tony, what are you doing?!',\n",
       " \" You're mad. My mum and dad will go spare! Anyway, I've just got to put them first today.\",\n",
       " \" - I can't! Look at how happy they are Tony, I don't want to ruin it for them.\",\n",
       " \" - Nothing, it's ok.\",\n",
       " \" Stop it, Tony. Dad it doesn't matter. This is much more important. I don't want to spoil the day for you and Mum.\",\n",
       " \" I'm sorry, Dad.\",\n",
       " ' - How are you?',\n",
       " ' - Hello, Mrs Paxton.',\n",
       " \" - I don't know what she was saying!\",\n",
       " \" I want more than this. They've offered me and Jules a scholarship to go to America.\",\n",
       " \" Mum, Dad... Tony's lying. We're not getting married. Tony only said that to help me, but I'm not lying any more. I played in the final today, and we won!\",\n",
       " \" - I wasn't going to go but Dad let me. And it was brilliant. I played the best ever! And I was happy because I wasn't sneaking off and lying to you! I didn't ask to be good at football. Guru Nanak must have blessed me. Anyway, there was a scout from America there today, and he's offered me a place at a top university with a free scholarship and a chance to play football professionally, and I really want to go, and if I can't tell you what I want now, then I'll never be happy, whatever I do.\",\n",
       " ' - Joe...',\n",
       " \" I'm sorry, Joe. I can't.\",\n",
       " \" Letting me go is a really big step for my mum and dad. I don't know how they'd survive if I told them about you, too.\",\n",
       " ' What are you doing here?',\n",
       " \" - That's great, Joe!\",\n",
       " ' - What, why did you...?',\n",
       " \" That's brilliant Joe! You should tell your dad, you know.\",\n",
       " ' - Yeah, you wish!',\n",
       " ' - What?',\n",
       " \" I'm back at Christmas. We'll tackle my mum and dad then. I'd better go.\"]"
      ]
     },
     "execution_count": 25,
     "metadata": {},
     "output_type": "execute_result"
    }
   ],
   "source": [
    "key_character_texts[\"Jess\"]"
   ]
  },
  {
   "cell_type": "code",
   "execution_count": 26,
   "metadata": {
    "colab": {
     "base_uri": "https://localhost:8080/"
    },
    "executionInfo": {
     "elapsed": 741,
     "status": "ok",
     "timestamp": 1705076635652,
     "user": {
      "displayName": "Likun Cao",
      "userId": "01917344510473464948"
     },
     "user_tz": 360
    },
    "id": "A9lts5JrcTfl",
    "outputId": "2c7e3524-5a1a-4b08-e72a-85e746243c47"
   },
   "outputs": [
    {
     "data": {
      "text/plain": [
       "776"
      ]
     },
     "execution_count": 26,
     "metadata": {},
     "output_type": "execute_result"
    }
   ],
   "source": [
    "len(texts)"
   ]
  },
  {
   "cell_type": "markdown",
   "metadata": {
    "id": "9u8E_v-xcTfl"
   },
   "source": [
    "Neat: we now have each character and their associated texts, and the individual texts, so we can create our first network based object, based on interactions.\n",
    "\n",
    "## Graphs and Networks\n",
    "\n",
    "Graphs and networks can be a very useful way to represent data, and can provide us all kinds of insights.\n",
    "\n",
    "I would highly, highly recommend checking out this amazing set of Jupyter Notebooks and resources by Mridul Seth and Eric Ma: http://ericmjl.github.io/Network-Analysis-Made-Simple/\n",
    "\n",
    "I will not be going into a real introduction to the theories and ideas behind graphs and networks, but I will explain how they are useful for us in social scientific analysis. A graph can be thought of as a representation of data in a way you can measure connections or relations, and the kind of relations.\n",
    "\n",
    "Examples (taken from Network Analysis Made Simple) of graphs are:\n",
    "\n",
    "1) protein-protein interaction network. Here, the graph can be defined in the following way:\n",
    "\n",
    "    nodes/entities are the proteins,\n",
    "    edges/relationships are defined as \"one protein is known to bind with another\".\n",
    "\n",
    "2) air transportation network. Here, the graph can be defined in the following way:\n",
    "\n",
    "    nodes/entities are airports\n",
    "    edges/relationships are defined as \"at least one flight carrier flies between the airports\".\n",
    "\n",
    "3) social networks: With Twitter, the graph can be defined in the following way:\n",
    "\n",
    "    nodes/entities are individual users\n",
    "    edges/relationships are defined as \"one user has decided to follow another\".\n",
    "\n",
    "How can we extend these examples to our data set?\n",
    "It would be useful to know which characters are in the same scences, so we can measure which characters are most central, and so on."
   ]
  },
  {
   "cell_type": "code",
   "execution_count": 27,
   "metadata": {
    "executionInfo": {
     "elapsed": 721,
     "status": "ok",
     "timestamp": 1705076643917,
     "user": {
      "displayName": "Likun Cao",
      "userId": "01917344510473464948"
     },
     "user_tz": 360
    },
    "id": "R35-H__1cTfm"
   },
   "outputs": [],
   "source": [
    "import networkx as nx"
   ]
  },
  {
   "cell_type": "code",
   "execution_count": 28,
   "metadata": {
    "executionInfo": {
     "elapsed": 5,
     "status": "ok",
     "timestamp": 1705076644604,
     "user": {
      "displayName": "Likun Cao",
      "userId": "01917344510473464948"
     },
     "user_tz": 360
    },
    "id": "1ueeV6RqcTfm"
   },
   "outputs": [],
   "source": [
    "character_graph = nx.Graph()"
   ]
  },
  {
   "cell_type": "code",
   "execution_count": 29,
   "metadata": {
    "executionInfo": {
     "elapsed": 4,
     "status": "ok",
     "timestamp": 1705076646347,
     "user": {
      "displayName": "Likun Cao",
      "userId": "01917344510473464948"
     },
     "user_tz": 360
    },
    "id": "fCiviYAXcTfm"
   },
   "outputs": [],
   "source": [
    "for character in key_characters:\n",
    "    character_graph.add_node(character)"
   ]
  },
  {
   "cell_type": "code",
   "execution_count": 30,
   "metadata": {
    "executionInfo": {
     "elapsed": 218,
     "status": "ok",
     "timestamp": 1705076648175,
     "user": {
      "displayName": "Likun Cao",
      "userId": "01917344510473464948"
     },
     "user_tz": 360
    },
    "id": "gtzNrQ5pcTfm"
   },
   "outputs": [],
   "source": [
    "scenes = {}"
   ]
  },
  {
   "cell_type": "code",
   "execution_count": 31,
   "metadata": {
    "executionInfo": {
     "elapsed": 230,
     "status": "ok",
     "timestamp": 1705076649747,
     "user": {
      "displayName": "Likun Cao",
      "userId": "01917344510473464948"
     },
     "user_tz": 360
    },
    "id": "pjHWu5zOcTfo"
   },
   "outputs": [],
   "source": [
    "i = 0"
   ]
  },
  {
   "cell_type": "code",
   "execution_count": 32,
   "metadata": {
    "executionInfo": {
     "elapsed": 367,
     "status": "ok",
     "timestamp": 1705076651610,
     "user": {
      "displayName": "Likun Cao",
      "userId": "01917344510473464948"
     },
     "user_tz": 360
    },
    "id": "mBIJJ_uecTfp"
   },
   "outputs": [],
   "source": [
    "scenes[i] = []"
   ]
  },
  {
   "cell_type": "code",
   "execution_count": 33,
   "metadata": {
    "executionInfo": {
     "elapsed": 5,
     "status": "ok",
     "timestamp": 1705076652956,
     "user": {
      "displayName": "Likun Cao",
      "userId": "01917344510473464948"
     },
     "user_tz": 360
    },
    "id": "jBGb5ziscTf1"
   },
   "outputs": [],
   "source": [
    "for line in txt:\n",
    "    try:\n",
    "        character, text = line.split(\":\")\n",
    "    except ValueError:\n",
    "        continue\n",
    "    if character in key_characters and character not in scenes[i]:\n",
    "        scenes[i].append(character)\n",
    "    if character in locations_transitions:\n",
    "        i += 1\n",
    "        scenes[i] = []"
   ]
  },
  {
   "cell_type": "code",
   "execution_count": 34,
   "metadata": {
    "colab": {
     "base_uri": "https://localhost:8080/"
    },
    "executionInfo": {
     "elapsed": 218,
     "status": "ok",
     "timestamp": 1705076655227,
     "user": {
      "displayName": "Likun Cao",
      "userId": "01917344510473464948"
     },
     "user_tz": 360
    },
    "id": "10zZaoskcTf1",
    "outputId": "1aa6813a-e16e-4286-f19c-8060813194dc"
   },
   "outputs": [
    {
     "data": {
      "text/plain": [
       "{0: [],\n",
       " 1: ['Jess', 'Pinky'],\n",
       " 2: [],\n",
       " 3: ['Jules', \"Jules's Mum\"],\n",
       " 4: ['Jess', 'Tony'],\n",
       " 5: [],\n",
       " 6: [],\n",
       " 7: ['Tony', 'Jess'],\n",
       " 8: [\"Jess's Dad\", 'Jess'],\n",
       " 9: [],\n",
       " 10: [\"Jess's Dad\"],\n",
       " 11: ['Jess', 'Tony'],\n",
       " 12: ['Jules', 'Jess', 'Tony'],\n",
       " 13: ['Coach', 'Jules', 'Jess'],\n",
       " 14: [],\n",
       " 15: [\"Jules's Mum\", 'Jules'],\n",
       " 16: ['Jess', 'Coach'],\n",
       " 17: ['Jess'],\n",
       " 18: ['Jess', 'Jules'],\n",
       " 19: ['Jules', 'Coach', 'Jess'],\n",
       " 20: ['Tony', 'Jess'],\n",
       " 21: [\"Jess's Dad\", 'Jess', \"Jess's Mum\"],\n",
       " 22: ['Tony', 'Jess', 'Jules'],\n",
       " 23: [\"Jess's Mum\", 'Jess', 'Jules'],\n",
       " 24: [\"Jess's Mum\", 'Pinky', 'Jess', \"Jess's Dad\"],\n",
       " 25: ['Jess', 'Jules', 'Coach'],\n",
       " 26: ['Jules', 'Jess', \"Jules's Mum\"],\n",
       " 27: ['Jess', 'Jules'],\n",
       " 28: [\"Jess's Dad\", \"Jess's Mum\", 'Pinky', 'Jess'],\n",
       " 29: [],\n",
       " 30: ['Jules', 'Coach'],\n",
       " 31: ['Coach', \"Jess's Mum\", \"Jess's Dad\", 'Jess'],\n",
       " 32: ['Jess', 'Coach'],\n",
       " 33: ['Coach', 'Pinky', 'Jess'],\n",
       " 34: ['Coach', 'Jules'],\n",
       " 35: ['Jules', 'Jess', \"Jess's Mum\", \"Jess's Dad\"],\n",
       " 36: [\"Jess's Mum\"],\n",
       " 37: ['Jules', 'Coach'],\n",
       " 38: ['Coach', 'Jules', 'Jess'],\n",
       " 39: ['Jess', 'Coach'],\n",
       " 40: [],\n",
       " 41: [],\n",
       " 42: ['Jess', 'Pinky'],\n",
       " 43: ['Jess', 'Pinky'],\n",
       " 44: ['Jess', 'Coach'],\n",
       " 45: ['Jess', \"Jules's Mum\", 'Jules'],\n",
       " 46: [],\n",
       " 47: [\"Jules's Mum\"],\n",
       " 48: ['Tony', 'Jess'],\n",
       " 49: ['Jess', 'Pinky', \"Jess's Mum\", \"Jess's Dad\", 'Tony'],\n",
       " 50: ['Coach'],\n",
       " 51: ['Coach', 'Jess', \"Jess's Dad\"],\n",
       " 52: [\"Jess's Dad\", 'Jess', 'Pinky', \"Jess's Mum\"],\n",
       " 53: ['Pinky', \"Jess's Mum\", \"Jess's Dad\", 'Jess'],\n",
       " 54: ['Coach', 'Jules'],\n",
       " 55: ['Jess', 'Jules'],\n",
       " 56: [\"Jules's Mum\", 'Jules'],\n",
       " 57: ['Jess', \"Jess's Mum\", \"Jess's Dad\"],\n",
       " 58: ['Coach', 'Jules'],\n",
       " 59: ['Coach', \"Jess's Dad\", 'Jess'],\n",
       " 60: [],\n",
       " 61: ['Pinky', 'Jess', 'Tony', \"Jess's Dad\"],\n",
       " 62: ['Coach'],\n",
       " 63: [],\n",
       " 64: [],\n",
       " 65: [],\n",
       " 66: ['Coach'],\n",
       " 67: [\"Jules's Mum\"],\n",
       " 68: [],\n",
       " 69: ['Jules', \"Jules's Mum\", 'Jess', 'Pinky'],\n",
       " 70: ['Jess', 'Pinky', 'Jules', \"Jules's Mum\", \"Jess's Mum\", \"Jess's Dad\"],\n",
       " 71: ['Tony', \"Jess's Dad\", \"Jess's Mum\", 'Jess'],\n",
       " 72: ['Jess'],\n",
       " 73: [\"Jules's Mum\", 'Jules', \"Jess's Mum\", \"Jess's Dad\", 'Jess'],\n",
       " 74: []}"
      ]
     },
     "execution_count": 34,
     "metadata": {},
     "output_type": "execute_result"
    }
   ],
   "source": [
    "scenes"
   ]
  },
  {
   "cell_type": "markdown",
   "metadata": {
    "id": "Ht4E4uCrcTf3"
   },
   "source": [
    "We now have information about which characters share a scence, and can build our graph."
   ]
  },
  {
   "cell_type": "code",
   "execution_count": 35,
   "metadata": {
    "executionInfo": {
     "elapsed": 254,
     "status": "ok",
     "timestamp": 1705076756963,
     "user": {
      "displayName": "Likun Cao",
      "userId": "01917344510473464948"
     },
     "user_tz": 360
    },
    "id": "z1udttRCcTf4"
   },
   "outputs": [],
   "source": [
    "for scene in scenes:\n",
    "    if len(scenes[scene]) > 1:\n",
    "        for character_0 in scenes[scene]:\n",
    "            for character_1 in scenes[scene]:\n",
    "                if character_0 != character_1:\n",
    "                    if (\n",
    "                        character_0,\n",
    "                        character_1,\n",
    "                    ) not in character_graph.edges():\n",
    "                        character_graph.add_edge(\n",
    "                            character_0, character_1, weight=0\n",
    "                        )\n",
    "                    if (character_0, character_1) in character_graph.edges():\n",
    "                        character_graph.edges[(character_0, character_1)][\n",
    "                            \"weight\"\n",
    "                        ] += 1"
   ]
  },
  {
   "cell_type": "code",
   "execution_count": 36,
   "metadata": {
    "colab": {
     "base_uri": "https://localhost:8080/",
     "height": 516
    },
    "executionInfo": {
     "elapsed": 682,
     "status": "ok",
     "timestamp": 1705076777549,
     "user": {
      "displayName": "Likun Cao",
      "userId": "01917344510473464948"
     },
     "user_tz": 360
    },
    "id": "CMFoqmDHcTf4",
    "outputId": "755bf60a-d135-4e12-b747-3c3fffbfacba"
   },
   "outputs": [
    {
     "data": {
      "image/png": "[encoded data removed]",
      "text/plain": [
       "<Figure size 640x480 with 1 Axes>"
      ]
     },
     "metadata": {},
     "output_type": "display_data"
    }
   ],
   "source": [
    "nx.draw(character_graph, with_labels=True, font_weight=\"bold\")"
   ]
  },
  {
   "cell_type": "code",
   "execution_count": 37,
   "metadata": {
    "colab": {
     "base_uri": "https://localhost:8080/"
    },
    "executionInfo": {
     "elapsed": 234,
     "status": "ok",
     "timestamp": 1705076780692,
     "user": {
      "displayName": "Likun Cao",
      "userId": "01917344510473464948"
     },
     "user_tz": 360
    },
    "id": "W1ociETQcTf5",
    "outputId": "d71a96f2-2f73-45b8-e1c7-d6018e2ca77b"
   },
   "outputs": [
    {
     "data": {
      "text/plain": [
       "{'weight': 24}"
      ]
     },
     "execution_count": 37,
     "metadata": {},
     "output_type": "execute_result"
    }
   ],
   "source": [
    "character_graph.edges()[(\"Jess\", \"Pinky\")]"
   ]
  },
  {
   "cell_type": "markdown",
   "metadata": {
    "id": "7tNDt-PncTf6"
   },
   "source": [
    "We can see how this graph gives us a lot of information: we see which characters appear in the same scence together, and can get an idea of centrality, as well as the numnber of times two characters share a scence."
   ]
  },
  {
   "cell_type": "code",
   "execution_count": 38,
   "metadata": {
    "executionInfo": {
     "elapsed": 999,
     "status": "ok",
     "timestamp": 1705076783398,
     "user": {
      "displayName": "Likun Cao",
      "userId": "01917344510473464948"
     },
     "user_tz": 360
    },
    "id": "i-HU3Xg9cTf6"
   },
   "outputs": [],
   "source": [
    "import seaborn as sns\n",
    "import matplotlib.pyplot as plt"
   ]
  },
  {
   "cell_type": "code",
   "execution_count": 39,
   "metadata": {
    "colab": {
     "base_uri": "https://localhost:8080/",
     "height": 498
    },
    "executionInfo": {
     "elapsed": 259,
     "status": "ok",
     "timestamp": 1705076784801,
     "user": {
      "displayName": "Likun Cao",
      "userId": "01917344510473464948"
     },
     "user_tz": 360
    },
    "id": "b7ep4zqYcTf7",
    "outputId": "07e3e151-18ac-440f-a78a-367367bc43f5"
   },
   "outputs": [
    {
     "data": {
      "image/png": "[encoded data removed]",
      "text/plain": [
       "<Figure size 640x480 with 2 Axes>"
      ]
     },
     "metadata": {},
     "output_type": "display_data"
    }
   ],
   "source": [
    "L = []\n",
    "for node in character_graph.nodes():\n",
    "    l = []\n",
    "    for node_ in character_graph.nodes():\n",
    "        if node == node_:\n",
    "            l.append(0)\n",
    "        else:\n",
    "            if (node, node_) in character_graph.edges():\n",
    "                l.append(character_graph.edges[(node, node_)][\"weight\"])\n",
    "            else:\n",
    "                l.append(0)\n",
    "    L.append(l)\n",
    "M_ = np.array(L)\n",
    "fig = plt.figure()\n",
    "div = pd.DataFrame(\n",
    "    M_,\n",
    "    columns=list(character_graph.nodes()),\n",
    "    index=list(character_graph.nodes()),\n",
    ")\n",
    "ax = sns.heatmap(div)\n",
    "plt.show()"
   ]
  },
  {
   "cell_type": "markdown",
   "metadata": {
    "id": "Yn4fHIavcTf8"
   },
   "source": [
    "We can use our co-occurence graph to plot which characters share the screen with each other. Let's also use this graph to find the most central characters."
   ]
  },
  {
   "cell_type": "code",
   "execution_count": 40,
   "metadata": {
    "colab": {
     "base_uri": "https://localhost:8080/"
    },
    "executionInfo": {
     "elapsed": 234,
     "status": "ok",
     "timestamp": 1705076976198,
     "user": {
      "displayName": "Likun Cao",
      "userId": "01917344510473464948"
     },
     "user_tz": 360
    },
    "id": "FIGatyz-cTf8",
    "outputId": "b37757e6-adc5-4ef9-8452-b25f84e784ce"
   },
   "outputs": [
    {
     "data": {
      "text/plain": [
       "{'Jess': 1.0,\n",
       " 'Pinky': 1.0,\n",
       " 'Jules': 1.0,\n",
       " \"Jules's Mum\": 0.7142857142857142,\n",
       " 'Tony': 0.7142857142857142,\n",
       " \"Jess's Dad\": 1.0,\n",
       " 'Coach': 0.7142857142857142,\n",
       " \"Jess's Mum\": 1.0}"
      ]
     },
     "execution_count": 40,
     "metadata": {},
     "output_type": "execute_result"
    }
   ],
   "source": [
    "nx.algorithms.centrality.degree_centrality(character_graph)"
   ]
  },
  {
   "cell_type": "markdown",
   "metadata": {
    "id": "HbZm3LT1cTf9"
   },
   "source": [
    "Let's do some catch up: we have created a graph which maps how often characters share the screen together. This allows us to visualise how often characters appear with each other, and calculate centralities, where we see that Jess, Jules and Jess's Dad share the screen with every other character. This makes sense because they are three central characters.\n",
    "\n",
    "But with every character more or less linked to every other one, it's tough to see any cliques or groups. What if we make the threshold higher?"
   ]
  },
  {
   "cell_type": "code",
   "execution_count": 41,
   "metadata": {
    "executionInfo": {
     "elapsed": 237,
     "status": "ok",
     "timestamp": 1705076978215,
     "user": {
      "displayName": "Likun Cao",
      "userId": "01917344510473464948"
     },
     "user_tz": 360
    },
    "id": "JYMTV2XacTf9"
   },
   "outputs": [],
   "source": [
    "stricter_graph = nx.Graph()"
   ]
  },
  {
   "cell_type": "code",
   "execution_count": 42,
   "metadata": {
    "executionInfo": {
     "elapsed": 295,
     "status": "ok",
     "timestamp": 1705076992682,
     "user": {
      "displayName": "Likun Cao",
      "userId": "01917344510473464948"
     },
     "user_tz": 360
    },
    "id": "CtcMGM5_cTf-"
   },
   "outputs": [],
   "source": [
    "for character_0 in character_graph.nodes():\n",
    "    stricter_graph.add_node(character_0)\n",
    "    for character_1 in character_graph.nodes():\n",
    "        if (\n",
    "            character_0 != character_1\n",
    "            and (character_0, character_1) in character_graph.edges()\n",
    "        ):\n",
    "            if (\n",
    "                character_graph.edges()[(character_0, character_1)][\"weight\"]\n",
    "                > 20\n",
    "            ):\n",
    "                stricter_graph.add_edge(character_0, character_1)"
   ]
  },
  {
   "cell_type": "code",
   "execution_count": 43,
   "metadata": {
    "colab": {
     "base_uri": "https://localhost:8080/",
     "height": 516
    },
    "executionInfo": {
     "elapsed": 306,
     "status": "ok",
     "timestamp": 1705076995476,
     "user": {
      "displayName": "Likun Cao",
      "userId": "01917344510473464948"
     },
     "user_tz": 360
    },
    "id": "jT2ZEeyNcTf-",
    "outputId": "d73d0134-169d-4017-9f3b-ef892b3c91e0"
   },
   "outputs": [
    {
     "data": {
      "image/png": "[encoded data removed]",
      "text/plain": [
       "<Figure size 640x480 with 1 Axes>"
      ]
     },
     "metadata": {},
     "output_type": "display_data"
    }
   ],
   "source": [
    "nx.draw(stricter_graph, with_labels=True, font_weight=\"bold\")"
   ]
  },
  {
   "cell_type": "markdown",
   "metadata": {
    "id": "zaj_0EZAcTf_"
   },
   "source": [
    "This graph gives us an idea of the cliques: Jess is clearly the main character, and Jules's Mum speaks to everyone else the least. So far the networks have been useful in identifying the key players and relationships! We can also Jess's Mom and Dad forming a clique with Jess.\n",
    "\n",
    "Let's take a break from networks and move on to analysing some of the actual text spoken in the movie.\n",
    "\n",
    "## Text Analysis\n",
    "\n",
    "Text is used as information in all kinds of situations, and is used heavily in social scientific analysis. There are a very wide variety of text related methods one can use for different purposes. Text analysis can be useful for classifying documents and lines, for identifying intent, semantic content, parts of speech, named entities, and many more purposes. It can even be used to generate text, such as in chatbots. For a tutorial focusing only on text analysis, please see: https://github.com/bhargavvader/personal/blob/master/notebooks/text_analysis_tutorial/text_analysis_tutorial.ipynb\n",
    "\n",
    "We will be using one of the methods used in that notebook: Topic Modelling. Topic modelling is an unsupervised statistical learning algorithm which can be used to identify topics in large bodies of text. For example, if we were running topic models on newspapers, we'd likely see topics associated to the weather, politics, and sports. The algorithm assumes that topics are made of words, and documents are made of words. Similarly, documents can also be thought of as made up of topics. All of this will be more clear once we see the actual topics generated.\n",
    "\n",
    "For a tutorial specifically for topic modelling, please see:\n",
    "https://github.com/bhargavvader/personal/blob/master/notebooks/text_analysis_tutorial/topic_modelling.ipynb"
   ]
  },
  {
   "cell_type": "code",
   "execution_count": 44,
   "metadata": {
    "executionInfo": {
     "elapsed": 12,
     "status": "ok",
     "timestamp": 1705076998246,
     "user": {
      "displayName": "Likun Cao",
      "userId": "01917344510473464948"
     },
     "user_tz": 360
    },
    "id": "4eP9u6D2cTf_"
   },
   "outputs": [],
   "source": [
    "import spacy\n",
    "import gensim\n",
    "from gensim.corpora import Dictionary\n",
    "from gensim.models import LdaModel"
   ]
  },
  {
   "cell_type": "code",
   "execution_count": 45,
   "metadata": {
    "executionInfo": {
     "elapsed": 1158,
     "status": "ok",
     "timestamp": 1705077000971,
     "user": {
      "displayName": "Likun Cao",
      "userId": "01917344510473464948"
     },
     "user_tz": 360
    },
    "id": "gWQrm8aycTf_"
   },
   "outputs": [],
   "source": [
    "nlp = spacy.load(\"en_core_web_sm\")"
   ]
  },
  {
   "cell_type": "code",
   "execution_count": 46,
   "metadata": {
    "executionInfo": {
     "elapsed": 13,
     "status": "ok",
     "timestamp": 1705077001433,
     "user": {
      "displayName": "Likun Cao",
      "userId": "01917344510473464948"
     },
     "user_tz": 360
    },
    "id": "CEAUV0-EcTgA"
   },
   "outputs": [],
   "source": [
    "my_stop_words = [\"yeah\", \"like\", \"look\"]\n",
    "for stopword in my_stop_words:\n",
    "    lexeme = nlp.vocab[stopword]\n",
    "    lexeme.is_stop = True"
   ]
  },
  {
   "cell_type": "code",
   "execution_count": 47,
   "metadata": {
    "colab": {
     "base_uri": "https://localhost:8080/"
    },
    "executionInfo": {
     "elapsed": 7132,
     "status": "ok",
     "timestamp": 1705077013419,
     "user": {
      "displayName": "Likun Cao",
      "userId": "01917344510473464948"
     },
     "user_tz": 360
    },
    "id": "rN5MCilPcTgA",
    "outputId": "5629fd36-0ea5-457c-92d8-41420e941392"
   },
   "outputs": [
    {
     "name": "stderr",
     "output_type": "stream",
     "text": [
      "<>:7: SyntaxWarning: \"is not\" with a literal. Did you mean \"!=\"?\n",
      "<>:7: SyntaxWarning: \"is not\" with a literal. Did you mean \"!=\"?\n",
      "<ipython-input-47-86ad87889221>:7: SyntaxWarning: \"is not\" with a literal. Did you mean \"!=\"?\n",
      "  if w.text != '\\n' and not w.is_stop and not w.is_punct and not w.like_num and w.text != 'I' and w.text.strip() is not '':\n"
     ]
    }
   ],
   "source": [
    "# we add some words to the stop word list\n",
    "cleaned_texts, article = [], []\n",
    "for line in texts:\n",
    "    doc = nlp(line.lower())\n",
    "    for w in doc:\n",
    "        # if it's not a stop word or punctuation mark, add it to our article!\n",
    "        if (\n",
    "            w.text != \"\\n\"\n",
    "            and not w.is_stop\n",
    "            and not w.is_punct\n",
    "            and not w.like_num\n",
    "            and w.text != \"I\"\n",
    "            and w.text.strip() is not \"\"\n",
    "        ):\n",
    "            # we add the lematized version of the word\n",
    "            article.append(w.lemma_)\n",
    "    cleaned_texts.append(article)\n",
    "    article = []"
   ]
  },
  {
   "cell_type": "code",
   "execution_count": 48,
   "metadata": {
    "colab": {
     "base_uri": "https://localhost:8080/"
    },
    "executionInfo": {
     "elapsed": 266,
     "status": "ok",
     "timestamp": 1705077023069,
     "user": {
      "displayName": "Likun Cao",
      "userId": "01917344510473464948"
     },
     "user_tz": 360
    },
    "id": "mV10AGnqcTgA",
    "outputId": "497a3621-92db-4b77-f0d5-8c5404e5d808"
   },
   "outputs": [
    {
     "data": {
      "text/plain": [
       "['come', 'downstairs', 'sister', 'go', 'crazy']"
      ]
     },
     "execution_count": 48,
     "metadata": {},
     "output_type": "execute_result"
    }
   ],
   "source": [
    "cleaned_texts[9]"
   ]
  },
  {
   "cell_type": "code",
   "execution_count": 49,
   "metadata": {
    "executionInfo": {
     "elapsed": 242,
     "status": "ok",
     "timestamp": 1705077024338,
     "user": {
      "displayName": "Likun Cao",
      "userId": "01917344510473464948"
     },
     "user_tz": 360
    },
    "id": "NQiety41cTgB"
   },
   "outputs": [],
   "source": [
    "dictionary = Dictionary(cleaned_texts)\n",
    "corpus = [dictionary.doc2bow(text) for text in cleaned_texts]"
   ]
  },
  {
   "cell_type": "code",
   "execution_count": 50,
   "metadata": {
    "colab": {
     "base_uri": "https://localhost:8080/"
    },
    "executionInfo": {
     "elapsed": 246,
     "status": "ok",
     "timestamp": 1705077026487,
     "user": {
      "displayName": "Likun Cao",
      "userId": "01917344510473464948"
     },
     "user_tz": 360
    },
    "id": "jtw0wL5DcTgB",
    "outputId": "0faf66cf-cd7b-4c70-9858-bceb97573539"
   },
   "outputs": [
    {
     "data": {
      "text/plain": [
       "[(12, 1), (31, 1), (137, 1), (143, 1), (144, 1)]"
      ]
     },
     "execution_count": 50,
     "metadata": {},
     "output_type": "execute_result"
    }
   ],
   "source": [
    "corpus[9]"
   ]
  },
  {
   "cell_type": "code",
   "execution_count": 51,
   "metadata": {
    "colab": {
     "base_uri": "https://localhost:8080/"
    },
    "executionInfo": {
     "elapsed": 935,
     "status": "ok",
     "timestamp": 1705077031928,
     "user": {
      "displayName": "Likun Cao",
      "userId": "01917344510473464948"
     },
     "user_tz": 360
    },
    "id": "OAvSHtzzcTgB",
    "outputId": "161241a7-5f37-4274-80e8-5853b978c0a3"
   },
   "outputs": [
    {
     "name": "stderr",
     "output_type": "stream",
     "text": [
      "WARNING:gensim.models.ldamodel:too few updates, training might not converge; consider increasing the number of passes or iterations to improve accuracy\n"
     ]
    }
   ],
   "source": [
    "ldamodel = LdaModel(corpus=corpus, num_topics=5, id2word=dictionary)"
   ]
  },
  {
   "cell_type": "code",
   "execution_count": 52,
   "metadata": {
    "colab": {
     "base_uri": "https://localhost:8080/"
    },
    "executionInfo": {
     "elapsed": 267,
     "status": "ok",
     "timestamp": 1705077032712,
     "user": {
      "displayName": "Likun Cao",
      "userId": "01917344510473464948"
     },
     "user_tz": 360
    },
    "id": "vmp9BNJwcTgB",
    "outputId": "e6ee7640-badd-47b2-a244-2fcf2a1f9d6a"
   },
   "outputs": [
    {
     "data": {
      "text/plain": [
       "[(0,\n",
       "  '0.026*\"know\" + 0.020*\"come\" + 0.020*\"want\" + 0.016*\"oh\" + 0.015*\"joe\" + 0.013*\"jule\" + 0.013*\"go\" + 0.012*\"good\" + 0.011*\"play\" + 0.011*\"get\"'),\n",
       " (1,\n",
       "  '0.027*\"jess\" + 0.022*\"hot\" + 0.015*\"get\" + 0.014*\"good\" + 0.013*\"think\" + 0.012*\"mum\" + 0.009*\"dream\" + 0.009*\"go\" + 0.009*\"tell\" + 0.008*\"sorry\"'),\n",
       " (2,\n",
       "  '0.031*\"mum\" + 0.024*\"jess\" + 0.022*\"dad\" + 0.018*\"go\" + 0.015*\"know\" + 0.014*\"play\" + 0.012*\"good\" + 0.011*\"oh\" + 0.011*\"come\" + 0.011*\"thank\"'),\n",
       " (3,\n",
       "  '0.022*\"come\" + 0.020*\"want\" + 0.017*\"play\" + 0.013*\"need\" + 0.012*\"football\" + 0.012*\"girl\" + 0.010*\"team\" + 0.009*\"boy\" + 0.009*\"ball\" + 0.008*\"mum\"'),\n",
       " (4,\n",
       "  '0.019*\"want\" + 0.016*\"come\" + 0.013*\"hot\" + 0.011*\"play\" + 0.010*\"let\" + 0.010*\"go\" + 0.010*\"know\" + 0.010*\"get\" + 0.010*\"oh\" + 0.008*\"right\"')]"
      ]
     },
     "execution_count": 52,
     "metadata": {},
     "output_type": "execute_result"
    }
   ],
   "source": [
    "ldamodel.print_topics()"
   ]
  },
  {
   "cell_type": "markdown",
   "metadata": {
    "id": "e0YPlsKbcTgC"
   },
   "source": [
    "We can see here 5 topics: one is to do with talking to Mums (there is a lot of that going on in this movie), abuot playing, one about Jess, and one to do with the coach. We can try and guess which kinds of scenes are dominated by which topics (or write some code to identify it, too!).\n",
    "\n",
    "So we now see the power of topic models in getting a birds eye view of a large body of text: it can be even more powerful on larger texts with more well defined topics. I highly encourage you to check out both the tutorials I linked to earlier, they cover the same methods but in more detail. This is also just the beginning of the power of such methods: gensim has a variety of tutorials in their documentation on different ways you can use such models."
   ]
  },
  {
   "cell_type": "markdown",
   "metadata": {
    "id": "G599XdpqcTgC"
   },
   "source": [
    "## Networks + Topics\n",
    "\n",
    "We're now going to combine both of the ideas we explored! We can use these topic models to get an idea of the kinds of things each of the key characters talked about. One good example is the paper - Individuals, institutions, and innovation in the debates of the French Revolution (https://www.pnas.org/content/115/18/4607), where they use topic models to find similarities and differences between the topics of different individuals in the French revolution.\n",
    "\n",
    "Let us use some of these ideas to create a graph which also contains information of the topic distributions of each of the key characters."
   ]
  },
  {
   "cell_type": "code",
   "execution_count": 53,
   "metadata": {
    "executionInfo": {
     "elapsed": 10,
     "status": "ok",
     "timestamp": 1705077035815,
     "user": {
      "displayName": "Likun Cao",
      "userId": "01917344510473464948"
     },
     "user_tz": 360
    },
    "id": "SGjsWaj4cTgC"
   },
   "outputs": [],
   "source": [
    "key_character_texts_cleaned = {}\n",
    "key_character_all_words = {}\n",
    "key_character_doc2bow = {}"
   ]
  },
  {
   "cell_type": "code",
   "execution_count": 86,
   "metadata": {
    "colab": {
     "base_uri": "https://localhost:8080/"
    },
    "executionInfo": {
     "elapsed": 6919,
     "status": "ok",
     "timestamp": 1705077694089,
     "user": {
      "displayName": "Likun Cao",
      "userId": "01917344510473464948"
     },
     "user_tz": 360
    },
    "id": "6MC0sr83cTgD",
    "outputId": "e45ffedb-7bc4-4af2-a1bf-59c2166ffce3"
   },
   "outputs": [
    {
     "name": "stderr",
     "output_type": "stream",
     "text": [
      "<>:7: SyntaxWarning: \"is not\" with a literal. Did you mean \"!=\"?\n",
      "<>:7: SyntaxWarning: \"is not\" with a literal. Did you mean \"!=\"?\n",
      "<ipython-input-86-6900668f811b>:7: SyntaxWarning: \"is not\" with a literal. Did you mean \"!=\"?\n",
      "  if w.text != '\\n' and not w.is_stop and not w.is_punct and not w.like_num and w.text != 'I' and w.text.strip() is not '':\n"
     ]
    }
   ],
   "source": [
    "for character in key_character_texts:\n",
    "    key_character_texts_cleaned[character] = []\n",
    "    for line in key_character_texts[character]:\n",
    "        doc = nlp(line.lower())\n",
    "        for w in doc:\n",
    "            # if it's not a stop word or punctuation mark, add it to our article!\n",
    "            if (\n",
    "                w.text != \"\\n\"\n",
    "                and not w.is_stop\n",
    "                and not w.is_punct\n",
    "                and not w.like_num\n",
    "                and w.text != \"I\"\n",
    "                and w.text.strip() is not \"\"\n",
    "            ):\n",
    "                # we add the lematized version of the word\n",
    "                article.append(w.lemma_)\n",
    "            # if it's a new line, it means we're onto our next document\n",
    "        key_character_texts_cleaned[character].append(article)\n",
    "        article = []\n",
    "    # now that we have all the cleaned texts, we can find all the words used\n",
    "    key_character_all_words[character] = []\n",
    "    for line in key_character_texts_cleaned[character]:\n",
    "        for word in line:\n",
    "            key_character_all_words[character].append(word)\n",
    "    # we convert these words to doc2bow\n",
    "    key_character_doc2bow[character] = dictionary.doc2bow(\n",
    "        key_character_all_words[character]\n",
    "    )\n",
    "    # we convert the doc2bow to topic proportions, and assign to the graph\n",
    "    character_graph.nodes()[character][\"topic_proportions\"] = ldamodel[\n",
    "        key_character_doc2bow[character]\n",
    "    ]"
   ]
  },
  {
   "cell_type": "code",
   "execution_count": null,
   "metadata": {
    "id": "nW6RascGcTgD"
   },
   "outputs": [],
   "source": [
    "# to make all the lists equal size\n",
    "# character_graph.nodes['Jules']['topic_proportions'].append((4,0.04))"
   ]
  },
  {
   "cell_type": "code",
   "execution_count": 87,
   "metadata": {
    "colab": {
     "base_uri": "https://localhost:8080/"
    },
    "executionInfo": {
     "elapsed": 8,
     "status": "ok",
     "timestamp": 1705077694089,
     "user": {
      "displayName": "Likun Cao",
      "userId": "01917344510473464948"
     },
     "user_tz": 360
    },
    "id": "uN4nLjXGcTgD",
    "outputId": "66417412-2472-437c-c53d-77c48590039d"
   },
   "outputs": [
    {
     "name": "stdout",
     "output_type": "stream",
     "text": [
      "Jess [(0, 0.3209911), (1, 0.07143412), (2, 0.34901363), (3, 0.1515386), (4, 0.10702256)]\n",
      "Pinky [(0, 0.1633667), (1, 0.16749978), (2, 0.38361058), (3, 0.12026661), (4, 0.16525632)]\n",
      "Jules [(0, 0.29452112), (1, 0.18516092), (2, 0.39762777), (3, 0.061691035), (4, 0.060999174)]\n",
      "Jules's Mum [(0, 0.637492), (1, 0.1598461), (2, 0.03119343), (4, 0.17056012)]\n",
      "Tony [(0, 0.21989244), (1, 0.24369383), (2, 0.3661856), (4, 0.16855803)]\n",
      "Jess's Dad [(0, 0.33685791), (1, 0.111645155), (2, 0.17211139), (3, 0.13577412), (4, 0.24361141)]\n",
      "Coach [(0, 0.18615283), (1, 0.14943211), (2, 0.3329072), (3, 0.13644166), (4, 0.19506617)]\n",
      "Jess's Mum [(0, 0.22637466), (1, 0.18486808), (2, 0.14112559), (3, 0.20794602), (4, 0.23968562)]\n"
     ]
    }
   ],
   "source": [
    "for actor in character_graph.nodes():\n",
    "    print(actor, character_graph.nodes[actor][\"topic_proportions\"])"
   ]
  },
  {
   "cell_type": "markdown",
   "metadata": {
    "id": "ZrClK0WdcTgD"
   },
   "source": [
    "We now have our graph with the topic proportions as well! Let us now see how similar or different they are to each other. We can measure topic similarity or difference using certain information metrics which measure probability similarities."
   ]
  },
  {
   "cell_type": "code",
   "execution_count": 57,
   "metadata": {
    "executionInfo": {
     "elapsed": 262,
     "status": "ok",
     "timestamp": 1705077161015,
     "user": {
      "displayName": "Likun Cao",
      "userId": "01917344510473464948"
     },
     "user_tz": 360
    },
    "id": "krW7pCmhcTgE"
   },
   "outputs": [],
   "source": [
    "from gensim.matutils import kullback_leibler"
   ]
  },
  {
   "cell_type": "code",
   "execution_count": 88,
   "metadata": {
    "executionInfo": {
     "elapsed": 223,
     "status": "ok",
     "timestamp": 1705077699037,
     "user": {
      "displayName": "Likun Cao",
      "userId": "01917344510473464948"
     },
     "user_tz": 360
    },
    "id": "a2PQdef7cTgE"
   },
   "outputs": [],
   "source": [
    "def convert_to_prob(bow):\n",
    "    ps = []\n",
    "    for topic_no, topic_prob in bow:\n",
    "        ps.append(topic_prob)\n",
    "    return ps"
   ]
  },
  {
   "cell_type": "code",
   "execution_count": 89,
   "metadata": {
    "colab": {
     "base_uri": "https://localhost:8080/",
     "height": 403
    },
    "executionInfo": {
     "elapsed": 24,
     "status": "error",
     "timestamp": 1705077700725,
     "user": {
      "displayName": "Likun Cao",
      "userId": "01917344510473464948"
     },
     "user_tz": 360
    },
    "id": "e9mr7ilQcTgE",
    "outputId": "5e427f33-56d5-4621-ae53-c6501fde6b09"
   },
   "outputs": [
    {
     "ename": "ValueError",
     "evalue": "shape mismatch: objects cannot be broadcast to a single shape.  Mismatch is between arg 0 with shape (5,) and arg 1 with shape (4,).",
     "output_type": "error",
     "traceback": [
      "\u001B[0;31m---------------------------------------------------------------------------\u001B[0m",
      "\u001B[0;31mValueError\u001B[0m                                Traceback (most recent call last)",
      "\u001B[0;32m<ipython-input-89-02722bfeaa70>\u001B[0m in \u001B[0;36m<cell line: 2>\u001B[0;34m()\u001B[0m\n\u001B[1;32m      7\u001B[0m         \u001B[0mq\u001B[0m \u001B[0;34m=\u001B[0m \u001B[0mcharacter_graph\u001B[0m\u001B[0;34m.\u001B[0m\u001B[0mnodes\u001B[0m\u001B[0;34m[\u001B[0m\u001B[0mactor_2\u001B[0m\u001B[0;34m]\u001B[0m\u001B[0;34m[\u001B[0m\u001B[0;34m'topic_proportions'\u001B[0m\u001B[0;34m]\u001B[0m\u001B[0;34m\u001B[0m\u001B[0;34m\u001B[0m\u001B[0m\n\u001B[1;32m      8\u001B[0m         \u001B[0mq\u001B[0m \u001B[0;34m=\u001B[0m \u001B[0mconvert_to_prob\u001B[0m\u001B[0;34m(\u001B[0m\u001B[0mq\u001B[0m\u001B[0;34m)\u001B[0m\u001B[0;34m\u001B[0m\u001B[0;34m\u001B[0m\u001B[0m\n\u001B[0;32m----> 9\u001B[0;31m         \u001B[0ml\u001B[0m\u001B[0;34m.\u001B[0m\u001B[0mappend\u001B[0m\u001B[0;34m(\u001B[0m\u001B[0mkullback_leibler\u001B[0m\u001B[0;34m(\u001B[0m\u001B[0mp\u001B[0m\u001B[0;34m,\u001B[0m \u001B[0mq\u001B[0m\u001B[0;34m)\u001B[0m\u001B[0;34m)\u001B[0m\u001B[0;34m\u001B[0m\u001B[0;34m\u001B[0m\u001B[0m\n\u001B[0m\u001B[1;32m     10\u001B[0m     \u001B[0mL\u001B[0m\u001B[0;34m.\u001B[0m\u001B[0mappend\u001B[0m\u001B[0;34m(\u001B[0m\u001B[0ml\u001B[0m\u001B[0;34m)\u001B[0m\u001B[0;34m\u001B[0m\u001B[0;34m\u001B[0m\u001B[0m\n\u001B[1;32m     11\u001B[0m \u001B[0mM\u001B[0m \u001B[0;34m=\u001B[0m \u001B[0mnp\u001B[0m\u001B[0;34m.\u001B[0m\u001B[0marray\u001B[0m\u001B[0;34m(\u001B[0m\u001B[0mL\u001B[0m\u001B[0;34m)\u001B[0m\u001B[0;34m\u001B[0m\u001B[0;34m\u001B[0m\u001B[0m\n",
      "\u001B[0;32m/usr/local/lib/python3.10/dist-packages/gensim/matutils.py\u001B[0m in \u001B[0;36mkullback_leibler\u001B[0;34m(vec1, vec2, num_features)\u001B[0m\n\u001B[1;32m    892\u001B[0m     \"\"\"\n\u001B[1;32m    893\u001B[0m     \u001B[0mvec1\u001B[0m\u001B[0;34m,\u001B[0m \u001B[0mvec2\u001B[0m \u001B[0;34m=\u001B[0m \u001B[0m_convert_vec\u001B[0m\u001B[0;34m(\u001B[0m\u001B[0mvec1\u001B[0m\u001B[0;34m,\u001B[0m \u001B[0mvec2\u001B[0m\u001B[0;34m,\u001B[0m \u001B[0mnum_features\u001B[0m\u001B[0;34m=\u001B[0m\u001B[0mnum_features\u001B[0m\u001B[0;34m)\u001B[0m\u001B[0;34m\u001B[0m\u001B[0;34m\u001B[0m\u001B[0m\n\u001B[0;32m--> 894\u001B[0;31m     \u001B[0;32mreturn\u001B[0m \u001B[0mentropy\u001B[0m\u001B[0;34m(\u001B[0m\u001B[0mvec1\u001B[0m\u001B[0;34m,\u001B[0m \u001B[0mvec2\u001B[0m\u001B[0;34m)\u001B[0m\u001B[0;34m\u001B[0m\u001B[0;34m\u001B[0m\u001B[0m\n\u001B[0m\u001B[1;32m    895\u001B[0m \u001B[0;34m\u001B[0m\u001B[0m\n\u001B[1;32m    896\u001B[0m \u001B[0;34m\u001B[0m\u001B[0m\n",
      "\u001B[0;32m/usr/local/lib/python3.10/dist-packages/scipy/stats/_entropy.py\u001B[0m in \u001B[0;36mentropy\u001B[0;34m(pk, qk, base, axis)\u001B[0m\n\u001B[1;32m    136\u001B[0m     \u001B[0;32melse\u001B[0m\u001B[0;34m:\u001B[0m\u001B[0;34m\u001B[0m\u001B[0;34m\u001B[0m\u001B[0m\n\u001B[1;32m    137\u001B[0m         \u001B[0mqk\u001B[0m \u001B[0;34m=\u001B[0m \u001B[0mnp\u001B[0m\u001B[0;34m.\u001B[0m\u001B[0masarray\u001B[0m\u001B[0;34m(\u001B[0m\u001B[0mqk\u001B[0m\u001B[0;34m)\u001B[0m\u001B[0;34m\u001B[0m\u001B[0;34m\u001B[0m\u001B[0m\n\u001B[0;32m--> 138\u001B[0;31m         \u001B[0mpk\u001B[0m\u001B[0;34m,\u001B[0m \u001B[0mqk\u001B[0m \u001B[0;34m=\u001B[0m \u001B[0mnp\u001B[0m\u001B[0;34m.\u001B[0m\u001B[0mbroadcast_arrays\u001B[0m\u001B[0;34m(\u001B[0m\u001B[0mpk\u001B[0m\u001B[0;34m,\u001B[0m \u001B[0mqk\u001B[0m\u001B[0;34m)\u001B[0m\u001B[0;34m\u001B[0m\u001B[0;34m\u001B[0m\u001B[0m\n\u001B[0m\u001B[1;32m    139\u001B[0m         \u001B[0mqk\u001B[0m \u001B[0;34m=\u001B[0m \u001B[0;36m1.0\u001B[0m\u001B[0;34m*\u001B[0m\u001B[0mqk\u001B[0m \u001B[0;34m/\u001B[0m \u001B[0mnp\u001B[0m\u001B[0;34m.\u001B[0m\u001B[0msum\u001B[0m\u001B[0;34m(\u001B[0m\u001B[0mqk\u001B[0m\u001B[0;34m,\u001B[0m \u001B[0maxis\u001B[0m\u001B[0;34m=\u001B[0m\u001B[0maxis\u001B[0m\u001B[0;34m,\u001B[0m \u001B[0mkeepdims\u001B[0m\u001B[0;34m=\u001B[0m\u001B[0;32mTrue\u001B[0m\u001B[0;34m)\u001B[0m\u001B[0;34m\u001B[0m\u001B[0;34m\u001B[0m\u001B[0m\n\u001B[1;32m    140\u001B[0m         \u001B[0mvec\u001B[0m \u001B[0;34m=\u001B[0m \u001B[0mspecial\u001B[0m\u001B[0;34m.\u001B[0m\u001B[0mrel_entr\u001B[0m\u001B[0;34m(\u001B[0m\u001B[0mpk\u001B[0m\u001B[0;34m,\u001B[0m \u001B[0mqk\u001B[0m\u001B[0;34m)\u001B[0m\u001B[0;34m\u001B[0m\u001B[0;34m\u001B[0m\u001B[0m\n",
      "\u001B[0;32m/usr/local/lib/python3.10/dist-packages/numpy/core/overrides.py\u001B[0m in \u001B[0;36mbroadcast_arrays\u001B[0;34m(*args, **kwargs)\u001B[0m\n",
      "\u001B[0;32m/usr/local/lib/python3.10/dist-packages/numpy/lib/stride_tricks.py\u001B[0m in \u001B[0;36mbroadcast_arrays\u001B[0;34m(subok, *args)\u001B[0m\n\u001B[1;32m    538\u001B[0m     \u001B[0margs\u001B[0m \u001B[0;34m=\u001B[0m \u001B[0;34m[\u001B[0m\u001B[0mnp\u001B[0m\u001B[0;34m.\u001B[0m\u001B[0marray\u001B[0m\u001B[0;34m(\u001B[0m\u001B[0m_m\u001B[0m\u001B[0;34m,\u001B[0m \u001B[0mcopy\u001B[0m\u001B[0;34m=\u001B[0m\u001B[0;32mFalse\u001B[0m\u001B[0;34m,\u001B[0m \u001B[0msubok\u001B[0m\u001B[0;34m=\u001B[0m\u001B[0msubok\u001B[0m\u001B[0;34m)\u001B[0m \u001B[0;32mfor\u001B[0m \u001B[0m_m\u001B[0m \u001B[0;32min\u001B[0m \u001B[0margs\u001B[0m\u001B[0;34m]\u001B[0m\u001B[0;34m\u001B[0m\u001B[0;34m\u001B[0m\u001B[0m\n\u001B[1;32m    539\u001B[0m \u001B[0;34m\u001B[0m\u001B[0m\n\u001B[0;32m--> 540\u001B[0;31m     \u001B[0mshape\u001B[0m \u001B[0;34m=\u001B[0m \u001B[0m_broadcast_shape\u001B[0m\u001B[0;34m(\u001B[0m\u001B[0;34m*\u001B[0m\u001B[0margs\u001B[0m\u001B[0;34m)\u001B[0m\u001B[0;34m\u001B[0m\u001B[0;34m\u001B[0m\u001B[0m\n\u001B[0m\u001B[1;32m    541\u001B[0m \u001B[0;34m\u001B[0m\u001B[0m\n\u001B[1;32m    542\u001B[0m     \u001B[0;32mif\u001B[0m \u001B[0mall\u001B[0m\u001B[0;34m(\u001B[0m\u001B[0marray\u001B[0m\u001B[0;34m.\u001B[0m\u001B[0mshape\u001B[0m \u001B[0;34m==\u001B[0m \u001B[0mshape\u001B[0m \u001B[0;32mfor\u001B[0m \u001B[0marray\u001B[0m \u001B[0;32min\u001B[0m \u001B[0margs\u001B[0m\u001B[0;34m)\u001B[0m\u001B[0;34m:\u001B[0m\u001B[0;34m\u001B[0m\u001B[0;34m\u001B[0m\u001B[0m\n",
      "\u001B[0;32m/usr/local/lib/python3.10/dist-packages/numpy/lib/stride_tricks.py\u001B[0m in \u001B[0;36m_broadcast_shape\u001B[0;34m(*args)\u001B[0m\n\u001B[1;32m    420\u001B[0m     \u001B[0;31m# use the old-iterator because np.nditer does not handle size 0 arrays\u001B[0m\u001B[0;34m\u001B[0m\u001B[0;34m\u001B[0m\u001B[0m\n\u001B[1;32m    421\u001B[0m     \u001B[0;31m# consistently\u001B[0m\u001B[0;34m\u001B[0m\u001B[0;34m\u001B[0m\u001B[0m\n\u001B[0;32m--> 422\u001B[0;31m     \u001B[0mb\u001B[0m \u001B[0;34m=\u001B[0m \u001B[0mnp\u001B[0m\u001B[0;34m.\u001B[0m\u001B[0mbroadcast\u001B[0m\u001B[0;34m(\u001B[0m\u001B[0;34m*\u001B[0m\u001B[0margs\u001B[0m\u001B[0;34m[\u001B[0m\u001B[0;34m:\u001B[0m\u001B[0;36m32\u001B[0m\u001B[0;34m]\u001B[0m\u001B[0;34m)\u001B[0m\u001B[0;34m\u001B[0m\u001B[0;34m\u001B[0m\u001B[0m\n\u001B[0m\u001B[1;32m    423\u001B[0m     \u001B[0;31m# unfortunately, it cannot handle 32 or more arguments directly\u001B[0m\u001B[0;34m\u001B[0m\u001B[0;34m\u001B[0m\u001B[0m\n\u001B[1;32m    424\u001B[0m     \u001B[0;32mfor\u001B[0m \u001B[0mpos\u001B[0m \u001B[0;32min\u001B[0m \u001B[0mrange\u001B[0m\u001B[0;34m(\u001B[0m\u001B[0;36m32\u001B[0m\u001B[0;34m,\u001B[0m \u001B[0mlen\u001B[0m\u001B[0;34m(\u001B[0m\u001B[0margs\u001B[0m\u001B[0;34m)\u001B[0m\u001B[0;34m,\u001B[0m \u001B[0;36m31\u001B[0m\u001B[0;34m)\u001B[0m\u001B[0;34m:\u001B[0m\u001B[0;34m\u001B[0m\u001B[0;34m\u001B[0m\u001B[0m\n",
      "\u001B[0;31mValueError\u001B[0m: shape mismatch: objects cannot be broadcast to a single shape.  Mismatch is between arg 0 with shape (5,) and arg 1 with shape (4,)."
     ]
    }
   ],
   "source": [
    "L = []\n",
    "for actor_1 in character_graph.nodes():\n",
    "    p = character_graph.nodes[actor_1][\"topic_proportions\"]\n",
    "    p = convert_to_prob(p)\n",
    "    l = []\n",
    "    for actor_2 in character_graph.nodes():\n",
    "        q = character_graph.nodes[actor_2][\"topic_proportions\"]\n",
    "        q = convert_to_prob(q)\n",
    "        l.append(kullback_leibler(p, q))\n",
    "    L.append(l)\n",
    "M = np.array(L)"
   ]
  },
  {
   "cell_type": "code",
   "execution_count": 90,
   "metadata": {
    "colab": {
     "base_uri": "https://localhost:8080/"
    },
    "executionInfo": {
     "elapsed": 277,
     "status": "ok",
     "timestamp": 1705077704477,
     "user": {
      "displayName": "Likun Cao",
      "userId": "01917344510473464948"
     },
     "user_tz": 360
    },
    "id": "_VYMnna_hyO6",
    "outputId": "df01a387-d108-4a9a-e9c6-da520174ea99"
   },
   "outputs": [
    {
     "data": {
      "text/plain": [
       "[(0, 0.637492), (1, 0.1598461), (2, 0.03119343), (4, 0.17056012), (3, 0)]"
      ]
     },
     "execution_count": 90,
     "metadata": {},
     "output_type": "execute_result"
    }
   ],
   "source": [
    "index = [x[0] for x in character_graph.nodes[actor_2][\"topic_proportions\"]]\n",
    "omit = set(range(0, 5)) - set(index)\n",
    "\n",
    "q = character_graph.nodes[actor_2][\"topic_proportions\"]\n",
    "\n",
    "for i in omit:\n",
    "    q.append((3, 0))\n",
    "q"
   ]
  },
  {
   "cell_type": "code",
   "execution_count": 93,
   "metadata": {
    "colab": {
     "base_uri": "https://localhost:8080/"
    },
    "executionInfo": {
     "elapsed": 15,
     "status": "ok",
     "timestamp": 1705077799953,
     "user": {
      "displayName": "Likun Cao",
      "userId": "01917344510473464948"
     },
     "user_tz": 360
    },
    "id": "DPyo_wZOjRl3",
    "outputId": "736f9690-0b8d-49e5-862c-ae722162ad68"
   },
   "outputs": [
    {
     "data": {
      "text/plain": [
       "[(0, 0.637492), (1, 0.1598461), (2, 0.03119343), (3, 0), (4, 0.17056012)]"
      ]
     },
     "execution_count": 93,
     "metadata": {},
     "output_type": "execute_result"
    }
   ],
   "source": [
    "q.sort(key=lambda x: x[0])\n",
    "q"
   ]
  },
  {
   "cell_type": "code",
   "execution_count": 94,
   "metadata": {
    "executionInfo": {
     "elapsed": 14,
     "status": "ok",
     "timestamp": 1705077895045,
     "user": {
      "displayName": "Likun Cao",
      "userId": "01917344510473464948"
     },
     "user_tz": 360
    },
    "id": "EGwLwn4Gjq_z"
   },
   "outputs": [],
   "source": [
    "L = []\n",
    "for actor_1 in character_graph.nodes():\n",
    "    p = character_graph.nodes[actor_1][\"topic_proportions\"]\n",
    "    index = [x[0] for x in character_graph.nodes[actor_1][\"topic_proportions\"]]\n",
    "    omit = set(range(0, 5)) - set(index)\n",
    "    for i in omit:\n",
    "        p.append((i, 0))\n",
    "    p = convert_to_prob(p)\n",
    "    l = []\n",
    "    for actor_2 in character_graph.nodes():\n",
    "        q = character_graph.nodes[actor_2][\"topic_proportions\"]\n",
    "        index = [\n",
    "            x[0] for x in character_graph.nodes[actor_2][\"topic_proportions\"]\n",
    "        ]\n",
    "        omit = set(range(0, 5)) - set(index)\n",
    "        for i in omit:\n",
    "            q.append((i, 0))\n",
    "        q = convert_to_prob(q)\n",
    "        l.append(kullback_leibler(p, q))\n",
    "    L.append(l)\n",
    "M = np.array(L)"
   ]
  },
  {
   "cell_type": "code",
   "execution_count": 96,
   "metadata": {
    "colab": {
     "base_uri": "https://localhost:8080/",
     "height": 503
    },
    "executionInfo": {
     "elapsed": 32,
     "status": "ok",
     "timestamp": 1705077904099,
     "user": {
      "displayName": "Likun Cao",
      "userId": "01917344510473464948"
     },
     "user_tz": 360
    },
    "id": "kGa17M4hcTgE",
    "outputId": "60f03bef-c4c5-4ec3-a017-d2f0de5ad8c3"
   },
   "outputs": [
    {
     "data": {
      "image/png": "[encoded data removed]",
      "text/plain": [
       "<Figure size 640x480 with 2 Axes>"
      ]
     },
     "metadata": {},
     "output_type": "display_data"
    }
   ],
   "source": [
    "fig = plt.figure()\n",
    "div = pd.DataFrame(\n",
    "    M,\n",
    "    columns=list(character_graph.nodes()),\n",
    "    index=list(character_graph.nodes()),\n",
    ")\n",
    "ax = sns.heatmap(div)\n",
    "plt.show()"
   ]
  },
  {
   "cell_type": "code",
   "execution_count": 97,
   "metadata": {
    "colab": {
     "base_uri": "https://localhost:8080/",
     "height": 503
    },
    "executionInfo": {
     "elapsed": 1687,
     "status": "ok",
     "timestamp": 1705077950009,
     "user": {
      "displayName": "Likun Cao",
      "userId": "01917344510473464948"
     },
     "user_tz": 360
    },
    "id": "OuTmsFNUkHzO",
    "outputId": "eaecb856-e82b-48a2-8b5d-3072b1c0947d"
   },
   "outputs": [
    {
     "data": {
      "image/png": "[encoded data removed]",
      "text/plain": [
       "<Figure size 640x480 with 2 Axes>"
      ]
     },
     "metadata": {},
     "output_type": "display_data"
    }
   ],
   "source": [
    "fig = plt.figure()\n",
    "div = pd.DataFrame(\n",
    "    M,\n",
    "    columns=list(character_graph.nodes()),\n",
    "    index=list(character_graph.nodes()),\n",
    ")\n",
    "ax = sns.heatmap(div, vmin=0, vmax=1)\n",
    "plt.show()"
   ]
  },
  {
   "cell_type": "markdown",
   "metadata": {
    "id": "gjggG4YbcTgF"
   },
   "source": [
    "Let us try and understand this plot: we see two clusters, one between Jules, Pinky and Jess, and the rest seperated. This makes sense! They all do use similar language in the movie: the Coach, Joe, and Jesse's Mum also speak quite similarly, which doesn't make a 100% sense, but they do talk about Jess a lot, so maybe that's the reason?"
   ]
  },
  {
   "cell_type": "markdown",
   "metadata": {
    "id": "KeX9CVX5cTgF"
   },
   "source": [
    "## Conclusions and Ways Forward\n",
    "\n",
    "Phew - there was a lot going on there! We explored a variety of concepts, from networks, to topic models, to measuring similarities between topic models. These methods serve as the base for a variety of more complex analysis, and hopefully have served as a way to illustrate the kinds of tools Computational Social Scientists use throughout the analysis. A huge part of the notebook was also cleaning and organising data into different structures so that we can analyse them: this is a very important part of Computational Social Science, and indeed any data analysis exercise.\n",
    "\n",
    "While the movie we chose to analyse may not have thrown us any very surprusing results, it did help in providing us some useful summarising ideas about the movie which we understood only by looking at the text of the script. While Social Scientists may not sit around analysing movie texts, if the process is operationalised to a large number of movies, it may be useful to have some of the metrics we learned in the tutorial today. Different social scientists use different parts of the tools we explored today to carry out their analysis.\n",
    "\n",
    "If you wish to carry out your own academic research and analysis, focus on your research question and what kind of data might be helpful in answering the question. Then, explore the exisiting literature on the question, and think of a computational technique might help in add to the literature in a useful way. Outside of academia, these methods can still be used for a variety of business and personal needs.\n",
    "\n",
    "Happy researching and problem solving - and feel free to reach out to me for any clarifications, advice, or suggestions/errata!"
   ]
  }
 ],
 "metadata": {
  "colab": {
   "provenance": []
  },
  "kernelspec": {
   "display_name": "Python 3",
   "language": "python",
   "name": "python3"
  },
  "language_info": {
   "codemirror_mode": {
    "name": "ipython",
    "version": 3
   },
   "file_extension": ".py",
   "mimetype": "text/x-python",
   "name": "python",
   "nbconvert_exporter": "python",
   "pygments_lexer": "ipython3",
   "version": "3.7.6"
  }
 },
 "nbformat": 4,
 "nbformat_minor": 0
}
