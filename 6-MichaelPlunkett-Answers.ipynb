{
 "cells": [
  {
   "cell_type": "code",
   "execution_count": 1,
   "id": "initial_id",
   "metadata": {
    "collapsed": true,
    "ExecuteTime": {
     "end_time": "2024-02-08T05:05:39.241258Z",
     "start_time": "2024-02-08T05:05:35.909664Z"
    }
   },
   "outputs": [],
   "source": [
    "import os\n",
    "\n",
    "import lucem_illud\n",
    "import pandas as pd\n",
    "from openai import OpenAI"
   ]
  },
  {
   "cell_type": "markdown",
   "id": "2cbf16f4c9ae2d96",
   "metadata": {
    "collapsed": false
   },
   "source": [
    "# Constants, Utility Functions, and Data Importing"
   ]
  },
  {
   "cell_type": "code",
   "execution_count": 3,
   "id": "bf30fc4eb9ca27ed",
   "metadata": {
    "collapsed": false,
    "ExecuteTime": {
     "end_time": "2024-02-08T05:05:47.866580Z",
     "start_time": "2024-02-08T05:05:47.832731Z"
    }
   },
   "outputs": [],
   "source": [
    "# Constants and Clients\n",
    "MAX_CHAR_LEN = 5000000\n",
    "\n",
    "\n",
    "openai_client = OpenAI(api_key=os.environ.get(\"OPENAI_API_KEY\"))"
   ]
  },
  {
   "cell_type": "code",
   "execution_count": null,
   "id": "9d3cd0e46fb80e4",
   "metadata": {
    "collapsed": false
   },
   "outputs": [],
   "source": [
    "# Utility Functions"
   ]
  },
  {
   "cell_type": "code",
   "execution_count": 5,
   "id": "6ecdd2a2e9f4fec",
   "metadata": {
    "collapsed": false,
    "ExecuteTime": {
     "end_time": "2024-02-08T05:09:15.414030Z",
     "start_time": "2024-02-08T05:09:13.793007Z"
    }
   },
   "outputs": [
    {
     "data": {
      "text/plain": "  legislation number                                                url  \\\n0          H.R. 2907  https://www.congress.gov/bill/118th-congress/h...   \n1            S. 1297  https://www.congress.gov/bill/118th-congress/s...   \n2          H.R. 4901  https://www.congress.gov/bill/118th-congress/h...   \n3            S. 2544  https://www.congress.gov/bill/118th-congress/s...   \n4          H.R. 4147  https://www.congress.gov/bill/118th-congress/h...   \n\n                     congress  \\\n0  118th Congress (2023-2024)   \n1  118th Congress (2023-2024)   \n2  118th Congress (2023-2024)   \n3  118th Congress (2023-2024)   \n4  118th Congress (2023-2024)   \n\n                                              title  date proposed  \\\n0  Let Doctors Provide Reproductive Health Care Act            NaN   \n1  Let Doctors Provide Reproductive Health Care Act            NaN   \n2        Reproductive Health Care Accessibility Act            NaN   \n3        Reproductive Health Care Accessibility Act            NaN   \n4     Reproductive Health Care Training Act of 2023            NaN   \n\n   amends amendment                                     latest summary  \\\n0               NaN   <p><strong>Let Doctors Provide Reproductive H...   \n1               NaN   <p><strong>Let Doctors Provide Reproductive H...   \n2               NaN   <p><strong>Reproductive Health Care Accessibi...   \n3               NaN   <p><strong>Reproductive Health Care Accessibi...   \n4               NaN                                               None   \n\n   congress_num bill_type  bill_num  ...  \\\n0           118        hr      2907  ...   \n1           118         s      1297  ...   \n2           118        hr      4901  ...   \n3           118         s      2544  ...   \n4           118        hr      4147  ...   \n\n                                            raw_text  \\\n0  \\n[Congressional Bills 118th Congress]\\n[From ...   \n1  \\n[Congressional Bills 118th Congress]\\n[From ...   \n2  \\n[Congressional Bills 118th Congress]\\n[From ...   \n3  \\n[Congressional Bills 118th Congress]\\n[From ...   \n4  \\n[Congressional Bills 118th Congress]\\n[From ...   \n\n                                        cleaned_text  \\\n0  Congressional Bills 118th Congress From the U....   \n1  Congressional Bills 118th Congress From the U....   \n2  Congressional Bills 118th Congress From the U....   \n3  Congressional Bills 118th Congress From the U....   \n4  Congressional Bills 118th Congress From the U....   \n\n                                     cleaned_summary kmeans_predictions  \\\n0  Let Doctors Provide Reproductive Health Care A...                 29   \n1  Let Doctors Provide Reproductive Health Care A...                 29   \n2  Reproductive Health Care Accessibility Act Thi...                  7   \n3  Reproductive Health Care Accessibility Act Thi...                  7   \n4                                               None                  0   \n\n  fcluster_predictions                                     tokenized_text  \\\n0                    2  [time, enforcement, or, protective, considerat...   \n1                    2  [Murphy, time, Hirono, enforcement, Welch, or,...   \n2                    2  [experience, g, Community, throughout, partici...   \n3                    2  [experience, 2544, g, Community, throughout, p...   \n4                    2  [g, identification, minority, time, centers, o...   \n\n                                   normalized_tokens  \\\n0  [publishing, time, enforcement, protective, co...   \n1  [publishing, time, van, enforcement, mrs, prot...   \n2  [publishing, experience, g, participating, tim...   \n3  [publishing, experience, g, participating, tim...   \n4  [improve, act, public, pensions, cited, publis...   \n\n                                      reduced_tokens  \\\n0  [enforcement, consideration, specific, affecte...   \n1  [enforcement, specific, affected, defined, sin...   \n2  [participating, tribes, centers, consideration...   \n3  [participating, tribes, centers, consideration...   \n4  [improve, establish, number, identification, p...   \n\n                                 tokenized_sentences  \\\n0  [[Congressional, Bills, 118th, Congress, From,...   \n1  [[Congressional, Bills, 118th, Congress, From,...   \n2  [[Congressional, Bills, 118th, Congress, From,...   \n3  [[Congressional, Bills, 118th, Congress, From,...   \n4  [[Congressional, Bills, 118th, Congress, From,...   \n\n                                normalized_sentences  \n0  [[congressional, bills, congress, u.s, governm...  \n1  [[congressional, bills, congress, u.s, governm...  \n2  [[congressional, bills, congress, u.s, governm...  \n3  [[congressional, bills, congress, u.s, governm...  \n4  [[congressional, bills, congress, u.s, governm...  \n\n[5 rows x 22 columns]",
      "text/html": "<div>\n<style scoped>\n    .dataframe tbody tr th:only-of-type {\n        vertical-align: middle;\n    }\n\n    .dataframe tbody tr th {\n        vertical-align: top;\n    }\n\n    .dataframe thead th {\n        text-align: right;\n    }\n</style>\n<table border=\"1\" class=\"dataframe\">\n  <thead>\n    <tr style=\"text-align: right;\">\n      <th></th>\n      <th>legislation number</th>\n      <th>url</th>\n      <th>congress</th>\n      <th>title</th>\n      <th>date proposed</th>\n      <th>amends amendment</th>\n      <th>latest summary</th>\n      <th>congress_num</th>\n      <th>bill_type</th>\n      <th>bill_num</th>\n      <th>...</th>\n      <th>raw_text</th>\n      <th>cleaned_text</th>\n      <th>cleaned_summary</th>\n      <th>kmeans_predictions</th>\n      <th>fcluster_predictions</th>\n      <th>tokenized_text</th>\n      <th>normalized_tokens</th>\n      <th>reduced_tokens</th>\n      <th>tokenized_sentences</th>\n      <th>normalized_sentences</th>\n    </tr>\n  </thead>\n  <tbody>\n    <tr>\n      <th>0</th>\n      <td>H.R. 2907</td>\n      <td>https://www.congress.gov/bill/118th-congress/h...</td>\n      <td>118th Congress (2023-2024)</td>\n      <td>Let Doctors Provide Reproductive Health Care Act</td>\n      <td>NaN</td>\n      <td>NaN</td>\n      <td>&lt;p&gt;&lt;strong&gt;Let Doctors Provide Reproductive H...</td>\n      <td>118</td>\n      <td>hr</td>\n      <td>2907</td>\n      <td>...</td>\n      <td>\\n[Congressional Bills 118th Congress]\\n[From ...</td>\n      <td>Congressional Bills 118th Congress From the U....</td>\n      <td>Let Doctors Provide Reproductive Health Care A...</td>\n      <td>29</td>\n      <td>2</td>\n      <td>[time, enforcement, or, protective, considerat...</td>\n      <td>[publishing, time, enforcement, protective, co...</td>\n      <td>[enforcement, consideration, specific, affecte...</td>\n      <td>[[Congressional, Bills, 118th, Congress, From,...</td>\n      <td>[[congressional, bills, congress, u.s, governm...</td>\n    </tr>\n    <tr>\n      <th>1</th>\n      <td>S. 1297</td>\n      <td>https://www.congress.gov/bill/118th-congress/s...</td>\n      <td>118th Congress (2023-2024)</td>\n      <td>Let Doctors Provide Reproductive Health Care Act</td>\n      <td>NaN</td>\n      <td>NaN</td>\n      <td>&lt;p&gt;&lt;strong&gt;Let Doctors Provide Reproductive H...</td>\n      <td>118</td>\n      <td>s</td>\n      <td>1297</td>\n      <td>...</td>\n      <td>\\n[Congressional Bills 118th Congress]\\n[From ...</td>\n      <td>Congressional Bills 118th Congress From the U....</td>\n      <td>Let Doctors Provide Reproductive Health Care A...</td>\n      <td>29</td>\n      <td>2</td>\n      <td>[Murphy, time, Hirono, enforcement, Welch, or,...</td>\n      <td>[publishing, time, van, enforcement, mrs, prot...</td>\n      <td>[enforcement, specific, affected, defined, sin...</td>\n      <td>[[Congressional, Bills, 118th, Congress, From,...</td>\n      <td>[[congressional, bills, congress, u.s, governm...</td>\n    </tr>\n    <tr>\n      <th>2</th>\n      <td>H.R. 4901</td>\n      <td>https://www.congress.gov/bill/118th-congress/h...</td>\n      <td>118th Congress (2023-2024)</td>\n      <td>Reproductive Health Care Accessibility Act</td>\n      <td>NaN</td>\n      <td>NaN</td>\n      <td>&lt;p&gt;&lt;strong&gt;Reproductive Health Care Accessibi...</td>\n      <td>118</td>\n      <td>hr</td>\n      <td>4901</td>\n      <td>...</td>\n      <td>\\n[Congressional Bills 118th Congress]\\n[From ...</td>\n      <td>Congressional Bills 118th Congress From the U....</td>\n      <td>Reproductive Health Care Accessibility Act Thi...</td>\n      <td>7</td>\n      <td>2</td>\n      <td>[experience, g, Community, throughout, partici...</td>\n      <td>[publishing, experience, g, participating, tim...</td>\n      <td>[participating, tribes, centers, consideration...</td>\n      <td>[[Congressional, Bills, 118th, Congress, From,...</td>\n      <td>[[congressional, bills, congress, u.s, governm...</td>\n    </tr>\n    <tr>\n      <th>3</th>\n      <td>S. 2544</td>\n      <td>https://www.congress.gov/bill/118th-congress/s...</td>\n      <td>118th Congress (2023-2024)</td>\n      <td>Reproductive Health Care Accessibility Act</td>\n      <td>NaN</td>\n      <td>NaN</td>\n      <td>&lt;p&gt;&lt;strong&gt;Reproductive Health Care Accessibi...</td>\n      <td>118</td>\n      <td>s</td>\n      <td>2544</td>\n      <td>...</td>\n      <td>\\n[Congressional Bills 118th Congress]\\n[From ...</td>\n      <td>Congressional Bills 118th Congress From the U....</td>\n      <td>Reproductive Health Care Accessibility Act Thi...</td>\n      <td>7</td>\n      <td>2</td>\n      <td>[experience, 2544, g, Community, throughout, p...</td>\n      <td>[publishing, experience, g, participating, tim...</td>\n      <td>[participating, tribes, centers, consideration...</td>\n      <td>[[Congressional, Bills, 118th, Congress, From,...</td>\n      <td>[[congressional, bills, congress, u.s, governm...</td>\n    </tr>\n    <tr>\n      <th>4</th>\n      <td>H.R. 4147</td>\n      <td>https://www.congress.gov/bill/118th-congress/h...</td>\n      <td>118th Congress (2023-2024)</td>\n      <td>Reproductive Health Care Training Act of 2023</td>\n      <td>NaN</td>\n      <td>NaN</td>\n      <td>None</td>\n      <td>118</td>\n      <td>hr</td>\n      <td>4147</td>\n      <td>...</td>\n      <td>\\n[Congressional Bills 118th Congress]\\n[From ...</td>\n      <td>Congressional Bills 118th Congress From the U....</td>\n      <td>None</td>\n      <td>0</td>\n      <td>2</td>\n      <td>[g, identification, minority, time, centers, o...</td>\n      <td>[improve, act, public, pensions, cited, publis...</td>\n      <td>[improve, establish, number, identification, p...</td>\n      <td>[[Congressional, Bills, 118th, Congress, From,...</td>\n      <td>[[congressional, bills, congress, u.s, governm...</td>\n    </tr>\n  </tbody>\n</table>\n<p>5 rows × 22 columns</p>\n</div>"
     },
     "execution_count": 5,
     "metadata": {},
     "output_type": "execute_result"
    }
   ],
   "source": [
    "# Data Importing\n",
    "# Since the tokenization process takes so much computational power/time, I put it\n",
    "# in a feather file to avoid the time when re-running this analysis.\n",
    "legislation_feather_path = \"data/fully_tokenized_congress_legislation.feather\"\n",
    "if os.path.isfile(legislation_feather_path):\n",
    "    congressional_leg_df = pd.read_feather(legislation_feather_path)\n",
    "else:\n",
    "    # WARNING: This step takes about 120 minutes, so don't run it unless you need to.\n",
    "    congressional_leg_df = pd.read_csv(\"data/congress_legislation_cleaned.csv\")\n",
    "    congressional_leg_df[\"tokenized_sentences\"] = congressional_leg_df[\n",
    "        \"cleaned_text\"\n",
    "    ].progress_apply(\n",
    "        lambda x: [\n",
    "            lucem_illud.word_tokenize(s, MAX_LEN=MAX_CHAR_LEN)\n",
    "            for s in lucem_illud.sent_tokenize(x)\n",
    "        ]\n",
    "    )\n",
    "    congressional_leg_df[\"normalized_sentences\"] = congressional_leg_df[\n",
    "        \"tokenized_sentences\"\n",
    "    ].apply(\n",
    "        lambda x: [\n",
    "            lucem_illud.normalizeTokens(s, lemma=False, MAX_LEN=MAX_CHAR_LEN) for s in x\n",
    "        ]\n",
    "    )\n",
    "    congressional_leg_df.to_feather(legislation_feather_path)\n",
    "\n",
    "congressional_leg_df.head()"
   ]
  },
  {
   "cell_type": "markdown",
   "id": "5549c3605b54cfa1",
   "metadata": {
    "collapsed": false
   },
   "source": [
    "## <font color=\"red\">*Exercise 1*</font>\n",
    "\n",
    "<font color=\"red\">As this week's challenging questions asks, we'd like you to \n",
    "think how LLM can help your final project.  Try to use the OpenAI API to analyze \n",
    "a small-sized dataset (Remember to monitor API use on your OpenAI account!). The \n",
    "data could a sample from the dataset you prepare for the final project or some \n",
    "others. If it's going be a conventional task like classification, compare and \n",
    "see how it could beat(or being defeated) by other algorithms you've learned from \n",
    "previous weeks. If it's a special task that you cannot find a learned algorithm \n",
    "to compare with, evaluate its performance on your own and try if you can improve \n",
    "by changing hyperparameters(see [here](https://platform.openai.com/docs/api-reference/chat/create)), the prompt, etc."
   ]
  },
  {
   "cell_type": "code",
   "execution_count": null,
   "id": "88e5e3f3488f9262",
   "metadata": {
    "collapsed": false
   },
   "outputs": [],
   "source": []
  },
  {
   "cell_type": "markdown",
   "id": "7aaec3f33a7e7f5c",
   "metadata": {
    "collapsed": false
   },
   "source": [
    "## <font color=\"red\">*Exercise 2*</font>\n",
    "\n",
    "<font color=\"red\">Fine-tune an LLM. You can either use the model (llama-2-7b) in \n",
    "the example code or find another open-source LLM. You may use datasets provided \n",
    "by HuggingFace or a dataset you collect from somewhere else (for your final project). \n",
    "If the task happens to be the same as in exercise 1, You can choose to compare the \n",
    "performance between the OpenAI LLM and your fine-tuned LLM. You can also choose to \n",
    "compare the performance between the vanilla and the fine-tuned LLM."
   ]
  },
  {
   "cell_type": "code",
   "execution_count": null,
   "id": "eb555776de120e74",
   "metadata": {
    "collapsed": false
   },
   "outputs": [],
   "source": []
  },
  {
   "cell_type": "markdown",
   "id": "f57769d2db2531e5",
   "metadata": {
    "collapsed": false
   },
   "source": [
    "## <font color=\"red\">*Exercise 3*</font>\n",
    "<font color=\"red\">Use LLM to generate some data and compare the differences between model-generated \n",
    "data and actual data. This exercise should not be a repetition of exercise 1. You should \n",
    "focus more on analyzing language nuances, qualitatively or quantitatively. You should also \n",
    "notice how the choice of LLM has possibly impacted the language it uses."
   ]
  },
  {
   "cell_type": "code",
   "execution_count": null,
   "id": "9d78775f496723b3",
   "metadata": {
    "collapsed": false
   },
   "outputs": [],
   "source": []
  },
  {
   "cell_type": "markdown",
   "id": "80a85d8d4b691f31",
   "metadata": {
    "collapsed": false
   },
   "source": [
    "## <font color=\"red\">*Exercise 4*</font>\n",
    "\n",
    "<font color=\"red\">Compare how LLMs change their performance with different \n",
    "shots on your task. If the evaluation criterion is quantifiable, such as \n",
    "classification with ground truth labels, plot and show how accuracy changes. \n",
    "If the evaluation criterion cannot be easily quantified, such as the clarity \n",
    "of explaining a concept, use your imagination to do some comparison (for \n",
    "example, you can ask another LLM to rate its peer :)) If you find close-sourced \n",
    "LLM APIs pricey and are unsatisfied with responses from small-sized open-sourced \n",
    "LLMs, you can try large-sized LLMs (such as 70B version Llama-2) with Petals \n",
    "(see [here](https://colab.research.google.com/drive/1uCphNY7gfAUkdDrTx21dZZwCOUDCMPw8?usp=sharing) and [here](https://colab.research.google.com/drive/1Ervk6HPNS6AYVr3xVdQnY5a-TjjmLCdQ))."
   ]
  },
  {
   "cell_type": "code",
   "execution_count": null,
   "id": "bf6f9e4800dec460",
   "metadata": {
    "collapsed": false
   },
   "outputs": [],
   "source": []
  },
  {
   "cell_type": "markdown",
   "id": "4ee94a09c81beb4e",
   "metadata": {
    "collapsed": false
   },
   "source": [
    "## <font color=\"red\">*Exercise 5*</font>\n",
    "\n",
    "<font color=\"red\">Using Actor - Critical method to improve an LLM's performance \n",
    "on your task or doing some experiments langauge style learning (For example, \n",
    "you can investigate how LLMs perceive different groups of people would write \n",
    "their dating profiles. This may serve as an opportunity to explore how LLMs \n",
    "semantically embed social groups and assess their appropriateness.)"
   ]
  },
  {
   "cell_type": "code",
   "execution_count": null,
   "id": "fa8c073f73ebb314",
   "metadata": {
    "collapsed": false
   },
   "outputs": [],
   "source": []
  }
 ],
 "metadata": {
  "kernelspec": {
   "display_name": "Python 3",
   "language": "python",
   "name": "python3"
  },
  "language_info": {
   "codemirror_mode": {
    "name": "ipython",
    "version": 2
   },
   "file_extension": ".py",
   "mimetype": "text/x-python",
   "name": "python",
   "nbconvert_exporter": "python",
   "pygments_lexer": "ipython2",
   "version": "2.7.6"
  }
 },
 "nbformat": 4,
 "nbformat_minor": 5
}
