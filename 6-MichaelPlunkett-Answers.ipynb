{
 "cells": [
  {
   "cell_type": "code",
   "execution_count": 2,
   "id": "initial_id",
   "metadata": {
    "collapsed": true,
    "ExecuteTime": {
     "end_time": "2024-02-08T18:03:49.986646Z",
     "start_time": "2024-02-08T18:03:45.163355Z"
    }
   },
   "outputs": [],
   "source": [
    "import os\n",
    "\n",
    "import lucem_illud\n",
    "import openai\n",
    "import pandas as pd\n",
    "from openai import OpenAI"
   ]
  },
  {
   "cell_type": "markdown",
   "id": "2cbf16f4c9ae2d96",
   "metadata": {
    "collapsed": false
   },
   "source": [
    "# Constants, Utility Functions, and Data Importing"
   ]
  },
  {
   "cell_type": "code",
   "execution_count": 150,
   "id": "bf30fc4eb9ca27ed",
   "metadata": {
    "collapsed": false,
    "ExecuteTime": {
     "end_time": "2024-02-09T08:16:12.531766Z",
     "start_time": "2024-02-09T08:16:12.500932Z"
    }
   },
   "outputs": [],
   "source": [
    "# Constants and Clients\n",
    "GPT_MODEL = \"gpt-3.5-turbo\"\n",
    "MAX_CHAR_LEN = 5000000\n",
    "OPENAI_API_KEY = os.environ.get(\"OPENAI_API_KEY\")\n",
    "\n",
    "openai_client = OpenAI(api_key=OPENAI_API_KEY)"
   ]
  },
  {
   "cell_type": "code",
   "execution_count": 155,
   "id": "9d3cd0e46fb80e4",
   "metadata": {
    "collapsed": false,
    "ExecuteTime": {
     "end_time": "2024-02-09T08:16:58.262424Z",
     "start_time": "2024-02-09T08:16:58.227370Z"
    }
   },
   "outputs": [],
   "source": [
    "# Utility Functions\n",
    "def cluster_list(messages: [dict]):\n",
    "    \"\"\"\n",
    "    This function takes a piece of text and uses OpenAI's GPT-4 to rewrite it in a specified style.\n",
    "    \"\"\"\n",
    "    openai.api_key = OPENAI_API_KEY\n",
    "\n",
    "    try:\n",
    "        response = openai_client.chat.completions.create(\n",
    "            model=GPT_MODEL, messages=messages, temperature=0.6, max_tokens=500\n",
    "        )\n",
    "        return response.choices[0].text.split(\"\\n\")\n",
    "    except Exception as e:\n",
    "        return str(e)\n",
    "\n",
    "\n",
    "def generate_text_with_style(prompt: str):\n",
    "    \"\"\"\n",
    "    This function takes a piece of text and uses OpenAI's GPT-4 to rewrite it in a specified style.\n",
    "    \"\"\"\n",
    "    openai.api_key = OPENAI_API_KEY\n",
    "\n",
    "    try:\n",
    "        response = openai_client.completions.create(\n",
    "            model=GPT_MODEL + \"-instruct\",\n",
    "            prompt=prompt,\n",
    "            temperature=0.6,\n",
    "            max_tokens=300,\n",
    "        )\n",
    "        return response.choices[0].text.strip()\n",
    "    except Exception as e:\n",
    "        return str(e)"
   ]
  },
  {
   "cell_type": "code",
   "execution_count": 152,
   "id": "6ecdd2a2e9f4fec",
   "metadata": {
    "collapsed": false,
    "ExecuteTime": {
     "end_time": "2024-02-09T08:16:13.899464Z",
     "start_time": "2024-02-09T08:16:13.841666Z"
    }
   },
   "outputs": [
    {
     "data": {
      "text/plain": "                                             comments disposition  \\\n0   A person was transported to Comer Hospital by ...      Closed   \n1   Catalytic converter taken from a 2015 Toyota p...        Open   \n2   Debit and credit cards taken from wallet in un...        Open   \n3   Boyfriend battered girlfriend in off-campus pr...        Open   \n4   A known suspect entered the off-campus store a...    Referred   \n5   Person found a social security card on the str...      Closed   \n6   Window smashed and tools taken from van parked...    Referred   \n7   Unknown person(s) forced entry to victim's off...         CPD   \n8   Unknown person attempted to enter victim's off...         CPD   \n9   Victim walking in the crosswalk was struck by ...        Open   \n10                    Window in office door shattered        Open   \n11  Statements made by a staff member were documented      Closed   \n12  A patient battered a UCM staff member / Patien...        Open   \n13  Property taken from an unattended, unsecured b...        Open   \n14  A motorist accidently struck the Greenwood exi...      Closed   \n15            Patient's wedding band reported missing      Closed   \n16  Person reports losing a set of keys while walking      Closed   \n17  An unknown subject took merchandise from the o...    Referred   \n18  Unknown person(s) unlawfully entered off-campu...    Referred   \n19  A known person took merchandise from the off-c...    Referred   \n20  Person reported they lost their wallet while w...      Closed   \n21  Harassing phone calls, texts, and emails from ...        Open   \n22  Two people engaged in a physical altercation i...        Open   \n23  A person reported the theft of their wallet wh...         CPD   \n24  A sick person was transported to UCMED by CFD EMS      Closed   \n25  An underage individual became ill after consum...    Referred   \n26  UCPD officer arrested a person wanted on an ac...      Arrest   \n27  A UCM staff member found three rounds of ammun...      Closed   \n28  A UCPD officer initiated pursuit of a vehicle ...      Closed   \n29  Window and glass door shattered with rocks / R...    Referred   \n30  A person who was suspected of taking merchandi...      Closed   \n31  ComEd electrical line malfunctioned causing an...      Closed   \n32  Person reported losing AirPods while in the bu...      Closed   \n33  Catalytic converter taken from 2004 Cadillac p...        Open   \n34  Front door of bank smashed / Suspects fled in ...         CPD   \n35  Two unknown subjects took merchandise from the...    Referred   \n36  Victim walking on the sidewalk off-campus was ...    Referred   \n37  A person walking on the sidewalk off-campus wa...    Referred   \n38  A parked 2020 Hyundai Elantra was taken by unk...        Open   \n39  Owner parked 2011 Dodge sedan in alley / Engin...      Closed   \n40  A first floor window in the building was damag...        Open   \n41  A subject was arrested by UCPD officers for an...      Arrest   \n42  A person walking on the sidewalk was approache...        Open   \n43  Window in parked vehicle shattered by BB gun p...        Open   \n44  Information relating to a traffic crash docume...      Closed   \n45  A person was transported to UCMED by UCPD for ...      Closed   \n46  Unknown person(s) unlawfully entered off-campu...         CPD   \n47  A subject took merchandise from the off-campus...      Arrest   \n48  An unknown vehicle crashed into a vehicle park...        Open   \n49  An unknown vehicle crashed into a vehicle park...        Open   \n\n                                         incident  \\\n0                         Mental Health Transport   \n1                        Theft from Motor Vehicle   \n2                                           Theft   \n3                                Domestic Battery   \n4                             Information / Theft   \n5                                  Found Property   \n6                             Information / Theft   \n7                          Information / Burglary   \n8                Information / Attempted Burglary   \n9   Traffic Crash / Hit and Run / Personal Injury   \n10                    Criminal Damage to Property   \n11                                    Information   \n12                                        Battery   \n13                                          Theft   \n14                Traffic Crash / Property Damage   \n15                                  Lost Property   \n16                                  Lost Property   \n17                            Information / Theft   \n18                         Information / Burglary   \n19                            Information / Theft   \n20                                  Lost Property   \n21                 Harassment by Electronic Means   \n22                                        Battery   \n23                            Information / Theft   \n24                                   Medical Call   \n25                           Liquor Law Violation   \n26                                 Warrant Arrest   \n27                                 Found Property   \n28                                    Information   \n29        Information Criminal Damage to Property   \n30                                    Information   \n31                                    Information   \n32                                  Lost Property   \n33                       Theft from Motor Vehicle   \n34               Information / Attempted Burglary   \n35                            Information / Theft   \n36                    Information / Armed Robbery   \n37                          Information / Robbery   \n38                            Motor Vehicle Theft   \n39         Non-Criminal Damage to Property / Fire   \n40                    Criminal Damage to Property   \n41                                 Warrant Arrest   \n42                        Attempted Armed Robbery   \n43                    Criminal Damage to Property   \n44                                    Information   \n45                        Mental Health Transport   \n46                         Information / Burglary   \n47                                          Theft   \n48  Traffic Crash / Property Damage / Hit and Run   \n49  Traffic Crash / Property Damage / Hit and Run   \n\n                                             location  \\\n0   6300 S. University Ave. (S. Woodlawn Ave. Char...   \n1                       1210 E. 57th St. (Public Way)   \n2                      900 E. 57th St. (Knapp Center)   \n3                 6040 S. Harper Ave. (Apt. Building)   \n4                           1346 E. 53rd St. (Target)   \n5                     5800 S. Ellis Ave. (Public Way)   \n6                       1522 E. 59th St. (Public Way)   \n7   S. Kenwood Ave. between E. 56th St. and E. 57t...   \n8   S. Kimbark Ave. between E. 53rd St. and E. 54t...   \n9                 5500 S. Ingleside Ave. (Public Way)   \n10         1126 E. 59th St. (Social Science Research)   \n11                 840 E. 59th St. (Student Wellness)   \n12             5721 S. Maryland Ave. (Comer Hospital)   \n13              1131 E. 57th St. (Hutchinson Commons)   \n14             5505 S. Ellis Ave. (Parking Structure)   \n15                        5700 S. Maryland Ave. (CCD)   \n16  S. Ellis Ave. between E. 55th St. and E. 62nd St.   \n17                       1554 E. 55th St. (Walgreens)   \n18  S. Kenwood Ave. between E. 57th St. and E. 58t...   \n19                          1346 E. 53rd St. (Target)   \n20                            Midway Pl. (Public Way)   \n21          5500 S. University Ave. (Campus North RH)   \n22  S. Blackstone Ave. between E. 58th St. and E. ...   \n23                      1453 E. 53rd St. (Restaurant)   \n24                         1414 E. 59th St. (I-House)   \n25          5630 S. University Ave. (Max Palevsky RH)   \n26             5721 S. Maryland Ave. (Comer Hospital)   \n27                        5700 S. Maryland Ave. (CCD)   \n28                5500 S. Lake Park Ave. (Public Way)   \n29                      5325 S. Lake Park Ave. (Ulta)   \n30           950 E. 59th St. (Billings Hospital Caf�)   \n31                      1427 E. 60th St. (Public Way)   \n32                   1307 E. 60th St. (Harris School)   \n33               5848 S. University Ave. (Public Way)   \n34                            1354 E. 55th St. (Bank)   \n35                       1554 E. 55th St. (Walgreens)   \n36               5550 S. Dorchester Ave. (Public Way)   \n37                      1313 E. 62nd St. (Public Way)   \n38                       929 E. 57th St. (Public Way)   \n39                      5720 S. Woodlawn Ave. (Alley)   \n40                             1407 E. 60th St. (CTS)   \n41                   5757 S. Harper Ave. (Public Way)   \n42              1425 E. Midway Plaisance (Public Way)   \n43                     1155 E. 60th St. (Parking Lot)   \n44                      1200 E. 61st St. (Public Way)   \n45              1100 E. 57th St. (Regenstein Library)   \n46  S. Ingleside Ave. between E. 61st St. and E. 6...   \n47                       1554 E. 55th St. (Walgreens)   \n48                 5720 S. Woodlawn Ave. (Public Way)   \n49                 5807 S. Woodlawn Ave. (Public Way)   \n\n                                  occurred predicted_incident  \\\n0                          2/1/24 10:10 AM               None   \n1     1/31/24 to 2/1/24 6:00 PM to 7:00 AM               None   \n2                2/1/24 9:50 AM to 4:30 PM               None   \n3                           2/1/24 2:45 PM               None   \n4                         1/31/24 12:15 PM               None   \n5                         1/31/24 12:10 PM               None   \n6               1/30/24 8:00 AM to 9:15 AM               None   \n7               1/30/24 7:30 AM to 8:30 PM               None   \n8                          1/30/24 8:15 PM               None   \n9                          1/30/24 7:40 AM               None   \n10   1/29/24 to 1/30/24 7:00 PM to 7:30 AM               None   \n11              1/26/24 2:00 PM to 2:05 PM               None   \n12                        1/30/24 11:00 AM               None   \n13             1/30/24 12:40 PM to 1:50 PM               None   \n14                         1/30/24 4:08 PM               None   \n15             1/23/24 4:30 AM to 10:00 AM               None   \n16              1/30/24 6:00 PM to 9:30 PM               None   \n17                         1/29/24 3:45 PM               None   \n18  1/27/24 to 1/29/24 8:00 AM to 10:30 PM               None   \n19                         1/28/24 2:25 PM               None   \n20             1/28/24 9:00 AM to 11:00 AM               None   \n21                         1/28/24 8:56 PM               None   \n22                         1/28/24 9:05 PM               None   \n23                         1/27/24 9:00 PM               None   \n24                         1/27/24 1:01 AM               None   \n25                         1/27/28 2:28 AM               None   \n26                         1/27/24 9:45 AM               None   \n27                        1/27/24 12:49 PM               None   \n28                        1/27/24 10:29 PM               None   \n29                         1/26/24 5:50 AM               None   \n30                         1/26/24 9:29 AM     Computer Fraud   \n31                        1/26/24 10:54 AM               None   \n32    1/25/24 to 1/26/24 10:00 PM 12:30 PM               None   \n33              1/25/24 7:15 AM to 9:00 AM               None   \n34                         1/24/24 3:58 AM               None   \n35                         1/24/24 2:50 PM               None   \n36                         1/24/24 5:15 PM               None   \n37                         1/24/24 6:45 PM               None   \n38             1/23/24 4:00 PM to 10:30 PM               None   \n39                         1/24/24 9:20 AM               None   \n40  1/14/24 to 1/16/24 8:00 AM to 10:00 PM               None   \n41                         1/24/24 2:57 PM               None   \n42                         1/24/24 5:20 PM               None   \n43           1/24/2024  2:00 PM to 6:00 PM               None   \n44                         1/24/24 5:58 PM               None   \n45                        1/24/24 10:06 PM               None   \n46             1/22/24 9:00 AM to 11:20 PM               None   \n47                         1/23/24 8:15 AM               None   \n48             1/23/24 8:15 AM to 11:15 AM               None   \n49              1/23/24 8:30 AM to 4:25 PM               None   \n\n                     reported reported_date      ucpd_id  \\\n0   2024-02-01T10:10:00-06:00    2024-02-01     24-00114   \n1   2024-02-01T10:18:00-06:00    2024-02-01     24-00115   \n2   2024-02-01T17:54:00-06:00    2024-02-01     24-00116   \n3   2024-02-01T15:45:00-06:00    2024-02-01     24-00117   \n4   2024-01-31T14:16:00-06:00    2024-01-31  2024-004118   \n5   2024-01-31T12:10:00-06:00    2024-01-31     24-00113   \n6   2024-01-30T09:35:00-06:00    2024-01-30  2024-003951   \n7   2024-01-30T20:33:00-06:00    2024-01-30  2024-004004   \n8   2024-01-30T20:46:00-06:00    2024-01-30  2024-004007   \n9   2024-01-30T07:47:00-06:00    2024-01-30     24-00105   \n10  2024-01-30T07:41:00-06:00    2024-01-30     24-00106   \n11  2024-01-30T11:55:00-06:00    2024-01-30     24-00107   \n12  2024-01-30T12:36:00-06:00    2024-01-30     24-00108   \n13  2024-01-30T15:41:00-06:00    2024-01-30     24-00109   \n14  2024-01-30T16:11:00-06:00    2024-01-30     24-00110   \n15  2024-01-30T16:10:00-06:00    2024-01-30     24-00111   \n16  2024-01-30T22:07:00-06:00    2024-01-30     24-00112   \n17  2024-01-29T15:51:00-06:00    2024-01-29  2024-003858   \n18  2024-01-29T22:33:00-06:00    2024-01-29  2024-003903   \n19  2024-01-28T14:28:00-06:00    2024-01-28  2024-003763   \n20  2024-01-28T11:24:00-06:00    2024-01-28     24-00102   \n21  2024-01-28T19:04:00-06:00    2024-01-28     24-00103   \n22  2024-01-28T21:13:00-06:00    2024-01-28     24-00104   \n23  2024-01-27T21:56:00-06:00    2024-01-27  2024-003692   \n24  2024-01-27T01:01:00-06:00    2024-01-27     24-00097   \n25  2024-01-27T02:28:00-06:00    2024-01-27     24-00098   \n26  2024-01-27T09:46:00-06:00    2024-01-27     24-00099   \n27  2024-01-27T12:49:00-06:00    2024-01-27     24-00100   \n28  2024-01-27T22:29:00-06:00    2024-01-27     24-00101   \n29  2024-01-26T05:53:00-06:00    2024-01-26  2024-003441   \n30  2024-01-26T09:30:00-06:00    2024-01-26     24-00094   \n31  2024-01-26T10:56:00-06:00    2024-01-26     24-00095   \n32  2024-01-26T14:56:00-06:00    2024-01-26     24-00096   \n33  2024-01-25T09:04:00-06:00    2024-01-25     24-00093   \n34  2024-01-24T03:58:00-06:00    2024-01-24  2024-003198   \n35  2024-01-24T14:53:00-06:00    2024-01-24  2024-003250   \n36  2024-01-24T17:17:00-06:00    2024-01-24  2024-003266   \n37  2024-01-24T18:50:00-06:00    2024-01-24  2024-003273   \n38  2024-01-24T00:40:00-06:00    2024-01-24     24-00085   \n39  2024-01-24T09:23:00-06:00    2024-01-24     24-00086   \n40  2024-01-24T15:45:00-06:00    2024-01-24     24-00087   \n41  2024-01-24T14:57:00-06:00    2024-01-24     24-00088   \n42  2024-01-24T17:25:00-06:00    2024-01-24     24-00089   \n43  2024-01-24T18:10:00-06:00    2024-01-24     24-00090   \n44  2024-01-24T17:58:00-06:00    2024-01-24     24-00091   \n45  2024-01-24T22:06:00-06:00    2024-01-24     24-00092   \n46  2024-01-23T00:46:00-06:00    2024-01-23  2024-003047   \n47  2024-01-23T08:20:00-06:00    2024-01-23     24-00078   \n48  2024-01-23T11:40:00-06:00    2024-01-23     24-00079   \n49  2024-01-23T16:28:00-06:00    2024-01-23     24-00080   \n\n                                    validated_address  \\\n0           6300 S UNIVERSITY AVE, CHICAGO, IL, 60637   \n1                  1210 E 57TH ST, CHICAGO, IL, 60637   \n2                   900 E 57TH ST, CHICAGO, IL, 60637   \n3               6040 S HARPER AVE, CHICAGO, IL, 60637   \n4                  1346 E 53RD ST, CHICAGO, IL, 60615   \n5                5800 S ELLIS AVE, CHICAGO, IL, 60637   \n6                  1522 E 59TH ST, CHICAGO, IL, 60637   \n7         and South Kenwood Avenue, between, IL 60637   \n8   between E. 53rd St. and, S. Kimbark Ave, Chica...   \n9   5500 South Ingleside Avenue, Chicago, IL 60615...   \n10                 1126 E 59TH ST, CHICAGO, IL, 60637   \n11                  840 E 59TH ST, CHICAGO, IL, 60637   \n12            5721 S MARYLAND AVE, CHICAGO, IL, 60637   \n13                 1131 E 57TH ST, CHICAGO, IL, 60637   \n14               5505 S ELLIS AVE, CHICAGO, IL, 60637   \n15            5700 S MARYLAND AVE, CHICAGO, IL, 60637   \n16  between E. 55th St. and, South Ellis Avenue, C...   \n17                 1554 E 55TH ST, CHICAGO, IL, 60615   \n18  between E. 57th St. and, S. Kenwood Ave, Chica...   \n19                 1346 E 53RD ST, CHICAGO, IL, 60615   \n20                             Midway Pl, Chicago, IL   \n21          5500 S UNIVERSITY AVE, CHICAGO, IL, 60637   \n22  between E. 58th St. and, S. Blackstone Ave, Ch...   \n23                 1453 E 53RD ST, CHICAGO, IL, 60615   \n24                 1414 E 59TH ST, CHICAGO, IL, 60637   \n25          5630 S UNIVERSITY AVE, CHICAGO, IL, 60637   \n26            5721 S MARYLAND AVE, CHICAGO, IL, 60637   \n27            5700 S MARYLAND AVE, CHICAGO, IL, 60637   \n28           5500 S LAKE PARK AVE, CHICAGO, IL, 60637   \n29           5325 S LAKE PARK AVE, CHICAGO, IL, 60615   \n30                  950 E 59TH ST, CHICAGO, IL, 60637   \n31                 1427 E 60TH ST, CHICAGO, IL, 60637   \n32                 1307 E 60TH ST, CHICAGO, IL, 60637   \n33          5848 S UNIVERSITY AVE, CHICAGO, IL, 60637   \n34                 1354 E 55TH ST, CHICAGO, IL, 60615   \n35                 1554 E 55TH ST, CHICAGO, IL, 60615   \n36          5550 S DORCHESTER AVE, CHICAGO, IL, 60637   \n37                 1313 E 62ND ST, CHICAGO, IL, 60637   \n38                  929 E 57TH ST, CHICAGO, IL, 60637   \n39            5720 S WOODLAWN AVE, CHICAGO, IL, 60637   \n40                 1407 E 60TH ST, CHICAGO, IL, 60637   \n41              5757 S HARPER AVE, CHICAGO, IL, 60637   \n42      1425 East Midway Plaisance, Chicago, IL 60637   \n43                 1155 E 60TH ST, CHICAGO, IL, 60637   \n44                 1200 E 61ST ST, CHICAGO, IL, 60637   \n45                 1100 E 57TH ST, CHICAGO, IL, 60637   \n46      and South Ingleside Avenue, between, IL 60637   \n47                 1554 E 55TH ST, CHICAGO, IL, 60615   \n48            5720 S WOODLAWN AVE, CHICAGO, IL, 60637   \n49            5807 S WOODLAWN AVE, CHICAGO, IL, 60637   \n\n                       validated_location  \\\n0    41.78045407997166,-87.59732203570559   \n1    41.79150658678615,-87.59602168542061   \n2   41.791423455510476,-87.60366291896175   \n3    41.78472618578524,-87.58821677767634   \n4      41.79955044222366,-87.593062823983   \n5    41.78955246628657,-87.60133694890986   \n6    41.787940677385954,-87.5883629192693   \n7                  41.7912193,-87.6067356   \n8                  41.7980034,-87.5941627   \n9                  41.7956509,-87.6030342   \n10   41.78783192521776,-87.59919053214117   \n11   41.78776945619527,-87.60468651774964   \n12   41.79028249316277,-87.60486168542637   \n13   41.79136830804698,-87.59832778534941   \n14   41.79489169097828,-87.60128906330357   \n15  41.790399200814214,-87.60501721223172   \n16                 41.7658565,-87.6006985   \n17  41.795293454018804,-87.58874456300606   \n18                 41.7896072,-87.5964144   \n19     41.79955044222366,-87.593062823983   \n20                 41.8781136,-87.6297982   \n21   41.79501825290694,-87.59819830175003   \n22                 41.7877946,-87.5965203   \n23   41.79947344759537,-87.59002449070437   \n24   41.78791517991578,-87.59109313855441   \n25   41.79266736625336,-87.59818172549909   \n26   41.79028249316277,-87.60486168542637   \n27  41.790399200814214,-87.60501721223172   \n28   41.79513846417952,-87.58759979986627   \n29   41.79918108861816,-87.58719450965721   \n30   41.78778965056822,-87.60233383913666   \n31   41.78604386434425,-87.59113719099213   \n32   41.78600876680485,-87.59433990688596   \n33  41.790097712780145,-87.59812223926319   \n34   41.79516745430262,-87.59347688355719   \n35  41.795293454018804,-87.58874456300606   \n36   41.79389266081975,-87.59173089075038   \n37  41.782300208454735,-87.59435160367028   \n38   41.79131786409532,-87.60301029502915   \n39     41.791099203897,-87.59652661595706   \n40  41.786040403761085,-87.59133222581045   \n41   41.79047653202908,-87.58892868330123   \n42                 41.7871844,-87.5992537   \n43  41.785898731293535,-87.59870739425904   \n44  41.784223456335354,-87.59621093049836   \n45   41.79148537051787,-87.59815254349277   \n46                 41.7828711,-87.5891167   \n47  41.795293454018804,-87.58874456300606   \n48     41.791099203897,-87.59652661595706   \n49     41.78945965410216,-87.596332897418   \n\n                                       tokenized_text  \\\n0   [A, person, was, transported, to, Comer, Hospi...   \n1   [Catalytic, converter, taken, from, a, 2015, T...   \n2   [Debit, and, credit, cards, taken, from, walle...   \n3   [Boyfriend, battered, girlfriend, in, off, cam...   \n4   [A, known, suspect, entered, the, off, campus,...   \n5   [Person, found, a, social, security, card, on,...   \n6   [Window, smashed, and, tools, taken, from, van...   \n7   [Unknown, person(s, forced, entry, to, victim,...   \n8   [Unknown, person, attempted, to, enter, victim...   \n9   [Victim, walking, in, the, crosswalk, was, str...   \n10              [Window, in, office, door, shattered]   \n11  [Statements, made, by, a, staff, member, were,...   \n12  [A, patient, battered, a, UCM, staff, member, ...   \n13  [Property, taken, from, an, unattended, unsecu...   \n14  [A, motorist, accidently, struck, the, Greenwo...   \n15    [Patient, 's, wedding, band, reported, missing]   \n16  [Person, reports, losing, a, set, of, keys, wh...   \n17  [An, unknown, subject, took, merchandise, from...   \n18  [Unknown, person(s, unlawfully, entered, off, ...   \n19  [A, known, person, took, merchandise, from, th...   \n20  [Person, reported, they, lost, their, wallet, ...   \n21  [Harassing, phone, calls, texts, and, emails, ...   \n22  [Two, people, engaged, in, a, physical, alterc...   \n23  [A, person, reported, the, theft, of, their, w...   \n24  [A, sick, person, was, transported, to, UCMED,...   \n25  [An, underage, individual, became, ill, after,...   \n26  [UCPD, officer, arrested, a, person, wanted, o...   \n27  [A, UCM, staff, member, found, three, rounds, ...   \n28  [A, UCPD, officer, initiated, pursuit, of, a, ...   \n29  [Window, and, glass, door, shattered, with, ro...   \n30  [A, person, who, was, suspected, of, taking, m...   \n31  [ComEd, electrical, line, malfunctioned, causi...   \n32  [Person, reported, losing, AirPods, while, in,...   \n33  [Catalytic, converter, taken, from, 2004, Cadi...   \n34  [Front, door, of, bank, smashed, Suspects, fle...   \n35  [Two, unknown, subjects, took, merchandise, fr...   \n36  [Victim, walking, on, the, sidewalk, off, camp...   \n37  [A, person, walking, on, the, sidewalk, off, c...   \n38  [A, parked, 2020, Hyundai, Elantra, was, taken...   \n39  [Owner, parked, 2011, Dodge, sedan, in, alley,...   \n40  [A, first, floor, window, in, the, building, w...   \n41  [A, subject, was, arrested, by, UCPD, officers...   \n42  [A, person, walking, on, the, sidewalk, was, a...   \n43  [Window, in, parked, vehicle, shattered, by, B...   \n44  [Information, relating, to, a, traffic, crash,...   \n45  [A, person, was, transported, to, UCMED, by, U...   \n46  [Unknown, person(s, unlawfully, entered, off, ...   \n47  [A, subject, took, merchandise, from, the, off...   \n48  [An, unknown, vehicle, crashed, into, a, vehic...   \n49  [An, unknown, vehicle, crashed, into, a, vehic...   \n\n                                      normalized_text  \n0   [person, transport, comer, hospital, cfd, ems,...  \n1   [catalytic, converter, take, toyota, park, str...  \n2   [debit, credit, card, take, wallet, unattended...  \n3   [boyfriend, batter, girlfriend, campus, privat...  \n4   [know, suspect, enter, campus, store, take, me...  \n5   [person, find, social, security, card, street,...  \n6   [window, smash, tool, take, van, park, street,...  \n7   [unknown, person(s, force, entry, victim, camp...  \n8   [unknown, person, attempt, enter, victim, camp...  \n9   [victim, walk, crosswalk, strike, unknown, veh...  \n10                    [window, office, door, shatter]  \n11               [statement, staff, member, document]  \n12  [patient, batter, ucm, staff, member, patient,...  \n13  [property, take, unattended, unsecured, bookba...  \n14  [motorist, accidently, strike, greenwood, exit...  \n15             [patient, wedding, band, report, miss]  \n16             [person, report, lose, set, key, walk]  \n17  [unknown, subject, take, merchandise, campus, ...  \n18  [unknown, person(s, unlawfully, enter, campus,...  \n19  [known, person, take, merchandise, campus, sto...  \n20   [person, report, lose, wallet, walk, midway, pl]  \n21  [harass, phone, call, text, email, known, pers...  \n22  [people, engage, physical, altercation, campus...  \n23  [person, report, theft, wallet, campus, restau...  \n24         [sick, person, transport, ucmed, cfd, ems]  \n25  [underage, individual, ill, consume, alcoholic...  \n26  [ucpd, officer, arrest, person, want, active, ...  \n27  [ucm, staff, member, find, round, ammunition, ...  \n28  [ucpd, officer, initiate, pursuit, vehicle, wa...  \n29   [window, glass, door, shatter, rock, refer, cpd]  \n30  [person, suspect, take, merchandise, past, giv...  \n31  [come, electrical, line, malfunction, cause, e...  \n32           [person, report, lose, airpod, building]  \n33  [catalytic, converter, take, cadillac, park, s...  \n34  [door, bank, smash, suspect, flee, vehicle, po...  \n35  [unknown, subject, take, merchandise, campus, ...  \n36  [victim, walk, sidewalk, campus, approach, unk...  \n37  [person, walk, sidewalk, campus, confront, unk...  \n38  [parked, hyundai, elantra, take, unknown, pers...  \n39  [owner, park, dodge, sedan, alley, engine, cat...  \n40    [floor, window, building, damage, rock, pellet]  \n41  [subject, arrest, ucpd, officer, active, warra...  \n42  [person, walk, sidewalk, approach, unknown, su...  \n43  [window, park, vehicle, shatter, bb, gun, pellet]  \n44    [information, relate, traffic, crash, document]  \n45       [person, transport, ucmed, ucpd, evaluation]  \n46  [unknown, person(s, unlawfully, enter, campus,...  \n47  [subject, take, merchandise, campus, store, pa...  \n48  [unknown, vehicle, crash, vehicle, park, stree...  \n49  [unknown, vehicle, crash, vehicle, park, stree...  ",
      "text/html": "<div>\n<style scoped>\n    .dataframe tbody tr th:only-of-type {\n        vertical-align: middle;\n    }\n\n    .dataframe tbody tr th {\n        vertical-align: top;\n    }\n\n    .dataframe thead th {\n        text-align: right;\n    }\n</style>\n<table border=\"1\" class=\"dataframe\">\n  <thead>\n    <tr style=\"text-align: right;\">\n      <th></th>\n      <th>comments</th>\n      <th>disposition</th>\n      <th>incident</th>\n      <th>location</th>\n      <th>occurred</th>\n      <th>predicted_incident</th>\n      <th>reported</th>\n      <th>reported_date</th>\n      <th>ucpd_id</th>\n      <th>validated_address</th>\n      <th>validated_location</th>\n      <th>tokenized_text</th>\n      <th>normalized_text</th>\n    </tr>\n  </thead>\n  <tbody>\n    <tr>\n      <th>0</th>\n      <td>A person was transported to Comer Hospital by ...</td>\n      <td>Closed</td>\n      <td>Mental Health Transport</td>\n      <td>6300 S. University Ave. (S. Woodlawn Ave. Char...</td>\n      <td>2/1/24 10:10 AM</td>\n      <td>None</td>\n      <td>2024-02-01T10:10:00-06:00</td>\n      <td>2024-02-01</td>\n      <td>24-00114</td>\n      <td>6300 S UNIVERSITY AVE, CHICAGO, IL, 60637</td>\n      <td>41.78045407997166,-87.59732203570559</td>\n      <td>[A, person, was, transported, to, Comer, Hospi...</td>\n      <td>[person, transport, comer, hospital, cfd, ems,...</td>\n    </tr>\n    <tr>\n      <th>1</th>\n      <td>Catalytic converter taken from a 2015 Toyota p...</td>\n      <td>Open</td>\n      <td>Theft from Motor Vehicle</td>\n      <td>1210 E. 57th St. (Public Way)</td>\n      <td>1/31/24 to 2/1/24 6:00 PM to 7:00 AM</td>\n      <td>None</td>\n      <td>2024-02-01T10:18:00-06:00</td>\n      <td>2024-02-01</td>\n      <td>24-00115</td>\n      <td>1210 E 57TH ST, CHICAGO, IL, 60637</td>\n      <td>41.79150658678615,-87.59602168542061</td>\n      <td>[Catalytic, converter, taken, from, a, 2015, T...</td>\n      <td>[catalytic, converter, take, toyota, park, str...</td>\n    </tr>\n    <tr>\n      <th>2</th>\n      <td>Debit and credit cards taken from wallet in un...</td>\n      <td>Open</td>\n      <td>Theft</td>\n      <td>900 E. 57th St. (Knapp Center)</td>\n      <td>2/1/24 9:50 AM to 4:30 PM</td>\n      <td>None</td>\n      <td>2024-02-01T17:54:00-06:00</td>\n      <td>2024-02-01</td>\n      <td>24-00116</td>\n      <td>900 E 57TH ST, CHICAGO, IL, 60637</td>\n      <td>41.791423455510476,-87.60366291896175</td>\n      <td>[Debit, and, credit, cards, taken, from, walle...</td>\n      <td>[debit, credit, card, take, wallet, unattended...</td>\n    </tr>\n    <tr>\n      <th>3</th>\n      <td>Boyfriend battered girlfriend in off-campus pr...</td>\n      <td>Open</td>\n      <td>Domestic Battery</td>\n      <td>6040 S. Harper Ave. (Apt. Building)</td>\n      <td>2/1/24 2:45 PM</td>\n      <td>None</td>\n      <td>2024-02-01T15:45:00-06:00</td>\n      <td>2024-02-01</td>\n      <td>24-00117</td>\n      <td>6040 S HARPER AVE, CHICAGO, IL, 60637</td>\n      <td>41.78472618578524,-87.58821677767634</td>\n      <td>[Boyfriend, battered, girlfriend, in, off, cam...</td>\n      <td>[boyfriend, batter, girlfriend, campus, privat...</td>\n    </tr>\n    <tr>\n      <th>4</th>\n      <td>A known suspect entered the off-campus store a...</td>\n      <td>Referred</td>\n      <td>Information / Theft</td>\n      <td>1346 E. 53rd St. (Target)</td>\n      <td>1/31/24 12:15 PM</td>\n      <td>None</td>\n      <td>2024-01-31T14:16:00-06:00</td>\n      <td>2024-01-31</td>\n      <td>2024-004118</td>\n      <td>1346 E 53RD ST, CHICAGO, IL, 60615</td>\n      <td>41.79955044222366,-87.593062823983</td>\n      <td>[A, known, suspect, entered, the, off, campus,...</td>\n      <td>[know, suspect, enter, campus, store, take, me...</td>\n    </tr>\n    <tr>\n      <th>5</th>\n      <td>Person found a social security card on the str...</td>\n      <td>Closed</td>\n      <td>Found Property</td>\n      <td>5800 S. Ellis Ave. (Public Way)</td>\n      <td>1/31/24 12:10 PM</td>\n      <td>None</td>\n      <td>2024-01-31T12:10:00-06:00</td>\n      <td>2024-01-31</td>\n      <td>24-00113</td>\n      <td>5800 S ELLIS AVE, CHICAGO, IL, 60637</td>\n      <td>41.78955246628657,-87.60133694890986</td>\n      <td>[Person, found, a, social, security, card, on,...</td>\n      <td>[person, find, social, security, card, street,...</td>\n    </tr>\n    <tr>\n      <th>6</th>\n      <td>Window smashed and tools taken from van parked...</td>\n      <td>Referred</td>\n      <td>Information / Theft</td>\n      <td>1522 E. 59th St. (Public Way)</td>\n      <td>1/30/24 8:00 AM to 9:15 AM</td>\n      <td>None</td>\n      <td>2024-01-30T09:35:00-06:00</td>\n      <td>2024-01-30</td>\n      <td>2024-003951</td>\n      <td>1522 E 59TH ST, CHICAGO, IL, 60637</td>\n      <td>41.787940677385954,-87.5883629192693</td>\n      <td>[Window, smashed, and, tools, taken, from, van...</td>\n      <td>[window, smash, tool, take, van, park, street,...</td>\n    </tr>\n    <tr>\n      <th>7</th>\n      <td>Unknown person(s) forced entry to victim's off...</td>\n      <td>CPD</td>\n      <td>Information / Burglary</td>\n      <td>S. Kenwood Ave. between E. 56th St. and E. 57t...</td>\n      <td>1/30/24 7:30 AM to 8:30 PM</td>\n      <td>None</td>\n      <td>2024-01-30T20:33:00-06:00</td>\n      <td>2024-01-30</td>\n      <td>2024-004004</td>\n      <td>and South Kenwood Avenue, between, IL 60637</td>\n      <td>41.7912193,-87.6067356</td>\n      <td>[Unknown, person(s, forced, entry, to, victim,...</td>\n      <td>[unknown, person(s, force, entry, victim, camp...</td>\n    </tr>\n    <tr>\n      <th>8</th>\n      <td>Unknown person attempted to enter victim's off...</td>\n      <td>CPD</td>\n      <td>Information / Attempted Burglary</td>\n      <td>S. Kimbark Ave. between E. 53rd St. and E. 54t...</td>\n      <td>1/30/24 8:15 PM</td>\n      <td>None</td>\n      <td>2024-01-30T20:46:00-06:00</td>\n      <td>2024-01-30</td>\n      <td>2024-004007</td>\n      <td>between E. 53rd St. and, S. Kimbark Ave, Chica...</td>\n      <td>41.7980034,-87.5941627</td>\n      <td>[Unknown, person, attempted, to, enter, victim...</td>\n      <td>[unknown, person, attempt, enter, victim, camp...</td>\n    </tr>\n    <tr>\n      <th>9</th>\n      <td>Victim walking in the crosswalk was struck by ...</td>\n      <td>Open</td>\n      <td>Traffic Crash / Hit and Run / Personal Injury</td>\n      <td>5500 S. Ingleside Ave. (Public Way)</td>\n      <td>1/30/24 7:40 AM</td>\n      <td>None</td>\n      <td>2024-01-30T07:47:00-06:00</td>\n      <td>2024-01-30</td>\n      <td>24-00105</td>\n      <td>5500 South Ingleside Avenue, Chicago, IL 60615...</td>\n      <td>41.7956509,-87.6030342</td>\n      <td>[Victim, walking, in, the, crosswalk, was, str...</td>\n      <td>[victim, walk, crosswalk, strike, unknown, veh...</td>\n    </tr>\n    <tr>\n      <th>10</th>\n      <td>Window in office door shattered</td>\n      <td>Open</td>\n      <td>Criminal Damage to Property</td>\n      <td>1126 E. 59th St. (Social Science Research)</td>\n      <td>1/29/24 to 1/30/24 7:00 PM to 7:30 AM</td>\n      <td>None</td>\n      <td>2024-01-30T07:41:00-06:00</td>\n      <td>2024-01-30</td>\n      <td>24-00106</td>\n      <td>1126 E 59TH ST, CHICAGO, IL, 60637</td>\n      <td>41.78783192521776,-87.59919053214117</td>\n      <td>[Window, in, office, door, shattered]</td>\n      <td>[window, office, door, shatter]</td>\n    </tr>\n    <tr>\n      <th>11</th>\n      <td>Statements made by a staff member were documented</td>\n      <td>Closed</td>\n      <td>Information</td>\n      <td>840 E. 59th St. (Student Wellness)</td>\n      <td>1/26/24 2:00 PM to 2:05 PM</td>\n      <td>None</td>\n      <td>2024-01-30T11:55:00-06:00</td>\n      <td>2024-01-30</td>\n      <td>24-00107</td>\n      <td>840 E 59TH ST, CHICAGO, IL, 60637</td>\n      <td>41.78776945619527,-87.60468651774964</td>\n      <td>[Statements, made, by, a, staff, member, were,...</td>\n      <td>[statement, staff, member, document]</td>\n    </tr>\n    <tr>\n      <th>12</th>\n      <td>A patient battered a UCM staff member / Patien...</td>\n      <td>Open</td>\n      <td>Battery</td>\n      <td>5721 S. Maryland Ave. (Comer Hospital)</td>\n      <td>1/30/24 11:00 AM</td>\n      <td>None</td>\n      <td>2024-01-30T12:36:00-06:00</td>\n      <td>2024-01-30</td>\n      <td>24-00108</td>\n      <td>5721 S MARYLAND AVE, CHICAGO, IL, 60637</td>\n      <td>41.79028249316277,-87.60486168542637</td>\n      <td>[A, patient, battered, a, UCM, staff, member, ...</td>\n      <td>[patient, batter, ucm, staff, member, patient,...</td>\n    </tr>\n    <tr>\n      <th>13</th>\n      <td>Property taken from an unattended, unsecured b...</td>\n      <td>Open</td>\n      <td>Theft</td>\n      <td>1131 E. 57th St. (Hutchinson Commons)</td>\n      <td>1/30/24 12:40 PM to 1:50 PM</td>\n      <td>None</td>\n      <td>2024-01-30T15:41:00-06:00</td>\n      <td>2024-01-30</td>\n      <td>24-00109</td>\n      <td>1131 E 57TH ST, CHICAGO, IL, 60637</td>\n      <td>41.79136830804698,-87.59832778534941</td>\n      <td>[Property, taken, from, an, unattended, unsecu...</td>\n      <td>[property, take, unattended, unsecured, bookba...</td>\n    </tr>\n    <tr>\n      <th>14</th>\n      <td>A motorist accidently struck the Greenwood exi...</td>\n      <td>Closed</td>\n      <td>Traffic Crash / Property Damage</td>\n      <td>5505 S. Ellis Ave. (Parking Structure)</td>\n      <td>1/30/24 4:08 PM</td>\n      <td>None</td>\n      <td>2024-01-30T16:11:00-06:00</td>\n      <td>2024-01-30</td>\n      <td>24-00110</td>\n      <td>5505 S ELLIS AVE, CHICAGO, IL, 60637</td>\n      <td>41.79489169097828,-87.60128906330357</td>\n      <td>[A, motorist, accidently, struck, the, Greenwo...</td>\n      <td>[motorist, accidently, strike, greenwood, exit...</td>\n    </tr>\n    <tr>\n      <th>15</th>\n      <td>Patient's wedding band reported missing</td>\n      <td>Closed</td>\n      <td>Lost Property</td>\n      <td>5700 S. Maryland Ave. (CCD)</td>\n      <td>1/23/24 4:30 AM to 10:00 AM</td>\n      <td>None</td>\n      <td>2024-01-30T16:10:00-06:00</td>\n      <td>2024-01-30</td>\n      <td>24-00111</td>\n      <td>5700 S MARYLAND AVE, CHICAGO, IL, 60637</td>\n      <td>41.790399200814214,-87.60501721223172</td>\n      <td>[Patient, 's, wedding, band, reported, missing]</td>\n      <td>[patient, wedding, band, report, miss]</td>\n    </tr>\n    <tr>\n      <th>16</th>\n      <td>Person reports losing a set of keys while walking</td>\n      <td>Closed</td>\n      <td>Lost Property</td>\n      <td>S. Ellis Ave. between E. 55th St. and E. 62nd St.</td>\n      <td>1/30/24 6:00 PM to 9:30 PM</td>\n      <td>None</td>\n      <td>2024-01-30T22:07:00-06:00</td>\n      <td>2024-01-30</td>\n      <td>24-00112</td>\n      <td>between E. 55th St. and, South Ellis Avenue, C...</td>\n      <td>41.7658565,-87.6006985</td>\n      <td>[Person, reports, losing, a, set, of, keys, wh...</td>\n      <td>[person, report, lose, set, key, walk]</td>\n    </tr>\n    <tr>\n      <th>17</th>\n      <td>An unknown subject took merchandise from the o...</td>\n      <td>Referred</td>\n      <td>Information / Theft</td>\n      <td>1554 E. 55th St. (Walgreens)</td>\n      <td>1/29/24 3:45 PM</td>\n      <td>None</td>\n      <td>2024-01-29T15:51:00-06:00</td>\n      <td>2024-01-29</td>\n      <td>2024-003858</td>\n      <td>1554 E 55TH ST, CHICAGO, IL, 60615</td>\n      <td>41.795293454018804,-87.58874456300606</td>\n      <td>[An, unknown, subject, took, merchandise, from...</td>\n      <td>[unknown, subject, take, merchandise, campus, ...</td>\n    </tr>\n    <tr>\n      <th>18</th>\n      <td>Unknown person(s) unlawfully entered off-campu...</td>\n      <td>Referred</td>\n      <td>Information / Burglary</td>\n      <td>S. Kenwood Ave. between E. 57th St. and E. 58t...</td>\n      <td>1/27/24 to 1/29/24 8:00 AM to 10:30 PM</td>\n      <td>None</td>\n      <td>2024-01-29T22:33:00-06:00</td>\n      <td>2024-01-29</td>\n      <td>2024-003903</td>\n      <td>between E. 57th St. and, S. Kenwood Ave, Chica...</td>\n      <td>41.7896072,-87.5964144</td>\n      <td>[Unknown, person(s, unlawfully, entered, off, ...</td>\n      <td>[unknown, person(s, unlawfully, enter, campus,...</td>\n    </tr>\n    <tr>\n      <th>19</th>\n      <td>A known person took merchandise from the off-c...</td>\n      <td>Referred</td>\n      <td>Information / Theft</td>\n      <td>1346 E. 53rd St. (Target)</td>\n      <td>1/28/24 2:25 PM</td>\n      <td>None</td>\n      <td>2024-01-28T14:28:00-06:00</td>\n      <td>2024-01-28</td>\n      <td>2024-003763</td>\n      <td>1346 E 53RD ST, CHICAGO, IL, 60615</td>\n      <td>41.79955044222366,-87.593062823983</td>\n      <td>[A, known, person, took, merchandise, from, th...</td>\n      <td>[known, person, take, merchandise, campus, sto...</td>\n    </tr>\n    <tr>\n      <th>20</th>\n      <td>Person reported they lost their wallet while w...</td>\n      <td>Closed</td>\n      <td>Lost Property</td>\n      <td>Midway Pl. (Public Way)</td>\n      <td>1/28/24 9:00 AM to 11:00 AM</td>\n      <td>None</td>\n      <td>2024-01-28T11:24:00-06:00</td>\n      <td>2024-01-28</td>\n      <td>24-00102</td>\n      <td>Midway Pl, Chicago, IL</td>\n      <td>41.8781136,-87.6297982</td>\n      <td>[Person, reported, they, lost, their, wallet, ...</td>\n      <td>[person, report, lose, wallet, walk, midway, pl]</td>\n    </tr>\n    <tr>\n      <th>21</th>\n      <td>Harassing phone calls, texts, and emails from ...</td>\n      <td>Open</td>\n      <td>Harassment by Electronic Means</td>\n      <td>5500 S. University Ave. (Campus North RH)</td>\n      <td>1/28/24 8:56 PM</td>\n      <td>None</td>\n      <td>2024-01-28T19:04:00-06:00</td>\n      <td>2024-01-28</td>\n      <td>24-00103</td>\n      <td>5500 S UNIVERSITY AVE, CHICAGO, IL, 60637</td>\n      <td>41.79501825290694,-87.59819830175003</td>\n      <td>[Harassing, phone, calls, texts, and, emails, ...</td>\n      <td>[harass, phone, call, text, email, known, pers...</td>\n    </tr>\n    <tr>\n      <th>22</th>\n      <td>Two people engaged in a physical altercation i...</td>\n      <td>Open</td>\n      <td>Battery</td>\n      <td>S. Blackstone Ave. between E. 58th St. and E. ...</td>\n      <td>1/28/24 9:05 PM</td>\n      <td>None</td>\n      <td>2024-01-28T21:13:00-06:00</td>\n      <td>2024-01-28</td>\n      <td>24-00104</td>\n      <td>between E. 58th St. and, S. Blackstone Ave, Ch...</td>\n      <td>41.7877946,-87.5965203</td>\n      <td>[Two, people, engaged, in, a, physical, alterc...</td>\n      <td>[people, engage, physical, altercation, campus...</td>\n    </tr>\n    <tr>\n      <th>23</th>\n      <td>A person reported the theft of their wallet wh...</td>\n      <td>CPD</td>\n      <td>Information / Theft</td>\n      <td>1453 E. 53rd St. (Restaurant)</td>\n      <td>1/27/24 9:00 PM</td>\n      <td>None</td>\n      <td>2024-01-27T21:56:00-06:00</td>\n      <td>2024-01-27</td>\n      <td>2024-003692</td>\n      <td>1453 E 53RD ST, CHICAGO, IL, 60615</td>\n      <td>41.79947344759537,-87.59002449070437</td>\n      <td>[A, person, reported, the, theft, of, their, w...</td>\n      <td>[person, report, theft, wallet, campus, restau...</td>\n    </tr>\n    <tr>\n      <th>24</th>\n      <td>A sick person was transported to UCMED by CFD EMS</td>\n      <td>Closed</td>\n      <td>Medical Call</td>\n      <td>1414 E. 59th St. (I-House)</td>\n      <td>1/27/24 1:01 AM</td>\n      <td>None</td>\n      <td>2024-01-27T01:01:00-06:00</td>\n      <td>2024-01-27</td>\n      <td>24-00097</td>\n      <td>1414 E 59TH ST, CHICAGO, IL, 60637</td>\n      <td>41.78791517991578,-87.59109313855441</td>\n      <td>[A, sick, person, was, transported, to, UCMED,...</td>\n      <td>[sick, person, transport, ucmed, cfd, ems]</td>\n    </tr>\n    <tr>\n      <th>25</th>\n      <td>An underage individual became ill after consum...</td>\n      <td>Referred</td>\n      <td>Liquor Law Violation</td>\n      <td>5630 S. University Ave. (Max Palevsky RH)</td>\n      <td>1/27/28 2:28 AM</td>\n      <td>None</td>\n      <td>2024-01-27T02:28:00-06:00</td>\n      <td>2024-01-27</td>\n      <td>24-00098</td>\n      <td>5630 S UNIVERSITY AVE, CHICAGO, IL, 60637</td>\n      <td>41.79266736625336,-87.59818172549909</td>\n      <td>[An, underage, individual, became, ill, after,...</td>\n      <td>[underage, individual, ill, consume, alcoholic...</td>\n    </tr>\n    <tr>\n      <th>26</th>\n      <td>UCPD officer arrested a person wanted on an ac...</td>\n      <td>Arrest</td>\n      <td>Warrant Arrest</td>\n      <td>5721 S. Maryland Ave. (Comer Hospital)</td>\n      <td>1/27/24 9:45 AM</td>\n      <td>None</td>\n      <td>2024-01-27T09:46:00-06:00</td>\n      <td>2024-01-27</td>\n      <td>24-00099</td>\n      <td>5721 S MARYLAND AVE, CHICAGO, IL, 60637</td>\n      <td>41.79028249316277,-87.60486168542637</td>\n      <td>[UCPD, officer, arrested, a, person, wanted, o...</td>\n      <td>[ucpd, officer, arrest, person, want, active, ...</td>\n    </tr>\n    <tr>\n      <th>27</th>\n      <td>A UCM staff member found three rounds of ammun...</td>\n      <td>Closed</td>\n      <td>Found Property</td>\n      <td>5700 S. Maryland Ave. (CCD)</td>\n      <td>1/27/24 12:49 PM</td>\n      <td>None</td>\n      <td>2024-01-27T12:49:00-06:00</td>\n      <td>2024-01-27</td>\n      <td>24-00100</td>\n      <td>5700 S MARYLAND AVE, CHICAGO, IL, 60637</td>\n      <td>41.790399200814214,-87.60501721223172</td>\n      <td>[A, UCM, staff, member, found, three, rounds, ...</td>\n      <td>[ucm, staff, member, find, round, ammunition, ...</td>\n    </tr>\n    <tr>\n      <th>28</th>\n      <td>A UCPD officer initiated pursuit of a vehicle ...</td>\n      <td>Closed</td>\n      <td>Information</td>\n      <td>5500 S. Lake Park Ave. (Public Way)</td>\n      <td>1/27/24 10:29 PM</td>\n      <td>None</td>\n      <td>2024-01-27T22:29:00-06:00</td>\n      <td>2024-01-27</td>\n      <td>24-00101</td>\n      <td>5500 S LAKE PARK AVE, CHICAGO, IL, 60637</td>\n      <td>41.79513846417952,-87.58759979986627</td>\n      <td>[A, UCPD, officer, initiated, pursuit, of, a, ...</td>\n      <td>[ucpd, officer, initiate, pursuit, vehicle, wa...</td>\n    </tr>\n    <tr>\n      <th>29</th>\n      <td>Window and glass door shattered with rocks / R...</td>\n      <td>Referred</td>\n      <td>Information Criminal Damage to Property</td>\n      <td>5325 S. Lake Park Ave. (Ulta)</td>\n      <td>1/26/24 5:50 AM</td>\n      <td>None</td>\n      <td>2024-01-26T05:53:00-06:00</td>\n      <td>2024-01-26</td>\n      <td>2024-003441</td>\n      <td>5325 S LAKE PARK AVE, CHICAGO, IL, 60615</td>\n      <td>41.79918108861816,-87.58719450965721</td>\n      <td>[Window, and, glass, door, shattered, with, ro...</td>\n      <td>[window, glass, door, shatter, rock, refer, cpd]</td>\n    </tr>\n    <tr>\n      <th>30</th>\n      <td>A person who was suspected of taking merchandi...</td>\n      <td>Closed</td>\n      <td>Information</td>\n      <td>950 E. 59th St. (Billings Hospital Caf�)</td>\n      <td>1/26/24 9:29 AM</td>\n      <td>Computer Fraud</td>\n      <td>2024-01-26T09:30:00-06:00</td>\n      <td>2024-01-26</td>\n      <td>24-00094</td>\n      <td>950 E 59TH ST, CHICAGO, IL, 60637</td>\n      <td>41.78778965056822,-87.60233383913666</td>\n      <td>[A, person, who, was, suspected, of, taking, m...</td>\n      <td>[person, suspect, take, merchandise, past, giv...</td>\n    </tr>\n    <tr>\n      <th>31</th>\n      <td>ComEd electrical line malfunctioned causing an...</td>\n      <td>Closed</td>\n      <td>Information</td>\n      <td>1427 E. 60th St. (Public Way)</td>\n      <td>1/26/24 10:54 AM</td>\n      <td>None</td>\n      <td>2024-01-26T10:56:00-06:00</td>\n      <td>2024-01-26</td>\n      <td>24-00095</td>\n      <td>1427 E 60TH ST, CHICAGO, IL, 60637</td>\n      <td>41.78604386434425,-87.59113719099213</td>\n      <td>[ComEd, electrical, line, malfunctioned, causi...</td>\n      <td>[come, electrical, line, malfunction, cause, e...</td>\n    </tr>\n    <tr>\n      <th>32</th>\n      <td>Person reported losing AirPods while in the bu...</td>\n      <td>Closed</td>\n      <td>Lost Property</td>\n      <td>1307 E. 60th St. (Harris School)</td>\n      <td>1/25/24 to 1/26/24 10:00 PM 12:30 PM</td>\n      <td>None</td>\n      <td>2024-01-26T14:56:00-06:00</td>\n      <td>2024-01-26</td>\n      <td>24-00096</td>\n      <td>1307 E 60TH ST, CHICAGO, IL, 60637</td>\n      <td>41.78600876680485,-87.59433990688596</td>\n      <td>[Person, reported, losing, AirPods, while, in,...</td>\n      <td>[person, report, lose, airpod, building]</td>\n    </tr>\n    <tr>\n      <th>33</th>\n      <td>Catalytic converter taken from 2004 Cadillac p...</td>\n      <td>Open</td>\n      <td>Theft from Motor Vehicle</td>\n      <td>5848 S. University Ave. (Public Way)</td>\n      <td>1/25/24 7:15 AM to 9:00 AM</td>\n      <td>None</td>\n      <td>2024-01-25T09:04:00-06:00</td>\n      <td>2024-01-25</td>\n      <td>24-00093</td>\n      <td>5848 S UNIVERSITY AVE, CHICAGO, IL, 60637</td>\n      <td>41.790097712780145,-87.59812223926319</td>\n      <td>[Catalytic, converter, taken, from, 2004, Cadi...</td>\n      <td>[catalytic, converter, take, cadillac, park, s...</td>\n    </tr>\n    <tr>\n      <th>34</th>\n      <td>Front door of bank smashed / Suspects fled in ...</td>\n      <td>CPD</td>\n      <td>Information / Attempted Burglary</td>\n      <td>1354 E. 55th St. (Bank)</td>\n      <td>1/24/24 3:58 AM</td>\n      <td>None</td>\n      <td>2024-01-24T03:58:00-06:00</td>\n      <td>2024-01-24</td>\n      <td>2024-003198</td>\n      <td>1354 E 55TH ST, CHICAGO, IL, 60615</td>\n      <td>41.79516745430262,-87.59347688355719</td>\n      <td>[Front, door, of, bank, smashed, Suspects, fle...</td>\n      <td>[door, bank, smash, suspect, flee, vehicle, po...</td>\n    </tr>\n    <tr>\n      <th>35</th>\n      <td>Two unknown subjects took merchandise from the...</td>\n      <td>Referred</td>\n      <td>Information / Theft</td>\n      <td>1554 E. 55th St. (Walgreens)</td>\n      <td>1/24/24 2:50 PM</td>\n      <td>None</td>\n      <td>2024-01-24T14:53:00-06:00</td>\n      <td>2024-01-24</td>\n      <td>2024-003250</td>\n      <td>1554 E 55TH ST, CHICAGO, IL, 60615</td>\n      <td>41.795293454018804,-87.58874456300606</td>\n      <td>[Two, unknown, subjects, took, merchandise, fr...</td>\n      <td>[unknown, subject, take, merchandise, campus, ...</td>\n    </tr>\n    <tr>\n      <th>36</th>\n      <td>Victim walking on the sidewalk off-campus was ...</td>\n      <td>Referred</td>\n      <td>Information / Armed Robbery</td>\n      <td>5550 S. Dorchester Ave. (Public Way)</td>\n      <td>1/24/24 5:15 PM</td>\n      <td>None</td>\n      <td>2024-01-24T17:17:00-06:00</td>\n      <td>2024-01-24</td>\n      <td>2024-003266</td>\n      <td>5550 S DORCHESTER AVE, CHICAGO, IL, 60637</td>\n      <td>41.79389266081975,-87.59173089075038</td>\n      <td>[Victim, walking, on, the, sidewalk, off, camp...</td>\n      <td>[victim, walk, sidewalk, campus, approach, unk...</td>\n    </tr>\n    <tr>\n      <th>37</th>\n      <td>A person walking on the sidewalk off-campus wa...</td>\n      <td>Referred</td>\n      <td>Information / Robbery</td>\n      <td>1313 E. 62nd St. (Public Way)</td>\n      <td>1/24/24 6:45 PM</td>\n      <td>None</td>\n      <td>2024-01-24T18:50:00-06:00</td>\n      <td>2024-01-24</td>\n      <td>2024-003273</td>\n      <td>1313 E 62ND ST, CHICAGO, IL, 60637</td>\n      <td>41.782300208454735,-87.59435160367028</td>\n      <td>[A, person, walking, on, the, sidewalk, off, c...</td>\n      <td>[person, walk, sidewalk, campus, confront, unk...</td>\n    </tr>\n    <tr>\n      <th>38</th>\n      <td>A parked 2020 Hyundai Elantra was taken by unk...</td>\n      <td>Open</td>\n      <td>Motor Vehicle Theft</td>\n      <td>929 E. 57th St. (Public Way)</td>\n      <td>1/23/24 4:00 PM to 10:30 PM</td>\n      <td>None</td>\n      <td>2024-01-24T00:40:00-06:00</td>\n      <td>2024-01-24</td>\n      <td>24-00085</td>\n      <td>929 E 57TH ST, CHICAGO, IL, 60637</td>\n      <td>41.79131786409532,-87.60301029502915</td>\n      <td>[A, parked, 2020, Hyundai, Elantra, was, taken...</td>\n      <td>[parked, hyundai, elantra, take, unknown, pers...</td>\n    </tr>\n    <tr>\n      <th>39</th>\n      <td>Owner parked 2011 Dodge sedan in alley / Engin...</td>\n      <td>Closed</td>\n      <td>Non-Criminal Damage to Property / Fire</td>\n      <td>5720 S. Woodlawn Ave. (Alley)</td>\n      <td>1/24/24 9:20 AM</td>\n      <td>None</td>\n      <td>2024-01-24T09:23:00-06:00</td>\n      <td>2024-01-24</td>\n      <td>24-00086</td>\n      <td>5720 S WOODLAWN AVE, CHICAGO, IL, 60637</td>\n      <td>41.791099203897,-87.59652661595706</td>\n      <td>[Owner, parked, 2011, Dodge, sedan, in, alley,...</td>\n      <td>[owner, park, dodge, sedan, alley, engine, cat...</td>\n    </tr>\n    <tr>\n      <th>40</th>\n      <td>A first floor window in the building was damag...</td>\n      <td>Open</td>\n      <td>Criminal Damage to Property</td>\n      <td>1407 E. 60th St. (CTS)</td>\n      <td>1/14/24 to 1/16/24 8:00 AM to 10:00 PM</td>\n      <td>None</td>\n      <td>2024-01-24T15:45:00-06:00</td>\n      <td>2024-01-24</td>\n      <td>24-00087</td>\n      <td>1407 E 60TH ST, CHICAGO, IL, 60637</td>\n      <td>41.786040403761085,-87.59133222581045</td>\n      <td>[A, first, floor, window, in, the, building, w...</td>\n      <td>[floor, window, building, damage, rock, pellet]</td>\n    </tr>\n    <tr>\n      <th>41</th>\n      <td>A subject was arrested by UCPD officers for an...</td>\n      <td>Arrest</td>\n      <td>Warrant Arrest</td>\n      <td>5757 S. Harper Ave. (Public Way)</td>\n      <td>1/24/24 2:57 PM</td>\n      <td>None</td>\n      <td>2024-01-24T14:57:00-06:00</td>\n      <td>2024-01-24</td>\n      <td>24-00088</td>\n      <td>5757 S HARPER AVE, CHICAGO, IL, 60637</td>\n      <td>41.79047653202908,-87.58892868330123</td>\n      <td>[A, subject, was, arrested, by, UCPD, officers...</td>\n      <td>[subject, arrest, ucpd, officer, active, warra...</td>\n    </tr>\n    <tr>\n      <th>42</th>\n      <td>A person walking on the sidewalk was approache...</td>\n      <td>Open</td>\n      <td>Attempted Armed Robbery</td>\n      <td>1425 E. Midway Plaisance (Public Way)</td>\n      <td>1/24/24 5:20 PM</td>\n      <td>None</td>\n      <td>2024-01-24T17:25:00-06:00</td>\n      <td>2024-01-24</td>\n      <td>24-00089</td>\n      <td>1425 East Midway Plaisance, Chicago, IL 60637</td>\n      <td>41.7871844,-87.5992537</td>\n      <td>[A, person, walking, on, the, sidewalk, was, a...</td>\n      <td>[person, walk, sidewalk, approach, unknown, su...</td>\n    </tr>\n    <tr>\n      <th>43</th>\n      <td>Window in parked vehicle shattered by BB gun p...</td>\n      <td>Open</td>\n      <td>Criminal Damage to Property</td>\n      <td>1155 E. 60th St. (Parking Lot)</td>\n      <td>1/24/2024  2:00 PM to 6:00 PM</td>\n      <td>None</td>\n      <td>2024-01-24T18:10:00-06:00</td>\n      <td>2024-01-24</td>\n      <td>24-00090</td>\n      <td>1155 E 60TH ST, CHICAGO, IL, 60637</td>\n      <td>41.785898731293535,-87.59870739425904</td>\n      <td>[Window, in, parked, vehicle, shattered, by, B...</td>\n      <td>[window, park, vehicle, shatter, bb, gun, pellet]</td>\n    </tr>\n    <tr>\n      <th>44</th>\n      <td>Information relating to a traffic crash docume...</td>\n      <td>Closed</td>\n      <td>Information</td>\n      <td>1200 E. 61st St. (Public Way)</td>\n      <td>1/24/24 5:58 PM</td>\n      <td>None</td>\n      <td>2024-01-24T17:58:00-06:00</td>\n      <td>2024-01-24</td>\n      <td>24-00091</td>\n      <td>1200 E 61ST ST, CHICAGO, IL, 60637</td>\n      <td>41.784223456335354,-87.59621093049836</td>\n      <td>[Information, relating, to, a, traffic, crash,...</td>\n      <td>[information, relate, traffic, crash, document]</td>\n    </tr>\n    <tr>\n      <th>45</th>\n      <td>A person was transported to UCMED by UCPD for ...</td>\n      <td>Closed</td>\n      <td>Mental Health Transport</td>\n      <td>1100 E. 57th St. (Regenstein Library)</td>\n      <td>1/24/24 10:06 PM</td>\n      <td>None</td>\n      <td>2024-01-24T22:06:00-06:00</td>\n      <td>2024-01-24</td>\n      <td>24-00092</td>\n      <td>1100 E 57TH ST, CHICAGO, IL, 60637</td>\n      <td>41.79148537051787,-87.59815254349277</td>\n      <td>[A, person, was, transported, to, UCMED, by, U...</td>\n      <td>[person, transport, ucmed, ucpd, evaluation]</td>\n    </tr>\n    <tr>\n      <th>46</th>\n      <td>Unknown person(s) unlawfully entered off-campu...</td>\n      <td>CPD</td>\n      <td>Information / Burglary</td>\n      <td>S. Ingleside Ave. between E. 61st St. and E. 6...</td>\n      <td>1/22/24 9:00 AM to 11:20 PM</td>\n      <td>None</td>\n      <td>2024-01-23T00:46:00-06:00</td>\n      <td>2024-01-23</td>\n      <td>2024-003047</td>\n      <td>and South Ingleside Avenue, between, IL 60637</td>\n      <td>41.7828711,-87.5891167</td>\n      <td>[Unknown, person(s, unlawfully, entered, off, ...</td>\n      <td>[unknown, person(s, unlawfully, enter, campus,...</td>\n    </tr>\n    <tr>\n      <th>47</th>\n      <td>A subject took merchandise from the off-campus...</td>\n      <td>Arrest</td>\n      <td>Theft</td>\n      <td>1554 E. 55th St. (Walgreens)</td>\n      <td>1/23/24 8:15 AM</td>\n      <td>None</td>\n      <td>2024-01-23T08:20:00-06:00</td>\n      <td>2024-01-23</td>\n      <td>24-00078</td>\n      <td>1554 E 55TH ST, CHICAGO, IL, 60615</td>\n      <td>41.795293454018804,-87.58874456300606</td>\n      <td>[A, subject, took, merchandise, from, the, off...</td>\n      <td>[subject, take, merchandise, campus, store, pa...</td>\n    </tr>\n    <tr>\n      <th>48</th>\n      <td>An unknown vehicle crashed into a vehicle park...</td>\n      <td>Open</td>\n      <td>Traffic Crash / Property Damage / Hit and Run</td>\n      <td>5720 S. Woodlawn Ave. (Public Way)</td>\n      <td>1/23/24 8:15 AM to 11:15 AM</td>\n      <td>None</td>\n      <td>2024-01-23T11:40:00-06:00</td>\n      <td>2024-01-23</td>\n      <td>24-00079</td>\n      <td>5720 S WOODLAWN AVE, CHICAGO, IL, 60637</td>\n      <td>41.791099203897,-87.59652661595706</td>\n      <td>[An, unknown, vehicle, crashed, into, a, vehic...</td>\n      <td>[unknown, vehicle, crash, vehicle, park, stree...</td>\n    </tr>\n    <tr>\n      <th>49</th>\n      <td>An unknown vehicle crashed into a vehicle park...</td>\n      <td>Open</td>\n      <td>Traffic Crash / Property Damage / Hit and Run</td>\n      <td>5807 S. Woodlawn Ave. (Public Way)</td>\n      <td>1/23/24 8:30 AM to 4:25 PM</td>\n      <td>None</td>\n      <td>2024-01-23T16:28:00-06:00</td>\n      <td>2024-01-23</td>\n      <td>24-00080</td>\n      <td>5807 S WOODLAWN AVE, CHICAGO, IL, 60637</td>\n      <td>41.78945965410216,-87.596332897418</td>\n      <td>[An, unknown, vehicle, crashed, into, a, vehic...</td>\n      <td>[unknown, vehicle, crash, vehicle, park, stree...</td>\n    </tr>\n  </tbody>\n</table>\n</div>"
     },
     "execution_count": 152,
     "metadata": {},
     "output_type": "execute_result"
    }
   ],
   "source": [
    "# Data Importing\n",
    "# Data is sourced from a personal project of mine you can find here:\n",
    "# https://ucpd-incident-reporter-7cfdc3369124.herokuapp.com/\n",
    "ucpd_feather_path = \"data/fully_tokenized_ucpd_incidents.feather\"\n",
    "if os.path.isfile(ucpd_feather_path):\n",
    "    ucpd_reports = pd.read_feather(ucpd_feather_path)\n",
    "else:\n",
    "    # WARNING: This step takes about 120 minutes, so don't run it unless you need to.\n",
    "    ucpd_reports = pd.read_csv(\"data/incident_dump.csv\")\n",
    "    ucpd_reports[\"tokenized_text\"] = ucpd_reports[\"comments\"].apply(\n",
    "        lucem_illud.word_tokenize\n",
    "    )\n",
    "    ucpd_reports[\"normalized_text\"] = ucpd_reports[\"tokenized_text\"].apply(\n",
    "        lucem_illud.normalizeTokens\n",
    "    )\n",
    "    ucpd_reports.to_feather(ucpd_feather_path)\n",
    "ucpd_reports.head(50)"
   ]
  },
  {
   "cell_type": "markdown",
   "id": "5549c3605b54cfa1",
   "metadata": {
    "collapsed": false
   },
   "source": [
    "## <font color=\"red\">*Exercise 1*</font>\n",
    "\n",
    "<font color=\"red\">As this week's challenging questions asks, we'd like you to \n",
    "think how LLM can help your final project.  Try to use the OpenAI API to analyze \n",
    "a small-sized dataset (Remember to monitor API use on your OpenAI account!). The \n",
    "data could a sample from the dataset you prepare for the final project or some \n",
    "others. If it's going be a conventional task like classification, compare and \n",
    "see how it could beat(or being defeated) by other algorithms you've learned from \n",
    "previous weeks. If it's a special task that you cannot find a learned algorithm \n",
    "to compare with, evaluate its performance on your own and try if you can improve \n",
    "by changing hyperparameters(see [here](https://platform.openai.com/docs/api-reference/chat/create)), the prompt, etc."
   ]
  },
  {
   "cell_type": "code",
   "execution_count": 143,
   "id": "88e5e3f3488f9262",
   "metadata": {
    "collapsed": false,
    "ExecuteTime": {
     "end_time": "2024-02-09T08:13:06.638460Z",
     "start_time": "2024-02-09T08:13:06.604134Z"
    }
   },
   "outputs": [
    {
     "data": {
      "text/plain": "\"Missing required arguments; Expected either ('model' and 'prompt') or ('model', 'prompt' and 'stream') arguments to be given\""
     },
     "execution_count": 143,
     "metadata": {},
     "output_type": "execute_result"
    }
   ],
   "source": [
    "cluster_list(ucpd_reports[\"comments\"].to_list()[:50])"
   ]
  },
  {
   "cell_type": "code",
   "execution_count": null,
   "outputs": [],
   "source": [],
   "metadata": {
    "collapsed": false
   },
   "id": "15e3a3d0b253fe96"
  },
  {
   "cell_type": "markdown",
   "id": "7aaec3f33a7e7f5c",
   "metadata": {
    "collapsed": false
   },
   "source": [
    "## <font color=\"red\">*Exercise 2*</font>\n",
    "\n",
    "<font color=\"red\">Fine-tune an LLM. You can either use the model (llama-2-7b) in \n",
    "the example code or find another open-source LLM. You may use datasets provided \n",
    "by HuggingFace or a dataset you collect from somewhere else (for your final project). \n",
    "If the task happens to be the same as in exercise 1, You can choose to compare the \n",
    "performance between the OpenAI LLM and your fine-tuned LLM. You can also choose to \n",
    "compare the performance between the vanilla and the fine-tuned LLM."
   ]
  },
  {
   "cell_type": "code",
   "execution_count": null,
   "id": "eb555776de120e74",
   "metadata": {
    "collapsed": false
   },
   "outputs": [],
   "source": []
  },
  {
   "cell_type": "markdown",
   "id": "f57769d2db2531e5",
   "metadata": {
    "collapsed": false
   },
   "source": [
    "## <font color=\"red\">*Exercise 3*</font>\n",
    "<font color=\"red\">Use LLM to generate some data and compare the differences between model-generated \n",
    "data and actual data. This exercise should not be a repetition of exercise 1. You should \n",
    "focus more on analyzing language nuances, qualitatively or quantitatively. You should also \n",
    "notice how the choice of LLM has possibly impacted the language it uses."
   ]
  },
  {
   "cell_type": "code",
   "execution_count": null,
   "id": "9d78775f496723b3",
   "metadata": {
    "collapsed": false
   },
   "outputs": [],
   "source": []
  },
  {
   "cell_type": "markdown",
   "id": "80a85d8d4b691f31",
   "metadata": {
    "collapsed": false
   },
   "source": [
    "## <font color=\"red\">*Exercise 4*</font>\n",
    "\n",
    "<font color=\"red\">Compare how LLMs change their performance with different \n",
    "shots on your task. If the evaluation criterion is quantifiable, such as \n",
    "classification with ground truth labels, plot and show how accuracy changes. \n",
    "If the evaluation criterion cannot be easily quantified, such as the clarity \n",
    "of explaining a concept, use your imagination to do some comparison (for \n",
    "example, you can ask another LLM to rate its peer :)) If you find close-sourced \n",
    "LLM APIs pricey and are unsatisfied with responses from small-sized open-sourced \n",
    "LLMs, you can try large-sized LLMs (such as 70B version Llama-2) with Petals \n",
    "(see [here](https://colab.research.google.com/drive/1uCphNY7gfAUkdDrTx21dZZwCOUDCMPw8?usp=sharing) and [here](https://colab.research.google.com/drive/1Ervk6HPNS6AYVr3xVdQnY5a-TjjmLCdQ))."
   ]
  },
  {
   "cell_type": "code",
   "execution_count": null,
   "id": "bf6f9e4800dec460",
   "metadata": {
    "collapsed": false
   },
   "outputs": [],
   "source": []
  },
  {
   "cell_type": "markdown",
   "id": "4ee94a09c81beb4e",
   "metadata": {
    "collapsed": false
   },
   "source": [
    "## <font color=\"red\">*Exercise 5*</font>\n",
    "\n",
    "<font color=\"red\">Using Actor - Critical method to improve an LLM's performance \n",
    "on your task or doing some experiments langauge style learning (For example, \n",
    "you can investigate how LLMs perceive different groups of people would write \n",
    "their dating profiles. This may serve as an opportunity to explore how LLMs \n",
    "semantically embed social groups and assess their appropriateness.)"
   ]
  },
  {
   "cell_type": "markdown",
   "source": [
    "I am going to attempt to write a message stating my passions for a dating\n",
    "app based on the school I attended at 3 different ages."
   ],
   "metadata": {
    "collapsed": false
   },
   "id": "81d196369d883229"
  },
  {
   "cell_type": "code",
   "execution_count": 156,
   "outputs": [],
   "source": [
    "# University of Texas at Austin\n",
    "ut_base_prompt = (\n",
    "    \"I graduated from the University of Texas at Austin and in my free time I like to run, \"\n",
    "    \"read science fiction, explore museums, and visit cocktail bars.\"\n",
    ")\n",
    "\n",
    "ut_prompt_25 = f\"Rewrite the following text in 150 words using the style of a 25 year old male:\\n\\n{ut_base_prompt}\"\n",
    "ut_prompt_30 = f\"Rewrite the following text in 150 words using the style of a 30 year old male:\\n\\n{ut_base_prompt}\"\n",
    "ut_prompt_35 = f\"Rewrite the following text in 150 words using the style of a 35 year old male:\\n\\n{ut_base_prompt}\""
   ],
   "metadata": {
    "collapsed": false,
    "ExecuteTime": {
     "end_time": "2024-02-09T08:17:02.564192Z",
     "start_time": "2024-02-09T08:17:02.530063Z"
    }
   },
   "id": "fb8a6dac4e94c3ad"
  },
  {
   "cell_type": "code",
   "execution_count": 157,
   "outputs": [
    {
     "name": "stdout",
     "output_type": "stream",
     "text": [
      "So, I just wrapped up my time at UT Austin and got that degree in the bag. Pretty stoked about it, gotta admit. When I'm not grinding away at my 9-5, I'm all about that runner's high and diving into some sci-fi reads. But let's be real, I can't be a total nerd all the time. I love hitting up museums and checking out all the dope exhibits. And let's not forget about my love for a good cocktail. Nothing beats unwinding with a fancy drink in hand. Cheers to that.\n"
     ]
    }
   ],
   "source": [
    "ut_init_response_25 = generate_text_with_style(ut_prompt_25)\n",
    "print(ut_init_response_25)"
   ],
   "metadata": {
    "collapsed": false,
    "ExecuteTime": {
     "end_time": "2024-02-09T08:17:04.726109Z",
     "start_time": "2024-02-09T08:17:03.202982Z"
    }
   },
   "id": "ddd57578989e3280"
  },
  {
   "cell_type": "code",
   "execution_count": 158,
   "outputs": [
    {
     "name": "stdout",
     "output_type": "stream",
     "text": [
      "I recently completed my studies at UT Austin and successfully obtained my degree. I am very excited and proud of this achievement. In my free time outside of my job, I enjoy running and immersing myself in science fiction literature. However, I also enjoy exploring museums and admiring their fascinating exhibits. And of course, I have a fondness for indulging in a well-crafted cocktail to relax and unwind. Here's to enjoying the finer things in life.\n"
     ]
    }
   ],
   "source": [
    "print(\n",
    "    generate_text_with_style(\n",
    "        \"Critique and re-write this text with a focus on clarity, age-appropriate phrasing, \"\n",
    "        f\"and the vocabulary expected from a University of Texas at Austin graduate:\\n\\n{ut_init_response_25}\"\n",
    "    )\n",
    ")"
   ],
   "metadata": {
    "collapsed": false,
    "ExecuteTime": {
     "end_time": "2024-02-09T08:17:06.691031Z",
     "start_time": "2024-02-09T08:17:05.536413Z"
    }
   },
   "id": "6e217fb3c1ee8128"
  },
  {
   "cell_type": "code",
   "execution_count": 159,
   "outputs": [
    {
     "name": "stdout",
     "output_type": "stream",
     "text": [
      "After conquering the rigorous academic challenges at the University of Texas at Austin, I proudly don the cap and gown and entered the real world. When I'm not hustling at my job, you can find me pounding the pavement on my daily runs, getting lost in the pages of mind-bending science fiction, or immersing myself in the world of art and history at various museums. And let's not forget my love for a well-crafted cocktail at a classy bar - a perfect way to unwind after a long day. My passions may seem diverse, but they all bring a sense of balance and fulfillment to my life. Cheers to being a well-rounded 30-year-old man!\n"
     ]
    }
   ],
   "source": [
    "ut_init_response_30 = generate_text_with_style(ut_prompt_30)\n",
    "print(ut_init_response_30)"
   ],
   "metadata": {
    "collapsed": false,
    "ExecuteTime": {
     "end_time": "2024-02-09T08:17:09.017864Z",
     "start_time": "2024-02-09T08:17:07.257380Z"
    }
   },
   "id": "a09367c35a34c6af"
  },
  {
   "cell_type": "code",
   "execution_count": 160,
   "outputs": [
    {
     "name": "stdout",
     "output_type": "stream",
     "text": [
      "After successfully completing the challenging academic journey at the University of Texas at Austin, I proudly wear my graduation attire and have entered the workforce. When I'm not working, you can find me running, reading thought-provoking science fiction, or exploring art and history at different museums. I also enjoy unwinding with a well-made cocktail at a sophisticated bar after a busy day. My interests may vary, but they all contribute to a well-balanced and fulfilling life. Here's to being a well-rounded 30-year-old!\n"
     ]
    }
   ],
   "source": [
    "print(\n",
    "    generate_text_with_style(\n",
    "        \"Critique and re-write this text with a focus on clarity, age-appropriate phrasing, \"\n",
    "        f\"and the vocabulary expected from a University of Texas at Austin graduate:\\n\\n{ut_init_response_30}\"\n",
    "    )\n",
    ")"
   ],
   "metadata": {
    "collapsed": false,
    "ExecuteTime": {
     "end_time": "2024-02-09T08:17:10.808615Z",
     "start_time": "2024-02-09T08:17:09.543780Z"
    }
   },
   "id": "1b982f62e6edc551"
  },
  {
   "cell_type": "code",
   "execution_count": 161,
   "outputs": [
    {
     "name": "stdout",
     "output_type": "stream",
     "text": [
      "After earning my degree at the prestigious University of Texas at Austin, I've developed a love for running, indulging in science fiction literature, discovering new museums, and sipping on expertly crafted cocktails at trendy bars. These activities not only keep me physically and mentally fit, but also allow me to unwind and escape from the daily grind of adulting. I relish in the thrill of pushing my limits while running, getting lost in futuristic worlds through sci-fi novels, learning about history and culture through museum exhibits, and indulging in the finer things in life at cocktail bars. As a 35-year-old man, I prioritize self-care and making the most out of my free time. It's important to balance work and play, and these hobbies allow me to do just that.\n"
     ]
    }
   ],
   "source": [
    "ut_init_response_35 = generate_text_with_style(ut_prompt_35)\n",
    "print(ut_init_response_35)"
   ],
   "metadata": {
    "collapsed": false,
    "ExecuteTime": {
     "end_time": "2024-02-09T08:17:13.420897Z",
     "start_time": "2024-02-09T08:17:11.534679Z"
    }
   },
   "id": "6b693c63621701aa"
  },
  {
   "cell_type": "code",
   "execution_count": 162,
   "outputs": [
    {
     "name": "stdout",
     "output_type": "stream",
     "text": [
      "After completing my education at the esteemed University of Texas at Austin, I have developed a passion for various activities such as running, reading science fiction, visiting museums, and enjoying well-crafted cocktails at popular bars. These pastimes not only keep me physically and mentally healthy, but also provide an escape from the daily stresses of adulthood. I find joy in challenging my physical abilities while running, immersing myself in futuristic worlds through sci-fi literature, expanding my knowledge of history and culture at museums, and indulging in the finer things in life at cocktail bars. As a 35-year-old, I prioritize taking care of myself and maximizing my free time. Maintaining a balance between work and leisure is crucial, and these hobbies allow me to achieve that balance.\n"
     ]
    }
   ],
   "source": [
    "print(\n",
    "    generate_text_with_style(\n",
    "        \"Critique and re-write this text with a focus on clarity, age-appropriate phrasing, \"\n",
    "        f\"and the vocabulary expected from a University of Texas at Austin graduate:\\n\\n{ut_init_response_35}\"\n",
    "    )\n",
    ")"
   ],
   "metadata": {
    "collapsed": false,
    "ExecuteTime": {
     "end_time": "2024-02-09T08:17:15.717033Z",
     "start_time": "2024-02-09T08:17:13.997640Z"
    }
   },
   "id": "c43f0add155625e9"
  },
  {
   "cell_type": "code",
   "execution_count": 163,
   "outputs": [],
   "source": [
    "# University of North Texas\n",
    "unt_base_prompt = \"I graduated from the University of North Texas and in my free time I like to run, read science fiction, explore museums, and visit cocktail bars.\"\n",
    "\n",
    "unt_prompt_25 = f\"Rewrite the following text in 150 words using the style of a 25 year old male:\\n\\n{unt_base_prompt}\"\n",
    "unt_prompt_30 = f\"Rewrite the following text in 150 words using the style of a 30 year old male:\\n\\n{unt_base_prompt}\"\n",
    "unt_prompt_35 = f\"Rewrite the following text in 150 words using the style of a 35 year old male:\\n\\n{unt_base_prompt}\""
   ],
   "metadata": {
    "collapsed": false,
    "ExecuteTime": {
     "end_time": "2024-02-09T08:17:16.335493Z",
     "start_time": "2024-02-09T08:17:16.309492Z"
    }
   },
   "id": "3f46ab2887613e3f"
  },
  {
   "cell_type": "code",
   "execution_count": 164,
   "outputs": [
    {
     "name": "stdout",
     "output_type": "stream",
     "text": [
      "So, after four long years of grinding it out at the University of North Texas, I finally got that piece of paper that says I'm a college grad. And let me tell you, it feels pretty damn good. But when I'm not hustling at my 9-5, you can catch me hitting the pavement for a run, getting lost in some mind-bending science fiction, or checking out the latest exhibit at the museum. And let's not forget about my love for a good cocktail. You can find me posted up at the coolest bars in town, sipping on some fancy concoction and living my best life. Because hey, after all that hard work, I deserve to let loose a little. Cheers to adulthood, am I right?\n"
     ]
    }
   ],
   "source": [
    "unt_init_response_25 = generate_text_with_style(unt_prompt_25)\n",
    "print(unt_init_response_25)"
   ],
   "metadata": {
    "collapsed": false,
    "ExecuteTime": {
     "end_time": "2024-02-09T08:17:19.035394Z",
     "start_time": "2024-02-09T08:17:17.268198Z"
    }
   },
   "id": "3f7edc753a691940"
  },
  {
   "cell_type": "code",
   "execution_count": 165,
   "outputs": [
    {
     "name": "stdout",
     "output_type": "stream",
     "text": [
      "After completing four years at the University of North Texas, I finally received my college degree. It's a great feeling of accomplishment. When I'm not working my 9-5 job, I enjoy going for runs, reading science fiction, and visiting the museum. I also have a passion for trying new cocktails, and you can often find me at the trendiest bars in town, indulging in a fancy drink and enjoying life. It's important to take some time to relax and have fun after working so hard. Here's to adulthood!\n"
     ]
    }
   ],
   "source": [
    "print(\n",
    "    generate_text_with_style(\n",
    "        \"Critique and re-write this text with a focus on clarity, age-appropriate phrasing, \"\n",
    "        f\"and the vocabulary expected from a University of North Texas graduate:\\n\\n{unt_init_response_25}\"\n",
    "    )\n",
    ")"
   ],
   "metadata": {
    "collapsed": false,
    "ExecuteTime": {
     "end_time": "2024-02-09T08:17:20.907955Z",
     "start_time": "2024-02-09T08:17:19.551382Z"
    }
   },
   "id": "2f7237e5221d52b4"
  },
  {
   "cell_type": "code",
   "execution_count": 166,
   "outputs": [
    {
     "name": "stdout",
     "output_type": "stream",
     "text": [
      "After earning my degree from the University of North Texas, I've been keeping busy with my hobbies. I'm a big fan of hitting the pavement for a good run, getting lost in a sci-fi novel, checking out the latest exhibits at museums, and sipping on some top-notch cocktails at the hottest bars in town. Life's too short to waste it on mundane activities, so I make sure to make the most out of my free time. Plus, staying active and expanding my mind with some out-of-this-world stories keeps me feeling young and energized. So, you can catch me sweating it out on the trails, getting lost in a good book, or indulging in some fancy drinks at a classy bar. That's just how I roll.\n"
     ]
    }
   ],
   "source": [
    "unt_init_response_30 = generate_text_with_style(unt_prompt_30)\n",
    "print(unt_init_response_30)"
   ],
   "metadata": {
    "collapsed": false,
    "ExecuteTime": {
     "end_time": "2024-02-09T08:17:23.251032Z",
     "start_time": "2024-02-09T08:17:21.401390Z"
    }
   },
   "id": "57b68cb54bdf67bd"
  },
  {
   "cell_type": "code",
   "execution_count": 167,
   "outputs": [
    {
     "name": "stdout",
     "output_type": "stream",
     "text": [
      "Since graduating from the University of North Texas, I have been keeping myself occupied with my interests. I enjoy going for runs, reading science fiction books, visiting museums, and trying out new cocktails at popular bars. I believe that life is too valuable to waste on mundane tasks, so I always make the most of my free time. Staying physically active and expanding my mind with imaginative stories helps me feel youthful and invigorated. You can find me jogging on the trails, engrossed in a captivating novel, or treating myself to fancy drinks at an elegant bar. That's just my way of enjoying life.\n"
     ]
    }
   ],
   "source": [
    "print(\n",
    "    generate_text_with_style(\n",
    "        \"Critique and re-write this text with a focus on clarity, age-appropriate phrasing, \"\n",
    "        f\"and the vocabulary expected from a University of North Texas graduate:\\n\\n{unt_init_response_30}\"\n",
    "    )\n",
    ")"
   ],
   "metadata": {
    "collapsed": false,
    "ExecuteTime": {
     "end_time": "2024-02-09T08:17:25.361451Z",
     "start_time": "2024-02-09T08:17:23.896635Z"
    }
   },
   "id": "3046bf5ecfa13b8a"
  },
  {
   "cell_type": "code",
   "execution_count": 168,
   "outputs": [
    {
     "name": "stdout",
     "output_type": "stream",
     "text": [
      "I'm a proud graduate of the esteemed University of North Texas, where I honed my intellectual prowess and earned my degree with flying colors. When I'm not busy with my job, which by the way, is killing it in the corporate world, I indulge in some of my favorite activities. Running is my go-to for staying fit and maintaining my alpha male physique. But let's not forget my love for sci-fi literature, it's my escape from reality and a way to exercise my imagination. On weekends, you can find me strolling through museums, absorbing the rich culture and history that surrounds us. And when the night falls, I like to unwind at the trendiest cocktail bars, sipping on a fine whiskey and discussing the latest world news with my buddies. That's just how I roll at 35, living life to the fullest.\n"
     ]
    }
   ],
   "source": [
    "unt_init_response_35 = generate_text_with_style(unt_prompt_35)\n",
    "print(unt_init_response_35)"
   ],
   "metadata": {
    "collapsed": false,
    "ExecuteTime": {
     "end_time": "2024-02-09T08:17:27.926062Z",
     "start_time": "2024-02-09T08:17:25.887458Z"
    }
   },
   "id": "ff210d18eea50d6c"
  },
  {
   "cell_type": "code",
   "execution_count": 169,
   "outputs": [
    {
     "name": "stdout",
     "output_type": "stream",
     "text": [
      "As a proud graduate of the prestigious University of North Texas, I have developed my intellectual abilities and successfully completed my degree. When I am not occupied with my successful corporate job, I enjoy engaging in a variety of activities. To stay physically fit and maintain my strong physique, I regularly go for runs. In my free time, I am an avid reader of science fiction literature, which allows me to escape reality and exercise my imagination. On weekends, I like to visit museums to absorb the rich culture and history that surrounds us. As the night approaches, I unwind at popular cocktail bars, savoring a fine whiskey and discussing current world events with my friends. At the age of 35, I am living life to the fullest.\n"
     ]
    }
   ],
   "source": [
    "print(\n",
    "    generate_text_with_style(\n",
    "        \"Critique and re-write this text with a focus on clarity, age-appropriate phrasing, \"\n",
    "        f\"and the vocabulary expected from a University of North Texas graduate:\\n\\n{unt_init_response_35}\"\n",
    "    )\n",
    ")"
   ],
   "metadata": {
    "collapsed": false,
    "ExecuteTime": {
     "end_time": "2024-02-09T08:17:30.206029Z",
     "start_time": "2024-02-09T08:17:28.456344Z"
    }
   },
   "id": "92d0d5e07bdbbd9d"
  },
  {
   "cell_type": "code",
   "execution_count": 170,
   "outputs": [],
   "source": [
    "# University of Chicago\n",
    "uc_base_prompt = \"I graduated from the University of Chicago and in my free time I like to run, read science fiction, explore museums, and visit cocktail bars.\"\n",
    "\n",
    "uc_prompt_25 = f\"Rewrite the following text in 150 words using the style of a 25 year old male:\\n\\n{uc_base_prompt}\"\n",
    "uc_prompt_30 = f\"Rewrite the following text in 150 words using the style of a 30 year old male:\\n\\n{uc_base_prompt}\"\n",
    "uc_prompt_35 = f\"Rewrite the following text in 150 words using the style of a 35 year old male:\\n\\n{uc_base_prompt}\""
   ],
   "metadata": {
    "collapsed": false,
    "ExecuteTime": {
     "end_time": "2024-02-09T08:17:30.797941Z",
     "start_time": "2024-02-09T08:17:30.782116Z"
    }
   },
   "id": "281e914fcd2c33de"
  },
  {
   "cell_type": "code",
   "execution_count": 171,
   "outputs": [
    {
     "name": "stdout",
     "output_type": "stream",
     "text": [
      "Yo, so I just graduated from the University of Chicago, no big deal. In my downtime, you can catch me hitting the pavement for a run, getting lost in some sick science fiction reads, checking out dope museums, and sipping on some fancy cocktails at the bar. I'm all about that balance, you feel me? Gotta keep the mind and body in check. But don't get it twisted, I'm not all about that boring stuff. I love to party and have a good time with my squad too. Life's too short to be serious all the time, am I right? Anyway, just trying to make the most out of my 20s and live it up while I can. #YOLO.\n"
     ]
    }
   ],
   "source": [
    "uc_init_response_25 = generate_text_with_style(uc_prompt_25)\n",
    "print(uc_init_response_25)"
   ],
   "metadata": {
    "collapsed": false,
    "ExecuteTime": {
     "end_time": "2024-02-09T08:17:33.290177Z",
     "start_time": "2024-02-09T08:17:31.409508Z"
    }
   },
   "id": "605a5f34e824ccab"
  },
  {
   "cell_type": "code",
   "execution_count": 172,
   "outputs": [
    {
     "name": "stdout",
     "output_type": "stream",
     "text": [
      "I recently graduated from the University of Chicago, and I'm pretty proud of that accomplishment. In my free time, you can usually find me going for a run, reading some captivating science fiction, exploring interesting museums, or enjoying a fancy cocktail at a bar. I believe in maintaining a balance between physical and mental well-being. However, don't mistake me for a boring person. I also enjoy socializing and having a good time with my friends. After all, life is too short to be serious all the time. I'm just trying to make the most of my 20s and have some fun while I can. #YOLO.\n"
     ]
    }
   ],
   "source": [
    "print(\n",
    "    generate_text_with_style(\n",
    "        \"Critique and re-write this text with a focus on clarity, age-appropriate phrasing, \"\n",
    "        f\"and the vocabulary expected from a University of Chicago graduate:\\n\\n{uc_init_response_25}\"\n",
    "    )\n",
    ")"
   ],
   "metadata": {
    "collapsed": false,
    "ExecuteTime": {
     "end_time": "2024-02-09T08:17:35.504145Z",
     "start_time": "2024-02-09T08:17:33.943095Z"
    }
   },
   "id": "b517dffbb012c92f"
  },
  {
   "cell_type": "code",
   "execution_count": 173,
   "outputs": [
    {
     "name": "stdout",
     "output_type": "stream",
     "text": [
      "After earning my degree from the prestigious University of Chicago, I've been keeping busy with my passions. Running is my go-to for staying fit and clearing my mind. But when I'm not pounding the pavement, you can find me engrossed in some mind-bending science fiction literature. And let's not forget about my love for expanding my knowledge through museum visits. But when the sun goes down, you can catch me sipping on some expertly crafted cocktails at the hottest bars in town. Life's too short to not indulge in the finer things, am I right? But don't get me wrong, I'm not all about indulgence. I take my career seriously and am always looking for new ways to challenge myself. Overall, I'm just a guy who knows what he wants and isn't afraid to go after it.\n"
     ]
    }
   ],
   "source": [
    "uc_init_response_30 = generate_text_with_style(uc_prompt_30)\n",
    "print(uc_init_response_30)"
   ],
   "metadata": {
    "collapsed": false,
    "ExecuteTime": {
     "end_time": "2024-02-09T08:17:38.208275Z",
     "start_time": "2024-02-09T08:17:36.173890Z"
    }
   },
   "id": "a38be4d768eccd7e"
  },
  {
   "cell_type": "code",
   "execution_count": 174,
   "outputs": [
    {
     "name": "stdout",
     "output_type": "stream",
     "text": [
      "After graduating from the esteemed University of Chicago, I have been actively pursuing my interests. I prioritize running as a means of staying physically fit and maintaining mental clarity. In my free time, I also enjoy delving into thought-provoking science fiction literature. Additionally, I have a strong passion for expanding my knowledge through frequent visits to museums. When the day comes to a close, you can find me enjoying expertly crafted cocktails at the most popular bars in town. I believe life is meant to be enjoyed, and I make sure to indulge in the finer things. However, I am also dedicated to my career and continuously seek new challenges. Ultimately, I am a determined individual who is unafraid to pursue my desires.\n"
     ]
    }
   ],
   "source": [
    "print(\n",
    "    generate_text_with_style(\n",
    "        \"Critique and re-write this text with a focus on clarity, age-appropriate phrasing, \"\n",
    "        f\"and the vocabulary expected from a University of Chicago graduate:\\n\\n{uc_init_response_30}\"\n",
    "    )\n",
    ")"
   ],
   "metadata": {
    "collapsed": false,
    "ExecuteTime": {
     "end_time": "2024-02-09T08:17:40.451109Z",
     "start_time": "2024-02-09T08:17:38.773048Z"
    }
   },
   "id": "5e3363db17d8bb84"
  },
  {
   "cell_type": "code",
   "execution_count": 175,
   "outputs": [
    {
     "name": "stdout",
     "output_type": "stream",
     "text": [
      "After earning my degree from the prestigious University of Chicago, I've found a sense of fulfillment in my professional career. But when I'm not crushing it in the office, you can find me indulging in a variety of hobbies. I love hitting the pavement for a good run, losing myself in the pages of a sci-fi novel, and immersing myself in the rich history of museums. And let's not forget my love for a finely crafted cocktail at a trendy bar. It's all about balance, am I right? But don't let my age fool you, I can still keep up with the young bucks on the dance floor. Life's too short to not enjoy it to the fullest. Cheers to that.\n"
     ]
    }
   ],
   "source": [
    "uc_init_response_35 = generate_text_with_style(uc_prompt_35)\n",
    "print(uc_init_response_35)"
   ],
   "metadata": {
    "collapsed": false,
    "ExecuteTime": {
     "end_time": "2024-02-09T08:17:42.789438Z",
     "start_time": "2024-02-09T08:17:41.023732Z"
    }
   },
   "id": "771ab42f27c5fc09"
  },
  {
   "cell_type": "code",
   "execution_count": 176,
   "outputs": [
    {
     "name": "stdout",
     "output_type": "stream",
     "text": [
      "Since graduating from the esteemed University of Chicago, I have found fulfillment in my professional pursuits. When I am not occupied with work, I enjoy engaging in a variety of hobbies. I delight in going for a run, getting lost in the pages of a science fiction novel, and immersing myself in the rich history of museums. Additionally, I appreciate indulging in a well-crafted cocktail at a trendy bar. As they say, balance is key. Despite my age, I am still able to keep up with the younger crowd on the dance floor. After all, life is too short to not savor every moment. Here's to making the most of it.\n"
     ]
    }
   ],
   "source": [
    "print(\n",
    "    generate_text_with_style(\n",
    "        \"Critique and re-write this text with a focus on clarity, age-appropriate phrasing, \"\n",
    "        f\"and the vocabulary expected from a University of Chicago graduate:\\n\\n{uc_init_response_35}\"\n",
    "    )\n",
    ")"
   ],
   "metadata": {
    "collapsed": false,
    "ExecuteTime": {
     "end_time": "2024-02-09T08:17:44.862675Z",
     "start_time": "2024-02-09T08:17:43.263500Z"
    }
   },
   "id": "abb9be88802d7f94"
  },
  {
   "cell_type": "code",
   "execution_count": null,
   "outputs": [],
   "source": [],
   "metadata": {
    "collapsed": false
   },
   "id": "cb8557cc69262306"
  }
 ],
 "metadata": {
  "kernelspec": {
   "display_name": "Python 3",
   "language": "python",
   "name": "python3"
  },
  "language_info": {
   "codemirror_mode": {
    "name": "ipython",
    "version": 2
   },
   "file_extension": ".py",
   "mimetype": "text/x-python",
   "name": "python",
   "nbconvert_exporter": "python",
   "pygments_lexer": "ipython2",
   "version": "2.7.6"
  }
 },
 "nbformat": 4,
 "nbformat_minor": 5
}
