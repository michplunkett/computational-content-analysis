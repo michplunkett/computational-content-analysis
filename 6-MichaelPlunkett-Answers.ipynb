{
 "cells": [
  {
   "cell_type": "code",
   "execution_count": 2,
   "id": "initial_id",
   "metadata": {
    "collapsed": true,
    "ExecuteTime": {
     "end_time": "2024-02-08T18:03:49.986646Z",
     "start_time": "2024-02-08T18:03:45.163355Z"
    }
   },
   "outputs": [],
   "source": [
    "import os\n",
    "\n",
    "import lucem_illud\n",
    "import openai\n",
    "import pandas as pd\n",
    "from openai import OpenAI"
   ]
  },
  {
   "cell_type": "markdown",
   "id": "2cbf16f4c9ae2d96",
   "metadata": {
    "collapsed": false
   },
   "source": [
    "# Constants, Utility Functions, and Data Importing"
   ]
  },
  {
   "cell_type": "code",
   "execution_count": 3,
   "id": "bf30fc4eb9ca27ed",
   "metadata": {
    "collapsed": false,
    "ExecuteTime": {
     "end_time": "2024-02-08T18:03:50.005263Z",
     "start_time": "2024-02-08T18:03:49.988275Z"
    }
   },
   "outputs": [],
   "source": [
    "# Constants and Clients\n",
    "MAX_CHAR_LEN = 5000000\n",
    "OPENAI_API_KEY = os.environ.get(\"OPENAI_API_KEY\")\n",
    "\n",
    "openai_client = OpenAI(api_key=OPENAI_API_KEY)"
   ]
  },
  {
   "cell_type": "code",
   "execution_count": 36,
   "id": "9d3cd0e46fb80e4",
   "metadata": {
    "collapsed": false,
    "ExecuteTime": {
     "end_time": "2024-02-08T18:31:59.179961Z",
     "start_time": "2024-02-08T18:31:59.150152Z"
    }
   },
   "outputs": [],
   "source": [
    "# Utility Functions\n",
    "\n",
    "\n",
    "def generate_text_with_style(prompt: str):\n",
    "    \"\"\"\n",
    "    This function takes a piece of text and uses OpenAI's GPT-4 to rewrite it in a specified style.\n",
    "    \"\"\"\n",
    "    openai.api_key = OPENAI_API_KEY\n",
    "\n",
    "    try:\n",
    "        response = openai_client.completions.create(\n",
    "            model=\"gpt-3.5-turbo-instruct\",\n",
    "            prompt=prompt,\n",
    "            temperature=0.7,\n",
    "            max_tokens=150,\n",
    "        )\n",
    "        return response.choices[0].text.strip()\n",
    "    except Exception as e:\n",
    "        return str(e)"
   ]
  },
  {
   "cell_type": "code",
   "execution_count": 5,
   "id": "6ecdd2a2e9f4fec",
   "metadata": {
    "collapsed": false,
    "ExecuteTime": {
     "end_time": "2024-02-08T18:03:51.143563Z",
     "start_time": "2024-02-08T18:03:50.002462Z"
    }
   },
   "outputs": [
    {
     "data": {
      "text/plain": "  legislation number                                                url  \\\n0          H.R. 2907  https://www.congress.gov/bill/118th-congress/h...   \n1            S. 1297  https://www.congress.gov/bill/118th-congress/s...   \n2          H.R. 4901  https://www.congress.gov/bill/118th-congress/h...   \n3            S. 2544  https://www.congress.gov/bill/118th-congress/s...   \n4          H.R. 4147  https://www.congress.gov/bill/118th-congress/h...   \n\n                     congress  \\\n0  118th Congress (2023-2024)   \n1  118th Congress (2023-2024)   \n2  118th Congress (2023-2024)   \n3  118th Congress (2023-2024)   \n4  118th Congress (2023-2024)   \n\n                                              title  date proposed  \\\n0  Let Doctors Provide Reproductive Health Care Act            NaN   \n1  Let Doctors Provide Reproductive Health Care Act            NaN   \n2        Reproductive Health Care Accessibility Act            NaN   \n3        Reproductive Health Care Accessibility Act            NaN   \n4     Reproductive Health Care Training Act of 2023            NaN   \n\n   amends amendment                                     latest summary  \\\n0               NaN   <p><strong>Let Doctors Provide Reproductive H...   \n1               NaN   <p><strong>Let Doctors Provide Reproductive H...   \n2               NaN   <p><strong>Reproductive Health Care Accessibi...   \n3               NaN   <p><strong>Reproductive Health Care Accessibi...   \n4               NaN                                               None   \n\n   congress_num bill_type  bill_num  ...  \\\n0           118        hr      2907  ...   \n1           118         s      1297  ...   \n2           118        hr      4901  ...   \n3           118         s      2544  ...   \n4           118        hr      4147  ...   \n\n                                            raw_text  \\\n0  \\n[Congressional Bills 118th Congress]\\n[From ...   \n1  \\n[Congressional Bills 118th Congress]\\n[From ...   \n2  \\n[Congressional Bills 118th Congress]\\n[From ...   \n3  \\n[Congressional Bills 118th Congress]\\n[From ...   \n4  \\n[Congressional Bills 118th Congress]\\n[From ...   \n\n                                        cleaned_text  \\\n0  Congressional Bills 118th Congress From the U....   \n1  Congressional Bills 118th Congress From the U....   \n2  Congressional Bills 118th Congress From the U....   \n3  Congressional Bills 118th Congress From the U....   \n4  Congressional Bills 118th Congress From the U....   \n\n                                     cleaned_summary kmeans_predictions  \\\n0  Let Doctors Provide Reproductive Health Care A...                 29   \n1  Let Doctors Provide Reproductive Health Care A...                 29   \n2  Reproductive Health Care Accessibility Act Thi...                  7   \n3  Reproductive Health Care Accessibility Act Thi...                  7   \n4                                               None                  0   \n\n  fcluster_predictions                                     tokenized_text  \\\n0                    2  [time, enforcement, or, protective, considerat...   \n1                    2  [Murphy, time, Hirono, enforcement, Welch, or,...   \n2                    2  [experience, g, Community, throughout, partici...   \n3                    2  [experience, 2544, g, Community, throughout, p...   \n4                    2  [g, identification, minority, time, centers, o...   \n\n                                   normalized_tokens  \\\n0  [publishing, time, enforcement, protective, co...   \n1  [publishing, time, van, enforcement, mrs, prot...   \n2  [publishing, experience, g, participating, tim...   \n3  [publishing, experience, g, participating, tim...   \n4  [improve, act, public, pensions, cited, publis...   \n\n                                      reduced_tokens  \\\n0  [enforcement, consideration, specific, affecte...   \n1  [enforcement, specific, affected, defined, sin...   \n2  [participating, tribes, centers, consideration...   \n3  [participating, tribes, centers, consideration...   \n4  [improve, establish, number, identification, p...   \n\n                                 tokenized_sentences  \\\n0  [[Congressional, Bills, 118th, Congress, From,...   \n1  [[Congressional, Bills, 118th, Congress, From,...   \n2  [[Congressional, Bills, 118th, Congress, From,...   \n3  [[Congressional, Bills, 118th, Congress, From,...   \n4  [[Congressional, Bills, 118th, Congress, From,...   \n\n                                normalized_sentences  \n0  [[congressional, bills, congress, u.s, governm...  \n1  [[congressional, bills, congress, u.s, governm...  \n2  [[congressional, bills, congress, u.s, governm...  \n3  [[congressional, bills, congress, u.s, governm...  \n4  [[congressional, bills, congress, u.s, governm...  \n\n[5 rows x 22 columns]",
      "text/html": "<div>\n<style scoped>\n    .dataframe tbody tr th:only-of-type {\n        vertical-align: middle;\n    }\n\n    .dataframe tbody tr th {\n        vertical-align: top;\n    }\n\n    .dataframe thead th {\n        text-align: right;\n    }\n</style>\n<table border=\"1\" class=\"dataframe\">\n  <thead>\n    <tr style=\"text-align: right;\">\n      <th></th>\n      <th>legislation number</th>\n      <th>url</th>\n      <th>congress</th>\n      <th>title</th>\n      <th>date proposed</th>\n      <th>amends amendment</th>\n      <th>latest summary</th>\n      <th>congress_num</th>\n      <th>bill_type</th>\n      <th>bill_num</th>\n      <th>...</th>\n      <th>raw_text</th>\n      <th>cleaned_text</th>\n      <th>cleaned_summary</th>\n      <th>kmeans_predictions</th>\n      <th>fcluster_predictions</th>\n      <th>tokenized_text</th>\n      <th>normalized_tokens</th>\n      <th>reduced_tokens</th>\n      <th>tokenized_sentences</th>\n      <th>normalized_sentences</th>\n    </tr>\n  </thead>\n  <tbody>\n    <tr>\n      <th>0</th>\n      <td>H.R. 2907</td>\n      <td>https://www.congress.gov/bill/118th-congress/h...</td>\n      <td>118th Congress (2023-2024)</td>\n      <td>Let Doctors Provide Reproductive Health Care Act</td>\n      <td>NaN</td>\n      <td>NaN</td>\n      <td>&lt;p&gt;&lt;strong&gt;Let Doctors Provide Reproductive H...</td>\n      <td>118</td>\n      <td>hr</td>\n      <td>2907</td>\n      <td>...</td>\n      <td>\\n[Congressional Bills 118th Congress]\\n[From ...</td>\n      <td>Congressional Bills 118th Congress From the U....</td>\n      <td>Let Doctors Provide Reproductive Health Care A...</td>\n      <td>29</td>\n      <td>2</td>\n      <td>[time, enforcement, or, protective, considerat...</td>\n      <td>[publishing, time, enforcement, protective, co...</td>\n      <td>[enforcement, consideration, specific, affecte...</td>\n      <td>[[Congressional, Bills, 118th, Congress, From,...</td>\n      <td>[[congressional, bills, congress, u.s, governm...</td>\n    </tr>\n    <tr>\n      <th>1</th>\n      <td>S. 1297</td>\n      <td>https://www.congress.gov/bill/118th-congress/s...</td>\n      <td>118th Congress (2023-2024)</td>\n      <td>Let Doctors Provide Reproductive Health Care Act</td>\n      <td>NaN</td>\n      <td>NaN</td>\n      <td>&lt;p&gt;&lt;strong&gt;Let Doctors Provide Reproductive H...</td>\n      <td>118</td>\n      <td>s</td>\n      <td>1297</td>\n      <td>...</td>\n      <td>\\n[Congressional Bills 118th Congress]\\n[From ...</td>\n      <td>Congressional Bills 118th Congress From the U....</td>\n      <td>Let Doctors Provide Reproductive Health Care A...</td>\n      <td>29</td>\n      <td>2</td>\n      <td>[Murphy, time, Hirono, enforcement, Welch, or,...</td>\n      <td>[publishing, time, van, enforcement, mrs, prot...</td>\n      <td>[enforcement, specific, affected, defined, sin...</td>\n      <td>[[Congressional, Bills, 118th, Congress, From,...</td>\n      <td>[[congressional, bills, congress, u.s, governm...</td>\n    </tr>\n    <tr>\n      <th>2</th>\n      <td>H.R. 4901</td>\n      <td>https://www.congress.gov/bill/118th-congress/h...</td>\n      <td>118th Congress (2023-2024)</td>\n      <td>Reproductive Health Care Accessibility Act</td>\n      <td>NaN</td>\n      <td>NaN</td>\n      <td>&lt;p&gt;&lt;strong&gt;Reproductive Health Care Accessibi...</td>\n      <td>118</td>\n      <td>hr</td>\n      <td>4901</td>\n      <td>...</td>\n      <td>\\n[Congressional Bills 118th Congress]\\n[From ...</td>\n      <td>Congressional Bills 118th Congress From the U....</td>\n      <td>Reproductive Health Care Accessibility Act Thi...</td>\n      <td>7</td>\n      <td>2</td>\n      <td>[experience, g, Community, throughout, partici...</td>\n      <td>[publishing, experience, g, participating, tim...</td>\n      <td>[participating, tribes, centers, consideration...</td>\n      <td>[[Congressional, Bills, 118th, Congress, From,...</td>\n      <td>[[congressional, bills, congress, u.s, governm...</td>\n    </tr>\n    <tr>\n      <th>3</th>\n      <td>S. 2544</td>\n      <td>https://www.congress.gov/bill/118th-congress/s...</td>\n      <td>118th Congress (2023-2024)</td>\n      <td>Reproductive Health Care Accessibility Act</td>\n      <td>NaN</td>\n      <td>NaN</td>\n      <td>&lt;p&gt;&lt;strong&gt;Reproductive Health Care Accessibi...</td>\n      <td>118</td>\n      <td>s</td>\n      <td>2544</td>\n      <td>...</td>\n      <td>\\n[Congressional Bills 118th Congress]\\n[From ...</td>\n      <td>Congressional Bills 118th Congress From the U....</td>\n      <td>Reproductive Health Care Accessibility Act Thi...</td>\n      <td>7</td>\n      <td>2</td>\n      <td>[experience, 2544, g, Community, throughout, p...</td>\n      <td>[publishing, experience, g, participating, tim...</td>\n      <td>[participating, tribes, centers, consideration...</td>\n      <td>[[Congressional, Bills, 118th, Congress, From,...</td>\n      <td>[[congressional, bills, congress, u.s, governm...</td>\n    </tr>\n    <tr>\n      <th>4</th>\n      <td>H.R. 4147</td>\n      <td>https://www.congress.gov/bill/118th-congress/h...</td>\n      <td>118th Congress (2023-2024)</td>\n      <td>Reproductive Health Care Training Act of 2023</td>\n      <td>NaN</td>\n      <td>NaN</td>\n      <td>None</td>\n      <td>118</td>\n      <td>hr</td>\n      <td>4147</td>\n      <td>...</td>\n      <td>\\n[Congressional Bills 118th Congress]\\n[From ...</td>\n      <td>Congressional Bills 118th Congress From the U....</td>\n      <td>None</td>\n      <td>0</td>\n      <td>2</td>\n      <td>[g, identification, minority, time, centers, o...</td>\n      <td>[improve, act, public, pensions, cited, publis...</td>\n      <td>[improve, establish, number, identification, p...</td>\n      <td>[[Congressional, Bills, 118th, Congress, From,...</td>\n      <td>[[congressional, bills, congress, u.s, governm...</td>\n    </tr>\n  </tbody>\n</table>\n<p>5 rows × 22 columns</p>\n</div>"
     },
     "execution_count": 5,
     "metadata": {},
     "output_type": "execute_result"
    }
   ],
   "source": [
    "# Data Importing\n",
    "# Since the tokenization process takes so much computational power/time, I put it\n",
    "# in a feather file to avoid the time when re-running this analysis.\n",
    "legislation_feather_path = \"data/fully_tokenized_congress_legislation.feather\"\n",
    "if os.path.isfile(legislation_feather_path):\n",
    "    congressional_leg_df = pd.read_feather(legislation_feather_path)\n",
    "else:\n",
    "    # WARNING: This step takes about 120 minutes, so don't run it unless you need to.\n",
    "    congressional_leg_df = pd.read_csv(\"data/congress_legislation_cleaned.csv\")\n",
    "    congressional_leg_df[\"tokenized_sentences\"] = congressional_leg_df[\n",
    "        \"cleaned_text\"\n",
    "    ].progress_apply(\n",
    "        lambda x: [\n",
    "            lucem_illud.word_tokenize(s, MAX_LEN=MAX_CHAR_LEN)\n",
    "            for s in lucem_illud.sent_tokenize(x)\n",
    "        ]\n",
    "    )\n",
    "    congressional_leg_df[\"normalized_sentences\"] = congressional_leg_df[\n",
    "        \"tokenized_sentences\"\n",
    "    ].apply(\n",
    "        lambda x: [\n",
    "            lucem_illud.normalizeTokens(s, lemma=False, MAX_LEN=MAX_CHAR_LEN) for s in x\n",
    "        ]\n",
    "    )\n",
    "    congressional_leg_df.to_feather(legislation_feather_path)\n",
    "\n",
    "congressional_leg_df.head()"
   ]
  },
  {
   "cell_type": "markdown",
   "id": "5549c3605b54cfa1",
   "metadata": {
    "collapsed": false
   },
   "source": [
    "## <font color=\"red\">*Exercise 1*</font>\n",
    "\n",
    "<font color=\"red\">As this week's challenging questions asks, we'd like you to \n",
    "think how LLM can help your final project.  Try to use the OpenAI API to analyze \n",
    "a small-sized dataset (Remember to monitor API use on your OpenAI account!). The \n",
    "data could a sample from the dataset you prepare for the final project or some \n",
    "others. If it's going be a conventional task like classification, compare and \n",
    "see how it could beat(or being defeated) by other algorithms you've learned from \n",
    "previous weeks. If it's a special task that you cannot find a learned algorithm \n",
    "to compare with, evaluate its performance on your own and try if you can improve \n",
    "by changing hyperparameters(see [here](https://platform.openai.com/docs/api-reference/chat/create)), the prompt, etc."
   ]
  },
  {
   "cell_type": "code",
   "execution_count": null,
   "id": "88e5e3f3488f9262",
   "metadata": {
    "collapsed": false
   },
   "outputs": [],
   "source": []
  },
  {
   "cell_type": "markdown",
   "id": "7aaec3f33a7e7f5c",
   "metadata": {
    "collapsed": false
   },
   "source": [
    "## <font color=\"red\">*Exercise 2*</font>\n",
    "\n",
    "<font color=\"red\">Fine-tune an LLM. You can either use the model (llama-2-7b) in \n",
    "the example code or find another open-source LLM. You may use datasets provided \n",
    "by HuggingFace or a dataset you collect from somewhere else (for your final project). \n",
    "If the task happens to be the same as in exercise 1, You can choose to compare the \n",
    "performance between the OpenAI LLM and your fine-tuned LLM. You can also choose to \n",
    "compare the performance between the vanilla and the fine-tuned LLM."
   ]
  },
  {
   "cell_type": "code",
   "execution_count": null,
   "id": "eb555776de120e74",
   "metadata": {
    "collapsed": false
   },
   "outputs": [],
   "source": []
  },
  {
   "cell_type": "markdown",
   "id": "f57769d2db2531e5",
   "metadata": {
    "collapsed": false
   },
   "source": [
    "## <font color=\"red\">*Exercise 3*</font>\n",
    "<font color=\"red\">Use LLM to generate some data and compare the differences between model-generated \n",
    "data and actual data. This exercise should not be a repetition of exercise 1. You should \n",
    "focus more on analyzing language nuances, qualitatively or quantitatively. You should also \n",
    "notice how the choice of LLM has possibly impacted the language it uses."
   ]
  },
  {
   "cell_type": "code",
   "execution_count": null,
   "id": "9d78775f496723b3",
   "metadata": {
    "collapsed": false
   },
   "outputs": [],
   "source": []
  },
  {
   "cell_type": "markdown",
   "id": "80a85d8d4b691f31",
   "metadata": {
    "collapsed": false
   },
   "source": [
    "## <font color=\"red\">*Exercise 4*</font>\n",
    "\n",
    "<font color=\"red\">Compare how LLMs change their performance with different \n",
    "shots on your task. If the evaluation criterion is quantifiable, such as \n",
    "classification with ground truth labels, plot and show how accuracy changes. \n",
    "If the evaluation criterion cannot be easily quantified, such as the clarity \n",
    "of explaining a concept, use your imagination to do some comparison (for \n",
    "example, you can ask another LLM to rate its peer :)) If you find close-sourced \n",
    "LLM APIs pricey and are unsatisfied with responses from small-sized open-sourced \n",
    "LLMs, you can try large-sized LLMs (such as 70B version Llama-2) with Petals \n",
    "(see [here](https://colab.research.google.com/drive/1uCphNY7gfAUkdDrTx21dZZwCOUDCMPw8?usp=sharing) and [here](https://colab.research.google.com/drive/1Ervk6HPNS6AYVr3xVdQnY5a-TjjmLCdQ))."
   ]
  },
  {
   "cell_type": "code",
   "execution_count": null,
   "id": "bf6f9e4800dec460",
   "metadata": {
    "collapsed": false
   },
   "outputs": [],
   "source": []
  },
  {
   "cell_type": "markdown",
   "id": "4ee94a09c81beb4e",
   "metadata": {
    "collapsed": false
   },
   "source": [
    "## <font color=\"red\">*Exercise 5*</font>\n",
    "\n",
    "<font color=\"red\">Using Actor - Critical method to improve an LLM's performance \n",
    "on your task or doing some experiments langauge style learning (For example, \n",
    "you can investigate how LLMs perceive different groups of people would write \n",
    "their dating profiles. This may serve as an opportunity to explore how LLMs \n",
    "semantically embed social groups and assess their appropriateness.)"
   ]
  },
  {
   "cell_type": "markdown",
   "source": [
    "I am going to attempt to write a message stating my passions for a dating\n",
    "app based on the school I attended at 3 different ages."
   ],
   "metadata": {
    "collapsed": false
   },
   "id": "81d196369d883229"
  },
  {
   "cell_type": "code",
   "execution_count": 46,
   "outputs": [
    {
     "name": "stdout",
     "output_type": "stream",
     "text": [
      "Yo, I'm a UT Austin alum and when I'm not hustlin' in the real world, you can catch me getting my cardio on, geeking out to sci-fi reads, hitting up dope museums, and sipping on fancy cocktails at the bar. #adultinggoals\n"
     ]
    }
   ],
   "source": [
    "# University of Texas at Austin\n",
    "ut_base_prompt = \"I graduated from the University of Texas at Austin and in my free time I like to run, read science fiction, explore museums, and visit cocktail bars.\"\n",
    "\n",
    "ut_prompt_25 = f\"Rewrite the following text in the style of a 25 year old male:\\n\\n{ut_base_prompt}\"\n",
    "ut_prompt_30 = f\"Rewrite the following text in the style of a 30 year old male:\\n\\n{ut_base_prompt}\"\n",
    "ut_prompt_35 = f\"Rewrite the following text in the style of a 35 year old male:\\n\\n{ut_base_prompt}\"\n",
    "ut_prompt_40 = f\"Rewrite the following text in the style of a 35 year old male:\\n\\n{ut_base_prompt}\"\n",
    "print(generate_text_with_style(ut_prompt_25))"
   ],
   "metadata": {
    "collapsed": false,
    "ExecuteTime": {
     "end_time": "2024-02-09T03:30:01.685536Z",
     "start_time": "2024-02-09T03:30:00.589466Z"
    }
   },
   "id": "fb8a6dac4e94c3ad"
  },
  {
   "cell_type": "code",
   "execution_count": 47,
   "outputs": [
    {
     "name": "stdout",
     "output_type": "stream",
     "text": [
      "I completed my studies at the esteemed University of Texas at Austin, and in my leisure time, I thoroughly enjoy pounding the pavement with my daily runs. As an avid science fiction enthusiast, I often lose myself in the fantastical worlds of my favorite novels. When I'm not indulging in my literary pursuits, I can be found wandering the halls of museums, soaking up all the knowledge and culture they have to offer. And what better way to cap off a day of intellectual stimulation than by sipping on a well-crafted cocktail at a trendy bar? Cheers to that.\n"
     ]
    }
   ],
   "source": [
    "print(generate_text_with_style(ut_prompt_30))"
   ],
   "metadata": {
    "collapsed": false,
    "ExecuteTime": {
     "end_time": "2024-02-09T03:30:04.043163Z",
     "start_time": "2024-02-09T03:30:02.348896Z"
    }
   },
   "id": "a09367c35a34c6af"
  },
  {
   "cell_type": "code",
   "execution_count": 48,
   "outputs": [
    {
     "name": "stdout",
     "output_type": "stream",
     "text": [
      "I've got a degree from the University of Texas at Austin, and when I'm not hustlin' at work, you can find me hittin' the pavement on my daily run, diving into some sci-fi reads, checkin' out some of them fancy museums, or sippin' on some top-notch cocktails at the local bars. Gotta keep the mind and body sharp, am I right?\n"
     ]
    }
   ],
   "source": [
    "print(generate_text_with_style(ut_prompt_35))"
   ],
   "metadata": {
    "collapsed": false,
    "ExecuteTime": {
     "end_time": "2024-02-09T03:30:06.960704Z",
     "start_time": "2024-02-09T03:30:05.581598Z"
    }
   },
   "id": "6b693c63621701aa"
  },
  {
   "cell_type": "code",
   "execution_count": 49,
   "outputs": [
    {
     "name": "stdout",
     "output_type": "stream",
     "text": [
      "After earning my degree from the prestigious University of Texas at Austin, I spend my leisure hours engaging in various activities. I enjoy hitting the pavement for a good run, immersing myself in thought-provoking science fiction literature, and expanding my knowledge through museum visits. And let's not forget indulging in a well-crafted cocktail at a sophisticated bar.\n"
     ]
    }
   ],
   "source": [
    "print(generate_text_with_style(ut_prompt_40))"
   ],
   "metadata": {
    "collapsed": false,
    "ExecuteTime": {
     "end_time": "2024-02-09T03:30:08.949421Z",
     "start_time": "2024-02-09T03:30:07.718817Z"
    }
   },
   "id": "6d20f4b70b08d1da"
  },
  {
   "cell_type": "code",
   "execution_count": 52,
   "outputs": [
    {
     "name": "stdout",
     "output_type": "stream",
     "text": [
      "Yo, I'm a proud UNT alum and when I'm not hustlin' at work, I'm out here getting my run on, geeking out on sci-fi reads, scopin' out dope museum exhibits, and sippin' on some sick cocktails at the hottest bars. Living my best life, you know? #gradlife #adventures #cocktailhour\n"
     ]
    }
   ],
   "source": [
    "# University of North Texas\n",
    "unt_base_prompt = \"I graduated from the University of North Texas and in my free time I like to run, read science fiction, explore museums, and visit cocktail bars.\"\n",
    "\n",
    "unt_prompt_25 = f\"Rewrite the following text in the style of a 25 year old male:\\n\\n{unt_base_prompt}\"\n",
    "unt_prompt_30 = f\"Rewrite the following text in the style of a 30 year old male:\\n\\n{unt_base_prompt}\"\n",
    "unt_prompt_35 = f\"Rewrite the following text in the style of a 35 year old male:\\n\\n{unt_base_prompt}\"\n",
    "unt_prompt_40 = f\"Rewrite the following text in the style of a 40 year old male:\\n\\n{unt_base_prompt}\"\n",
    "print(generate_text_with_style(unt_prompt_25))"
   ],
   "metadata": {
    "collapsed": false,
    "ExecuteTime": {
     "end_time": "2024-02-09T03:30:28.710778Z",
     "start_time": "2024-02-09T03:30:27.482664Z"
    }
   },
   "id": "3f46ab2887613e3f"
  },
  {
   "cell_type": "code",
   "execution_count": 41,
   "outputs": [
    {
     "name": "stdout",
     "output_type": "stream",
     "text": [
      "After completing my studies at the esteemed University of North Texas, I enjoy utilizing my free time to engage in a variety of activities. Running, indulging in science fiction literature, discovering new and intriguing museums, and frequenting classy cocktail bars are just a few of my preferred pastimes.\n"
     ]
    }
   ],
   "source": [
    "print(generate_text_with_style(unt_prompt_30))"
   ],
   "metadata": {
    "collapsed": false,
    "ExecuteTime": {
     "end_time": "2024-02-08T18:34:56.472496Z",
     "start_time": "2024-02-08T18:34:55.487326Z"
    }
   },
   "id": "57b68cb54bdf67bd"
  },
  {
   "cell_type": "code",
   "execution_count": 50,
   "outputs": [
    {
     "name": "stdout",
     "output_type": "stream",
     "text": [
      "I'm a proud alumnus of the University of North Texas, class of '05. When I'm not working, you'll catch me hitting the pavement for a good run, diving into some mind-bending sci-fi literature, checking out the latest exhibits at museums, or sipping on some top-notch cocktails at the trendiest bars in town. Gotta keep the mind and body sharp, you know?\n"
     ]
    }
   ],
   "source": [
    "print(generate_text_with_style(unt_prompt_35))"
   ],
   "metadata": {
    "collapsed": false,
    "ExecuteTime": {
     "end_time": "2024-02-09T03:30:22.410300Z",
     "start_time": "2024-02-09T03:30:21.046800Z"
    }
   },
   "id": "ff210d18eea50d6c"
  },
  {
   "cell_type": "code",
   "execution_count": 53,
   "outputs": [
    {
     "name": "stdout",
     "output_type": "stream",
     "text": [
      "Back in my day, I earned my degree from the prestigious University of North Texas. When I'm not working my 9 to 5, you can catch me hitting the pavement for a good run, delving into the captivating world of science fiction, perusing the halls of museums, or sipping on a finely crafted cocktail at a swanky bar. Ah, the joys of adulthood.\n"
     ]
    }
   ],
   "source": [
    "print(generate_text_with_style(unt_prompt_40))"
   ],
   "metadata": {
    "collapsed": false,
    "ExecuteTime": {
     "end_time": "2024-02-09T03:30:34.753059Z",
     "start_time": "2024-02-09T03:30:33.601632Z"
    }
   },
   "id": "8ba1ca116b58a977"
  },
  {
   "cell_type": "code",
   "execution_count": 54,
   "outputs": [
    {
     "name": "stdout",
     "output_type": "stream",
     "text": [
      "Yo, I'm a proud grad of the University of Chicago. When I'm not hustlin' at my job, you can catch me hitting the pavement for a run, geeking out to some sci-fi reads, checking out dope exhibits in museums or sipping on some lit cocktails at the bar. #livingmybestlife\n"
     ]
    }
   ],
   "source": [
    "# University of Chicago\n",
    "uc_base_prompt = \"I graduated from the University of Chicago and in my free time I like to run, read science fiction, explore museums, and visit cocktail bars.\"\n",
    "\n",
    "uc_prompt_25 = f\"Rewrite the following text in the style of a 25 year old male:\\n\\n{uc_base_prompt}\"\n",
    "uc_prompt_30 = f\"Rewrite the following text in the style of a 30 year old male:\\n\\n{uc_base_prompt}\"\n",
    "uc_prompt_35 = f\"Rewrite the following text in the style of a 35 year old male:\\n\\n{uc_base_prompt}\"\n",
    "uc_prompt_40 = f\"Rewrite the following text in the style of a 35 year old male:\\n\\n{uc_base_prompt}\"\n",
    "print(generate_text_with_style(uc_prompt_25))"
   ],
   "metadata": {
    "collapsed": false,
    "ExecuteTime": {
     "end_time": "2024-02-09T03:30:42.639377Z",
     "start_time": "2024-02-09T03:30:41.556394Z"
    }
   },
   "id": "281e914fcd2c33de"
  },
  {
   "cell_type": "code",
   "execution_count": 44,
   "outputs": [
    {
     "name": "stdout",
     "output_type": "stream",
     "text": [
      "I completed my studies at the prestigious University of Chicago, and when I'm not busy with work, I enjoy hitting the pavement for a good run, immersing myself in some mind-bending science fiction, checking out the latest exhibits at museums, and hitting up some killer cocktail bars.\n"
     ]
    }
   ],
   "source": [
    "print(generate_text_with_style(uc_prompt_30))"
   ],
   "metadata": {
    "collapsed": false,
    "ExecuteTime": {
     "end_time": "2024-02-08T18:35:28.079447Z",
     "start_time": "2024-02-08T18:35:27.164270Z"
    }
   },
   "id": "a38be4d768eccd7e"
  },
  {
   "cell_type": "code",
   "execution_count": 45,
   "outputs": [
    {
     "name": "stdout",
     "output_type": "stream",
     "text": [
      "After receiving my degree from the prestigious University of Chicago, I have developed a keen interest in running, indulging in science fiction literature, immersing myself in the wonders of museums, and enjoying the occasional libation at cocktail bars.\n"
     ]
    }
   ],
   "source": [
    "print(generate_text_with_style(uc_prompt_35))"
   ],
   "metadata": {
    "collapsed": false,
    "ExecuteTime": {
     "end_time": "2024-02-08T18:35:29.981017Z",
     "start_time": "2024-02-08T18:35:29.055213Z"
    }
   },
   "id": "771ab42f27c5fc09"
  },
  {
   "cell_type": "code",
   "execution_count": 55,
   "outputs": [
    {
     "name": "stdout",
     "output_type": "stream",
     "text": [
      "I'm a proud alumnus of the esteemed University of Chicago, where I honed my intellectual prowess. When I'm not busy tackling the demands of adulthood, I enjoy hitting the pavement for a good run, indulging in some mind-bending sci-fi literature, immersing myself in the beauty of museums, and sipping on expertly crafted cocktails at trendy bars. It's all about balance, you know?\n"
     ]
    }
   ],
   "source": [
    "print(generate_text_with_style(uc_prompt_40))"
   ],
   "metadata": {
    "collapsed": false,
    "ExecuteTime": {
     "end_time": "2024-02-09T03:30:49.401349Z",
     "start_time": "2024-02-09T03:30:47.896160Z"
    }
   },
   "id": "4fe31e171d826c56"
  },
  {
   "cell_type": "code",
   "execution_count": null,
   "outputs": [],
   "source": [],
   "metadata": {
    "collapsed": false
   },
   "id": "cb8557cc69262306"
  }
 ],
 "metadata": {
  "kernelspec": {
   "display_name": "Python 3",
   "language": "python",
   "name": "python3"
  },
  "language_info": {
   "codemirror_mode": {
    "name": "ipython",
    "version": 2
   },
   "file_extension": ".py",
   "mimetype": "text/x-python",
   "name": "python",
   "nbconvert_exporter": "python",
   "pygments_lexer": "ipython2",
   "version": "2.7.6"
  }
 },
 "nbformat": 4,
 "nbformat_minor": 5
}
