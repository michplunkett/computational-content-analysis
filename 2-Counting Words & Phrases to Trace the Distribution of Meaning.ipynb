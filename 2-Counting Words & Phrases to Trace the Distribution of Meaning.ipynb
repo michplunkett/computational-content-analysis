{
 "cells": [
  {
   "cell_type": "code",
   "execution_count": null,
   "metadata": {
    "collapsed": false,
    "is_executing": true
   },
   "outputs": [],
   "source": [
    "import json\n",
    "import os.path\n",
    "import zipfile\n",
    "\n",
    "import gensim\n",
    "import lucem_illud\n",
    "import matplotlib.pyplot as plt\n",
    "import nltk\n",
    "import numpy as np\n",
    "import pandas\n",
    "import pandas as pd\n",
    "import requests\n",
    "import scipy\n",
    "import seaborn as sns\n",
    "import sklearn.manifold\n",
    "import spacy\n",
    "import wordcloud\n",
    "from spacy import displacy\n",
    "from spacy.symbols import VERB, nsubj\n",
    "from tqdm import tqdm\n",
    "\n",
    "# This 'magic' command makes the plots work better\n",
    "# in the notebook, don't use it outside a notebook\n",
    "%matplotlib inline"
   ]
  },
  {
   "cell_type": "markdown",
   "metadata": {
    "collapsed": false
   },
   "source": [
    "# Week 2 - Counting Words & Phrases (Computational Linguistics)\n",
    "This week, we take text corpora that we have developed, spidered, scraped, and encoded, and we find and count words,\n",
    "simple and parsed phrases and explore the statistical properties of those counts (e.g., word frequency distributions). \n",
    "Initially, we model how to search corpora for keywords or phrases. Next, we examine the distributions of terms and \n",
    "phrases across a corpus, and the correlation between different words and phrase counts. In order to do this effectively,\n",
    "we coarsely disambiguate words based of part-of-speech (POS) tagging, and normalize them through stemming and \n",
    "lemmatization. Next we distinguish *important* words and phrase within the corpus, and image them with Wordls! \n",
    "Then we calculate word frequencies, conditional frequencies (the frequency of word *shock* conditional on the \n",
    "presence of word *awe*), and statistically significant collocations of lengths 2 through $n$. Finally, we calculate \n",
    "and visualize Differences (Divergences and Distances) between the word frequency distributions from two corpora.\n",
    "\n",
    "Then we shift to focus not simply on the *ideas* in a corpus, but also extracting precise *claims*. This process \n",
    "involves a sequential pipeline of classifying and structuring tokens from text, each of which generates potentially \n",
    "useful data for the content analyst. Steps in this process, which we examine in this notebook, include: 1) tagging \n",
    "words by their part of speech (POS) to reveal the linguistic role they play in the sentence (e.g., Verb, Noun, \n",
    "Adjective, etc.); 2) tagging words as named entities (NER) such as places or organizations; 3) structuring or \n",
    "\"parsing\" sentences into nested phrases that are local to, describe or depend on one another; and 4) extracting \n",
    "informational claims from those phrases.\n",
    "\n",
    "We will be introducing spaCy as a package for Computational Linguistics, and also walk you through how to use \n",
    "the Davies Corpora.\n",
    "\n",
    "While we wish to avoid using NLTK for heavy corpus analysis, some of its smaller functions can still be useful.\n",
    "\n",
    "Of course, for final projects that draw on these tools, we encourage you to install the software on your own \n",
    "machines or shared servers at the university (RCC, SSRC) in order to perform these operations on much more text.\n",
    "\n",
    "For this notebook we will be using the following packages:\n"
   ]
  },
  {
   "cell_type": "markdown",
   "metadata": {
    "id": "E448biFddtep"
   },
   "source": [
    "# Retrieving exemplary corpora\n",
    "\n",
    "To get started we will need some examples. Let's start by downloading one of the corpuses from the \n",
    "Davies set purchased for this class and developed by a computational linguist at Brigham Young University. \n",
    "We can get a list of works available from the [corpora here](https://www.english-corpora.org/).\n",
    "\n",
    "In this notebook, I will be accessing the data locally - you also have access to this data through the \n",
    "Dropbox download link (shared on Canvas, not here, because the GitHub is publicly accessible). The same \n",
    "code can be modified slighlty to access the rest of the corpora on RCC. There is a notebook describing \n",
    "this process in the same repository, as well as in the same directory on RCC."
   ]
  },
  {
   "cell_type": "code",
   "execution_count": null,
   "metadata": {
    "id": "lmIjEjKMdtep",
    "is_executing": true
   },
   "outputs": [],
   "source": [
    "corpus_file_path = (\n",
    "    \"/Users/michaelp/Documents/GitHub/computational-content-analysis/data/Movies\"\n",
    ")\n",
    "\n",
    "# corpus_name = \"Movies\""
   ]
  },
  {
   "cell_type": "markdown",
   "metadata": {
    "id": "pdUHAtWIdtep"
   },
   "source": [
    "Just to be clear, your corpus_name should be different since you're not bhargav. Modify the corpus_file_path \n",
    "with your directory. This method extracts the text from the zip files and stores the raw data."
   ]
  },
  {
   "cell_type": "code",
   "execution_count": null,
   "metadata": {
    "id": "QdpchNStdteq",
    "is_executing": true
   },
   "outputs": [],
   "source": [
    "def load_corpus(corpus_name, corpus_style=\"text\"):\n",
    "    texts_raw = {}\n",
    "    for file_name in os.listdir(corpus_name + \"/\"):\n",
    "        if corpus_style in file_name:\n",
    "            print(file_name)\n",
    "            z_files = zipfile.ZipFile(corpus_name + \"/\" + file_name)\n",
    "            for z_file in z_files.namelist():\n",
    "                texts_raw[z_file] = []\n",
    "                with z_files.open(z_file) as f:\n",
    "                    for line in f:\n",
    "                        texts_raw[z_file].append(line)\n",
    "    return texts_raw"
   ]
  },
  {
   "cell_type": "code",
   "execution_count": null,
   "metadata": {
    "colab": {
     "base_uri": "https://localhost:8080/"
    },
    "executionInfo": {
     "elapsed": 20340,
     "status": "ok",
     "timestamp": 1704344950658,
     "user": {
      "displayName": "Likun Cao",
      "userId": "01917344510473464948"
     },
     "user_tz": 360
    },
    "id": "-JsW3eqFdteq",
    "is_executing": true,
    "outputId": "2029fec3-4f3b-4a14-878e-31b3f9603cb0"
   },
   "outputs": [],
   "source": [
    "movie_raw = load_corpus(corpus_file_path)"
   ]
  },
  {
   "cell_type": "code",
   "execution_count": null,
   "metadata": {
    "colab": {
     "base_uri": "https://localhost:8080/"
    },
    "executionInfo": {
     "elapsed": 329,
     "status": "ok",
     "timestamp": 1704344952032,
     "user": {
      "displayName": "Likun Cao",
      "userId": "01917344510473464948"
     },
     "user_tz": 360
    },
    "id": "eAqi2YuHdteq",
    "is_executing": true,
    "outputId": "2d4066d1-e54d-4ee0-fc38-f52df17747fa"
   },
   "outputs": [],
   "source": [
    "movie_raw[\"11.txt\"][0:3]"
   ]
  },
  {
   "cell_type": "markdown",
   "metadata": {
    "id": "1BbgBuENdter"
   },
   "source": [
    "It seems messy, but nothing we can't clean. This basic method replaces some of the issues with the formatting, \n",
    "and prints the errors if any for debugging. Let us clean one of the raw text files.\n",
    "\n",
    "We ignore the non-unicode data for convenience in our first pass."
   ]
  },
  {
   "cell_type": "code",
   "execution_count": null,
   "metadata": {
    "id": "3NU2XO2ldter",
    "is_executing": true
   },
   "outputs": [],
   "source": [
    "def clean_raw_text(raw_texts):\n",
    "    clean_texts = []\n",
    "    for r_text in raw_texts:\n",
    "        try:\n",
    "            r_text = r_text.decode(\"utf-8\")\n",
    "            clean_text = (\n",
    "                r_text.replace(\" 'm\", \"'m\")\n",
    "                .replace(\" 'll\", \"'ll\")\n",
    "                .replace(\" 're\", \"'re\")\n",
    "                .replace(\" 's\", \"'s\")\n",
    "                .replace(\" 're\", \"'re\")\n",
    "                .replace(\" n't\", \"n't\")\n",
    "                .replace(\" 've\", \"'ve\")\n",
    "                .replace(\" /'d\", \"'d\")\n",
    "                .replace(\" ... \", \"... \")\n",
    "                .replace(\" , \", \", \")\n",
    "                .replace(\" ! \", \"! \")\n",
    "                .replace(\" ? \", \"? \")\n",
    "                .replace(\" . \", \". \")\n",
    "                .replace(\"'\", \"\")\n",
    "            )\n",
    "            clean_texts.append(clean_text)\n",
    "        except AttributeError:\n",
    "            # print(\"ERROR CLEANING\")\n",
    "            # print(text)\n",
    "            continue\n",
    "        except UnicodeDecodeError:\n",
    "            # print(\"Unicode Error, Skip\")\n",
    "            continue\n",
    "    return clean_texts"
   ]
  },
  {
   "cell_type": "code",
   "execution_count": null,
   "metadata": {
    "id": "pyMdrpHGdtes",
    "is_executing": true
   },
   "outputs": [],
   "source": [
    "clean_11 = clean_raw_text(movie_raw[\"11.txt\"])"
   ]
  },
  {
   "cell_type": "code",
   "execution_count": null,
   "metadata": {
    "colab": {
     "base_uri": "https://localhost:8080/",
     "height": 144
    },
    "executionInfo": {
     "elapsed": 246,
     "status": "ok",
     "timestamp": 1704344964796,
     "user": {
      "displayName": "Likun Cao",
      "userId": "01917344510473464948"
     },
     "user_tz": 360
    },
    "id": "Ym4fjJrRdtes",
    "is_executing": true,
    "outputId": "b212effd-f907-41c9-e2ee-36e3b4ad6a6b"
   },
   "outputs": [],
   "source": [
    "clean_11[1]"
   ]
  },
  {
   "cell_type": "markdown",
   "metadata": {
    "id": "KCzhKZV3dtes"
   },
   "source": [
    "This method cleaned a few basic formatting errors. You are welcome to experiment and add your own code \n",
    "to expand on cleaning the text. Once it begins to look the way you want it to, we can start using spaCy \n",
    "to do some heavier cleaning. spaCy does this through the use of language models. Make sure you have the \n",
    "spaCy english language model loaded."
   ]
  },
  {
   "cell_type": "code",
   "execution_count": null,
   "metadata": {
    "id": "2AsvF9Kndtes",
    "is_executing": true
   },
   "outputs": [],
   "source": [
    "nlp = spacy.load(\"en_core_web_sm\")"
   ]
  },
  {
   "cell_type": "markdown",
   "metadata": {
    "id": "sMVEdr88dtes"
   },
   "source": [
    "This model is going to be the basis of most of the tasks which NLTK (the Natural Language Tool Kit) \n",
    "might have done otherwise. While NLTK uses a bunch of clunky models from multiple places, spacy neatly \n",
    "packs all functionality in one model. This deep trained model will start by doing our word tokenizing \n",
    "and normalising. These methods are already included in lucem illud, and here we will just demonstrate \n",
    "them outside the package so to explain what goes on under the hood.\n",
    "\n",
    "When we run text through a spacy model, it performs a lot of computation on each of the tokens. Each \n",
    "token is given certain attributes, such as a part of speech, information whether it is a number, a \n",
    "stop word, and so on.\n",
    "\n",
    "To perform a tokenization, we check if the string includes punctuation and add this token."
   ]
  },
  {
   "cell_type": "code",
   "execution_count": null,
   "metadata": {
    "id": "OiRHs8Aedtet",
    "is_executing": true
   },
   "outputs": [],
   "source": [
    "def word_tokenize(word_list):\n",
    "    tokenized = []\n",
    "    # pass word list through language model.\n",
    "    doc = nlp(word_list)\n",
    "    for token in doc:\n",
    "        if not token.is_punct and len(token.text.strip()) > 0:\n",
    "            tokenized.append(token.text)\n",
    "    return tokenized"
   ]
  },
  {
   "cell_type": "code",
   "execution_count": null,
   "metadata": {
    "colab": {
     "base_uri": "https://localhost:8080/"
    },
    "executionInfo": {
     "elapsed": 2439,
     "status": "ok",
     "timestamp": 1704344996997,
     "user": {
      "displayName": "Likun Cao",
      "userId": "01917344510473464948"
     },
     "user_tz": 360
    },
    "id": "9vvdWnmNdtet",
    "is_executing": true,
    "outputId": "cc02113a-e010-4ede-fee8-092bd9fff04a"
   },
   "outputs": [],
   "source": [
    "word_tokenize(clean_11[1])"
   ]
  },
  {
   "cell_type": "markdown",
   "metadata": {
    "id": "YJh-8D7ldtet"
   },
   "source": [
    "You can see how the sentence is broken into its constituent words. We can then do some analysis with this.\n",
    "\n",
    "Note: we still don't know which movie this is, just that it is raw movie text data. Maybe in the process \n",
    "of our text cleaning and counting we will come across something!"
   ]
  },
  {
   "cell_type": "markdown",
   "metadata": {
    "id": "y6CQMz1ddtet"
   },
   "source": [
    "# Counting words\n",
    "\n",
    "If we want to do some analysis we can start by simply counting the number of times each word occurs within the corpus."
   ]
  },
  {
   "cell_type": "code",
   "execution_count": null,
   "metadata": {
    "id": "sL7rPSNDdtet",
    "is_executing": true
   },
   "outputs": [],
   "source": [
    "def word_counter(word_lst):\n",
    "    wordCounts = {}\n",
    "    for w in word_lst:\n",
    "        # We usually need to normalize the case\n",
    "        w_lower = w.lower()\n",
    "        if w_lower in wordCounts:\n",
    "            wordCounts[w_lower] += 1\n",
    "        else:\n",
    "            wordCounts[w_lower] = 1\n",
    "    # convert to DataFrame\n",
    "    countsForFrame = {\"word\": [], \"count\": []}\n",
    "    for w, c in wordCounts.items():\n",
    "        countsForFrame[\"word\"].append(w)\n",
    "        countsForFrame[\"count\"].append(c)\n",
    "    return pandas.DataFrame(countsForFrame)"
   ]
  },
  {
   "cell_type": "code",
   "execution_count": null,
   "metadata": {
    "colab": {
     "base_uri": "https://localhost:8080/",
     "height": 362
    },
    "executionInfo": {
     "elapsed": 1260,
     "status": "ok",
     "timestamp": 1704345005907,
     "user": {
      "displayName": "Likun Cao",
      "userId": "01917344510473464948"
     },
     "user_tz": 360
    },
    "id": "ZcnBg4BMdtet",
    "is_executing": true,
    "outputId": "e4306a07-6ded-4e8d-db03-ee9eefbb6b28"
   },
   "outputs": [],
   "source": [
    "countedWords = word_counter(word_tokenize(clean_11[1]))\n",
    "countedWords[:10]"
   ]
  },
  {
   "cell_type": "markdown",
   "metadata": {
    "id": "FGtCg7O4dtet"
   },
   "source": [
    "Let's sort and plot our counts to investigate the shape of our word frequency distribution.\n",
    "\n",
    "First we need to sort the words by count."
   ]
  },
  {
   "cell_type": "code",
   "execution_count": null,
   "metadata": {
    "colab": {
     "base_uri": "https://localhost:8080/",
     "height": 423
    },
    "executionInfo": {
     "elapsed": 134,
     "status": "ok",
     "timestamp": 1704345008624,
     "user": {
      "displayName": "Likun Cao",
      "userId": "01917344510473464948"
     },
     "user_tz": 360
    },
    "id": "sX0m8zqHdtet",
    "is_executing": true,
    "outputId": "4655f1b9-1fa2-4e80-a668-5ee616053982"
   },
   "outputs": [],
   "source": [
    "# Doing this in place (changing the original DataFrame) as we don't need the unsorted DataFrame\n",
    "countedWords.sort_values(\"count\", ascending=False, inplace=True)\n",
    "countedWords[:100]"
   ]
  },
  {
   "cell_type": "markdown",
   "metadata": {
    "id": "M7VbmLLbdtet"
   },
   "source": [
    "Punctuation and very common words (articles 'a' and 'the'; prepositions 'of' and 'to') make \n",
    "up the most common values, but this isn't very interesting and can actually get in the way of \n",
    "our analysis. We may remove these 'function words' by removing according to a stopword list, \n",
    "setting some frequency threshold, or using a weighting scheme (like tf.idf) to decrease their \n",
    "influence - we will look at these methods in more detail as we go through this tutorial."
   ]
  },
  {
   "cell_type": "code",
   "execution_count": null,
   "metadata": {
    "colab": {
     "base_uri": "https://localhost:8080/",
     "height": 430
    },
    "executionInfo": {
     "elapsed": 404,
     "status": "ok",
     "timestamp": 1704345014127,
     "user": {
      "displayName": "Likun Cao",
      "userId": "01917344510473464948"
     },
     "user_tz": 360
    },
    "id": "vEwJcNdPdteu",
    "is_executing": true,
    "outputId": "c32d1754-215f-4d49-cd24-c96ddd6abd61"
   },
   "outputs": [],
   "source": [
    "# Creating a figure and axis lets us do things like change the scaling or add a title\n",
    "fig = plt.figure()\n",
    "ax = fig.add_subplot(111)\n",
    "plt.plot(range(len(countedWords)), countedWords[\"count\"])\n",
    "plt.show()"
   ]
  },
  {
   "cell_type": "markdown",
   "metadata": {
    "id": "afjgWUkKdteu"
   },
   "source": [
    "This shows that likelihood of a word occurring is inversely proportional to its rank. This \n",
    "effect is called [Zipf's Law](https://en.wikipedia.org/wiki/Zipf%27s_law), and suggests that \n",
    "the most frequent word will occur approximately twice as often as the second most frequent word, \n",
    "three times as often as the third most frequent word, etc. Zipf's law is most easily observed by \n",
    "plotting the data on a log-log graph, with the axes being log (rank order) and log (frequency) \n",
    "resulting in a linear relationship."
   ]
  },
  {
   "cell_type": "code",
   "execution_count": null,
   "metadata": {
    "colab": {
     "base_uri": "https://localhost:8080/",
     "height": 434
    },
    "executionInfo": {
     "elapsed": 1127,
     "status": "ok",
     "timestamp": 1704345018782,
     "user": {
      "displayName": "Likun Cao",
      "userId": "01917344510473464948"
     },
     "user_tz": 360
    },
    "id": "etubneczdteu",
    "is_executing": true,
    "outputId": "acd60958-797a-4dc5-fe45-5168a16a72a6"
   },
   "outputs": [],
   "source": [
    "fig = plt.figure()\n",
    "ax = fig.add_subplot(111)\n",
    "plt.plot(range(len(countedWords)), countedWords[\"count\"])\n",
    "ax.set_yscale(\"log\")\n",
    "ax.set_xscale(\"log\")\n",
    "plt.show()"
   ]
  },
  {
   "cell_type": "markdown",
   "metadata": {
    "id": "AbzyNLMddteu"
   },
   "source": [
    "(The same relationship occurs in many other rankings, such as population ranks of cities, \n",
    "corporation sizes, income rankings, etc.)\n",
    "\n",
    "The distribution was imagined by Zipf to be driven by a principle of 'least effort' where \n",
    "speakers did not work any harder than necessary to communicate a given idea, but the basis \n",
    "for this relationship is still not well understood and conforms at least as well to a process \n",
    "of [preferential attachment](https://en.wikipedia.org/wiki/Preferential_attachment) whereby people disproportionately attend to popular words.\n"
   ]
  },
  {
   "cell_type": "markdown",
   "metadata": {
    "id": "gBeW-cEkdteu"
   },
   "source": [
    "# Getting and working with raw text\n",
    "\n",
    "First, we will retrieve a collection of press releases from a *GitHub API* that archived \n",
    "them, based on a number of analyses by Justin Grimmer, a political scientist whose work \n",
    "we will read in two weeks!\n",
    "\n",
    "GitHub API requests are made to `'https://api.github.com/'` and responses are in JSON, \n",
    "similar to Tumblr's API.\n",
    "\n",
    "We will get the information on [github.com/lintool/GrimmerSenatePressReleases](https://github.com/lintool/GrimmerSenatePressReleases) as it contains a nice set documents."
   ]
  },
  {
   "cell_type": "code",
   "execution_count": null,
   "metadata": {
    "colab": {
     "base_uri": "https://localhost:8080/"
    },
    "executionInfo": {
     "elapsed": 209,
     "status": "ok",
     "timestamp": 1704345024680,
     "user": {
      "displayName": "Likun Cao",
      "userId": "01917344510473464948"
     },
     "user_tz": 360
    },
    "id": "4GPwiQpLdteu",
    "is_executing": true,
    "outputId": "97933ad5-4e9d-4da7-8368-621b2e9fbc8e"
   },
   "outputs": [],
   "source": [
    "r = requests.get(\"https://api.github.com/repos/lintool/GrimmerSenatePressReleases\")\n",
    "senateReleasesData = json.loads(r.text)\n",
    "print(senateReleasesData.keys())\n",
    "print(senateReleasesData[\"description\"])"
   ]
  },
  {
   "cell_type": "markdown",
   "metadata": {
    "id": "BCYpEI1Zdteu"
   },
   "source": [
    "What we are interested in here is the `'contents_url'`"
   ]
  },
  {
   "cell_type": "code",
   "execution_count": null,
   "metadata": {
    "colab": {
     "base_uri": "https://localhost:8080/"
    },
    "executionInfo": {
     "elapsed": 135,
     "status": "ok",
     "timestamp": 1704345028227,
     "user": {
      "displayName": "Likun Cao",
      "userId": "01917344510473464948"
     },
     "user_tz": 360
    },
    "id": "95oBIh-Tdteu",
    "is_executing": true,
    "outputId": "bd3290be-ba86-42a4-8cdb-20d5c5a50664"
   },
   "outputs": [],
   "source": [
    "print(senateReleasesData[\"contents_url\"])"
   ]
  },
  {
   "cell_type": "markdown",
   "metadata": {
    "id": "bto1cVwTdteu"
   },
   "source": [
    "We can use this to get any or all of the files from the repo."
   ]
  },
  {
   "cell_type": "code",
   "execution_count": null,
   "metadata": {
    "colab": {
     "base_uri": "https://localhost:8080/"
    },
    "executionInfo": {
     "elapsed": 336,
     "status": "ok",
     "timestamp": 1704345030944,
     "user": {
      "displayName": "Likun Cao",
      "userId": "01917344510473464948"
     },
     "user_tz": 360
    },
    "id": "gXfIuv1Ydteu",
    "is_executing": true,
    "outputId": "fa8c5602-796e-4cc4-c61f-4bac49b65d80"
   },
   "outputs": [],
   "source": [
    "r = requests.get(\n",
    "    \"https://api.github.com/repos/lintool/GrimmerSenatePressReleases/contents/raw/Whitehouse\"\n",
    ")\n",
    "white_house_links = json.loads(r.text)\n",
    "white_house_links[0]"
   ]
  },
  {
   "cell_type": "markdown",
   "metadata": {
    "id": "oEtzdh2Mdtev"
   },
   "source": [
    "Now we have a list of information about White House press releases. Let's look at one of them."
   ]
  },
  {
   "cell_type": "code",
   "execution_count": null,
   "metadata": {
    "colab": {
     "base_uri": "https://localhost:8080/"
    },
    "executionInfo": {
     "elapsed": 340,
     "status": "ok",
     "timestamp": 1704345033739,
     "user": {
      "displayName": "Likun Cao",
      "userId": "01917344510473464948"
     },
     "user_tz": 360
    },
    "id": "FMpGjq0idtev",
    "is_executing": true,
    "outputId": "cb46034f-3e11-4f3f-b76c-507a30d39165"
   },
   "outputs": [],
   "source": [
    "r = requests.get(white_house_links[0][\"download_url\"])\n",
    "white_house_release = r.text\n",
    "print(white_house_release[:1000])\n",
    "len(white_house_release)"
   ]
  },
  {
   "cell_type": "markdown",
   "metadata": {
    "id": "BxChQeqNdtev"
   },
   "source": [
    "Now we have a string of correctly encoded text. For analysis of its words, next we need to \n",
    "tokenize it, or split it into a sequence of tokens or word instances."
   ]
  },
  {
   "cell_type": "code",
   "execution_count": null,
   "metadata": {
    "colab": {
     "base_uri": "https://localhost:8080/"
    },
    "executionInfo": {
     "elapsed": 216,
     "status": "ok",
     "timestamp": 1704345035923,
     "user": {
      "displayName": "Likun Cao",
      "userId": "01917344510473464948"
     },
     "user_tz": 360
    },
    "id": "EiKNs-nadtev",
    "is_executing": true,
    "outputId": "7b47e300-0704-45b2-fff8-ae31d5b5599b"
   },
   "outputs": [],
   "source": [
    "wh_tokens = word_tokenize(white_house_release)\n",
    "wh_tokens[10:30]"
   ]
  },
  {
   "cell_type": "markdown",
   "metadata": {
    "id": "l5qzDEbbdtev"
   },
   "source": [
    "Previous iterations of the course used `nltk`s tokenizer, but as we saw before, we used spaCy's model \n",
    "(https://spacy.io/api/tokenizer). We intend to avoid using NLTK when we can - for production level code, \n",
    "it is a lot faster and cleaner to use spaCy.\n",
    "\n",
    "That being said, `nltk` does have some useful methods for quick analysis of small corpora. We will \n",
    "explore a few here, and encourage you to figure out for yourself which other ones might be useful.\n",
    "\n",
    "To use the list of tokens in `nltk`, and take advantage of functions like `concordance`, shown above, \n",
    "we can convert it into a `Text`."
   ]
  },
  {
   "cell_type": "code",
   "execution_count": null,
   "metadata": {
    "colab": {
     "base_uri": "https://localhost:8080/"
    },
    "executionInfo": {
     "elapsed": 133,
     "status": "ok",
     "timestamp": 1704345040373,
     "user": {
      "displayName": "Likun Cao",
      "userId": "01917344510473464948"
     },
     "user_tz": 360
    },
    "id": "aEVcdFLadtez",
    "is_executing": true,
    "outputId": "f2ca0130-baf5-4e9d-e8a6-125f8ed1efe1"
   },
   "outputs": [],
   "source": [
    "wh_text = nltk.Text(wh_tokens)\n",
    "\n",
    "white_house_index = nltk.text.ConcordanceIndex(wh_text)\n",
    "white_house_index.print_concordance(\"Whitehouse\")"
   ]
  },
  {
   "cell_type": "markdown",
   "metadata": {
    "id": "n7K--xtxdtez"
   },
   "source": [
    "*Note* that the `Text` class is for doing rapid, exploratory analysis. It provides \n",
    "an easy interface to many of the operations we want to do, but it does not allow us \n",
    "much control over the particular operations it glosses. When you are doing a more \n",
    "complete analysis, you should be using the module specifically designed for that \n",
    "task instead of the shortcut method `Text` provides, e.g. use  [`collocations` Module](https://www.nltk.org/api/nltk.html#module-nltk.collocations) \n",
    "instead of `.collocations()`.\n",
    "\n",
    "Now that we have gotten this loaded, let's glance at few features we will delve \n",
    "into more deeply later.\n",
    "\n",
    "For example, we can find words that statistically tend to occur together and typically \n",
    "have a composite, idiomatic meaning irreducible to the semantics of its component words. \n",
    "We will do this later with more control over exactly how these are identified."
   ]
  },
  {
   "cell_type": "markdown",
   "metadata": {
    "id": "E6US58Hzdtez"
   },
   "source": [
    "Or we can pick a word (or words) and find what words tend to occur around it."
   ]
  },
  {
   "cell_type": "code",
   "execution_count": null,
   "metadata": {
    "colab": {
     "base_uri": "https://localhost:8080/"
    },
    "executionInfo": {
     "elapsed": 101,
     "status": "ok",
     "timestamp": 1704345059713,
     "user": {
      "displayName": "Likun Cao",
      "userId": "01917344510473464948"
     },
     "user_tz": 360
    },
    "id": "vQDMlI-rdtez",
    "is_executing": true,
    "outputId": "7ad7ece4-03a1-46a0-d099-937c1a6b4611"
   },
   "outputs": [],
   "source": [
    "wh_text.common_contexts([\"stem\"])"
   ]
  },
  {
   "cell_type": "markdown",
   "metadata": {
    "id": "KZlRnQ0gdte0"
   },
   "source": [
    "We can also just count the number of times the word occurs."
   ]
  },
  {
   "cell_type": "code",
   "execution_count": null,
   "metadata": {
    "colab": {
     "base_uri": "https://localhost:8080/"
    },
    "executionInfo": {
     "elapsed": 132,
     "status": "ok",
     "timestamp": 1704345063221,
     "user": {
      "displayName": "Likun Cao",
      "userId": "01917344510473464948"
     },
     "user_tz": 360
    },
    "id": "xID14pB8dte0",
    "is_executing": true,
    "outputId": "ff06af3d-bfe3-4a54-b42a-2cb7f87b541e"
   },
   "outputs": [],
   "source": [
    "wh_text.count(\"cell\")"
   ]
  },
  {
   "cell_type": "markdown",
   "metadata": {
    "id": "SoRzv5nedte0"
   },
   "source": [
    "We can also plot each time a set of words occurs."
   ]
  },
  {
   "cell_type": "code",
   "execution_count": null,
   "metadata": {
    "colab": {
     "base_uri": "https://localhost:8080/",
     "height": 472
    },
    "executionInfo": {
     "elapsed": 357,
     "status": "ok",
     "timestamp": 1704345065659,
     "user": {
      "displayName": "Likun Cao",
      "userId": "01917344510473464948"
     },
     "user_tz": 360
    },
    "id": "1OQ_cfKMdte0",
    "is_executing": true,
    "outputId": "5ab0f3a7-d52e-43d7-827d-592c8ba910bb"
   },
   "outputs": [],
   "source": [
    "sns.reset_orig()  # Seaborn messes with this plot, disabling it\n",
    "wh_text.dispersion_plot(\n",
    "    [\"Sen.\", \"stem\", \"cell\", \"federal\", \"Lila\", \"Barber\", \"Whitehouse\"]\n",
    ")\n",
    "sns.set()  # Re-enabling seaborn"
   ]
  },
  {
   "cell_type": "markdown",
   "metadata": {
    "id": "YBcB_kJcdte0"
   },
   "source": [
    "If we want to do an analysis of all the White House press releases we will first need to obtain them. \n",
    "By looking at the API we can see the URL we want is [https://api.github.com/repos/lintool/GrimmerSenatePressReleases/contents/raw/Whitehouse](https://api.github.com/repos/lintool/GrimmerSenatePressReleases/contents/raw/Whitehouse), so we can \n",
    "create a function to scrape the individual files.\n",
    "\n",
    "If you want to know more about downloading from APIs, refer back to the 1st notebook."
   ]
  },
  {
   "cell_type": "code",
   "execution_count": null,
   "metadata": {
    "colab": {
     "base_uri": "https://localhost:8080/",
     "height": 642
    },
    "executionInfo": {
     "elapsed": 2082,
     "status": "ok",
     "timestamp": 1704345084634,
     "user": {
      "displayName": "Likun Cao",
      "userId": "01917344510473464948"
     },
     "user_tz": 360
    },
    "id": "Y0ivQVECdte0",
    "is_executing": true,
    "outputId": "e4304dff-14c7-437c-9bb8-6b7424e5290b"
   },
   "outputs": [],
   "source": [
    "def get_github_files(target, max_files=100):\n",
    "    # We are setting a max so our examples don't take too long to run\n",
    "    # For converting to a DataFrame\n",
    "    releases_dict = {\n",
    "        \"name\": [],  # The name of the file\n",
    "        \"text\": [],  # The text of the file, watch out for binary files\n",
    "        \"path\": [],  # The path in the git repo to the file\n",
    "        \"html_url\": [],  # The url to see the file on GitHub\n",
    "        \"download_url\": [],  # The url to download the file\n",
    "    }\n",
    "\n",
    "    # Get the directory information from GitHub\n",
    "    r = requests.get(target)\n",
    "    filesLst = json.loads(r.text)\n",
    "\n",
    "    for file_dict in filesLst[:max_files]:\n",
    "        # These are provided by the directory\n",
    "        releases_dict[\"name\"].append(file_dict[\"name\"])\n",
    "        releases_dict[\"path\"].append(file_dict[\"path\"])\n",
    "        releases_dict[\"html_url\"].append(file_dict[\"html_url\"])\n",
    "        releases_dict[\"download_url\"].append(file_dict[\"download_url\"])\n",
    "\n",
    "        # We need to download the text though\n",
    "        text = requests.get(file_dict[\"download_url\"]).text\n",
    "        releases_dict[\"text\"].append(text)\n",
    "\n",
    "    return pandas.DataFrame(releases_dict)\n",
    "\n",
    "\n",
    "wh_releases = get_github_files(\n",
    "    \"https://api.github.com/repos/lintool/GrimmerSenatePressReleases/contents/raw/Whitehouse\",\n",
    "    max_files=10,\n",
    ")\n",
    "wh_releases[:5]"
   ]
  },
  {
   "cell_type": "markdown",
   "metadata": {
    "id": "TQ389DXtdte0"
   },
   "source": [
    "If you are having trouble downloading the data uncomment this next cell"
   ]
  },
  {
   "cell_type": "code",
   "execution_count": null,
   "metadata": {
    "id": "euBHHE4zdte0",
    "is_executing": true
   },
   "outputs": [],
   "source": [
    "# wh_releases = pandas.read_csv('../data/whReleases.csv')"
   ]
  },
  {
   "cell_type": "markdown",
   "metadata": {
    "id": "w3xWPznkdte0"
   },
   "source": [
    "Now we have all the texts in a DataFrame we can look at a few things.\n",
    "\n",
    "First let's tokenize the texts with the same tokenizer as we used before. We will just \n",
    "save the tokens as a list for now; no need to convert to `Text`s."
   ]
  },
  {
   "cell_type": "code",
   "execution_count": null,
   "metadata": {
    "id": "sSVPokrrdte1",
    "is_executing": true
   },
   "outputs": [],
   "source": [
    "wh_releases[\"tokenized_text\"] = wh_releases[\"text\"].apply(lambda x: word_tokenize(x))"
   ]
  },
  {
   "cell_type": "markdown",
   "metadata": {
    "id": "xNivCqoHdte1"
   },
   "source": [
    "Now lets see how long each of the press releases is:"
   ]
  },
  {
   "cell_type": "code",
   "execution_count": null,
   "metadata": {
    "colab": {
     "base_uri": "https://localhost:8080/"
    },
    "executionInfo": {
     "elapsed": 111,
     "status": "ok",
     "timestamp": 1704345094121,
     "user": {
      "displayName": "Likun Cao",
      "userId": "01917344510473464948"
     },
     "user_tz": 360
    },
    "id": "P1CkFqKodte1",
    "is_executing": true,
    "outputId": "675bb5c2-bac3-439b-eb25-88d0bc3e23ab"
   },
   "outputs": [],
   "source": [
    "wh_releases[\"word_counts\"] = wh_releases[\"tokenized_text\"].apply(lambda x: len(x))\n",
    "wh_releases[\"word_counts\"]"
   ]
  },
  {
   "cell_type": "markdown",
   "metadata": {
    "id": "TAVUsD7Ddte1"
   },
   "source": [
    "## <font color=\"red\">*Exercise 1*</font>\n",
    "\n",
    "<font color=\"red\">Construct cells immediately below this that input and interrogate a corpus \n",
    "relating to your anticipated final project. This could include one of the Davies corpora or \n",
    "some other you have constructed. Turn your text into a nltk `Text` object, and explore all \n",
    "the features examined above, and others that relate to better understanding your corpus in \n",
    "relation to your research question. </font>"
   ]
  },
  {
   "cell_type": "code",
   "execution_count": null,
   "metadata": {
    "collapsed": false,
    "is_executing": true
   },
   "outputs": [],
   "source": []
  },
  {
   "cell_type": "markdown",
   "metadata": {
    "id": "A9QTpuTYdte1"
   },
   "source": [
    "# Filtering and normalizing text\n",
    "\n",
    "As we want to start comparing the different releases we may choose to do a bit of filtering and normalizing that will allow us to focus on what we most care about. We can first make all of the words lower case, then drop the non-word tokens. Next, we can remove some 'stop words', stem the remaining words to remove suffixes, prefixes and (in some languages) infixes, or lemmatize tokens by intelligently grouping inflected or variant forms of the same word (e.g., with a stemmer and a dictionary).\n",
    "\n",
    "To begin this process, we will first define a function to work over the tokenized lists, then another to add normalized tokens to a new column."
   ]
  },
  {
   "cell_type": "markdown",
   "metadata": {
    "id": "YeLIliaIdte1"
   },
   "source": [
    "We will be using spaCy's built in stop words identifying capacity. When we run text through spaCy's language pipeline, it automatically tags it as a stop word."
   ]
  },
  {
   "cell_type": "markdown",
   "metadata": {
    "id": "WA5nGvkYdte1"
   },
   "source": [
    "We can remove these stopwords from the analysis by fiat, but we could also take a more principled approach by looking at the frequency distribution of words and selecting a specific cut-off associated with the preservation of 'meaningful words' identified upon inspection. Alternatively, we could automatically set a cut-off by rule, such as removal of all words more frequent then the most frequent verb, or the most frequent noun (not pronoun), or some term of central interest."
   ]
  },
  {
   "cell_type": "code",
   "execution_count": null,
   "metadata": {
    "colab": {
     "base_uri": "https://localhost:8080/"
    },
    "executionInfo": {
     "elapsed": 111,
     "status": "ok",
     "timestamp": 1704345100449,
     "user": {
      "displayName": "Likun Cao",
      "userId": "01917344510473464948"
     },
     "user_tz": 360
    },
    "id": "1dYdqa5ydte2",
    "is_executing": true,
    "outputId": "a174624d-17a4-40a4-c077-715dc1c40d55"
   },
   "outputs": [],
   "source": [
    "countsDict = {}\n",
    "for word in wh_releases[\"tokenized_text\"].sum():\n",
    "    if word in countsDict:\n",
    "        countsDict[word] += 1\n",
    "    else:\n",
    "        countsDict[word] = 1\n",
    "word_counts = sorted(countsDict.items(), key=lambda x: x[1], reverse=True)\n",
    "word_counts[:20]"
   ]
  },
  {
   "cell_type": "markdown",
   "metadata": {
    "id": "iGWCwFnUdte2"
   },
   "source": [
    "We can look at this and pick the cutoff, often at the first noun. So we will cut all words before `'Whitehouse'`."
   ]
  },
  {
   "cell_type": "code",
   "execution_count": null,
   "metadata": {
    "colab": {
     "base_uri": "https://localhost:8080/"
    },
    "executionInfo": {
     "elapsed": 111,
     "status": "ok",
     "timestamp": 1704345102741,
     "user": {
      "displayName": "Likun Cao",
      "userId": "01917344510473464948"
     },
     "user_tz": 360
    },
    "id": "kapQniRqdte2",
    "is_executing": true,
    "outputId": "701b33e1-b437-4e56-cbc4-9b9d4ca12a26"
   },
   "outputs": [],
   "source": [
    "# The stop list is then all words that occur before the first noun\n",
    "stop_words_freq = []\n",
    "for word, count in word_counts:\n",
    "    if word == \"Whitehouse\":\n",
    "        break\n",
    "    else:\n",
    "        stop_words_freq.append(word)\n",
    "stop_words_freq"
   ]
  },
  {
   "cell_type": "markdown",
   "metadata": {
    "id": "fOiFSPUmdte2"
   },
   "source": [
    "If we did have any extra words to add as stop words apart from those normally considered as stop words, we would add it to our stop words by passing it to the normalize tokens method."
   ]
  },
  {
   "cell_type": "markdown",
   "metadata": {
    "id": "lqJuSnbcdte2"
   },
   "source": [
    "Now we can create our function to normalize the tokens"
   ]
  },
  {
   "cell_type": "code",
   "execution_count": null,
   "metadata": {
    "id": "3FvPDuMKdte2",
    "is_executing": true
   },
   "outputs": [],
   "source": [
    "def normalize_tokens(word_list, extra_stop=None):\n",
    "    # We can use a generator here as we just need to iterate over it\n",
    "    if extra_stop is None:\n",
    "        extra_stop = []\n",
    "    normalized = []\n",
    "    if type(word_list) == list and len(word_list) == 1:\n",
    "        word_list = word_list[0]\n",
    "\n",
    "    if type(word_list) == list:\n",
    "        word_list = \" \".join([str(elem) for elem in word_list])\n",
    "\n",
    "    doc = nlp(word_list.lower())\n",
    "\n",
    "    # add the property of stop word to words considered as stop words\n",
    "    if len(extra_stop) > 0:\n",
    "        for stopword in extra_stop:\n",
    "            lexeme = nlp.vocab[stopword]\n",
    "            lexeme.is_stop = True\n",
    "\n",
    "    for w in doc:\n",
    "        # if it's not a stop word or punctuation mark, add it to our article\n",
    "        if (\n",
    "            w.text != \"\\n\"\n",
    "            and not w.is_stop\n",
    "            and not w.is_punct\n",
    "            and not w.like_num\n",
    "            and len(w.text.strip()) > 0\n",
    "        ):\n",
    "            # we add the lemmatized version of the word\n",
    "            normalized.append(str(w.lemma_))\n",
    "\n",
    "    return normalized"
   ]
  },
  {
   "cell_type": "code",
   "execution_count": null,
   "metadata": {
    "colab": {
     "base_uri": "https://localhost:8080/",
     "height": 1000
    },
    "executionInfo": {
     "elapsed": 975,
     "status": "ok",
     "timestamp": 1704345108204,
     "user": {
      "displayName": "Likun Cao",
      "userId": "01917344510473464948"
     },
     "user_tz": 360
    },
    "id": "G8LMuKwrdte2",
    "is_executing": true,
    "outputId": "3e899463-81ce-4682-8828-8f4204d25ef2"
   },
   "outputs": [],
   "source": [
    "wh_releases[\"normalized_tokens\"] = wh_releases[\"tokenized_text\"].apply(\n",
    "    lambda x: normalize_tokens(x)\n",
    ")\n",
    "\n",
    "wh_releases[\"normalized_tokens_count\"] = wh_releases[\"normalized_tokens\"].apply(\n",
    "    lambda x: len(x)\n",
    ")\n",
    "\n",
    "wh_releases"
   ]
  },
  {
   "cell_type": "markdown",
   "metadata": {
    "id": "9OTL-dKpdte2"
   },
   "source": [
    "You can see that in the final step of normalizing, we add the lemmatized form of the word. spaCy's built in lemmatizer does this (https://spacy.io/api/lemmatizer). Lemmatization can be thought of as finding the root or the base of the word after removing inflections and other variations of words. Another possible way of finding the roots of words is using NLTK's porting or stemming functionalities, but we will not be getting into them.\n",
    "\n",
    "Now that it is cleaned we start analyzing the dataset. We can start by finding frequency distributions for the dataset. Lets start looking at all the press releases together. The [`ConditionalFreqDist`](http://www.nltk.org/api/nltk.html#nltk.probability.ConditionalProbDist) class reads in an iterable of tuples, the first element is the condition and the second the focal word. For starters, we will use word lengths as the conditions, but tags or clusters will provide more useful results."
   ]
  },
  {
   "cell_type": "code",
   "execution_count": null,
   "metadata": {
    "colab": {
     "base_uri": "https://localhost:8080/"
    },
    "executionInfo": {
     "elapsed": 131,
     "status": "ok",
     "timestamp": 1704345112350,
     "user": {
      "displayName": "Likun Cao",
      "userId": "01917344510473464948"
     },
     "user_tz": 360
    },
    "id": "Vg6CDnX4dte2",
    "is_executing": true,
    "outputId": "afe7ad12-cfe6-4924-e040-8b4407fcb3e0"
   },
   "outputs": [],
   "source": [
    "# .sum() adds together the lists from each row into a single list\n",
    "whcf_dist = nltk.ConditionalFreqDist(\n",
    "    ((len(w), w) for w in wh_releases[\"normalized_tokens\"].sum())\n",
    ")\n",
    "\n",
    "# print the number of words\n",
    "print(whcf_dist.N())"
   ]
  },
  {
   "cell_type": "markdown",
   "metadata": {
    "id": "rQY-U2ZNdte3"
   },
   "source": [
    "From this we can lookup the distributions of different word lengths"
   ]
  },
  {
   "cell_type": "code",
   "execution_count": null,
   "metadata": {
    "colab": {
     "base_uri": "https://localhost:8080/",
     "height": 495
    },
    "executionInfo": {
     "elapsed": 895,
     "status": "ok",
     "timestamp": 1704345115902,
     "user": {
      "displayName": "Likun Cao",
      "userId": "01917344510473464948"
     },
     "user_tz": 360
    },
    "id": "RcbM6nWmdte3",
    "is_executing": true,
    "outputId": "359466ba-655f-4810-eaba-4218fc782a65"
   },
   "outputs": [],
   "source": [
    "whcf_dist[3].plot()"
   ]
  },
  {
   "cell_type": "markdown",
   "metadata": {
    "id": "zbUJu8mvdte3"
   },
   "source": [
    "We can also create a Conditional Probability Distribution or [`ConditionalProbDist`](http://www.nltk.org/api/nltk.html#nltk.probability.ConditionalProbDist) from the `ConditionalFreqDist`. To do this, however, we need a model for the probability distribution. A simple model is [`ELEProbDist`](http://www.nltk.org/api/nltk.html#nltk.probability.ELEProbDist) which gives the expected likelihood estimate for the probability distribution of the experiment used to generate the observed frequency distribution."
   ]
  },
  {
   "cell_type": "code",
   "execution_count": null,
   "metadata": {
    "colab": {
     "base_uri": "https://localhost:8080/"
    },
    "executionInfo": {
     "elapsed": 120,
     "status": "ok",
     "timestamp": 1704345118064,
     "user": {
      "displayName": "Likun Cao",
      "userId": "01917344510473464948"
     },
     "user_tz": 360
    },
    "id": "rJZqIHEEdte3",
    "is_executing": true,
    "outputId": "f8255723-8ad2-46da-d099-b20844d792aa"
   },
   "outputs": [],
   "source": [
    "whcf_dist = nltk.ConditionalProbDist(whcf_dist, nltk.ELEProbDist)\n",
    "\n",
    "# print the most common 2-letter word\n",
    "print(whcf_dist[2].max())\n",
    "\n",
    "# And its probability\n",
    "print(whcf_dist[2].prob(whcf_dist[2].max()))"
   ]
  },
  {
   "cell_type": "markdown",
   "metadata": {
    "id": "CeewUkXYdte3"
   },
   "source": [
    "Length is one feature of a word, but there are many more important features we care about. Another \n",
    "critical feature is a word's role in the sentence, or its part of speech (POS).\n",
    "\n",
    "The method below works similarly to ```nltk.pos_text```, and can work with the conditional \n",
    "frequency distributions it provides."
   ]
  },
  {
   "cell_type": "code",
   "execution_count": null,
   "metadata": {
    "id": "bZAQ1yBSdte3",
    "is_executing": true
   },
   "outputs": [],
   "source": [
    "def spacy_pos(word_list):\n",
    "    tags = []\n",
    "    doc = nlp(word_list.lower())\n",
    "    for w in doc:\n",
    "        tags.append((w.text, w.tag_))\n",
    "    return tags"
   ]
  },
  {
   "cell_type": "code",
   "execution_count": null,
   "metadata": {
    "id": "KH53HXLgdte3",
    "is_executing": true
   },
   "outputs": [],
   "source": [
    "wh_releases[\"normalized_tokens_POS\"] = [spacy_pos(t) for t in wh_releases[\"text\"]]"
   ]
  },
  {
   "cell_type": "markdown",
   "metadata": {
    "id": "Zi2LakpEdte3"
   },
   "source": [
    "This gives us a new column with the part of speech as a short initialism and the word in a \n",
    "tuple, exactly how the `nltk.ConditionalFreqDist()` function wants them. We can now \n",
    "construct another conditional frequency distribution."
   ]
  },
  {
   "cell_type": "code",
   "execution_count": null,
   "metadata": {
    "colab": {
     "base_uri": "https://localhost:8080/"
    },
    "executionInfo": {
     "elapsed": 128,
     "status": "ok",
     "timestamp": 1704345125638,
     "user": {
      "displayName": "Likun Cao",
      "userId": "01917344510473464948"
     },
     "user_tz": 360
    },
    "id": "wPpOxAyKdte3",
    "is_executing": true,
    "outputId": "5035eb75-79dc-4c52-cf09-cdcf49d19d94"
   },
   "outputs": [],
   "source": [
    "whcfdist_WordtoPOS = nltk.ConditionalFreqDist(\n",
    "    wh_releases[\"normalized_tokens_POS\"].sum()\n",
    ")\n",
    "list(whcfdist_WordtoPOS.items())[:10]"
   ]
  },
  {
   "cell_type": "markdown",
   "metadata": {
    "id": "wD7QMiWedte4"
   },
   "source": [
    "This gives the frequency of each word as each part of speech...which can \n",
    "be uninformative and boring. What we want is the converse; the frequency \n",
    "of each part of speech for each word."
   ]
  },
  {
   "cell_type": "code",
   "execution_count": null,
   "metadata": {
    "id": "wwdIeIPfdte4",
    "is_executing": true
   },
   "outputs": [],
   "source": [
    "whcfdist_POStoWord = nltk.ConditionalFreqDist(\n",
    "    (p, w) for w, p in wh_releases[\"normalized_tokens_POS\"].sum()\n",
    ")"
   ]
  },
  {
   "cell_type": "markdown",
   "metadata": {
    "id": "qd9teko3dte4"
   },
   "source": [
    "We can now identify and collect all of the superlative adjectives"
   ]
  },
  {
   "cell_type": "code",
   "execution_count": null,
   "metadata": {
    "colab": {
     "base_uri": "https://localhost:8080/"
    },
    "executionInfo": {
     "elapsed": 112,
     "status": "ok",
     "timestamp": 1704345129939,
     "user": {
      "displayName": "Likun Cao",
      "userId": "01917344510473464948"
     },
     "user_tz": 360
    },
    "id": "jWVdsYcqdte4",
    "is_executing": true,
    "outputId": "60d945cf-8b17-44a3-b5d5-b4550c544767"
   },
   "outputs": [],
   "source": [
    "whcfdist_POStoWord[\"JJ\"]"
   ]
  },
  {
   "cell_type": "markdown",
   "metadata": {
    "id": "Eg1tjm-8dte4"
   },
   "source": [
    "Or look at the most common nouns"
   ]
  },
  {
   "cell_type": "code",
   "execution_count": null,
   "metadata": {
    "colab": {
     "base_uri": "https://localhost:8080/"
    },
    "executionInfo": {
     "elapsed": 118,
     "status": "ok",
     "timestamp": 1704345132082,
     "user": {
      "displayName": "Likun Cao",
      "userId": "01917344510473464948"
     },
     "user_tz": 360
    },
    "id": "DcboYWOwdte4",
    "is_executing": true,
    "outputId": "86bde38c-caa7-4260-dee7-9b7c2b6ab657"
   },
   "outputs": [],
   "source": [
    "whcfdist_POStoWord[\"NN\"].most_common(5)"
   ]
  },
  {
   "cell_type": "markdown",
   "metadata": {
    "id": "4xiizkcddte4"
   },
   "source": [
    "Or plot the base form verbs against their number of occurrences"
   ]
  },
  {
   "cell_type": "code",
   "execution_count": null,
   "metadata": {
    "colab": {
     "base_uri": "https://localhost:8080/",
     "height": 556
    },
    "executionInfo": {
     "elapsed": 1496,
     "status": "ok",
     "timestamp": 1704345135501,
     "user": {
      "displayName": "Likun Cao",
      "userId": "01917344510473464948"
     },
     "user_tz": 360
    },
    "id": "Iud78aYodte4",
    "is_executing": true,
    "outputId": "b4817e47-270c-4bd4-ff32-5c0d9942ea9a"
   },
   "outputs": [],
   "source": [
    "whcfdist_POStoWord[\"VB\"].plot()"
   ]
  },
  {
   "cell_type": "markdown",
   "metadata": {
    "id": "tn1-7cHndte5"
   },
   "source": [
    "We can then do a similar analysis of the word probabilities"
   ]
  },
  {
   "cell_type": "code",
   "execution_count": null,
   "metadata": {
    "colab": {
     "base_uri": "https://localhost:8080/"
    },
    "executionInfo": {
     "elapsed": 13,
     "status": "ok",
     "timestamp": 1704345136078,
     "user": {
      "displayName": "Likun Cao",
      "userId": "01917344510473464948"
     },
     "user_tz": 360
    },
    "id": "eSkdP_4Fdte5",
    "is_executing": true,
    "outputId": "51907fb1-554e-467d-81d5-ac609640d526"
   },
   "outputs": [],
   "source": [
    "whcpdist_POStoWord = nltk.ConditionalProbDist(whcfdist_POStoWord, nltk.ELEProbDist)\n",
    "\n",
    "# print the most common nouns\n",
    "print(whcpdist_POStoWord[\"NN\"].max())\n",
    "\n",
    "# And its probability\n",
    "print(whcpdist_POStoWord[\"NN\"].prob(whcpdist_POStoWord[\"NN\"].max()))"
   ]
  },
  {
   "cell_type": "markdown",
   "metadata": {
    "id": "x8lIDEf_dte5"
   },
   "source": [
    "We can even create a...wait for it...*WORD CLOUD* or Wordl to gaze at and draw \n",
    "mystical, approximate inferences about important nouns and verbs in our corpus:"
   ]
  },
  {
   "cell_type": "code",
   "execution_count": null,
   "metadata": {
    "colab": {
     "base_uri": "https://localhost:8080/",
     "height": 406
    },
    "executionInfo": {
     "elapsed": 7222,
     "status": "ok",
     "timestamp": 1704345147275,
     "user": {
      "displayName": "Likun Cao",
      "userId": "01917344510473464948"
     },
     "user_tz": 360
    },
    "id": "zbQn6yF3dte5",
    "is_executing": true,
    "outputId": "6ccd5f72-00a0-414f-dc44-025bea8d51fb"
   },
   "outputs": [],
   "source": [
    "wc = wordcloud.WordCloud(\n",
    "    background_color=\"white\",\n",
    "    max_words=500,\n",
    "    width=1000,\n",
    "    height=1000,\n",
    "    mode=\"RGBA\",\n",
    "    scale=0.5,\n",
    ").generate(\" \".join(wh_releases[\"normalized_tokens\"].sum()))\n",
    "plt.imshow(wc)\n",
    "plt.axis(\"off\")\n",
    "plt.savefig(\"whitehouse_word_cloud.pdf\", format=\"pdf\")"
   ]
  },
  {
   "cell_type": "markdown",
   "metadata": {
    "id": "1IA7Ijs4dte5"
   },
   "source": [
    "## <font color=\"red\">*Exercise 2*</font>\n",
    "\n",
    "<font color=\"red\">Construct cells immediately below this that filter, stem and lemmatize the tokens in your corpus, and then creates plots (with titles and labels) that map the word frequency distribution, word probability distribution, and at least two conditional probability distributions that help us better understand the social and cultural game underlying the production of your corpus. Create a wordl of words (or normalized words) and add a few vague comments about what mysteries are revealed through it.</font>"
   ]
  },
  {
   "cell_type": "code",
   "execution_count": null,
   "metadata": {
    "collapsed": false,
    "is_executing": true
   },
   "outputs": [],
   "source": []
  },
  {
   "cell_type": "markdown",
   "metadata": {
    "id": "CMvO4gVGdte5"
   },
   "source": [
    "## Davies Corpora\n",
    "\n",
    "Now that we have our basic cleaning down, we can arrange our Davies Corpora. Let \n",
    "us try this with the movies corpora we have already loaded.\n",
    "\n",
    "We'll use a smaller corpus of a 1000 movies for this demonstration."
   ]
  },
  {
   "cell_type": "code",
   "execution_count": null,
   "metadata": {
    "id": "fEwIJujvdte5",
    "is_executing": true
   },
   "outputs": [],
   "source": [
    "zfile = zipfile.ZipFile(corpus_file_path + \"/sources_movies.zip\")\n",
    "source = []"
   ]
  },
  {
   "cell_type": "code",
   "execution_count": null,
   "metadata": {
    "id": "5PrBmRgddte5",
    "is_executing": true
   },
   "outputs": [],
   "source": [
    "for file in zfile.namelist():\n",
    "    with zfile.open(file) as f:\n",
    "        for line in f:\n",
    "            source.append(line)"
   ]
  },
  {
   "cell_type": "code",
   "execution_count": null,
   "metadata": {
    "colab": {
     "base_uri": "https://localhost:8080/"
    },
    "executionInfo": {
     "elapsed": 115,
     "status": "ok",
     "timestamp": 1704345151294,
     "user": {
      "displayName": "Likun Cao",
      "userId": "01917344510473464948"
     },
     "user_tz": 360
    },
    "id": "brbT3Ciadte6",
    "is_executing": true,
    "outputId": "4a04eaaa-7864-4f89-b510-1b583d615aff"
   },
   "outputs": [],
   "source": [
    "source[0:20]"
   ]
  },
  {
   "cell_type": "markdown",
   "metadata": {
    "id": "ungHjWvudte6"
   },
   "source": [
    "It looks dirty because the file is encoded as bytes, but we can certainly see \n",
    "the information there. The file id is also present in the original raw text \n",
    "data: as the first \"word\". Look back at the normalized/tokenized words to \n",
    "confirm that. We're going to use this to create a dataframe with: Fileid, \n",
    "movie name, genre, year, and country.\n",
    "\n",
    "It is advised that you run a similar check of the source file before you \n",
    "do other extraction.\n",
    "\n",
    "First, let us create a dictionary mapping file-id to all the text. Each \n",
    "movie will be mapped to a list of the tokenized words.\n",
    "\n",
    "In this example, I only use it to load 100 movies. You can comment this \n",
    "out or increase/decrease the number as you see fit.\n",
    "\n",
    "Note that in the following cells, we make use of the `lucem_illud` package's \n",
    "`word_tokenize` function. You can see that function on line 70 of [processing.py](https://github.com/UChicago-Computational-Content-Analysis/lucem_illud/blob/main/lucem_illud/processing.py), and we provide \n",
    "the code here for transparency. Since we put this folder in our helper package, \n",
    "you won't need to define this function every time you want to use it; you\n",
    "just `import lucem_illud`!"
   ]
  },
  {
   "cell_type": "code",
   "execution_count": null,
   "metadata": {
    "id": "D8F8K5gbdte6",
    "is_executing": true
   },
   "outputs": [],
   "source": [
    "# processing.py calls a spacy model called \"en\" (and sometimes called \"en_core_web_sm\") so we load that first.\n",
    "try:\n",
    "    nlp = spacy.load(\"en\")\n",
    "except OSError:\n",
    "    nlp = spacy.load(\"en_core_web_sm\")\n",
    "\n",
    "\n",
    "# Here is the function from lucem_illud/lucem_illud/processing.py\n",
    "def word_tokenize(word_list, model=nlp, MAX_LEN=1500000):\n",
    "    tokenized = []\n",
    "    if type(word_list) == list and len(word_list) == 1:\n",
    "        word_list = word_list[0]\n",
    "\n",
    "    if type(word_list) == list:\n",
    "        word_list = \" \".join([str(elem) for elem in word_list])\n",
    "    # since we're only tokenizing, I remove RAM intensive operations and increase max text size\n",
    "\n",
    "    model.max_length = MAX_LEN\n",
    "    doc = model(word_list, disable=[\"parser\", \"tagger\", \"ner\"])\n",
    "\n",
    "    for token in doc:\n",
    "        if not token.is_punct and len(token.text.strip()) > 0:\n",
    "            tokenized.append(token.text)\n",
    "    return tokenized"
   ]
  },
  {
   "cell_type": "code",
   "execution_count": null,
   "metadata": {
    "id": "5dUr2GvZdte6",
    "is_executing": true
   },
   "outputs": [],
   "source": [
    "movie_texts = {}"
   ]
  },
  {
   "cell_type": "code",
   "execution_count": null,
   "metadata": {
    "id": "EnJ6UzvKdte6",
    "is_executing": true
   },
   "outputs": [],
   "source": [
    "for files in movie_raw:\n",
    "    if len(movie_texts) > 100:\n",
    "        break\n",
    "    movies = clean_raw_text(movie_raw[files][1:])\n",
    "    for movie in movies:\n",
    "        # We can run the following line of code with or without `lucem_illud.`, using the package or our code 2 cells above.\n",
    "        txts = lucem_illud.word_tokenize(movie)\n",
    "        try:\n",
    "            movie_texts[txts[0][2:]] = txts[1:]\n",
    "        except IndexError:\n",
    "            continue"
   ]
  },
  {
   "cell_type": "code",
   "execution_count": null,
   "metadata": {
    "id": "Js6G70Xrdte6",
    "is_executing": true
   },
   "outputs": [],
   "source": [
    "movie_df = pd.DataFrame(\n",
    "    columns=[\"Movie Name\", \"Genre\", \"Year\", \"Country\", \"Tokenized Texts\"]\n",
    ")"
   ]
  },
  {
   "cell_type": "code",
   "execution_count": null,
   "metadata": {
    "id": "shALrbBPdte6",
    "is_executing": true
   },
   "outputs": [],
   "source": [
    "for movie in source[3:]:\n",
    "    try:\n",
    "        (\n",
    "            tid,\n",
    "            fileid,\n",
    "            total_words,\n",
    "            genre,\n",
    "            year,\n",
    "            lang,\n",
    "            country,\n",
    "            imdb,\n",
    "            title,\n",
    "        ) = movie.decode(\"utf-8\").split(\"\\t\")\n",
    "    except UnicodeDecodeError:\n",
    "        continue\n",
    "    try:\n",
    "        movie_df.loc[fileid.strip()] = [\n",
    "            title.strip(),\n",
    "            genre.strip(),\n",
    "            year.strip(),\n",
    "            country.strip(),\n",
    "            movie_texts[fileid.strip()],\n",
    "        ]\n",
    "    except KeyError:\n",
    "        continue"
   ]
  },
  {
   "cell_type": "code",
   "execution_count": null,
   "metadata": {
    "colab": {
     "base_uri": "https://localhost:8080/",
     "height": 206
    },
    "executionInfo": {
     "elapsed": 47,
     "status": "ok",
     "timestamp": 1704345686577,
     "user": {
      "displayName": "Likun Cao",
      "userId": "01917344510473464948"
     },
     "user_tz": 360
    },
    "id": "Bc2kjND8dte7",
    "is_executing": true,
    "outputId": "2bd15ed7-b175-410b-d562-888bd767425d"
   },
   "outputs": [],
   "source": [
    "movie_df.head()"
   ]
  },
  {
   "cell_type": "markdown",
   "metadata": {
    "id": "dqFSJkWydte7"
   },
   "source": [
    "# Part-of-Speech (POS) tagging"
   ]
  },
  {
   "cell_type": "markdown",
   "metadata": {
    "id": "DiQ5tQqedte7"
   },
   "source": [
    "In POS tagging, we classify each word by its semantic role in a sentence. We will be using the in-built spaCy pos-tagging.\n",
    "\n",
    "https://spacy.io/usage/linguistic-features\n",
    "\n",
    "|#. |Tag |Description |\n",
    "|---|----|------------|\n",
    "|1.\t|CC\t|Coordinating conjunction\n",
    "|2.\t|CD\t|Cardinal number\n",
    "|3.\t|DT\t|Determiner\n",
    "|4.\t|EX\t|Existential there\n",
    "|5.\t|FW\t|Foreign word\n",
    "|6.\t|IN\t|Preposition or subordinating conjunction\n",
    "|7.\t|JJ\t|Adjective\n",
    "|8.\t|JJR|\tAdjective, comparative\n",
    "|9.\t|JJS|\tAdjective, superlative\n",
    "|10.|\tLS\t|List item marker\n",
    "|11.|\tMD\t|Modal\n",
    "|12.|\tNN\t|Noun, singular or mass\n",
    "|13.|\tNNS\t|Noun, plural\n",
    "|14.|\tNNP\t|Proper noun, singular\n",
    "|15.|\tNNPS|\tProper noun, plural\n",
    "|16.|\tPDT\t|Predeterminer\n",
    "|17.|\tPOS\t|Possessive ending\n",
    "|18.|\tPRP\t|Personal pronoun\n",
    "|19.|\tPRP\\$|\tPossessive pronoun\n",
    "|20.|\tRB\t|Adverb\n",
    "|21.|\tRBR\t|Adverb, comparative\n",
    "|22.|\tRBS\t|Adverb, superlative\n",
    "|23.|\tRP\t|Particle\n",
    "|24.|\tSYM\t|Symbol\n",
    "|25.|\tTO\t|to\n",
    "|26.|\tUH\t|Interjection\n",
    "|27.|\tVB\t|Verb, base form\n",
    "|28.|\tVBD\t|Verb, past tense\n",
    "|29.|\tVBG\t|Verb, gerund or present participle\n",
    "|30.|\tVBN\t|Verb, past participle\n",
    "|31.|\tVBP\t|Verb, non-3rd person singular present\n",
    "|32.|\tVBZ\t|Verb, 3rd person singular present\n",
    "|33.|\tWDT\t|Wh-determiner\n",
    "|34.|\tWP\t|Wh-pronoun\n",
    "|35.|\tWP$\t|Possessive wh-pronoun\n",
    "|36.|\tWRB\t|Wh-adverb\n",
    "\n",
    "spaCy pos-tags word as we run it through the english language model. A small example:"
   ]
  },
  {
   "cell_type": "code",
   "execution_count": null,
   "metadata": {
    "id": "WiGOw2nFdte7",
    "is_executing": true
   },
   "outputs": [],
   "source": [
    "sent = nlp(\"Tom went to IKEA to get some of those delicious Swedish meatballs.\")"
   ]
  },
  {
   "cell_type": "code",
   "execution_count": null,
   "metadata": {
    "colab": {
     "base_uri": "https://localhost:8080/"
    },
    "executionInfo": {
     "elapsed": 170,
     "status": "ok",
     "timestamp": 1704345686704,
     "user": {
      "displayName": "Likun Cao",
      "userId": "01917344510473464948"
     },
     "user_tz": 360
    },
    "id": "E5GUbFmgdte7",
    "is_executing": true,
    "outputId": "6070ff46-c15e-4142-cd16-1b8093a5d0f1"
   },
   "outputs": [],
   "source": [
    "for token in sent:\n",
    "    print(token.text, token.pos_, token.tag_)"
   ]
  },
  {
   "cell_type": "markdown",
   "metadata": {
    "id": "lO0vGZVJdte7"
   },
   "source": [
    "This looks quite good. Now we will try POS tagging with a somewhat larger corpus. We consider a few of the top posts from the reddit data we used last week."
   ]
  },
  {
   "cell_type": "code",
   "execution_count": null,
   "metadata": {
    "id": "5wGx_wKUdte7",
    "is_executing": true
   },
   "outputs": [],
   "source": [
    "redditDF = pandas.read_csv(\"../data/reddit.csv\")"
   ]
  },
  {
   "cell_type": "markdown",
   "metadata": {
    "id": "fjnLrZavdte8"
   },
   "source": [
    "Grabbing the 10 highest scoring posts and tokenizing the sentences. Once again, notice that we aren't going to do any kind of stemming this week (although *semantic* normalization may be performed where we translate synonyms into the same focal word). Here, we will use sentences tokenized by spaCy. Like before, these methods can also be found in `lucem_illud`.\n",
    "\n"
   ]
  },
  {
   "cell_type": "code",
   "execution_count": null,
   "metadata": {
    "id": "JYpk-4Ffdte8",
    "is_executing": true
   },
   "outputs": [],
   "source": [
    "def sent_tokenize(word_list):\n",
    "    doc = nlp(word_list)\n",
    "    sentences = [sent.text.strip() for sent in doc.sents]\n",
    "    return sentences"
   ]
  },
  {
   "cell_type": "code",
   "execution_count": null,
   "metadata": {
    "colab": {
     "base_uri": "https://localhost:8080/",
     "height": 957
    },
    "executionInfo": {
     "elapsed": 7413,
     "status": "ok",
     "timestamp": 1704346300619,
     "user": {
      "displayName": "Likun Cao",
      "userId": "01917344510473464948"
     },
     "user_tz": 360
    },
    "id": "r_6UOfz3dte8",
    "is_executing": true,
    "outputId": "ed99e09a-93d2-4db3-edcf-08eff99cd4d1"
   },
   "outputs": [],
   "source": [
    "redditTopScores = redditDF.sort_values(\"score\")[-10:]\n",
    "redditTopScores[\"sentences\"] = redditTopScores[\"text\"].apply(\n",
    "    lambda x: [word_tokenize(s) for s in sent_tokenize(x)]\n",
    ")\n",
    "redditTopScores.index = range(\n",
    "    len(redditTopScores) - 1, -1, -1\n",
    ")  # Reindex to make things nice in the future\n",
    "redditTopScores"
   ]
  },
  {
   "cell_type": "code",
   "execution_count": null,
   "metadata": {
    "id": "hwVz7TP5dte8",
    "is_executing": true
   },
   "outputs": [],
   "source": [
    "def tag_sents_pos(sentences):\n",
    "    \"\"\"\n",
    "    function which replicates NLTK pos tagging on sentences.\n",
    "    \"\"\"\n",
    "    new_sents = []\n",
    "    for sentence in sentences:\n",
    "        new_sent = \" \".join(sentence)\n",
    "        new_sents.append(new_sent)\n",
    "    final_string = \" \".join(new_sents)\n",
    "    doc = nlp(final_string)\n",
    "\n",
    "    pos_sents = []\n",
    "    for sent in doc.sents:\n",
    "        pos_sent = []\n",
    "        for token in sent:\n",
    "            pos_sent.append((token.text, token.tag_))\n",
    "        pos_sents.append(pos_sent)\n",
    "\n",
    "    return pos_sents"
   ]
  },
  {
   "cell_type": "code",
   "execution_count": null,
   "metadata": {
    "id": "qcSEAgFAdte8",
    "is_executing": true
   },
   "outputs": [],
   "source": [
    "redditTopScores[\"POS_sents\"] = redditTopScores[\"sentences\"].apply(\n",
    "    lambda x: tag_sents_pos(x)\n",
    ")"
   ]
  },
  {
   "cell_type": "code",
   "execution_count": null,
   "metadata": {
    "colab": {
     "base_uri": "https://localhost:8080/"
    },
    "executionInfo": {
     "elapsed": 941,
     "status": "ok",
     "timestamp": 1704346312878,
     "user": {
      "displayName": "Likun Cao",
      "userId": "01917344510473464948"
     },
     "user_tz": 360
    },
    "id": "DhsTjNS2dte8",
    "is_executing": true,
    "outputId": "fb59d24f-4a37-474d-bfe8-54df0664f669"
   },
   "outputs": [],
   "source": [
    "redditTopScores[\"POS_sents\"]"
   ]
  },
  {
   "cell_type": "markdown",
   "metadata": {
    "id": "wY5rAd2tdte8"
   },
   "source": [
    "And count the number of `NN` (nouns)"
   ]
  },
  {
   "cell_type": "code",
   "execution_count": null,
   "metadata": {
    "colab": {
     "base_uri": "https://localhost:8080/"
    },
    "executionInfo": {
     "elapsed": 162,
     "status": "ok",
     "timestamp": 1704346314797,
     "user": {
      "displayName": "Likun Cao",
      "userId": "01917344510473464948"
     },
     "user_tz": 360
    },
    "id": "9PTpXskkdte8",
    "is_executing": true,
    "outputId": "376e7dfd-8249-4f4b-cd0c-de96444d3262"
   },
   "outputs": [],
   "source": [
    "countTarget = \"NN\"\n",
    "targetCounts = {}\n",
    "for entry in redditTopScores[\"POS_sents\"]:\n",
    "    for sentence in entry:\n",
    "        for ent, kind in sentence:\n",
    "            if kind != countTarget:\n",
    "                continue\n",
    "            elif ent in targetCounts:\n",
    "                targetCounts[ent] += 1\n",
    "            else:\n",
    "                targetCounts[ent] = 1\n",
    "sortedTargets = sorted(targetCounts.items(), key=lambda x: x[1], reverse=True)\n",
    "sortedTargets[:20]"
   ]
  },
  {
   "cell_type": "markdown",
   "metadata": {
    "id": "71QrVV8pdte9"
   },
   "source": [
    "What about the adjectives that modify the word, \"computer\"?"
   ]
  },
  {
   "cell_type": "code",
   "execution_count": null,
   "metadata": {
    "colab": {
     "base_uri": "https://localhost:8080/"
    },
    "executionInfo": {
     "elapsed": 123,
     "status": "ok",
     "timestamp": 1704346317061,
     "user": {
      "displayName": "Likun Cao",
      "userId": "01917344510473464948"
     },
     "user_tz": 360
    },
    "id": "1Uz9RVNRdte9",
    "is_executing": true,
    "outputId": "766b8673-f8f2-4f01-9540-52a96b447ea1"
   },
   "outputs": [],
   "source": [
    "NTarget = \"JJ\"\n",
    "Word = \"computer\"\n",
    "NResults = set()\n",
    "for entry in redditTopScores[\"POS_sents\"]:\n",
    "    for sentence in entry:\n",
    "        for (ent1, kind1), (ent2, kind2) in zip(sentence[:-1], sentence[1:]):\n",
    "            if (kind1, ent2.lower()) == (NTarget, Word):\n",
    "                NResults.add(ent1)\n",
    "            else:\n",
    "                continue\n",
    "\n",
    "print(NResults)"
   ]
  },
  {
   "cell_type": "markdown",
   "metadata": {
    "id": "cmEPalWVdte9"
   },
   "source": [
    "## <font color=\"red\">Exercise 3</font>\n",
    "\n",
    "<font color=\"red\">In the cells immediately following, perform POS tagging on a meaningful (but modest) \n",
    "subset of a corpus associated with your final project. Examine the list of words associated with at \n",
    "least three different parts of speech. Consider conditional associations (e.g., adjectives associated \n",
    "with nouns or adverbs with verbs of interest). What do these distributions suggest about your corpus?"
   ]
  },
  {
   "cell_type": "code",
   "execution_count": null,
   "metadata": {
    "collapsed": false
   },
   "outputs": [],
   "source": []
  },
  {
   "cell_type": "markdown",
   "metadata": {
    "id": "CRAfAqJndte9"
   },
   "source": [
    "# Collocations"
   ]
  },
  {
   "cell_type": "markdown",
   "metadata": {
    "id": "m2u7fQKkdte9"
   },
   "source": [
    "As illustrated above, we might want to find significant bigrams (two-word phrases), trigrams (three-word phrases), n-grams (*n*-word phrases) or skip-grams (noncontinguous 'phrases' with skip-length *n*).\n",
    "\n",
    "We will begin with the [`nltk.collocations.BigramCollocationFinder`](http://www.nltk.org/api/nltk.html?highlight=bigramcollocationfinder#nltk.collocations.BigramCollocationFinder) class, which can be given raw lists of strings with the `from_words()` method. By default it only looks at continuous bigrams but there is an option (`window_size`) to allow skip-grams."
   ]
  },
  {
   "cell_type": "code",
   "execution_count": null,
   "metadata": {
    "colab": {
     "base_uri": "https://localhost:8080/"
    },
    "executionInfo": {
     "elapsed": 109,
     "status": "ok",
     "timestamp": 1704346321150,
     "user": {
      "displayName": "Likun Cao",
      "userId": "01917344510473464948"
     },
     "user_tz": 360
    },
    "id": "nmxLHUdhdte9",
    "is_executing": true,
    "outputId": "9b251b5c-0df2-4c09-8143-3ac5d4ee60c2"
   },
   "outputs": [],
   "source": [
    "whBigrams = nltk.collocations.BigramCollocationFinder.from_words(\n",
    "    wh_releases[\"normalized_tokens\"].sum()\n",
    ")\n",
    "print(\"There are {} bigrams in the finder\".format(whBigrams.N))"
   ]
  },
  {
   "cell_type": "markdown",
   "metadata": {
    "id": "IKOzXteMdte9"
   },
   "source": [
    "To compare the bigrams we need to tell nltk what our score function is. Initially, we will look at the raw counts."
   ]
  },
  {
   "cell_type": "code",
   "execution_count": null,
   "metadata": {
    "colab": {
     "base_uri": "https://localhost:8080/"
    },
    "executionInfo": {
     "elapsed": 99,
     "status": "ok",
     "timestamp": 1704346323260,
     "user": {
      "displayName": "Likun Cao",
      "userId": "01917344510473464948"
     },
     "user_tz": 360
    },
    "id": "KRBn44m8dte9",
    "is_executing": true,
    "outputId": "5aed7749-8bff-4251-a50c-49830d632f50"
   },
   "outputs": [],
   "source": [
    "def bigramScoring(count, wordsTuple, total):\n",
    "    return count\n",
    "\n",
    "\n",
    "print(whBigrams.nbest(bigramScoring, 10))"
   ]
  },
  {
   "cell_type": "markdown",
   "metadata": {
    "id": "Z_ziex_fdte9"
   },
   "source": [
    "One note about how `BigramCollocationFinder` works. It doesn't use the strings internally."
   ]
  },
  {
   "cell_type": "code",
   "execution_count": null,
   "metadata": {
    "colab": {
     "base_uri": "https://localhost:8080/"
    },
    "executionInfo": {
     "elapsed": 100,
     "status": "ok",
     "timestamp": 1704346325270,
     "user": {
      "displayName": "Likun Cao",
      "userId": "01917344510473464948"
     },
     "user_tz": 360
    },
    "id": "zv9wVxrgdte-",
    "is_executing": true,
    "outputId": "8502e141-2d0e-429a-864b-91dd9eeb80e3"
   },
   "outputs": [],
   "source": [
    "birgramScores = []\n",
    "\n",
    "\n",
    "def bigramPrinting(count, wordsTuple, total):\n",
    "    global birgramScores\n",
    "    birgramScores.append(\n",
    "        \"The first word is:  {}, The second word is: {}\".format(*wordsTuple)\n",
    "    )\n",
    "    # Returns None so all the tuples are considered to have the same rank\n",
    "\n",
    "\n",
    "whBigrams.nbest(bigramPrinting, 10)\n",
    "print(\"\\n\".join(birgramScores[:10]))"
   ]
  },
  {
   "cell_type": "markdown",
   "metadata": {
    "id": "1oRpgm2idte-"
   },
   "source": [
    "The words are each given numeric IDs and there is a dictionary that maps the IDs to \n",
    "the words they represent. This is a common performance optimization.\n",
    "\n",
    "Two words can appear together by chance. Recall from  Manning and Schütze's textbook \n",
    "that a t-value can be computed for each bigram to see how significant the association \n",
    "is. You may also want to try computing the $\\chi^2$, likelihood ratio, and point-wise \n",
    "mutual information statistics."
   ]
  },
  {
   "cell_type": "code",
   "execution_count": null,
   "metadata": {
    "colab": {
     "base_uri": "https://localhost:8080/"
    },
    "executionInfo": {
     "elapsed": 106,
     "status": "ok",
     "timestamp": 1704346327564,
     "user": {
      "displayName": "Likun Cao",
      "userId": "01917344510473464948"
     },
     "user_tz": 360
    },
    "id": "rRf6XTCodte-",
    "is_executing": true,
    "outputId": "6257fef4-eccb-45e4-d193-a6508bdb2b0c"
   },
   "outputs": [],
   "source": [
    "bigram_measures = nltk.collocations.BigramAssocMeasures()\n",
    "whBigrams.score_ngrams(bigram_measures.likelihood_ratio)[:40]\n",
    "# other options include student_t, chi_sq, likelihood_ratio, pmi"
   ]
  },
  {
   "cell_type": "markdown",
   "metadata": {
    "id": "rpsjktB3dte-"
   },
   "source": [
    "There are a few other available measures"
   ]
  },
  {
   "cell_type": "code",
   "execution_count": null,
   "metadata": {
    "colab": {
     "base_uri": "https://localhost:8080/"
    },
    "executionInfo": {
     "elapsed": 143,
     "status": "ok",
     "timestamp": 1704346330322,
     "user": {
      "displayName": "Likun Cao",
      "userId": "01917344510473464948"
     },
     "user_tz": 360
    },
    "id": "azxY68h1dte-",
    "is_executing": true,
    "outputId": "b72bf150-40de-4dd5-9881-24fa1c1e4aff"
   },
   "outputs": [],
   "source": [
    "[s for s in dir(bigram_measures) if s[0] != \"_\"]"
   ]
  },
  {
   "cell_type": "markdown",
   "metadata": {
    "id": "tZaHeE9Adte-"
   },
   "source": [
    "We can also look at trigrams"
   ]
  },
  {
   "cell_type": "code",
   "execution_count": null,
   "metadata": {
    "colab": {
     "base_uri": "https://localhost:8080/"
    },
    "executionInfo": {
     "elapsed": 101,
     "status": "ok",
     "timestamp": 1704346332692,
     "user": {
      "displayName": "Likun Cao",
      "userId": "01917344510473464948"
     },
     "user_tz": 360
    },
    "id": "UzkLZwHndte-",
    "is_executing": true,
    "outputId": "2952b251-6fbf-4e8d-c426-19da8b86de1e"
   },
   "outputs": [],
   "source": [
    "trigram_measures = nltk.collocations.TrigramAssocMeasures()\n",
    "whTrigrams = nltk.collocations.TrigramCollocationFinder.from_words(\n",
    "    wh_releases[\"normalized_tokens\"].sum()\n",
    ")\n",
    "whTrigrams.score_ngrams(trigram_measures.student_t)[:20]"
   ]
  },
  {
   "cell_type": "markdown",
   "metadata": {
    "id": "rW0NLxp5dte-"
   },
   "source": [
    "Or n-grams (for any number n)"
   ]
  },
  {
   "cell_type": "code",
   "execution_count": null,
   "metadata": {
    "colab": {
     "base_uri": "https://localhost:8080/"
    },
    "executionInfo": {
     "elapsed": 111,
     "status": "ok",
     "timestamp": 1704346334643,
     "user": {
      "displayName": "Likun Cao",
      "userId": "01917344510473464948"
     },
     "user_tz": 360
    },
    "id": "PvAz88kHdte-",
    "is_executing": true,
    "outputId": "91e45aa8-e558-4fa3-99b7-4b8466c2506e"
   },
   "outputs": [],
   "source": [
    "Ngrams = nltk.ngrams(wh_releases[\"normalized_tokens\"].sum(), 4)\n",
    "Counts = {}\n",
    "for ngram in list(Ngrams):\n",
    "    if ngram in Counts.keys():\n",
    "        Counts[ngram] += 1\n",
    "    else:\n",
    "        Counts[ngram] = 1\n",
    "Filtered = {}\n",
    "for key in Counts.keys():\n",
    "    if Counts[key] < 2:\n",
    "        pass\n",
    "    else:\n",
    "        Filtered[key] = Counts[key]\n",
    "print(Filtered)"
   ]
  },
  {
   "cell_type": "markdown",
   "metadata": {
    "id": "5b8XPouzdte-"
   },
   "source": [
    "Gensim is another important python text processing package which allows us to use \n",
    "collocations, among other cool methods (which we will explore later weeks)."
   ]
  },
  {
   "cell_type": "code",
   "execution_count": null,
   "metadata": {
    "id": "Z_QtA-madte_",
    "is_executing": true
   },
   "outputs": [],
   "source": []
  },
  {
   "cell_type": "code",
   "execution_count": null,
   "metadata": {
    "id": "l3xxDcGwdte_",
    "is_executing": true
   },
   "outputs": [],
   "source": [
    "bigram = gensim.models.Phrases(wh_releases[\"normalized_tokens\"])"
   ]
  },
  {
   "cell_type": "code",
   "execution_count": null,
   "metadata": {
    "id": "NmNYVIiBdte_",
    "is_executing": true
   },
   "outputs": [],
   "source": [
    "texts = [bigram[line] for line in wh_releases[\"normalized_tokens\"]]"
   ]
  },
  {
   "cell_type": "code",
   "execution_count": null,
   "metadata": {
    "colab": {
     "base_uri": "https://localhost:8080/"
    },
    "executionInfo": {
     "elapsed": 152,
     "status": "ok",
     "timestamp": 1704346342861,
     "user": {
      "displayName": "Likun Cao",
      "userId": "01917344510473464948"
     },
     "user_tz": 360
    },
    "id": "LUKL4KX4dte_",
    "is_executing": true,
    "outputId": "31d6fb16-237c-4d9e-e87a-7202e4a2a62c"
   },
   "outputs": [],
   "source": [
    "texts[0]"
   ]
  },
  {
   "cell_type": "markdown",
   "metadata": {
    "id": "b2EcL6c2dte_"
   },
   "source": [
    "## <font color=\"red\">*Exercise 4*</font>\n",
    "\n",
    "<font color=\"red\">Construct cells immediately below this that identify statistically \n",
    "significant bigrams, trigrams, quadgrams, higher-order *n*grams and skipgrams. Explore \n",
    "whether these collocations are idiomatic and so irreducible to the semantic sum of their \n",
    "component words. You can do this by examination of conditional frequencies (e.g., what \n",
    "else is 'united' besides the 'United States'). If these phrases are idiomatic, what do \n",
    "they suggest about the culture of the world producing them?\n",
    "\n",
    "<font color=\"red\">**Stretch**: In Manning and Schütze's textbook, there Section 5.3.2 \n",
    "explores how to use the *t*-test to find words whose co-occurance patterns best \n",
    "distinguish two words. Implement that and use it to explore phrases in your corpus. \n",
    "For instance, you could tell what words come after \"America\" much more often than \n",
    "after \"Iraq\"?</font>"
   ]
  },
  {
   "cell_type": "code",
   "execution_count": null,
   "metadata": {
    "collapsed": false
   },
   "outputs": [],
   "source": []
  },
  {
   "cell_type": "markdown",
   "metadata": {
    "id": "J_5n8_TTdte_"
   },
   "source": [
    "# Named-Entity Recognition\n",
    "\n",
    "Named Entity Recognition (NER) is also a classification task, which identifies \n",
    "named objects.\n",
    "Like every other part of the pipeline, spaCy also tags words with their tagged \n",
    "entity (https://spacy.io/api/entityrecognizer). You can see the full capacity \n",
    "of what spaCy does by checking out: https://spacy.io/usage/linguistic-features.\n",
    "\n",
    "For training the identification of such entities, spaCy uses a deep learning model."
   ]
  },
  {
   "cell_type": "markdown",
   "metadata": {
    "id": "J22k_LxXdte_"
   },
   "source": [
    "Let's try it on a basic sentence:"
   ]
  },
  {
   "cell_type": "code",
   "execution_count": null,
   "metadata": {
    "id": "ZdYANFMZdte_",
    "is_executing": true
   },
   "outputs": [],
   "source": [
    "sent = nlp(\"Tom went to IKEA to get some of those delicious Swedish meatballs.\")"
   ]
  },
  {
   "cell_type": "code",
   "execution_count": null,
   "metadata": {
    "colab": {
     "base_uri": "https://localhost:8080/"
    },
    "executionInfo": {
     "elapsed": 158,
     "status": "ok",
     "timestamp": 1704346347661,
     "user": {
      "displayName": "Likun Cao",
      "userId": "01917344510473464948"
     },
     "user_tz": 360
    },
    "id": "Iqq6ZsTYdte_",
    "is_executing": true,
    "outputId": "d7c5aefb-d770-48ac-86b1-752a579e56ac"
   },
   "outputs": [],
   "source": [
    "for token in sent:\n",
    "    print(token.text, token.ent_type_)"
   ]
  },
  {
   "cell_type": "markdown",
   "metadata": {
    "id": "NZQ7ufSFdte_"
   },
   "source": [
    "For only finding ents-"
   ]
  },
  {
   "cell_type": "code",
   "execution_count": null,
   "metadata": {
    "colab": {
     "base_uri": "https://localhost:8080/"
    },
    "executionInfo": {
     "elapsed": 138,
     "status": "ok",
     "timestamp": 1704346350980,
     "user": {
      "displayName": "Likun Cao",
      "userId": "01917344510473464948"
     },
     "user_tz": 360
    },
    "id": "gpAa__RWdte_",
    "is_executing": true,
    "outputId": "96b9d42a-5fb5-41ac-9fb7-b86aeff94b5f"
   },
   "outputs": [],
   "source": [
    "for ent in sent.ents:\n",
    "    print(ent.text, ent.label_)"
   ]
  },
  {
   "cell_type": "code",
   "execution_count": null,
   "metadata": {
    "id": "2H8qro6PdtfA",
    "is_executing": true
   },
   "outputs": [],
   "source": [
    "def tag_sents_ner(sentences):\n",
    "    \"\"\"\n",
    "    function which replicates NLTK ner tagging on sentences.\n",
    "    \"\"\"\n",
    "    new_sents = []\n",
    "    for sentence in sentences:\n",
    "        new_sent = \" \".join(sentence)\n",
    "        new_sents.append(new_sent)\n",
    "    final_string = \" \".join(new_sents)\n",
    "    doc = nlp(final_string)\n",
    "\n",
    "    pos_sents = []\n",
    "    for sent in doc.sents:\n",
    "        pos_sent = []\n",
    "        for ent in sent.ents:\n",
    "            pos_sent.append((ent.text, ent.label_))\n",
    "        pos_sents.append(pos_sent)\n",
    "\n",
    "    return pos_sents"
   ]
  },
  {
   "cell_type": "markdown",
   "metadata": {
    "id": "VSiGapOCdtfA"
   },
   "source": [
    "We can also run NER over our entire corpus:"
   ]
  },
  {
   "cell_type": "code",
   "execution_count": null,
   "metadata": {
    "id": "YpZ5Te_4dtfA",
    "is_executing": true
   },
   "outputs": [],
   "source": [
    "redditTopScores[\"classified_sents\"] = redditTopScores[\"sentences\"].apply(\n",
    "    lambda x: tag_sents_ner(x)\n",
    ")"
   ]
  },
  {
   "cell_type": "code",
   "execution_count": null,
   "metadata": {
    "colab": {
     "base_uri": "https://localhost:8080/"
    },
    "executionInfo": {
     "elapsed": 112,
     "status": "ok",
     "timestamp": 1704346356213,
     "user": {
      "displayName": "Likun Cao",
      "userId": "01917344510473464948"
     },
     "user_tz": 360
    },
    "id": "zfCoKxWAdtfA",
    "is_executing": true,
    "outputId": "58a9a3b2-1b91-40d6-c3f6-0f4c68dc8bc8"
   },
   "outputs": [],
   "source": [
    "redditTopScores[\"classified_sents\"]"
   ]
  },
  {
   "cell_type": "markdown",
   "metadata": {
    "id": "Pr8Mt0u7dtfA"
   },
   "source": [
    "Find the most common entities (which are, of course, boring):"
   ]
  },
  {
   "cell_type": "code",
   "execution_count": null,
   "metadata": {
    "colab": {
     "base_uri": "https://localhost:8080/"
    },
    "executionInfo": {
     "elapsed": 149,
     "status": "ok",
     "timestamp": 1704346359542,
     "user": {
      "displayName": "Likun Cao",
      "userId": "01917344510473464948"
     },
     "user_tz": 360
    },
    "id": "uOCoMk47dtfA",
    "is_executing": true,
    "outputId": "f38ee644-7920-4775-91c9-1eb3e81a118a"
   },
   "outputs": [],
   "source": [
    "entityCounts = {}\n",
    "for entry in redditTopScores[\"classified_sents\"]:\n",
    "    for sentence in entry:\n",
    "        for ent, kind in sentence:\n",
    "            if ent in entityCounts:\n",
    "                entityCounts[ent] += 1\n",
    "            else:\n",
    "                entityCounts[ent] = 1\n",
    "sortedEntities = sorted(entityCounts.items(), key=lambda x: x[1], reverse=True)\n",
    "sortedEntities[:10]"
   ]
  },
  {
   "cell_type": "markdown",
   "metadata": {
    "id": "hAzYUFQ8dtfA"
   },
   "source": [
    "Or those occurring only twice:"
   ]
  },
  {
   "cell_type": "code",
   "execution_count": null,
   "metadata": {
    "colab": {
     "base_uri": "https://localhost:8080/"
    },
    "executionInfo": {
     "elapsed": 97,
     "status": "ok",
     "timestamp": 1704346362808,
     "user": {
      "displayName": "Likun Cao",
      "userId": "01917344510473464948"
     },
     "user_tz": 360
    },
    "id": "Vt7rsZ-ndtfA",
    "is_executing": true,
    "outputId": "7c3813cb-47fe-4eb0-84c5-f05f4ec768cd"
   },
   "outputs": [],
   "source": [
    "[x[0] for x in sortedEntities if x[1] == 2]"
   ]
  },
  {
   "cell_type": "markdown",
   "metadata": {
    "id": "YK_bWlt-dtfA"
   },
   "source": [
    "We could also list the most common \"non-objects\". (We note that we're not graphing these because there are so few here.)"
   ]
  },
  {
   "cell_type": "code",
   "execution_count": null,
   "metadata": {
    "colab": {
     "base_uri": "https://localhost:8080/"
    },
    "executionInfo": {
     "elapsed": 115,
     "status": "ok",
     "timestamp": 1704346365231,
     "user": {
      "displayName": "Likun Cao",
      "userId": "01917344510473464948"
     },
     "user_tz": 360
    },
    "id": "4sG5b5XUdtfA",
    "is_executing": true,
    "outputId": "21652042-a26e-4515-cff3-0d1f7ab33ed1"
   },
   "outputs": [],
   "source": [
    "nonObjCounts = {}\n",
    "for entry in redditTopScores[\"classified_sents\"]:\n",
    "    for sentence in entry:\n",
    "        for ent, kind in sentence:\n",
    "            if kind == \"ORG\":\n",
    "                continue\n",
    "            elif ent in nonObjCounts:\n",
    "                nonObjCounts[ent] += 1\n",
    "            else:\n",
    "                nonObjCounts[ent] = 1\n",
    "sortedNonObj = sorted(nonObjCounts.items(), key=lambda x: x[1], reverse=True)\n",
    "sortedNonObj[:10]"
   ]
  },
  {
   "cell_type": "markdown",
   "metadata": {
    "id": "TeakUWYadtfA"
   },
   "source": [
    "What about the Organizations?"
   ]
  },
  {
   "cell_type": "code",
   "execution_count": null,
   "metadata": {
    "colab": {
     "base_uri": "https://localhost:8080/"
    },
    "executionInfo": {
     "elapsed": 106,
     "status": "ok",
     "timestamp": 1704346368711,
     "user": {
      "displayName": "Likun Cao",
      "userId": "01917344510473464948"
     },
     "user_tz": 360
    },
    "id": "oVm1G0iNdtfA",
    "is_executing": true,
    "outputId": "8903b1b1-ccee-4a56-d2a3-7a5403bfad29"
   },
   "outputs": [],
   "source": [
    "OrgCounts = {}\n",
    "for entry in redditTopScores[\"classified_sents\"]:\n",
    "    for sentence in entry:\n",
    "        for ent, kind in sentence:\n",
    "            if kind == \"ORG\":\n",
    "                print(ent)"
   ]
  },
  {
   "cell_type": "markdown",
   "metadata": {
    "id": "PDZ0uB4CdtfB"
   },
   "source": [
    "These, of course, have much smaller counts.\n",
    "\n",
    "In this particular example we didn't find the most interesting entities - you can remedy that in exercise 4!"
   ]
  },
  {
   "cell_type": "markdown",
   "metadata": {
    "id": "1mINIeRVdtfB"
   },
   "source": [
    "## <font color=\"red\">*Exercise 5*</font>\n",
    "\n",
    "<font color=\"red\">In the cells immediately following, perform NER on a (modest) \n",
    "subset of your corpus of interest. List all of the different kinds of entities \n",
    "tagged? What does their distribution suggest about the focus of your corpus? For \n",
    "a subset of your corpus, tally at least one type of named entity and calculate \n",
    "the Precision, Recall and F-score for the NER classification just performed."
   ]
  },
  {
   "cell_type": "code",
   "execution_count": null,
   "metadata": {
    "ExecuteTime": {
     "end_time": "2024-01-17T19:00:30.880871Z",
     "start_time": "2024-01-17T19:00:30.871764Z"
    },
    "collapsed": false
   },
   "outputs": [],
   "source": []
  },
  {
   "cell_type": "markdown",
   "metadata": {
    "id": "g3xN283wdtfB"
   },
   "source": [
    "## Dependency parsing and graph representations\n",
    "\n",
    "Dependency parsing was developed to robustly capture linguistic dependencies from text. \n",
    "The complex tags associated with these parses are detailed [here]('http://universaldependencies.org/u/overview/syntax.html'). When parsing with \n",
    "the dependency parser, we will work directly from the untokenized text. Note that no \n",
    "*processing* takes place before parsing sentences--we do not remove so-called stop \n",
    "words or anything that plays a syntactic role in the sentence, although anaphora \n",
    "resolution and related normalization may be performed before or after parsing to \n",
    "enhance the value of information extraction."
   ]
  },
  {
   "cell_type": "markdown",
   "metadata": {
    "id": "8vSk9-WCdtfB"
   },
   "source": [
    "We will be using spaCy's built in dependancy parser to go about exploring the tree.\n",
    "Note that unlike previous examples, large corpuses or collections of sentences don't \n",
    "give us as much information, so we will be navigating smaller sentences.\n",
    "\n",
    "Let us start by exploring noun chunks. Noun chunks are “base noun phrases” – flat \n",
    "phrases that have a noun as their head. You can think of noun chunks as a noun plus \n",
    "the words describing the noun – for example, “the lavish green grass” or “the world’s \n",
    "largest tech fund”. To get the noun chunks in a document, simply iterate over the \n",
    "sentences noun chunks."
   ]
  },
  {
   "cell_type": "code",
   "execution_count": null,
   "metadata": {
    "id": "5IlbLGDIdtfB",
    "is_executing": true
   },
   "outputs": [],
   "source": [
    "doc = nlp(\"Autonomous cars shift insurance liability toward manufacturers\")"
   ]
  },
  {
   "cell_type": "code",
   "execution_count": null,
   "metadata": {
    "colab": {
     "base_uri": "https://localhost:8080/",
     "height": 144
    },
    "executionInfo": {
     "elapsed": 24,
     "status": "ok",
     "timestamp": 1704346375237,
     "user": {
      "displayName": "Likun Cao",
      "userId": "01917344510473464948"
     },
     "user_tz": 360
    },
    "id": "NuRt0zQ_dtfB",
    "is_executing": true,
    "outputId": "b541ce8f-39a8-43ed-a2d1-14bfa2c10ff7"
   },
   "outputs": [],
   "source": [
    "displacy.render(doc, style=\"dep\")"
   ]
  },
  {
   "cell_type": "code",
   "execution_count": null,
   "metadata": {
    "colab": {
     "base_uri": "https://localhost:8080/"
    },
    "executionInfo": {
     "elapsed": 115,
     "status": "ok",
     "timestamp": 1704346376811,
     "user": {
      "displayName": "Likun Cao",
      "userId": "01917344510473464948"
     },
     "user_tz": 360
    },
    "id": "borsV157dtfB",
    "is_executing": true,
    "outputId": "1cec308c-720d-4b3c-fecc-27d021421319"
   },
   "outputs": [],
   "source": [
    "for chunk in doc.noun_chunks:\n",
    "    print(chunk.text, chunk.root.text, chunk.root.dep_, chunk.root.head.text)"
   ]
  },
  {
   "cell_type": "markdown",
   "metadata": {
    "id": "gE2SAJ2FdtfB"
   },
   "source": [
    "spaCy uses the terms head and child to describe the words connected by a single arc \n",
    "in the dependency tree. The term dep is used for the arc label, which describes the \n",
    "type of syntactic relation that connects the child to the head. As with other \n",
    "attributes, the value of .dep is a hash value. You can get the string value with .dep_.\n",
    "\n",
    "For your reference:\n",
    "\n",
    "Text: The original token text.\n",
    "\n",
    "Dep: The syntactic relation connecting child to head.\n",
    "\n",
    "Head text: The original text of the token head.\n",
    "\n",
    "Head POS: The part-of-speech tag of the token head.\n",
    "\n",
    "Children: The immediate syntactic dependents of the token."
   ]
  },
  {
   "cell_type": "code",
   "execution_count": null,
   "metadata": {
    "colab": {
     "base_uri": "https://localhost:8080/"
    },
    "executionInfo": {
     "elapsed": 118,
     "status": "ok",
     "timestamp": 1704346379947,
     "user": {
      "displayName": "Likun Cao",
      "userId": "01917344510473464948"
     },
     "user_tz": 360
    },
    "id": "zGvKqPtwdtfC",
    "is_executing": true,
    "outputId": "851283d1-86b3-46ee-91fd-2547375c5520"
   },
   "outputs": [],
   "source": [
    "for token in doc:\n",
    "    print(\n",
    "        token.text,\n",
    "        token.dep_,\n",
    "        token.head.text,\n",
    "        token.head.pos_,\n",
    "        [child for child in token.children],\n",
    "    )"
   ]
  },
  {
   "cell_type": "markdown",
   "metadata": {
    "id": "OGtNRJSZdtfC"
   },
   "source": [
    "Because the syntactic relations form a tree, every word has exactly one head. You \n",
    "can therefore iterate over the arcs in the tree by iterating over the words in the \n",
    "sentence. This is usually the best way to match an arc of interest — from below:"
   ]
  },
  {
   "cell_type": "code",
   "execution_count": null,
   "metadata": {
    "colab": {
     "base_uri": "https://localhost:8080/"
    },
    "executionInfo": {
     "elapsed": 115,
     "status": "ok",
     "timestamp": 1704346383004,
     "user": {
      "displayName": "Likun Cao",
      "userId": "01917344510473464948"
     },
     "user_tz": 360
    },
    "id": "WOulCCwcdtfC",
    "is_executing": true,
    "outputId": "a6e73fc6-75c6-4e24-b48e-8eeb83d5b3c3"
   },
   "outputs": [],
   "source": [
    "verbs = set()\n",
    "for possible_subject in doc:\n",
    "    if possible_subject.dep == nsubj and possible_subject.head.pos == VERB:\n",
    "        verbs.add(possible_subject.head)\n",
    "print(verbs)"
   ]
  },
  {
   "cell_type": "markdown",
   "metadata": {
    "id": "uU93QigRdtfC"
   },
   "source": [
    "You can *also* navigate from above. It isn't as efficient though."
   ]
  },
  {
   "cell_type": "code",
   "execution_count": null,
   "metadata": {
    "id": "r0NixzA4dtfC",
    "is_executing": true
   },
   "outputs": [],
   "source": [
    "verbs = []\n",
    "for possible_verb in doc:\n",
    "    if possible_verb.pos == VERB:\n",
    "        for possible_subject in possible_verb.children:\n",
    "            if possible_subject.dep == nsubj:\n",
    "                verbs.append(possible_verb)\n",
    "                break"
   ]
  },
  {
   "cell_type": "code",
   "execution_count": null,
   "metadata": {
    "colab": {
     "base_uri": "https://localhost:8080/"
    },
    "executionInfo": {
     "elapsed": 101,
     "status": "ok",
     "timestamp": 1704346387502,
     "user": {
      "displayName": "Likun Cao",
      "userId": "01917344510473464948"
     },
     "user_tz": 360
    },
    "id": "sWwdMMqLdtfC",
    "is_executing": true,
    "outputId": "5379179c-6c46-42ea-d953-5b598470fd4d"
   },
   "outputs": [],
   "source": [
    "print(verbs)"
   ]
  },
  {
   "cell_type": "markdown",
   "metadata": {
    "id": "sJe3YNkRdtfC"
   },
   "source": [
    "### Iterating around the local tree\n",
    "A few more convenience attributes are provided for iterating around the local tree from the token. Token.lefts and Token.rights attributes provide sequences of syntactic children that occur before and after the token. Both sequences are in sentence order. There are also two integer-typed attributes, Token.n_lefts and Token.n_rights that give the number of left and right children."
   ]
  },
  {
   "cell_type": "code",
   "execution_count": null,
   "metadata": {
    "colab": {
     "base_uri": "https://localhost:8080/"
    },
    "executionInfo": {
     "elapsed": 121,
     "status": "ok",
     "timestamp": 1704346389521,
     "user": {
      "displayName": "Likun Cao",
      "userId": "01917344510473464948"
     },
     "user_tz": 360
    },
    "id": "P5RR2Ge9dtfC",
    "is_executing": true,
    "outputId": "257c9551-25c7-463a-f75d-90f8dc26e4ff"
   },
   "outputs": [],
   "source": [
    "doc = nlp(\"bright red apples on the tree\")\n",
    "print([token.text for token in doc[2].lefts])  # ['bright', 'red']\n",
    "print([token.text for token in doc[2].rights])  # ['on']\n",
    "print(doc[2].n_lefts)  # 2\n",
    "print(doc[2].n_rights)  # 1"
   ]
  },
  {
   "cell_type": "markdown",
   "metadata": {
    "id": "83kud6ZrdtfD"
   },
   "source": [
    "You can get a whole phrase by its syntactic head using the Token.subtree attribute. This returns an ordered sequence of tokens. You can walk up the tree with the Token.ancestors attribute, and check dominance with Token.is_ancestor"
   ]
  },
  {
   "cell_type": "code",
   "execution_count": null,
   "metadata": {
    "colab": {
     "base_uri": "https://localhost:8080/"
    },
    "executionInfo": {
     "elapsed": 121,
     "status": "ok",
     "timestamp": 1704346391891,
     "user": {
      "displayName": "Likun Cao",
      "userId": "01917344510473464948"
     },
     "user_tz": 360
    },
    "id": "GY6p5ZVXdtfD",
    "is_executing": true,
    "outputId": "a4fdebb4-ce54-4cbd-ab09-96f664a11bd4"
   },
   "outputs": [],
   "source": [
    "doc = nlp(\"Credit and mortgage account holders must submit their requests\")\n",
    "\n",
    "root = [token for token in doc if token.head == token][0]\n",
    "subject = list(root.lefts)[0]\n",
    "for descendant in subject.subtree:\n",
    "    assert subject is descendant or subject.is_ancestor(descendant)\n",
    "    print(\n",
    "        descendant.text,\n",
    "        descendant.dep_,\n",
    "        descendant.n_lefts,\n",
    "        descendant.n_rights,\n",
    "        [ancestor.text for ancestor in descendant.ancestors],\n",
    "    )"
   ]
  },
  {
   "cell_type": "markdown",
   "metadata": {
    "id": "2AmArRtfdtfD"
   },
   "source": [
    "Finally, the .left_edge and .right_edge attributes can be especially useful, \n",
    "because they give you the first and last token of the subtree. This is the \n",
    "easiest way to create a Span object for a syntactic phrase. Note that \n",
    ".right_edge gives a token within the subtree — so if you use it as the \n",
    "end-point of a range, don’t forget to +1!"
   ]
  },
  {
   "cell_type": "code",
   "execution_count": null,
   "metadata": {
    "colab": {
     "base_uri": "https://localhost:8080/"
    },
    "executionInfo": {
     "elapsed": 127,
     "status": "ok",
     "timestamp": 1704346394232,
     "user": {
      "displayName": "Likun Cao",
      "userId": "01917344510473464948"
     },
     "user_tz": 360
    },
    "id": "eAarVCTzdtfD",
    "is_executing": true,
    "outputId": "eaae53c4-46b7-4627-90b6-034c33dea34a"
   },
   "outputs": [],
   "source": [
    "span = doc[doc[4].left_edge.i : doc[4].right_edge.i + 1]\n",
    "with doc.retokenize() as retokenizer:\n",
    "    retokenizer.merge(span)\n",
    "for token in doc:\n",
    "    print(token.text, token.pos_, token.dep_, token.head.text)"
   ]
  },
  {
   "cell_type": "code",
   "execution_count": null,
   "metadata": {
    "colab": {
     "base_uri": "https://localhost:8080/",
     "height": 488
    },
    "executionInfo": {
     "elapsed": 121,
     "status": "ok",
     "timestamp": 1704346396482,
     "user": {
      "displayName": "Likun Cao",
      "userId": "01917344510473464948"
     },
     "user_tz": 360
    },
    "id": "ruC3qcxcdtfD",
    "is_executing": true,
    "outputId": "38933a3d-fda7-43e7-8a19-b07e5f2c8f5d"
   },
   "outputs": [],
   "source": [
    "displacy.render(doc, style=\"dep\")"
   ]
  },
  {
   "cell_type": "markdown",
   "metadata": {
    "id": "cWFc6oT0dtfD"
   },
   "source": [
    "### Information Extraction\n",
    "\n",
    "How can dependancy graphs be useful? We can extract information from the sentences based on relationships between words within parsed phrases. Let us see if we can do this to glean any information, from, say, our movies dataset.\n",
    "\n",
    "How violent are the movies? Who is killing who?"
   ]
  },
  {
   "cell_type": "code",
   "execution_count": null,
   "metadata": {
    "id": "YO22aU-KdtfD",
    "is_executing": true
   },
   "outputs": [],
   "source": [
    "movie_violences = {}"
   ]
  },
  {
   "cell_type": "code",
   "execution_count": null,
   "metadata": {
    "colab": {
     "base_uri": "https://localhost:8080/"
    },
    "executionInfo": {
     "elapsed": 135379,
     "status": "ok",
     "timestamp": 1704346931378,
     "user": {
      "displayName": "Likun Cao",
      "userId": "01917344510473464948"
     },
     "user_tz": 360
    },
    "id": "2eXdrnNkdtfD",
    "is_executing": true,
    "outputId": "720aed68-6a81-4d7d-e5c2-5f09edfcc5ef"
   },
   "outputs": [],
   "source": [
    "tqdm.pandas()\n",
    "\n",
    "for index, row in movie_df[0:100].iterrows():\n",
    "    text = \" \".join(row[\"Tokenized Texts\"])\n",
    "    movie_violences[row[\"Movie Name\"]] = ([], [])\n",
    "    doc = nlp(text)\n",
    "    for chunk in doc.noun_chunks:\n",
    "        subject = 0\n",
    "        object_ = 0\n",
    "        # if the verb or the root of the sentence is kill\n",
    "        if chunk.root.head.text == \"kill\":\n",
    "            # we find the subjects and objects around the word, and if it does exist, add it to the tuple\n",
    "            if chunk.root.dep_ == \"nsubj\":\n",
    "                subject = chunk.root.text\n",
    "            if chunk.root.dep_ == \"dobj\":\n",
    "                object_ = chunk.root.text\n",
    "            if subject != 0:\n",
    "                movie_violences[row[\"Movie Name\"]][0].append(subject)\n",
    "            if object_ != 0:\n",
    "                movie_violences[row[\"Movie Name\"]][1].append(object_)"
   ]
  },
  {
   "cell_type": "code",
   "execution_count": null,
   "metadata": {
    "colab": {
     "base_uri": "https://localhost:8080/"
    },
    "executionInfo": {
     "elapsed": 140,
     "status": "ok",
     "timestamp": 1704347028632,
     "user": {
      "displayName": "Likun Cao",
      "userId": "01917344510473464948"
     },
     "user_tz": 360
    },
    "id": "CKuvs9CBdtfD",
    "is_executing": true,
    "outputId": "7374f9a1-a8f5-4e38-f78c-046d93bf463d"
   },
   "outputs": [],
   "source": [
    "movie_violences"
   ]
  },
  {
   "cell_type": "markdown",
   "metadata": {
    "id": "k4OfK8nSdtfD"
   },
   "source": [
    "That's pretty neat: we can see who tried to kill who, or at least talked about \n",
    "it. A lot of 'I' killing 'you', as we'd imagine. What else can we see?\n",
    "\n",
    "The movie, about time, which is about time travel, funnily enough has:\n",
    "`'About Time': (['I'], ['Hitler'])`"
   ]
  },
  {
   "cell_type": "markdown",
   "metadata": {
    "id": "4UvmQgdEdtfD"
   },
   "source": [
    "## <font color=\"red\">*Exercise 6*</font>\n",
    "\n",
    "<font color=\"red\">In the cells immediately following, parse a (modest) subset of your \n",
    "corpus of interest. How deep are the phrase structure and dependency parse trees nested? \n",
    "How does parse depth relate to perceived sentence complexity? What are five things you \n",
    "can extract from these parses for subsequent analysis? (e.g., nouns collocated in a \n",
    "noun phrase; adjectives that modify a noun; etc.) Capture these sets of things for \n",
    "a focal set of words (e.g., \"Bush\", \"Obama\", \"Trump\"). What do they reveal about \n",
    "the roles that these entities are perceived to play in the social world inscribed \n",
    "by your texts?"
   ]
  },
  {
   "cell_type": "code",
   "execution_count": null,
   "metadata": {
    "collapsed": false
   },
   "outputs": [],
   "source": []
  },
  {
   "cell_type": "markdown",
   "metadata": {
    "id": "WLof01qddtfD"
   },
   "source": [
    "# Distributional distances\n",
    "\n",
    "If we want to compare different corpora, we need a distance or divergence that compares the two distributions.\n",
    "\n",
    "We will use the:\n",
    "\n",
    "+ Kullback-Leibler (KL) divergence\n",
    "+ $\\chi^2$ divergence\n",
    "+ Kolmogorov-Smirnov (KS) distance\n",
    "+ Wasserstein distance\n",
    "\n",
    "### Kullback-Leibler and $x^2$ divergences ###\n",
    "\n",
    "KL and $\\chi^2$ divergences are members of the broader <a \"href=https://en.wikipedia.org/wiki/F-divergence\" target=\"_blank\">$f$-divergence</a> family, a function of $D_f (P || Q)$ that calculates the difference between two probability distributions P and Q. The KL $f(t)$ is $ t \\text{ log } t $, while the $\\chi^2$ is $t^2-1$. KL comes from information and $\\chi^2$ from measure theory. As such, the KL divergence computes the relative entropy between two distributions--how they differ in bits, while the $\\chi^2$ whether the same statistical inferences can be drawn from them both.  \n",
    "\n",
    "Specifically, given two discrete probability distributions $P$ and $Q$, the Kullback-Leibler divergence from $Q$ to $P$ is defined as:\n",
    "\n",
    "$D_{\\mathrm{KL}}(P\\|Q) = \\sum_i P(i) \\, \\log\\frac{P(i)}{Q(i)}$.\n",
    "\n",
    "The [scipy.stats.entropy()](https://docs.scipy.org/doc/scipy/reference/generated/scipy.stats.entropy.html) function does the calculation for you, which takes in two arrays of probabilities and computes the KL divergence. Note that the KL divergence is in general not commutative, i.e. $D_{\\mathrm{KL}}(P\\|Q) \\neq D_{\\mathrm{KL}}(Q\\|P)$ .\n",
    "\n",
    "Also note that the KL divernce is the sum of elementwise divergences. Scipy provides [scipy.special.kl_div()](https://docs.scipy.org/doc/scipy/reference/generated/scipy.special.kl_div.html#scipy-special-kl-div) which calculates elementwise divergences for you.\n",
    "\n",
    "The $\\chi^2$ Divergence is defined as:\n",
    "\n",
    "$D_{\\mathrm{\\chi^2}}(P\\|Q) = \\sum_i \\left(\\frac{P(i)}{Q(i)}-1\\right)^2$.\n",
    "\n",
    "This is also noncommutative, and the code can be drawn directly from scipy.\n",
    "\n",
    "### Kolmogorov-Smirnov ###\n",
    "\n",
    "The two-sample Kolmogovorov-Smirnov test statistic calculates the distance between the cumulative distribution function of the two distributions to be compared, and, along with the $x^2$ divergence, is among the most common approaches two calculating a distance in statistics. It can be interpreted as a test of whether two distributions are drawn from the same underlying distribution. As with the others, the code is readily available in scipy.\n",
    "\n",
    "### Wasserstein Distance ###\n",
    "\n",
    "When this is computed on a Euclidian metric structure (e.g., numbers of words), this is also known as the earth mover’s distance, because it can be seen as the minimum amount of \"work\" required to transform $P$ into $Q$, where \"work\" is measured as the amount of distribution weight that must be moved, multiplied by the distance it has to be moved.\n",
    "\n",
    "### Computing ###\n",
    "\n",
    "To do this we will need to create the arrays, lets compare the Whitehouse releases with the Kennedy releases. First we have to download them and load them into a DataFrame."
   ]
  },
  {
   "cell_type": "code",
   "execution_count": null,
   "metadata": {
    "colab": {
     "base_uri": "https://localhost:8080/",
     "height": 625
    },
    "executionInfo": {
     "elapsed": 2616,
     "status": "ok",
     "timestamp": 1704347044299,
     "user": {
      "displayName": "Likun Cao",
      "userId": "01917344510473464948"
     },
     "user_tz": 360
    },
    "id": "xCIQi1tudtfD",
    "is_executing": true,
    "outputId": "250fe7a9-f2db-46c2-fdab-cd3dfd824cb2"
   },
   "outputs": [],
   "source": [
    "kenReleases = get_github_files(\n",
    "    \"https://api.github.com/repos/lintool/GrimmerSenatePressReleases/contents/raw/Kennedy\",\n",
    "    max_files=10,\n",
    ")\n",
    "kenReleases[:5]"
   ]
  },
  {
   "cell_type": "markdown",
   "metadata": {
    "id": "2LdN7a6pdtfE"
   },
   "source": [
    "Then we can tokenize, stem and remove stop words, like we did for the Whitehouse press releases"
   ]
  },
  {
   "cell_type": "code",
   "execution_count": null,
   "metadata": {
    "colab": {
     "base_uri": "https://localhost:8080/"
    },
    "executionInfo": {
     "elapsed": 1378,
     "status": "ok",
     "timestamp": 1704347045667,
     "user": {
      "displayName": "Likun Cao",
      "userId": "01917344510473464948"
     },
     "user_tz": 360
    },
    "id": "wrG3wdCTdtfE",
    "is_executing": true,
    "outputId": "1a264646-ce19-446b-f493-8f91a4ae1a40"
   },
   "outputs": [],
   "source": [
    "kenReleases[\"tokenized_text\"] = kenReleases[\"text\"].apply(lambda x: word_tokenize(x))\n",
    "kenReleases[\"normalized_tokens\"] = kenReleases[\"tokenized_text\"].apply(\n",
    "    lambda x: normalize_tokens(x)\n",
    ")"
   ]
  },
  {
   "cell_type": "markdown",
   "metadata": {
    "id": "BVtmXEZJdtfE"
   },
   "source": [
    "Now we need to compare the two collection of words, remove those not found in both, and assign the remaining ones indices."
   ]
  },
  {
   "cell_type": "code",
   "execution_count": null,
   "metadata": {
    "colab": {
     "base_uri": "https://localhost:8080/"
    },
    "executionInfo": {
     "elapsed": 125,
     "status": "ok",
     "timestamp": 1704347046250,
     "user": {
      "displayName": "Likun Cao",
      "userId": "01917344510473464948"
     },
     "user_tz": 360
    },
    "id": "ddf1XV8odtfE",
    "is_executing": true,
    "outputId": "433c6511-8517-4d5e-909d-2751d36babf5"
   },
   "outputs": [],
   "source": [
    "whWords = set(wh_releases[\"normalized_tokens\"].sum())\n",
    "kenWords = set(kenReleases[\"normalized_tokens\"].sum())\n",
    "\n",
    "# Change & to | if you want to keep all words\n",
    "overlapWords = whWords & kenWords\n",
    "\n",
    "overlapWordsDict = {word: index for index, word in enumerate(overlapWords)}\n",
    "overlapWordsDict[\"student\"]"
   ]
  },
  {
   "cell_type": "markdown",
   "metadata": {
    "id": "yk5fy_-EdtfE"
   },
   "source": [
    "Now we can count the occurrences of each word in the corpora and create our arrays. Note that we don't have to use numpy arrays as we do here. We could just use a list, but the arrays are faster in numpy so we encourage you to get in the habit of using them."
   ]
  },
  {
   "cell_type": "code",
   "execution_count": null,
   "metadata": {
    "colab": {
     "base_uri": "https://localhost:8080/"
    },
    "executionInfo": {
     "elapsed": 119,
     "status": "ok",
     "timestamp": 1704347048210,
     "user": {
      "displayName": "Likun Cao",
      "userId": "01917344510473464948"
     },
     "user_tz": 360
    },
    "id": "72oWbT36dtfE",
    "is_executing": true,
    "outputId": "d2c6381d-7644-423a-e87f-e2b04f0bb7d6"
   },
   "outputs": [],
   "source": [
    "def makeProbsArray(dfColumn, overlapDict):\n",
    "    words = dfColumn.sum()\n",
    "    countList = [0] * len(overlapDict)\n",
    "    for word in words:\n",
    "        try:\n",
    "            countList[overlapDict[word]] += 1\n",
    "        except KeyError:\n",
    "            # The word is not common so we skip it\n",
    "            pass\n",
    "    countArray = np.array(countList)\n",
    "    return countArray / countArray.sum()\n",
    "\n",
    "\n",
    "whProbArray = makeProbsArray(wh_releases[\"normalized_tokens\"], overlapWordsDict)\n",
    "kenProbArray = makeProbsArray(kenReleases[\"normalized_tokens\"], overlapWordsDict)\n",
    "kenProbArray.sum()\n",
    "# There is a little bit of a floating point math error\n",
    "# but it's too small to see with print and too small matter here"
   ]
  },
  {
   "cell_type": "markdown",
   "metadata": {
    "id": "Z2Xx89QpdtfE"
   },
   "source": [
    "We can now compute the KL divergence. Pay attention to the asymmetry. Use [the Jensen–Shannon divergence](https://en.wikipedia.org/wiki/Jensen%E2%80%93Shannon_divergence), which is the average KL divergence between each distribution and the average of both distributions (i.e., the midpoint), if you want symmetry."
   ]
  },
  {
   "cell_type": "code",
   "execution_count": null,
   "metadata": {
    "colab": {
     "base_uri": "https://localhost:8080/"
    },
    "executionInfo": {
     "elapsed": 122,
     "status": "ok",
     "timestamp": 1704347050248,
     "user": {
      "displayName": "Likun Cao",
      "userId": "01917344510473464948"
     },
     "user_tz": 360
    },
    "id": "HFY5wQWadtfE",
    "is_executing": true,
    "outputId": "44bcd2c5-8245-407a-bfda-cdf09ca2a309"
   },
   "outputs": [],
   "source": [
    "wh_kenDivergence = scipy.stats.entropy(whProbArray, kenProbArray)\n",
    "print(wh_kenDivergence)\n",
    "ken_whDivergence = scipy.stats.entropy(kenProbArray, whProbArray)\n",
    "print(ken_whDivergence)"
   ]
  },
  {
   "cell_type": "markdown",
   "metadata": {
    "id": "0EQXhiXOdtfF"
   },
   "source": [
    "Then, we can do the elementwise calculation and see which words best distinguish the two corpora."
   ]
  },
  {
   "cell_type": "code",
   "execution_count": null,
   "metadata": {
    "colab": {
     "base_uri": "https://localhost:8080/",
     "height": 362
    },
    "executionInfo": {
     "elapsed": 142,
     "status": "ok",
     "timestamp": 1704347052149,
     "user": {
      "displayName": "Likun Cao",
      "userId": "01917344510473464948"
     },
     "user_tz": 360
    },
    "id": "vJeC6hYgdtfF",
    "is_executing": true,
    "outputId": "25f61e94-5b70-4018-e1f8-afc6fe368667"
   },
   "outputs": [],
   "source": [
    "wh_kenDivergence_ew = scipy.special.kl_div(whProbArray, kenProbArray)\n",
    "kl_df = pandas.DataFrame(\n",
    "    list(overlapWordsDict.keys()),\n",
    "    columns=[\"word\"],\n",
    "    index=list(overlapWordsDict.values()),\n",
    ")\n",
    "kl_df = kl_df.sort_index()\n",
    "kl_df[\"elementwise divergence\"] = wh_kenDivergence_ew\n",
    "kl_df[:10]"
   ]
  },
  {
   "cell_type": "code",
   "execution_count": null,
   "metadata": {
    "colab": {
     "base_uri": "https://localhost:8080/",
     "height": 362
    },
    "executionInfo": {
     "elapsed": 160,
     "status": "ok",
     "timestamp": 1704347054746,
     "user": {
      "displayName": "Likun Cao",
      "userId": "01917344510473464948"
     },
     "user_tz": 360
    },
    "id": "-P83nFegdtfF",
    "is_executing": true,
    "outputId": "c3000979-d1d8-4534-ed12-1b9e8c2d60a5"
   },
   "outputs": [],
   "source": [
    "kl_df.sort_values(by=\"elementwise divergence\", ascending=False)[:10]"
   ]
  },
  {
   "cell_type": "markdown",
   "metadata": {
    "id": "xP5O_V1gdtfF"
   },
   "source": [
    "Now we will apply what we learned today\n",
    "First, let's transform every text into normalized tokens. Note that in this first step, no stopword is removed.\n",
    "We'll use only the first 11 movies: you are welcome to try more."
   ]
  },
  {
   "cell_type": "code",
   "execution_count": null,
   "metadata": {
    "id": "XVhMzu6bdtfF",
    "is_executing": true
   },
   "outputs": [],
   "source": [
    "corpora = []\n",
    "for index, row in movie_df.iterrows():\n",
    "    if len(corpora) > 10:\n",
    "        break\n",
    "    corpora.append(row[\"Tokenized Texts\"])"
   ]
  },
  {
   "cell_type": "markdown",
   "metadata": {
    "id": "rkgxlDDXdtfF"
   },
   "source": [
    "Then, let's separate the normalized tokens into stopwords and non-stopwords."
   ]
  },
  {
   "cell_type": "code",
   "execution_count": null,
   "metadata": {
    "id": "JwETksSSdtfF",
    "is_executing": true
   },
   "outputs": [],
   "source": [
    "corpora_s = []\n",
    "corpora_nons = []\n",
    "for corpus in corpora:\n",
    "    s = []\n",
    "    nons = []\n",
    "    doc = nlp(\" \".join(corpus))\n",
    "    for word in doc:\n",
    "        if word.is_stop:\n",
    "            s.append(word.text)\n",
    "        else:\n",
    "            nons.append(word.text)\n",
    "    corpora_s.append(s)\n",
    "    corpora_nons.append(nons)"
   ]
  },
  {
   "cell_type": "markdown",
   "metadata": {
    "id": "ghT97UCWdtfF"
   },
   "source": [
    "Define some covenient funtions for calculating divergence and distances."
   ]
  },
  {
   "cell_type": "code",
   "execution_count": null,
   "metadata": {
    "id": "AzgqiWu_dtfG",
    "is_executing": true
   },
   "outputs": [],
   "source": [
    "def kl_divergence(X, Y):\n",
    "    P = X.copy()\n",
    "    Q = Y.copy()\n",
    "    P.columns = [\"P\"]\n",
    "    Q.columns = [\"Q\"]\n",
    "    df = Q.join(P).fillna(0)\n",
    "    p = df.iloc[:, 1]\n",
    "    q = df.iloc[:, 0]\n",
    "    D_kl = scipy.stats.entropy(p, q)\n",
    "    return D_kl\n",
    "\n",
    "\n",
    "def chi2_divergence(X, Y):\n",
    "    P = X.copy()\n",
    "    Q = Y.copy()\n",
    "    P.columns = [\"P\"]\n",
    "    Q.columns = [\"Q\"]\n",
    "    df = Q.join(P).fillna(0)\n",
    "    p = df.iloc[:, 1]\n",
    "    q = df.iloc[:, 0]\n",
    "    return scipy.stats.chisquare(p, q).statistic\n",
    "\n",
    "\n",
    "def Divergence(corpus1, corpus2, difference=\"KL\"):\n",
    "    \"\"\"Difference parameter can equal KL, Chi2, or Wass\"\"\"\n",
    "    freqP = nltk.FreqDist(corpus1)\n",
    "    P = pandas.DataFrame(\n",
    "        list(freqP.values()), columns=[\"frequency\"], index=list(freqP.keys())\n",
    "    )\n",
    "    freqQ = nltk.FreqDist(corpus2)\n",
    "    Q = pandas.DataFrame(\n",
    "        list(freqQ.values()), columns=[\"frequency\"], index=list(freqQ.keys())\n",
    "    )\n",
    "    if difference == \"KL\":\n",
    "        return kl_divergence(P, Q)\n",
    "    elif difference == \"Chi2\":\n",
    "        return chi2_divergence(P, Q)\n",
    "    elif difference == \"KS\":\n",
    "        try:\n",
    "            return scipy.stats.ks_2samp(P[\"frequency\"], Q[\"frequency\"]).statistic\n",
    "        except:\n",
    "            return scipy.stats.ks_2samp(P[\"frequency\"], Q[\"frequency\"])\n",
    "    elif difference == \"Wasserstein\":\n",
    "        try:\n",
    "            return scipy.stats.wasserstein_distance(\n",
    "                P[\"frequency\"], Q[\"frequency\"], u_weights=None, v_weights=None\n",
    "            ).statistic\n",
    "        except:\n",
    "            return scipy.stats.wasserstein_distance(\n",
    "                P[\"frequency\"], Q[\"frequency\"], u_weights=None, v_weights=None\n",
    "            )"
   ]
  },
  {
   "cell_type": "markdown",
   "metadata": {
    "id": "muZPALxydtfG"
   },
   "source": [
    "Now we will calculate the KL divergence for each pair of corpora, turn the results into a matrix, and visualize the matrix as a heatmap. Recall that $D_{\\mathrm{KL}}(P\\|Q)$ measures the amount of information loss when $Q$ is used to approximate $P$. Here, the rows are the $P$s used for calculating KL divergences, and the columns are the $Q$s. So, each cell measures the amount of information loss when the word distribution of the column text is used to approximate the word distribution of the row text. Because the KL divergence is directional, such that the divergence of $P$ from $Q$ is different from the same of $Q$ from $P$, the matrix is assymetric and contains unique information above and below the diagonal. The same is true for the $\\chi^2$ divergence."
   ]
  },
  {
   "cell_type": "code",
   "execution_count": null,
   "metadata": {
    "colab": {
     "base_uri": "https://localhost:8080/"
    },
    "executionInfo": {
     "elapsed": 14,
     "status": "ok",
     "timestamp": 1704347072678,
     "user": {
      "displayName": "Likun Cao",
      "userId": "01917344510473464948"
     },
     "user_tz": 360
    },
    "id": "r_i2teHKdtfG",
    "is_executing": true,
    "outputId": "020a3361-0daf-450c-c190-d6985d43ee0d"
   },
   "outputs": [],
   "source": [
    "len(corpora)"
   ]
  },
  {
   "cell_type": "code",
   "execution_count": null,
   "metadata": {
    "id": "QhjUjFHzdtfG",
    "is_executing": true
   },
   "outputs": [],
   "source": [
    "fileids = list(movie_df[\"Movie Name\"])[0:11]"
   ]
  },
  {
   "cell_type": "code",
   "execution_count": null,
   "metadata": {
    "colab": {
     "base_uri": "https://localhost:8080/",
     "height": 601
    },
    "executionInfo": {
     "elapsed": 2475,
     "status": "ok",
     "timestamp": 1704347083494,
     "user": {
      "displayName": "Likun Cao",
      "userId": "01917344510473464948"
     },
     "user_tz": 360
    },
    "id": "qv3fgqj5dtfG",
    "is_executing": true,
    "outputId": "ab26db7d-3832-4b96-93a5-d7fac04d5f44"
   },
   "outputs": [],
   "source": [
    "super_l = []\n",
    "for p in corpora:\n",
    "    sub_l = []\n",
    "    for q in corpora:\n",
    "        sub_l.append(Divergence(p, q, difference=\"KL\"))\n",
    "    super_l.append(sub_l)\n",
    "M = np.array(super_l)\n",
    "fig = plt.figure()\n",
    "div = pandas.DataFrame(M, columns=fileids, index=fileids)\n",
    "ax = sns.heatmap(div)\n",
    "plt.show()"
   ]
  },
  {
   "cell_type": "markdown",
   "metadata": {
    "id": "wc-p-JX-dtfG"
   },
   "source": [
    "\n",
    "To reveal more patterns, let's do a multidimensional scaling of the matrix."
   ]
  },
  {
   "cell_type": "code",
   "execution_count": null,
   "metadata": {
    "colab": {
     "base_uri": "https://localhost:8080/",
     "height": 583
    },
    "executionInfo": {
     "elapsed": 485,
     "status": "ok",
     "timestamp": 1704347084076,
     "user": {
      "displayName": "Likun Cao",
      "userId": "01917344510473464948"
     },
     "user_tz": 360
    },
    "id": "s2qIc00ndtfG",
    "is_executing": true,
    "outputId": "b437f237-fb5f-4b50-b1ed-e9c496bbd628"
   },
   "outputs": [],
   "source": [
    "mds = sklearn.manifold.MDS()\n",
    "pos = mds.fit(M).embedding_\n",
    "x = pos[:, 0]\n",
    "y = pos[:, 1]\n",
    "fig, ax = plt.subplots(figsize=(6, 6))\n",
    "plt.plot(x, y, \" \")\n",
    "for i, txt in enumerate(fileids):\n",
    "    ax.annotate(txt, (x[i], y[i]))"
   ]
  },
  {
   "cell_type": "markdown",
   "metadata": {
    "id": "3ZCLEQOUdtfG"
   },
   "source": [
    "A co-respondent's course and The Chain Gang are away from the others - any guesses why?\n",
    "\n",
    "We may just want to focus on the distrbution of stopwords or non-stopwords. Let's do the analysis again first for stopwords and then for non-stopwords."
   ]
  },
  {
   "cell_type": "code",
   "execution_count": null,
   "metadata": {
    "colab": {
     "base_uri": "https://localhost:8080/",
     "height": 601
    },
    "executionInfo": {
     "elapsed": 2652,
     "status": "ok",
     "timestamp": 1704347091099,
     "user": {
      "displayName": "Likun Cao",
      "userId": "01917344510473464948"
     },
     "user_tz": 360
    },
    "id": "SlXZp3GxdtfG",
    "is_executing": true,
    "outputId": "4393b47a-8cde-4480-f1a5-2ad75cbb2aae"
   },
   "outputs": [],
   "source": [
    "super_l = []\n",
    "for p in corpora_s:\n",
    "    sub_l = []\n",
    "    for q in corpora_s:\n",
    "        sub_l.append(Divergence(p, q, difference=\"KL\"))\n",
    "    super_l.append(sub_l)\n",
    "M = np.array(super_l)\n",
    "fig = plt.figure()\n",
    "div = pandas.DataFrame(M, columns=fileids, index=fileids)\n",
    "ax = sns.heatmap(div)\n",
    "plt.show()"
   ]
  },
  {
   "cell_type": "code",
   "execution_count": null,
   "metadata": {
    "colab": {
     "base_uri": "https://localhost:8080/",
     "height": 601
    },
    "executionInfo": {
     "elapsed": 2148,
     "status": "ok",
     "timestamp": 1704347093233,
     "user": {
      "displayName": "Likun Cao",
      "userId": "01917344510473464948"
     },
     "user_tz": 360
    },
    "id": "L62dilOCdtfG",
    "is_executing": true,
    "outputId": "8a7419fc-7bd7-4785-8876-4b45e4d45ac6"
   },
   "outputs": [],
   "source": [
    "super_l = []\n",
    "for p in corpora_nons:\n",
    "    sub_l = []\n",
    "    for q in corpora_nons:\n",
    "        sub_l.append(Divergence(p, q, difference=\"KL\"))\n",
    "    super_l.append(sub_l)\n",
    "M = np.array(super_l)\n",
    "fig = plt.figure()\n",
    "div = pandas.DataFrame(M, columns=fileids, index=fileids)\n",
    "ax = sns.heatmap(div)\n",
    "plt.show()"
   ]
  },
  {
   "cell_type": "markdown",
   "metadata": {
    "id": "feBcIBvUdtfH",
    "scrolled": true
   },
   "source": [
    "For the KS distance:"
   ]
  },
  {
   "cell_type": "code",
   "execution_count": null,
   "metadata": {
    "colab": {
     "base_uri": "https://localhost:8080/",
     "height": 601
    },
    "executionInfo": {
     "elapsed": 3315,
     "status": "ok",
     "timestamp": 1704348677025,
     "user": {
      "displayName": "Likun Cao",
      "userId": "01917344510473464948"
     },
     "user_tz": 360
    },
    "id": "0HFm6DS1dtfH",
    "is_executing": true,
    "outputId": "f21fff2d-7040-4750-9109-df496827a266"
   },
   "outputs": [],
   "source": [
    "super_l = []\n",
    "for p in corpora_nons:\n",
    "    sub_l = []\n",
    "    for q in corpora_nons:\n",
    "        sub_l.append(Divergence(p, q, difference=\"KS\"))\n",
    "    super_l.append(sub_l)\n",
    "M = np.array(super_l)\n",
    "fig = plt.figure()\n",
    "div = pandas.DataFrame(M, columns=fileids, index=fileids)\n",
    "ax = sns.heatmap(div)\n",
    "plt.show()"
   ]
  },
  {
   "cell_type": "markdown",
   "metadata": {
    "id": "TGKnqJvodtfH"
   },
   "source": [
    "And finally for the Wasserstein or \"earth mover's\" Distance."
   ]
  },
  {
   "cell_type": "code",
   "execution_count": null,
   "metadata": {
    "colab": {
     "base_uri": "https://localhost:8080/",
     "height": 601
    },
    "executionInfo": {
     "elapsed": 2254,
     "status": "ok",
     "timestamp": 1704348679451,
     "user": {
      "displayName": "Likun Cao",
      "userId": "01917344510473464948"
     },
     "user_tz": 360
    },
    "id": "2yTtOr0zdtfH",
    "is_executing": true,
    "outputId": "35ce2aeb-61fd-45c6-86ab-605983b978da"
   },
   "outputs": [],
   "source": [
    "super_l = []\n",
    "for p in corpora_nons:\n",
    "    sub_l = []\n",
    "    for q in corpora_nons:\n",
    "        sub_l.append(Divergence(p, q, difference=\"Wasserstein\"))\n",
    "    super_l.append(sub_l)\n",
    "M = np.array(super_l)\n",
    "fig = plt.figure()\n",
    "div = pandas.DataFrame(M, columns=fileids, index=fileids)\n",
    "ax = sns.heatmap(div)\n",
    "plt.show()"
   ]
  },
  {
   "cell_type": "markdown",
   "metadata": {
    "id": "QoqDCD2RdtfH"
   },
   "source": [
    "You can see that decade X is highly divergent and this makes reading the plot somewhat difficult. Let's fix this by taking the log of each cell, which will reduce the distance of decode X from other texts as an outlier."
   ]
  },
  {
   "cell_type": "code",
   "execution_count": null,
   "metadata": {
    "colab": {
     "base_uri": "https://localhost:8080/",
     "height": 602
    },
    "executionInfo": {
     "elapsed": 719,
     "status": "ok",
     "timestamp": 1704348685270,
     "user": {
      "displayName": "Likun Cao",
      "userId": "01917344510473464948"
     },
     "user_tz": 360
    },
    "id": "c8IcQadEdtfH",
    "is_executing": true,
    "outputId": "9e11027b-7885-41c9-e8d5-49d245dd52e6"
   },
   "outputs": [],
   "source": [
    "ax = sns.heatmap(div.apply(np.log).replace([np.inf, -np.inf], np.nan))\n",
    "plt.show()"
   ]
  },
  {
   "cell_type": "markdown",
   "metadata": {
    "id": "mC40e7uydtfH"
   },
   "source": [
    "We only tried 11 movies, and from the same time period, so our signals might not be too interesting. What about different time periods?\n",
    "\n",
    "An interesting experiment to maybe get some clearer signals: documents by decade in the Davies Corpus Of Historial American English (COHA) and see if we can detect patterns between them.\n",
    "\n",
    "If we want to rerun this on a new data set of our own composition, we can be a bit more efficient with our coding. Let's use the Shakespeare texts from last week as example. Here we again make use of our convenient `lucem_illud` functions, namely `loadTextDirectory`, which is found in [loaders.py](https://github.com/UChicago-Computational-Content-Analysis/lucem_illud/blob/main/lucem_illud/loaders.py)."
   ]
  },
  {
   "cell_type": "code",
   "execution_count": null,
   "metadata": {
    "id": "2ZQK2QY3dtfH",
    "is_executing": true
   },
   "outputs": [],
   "source": [
    "def loadTextDirectory(targetDir, encoding=\"utf-8\"):\n",
    "    text = []\n",
    "    fileName = []\n",
    "\n",
    "    for file in (\n",
    "        file\n",
    "        for file in os.scandir(targetDir)\n",
    "        if file.is_file() and not file.name.startswith(\".\")\n",
    "    ):\n",
    "        with open(file.path, encoding=encoding) as f:\n",
    "            text.append(f.read())\n",
    "        fileName.append(file.name)\n",
    "    return pandas.DataFrame({\"text\": text}, index=fileName)"
   ]
  },
  {
   "cell_type": "code",
   "execution_count": null,
   "metadata": {
    "executionInfo": {
     "elapsed": 216,
     "status": "ok",
     "timestamp": 1704349253549,
     "user": {
      "displayName": "Likun Cao",
      "userId": "01917344510473464948"
     },
     "user_tz": 360
    },
    "id": "GS0Hcq_xdtfH",
    "is_executing": true
   },
   "outputs": [],
   "source": [
    "shakespeare_df = lucem_illud.loadTextDirectory(\"../data/Shakespeare\")"
   ]
  },
  {
   "cell_type": "markdown",
   "metadata": {
    "id": "O4yqMqBxdtfH"
   },
   "source": [
    "Now we stem and remove stopwords"
   ]
  },
  {
   "cell_type": "code",
   "execution_count": null,
   "metadata": {
    "colab": {
     "base_uri": "https://localhost:8080/"
    },
    "executionInfo": {
     "elapsed": 7712,
     "status": "ok",
     "timestamp": 1704349263391,
     "user": {
      "displayName": "Likun Cao",
      "userId": "01917344510473464948"
     },
     "user_tz": 360
    },
    "id": "c1XL-MqNdtfH",
    "is_executing": true,
    "outputId": "17101dbc-7037-43e7-9de1-3d69a48180a3"
   },
   "outputs": [],
   "source": [
    "shakespeare_df[\"tokenized_text\"] = shakespeare_df[\"text\"].apply(\n",
    "    lambda x: word_tokenize(x)\n",
    ")\n",
    "shakespeare_df[\"normalized_tokens\"] = shakespeare_df[\"tokenized_text\"].apply(\n",
    "    lambda x: normalize_tokens(x)\n",
    ")"
   ]
  },
  {
   "cell_type": "markdown",
   "metadata": {
    "id": "p-78uZl2dtfI"
   },
   "source": [
    "Create the corpus file and generate the heatmap:"
   ]
  },
  {
   "cell_type": "code",
   "execution_count": null,
   "metadata": {
    "colab": {
     "base_uri": "https://localhost:8080/",
     "height": 629
    },
    "executionInfo": {
     "elapsed": 24,
     "status": "ok",
     "timestamp": 1704349270156,
     "user": {
      "displayName": "Likun Cao",
      "userId": "01917344510473464948"
     },
     "user_tz": 360
    },
    "id": "29hLNVdAdtfI",
    "is_executing": true,
    "outputId": "489422fc-f421-429d-8f71-adfd94d5267c"
   },
   "outputs": [],
   "source": [
    "measure = \"KS\"  # \"KL\", \"Chi2\", \"KS\", \"Wasserstein\"\n",
    "num_of_texts = 10  # The bigger this number the slower it will run, you can also try selecting your own plays\n",
    "fileids_sp = list(shakespeare_df[:num_of_texts].index)\n",
    "corpora_sp = list(shakespeare_df[:num_of_texts][\"normalized_tokens\"])\n",
    "super_l = []\n",
    "for p in corpora_sp:\n",
    "    sub_l = []\n",
    "    for q in corpora_sp:\n",
    "        sub_l.append(Divergence(p, q, difference=measure))\n",
    "    super_l.append(sub_l)\n",
    "M = np.array(super_l)\n",
    "fig = plt.figure()\n",
    "div = pandas.DataFrame(M, columns=fileids_sp, index=fileids_sp)\n",
    "ax = sns.heatmap(div)\n",
    "plt.show()"
   ]
  },
  {
   "cell_type": "markdown",
   "metadata": {
    "id": "eNyD10EldtfI"
   },
   "source": [
    "What are \"The Passionate Pilgrim\" and \"The Phoenix and the Turtle\"? Little known \n",
    "poems by Shakespeare that are unsurprisingly hard to classify, as they are so \n",
    "different from everything else he wrote."
   ]
  },
  {
   "cell_type": "markdown",
   "metadata": {
    "id": "hLBEPrEadtfI"
   },
   "source": [
    "## <font color=\"red\">*Exercise 7*</font>\n",
    "\n",
    "<font color=\"red\">Construct cells immediately below this that calculate the KL \n",
    "and $\\chi^2$ divergences, and the KS and Wasserstein distances between four \n",
    "separate corpora, plot these with heatmaps, and then array them in two dimensions \n",
    "with multidimensional scaling as above. What does this reveal about relations \n",
    "between the corpora? Which analysis (and divergence or distribution) distinguishes \n",
    "the authors or documents better?\n",
    "\n",
    "**Stretch**: Calculate the [Jensen-Shannon Divergence](https://en.wikipedia.org/wiki/Jensen–Shannon_divergence) between your four corpora. What is \n",
    "the relationship between the KL and JS divergences?</font>"
   ]
  },
  {
   "cell_type": "code",
   "execution_count": null,
   "metadata": {
    "collapsed": false
   },
   "outputs": [],
   "source": []
  }
 ],
 "metadata": {
  "anaconda-cloud": {},
  "colab": {
   "provenance": []
  },
  "kernelspec": {
   "display_name": "Python 3 (ipykernel)",
   "language": "python",
   "name": "python3"
  },
  "language_info": {
   "codemirror_mode": {
    "name": "ipython",
    "version": 3
   },
   "file_extension": ".py",
   "mimetype": "text/x-python",
   "name": "python",
   "nbconvert_exporter": "python",
   "pygments_lexer": "ipython3",
   "version": "3.8.8"
  }
 },
 "nbformat": 4,
 "nbformat_minor": 0
}
